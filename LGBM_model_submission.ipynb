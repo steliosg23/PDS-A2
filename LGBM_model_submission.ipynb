{
 "cells": [
  {
   "cell_type": "markdown",
   "metadata": {},
   "source": [
    "## Assignement 2\n",
    "### Food Hazard Detection LGBM Model Submission Notebook\n",
    "\n",
    "In this submission, we focus on leveraging a text-based LGBM model to achieve better classification results. Based on benchmark evaluations, the model is trained using the optimal parameters for text-focused tasks and will be applied to predict labels for a new unlabeled dataset. The reasoning behind this approach is as follows:\n",
    "\n",
    "Better Performance with Text: The text-based LGBM model outperforms the title-based model, particularly in hazard-category classification (F1-score of 0.9065).\n",
    "Training with Benchmark Parameters: The model is trained using the parameters of the text-focused model from benchmarks.\n",
    "Prediction on Unlabeled Dataset: The trained model will predict on a new, unlabeled dataset.\n",
    "Product Classification Challenge: While product classification is weak, the text-based model still offers better performance and room for improvement.\n",
    "This text-focused approach maximizes model performance and ensures more accurate predictions for the classification tasks."
   ]
  },
  {
   "cell_type": "markdown",
   "metadata": {},
   "source": [
    "# Training Data Overview"
   ]
  },
  {
   "cell_type": "code",
   "execution_count": 1,
   "metadata": {},
   "outputs": [
    {
     "name": "stdout",
     "output_type": "stream",
     "text": [
      "{'Shape': (5082, 11), 'Columns': ['Unnamed: 0', 'year', 'month', 'day', 'country', 'title', 'text', 'hazard-category', 'product-category', 'hazard', 'product'], 'df Types': Unnamed: 0           int64\n",
      "year                 int64\n",
      "month                int64\n",
      "day                  int64\n",
      "country             object\n",
      "title               object\n",
      "text                object\n",
      "hazard-category     object\n",
      "product-category    object\n",
      "hazard              object\n",
      "product             object\n",
      "dtype: object, 'Missing Values': Unnamed: 0          0\n",
      "year                0\n",
      "month               0\n",
      "day                 0\n",
      "country             0\n",
      "title               0\n",
      "text                0\n",
      "hazard-category     0\n",
      "product-category    0\n",
      "hazard              0\n",
      "product             0\n",
      "dtype: int64}\n"
     ]
    }
   ],
   "source": [
    "import pandas as pd\n",
    "\n",
    "# Load the dataset\n",
    "file_path = r\"C:\\Users\\steli\\OneDrive\\Desktop\\Stelios\\DSAUEB\\Trimester 1\\PDS\\A2\\PDS-A2\\Data\\incidents_train.csv\"\n",
    "df = pd.read_csv(file_path)\n",
    "\n",
    "# Initial inspection of the data\n",
    "data_overview = {\n",
    "    'Shape': df.shape,\n",
    "    'Columns': df.columns.tolist(),\n",
    "    'df Types': df.dtypes,\n",
    "    'Missing Values': df.isnull().sum(),\n",
    "}\n",
    "\n",
    "print(data_overview)\n",
    "# Drop the unnecessary index column\n",
    "df = df.drop(columns=['Unnamed: 0'])\n"
   ]
  },
  {
   "cell_type": "markdown",
   "metadata": {},
   "source": [
    "# Import Necessary Libraries"
   ]
  },
  {
   "cell_type": "code",
   "execution_count": 2,
   "metadata": {},
   "outputs": [],
   "source": [
    "import pandas as pd\n",
    "import lightgbm as lgb\n",
    "from sklearn.compose import ColumnTransformer\n",
    "from sklearn.pipeline import Pipeline\n",
    "from sklearn.preprocessing import OneHotEncoder, StandardScaler\n",
    "from sklearn.feature_extraction.text import TfidfVectorizer\n",
    "from sklearn.model_selection import train_test_split\n",
    "import os\n",
    "from shutil import make_archive\n",
    "import re\n",
    "from nltk.corpus import stopwords\n",
    "import nltk\n"
   ]
  },
  {
   "cell_type": "markdown",
   "metadata": {},
   "source": [
    "# Download NLTK Stopwords\n",
    "\n",
    "Stopwords: Provides a list of common English stopwords to remove from the text during preprocessing."
   ]
  },
  {
   "cell_type": "code",
   "execution_count": 3,
   "metadata": {},
   "outputs": [],
   "source": [
    "# Download stopwords from nltk (if you haven't already)\n",
    "#nltk.download('stopwords')\n",
    "\n",
    "# Get the list of English stopwords\n",
    "stop_words = set(stopwords.words('english'))\n"
   ]
  },
  {
   "cell_type": "markdown",
   "metadata": {},
   "source": [
    "# Define the Function to Clean Text\n",
    "\n",
    "This function cleans the text by:\n",
    "Removing non-alphanumeric characters.\n",
    "Converting text to lowercase.\n",
    "Removing extra spaces.\n",
    "Removing common stopwords using the NLTK stopwords list."
   ]
  },
  {
   "cell_type": "code",
   "execution_count": 4,
   "metadata": {},
   "outputs": [],
   "source": [
    "# Function to clean text (title or text) and remove stopwords\n",
    "def clean_text(text):\n",
    "    # Remove non-alphanumeric characters (excluding spaces)\n",
    "    text = re.sub(r'[^a-zA-Z0-9\\s]', '', text)\n",
    "    # Convert to lowercase\n",
    "    text = text.lower()\n",
    "    # Remove extra spaces\n",
    "    text = ' '.join(text.split())\n",
    "    # Remove stopwords\n",
    "    text = ' '.join([word for word in text.split() if word not in stop_words])\n",
    "    return text\n"
   ]
  },
  {
   "cell_type": "markdown",
   "metadata": {},
   "source": [
    "# Load Data (Train and Test)"
   ]
  },
  {
   "cell_type": "code",
   "execution_count": 5,
   "metadata": {},
   "outputs": [],
   "source": [
    "# Load training data (assuming the path is correct for the training data)\n",
    "train_path = r\"C:\\Users\\steli\\OneDrive\\Desktop\\Stelios\\DSAUEB\\Trimester 1\\PDS\\A2\\PDS-A2\\Data\\incidents_train.csv\"\n",
    "train_df = pd.read_csv(train_path, index_col=0)\n",
    "\n",
    "# Load test data (test data will remain uncleaned)\n",
    "test_path = r\"C:\\Users\\steli\\OneDrive\\Desktop\\Stelios\\DSAUEB\\Trimester 1\\PDS\\A2\\PDS-A2\\Data\\validation_data\\incidents.csv\"\n",
    "test_df = pd.read_csv(test_path, index_col=0)\n"
   ]
  },
  {
   "cell_type": "markdown",
   "metadata": {},
   "source": [
    "# Clean Only the 'text' Column in the Train Data"
   ]
  },
  {
   "cell_type": "code",
   "execution_count": 6,
   "metadata": {},
   "outputs": [],
   "source": [
    "# Clean the 'text' column in the training data only\n",
    "train_df['text'] = train_df['text'].apply(clean_text)\n"
   ]
  },
  {
   "cell_type": "markdown",
   "metadata": {},
   "source": [
    "# Define Features and Targets"
   ]
  },
  {
   "cell_type": "code",
   "execution_count": 7,
   "metadata": {},
   "outputs": [],
   "source": [
    "# Define relevant features and targets\n",
    "features = ['year', 'month', 'day', 'country']\n",
    "targets_subtask1 = ['hazard-category', 'product-category']\n",
    "targets_subtask2 = ['hazard', 'product']\n",
    "all_targets = targets_subtask1 + targets_subtask2\n"
   ]
  },
  {
   "cell_type": "markdown",
   "metadata": {},
   "source": [
    "# Prepare Data Function for Test Set (No Cleaning)"
   ]
  },
  {
   "cell_type": "code",
   "execution_count": 8,
   "metadata": {},
   "outputs": [],
   "source": [
    "# Prepare data function for test set\n",
    "def prepare_test_data(text_column):\n",
    "    X = test_df[features + [text_column]]  # Include text for prediction (no cleaning applied)\n",
    "    return X\n"
   ]
  },
  {
   "cell_type": "markdown",
   "metadata": {},
   "source": [
    "# Prepare Data Function for Train Set (With Cleaning)"
   ]
  },
  {
   "cell_type": "code",
   "execution_count": 9,
   "metadata": {},
   "outputs": [],
   "source": [
    "# Prepare data function for train set\n",
    "def prepare_train_data(text_column):\n",
    "    X = train_df[features + [text_column]]  # Include cleaned text for training\n",
    "    return X\n"
   ]
  },
  {
   "cell_type": "markdown",
   "metadata": {},
   "source": [
    "# Define the LightGBM Pipeline"
   ]
  },
  {
   "cell_type": "markdown",
   "metadata": {},
   "source": [
    "- Text Preprocessing: TF-IDF vectorization is used for the text column.\n",
    "- Standard Scaling: The year, month, and day columns are scaled.\n",
    "- Categorical Encoding: The country column is one-hot encoded.\n",
    "- LightGBM Classifier: The pipeline uses the LightGBM classifier with specified parameters (num_leaves=80, learning_rate=0.05, etc.)."
   ]
  },
  {
   "cell_type": "code",
   "execution_count": 10,
   "metadata": {},
   "outputs": [],
   "source": [
    "# Define LightGBM pipeline for text\n",
    "def build_lgb_pipeline_text():\n",
    "    preprocessor = ColumnTransformer(\n",
    "        transformers=[\n",
    "            ('text', TfidfVectorizer(), 'text'),  # Use TF-IDF for text\n",
    "            ('num', StandardScaler(), ['year', 'month', 'day']),\n",
    "            ('cat', OneHotEncoder(handle_unknown='ignore'), ['country'])\n",
    "        ]\n",
    "    )\n",
    "    \n",
    "    # LightGBM classifier\n",
    "    pipeline = Pipeline([\n",
    "        ('preprocessor', preprocessor),\n",
    "        ('classifier', lgb.LGBMClassifier(num_leaves=80, learning_rate=0.05, n_estimators=300, verbose=-1))\n",
    "    ])\n",
    "    return pipeline\n"
   ]
  },
  {
   "cell_type": "markdown",
   "metadata": {},
   "source": [
    "# Train a Model for Each Target"
   ]
  },
  {
   "cell_type": "markdown",
   "metadata": {},
   "source": [
    "- train_lgb_model_for_target: For each target, the model is trained using the specified features and target.\n",
    "- train_test_split: Splits the data into training and testing sets (80/20).\n",
    "- Model Training: The model is trained using the train_df data."
   ]
  },
  {
   "cell_type": "code",
   "execution_count": 11,
   "metadata": {},
   "outputs": [],
   "source": [
    "# Train a model for each target\n",
    "def train_lgb_model_for_target(target):\n",
    "    text_pipeline = build_lgb_pipeline_text()\n",
    "    \n",
    "    # Split the data for training (use only the current target for y_train)\n",
    "    X_train, _, y_train, _ = train_test_split(\n",
    "        train_df[features + ['text']],  # Features\n",
    "        train_df[target],  # Target for this specific task\n",
    "        test_size=0.2, random_state=42\n",
    "    )\n",
    "\n",
    "    text_pipeline.fit(X_train, y_train)\n",
    "    return text_pipeline\n"
   ]
  },
  {
   "cell_type": "markdown",
   "metadata": {},
   "source": [
    "# Make Predictions for Each Target"
   ]
  },
  {
   "cell_type": "markdown",
   "metadata": {},
   "source": [
    "- make_predictions_for_target: This function uses the trained pipeline to make predictions on the test data."
   ]
  },
  {
   "cell_type": "code",
   "execution_count": 12,
   "metadata": {},
   "outputs": [],
   "source": [
    "# Make predictions on the test data\n",
    "def make_predictions_for_target(pipeline, X_test):\n",
    "    return pipeline.predict(X_test)\n"
   ]
  },
  {
   "cell_type": "markdown",
   "metadata": {},
   "source": [
    "# Prepare Train and Test Data"
   ]
  },
  {
   "cell_type": "markdown",
   "metadata": {},
   "source": [
    "- train_X: Prepares the cleaned training data.\n",
    "- test_X: Prepares the test data (no cleaning).\n",
    "- Training and Predictions: For each target, the model is trained, and predictions are made on the test data."
   ]
  },
  {
   "cell_type": "code",
   "execution_count": 13,
   "metadata": {},
   "outputs": [],
   "source": [
    "# Prepare train and test data\n",
    "train_X = prepare_train_data('text')  # Cleaned train data\n",
    "test_X = prepare_test_data('text')  # Test data (no cleaning)\n"
   ]
  },
  {
   "cell_type": "markdown",
   "metadata": {},
   "source": [
    "# Train Models and Make Predictions for Each Target"
   ]
  },
  {
   "cell_type": "code",
   "execution_count": null,
   "metadata": {},
   "outputs": [
    {
     "name": "stdout",
     "output_type": "stream",
     "text": [
      "Training and predicting for hazard-category...\n"
     ]
    }
   ],
   "source": [
    "# Initialize a DataFrame to store all predictions\n",
    "predictions_df = pd.DataFrame()\n",
    "\n",
    "# Train models and make predictions for each target\n",
    "for target in all_targets:\n",
    "    print(f\"Training and predicting for {target}...\")\n",
    "    \n",
    "    # Train a separate model for each target\n",
    "    target_pipeline = train_lgb_model_for_target(target)\n",
    "    \n",
    "    # Make predictions for the test set\n",
    "    predictions_df[target] = make_predictions_for_target(target_pipeline, test_X)\n"
   ]
  },
  {
   "cell_type": "markdown",
   "metadata": {},
   "source": [
    "# Save Predictions and Create Zip Archive"
   ]
  },
  {
   "cell_type": "code",
   "execution_count": null,
   "metadata": {},
   "outputs": [],
   "source": [
    "# Step 2: Save predictions to a new folder\n",
    "os.makedirs('./submissions/submission_v3', exist_ok=True)\n",
    "predictions_df.to_csv('./submission_v3/submission.csv', index=False)\n",
    "\n",
    "# Step 3: Zip the folder for submission\n",
    "make_archive('./submission_v3', 'zip', './submission_v3')\n",
    "\n",
    "print(\"Predictions and submission.zip created successfully.\")\n"
   ]
  },
  {
   "cell_type": "code",
   "execution_count": null,
   "metadata": {},
   "outputs": [],
   "source": [
    "predictions_df"
   ]
  },
  {
   "cell_type": "code",
   "execution_count": null,
   "metadata": {},
   "outputs": [],
   "source": []
  }
 ],
 "metadata": {
  "kernelspec": {
   "display_name": "Python 3",
   "language": "python",
   "name": "python3"
  },
  "language_info": {
   "codemirror_mode": {
    "name": "ipython",
    "version": 3
   },
   "file_extension": ".py",
   "mimetype": "text/x-python",
   "name": "python",
   "nbconvert_exporter": "python",
   "pygments_lexer": "ipython3",
   "version": "3.12.2"
  }
 },
 "nbformat": 4,
 "nbformat_minor": 2
}
