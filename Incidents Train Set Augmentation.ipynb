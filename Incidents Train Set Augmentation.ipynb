{
  "nbformat": 4,
  "nbformat_minor": 0,
  "metadata": {
    "colab": {
      "provenance": [],
      "gpuType": "A100",
      "authorship_tag": "ABX9TyM9Yw48RylyGkUPQbeHf639",
      "include_colab_link": true
    },
    "kernelspec": {
      "name": "python3",
      "display_name": "Python 3"
    },
    "language_info": {
      "name": "python"
    },
    "accelerator": "GPU"
  },
  "cells": [
    {
      "cell_type": "markdown",
      "metadata": {
        "id": "view-in-github",
        "colab_type": "text"
      },
      "source": [
        "<a href=\"https://colab.research.google.com/github/steliosg23/PDS-A2/blob/main/Incidents%20Train%20Set%20Augmentation.ipynb\" target=\"_parent\"><img src=\"https://colab.research.google.com/assets/colab-badge.svg\" alt=\"Open In Colab\"/></a>"
      ]
    },
    {
      "cell_type": "markdown",
      "source": [
        "# Mount Google Drive\n"
      ],
      "metadata": {
        "id": "-sgoRH3J-tmP"
      }
    },
    {
      "cell_type": "code",
      "source": [
        "from google.colab import drive\n",
        "drive.mount('/content/drive')\n"
      ],
      "metadata": {
        "colab": {
          "base_uri": "https://localhost:8080/"
        },
        "id": "n2rzoW3m-uvi",
        "outputId": "fc56e3e9-78e4-43af-c47d-a549f9052036"
      },
      "execution_count": 1,
      "outputs": [
        {
          "output_type": "stream",
          "name": "stdout",
          "text": [
            "Mounted at /content/drive\n"
          ]
        }
      ]
    },
    {
      "cell_type": "markdown",
      "source": [
        "# Import Required Libraries\n",
        "This cell imports the libraries necessary for the project:\n",
        "- `pandas`: For data manipulation and analysis.\n",
        "- `Counter` from `collections`: To count occurrences of hazard and product classes.\n",
        "- `MarianMTModel` and `MarianTokenizer` from `transformers`: For translation models used in back-translation.\n",
        "- `wordnet` from `nltk`: For obtaining synonyms of words.\n",
        "- `torch`: For GPU support and managing computations.\n",
        "- `random`: For random operations in augmentations.\n",
        "- `nltk`: For natural language processing tasks.\n"
      ],
      "metadata": {
        "id": "Pa7iLTSb-9jB"
      }
    },
    {
      "cell_type": "code",
      "source": [
        "import pandas as pd\n",
        "from collections import Counter\n",
        "from transformers import MarianMTModel, MarianTokenizer\n",
        "from nltk.corpus import wordnet\n",
        "import torch\n",
        "import random\n",
        "import nltk\n"
      ],
      "metadata": {
        "id": "bSqlc0P4_Bpb"
      },
      "execution_count": 2,
      "outputs": []
    },
    {
      "cell_type": "markdown",
      "source": [
        "# Download NLTK WordNet\n",
        "The WordNet lexical database is required to find synonyms during text augmentation. This step ensures it's downloaded and ready for use.\n"
      ],
      "metadata": {
        "id": "v-vmU5xe_Esk"
      }
    },
    {
      "cell_type": "code",
      "source": [
        "nltk.download('wordnet')\n"
      ],
      "metadata": {
        "colab": {
          "base_uri": "https://localhost:8080/"
        },
        "id": "BxNGiRUo_Fjt",
        "outputId": "512d30ab-bd36-4049-e4d5-02de008c55c7"
      },
      "execution_count": 3,
      "outputs": [
        {
          "output_type": "stream",
          "name": "stderr",
          "text": [
            "[nltk_data] Downloading package wordnet to /root/nltk_data...\n"
          ]
        },
        {
          "output_type": "execute_result",
          "data": {
            "text/plain": [
              "True"
            ]
          },
          "metadata": {},
          "execution_count": 3
        }
      ]
    },
    {
      "cell_type": "markdown",
      "source": [
        "# Check if GPU Support is Available\n",
        "This step checks whether a GPU is available and sets the device accordingly. If a GPU is available, it will be used for computations to speed up model processing.\n"
      ],
      "metadata": {
        "id": "sY3fSAgF_IPr"
      }
    },
    {
      "cell_type": "code",
      "source": [
        "device = torch.device('cuda' if torch.cuda.is_available() else 'cpu')\n"
      ],
      "metadata": {
        "id": "BbfRKhWp_JWr"
      },
      "execution_count": 4,
      "outputs": []
    },
    {
      "cell_type": "markdown",
      "source": [
        "# Load the Dataset\n",
        "The dataset is loaded from your Google Drive into a Pandas DataFrame for analysis. The file path is specified, and the dataset is assumed to be in CSV format.\n"
      ],
      "metadata": {
        "id": "xLcHvYD3_Uz1"
      }
    },
    {
      "cell_type": "code",
      "source": [
        "file_path = '/content/drive/MyDrive/Data/incidents_train.csv'\n",
        "df = pd.read_csv(file_path)\n"
      ],
      "metadata": {
        "id": "Gu0tdQK5_WJ2"
      },
      "execution_count": 5,
      "outputs": []
    },
    {
      "cell_type": "markdown",
      "source": [
        "# Analyze Class Imbalance\n",
        "This step computes the frequency of each class in the `hazard` and `product` columns to identify underrepresented classes. These will be used for targeted data augmentation.\n"
      ],
      "metadata": {
        "id": "90e4qyWv_X3r"
      }
    },
    {
      "cell_type": "code",
      "source": [
        "hazard_counts = Counter(df['hazard'])\n",
        "product_counts = Counter(df['product'])\n",
        "\n",
        "threshold = min(hazard_counts.values())\n",
        "\n",
        "underrepresented_hazards = [h for h, count in hazard_counts.items() if count < threshold]\n",
        "underrepresented_products = [p for p, count in product_counts.items() if count < threshold]\n",
        "print(\"Underrepresented Hazards:\", underrepresented_hazards)\n",
        "print(\"Underrepresented Products:\", underrepresented_products)"
      ],
      "metadata": {
        "colab": {
          "base_uri": "https://localhost:8080/"
        },
        "id": "o8l4o1Z4_awY",
        "outputId": "e2da82b9-6b85-4fc0-e69c-ca280482487b"
      },
      "execution_count": 7,
      "outputs": [
        {
          "output_type": "stream",
          "name": "stdout",
          "text": [
            "Underrepresented Hazards: []\n",
            "Underrepresented Products: ['ham slices', 'beef stewed', 'dry sausage', 'rum', 'whisky', 'anchovy paste', 'chillies', 'chocolate and hazelnut spread', 'eggplants', 'hazelnuts', 'chocolate mousse', 'bolognese sauce', 'animal by-products', 'cheesy spirals', 'orange juice', 'nacho chips', 'pork pie', 'anchovies in oil', 'cottage cheese', 'pork fillets', 'fruit bars', 'fruit snacks', 'cheese sausages', 'dried fruits', 'pickled cucumber', 'grated cheese', 'frozen pie', 'veal meat and offals', 'oyster sauce', 'rice noodles', 'french toast', 'dried anchovies', 'frozen beef tongue', 'frozen hamburgers', 'pork and beef sausages', 'chocolate mini muffins', 'crushed red pepper', 'shrimp snacks', 'melons', 'tomatoes', 'fish sauce', 'nutmeg', 'tuna salad', 'frozen whole fish', 'structured/textured fish meat products or fish paste', 'frozen seafood', 'spinach', 'pine nuts', 'various beef products', 'diced beef', 'frozen pancakes', 'various poultry meat', 'dried pork sausages', 'other food product / mixed', 'pork shoulder - fresh', 'margarine', 'grilled seasoned chicken plate', 'meat samosas, vegetable samosas, chicken samosas and meat spring rolls', 'papaya', 'sorbets', 'chilled dumplings with meat', 'nut mixture', 'chocolate drink powder', 'frozen poultry meat', 'canned chicken', 'meat-salad', 'turkey sandwich', 'almond kernels', 'ground hot pepper', 'mussels', 'beef tongue', 'preserved red bean curd', 'minced chicken', 'frozen beef lasagne', 'ginger slices', 'soy bean paste', 'almond powder', 'frozen seasoned potato wedges', 'tea drink', 'iced tea', 'chilled lasagne', 'fajita meal', 'plums', 'fresh poultry and poultry prepations', 'prepared dish with chicken', 'prosciutto', 'frozen marinated chicken', 'chilled bengali cod curry', 'mechanically separated chicken meat', 'various ready-to-eat meat products', 'unpasteurised cheese', 'chicken fillets', 'black caviar', 'chicken meat meal', 'pickled gherkins in glass jar', 'snack mixture', 'organic tofu', 'lentils stew', 'plum bread &amp; butter pudding', 'chicken drumsticks', 'baguettes', 'various chicken meat products', 'white lasagna sauce', 'milk drink', 'chocolate drinks', 'garlic sausage', 'chilled pork sausages', 'nuts mix', 'various chilled or frozen pork products', 'mixed spices', 'grapes', 'chilled chicken wings', 'dried brown beans', 'brown beans', 'tapioca chips', 'vegetable preparation', 'syrup', 'mineral water', 'seafood cocktail', 'frozen pork meat', 'canned artichoke hearts', 'baby foods', 'seafood products', 'carbonated  water', 'hot chilli and hot chilli products', 'frozen boneless beef', 'ground almonds', 'pork shoulder', 'fruit juice smoothie', 'seed mixe', 'various snacks', 'chicken steak without bone', 'salami sausage', 'goji berries', 'chilled pork', 'soybean', 'boneless beef', 'pork belly', 'luncheon meat', 'pear juice', 'chocolate and strawberry flavoured cyclone milk', 'fresh beef meat', 'goat meat', 'carcasses of veal', 'chicken slices', 'dipping sauce', 'paprika', 'ready-to-eat seafood sticks', 'veal meat', 'organic chlorella powder', 'ricotta and spinach tortelloni pasta', 'unsalted organic crunchy peanut butter', 'dry ham', 'yogurt raisins', 'spaghetti sauce', 'parmesan cheese', 'frozen beef trimmings', 'flavoured drinks', 'seaweed preparations', 'meat preparations', 'beef tenderloin cuts', 'fats and oils', 'gravy granules', 'sushi', 'chilled chicken', 'sheep milk cheese', 'cheese tray', 'sparkling beverages', 'pickled peppers', 'flavours', 'tasty trio condiment selection', 'nut and fruit mixture', 'chilled boneless pork meat', 'poultry meat', 'lupin seeds', 'deboned chicken thighs', 'curry paste', 'semolina and products therefor', 'vegetable crispbakes', 'cured smoked ham', 'after dinner mints', 'powder seasoning', 'frozen bourbon ribs', 'marzipan', 'flavoured milk', 'spice mixture', 'fresh beef', 'bread crumb', 'various prepared dishes', 'vanilla powder', 'fresh cut vegetables', 'camembert', 'chocolate flavoured meringues', 'meal replacement', 'nuts and nuts products', 'swiss rolls', 'fruit salad with cantaloupe', 'nutrition shake', 'dietary capsules', 'chocolate confectionery', 'assorted bread roll selection', 'apples', 'chilled beef preparations', 'herbal tea', 'honeycomb', 'green tea', 'cooked meat products', 'frozen potatoes', 'frozen green beans', 'flavoured potato chips', 'frozen fried rice', 'orange peppers', 'mung bean sprouts', 'chilli', 'crisp cheese snack', 'flavoured fresh and creamy cheese spread', 'sweet nut snack', 'nut and raisin mix', 'flavoured whey protein preparations', 'wheat snack', 'sunflower oil', 'other fruit and vegetable juice products', 'indian curry', 'vitamins supplement', 'biscuit mix', 'chilli peppers', 'pickled figs, cherries, pears and walnuts', 'roasted and caramelized peanuts', 'pork carcass(es)', 'boar', 'raw beef meat and raw beef meat preparations', 'ground turmeric', 'green bean', 'refreshments', 'scallops', 'lemonade (lemon soda)', 'chickpeas', 'chilled ready to eat salad and side dishes', 'chilled smoked ham', 'peas', 'frozen raw ground beef', 'flavoured soft drink', 'lemons', 'breakfast cereals for babies', 'seasoning mix', 'pickled ginger', 'dried pangash', 'masala spice mix', 'egg rolls', 'Dried pork meat', 'carps, barbels and other cyprinids', 'turnip leaves in sunflower seed oil', 'bread mix', 'crepe mix', 'chocolate dessert', 'rice meal', 'tortilla chips cheese', 'pastry tartlets', 'chilled pork ribs', 'frozen vegetables mix', 'dried lilies', 'breakfast cereals and products therefor', 'cream chocolate pie', 'baby food pouches', 'concentrated apples', 'wheat', 'soya and products therefor', 'cheese - made from raw milk', 'chocolate easter eggs with filling', 'vitamins', 'thyme', 'spicy tomato sauce', 'parmesan cheese grated', 'cod fillets', 'semi-hard cheeses', 'whole chicken', 'liquorice', 'white cheese', 'meat broth', 'cheese burgers', 'frozen poultry preparations', 'bovine fat', 'dried fruit mix', 'salted radish', 'soy milk product', 'hot chicken wings', 'ready to eat meat product', 'cranberry jam', 'soya drink', 'cooked chicken skewer', 'sugar confectionary', 'batter mix', 'peppers', 'bean paste', 'organic dates', 'lentils', 'vodka', 'fruit punch', 'dried chilli peppers', 'chilled chicken thighs', 'sandwich filling', 'apple cake', 'chilli pickle', 'tarragon', 'bean snack', 'soy yoghurt', 'brioche', 'roasted nuts', 'squids', 'drinking chocolate powder', 'shark', 'sliced bread', 'pork loins - frozen', 'cous cous', 'adobo seasoning', 'confectionery for decoration', 'crustaceans and products thereof', 'cinnamon rolls', 'fresh apples', 'frozen grated coconut', 'fresh pork loin', 'rice sticks', 'green pesto basil sauce', 'rice flour', 'turnips', 'cattle from which the milk was used to produce raw milk cheese', 'fresh pork leg', 'sesame confection', 'white chocolate', 'gnocchi', 'lokoum', 'squid', 'cardamom seeds', 'amaranth', 'cardamon seeds', 'vacuum packed beef', 'frozen marinated beef', 'beef burrito', 'organic coconut flour', 'white mould cheese', 'potato croquettes', 'pomegranate', 'frozen strawberry', 'soft ripened cheese', 'herbal premix', 'canned spinach', 'pork meat', 'green basil pesto', 'nut-almond mixture', 'colours', 'raw milk cheese reblochon', 'tilapia', 'pecorino cheese', 'porcine lard', 'radish', 'vacuum packed marinated pork', 'organic figs', 'frozen berries mix', 'brussel sprouts', 'brown mushrooms', 'vegetable cheese', 'cheese tortilla', 'fresh broccoli', 'rice cereal for children', 'raw pork meat and raw pork meat preparations', 'chocolate truffles', 'fresh lychees', 'frozen spring rolls', 'meat loaf', 'spinach leaves', 'rolls', 'chilled vacuum packed beef', 'jerky products', 'puffed rice', 'vegetable based products', 'chocolate flavoured cereals', 'loose smoked whole chickens', 'pasteurized cow milk cheese', 'salted anchovies', 'hot dog sausages', 'asparagus', 'goat milk', 'cherries', 'red pesto', \"raw cow's milk cheese\", 'dried garlic', 'baklava', 'chilli oil', 'lemon juice', 'vanilla drink', 'orange sugar paste', 'fresh dough', 'frozen burgers', 'spicy chicken skewers', 'red chili', 'red chilli', 'millet porridge', 'fermented milk product', \"brewer's yeast\", 'hard cheese', 'water for infants', 'appetizers', 'table water', 'frozen pork ribs', 'broths', 'filled chocolate', 'organic tea', 'scones', 'frozen sausage rolls', 'frozen sliced coconut', 'pea shoots', 'tiger nuts', 'frozen chicken', 'frozen chicken strips with tendons', 'dried beans', 'frozen fish products', 'pickled beetroot', 'mixed nuts', 'Torpedo-shaped catfishes (generic)', 'protein bars', 'instant drink/drinking powder', 'dried herb powder ashwagandha (withania somnifera)', 'frozen poultry', 'vegetable broth', 'frozen sausages', 'raw milk cheese', 'sultanas', 'frozen cod fillets', 'chocolate spelt balls', 'gouda cheese', 'rice flakes', 'cereal bars with chocolate', 'edam cheese', 'white mustard seeds', 'canned mussels', 'frozen burger buns', 'blackberries', 'pears', 'frozen diced chicken roast', 'frozen breaded turkey', 'testosterone booster', 'gouda', 'dried sausage', 'canned crab meat in brine', 'seasonings', 'waxberry', 'soya product', 'horses', 'egg salad with ham', 'eggs and egg products', 'nougat', 'ices and desserts', 'oregano', 'pesto sauce (pesto verde)', 'peppermint', 'mozzarella', 'coconut sugar', 'various fish products', 'cuttlefish', 'dried fruit in jars', 'courgettes', 'starch', 'vegetable burger', 'nut bars', 'cola drink', 'frozen pork trimmings', 'table water and soda water', 'cranberry juice', 'mineral waters', 'seasoned chicken', 'massala spice mixture', 'assortment of filled chocolates', 'soda drink', 'pickled grape leaves', 'bamboo shoots', 'nut mix', 'cereal drink', 'bamboo', 'brown rice', 'tortilla products', 'frozen fish burgers', 'mixed salad', 'spice marinade', 'limes', 'cultivated fungi', 'green raisins', 'grated cheese mixture', 'buffalo milk mozzarella cheese', 'spicy sauce', 'sweeteners', 'watermelons', 'seasoning sauce', 'dried apples', 'garlic pickle', 'varnishes and coatings', 'flounders, halibuts, soles', 'chilli paste', 'dried elder berries', 'ketchup', 'white beans', 'blackcurrant drink concentrate', 'curry sauces', 'seeds mix', 'non-alcoholic beer', 'curd cheese', 'cheese - melted', 'chilled beef', 'parsnip', 'chocolate and products therefor', 'boletus mushrooms, stems and pieces', 'crispbread', 'sesame oil', 'white bread flour', 'mix of nuts', 'foie gras', 'seeds mixture', 'Groupers (generic)', 'tallegio (cheese)', 'vegetables', 'multi vitamin food supplement', 'yellow peas', 'sesame seed oil', 'tortilla', 'beef tallow', 'dried fruits with chocolate', 'milk and milk products', 'instant cereal', 'sprinkles', 'fresh goat cheese', 'frozen peppers', 'apricots', 'nuts, nut products and seeds', 'ginseng powder', 'dried almonds', 'vinegar', 'roasted coffee', 'canned black beans', 'ice sticks', 'golden enoki mushrooms', 'goat cheese made from raw milk', \"raw milk goat's cheese\", 'cheese (taleggio capriolo)', 'pickled radish', 'chocolate spread', 'weight loss coffee', 'soy products', 'cottage pie', 'high protein bars', 'egg products', 'lobster', 'dried shitake mushrooms (lentinula edodes)', 'natural honey', 'gingerbread', 'burrata', 'frozen spicy chicken wings', 'protein supplements', 'carbonated/sparkling water', 'taco sauce', 'broccoli mix', 'spicy tofu', 'bloody mary beverage mix', 'hemp tea', 'cured loin', 'bilberry extract used in a food supplement', 'dried shrimp noodles', 'fresh parsley', 'frozen lobster', 'prepared dish containing prawns', 'various vegetable preparations', 'prebaked apple pies', 'frozen cooked lobster meat', 'moussaka', 'long grain rice', 'canned fish products', 'octopus', 'organic chilled hummus', 'cocktail sausage rolls', 'mint chocolate', 'smoothie', 'ready cooked sliced chicken tikka breast', 'herbs', 'minced beef meat', 'sichuan pepper', 'frozen vegetarian cutlet', 'soft cheese (creams)', 'vacuum packed pork ear roll', 'pepperoni', 'turbot flatfish (psetta maxima)', 'tea bags', 'allspice', 'cereals and bakery products', 'frozen spinach', 'ground black pepper', 'sauerkraut meal', 'hemp oil', 'beetroots', 'bananas', 'organic coconut oil', 'quorn preparation', 'saint marcelin cheese', 'beverage base of non-fruit origin, liquid', 'rice vermicelli', 'drink powder', 'vegetable snack', 'balsamic', 'vacuum packed sliced ham', 'rice balls', 'dried strawberries', 'frozen prepared dish of chicken tikka masala with pilau rice', 'lime', 'cantaloupe (fresh)', 'cheese flavoured snacks', 'soups, broths, sauces and condiments', 'blue poppy seeds', 'french beans / green beans', 'sheep cheese', 'canned meat stew', 'prawn crackers', 'liquid food supplement', 'sprinkle mix', 'chocolate spread with hazelnuts', 'frozen leek', 'soups', 'bovine meat and offal', 'ramen noodles']\n"
          ]
        }
      ]
    },
    {
      "cell_type": "markdown",
      "source": [
        "# Define Functions to Load Translation Models\n",
        "This function loads MarianMT translation models for a given language pair (e.g., English to French and back to English). The models are downloaded and moved to the specified device (CPU or GPU).\n"
      ],
      "metadata": {
        "id": "_y2ztBns_mUy"
      }
    },
    {
      "cell_type": "code",
      "source": [
        "def load_translation_models(source_lang=\"en\", target_lang=\"fr\"):\n",
        "    model_name = f\"Helsinki-NLP/opus-mt-{source_lang}-{target_lang}\"\n",
        "    tokenizer = MarianTokenizer.from_pretrained(model_name)\n",
        "    model = MarianMTModel.from_pretrained(model_name).to(device)\n",
        "\n",
        "    reverse_model_name = f\"Helsinki-NLP/opus-mt-{target_lang}-{source_lang}\"\n",
        "    reverse_tokenizer = MarianTokenizer.from_pretrained(reverse_model_name)\n",
        "    reverse_model = MarianMTModel.from_pretrained(reverse_model_name).to(device)\n",
        "\n",
        "    return (tokenizer, model), (reverse_tokenizer, reverse_model)\n"
      ],
      "metadata": {
        "id": "Dq_QWLNq_n2C"
      },
      "execution_count": 8,
      "outputs": []
    },
    {
      "cell_type": "markdown",
      "source": [
        "# Back-Translation Function\n",
        "This function performs back-translation in batches, translating the text to a target language and back to the source language to generate augmented data.\n"
      ],
      "metadata": {
        "id": "IvUTVfUU_qI_"
      }
    },
    {
      "cell_type": "code",
      "source": [
        "def back_translation_batch(texts, lang_pair=(\"en\", \"fr\"), batch_size=32):\n",
        "    (src_tokenizer, src_model), (tgt_tokenizer, tgt_model) = load_translation_models(*lang_pair)\n",
        "\n",
        "    augmented_texts = []\n",
        "    for i in range(0, len(texts), batch_size):\n",
        "        batch = texts[i:i+batch_size]\n",
        "        inputs = src_tokenizer(batch, return_tensors=\"pt\", max_length=512, truncation=True, padding=True).to(device)\n",
        "        translated = src_model.generate(**inputs)\n",
        "        translated_texts = [src_tokenizer.decode(t, skip_special_tokens=True) for t in translated]\n",
        "\n",
        "        back_inputs = tgt_tokenizer(translated_texts, return_tensors=\"pt\", max_length=512, truncation=True, padding=True).to(device)\n",
        "        back_translated = tgt_model.generate(**back_inputs)\n",
        "        augmented_texts.extend([tgt_tokenizer.decode(bt, skip_special_tokens=True) for bt in back_translated])\n",
        "    return augmented_texts\n"
      ],
      "metadata": {
        "id": "dpxgFWmZ_q9v"
      },
      "execution_count": 9,
      "outputs": []
    },
    {
      "cell_type": "markdown",
      "source": [
        "# Text Augmentation Functions\n",
        "These functions apply various text augmentation techniques to generate new text samples:\n",
        "1. **Synonym Replacement**: Replaces words with their synonyms.\n",
        "2. **Random Insertion**: Inserts synonyms of random words at random positions.\n",
        "3. **Random Swap**: Swaps two random words in the text.\n",
        "4. **Random Deletion**: Deletes words from the text with a specified probability.\n"
      ],
      "metadata": {
        "id": "vegeezZJ_uko"
      }
    },
    {
      "cell_type": "code",
      "source": [
        "def synonym_replacement(text, n=2):\n",
        "    words = text.split()\n",
        "    new_words = words.copy()\n",
        "    random_word_list = list(set([word for word in words if wordnet.synsets(word)]))\n",
        "    random.shuffle(random_word_list)\n",
        "    num_replaced = 0\n",
        "    for random_word in random_word_list:\n",
        "        synonyms = wordnet.synsets(random_word)\n",
        "        if synonyms:\n",
        "            synonym = synonyms[0].lemmas()[0].name()\n",
        "            new_words = [synonym if word == random_word else word for word in new_words]\n",
        "            num_replaced += 1\n",
        "        if num_replaced >= n:\n",
        "            break\n",
        "    return ' '.join(new_words)\n",
        "\n",
        "def random_insertion(text, n=2):\n",
        "    words = text.split()\n",
        "    for _ in range(n):\n",
        "        synonyms = []\n",
        "        while len(synonyms) < 1:\n",
        "            random_word = random.choice(words)\n",
        "            synonyms = wordnet.synsets(random_word)\n",
        "        synonym = synonyms[0].lemmas()[0].name()\n",
        "        random_idx = random.randint(0, len(words))\n",
        "        words.insert(random_idx, synonym)\n",
        "    return ' '.join(words)\n",
        "\n",
        "def random_swap(text, n=2):\n",
        "    words = text.split()\n",
        "    for _ in range(n):\n",
        "        idx1, idx2 = random.sample(range(len(words)), 2)\n",
        "        words[idx1], words[idx2] = words[idx2], words[idx1]\n",
        "    return ' '.join(words)\n",
        "\n",
        "def random_deletion(text, p=0.2):\n",
        "    words = text.split()\n",
        "    if len(words) == 1:\n",
        "        return text\n",
        "    remaining_words = [word for word in words if random.uniform(0, 1) > p]\n",
        "    return ' '.join(remaining_words) if remaining_words else random.choice(words)\n"
      ],
      "metadata": {
        "id": "-pm5V5xy_x-h"
      },
      "execution_count": 10,
      "outputs": []
    },
    {
      "cell_type": "markdown",
      "source": [
        "# Apply Augmentation to All Rows\n",
        "This function applies all augmentation techniques to a batch of rows. It uses back-translation and other techniques like synonym replacement, random insertion, swapping, and deletion.\n"
      ],
      "metadata": {
        "id": "NFqkUqju_0Qw"
      }
    },
    {
      "cell_type": "code",
      "source": [
        "def augment_all_techniques_batch(rows, batch_size=32):\n",
        "    texts = [row['text'] for _, row in rows.iterrows()]\n",
        "    augmented_rows = []\n",
        "\n",
        "    # Back Translation in batches\n",
        "    back_translated_texts = back_translation_batch(texts, lang_pair=(\"en\", \"fr\"), batch_size=batch_size)\n",
        "    for i, text in enumerate(texts):\n",
        "        augmented_rows.append({**rows.iloc[i], 'text': back_translated_texts[i]})\n",
        "\n",
        "    # Other augmentations for each row\n",
        "    for _, row in rows.iterrows():\n",
        "        augmented_rows.append({**row, 'text': synonym_replacement(row['text'])})\n",
        "        augmented_rows.append({**row, 'text': random_insertion(row['text'])})\n",
        "        augmented_rows.append({**row, 'text': random_swap(row['text'])})\n",
        "        augmented_rows.append({**row, 'text': random_deletion(row['text'])})\n",
        "\n",
        "    return augmented_rows\n"
      ],
      "metadata": {
        "id": "-tJHgUVx_1qe"
      },
      "execution_count": 11,
      "outputs": []
    },
    {
      "cell_type": "markdown",
      "source": [
        "# Perform Data Augmentation for Underrepresented Classes\n",
        "This loop augments rows for underrepresented `hazard` and `product` classes until the dataset is balanced.\n"
      ],
      "metadata": {
        "id": "1FKgGla8_3vt"
      }
    },
    {
      "cell_type": "code",
      "source": [
        "augmented_rows = []\n",
        "target_rows = len(df) * 2\n",
        "\n",
        "while len(df) + len(augmented_rows) < target_rows:\n",
        "    for hazard in underrepresented_hazards:\n",
        "        rows = df[df['hazard'] == hazard]\n",
        "        augmented_rows.extend(augment_all_techniques_batch(rows))\n",
        "\n",
        "    for product in underrepresented_products:\n",
        "        rows = df[df['product'] == product]\n",
        "        augmented_rows.extend(augment_all_techniques_batch(rows))\n",
        "\n",
        "    if len(df) + len(augmented_rows) >= target_rows:\n",
        "        break\n"
      ],
      "metadata": {
        "id": "Z8ejUXNl_50v"
      },
      "execution_count": null,
      "outputs": []
    },
    {
      "cell_type": "markdown",
      "source": [
        "# Combine Original and Augmented Data\n",
        "This final step combines the original dataset with the augmented rows to create a balanced dataset.\n"
      ],
      "metadata": {
        "id": "AZN-Nxjs_-xu"
      }
    },
    {
      "cell_type": "code",
      "source": [
        "augmented_df = pd.DataFrame(augmented_rows[:target_rows - len(df)])\n",
        "balanced_df = pd.concat([df, augmented_df], ignore_index=True)\n",
        "\n",
        "# Save the new DataFrame\n",
        "balanced_df.to_csv('/content/drive/MyDrive/Data/augmented_incidents_train.csv', index=False)\n",
        "\n",
        "# Display first few rows of the balanced DataFrame\n",
        "balanced_df.head()"
      ],
      "metadata": {
        "colab": {
          "base_uri": "https://localhost:8080/",
          "height": 310
        },
        "id": "w5hp5qFa8JAV",
        "outputId": "756804da-4dce-4171-9f4c-7a83bcf1f1ce"
      },
      "execution_count": null,
      "outputs": [
        {
          "output_type": "execute_result",
          "data": {
            "text/plain": [
              "   Unnamed: 0  year  month  day country                             title  \\\n",
              "0           0  1994      1    7      us  Recall Notification: FSIS-024-94   \n",
              "1           1  1994      3   10      us  Recall Notification: FSIS-033-94   \n",
              "2           2  1994      3   28      us  Recall Notification: FSIS-014-94   \n",
              "3           3  1994      4    3      us  Recall Notification: FSIS-009-94   \n",
              "4           4  1994      7    1      us  Recall Notification: FSIS-001-94   \n",
              "\n",
              "                                                text hazard-category  \\\n",
              "0  Case Number: 024-94   \\n            Date Opene...      biological   \n",
              "1  Case Number: 033-94   \\n            Date Opene...      biological   \n",
              "2  Case Number: 014-94   \\n            Date Opene...      biological   \n",
              "3  Case Number: 009-94   \\n            Date Opene...  foreign bodies   \n",
              "4  Case Number: 001-94   \\n            Date Opene...  foreign bodies   \n",
              "\n",
              "               product-category                  hazard  \\\n",
              "0  meat, egg and dairy products  listeria monocytogenes   \n",
              "1  meat, egg and dairy products            listeria spp   \n",
              "2  meat, egg and dairy products  listeria monocytogenes   \n",
              "3  meat, egg and dairy products        plastic fragment   \n",
              "4  meat, egg and dairy products        plastic fragment   \n",
              "\n",
              "                       product  \n",
              "0               smoked sausage  \n",
              "1                      sausage  \n",
              "2                   ham slices  \n",
              "3  thermal processed pork meat  \n",
              "4               chicken breast  "
            ],
            "text/html": [
              "\n",
              "  <div id=\"df-994b3cef-d174-47c5-97ad-d3bab85a3649\" class=\"colab-df-container\">\n",
              "    <div>\n",
              "<style scoped>\n",
              "    .dataframe tbody tr th:only-of-type {\n",
              "        vertical-align: middle;\n",
              "    }\n",
              "\n",
              "    .dataframe tbody tr th {\n",
              "        vertical-align: top;\n",
              "    }\n",
              "\n",
              "    .dataframe thead th {\n",
              "        text-align: right;\n",
              "    }\n",
              "</style>\n",
              "<table border=\"1\" class=\"dataframe\">\n",
              "  <thead>\n",
              "    <tr style=\"text-align: right;\">\n",
              "      <th></th>\n",
              "      <th>Unnamed: 0</th>\n",
              "      <th>year</th>\n",
              "      <th>month</th>\n",
              "      <th>day</th>\n",
              "      <th>country</th>\n",
              "      <th>title</th>\n",
              "      <th>text</th>\n",
              "      <th>hazard-category</th>\n",
              "      <th>product-category</th>\n",
              "      <th>hazard</th>\n",
              "      <th>product</th>\n",
              "    </tr>\n",
              "  </thead>\n",
              "  <tbody>\n",
              "    <tr>\n",
              "      <th>0</th>\n",
              "      <td>0</td>\n",
              "      <td>1994</td>\n",
              "      <td>1</td>\n",
              "      <td>7</td>\n",
              "      <td>us</td>\n",
              "      <td>Recall Notification: FSIS-024-94</td>\n",
              "      <td>Case Number: 024-94   \\n            Date Opene...</td>\n",
              "      <td>biological</td>\n",
              "      <td>meat, egg and dairy products</td>\n",
              "      <td>listeria monocytogenes</td>\n",
              "      <td>smoked sausage</td>\n",
              "    </tr>\n",
              "    <tr>\n",
              "      <th>1</th>\n",
              "      <td>1</td>\n",
              "      <td>1994</td>\n",
              "      <td>3</td>\n",
              "      <td>10</td>\n",
              "      <td>us</td>\n",
              "      <td>Recall Notification: FSIS-033-94</td>\n",
              "      <td>Case Number: 033-94   \\n            Date Opene...</td>\n",
              "      <td>biological</td>\n",
              "      <td>meat, egg and dairy products</td>\n",
              "      <td>listeria spp</td>\n",
              "      <td>sausage</td>\n",
              "    </tr>\n",
              "    <tr>\n",
              "      <th>2</th>\n",
              "      <td>2</td>\n",
              "      <td>1994</td>\n",
              "      <td>3</td>\n",
              "      <td>28</td>\n",
              "      <td>us</td>\n",
              "      <td>Recall Notification: FSIS-014-94</td>\n",
              "      <td>Case Number: 014-94   \\n            Date Opene...</td>\n",
              "      <td>biological</td>\n",
              "      <td>meat, egg and dairy products</td>\n",
              "      <td>listeria monocytogenes</td>\n",
              "      <td>ham slices</td>\n",
              "    </tr>\n",
              "    <tr>\n",
              "      <th>3</th>\n",
              "      <td>3</td>\n",
              "      <td>1994</td>\n",
              "      <td>4</td>\n",
              "      <td>3</td>\n",
              "      <td>us</td>\n",
              "      <td>Recall Notification: FSIS-009-94</td>\n",
              "      <td>Case Number: 009-94   \\n            Date Opene...</td>\n",
              "      <td>foreign bodies</td>\n",
              "      <td>meat, egg and dairy products</td>\n",
              "      <td>plastic fragment</td>\n",
              "      <td>thermal processed pork meat</td>\n",
              "    </tr>\n",
              "    <tr>\n",
              "      <th>4</th>\n",
              "      <td>4</td>\n",
              "      <td>1994</td>\n",
              "      <td>7</td>\n",
              "      <td>1</td>\n",
              "      <td>us</td>\n",
              "      <td>Recall Notification: FSIS-001-94</td>\n",
              "      <td>Case Number: 001-94   \\n            Date Opene...</td>\n",
              "      <td>foreign bodies</td>\n",
              "      <td>meat, egg and dairy products</td>\n",
              "      <td>plastic fragment</td>\n",
              "      <td>chicken breast</td>\n",
              "    </tr>\n",
              "  </tbody>\n",
              "</table>\n",
              "</div>\n",
              "    <div class=\"colab-df-buttons\">\n",
              "\n",
              "  <div class=\"colab-df-container\">\n",
              "    <button class=\"colab-df-convert\" onclick=\"convertToInteractive('df-994b3cef-d174-47c5-97ad-d3bab85a3649')\"\n",
              "            title=\"Convert this dataframe to an interactive table.\"\n",
              "            style=\"display:none;\">\n",
              "\n",
              "  <svg xmlns=\"http://www.w3.org/2000/svg\" height=\"24px\" viewBox=\"0 -960 960 960\">\n",
              "    <path d=\"M120-120v-720h720v720H120Zm60-500h600v-160H180v160Zm220 220h160v-160H400v160Zm0 220h160v-160H400v160ZM180-400h160v-160H180v160Zm440 0h160v-160H620v160ZM180-180h160v-160H180v160Zm440 0h160v-160H620v160Z\"/>\n",
              "  </svg>\n",
              "    </button>\n",
              "\n",
              "  <style>\n",
              "    .colab-df-container {\n",
              "      display:flex;\n",
              "      gap: 12px;\n",
              "    }\n",
              "\n",
              "    .colab-df-convert {\n",
              "      background-color: #E8F0FE;\n",
              "      border: none;\n",
              "      border-radius: 50%;\n",
              "      cursor: pointer;\n",
              "      display: none;\n",
              "      fill: #1967D2;\n",
              "      height: 32px;\n",
              "      padding: 0 0 0 0;\n",
              "      width: 32px;\n",
              "    }\n",
              "\n",
              "    .colab-df-convert:hover {\n",
              "      background-color: #E2EBFA;\n",
              "      box-shadow: 0px 1px 2px rgba(60, 64, 67, 0.3), 0px 1px 3px 1px rgba(60, 64, 67, 0.15);\n",
              "      fill: #174EA6;\n",
              "    }\n",
              "\n",
              "    .colab-df-buttons div {\n",
              "      margin-bottom: 4px;\n",
              "    }\n",
              "\n",
              "    [theme=dark] .colab-df-convert {\n",
              "      background-color: #3B4455;\n",
              "      fill: #D2E3FC;\n",
              "    }\n",
              "\n",
              "    [theme=dark] .colab-df-convert:hover {\n",
              "      background-color: #434B5C;\n",
              "      box-shadow: 0px 1px 3px 1px rgba(0, 0, 0, 0.15);\n",
              "      filter: drop-shadow(0px 1px 2px rgba(0, 0, 0, 0.3));\n",
              "      fill: #FFFFFF;\n",
              "    }\n",
              "  </style>\n",
              "\n",
              "    <script>\n",
              "      const buttonEl =\n",
              "        document.querySelector('#df-994b3cef-d174-47c5-97ad-d3bab85a3649 button.colab-df-convert');\n",
              "      buttonEl.style.display =\n",
              "        google.colab.kernel.accessAllowed ? 'block' : 'none';\n",
              "\n",
              "      async function convertToInteractive(key) {\n",
              "        const element = document.querySelector('#df-994b3cef-d174-47c5-97ad-d3bab85a3649');\n",
              "        const dataTable =\n",
              "          await google.colab.kernel.invokeFunction('convertToInteractive',\n",
              "                                                    [key], {});\n",
              "        if (!dataTable) return;\n",
              "\n",
              "        const docLinkHtml = 'Like what you see? Visit the ' +\n",
              "          '<a target=\"_blank\" href=https://colab.research.google.com/notebooks/data_table.ipynb>data table notebook</a>'\n",
              "          + ' to learn more about interactive tables.';\n",
              "        element.innerHTML = '';\n",
              "        dataTable['output_type'] = 'display_data';\n",
              "        await google.colab.output.renderOutput(dataTable, element);\n",
              "        const docLink = document.createElement('div');\n",
              "        docLink.innerHTML = docLinkHtml;\n",
              "        element.appendChild(docLink);\n",
              "      }\n",
              "    </script>\n",
              "  </div>\n",
              "\n",
              "\n",
              "<div id=\"df-906b7dcd-9d5c-4e87-9360-e3f4ab44c563\">\n",
              "  <button class=\"colab-df-quickchart\" onclick=\"quickchart('df-906b7dcd-9d5c-4e87-9360-e3f4ab44c563')\"\n",
              "            title=\"Suggest charts\"\n",
              "            style=\"display:none;\">\n",
              "\n",
              "<svg xmlns=\"http://www.w3.org/2000/svg\" height=\"24px\"viewBox=\"0 0 24 24\"\n",
              "     width=\"24px\">\n",
              "    <g>\n",
              "        <path d=\"M19 3H5c-1.1 0-2 .9-2 2v14c0 1.1.9 2 2 2h14c1.1 0 2-.9 2-2V5c0-1.1-.9-2-2-2zM9 17H7v-7h2v7zm4 0h-2V7h2v10zm4 0h-2v-4h2v4z\"/>\n",
              "    </g>\n",
              "</svg>\n",
              "  </button>\n",
              "\n",
              "<style>\n",
              "  .colab-df-quickchart {\n",
              "      --bg-color: #E8F0FE;\n",
              "      --fill-color: #1967D2;\n",
              "      --hover-bg-color: #E2EBFA;\n",
              "      --hover-fill-color: #174EA6;\n",
              "      --disabled-fill-color: #AAA;\n",
              "      --disabled-bg-color: #DDD;\n",
              "  }\n",
              "\n",
              "  [theme=dark] .colab-df-quickchart {\n",
              "      --bg-color: #3B4455;\n",
              "      --fill-color: #D2E3FC;\n",
              "      --hover-bg-color: #434B5C;\n",
              "      --hover-fill-color: #FFFFFF;\n",
              "      --disabled-bg-color: #3B4455;\n",
              "      --disabled-fill-color: #666;\n",
              "  }\n",
              "\n",
              "  .colab-df-quickchart {\n",
              "    background-color: var(--bg-color);\n",
              "    border: none;\n",
              "    border-radius: 50%;\n",
              "    cursor: pointer;\n",
              "    display: none;\n",
              "    fill: var(--fill-color);\n",
              "    height: 32px;\n",
              "    padding: 0;\n",
              "    width: 32px;\n",
              "  }\n",
              "\n",
              "  .colab-df-quickchart:hover {\n",
              "    background-color: var(--hover-bg-color);\n",
              "    box-shadow: 0 1px 2px rgba(60, 64, 67, 0.3), 0 1px 3px 1px rgba(60, 64, 67, 0.15);\n",
              "    fill: var(--button-hover-fill-color);\n",
              "  }\n",
              "\n",
              "  .colab-df-quickchart-complete:disabled,\n",
              "  .colab-df-quickchart-complete:disabled:hover {\n",
              "    background-color: var(--disabled-bg-color);\n",
              "    fill: var(--disabled-fill-color);\n",
              "    box-shadow: none;\n",
              "  }\n",
              "\n",
              "  .colab-df-spinner {\n",
              "    border: 2px solid var(--fill-color);\n",
              "    border-color: transparent;\n",
              "    border-bottom-color: var(--fill-color);\n",
              "    animation:\n",
              "      spin 1s steps(1) infinite;\n",
              "  }\n",
              "\n",
              "  @keyframes spin {\n",
              "    0% {\n",
              "      border-color: transparent;\n",
              "      border-bottom-color: var(--fill-color);\n",
              "      border-left-color: var(--fill-color);\n",
              "    }\n",
              "    20% {\n",
              "      border-color: transparent;\n",
              "      border-left-color: var(--fill-color);\n",
              "      border-top-color: var(--fill-color);\n",
              "    }\n",
              "    30% {\n",
              "      border-color: transparent;\n",
              "      border-left-color: var(--fill-color);\n",
              "      border-top-color: var(--fill-color);\n",
              "      border-right-color: var(--fill-color);\n",
              "    }\n",
              "    40% {\n",
              "      border-color: transparent;\n",
              "      border-right-color: var(--fill-color);\n",
              "      border-top-color: var(--fill-color);\n",
              "    }\n",
              "    60% {\n",
              "      border-color: transparent;\n",
              "      border-right-color: var(--fill-color);\n",
              "    }\n",
              "    80% {\n",
              "      border-color: transparent;\n",
              "      border-right-color: var(--fill-color);\n",
              "      border-bottom-color: var(--fill-color);\n",
              "    }\n",
              "    90% {\n",
              "      border-color: transparent;\n",
              "      border-bottom-color: var(--fill-color);\n",
              "    }\n",
              "  }\n",
              "</style>\n",
              "\n",
              "  <script>\n",
              "    async function quickchart(key) {\n",
              "      const quickchartButtonEl =\n",
              "        document.querySelector('#' + key + ' button');\n",
              "      quickchartButtonEl.disabled = true;  // To prevent multiple clicks.\n",
              "      quickchartButtonEl.classList.add('colab-df-spinner');\n",
              "      try {\n",
              "        const charts = await google.colab.kernel.invokeFunction(\n",
              "            'suggestCharts', [key], {});\n",
              "      } catch (error) {\n",
              "        console.error('Error during call to suggestCharts:', error);\n",
              "      }\n",
              "      quickchartButtonEl.classList.remove('colab-df-spinner');\n",
              "      quickchartButtonEl.classList.add('colab-df-quickchart-complete');\n",
              "    }\n",
              "    (() => {\n",
              "      let quickchartButtonEl =\n",
              "        document.querySelector('#df-906b7dcd-9d5c-4e87-9360-e3f4ab44c563 button');\n",
              "      quickchartButtonEl.style.display =\n",
              "        google.colab.kernel.accessAllowed ? 'block' : 'none';\n",
              "    })();\n",
              "  </script>\n",
              "</div>\n",
              "\n",
              "    </div>\n",
              "  </div>\n"
            ],
            "application/vnd.google.colaboratory.intrinsic+json": {
              "type": "dataframe",
              "variable_name": "balanced_df",
              "summary": "{\n  \"name\": \"balanced_df\",\n  \"rows\": 10164,\n  \"fields\": [\n    {\n      \"column\": \"Unnamed: 0\",\n      \"properties\": {\n        \"dtype\": \"number\",\n        \"std\": 1710,\n        \"min\": 0,\n        \"max\": 5983,\n        \"num_unique_values\": 5082,\n        \"samples\": [\n          3093,\n          2367,\n          977\n        ],\n        \"semantic_type\": \"\",\n        \"description\": \"\"\n      }\n    },\n    {\n      \"column\": \"year\",\n      \"properties\": {\n        \"dtype\": \"number\",\n        \"std\": 4,\n        \"min\": 1994,\n        \"max\": 2022,\n        \"num_unique_values\": 29,\n        \"samples\": [\n          2021,\n          2010,\n          2006\n        ],\n        \"semantic_type\": \"\",\n        \"description\": \"\"\n      }\n    },\n    {\n      \"column\": \"month\",\n      \"properties\": {\n        \"dtype\": \"number\",\n        \"std\": 3,\n        \"min\": 1,\n        \"max\": 12,\n        \"num_unique_values\": 12,\n        \"samples\": [\n          2,\n          6,\n          1\n        ],\n        \"semantic_type\": \"\",\n        \"description\": \"\"\n      }\n    },\n    {\n      \"column\": \"day\",\n      \"properties\": {\n        \"dtype\": \"number\",\n        \"std\": 8,\n        \"min\": 1,\n        \"max\": 31,\n        \"num_unique_values\": 31,\n        \"samples\": [\n          21,\n          24,\n          13\n        ],\n        \"semantic_type\": \"\",\n        \"description\": \"\"\n      }\n    },\n    {\n      \"column\": \"country\",\n      \"properties\": {\n        \"dtype\": \"category\",\n        \"num_unique_values\": 9,\n        \"samples\": [\n          \"sg\",\n          \"au\",\n          \"ie\"\n        ],\n        \"semantic_type\": \"\",\n        \"description\": \"\"\n      }\n    },\n    {\n      \"column\": \"title\",\n      \"properties\": {\n        \"dtype\": \"category\",\n        \"num_unique_values\": 4948,\n        \"samples\": [\n          \"Coles\\u2014Savings Brand Frozen Fish Fingers\",\n          \"2006 - allergy alert on undeclared almonds in albertsons chocolate ice cream\",\n          \"John West Tuna \\u2013 foreign matter (glass) \\u2013 30 March 2012\"\n        ],\n        \"semantic_type\": \"\",\n        \"description\": \"\"\n      }\n    },\n    {\n      \"column\": \"text\",\n      \"properties\": {\n        \"dtype\": \"string\",\n        \"num_unique_values\": 9882,\n        \"samples\": [\n          \"Recall of IKEA Food Knackebrod Flerkorn Crispbreads due to the Presence of the Unauthorised Pesticide Ethylene Oxide in the Sesame Seeds Friday, 22 January 2021 Summary Category 2: For Information Alert Notification: 2021.10 Product: IKEA Food Kn\\u00e4ckebr\\u00f6d Flerkorn; pack size: 250g Batch Code: Best before: 31st\\u00a0March 2021 Country Of Origin: Finland Message: A\\u00a0batch of IKEA Food Kn\\u00e4ckebr\\u00f6d Flerkorn is being recalled due to the presence of the unauthorised pesticide ethylene oxide in sesame seeds, an ingredient in the product. This pesticide is not authorised for use in foods sold in the EU. Although the consumption of the contaminated product does not pose an immediate risk to health, there may be health issues if there is continued consumption of ethylene oxide over a long period of time. Therefore, exposure to this substance needs to be minimised. Point-of-sale recall notices will be displayed on IKEA\\u2019s website and in stores, when they are re-opened.\\nRecall of IKEA Food Knackebrod Flerkorn Crispbreads due to the Presence of the Unauthorised Pesticide Ethylene Oxide in the Sesame Seeds Friday, 22 January 2021 Summary Category 2: For Information Alert Notification: 2021.10 Product: IKEA Food Kn\\u00e4ckebr\\u00f6d Flerkorn; pack size: 250g Batch Code: Best before: 31st\\u00a0March 2021 Country Of Origin: Finland Message: A\\u00a0batch of IKEA Food Kn\\u00e4ckebr\\u00f6d Flerkorn is being recalled due to the presence of the unauthorised pesticide ethylene oxide in sesame seeds, an ingredient in the product. This pesticide is not authorised for use in foods sold in the EU. Although the consumption of the contaminated product does not pose an immediate risk to health, there may be health issues if there is continued consumption of ethylene oxide over a long period of time. Therefore, exposure to this substance needs to be minimised. Point-of-sale recall notices will be displayed on IKEA\\u2019s website and in stores, when they are re-opened.\",\n          \"Notice This archive of food recalls and allergy alerts that have already been issued is not an indication of the food safety status of the products produced at a later date.Food Recall Alert (allergen) - Maple Leaf Spices Bacon & Onion Dip Mix brand recall due to an undeclared soy recall Recall Date: October 1, 2014 Reason for recall: Allergen - Soy Hazard Classification: Class 2 Company / Company: Maple Leaf Spices Distribution: Alberta, British Columbia Scope of distribution: Detail Reference Number: 9273 Content Recalled Products More Information Media Information Product Recalls Brand Code(s) Common Name Product Code(s) UPC Maple Leaf Spices Bacon & Onion Dip Mix 30 g All codes where soybean is not declared on the label. 8,75950,00007 9 Additional Information For more information, consumers and industry can contact the CFIA by completing the online feedback form.\",\n          \"Food Recall Warning - Certain cauliflower, red leaf lettuce and green leaf lettuce produced by Adam Bros Farming Inc. recalled due to E.\\u00a0coli\\u00a0O157:H7 Recall date: December 15, 2018 Reason for recall: Microbiological - E. coli O157:H7 Hazard classification: Class 1 Company / Firm: Industry Distribution: New Brunswick, Newfoundland and Labrador, Nova Scotia, Ontario, Possibly National, Prince Edward Island, Quebec Extent of the distribution: Consumer Contents Recall details Recalled products What you should do Background Illnesses More information Media enquiries Recall details Ottawa, December 15, 2018 - Industry is recalling certain cauliflower, red leaf lettuce and green leaf lettuce produced by Adam Bros. Farming Inc. of Santa Maria, California, United States (US) from the marketplace due to possible E.\\u00a0coli\\u00a0O157:H7 contamination. The affected products described below have been imported from Adam Bros Farming Inc. by: Courchesne Larose Ltd., Anjou, QC, Dominion Citrus, Toronto, ON; Fresh Taste Produce Limited, Milton, ON; and Fruits et Legumes Gaetan Bono Inc., Montreal, QC. Consumers, retailers, restaurants and institutions should not sell, use or consume the recalled products described below. The following products, grown in the US, are known to have been sold in Ontario, Quebec, New Brunswick, Nova Scotia, Prince Edward Island, and Newfoundland and Labrador and may have been sold in other provinces. Recalled products Brand Name Common Name Size Code(s) on Product Additional Info Adam Brothers Family Farms Cauliflower Variable Carton tag numbers: 203-27263 331-18; 203-27263 332-18; 203-27263 333-18; 203-27263 334-18; 203-27268 334-18; 204-27268 332-18. This cauliflower is wrapped and has the Adam Brothers Family Farms logo but no coding information. If you are unsure as to whether products are included in this recall, contact the location where they were purchased. None Green Leaf Lettuce Sold in bulk Carton Tag Numbers: 204-27247 331-18; 253-27268 331-18; 204-27268 331-18; 204-27268 332-18. This product was sold in bulk without a brand name. If you are unsure as to whether products are included in this recall, contact the location where they were purchased. None Red Leaf Lettuce Sold in bulk Carton Tag Numbers: 253-27267 331-18; 204-27267 331-18; 203-27267 331-18. This product was sold in bulk without a brand name. If you are unsure as to whether products are included in this recall, contact the location where they were purchased. What you should do If you think you became sick from consuming a recalled product, call your doctor. Check to see if you have recalled products in your home. Recalled products should be thrown out or returned to the store where they were purchased. If you are unsure as to whether products are included in this recall, contact the location where they were purchased. Food contaminated with E.\\u00a0coli\\u00a0O157:H7 may not look or smell spoiled but can still make you sick. Symptoms can include nausea, vomiting, mild to severe abdominal cramps and watery to bloody diarrhea. In severe cases of illness, some people may have seizures or strokes, need blood transfusions and kidney dialysis or live with permanent kidney damage. In severe cases of illness, people may die. Learn more about the health risks Sign up for recall notifications by email, follow us on Twitter, or join the CFIA community on Facebook View our detailed explanation of the food safety investigation and recall process Background This recall was triggered by a recall in the US which resulted from an investigation into a foodborne illness outbreak of E.\\u00a0coli\\u00a0O157:H7 linked to the consumption of romaine lettuce. The Canadian Food Inspection Agency (CFIA) is working with the United States Food and Drug Administration, and is conducting a food safety investigation, which may lead to the recall of other products. If other high-risk products are recalled, the CFIA will notify the public through updated Food Recall Warnings. The CFIA is verifying that industry is removing recalled product from the marketplace. Illnesses There have been no reported illnesses associated with the consumption of these products. More information For more information, consumers and industry can contact the CFIA by filling out the online feedback form. Media enquiries CFIA Media Relations 613-773-6600 Date modified: 2018-12-15\"\n        ],\n        \"semantic_type\": \"\",\n        \"description\": \"\"\n      }\n    },\n    {\n      \"column\": \"hazard-category\",\n      \"properties\": {\n        \"dtype\": \"category\",\n        \"num_unique_values\": 10,\n        \"samples\": [\n          \"food additives and flavourings\",\n          \"foreign bodies\",\n          \"allergens\"\n        ],\n        \"semantic_type\": \"\",\n        \"description\": \"\"\n      }\n    },\n    {\n      \"column\": \"product-category\",\n      \"properties\": {\n        \"dtype\": \"category\",\n        \"num_unique_values\": 22,\n        \"samples\": [\n          \"meat, egg and dairy products\",\n          \"non-alcoholic beverages\",\n          \"cocoa and cocoa preparations, coffee and tea\"\n        ],\n        \"semantic_type\": \"\",\n        \"description\": \"\"\n      }\n    },\n    {\n      \"column\": \"hazard\",\n      \"properties\": {\n        \"dtype\": \"category\",\n        \"num_unique_values\": 128,\n        \"samples\": [\n          \"moulds\",\n          \"pecan nut\",\n          \"spoilage\"\n        ],\n        \"semantic_type\": \"\",\n        \"description\": \"\"\n      }\n    },\n    {\n      \"column\": \"product\",\n      \"properties\": {\n        \"dtype\": \"category\",\n        \"num_unique_values\": 1022,\n        \"samples\": [\n          \"bananas\",\n          \"camembert\",\n          \"organic coconut flour\"\n        ],\n        \"semantic_type\": \"\",\n        \"description\": \"\"\n      }\n    }\n  ]\n}"
            }
          },
          "metadata": {},
          "execution_count": 6
        }
      ]
    },
    {
      "cell_type": "code",
      "source": [],
      "metadata": {
        "id": "wyMdLGAsZFar"
      },
      "execution_count": null,
      "outputs": []
    }
  ]
}