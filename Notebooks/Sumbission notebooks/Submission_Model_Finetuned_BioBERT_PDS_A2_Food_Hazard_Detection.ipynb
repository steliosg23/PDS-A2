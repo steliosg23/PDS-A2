{
 "cells": [
  {
   "cell_type": "markdown",
   "metadata": {
    "id": "view-in-github"
   },
   "source": [
    "<a href=\"https://colab.research.google.com/github/steliosg23/PDS-A2/blob/main/SUBMISSION%20Finetuned%20PubMedBERT%20PDS%20A2%20Food%20Hazard%20Detection.ipynb\" target=\"_parent\"><img src=\"https://colab.research.google.com/assets/colab-badge.svg\" alt=\"Open In Colab\"/></a>"
   ]
  },
  {
   "cell_type": "markdown",
   "metadata": {},
   "source": [
    "# SUBMISSION WITH PRETRAINED BIOBERT\n",
    "### Due to the 'product' class loss error consistently being stuck between 4.5 and 5, I decided to replace the pretrained BERT model with BioBERT to improve performance.\n",
    "The model was developed by Data Mining and Information Systems Lab and is pretrained. \n",
    "The team trained the model on Large Biomedical Corpora, on their papper (1901.08746) they support that \" With almost the same architecture across tasks, BioBERT largely outperforms BERT and previous state-of-the-art models in a variety of biomedical text mining tasks when pre-trained on biomedical corpora.\""
   ]
  },
  {
   "cell_type": "markdown",
   "metadata": {
    "id": "Up2bFjloyvaZ"
   },
   "source": [
    "# Install necessary packages and import libraries\n",
    "This section includes all the necessary imports for data manipulation, model training, and evaluation.\n",
    "It also imports libraries for handling tokenization, model configuration, and metrics.\n"
   ]
  },
  {
   "cell_type": "code",
   "execution_count": 3,
   "metadata": {
    "id": "ySpgDtU5ywQM"
   },
   "outputs": [],
   "source": [
    "from google.colab import drive\n",
    "import pandas as pd\n",
    "import torch\n",
    "import re\n",
    "from sklearn.model_selection import train_test_split\n",
    "from sklearn.metrics import f1_score, classification_report\n",
    "from transformers import AutoTokenizer, AutoModelForSequenceClassification\n",
    "from torch.utils.data import DataLoader, Dataset\n",
    "import torch.nn as nn\n",
    "import torch.optim as optim\n",
    "from sklearn.preprocessing import LabelEncoder\n",
    "from tqdm import tqdm\n",
    "import os\n",
    "from shutil import make_archive\n",
    "import numpy as np\n",
    "from sklearn.utils.class_weight import compute_class_weight\n",
    "from torch.optim.lr_scheduler import ReduceLROnPlateau"
   ]
  },
  {
   "cell_type": "markdown",
   "metadata": {
    "id": "MIYvD2xxyzL8"
   },
   "source": [
    "# Mount Google Drive\n"
   ]
  },
  {
   "cell_type": "code",
   "execution_count": 4,
   "metadata": {
    "colab": {
     "base_uri": "https://localhost:8080/"
    },
    "id": "YiM_6Z68yxJ6",
    "outputId": "ebcd2b0c-11df-437e-9c5c-0d89623acefb"
   },
   "outputs": [
    {
     "name": "stdout",
     "output_type": "stream",
     "text": [
      "Mounted at /content/drive\n"
     ]
    }
   ],
   "source": [
    "drive.mount('/content/drive')\n"
   ]
  },
  {
   "cell_type": "markdown",
   "metadata": {
    "id": "g2q92Do-y2W9"
   },
   "source": [
    "# Load and preview the training dataset\n",
    "The dataset containing incident reports is loaded from Google Drive.\n",
    "We remove any unnecessary columns like 'Unnamed: 0'.\n"
   ]
  },
  {
   "cell_type": "code",
   "execution_count": 5,
   "metadata": {
    "id": "ncSsiInty1G9"
   },
   "outputs": [],
   "source": [
    "train_path = '/content/drive/MyDrive/Data/incidents_train.csv'\n",
    "df = pd.read_csv(train_path)\n",
    "df = df.drop(columns=['Unnamed: 0'])\n"
   ]
  },
  {
   "cell_type": "markdown",
   "metadata": {
    "id": "KDS28Uk-zNPU"
   },
   "source": [
    "# Define a function to clean text data\n",
    "This function removes special characters, converts text to lowercase, and strips extra whitespace.\n",
    "It is essential to clean the text data for better model performance.\n"
   ]
  },
  {
   "cell_type": "code",
   "execution_count": 6,
   "metadata": {
    "id": "DxuoSFEUy3rX"
   },
   "outputs": [],
   "source": [
    "import re\n",
    "\n",
    "def clean_text(text):\n",
    "    text = re.sub(r'[^a-zA-Z0-9\\s]', '', text)  # Remove non-alphanumeric characters\n",
    "    text = text.lower()  # Convert text to lowercase\n",
    "    text = ' '.join(text.split())  # Remove extra spaces\n",
    "    return text\n"
   ]
  },
  {
   "cell_type": "markdown",
   "metadata": {
    "id": "jBAtfWSgzROT"
   },
   "source": [
    "# Clean the text data and load the tokenizer\n",
    "We apply the `clean_text` function to clean the 'text' column of the dataset.\n",
    "Then, we initialize the PubMedBERT tokenizer to prepare for tokenization.\n"
   ]
  },
  {
   "cell_type": "code",
   "execution_count": 7,
   "metadata": {
    "colab": {
     "base_uri": "https://localhost:8080/",
     "height": 205,
     "referenced_widgets": [
      "b8e24d6617f4477088ec428805862c04",
      "76315145c94a4c97960c99995da8a319",
      "56d0dd4da7c54f86b48017495658907d",
      "a5ccd8b9755d4451b5b85487745205ad",
      "19e0be073dda42c0b58c2c2026f72213",
      "457d042c42df40a59dab51e7b3030ff3",
      "0eb580f497a84fe3abb4d5b9dfaf86ad",
      "fc3afcee2ea9466fa4f5fbb84554a109",
      "6f67d533addd4a0dab9e6403008bc63f",
      "418c6310da0b4dedbb0cf87035bb94dd",
      "541bb1f42602469cac4682e0c94bd0cc",
      "ad928bd28d3b473382a6895a70c0540b",
      "781b4aa4a6724c1a9fbe91bc87cee497",
      "98708bd1891a43149c603fbf03590782",
      "d8e36e197c9f440484b3bae913e09843",
      "7ebfdce5ac0e4adf90f3c3fca9e0f374",
      "3d9ecdcdca0c4a5c983ab89818ead372",
      "d40a939b6715483689ce9b8c841e9ef4",
      "808869d466a94f97a540e1e96840aa2e",
      "5d84d60ba411491b98efeece81907c7b",
      "fce89ff96757477487b4dc24414188b0",
      "ffc52bfc385e4ca7bbb4114d0a7bda32"
     ]
    },
    "id": "E0Gy9-3ezQVb",
    "outputId": "f69ec7e8-f812-44bf-9795-344f9583daf3"
   },
   "outputs": [
    {
     "name": "stderr",
     "output_type": "stream",
     "text": [
      "/usr/local/lib/python3.10/dist-packages/huggingface_hub/utils/_auth.py:94: UserWarning: \n",
      "The secret `HF_TOKEN` does not exist in your Colab secrets.\n",
      "To authenticate with the Hugging Face Hub, create a token in your settings tab (https://huggingface.co/settings/tokens), set it as secret in your Google Colab and restart your session.\n",
      "You will be able to reuse this secret in all of your notebooks.\n",
      "Please note that authentication is recommended but still optional to access public models or datasets.\n",
      "  warnings.warn(\n"
     ]
    },
    {
     "data": {
      "application/vnd.jupyter.widget-view+json": {
       "model_id": "b8e24d6617f4477088ec428805862c04",
       "version_major": 2,
       "version_minor": 0
      },
      "text/plain": [
       "config.json:   0%|          | 0.00/1.11k [00:00<?, ?B/s]"
      ]
     },
     "metadata": {},
     "output_type": "display_data"
    },
    {
     "data": {
      "application/vnd.jupyter.widget-view+json": {
       "model_id": "ad928bd28d3b473382a6895a70c0540b",
       "version_major": 2,
       "version_minor": 0
      },
      "text/plain": [
       "vocab.txt:   0%|          | 0.00/213k [00:00<?, ?B/s]"
      ]
     },
     "metadata": {},
     "output_type": "display_data"
    }
   ],
   "source": [
    "# Load the tokenizer for the PubMedBERT model, specifically fine-tuned for biomedical text\n",
    "tokenizer = AutoTokenizer.from_pretrained(\"dmis-lab/biobert-base-cased-v1.2\")\n",
    "\n",
    "# Apply the text cleaning function to the 'text' column in the DataFrame\n",
    "# This function will preprocess each text entry by removing unwanted characters, stopwords, etc.\n",
    "df['text'] = df['text'].apply(clean_text)\n"
   ]
  },
  {
   "cell_type": "markdown",
   "metadata": {
    "id": "p6hPAUKozWMw"
   },
   "source": [
    "# Define features and targets for classification tasks\n",
    "We specify the input features like date and country and set the classification targets.\n",
    "\n"
   ]
  },
  {
   "cell_type": "code",
   "execution_count": 8,
   "metadata": {
    "id": "kvkxIfuvzU3Z"
   },
   "outputs": [],
   "source": [
    "# Define the features for the model, which include the year, month, day, and country information\n",
    "features = ['year', 'month', 'day', 'country']\n",
    "\n",
    "# Define the target variables for Subtask 1, which are the hazard-category and product-category\n",
    "targets_subtask1 = ['hazard-category', 'product-category']\n",
    "\n",
    "\n",
    "# Define the target variables for Subtask 2, which are hazard and product\n",
    "# Add other targets if necessary depending on the task\n",
    "targets_subtask2 = ['hazard', 'product']\n"
   ]
  },
  {
   "cell_type": "markdown",
   "metadata": {
    "id": "-hn5LTh_zjI2"
   },
   "source": [
    "# Encode target labels\n",
    "For classification, target labels need to be encoded as numeric values.\n",
    "We use `LabelEncoder` to convert categorical labels into integers.\n"
   ]
  },
  {
   "cell_type": "code",
   "execution_count": 9,
   "metadata": {
    "id": "8Wd6N94wziDV"
   },
   "outputs": [],
   "source": [
    "# Create an empty dictionary to store label encoders for each target\n",
    "label_encoders = {}\n",
    "\n",
    "# Iterate over both sets of targets (Subtask 1 and Subtask 2)\n",
    "for target in targets_subtask1 + targets_subtask2:\n",
    "    # Initialize a LabelEncoder for each target\n",
    "    le = LabelEncoder()\n",
    "\n",
    "    # Transform the target column values into numeric labels and update the DataFrame\n",
    "    df[target] = le.fit_transform(df[target])\n",
    "\n",
    "    # Store the fitted LabelEncoder in the dictionary for future use (e.g., inverse transformation)\n",
    "    label_encoders[target] = le\n"
   ]
  },
  {
   "cell_type": "markdown",
   "metadata": {
    "id": "kdnDHxmlzpCm"
   },
   "source": [
    "# Define a custom PyTorch dataset for text classification\n",
    "This dataset class will handle text tokenization and label processing.\n",
    "It ensures the text is properly encoded, padded, and truncated to a fixed length for the model.\n"
   ]
  },
  {
   "cell_type": "code",
   "execution_count": 10,
   "metadata": {
    "id": "wkzzsS2Gzk9L"
   },
   "outputs": [],
   "source": [
    "# Define a custom Dataset class for text data\n",
    "class TextDataset(Dataset):\n",
    "    # Initialize the dataset with texts, labels, tokenizer, and maximum sequence length\n",
    "    def __init__(self, texts, labels, tokenizer, max_len):\n",
    "        self.texts = texts  # List of input texts\n",
    "        self.labels = labels  # List of corresponding labels\n",
    "        self.tokenizer = tokenizer  # Tokenizer for encoding the text\n",
    "        self.max_len = max_len  # Maximum length for padding/truncation\n",
    "\n",
    "    # Define the length of the dataset (number of samples)\n",
    "    def __len__(self):\n",
    "        return len(self.texts)\n",
    "\n",
    "    # Define how to retrieve a single item from the dataset\n",
    "    def __getitem__(self, item):\n",
    "        text = str(self.texts[item])  # Get the text for the given index\n",
    "        label = self.labels[item]  # Get the label for the given index\n",
    "\n",
    "        # Use the tokenizer to encode the text (add special tokens, padding, truncation)\n",
    "        encoding = self.tokenizer.encode_plus(\n",
    "            text,\n",
    "            add_special_tokens=True,  # Add special tokens (e.g., [CLS], [SEP])\n",
    "            max_length=self.max_len,  # Limit the sequence length\n",
    "            padding='max_length',  # Pad sequences to max_length\n",
    "            truncation=True,  # Truncate longer sequences\n",
    "            return_tensors='pt'  # Return PyTorch tensors\n",
    "        )\n",
    "\n",
    "        # Return a dictionary with input_ids, attention_mask, and label\n",
    "        return {\n",
    "            'input_ids': encoding['input_ids'].flatten(),  # Flatten the tensor\n",
    "            'attention_mask': encoding['attention_mask'].flatten(),  # Flatten the attention mask\n",
    "            'label': torch.tensor(label, dtype=torch.long)  # Convert label to a tensor\n",
    "        }\n"
   ]
  },
  {
   "cell_type": "markdown",
   "metadata": {
    "id": "SbkXM6pdzsmb"
   },
   "source": [
    "# Split the data into training and testing sets\n",
    "We split the dataset into training and testing sets for each target.\n",
    "This ensures that the model is trained on one set and evaluated on a separate, unseen set.\n"
   ]
  },
  {
   "cell_type": "code",
   "execution_count": 11,
   "metadata": {
    "id": "dSuyInwzzrYc"
   },
   "outputs": [],
   "source": [
    "from sklearn.model_selection import train_test_split\n",
    "\n",
    "# Define a function to prepare data for model training and testing (no validation)\n",
    "def prepare_data(text_column):\n",
    "    # Extract features and text column from the DataFrame\n",
    "    X = df[features + [text_column]]  # Features include specified columns plus the text column\n",
    "    # Extract target variables for Subtask 1 and Subtask 2\n",
    "    y_subtask1 = df[targets_subtask1]\n",
    "    y_subtask2 = df[targets_subtask2]\n",
    "\n",
    "    # Initialize a dictionary to store data splits for each target\n",
    "    data_splits = {}\n",
    "\n",
    "    # Iterate over both sets of target variables (Subtask 1 and Subtask 2)\n",
    "    for target in targets_subtask1 + targets_subtask2:\n",
    "        # Split the data into training (90%) and testing (10%) sets\n",
    "        X_train, X_test, y_train, y_test = train_test_split(\n",
    "            X, df[target], test_size=0.1, random_state=42\n",
    "        )\n",
    "\n",
    "        # Reset the indices for the train and test sets\n",
    "        X_train = X_train.reset_index(drop=True)\n",
    "        y_train = y_train.reset_index(drop=True)\n",
    "        X_test = X_test.reset_index(drop=True)\n",
    "        y_test = y_test.reset_index(drop=True)\n",
    "\n",
    "        # Store the splits for the current target in the dictionary\n",
    "        data_splits[target] = (X_train, X_test, y_train, y_test)\n",
    "\n",
    "    # Return the dictionary containing data splits for each target\n",
    "    return data_splits\n"
   ]
  },
  {
   "cell_type": "markdown",
   "metadata": {
    "id": "gFhciBb6zvnJ"
   },
   "source": [
    "# Prepare the data splits for text-based tasks\n",
    "We apply the `prepare_data` function specifically for text tasks and save the splits for later use.\n"
   ]
  },
  {
   "cell_type": "code",
   "execution_count": 12,
   "metadata": {
    "id": "Y7o-Gi7vzuZR"
   },
   "outputs": [],
   "source": [
    "# Prepare the data splits for the 'text' column using the prepare_data function\n",
    "text_splits = prepare_data('text')\n"
   ]
  },
  {
   "cell_type": "markdown",
   "metadata": {
    "id": "hEJgXRNIzybH"
   },
   "source": [
    "# Set model configuration and define the device\n",
    "Here, we configure key parameters for training like maximum sequence length, batch size, and learning rate.\n",
    "We also determine whether to use GPU or CPU for training based on availability.\n"
   ]
  },
  {
   "cell_type": "code",
   "execution_count": 13,
   "metadata": {
    "colab": {
     "base_uri": "https://localhost:8080/"
    },
    "id": "4TetF1XIzxU8",
    "outputId": "bcc44acb-7879-4889-cdc2-c01b9b0aa935"
   },
   "outputs": [
    {
     "name": "stdout",
     "output_type": "stream",
     "text": [
      "Using device: cuda\n"
     ]
    }
   ],
   "source": [
    "# Define configuration settings for the model training\n",
    "config = {\n",
    "    'max_len': 256,  # Maximum sequence length for input texts\n",
    "    'batch_size': 16,  # Batch size for training\n",
    "    'learning_rate': 5e-5,  # Learning rate for the optimizer\n",
    "    'epochs': 100,  # Increased number of training epochs\n",
    "    'model_name': \"dmis-lab/biobert-base-cased-v1.2\"  # Pre-trained model to use\n",
    "}\n",
    "\n",
    "\n",
    "\n",
    "# Determine the device to use for training (GPU if available, otherwise CPU)\n",
    "device = torch.device('cuda' if torch.cuda.is_available() else 'cpu')\n",
    "print(f\"Using device: {device}\")\n"
   ]
  },
  {
   "cell_type": "markdown",
   "metadata": {
    "id": "u22f8LM6z26I"
   },
   "source": [
    "# Training Function Explanation\n",
    "\n",
    "## Overview\n",
    "The `train_and_evaluate_bert` function in the submission notebook has been redesigned with key enhancements to improve the training process compared to the benchmark notebooks. These changes include better handling of class imbalance, task-specific adaptations, and improved evaluation metrics, ensuring more robust performance and generalization.\n",
    "\n",
    "---\n",
    "\n",
    "## Key Features in the Submission Notebook\n",
    "\n",
    "### 1. **Dynamic Class Weights**\n",
    "- Dynamically calculates class weights for each task using `compute_class_weight` to address class imbalance.\n",
    "- Applies these weights in the loss function (`CrossEntropyLoss`), leading to better performance for underrepresented classes.\n",
    "\n",
    "### 2. **Task-Specific Adaptation**\n",
    "- Automatically determines the number of classes (`num_labels`) for each task based on the dataset.\n",
    "- Saves task-specific label encoders, models, and tokenizers for easy reuse and deployment.\n",
    "\n",
    "### 3. **Macro F1-Score Evaluation**\n",
    "- **Change Implemented:** The evaluation metric has been updated to use **macro F1-score** instead of weighted F1-score to better reflect the model's performance across all classes, regardless of class distribution.\n",
    "- Ensures fair evaluation, especially for tasks with imbalanced datasets.\n",
    "\n",
    "### 4. **Efficient Training with Early Stopping**\n",
    "- Introduces early stopping to halt training when validation loss stops improving, preventing overfitting and saving computational resources.\n",
    "\n",
    "### 5. **Learning Rate Scheduling**\n",
    "- Uses `ReduceLROnPlateau` to adjust the learning rate dynamically based on validation loss, ensuring smoother convergence.\n",
    "\n",
    "### 6. **Enhanced Model Saving**\n",
    "- Saves the best-performing model weights, tokenizer, and task-specific label encoders for deployment or further experimentation.\n",
    "\n",
    "---\n",
    "\n",
    "## Comparison with Benchmark Notebooks\n",
    "- **Improved Metric Selection:** The switch to **macro F1-score** ensures fairer performance evaluation across all classes compared to the weighted F1-score used in the benchmark notebooks.\n",
    "- **Better Training Pipeline:** Includes features like class weights, early stopping, and learning rate scheduling, which may not be fully utilized in the benchmark implementations.\n",
    "\n",
    "---\n",
    "\n",
    "## Summary\n",
    "The submission notebook incorporates several improvements, including a shift to macro F1-score and a more refined training pipeline, to provide better and fairer results compared to the benchmark notebooks.\n"
   ]
  },
  {
   "cell_type": "code",
   "execution_count": 15,
   "metadata": {
    "colab": {
     "base_uri": "https://localhost:8080/",
     "height": 1000,
     "referenced_widgets": [
      "e361f2a99488491c863fee40909edd2a",
      "07df606def7449ae8637d46477828cdb",
      "a0b923f38e104ed29eb70ef4c0d3d877",
      "5389b69d6a774e44beff0910030d426e",
      "84853da59d854a6b86a207f4c90af2e7",
      "aeb93ee3377846018eafa68283b25e73",
      "ea4ea691293c4c6d8591843567340890",
      "ad822c6fc32645dcaafcd2310886aeee",
      "7f9fc37fdb8340c5b70200b1cf7949d2",
      "79fb04c76bba4331bbd3a296f8d8f482",
      "4b66aaae0ce84dc6b573e7a768dcf24e",
      "d0e05df6764b464ea86bc6d81103a682",
      "36abb5323a5f4d119576587779654e57",
      "9e9d7bc10bb044ad89698617868726cb",
      "3c92cd8b70d1440ba503c28625b4b5fb",
      "5d78e6a6cb3242128aec530444e25a8d",
      "8aa7752ac5304bc8b00d8be958fcc16b",
      "64b1481d57af4c1a85fbec2ff34ea20b",
      "82f9cedcda1e45d3bf0c42ab89b56c75",
      "83ba6f6f5118493b9b35f308986118a2",
      "30523e9fade1437597b7e40d3f5cf646",
      "2f164bc0279c4f4cb162883692f7e277"
     ]
    },
    "id": "imN-jiGRz1xV",
    "outputId": "a1cf66b4-5064-44eb-d368-ed9806e7362a"
   },
   "outputs": [
    {
     "name": "stdout",
     "output_type": "stream",
     "text": [
      "\n",
      "Starting training for task: hazard-category\n"
     ]
    },
    {
     "data": {
      "application/vnd.jupyter.widget-view+json": {
       "model_id": "e361f2a99488491c863fee40909edd2a",
       "version_major": 2,
       "version_minor": 0
      },
      "text/plain": [
       "pytorch_model.bin:   0%|          | 0.00/436M [00:00<?, ?B/s]"
      ]
     },
     "metadata": {},
     "output_type": "display_data"
    },
    {
     "name": "stderr",
     "output_type": "stream",
     "text": [
      "Some weights of BertForSequenceClassification were not initialized from the model checkpoint at dmis-lab/biobert-base-cased-v1.2 and are newly initialized: ['classifier.bias', 'classifier.weight']\n",
      "You should probably TRAIN this model on a down-stream task to be able to use it for predictions and inference.\n"
     ]
    },
    {
     "name": "stdout",
     "output_type": "stream",
     "text": [
      "Epoch 1/100 - Training: hazard-category\n"
     ]
    },
    {
     "name": "stderr",
     "output_type": "stream",
     "text": [
      "Training Epoch 1: 100%|██████████| 286/286 [00:54<00:00,  5.27it/s, loss=0.251]\n"
     ]
    },
    {
     "name": "stdout",
     "output_type": "stream",
     "text": [
      "Average Loss after Epoch 1: 0.5755647861535524\n",
      "Learning rate after epoch 1: 5e-05\n",
      "New best model found. Saving the model at epoch 1.\n",
      "Epoch 2/100 - Training: hazard-category\n"
     ]
    },
    {
     "name": "stderr",
     "output_type": "stream",
     "text": [
      "Training Epoch 2: 100%|██████████| 286/286 [00:52<00:00,  5.41it/s, loss=0.514]\n"
     ]
    },
    {
     "name": "stdout",
     "output_type": "stream",
     "text": [
      "Average Loss after Epoch 2: 0.26621139846038777\n",
      "Learning rate after epoch 2: 5e-05\n",
      "New best model found. Saving the model at epoch 2.\n",
      "Epoch 3/100 - Training: hazard-category\n"
     ]
    },
    {
     "name": "stderr",
     "output_type": "stream",
     "text": [
      "Training Epoch 3: 100%|██████████| 286/286 [00:52<00:00,  5.42it/s, loss=0.458]\n"
     ]
    },
    {
     "name": "stdout",
     "output_type": "stream",
     "text": [
      "Average Loss after Epoch 3: 0.2173693256902059\n",
      "Learning rate after epoch 3: 5e-05\n",
      "New best model found. Saving the model at epoch 3.\n",
      "Epoch 4/100 - Training: hazard-category\n"
     ]
    },
    {
     "name": "stderr",
     "output_type": "stream",
     "text": [
      "Training Epoch 4: 100%|██████████| 286/286 [00:52<00:00,  5.42it/s, loss=0.343]\n"
     ]
    },
    {
     "name": "stdout",
     "output_type": "stream",
     "text": [
      "Average Loss after Epoch 4: 0.17235247941583498\n",
      "Learning rate after epoch 4: 5e-05\n",
      "New best model found. Saving the model at epoch 4.\n",
      "Epoch 5/100 - Training: hazard-category\n"
     ]
    },
    {
     "name": "stderr",
     "output_type": "stream",
     "text": [
      "Training Epoch 5: 100%|██████████| 286/286 [00:52<00:00,  5.42it/s, loss=0.0176]\n"
     ]
    },
    {
     "name": "stdout",
     "output_type": "stream",
     "text": [
      "Average Loss after Epoch 5: 0.13809544274296898\n",
      "Learning rate after epoch 5: 5e-05\n",
      "New best model found. Saving the model at epoch 5.\n",
      "Epoch 6/100 - Training: hazard-category\n"
     ]
    },
    {
     "name": "stderr",
     "output_type": "stream",
     "text": [
      "Training Epoch 6: 100%|██████████| 286/286 [00:52<00:00,  5.41it/s, loss=0.0603]\n"
     ]
    },
    {
     "name": "stdout",
     "output_type": "stream",
     "text": [
      "Average Loss after Epoch 6: 0.12821530967859643\n",
      "Learning rate after epoch 6: 5e-05\n",
      "New best model found. Saving the model at epoch 6.\n",
      "Epoch 7/100 - Training: hazard-category\n"
     ]
    },
    {
     "name": "stderr",
     "output_type": "stream",
     "text": [
      "Training Epoch 7: 100%|██████████| 286/286 [00:52<00:00,  5.41it/s, loss=0.0492]\n"
     ]
    },
    {
     "name": "stdout",
     "output_type": "stream",
     "text": [
      "Average Loss after Epoch 7: 0.13597444640602785\n",
      "Learning rate after epoch 7: 5e-05\n",
      "Epoch 8/100 - Training: hazard-category\n"
     ]
    },
    {
     "name": "stderr",
     "output_type": "stream",
     "text": [
      "Training Epoch 8: 100%|██████████| 286/286 [00:52<00:00,  5.42it/s, loss=0.303]\n"
     ]
    },
    {
     "name": "stdout",
     "output_type": "stream",
     "text": [
      "Average Loss after Epoch 8: 0.104009731758184\n",
      "Learning rate after epoch 8: 5e-05\n",
      "New best model found. Saving the model at epoch 8.\n",
      "Epoch 9/100 - Training: hazard-category\n"
     ]
    },
    {
     "name": "stderr",
     "output_type": "stream",
     "text": [
      "Training Epoch 9: 100%|██████████| 286/286 [00:52<00:00,  5.41it/s, loss=0.0765]\n"
     ]
    },
    {
     "name": "stdout",
     "output_type": "stream",
     "text": [
      "Average Loss after Epoch 9: 0.10028693980661098\n",
      "Learning rate after epoch 9: 5e-05\n",
      "New best model found. Saving the model at epoch 9.\n",
      "Epoch 10/100 - Training: hazard-category\n"
     ]
    },
    {
     "name": "stderr",
     "output_type": "stream",
     "text": [
      "Training Epoch 10: 100%|██████████| 286/286 [00:52<00:00,  5.42it/s, loss=0.016]\n"
     ]
    },
    {
     "name": "stdout",
     "output_type": "stream",
     "text": [
      "Average Loss after Epoch 10: 0.07690108564057081\n",
      "Learning rate after epoch 10: 5e-05\n",
      "New best model found. Saving the model at epoch 10.\n",
      "Epoch 11/100 - Training: hazard-category\n"
     ]
    },
    {
     "name": "stderr",
     "output_type": "stream",
     "text": [
      "Training Epoch 11: 100%|██████████| 286/286 [00:52<00:00,  5.42it/s, loss=0.441]\n"
     ]
    },
    {
     "name": "stdout",
     "output_type": "stream",
     "text": [
      "Average Loss after Epoch 11: 0.08541599830036162\n",
      "Learning rate after epoch 11: 5e-05\n",
      "Epoch 12/100 - Training: hazard-category\n"
     ]
    },
    {
     "name": "stderr",
     "output_type": "stream",
     "text": [
      "Training Epoch 12: 100%|██████████| 286/286 [00:52<00:00,  5.42it/s, loss=0.00635]\n"
     ]
    },
    {
     "name": "stdout",
     "output_type": "stream",
     "text": [
      "Average Loss after Epoch 12: 0.09022141244812784\n",
      "Learning rate after epoch 12: 5e-05\n",
      "Epoch 13/100 - Training: hazard-category\n"
     ]
    },
    {
     "name": "stderr",
     "output_type": "stream",
     "text": [
      "Training Epoch 13: 100%|██████████| 286/286 [00:52<00:00,  5.42it/s, loss=0.00926]\n"
     ]
    },
    {
     "name": "stdout",
     "output_type": "stream",
     "text": [
      "Average Loss after Epoch 13: 0.06377391140644237\n",
      "Learning rate after epoch 13: 5e-05\n",
      "New best model found. Saving the model at epoch 13.\n",
      "Epoch 14/100 - Training: hazard-category\n"
     ]
    },
    {
     "name": "stderr",
     "output_type": "stream",
     "text": [
      "Training Epoch 14: 100%|██████████| 286/286 [00:52<00:00,  5.43it/s, loss=0.00394]\n"
     ]
    },
    {
     "name": "stdout",
     "output_type": "stream",
     "text": [
      "Average Loss after Epoch 14: 0.06366022710380685\n",
      "Learning rate after epoch 14: 5e-05\n",
      "New best model found. Saving the model at epoch 14.\n",
      "Epoch 15/100 - Training: hazard-category\n"
     ]
    },
    {
     "name": "stderr",
     "output_type": "stream",
     "text": [
      "Training Epoch 15: 100%|██████████| 286/286 [00:52<00:00,  5.42it/s, loss=0.0107]\n"
     ]
    },
    {
     "name": "stdout",
     "output_type": "stream",
     "text": [
      "Average Loss after Epoch 15: 0.0661277059914212\n",
      "Learning rate after epoch 15: 5e-05\n",
      "Epoch 16/100 - Training: hazard-category\n"
     ]
    },
    {
     "name": "stderr",
     "output_type": "stream",
     "text": [
      "Training Epoch 16: 100%|██████████| 286/286 [00:52<00:00,  5.42it/s, loss=0.00382]\n"
     ]
    },
    {
     "name": "stdout",
     "output_type": "stream",
     "text": [
      "Average Loss after Epoch 16: 0.04321983518034962\n",
      "Learning rate after epoch 16: 5e-05\n",
      "New best model found. Saving the model at epoch 16.\n",
      "Epoch 17/100 - Training: hazard-category\n"
     ]
    },
    {
     "name": "stderr",
     "output_type": "stream",
     "text": [
      "Training Epoch 17: 100%|██████████| 286/286 [00:52<00:00,  5.42it/s, loss=0.38]\n"
     ]
    },
    {
     "name": "stdout",
     "output_type": "stream",
     "text": [
      "Average Loss after Epoch 17: 0.04433671147538141\n",
      "Learning rate after epoch 17: 5e-05\n",
      "Epoch 18/100 - Training: hazard-category\n"
     ]
    },
    {
     "name": "stderr",
     "output_type": "stream",
     "text": [
      "Training Epoch 18: 100%|██████████| 286/286 [00:52<00:00,  5.42it/s, loss=0.00721]\n"
     ]
    },
    {
     "name": "stdout",
     "output_type": "stream",
     "text": [
      "Average Loss after Epoch 18: 0.054824796652419724\n",
      "Learning rate after epoch 18: 5e-05\n",
      "Epoch 19/100 - Training: hazard-category\n"
     ]
    },
    {
     "name": "stderr",
     "output_type": "stream",
     "text": [
      "Training Epoch 19: 100%|██████████| 286/286 [00:52<00:00,  5.42it/s, loss=0.00252]\n"
     ]
    },
    {
     "name": "stdout",
     "output_type": "stream",
     "text": [
      "Average Loss after Epoch 19: 0.06092903731652158\n",
      "Learning rate after epoch 19: 5e-05\n",
      "Epoch 20/100 - Training: hazard-category\n"
     ]
    },
    {
     "name": "stderr",
     "output_type": "stream",
     "text": [
      "Training Epoch 20: 100%|██████████| 286/286 [00:52<00:00,  5.42it/s, loss=0.00208]\n"
     ]
    },
    {
     "name": "stdout",
     "output_type": "stream",
     "text": [
      "Average Loss after Epoch 20: 0.06951334877094333\n",
      "Learning rate after epoch 20: 5e-05\n",
      "Epoch 21/100 - Training: hazard-category\n"
     ]
    },
    {
     "name": "stderr",
     "output_type": "stream",
     "text": [
      "Training Epoch 21: 100%|██████████| 286/286 [00:52<00:00,  5.42it/s, loss=0.00716]\n"
     ]
    },
    {
     "name": "stdout",
     "output_type": "stream",
     "text": [
      "Average Loss after Epoch 21: 0.021232761239137997\n",
      "Learning rate after epoch 21: 5e-06\n",
      "New best model found. Saving the model at epoch 21.\n",
      "Epoch 22/100 - Training: hazard-category\n"
     ]
    },
    {
     "name": "stderr",
     "output_type": "stream",
     "text": [
      "Training Epoch 22: 100%|██████████| 286/286 [00:52<00:00,  5.42it/s, loss=0.00133]\n"
     ]
    },
    {
     "name": "stdout",
     "output_type": "stream",
     "text": [
      "Average Loss after Epoch 22: 0.012437971034478005\n",
      "Learning rate after epoch 22: 5e-06\n",
      "New best model found. Saving the model at epoch 22.\n",
      "Epoch 23/100 - Training: hazard-category\n"
     ]
    },
    {
     "name": "stderr",
     "output_type": "stream",
     "text": [
      "Training Epoch 23: 100%|██████████| 286/286 [00:52<00:00,  5.42it/s, loss=0.00108]\n"
     ]
    },
    {
     "name": "stdout",
     "output_type": "stream",
     "text": [
      "Average Loss after Epoch 23: 0.00880722703401592\n",
      "Learning rate after epoch 23: 5e-06\n",
      "New best model found. Saving the model at epoch 23.\n",
      "Epoch 24/100 - Training: hazard-category\n"
     ]
    },
    {
     "name": "stderr",
     "output_type": "stream",
     "text": [
      "Training Epoch 24: 100%|██████████| 286/286 [00:52<00:00,  5.42it/s, loss=0.000797]\n"
     ]
    },
    {
     "name": "stdout",
     "output_type": "stream",
     "text": [
      "Average Loss after Epoch 24: 0.004067296646226041\n",
      "Learning rate after epoch 24: 5e-06\n",
      "New best model found. Saving the model at epoch 24.\n",
      "Epoch 25/100 - Training: hazard-category\n"
     ]
    },
    {
     "name": "stderr",
     "output_type": "stream",
     "text": [
      "Training Epoch 25: 100%|██████████| 286/286 [00:52<00:00,  5.42it/s, loss=0.00453]\n"
     ]
    },
    {
     "name": "stdout",
     "output_type": "stream",
     "text": [
      "Average Loss after Epoch 25: 0.0043019693397951045\n",
      "Learning rate after epoch 25: 5e-06\n",
      "Epoch 26/100 - Training: hazard-category\n"
     ]
    },
    {
     "name": "stderr",
     "output_type": "stream",
     "text": [
      "Training Epoch 26: 100%|██████████| 286/286 [00:52<00:00,  5.41it/s, loss=0.000851]\n"
     ]
    },
    {
     "name": "stdout",
     "output_type": "stream",
     "text": [
      "Average Loss after Epoch 26: 0.0026350353613057843\n",
      "Learning rate after epoch 26: 5e-06\n",
      "New best model found. Saving the model at epoch 26.\n",
      "Epoch 27/100 - Training: hazard-category\n"
     ]
    },
    {
     "name": "stderr",
     "output_type": "stream",
     "text": [
      "Training Epoch 27: 100%|██████████| 286/286 [00:52<00:00,  5.42it/s, loss=0.00144]\n"
     ]
    },
    {
     "name": "stdout",
     "output_type": "stream",
     "text": [
      "Average Loss after Epoch 27: 0.0034290732273675657\n",
      "Learning rate after epoch 27: 5e-06\n",
      "Epoch 28/100 - Training: hazard-category\n"
     ]
    },
    {
     "name": "stderr",
     "output_type": "stream",
     "text": [
      "Training Epoch 28: 100%|██████████| 286/286 [00:52<00:00,  5.41it/s, loss=0.000977]\n"
     ]
    },
    {
     "name": "stdout",
     "output_type": "stream",
     "text": [
      "Average Loss after Epoch 28: 0.0022322718632876402\n",
      "Learning rate after epoch 28: 5e-06\n",
      "New best model found. Saving the model at epoch 28.\n",
      "Epoch 29/100 - Training: hazard-category\n"
     ]
    },
    {
     "name": "stderr",
     "output_type": "stream",
     "text": [
      "Training Epoch 29: 100%|██████████| 286/286 [00:52<00:00,  5.42it/s, loss=0.00065]\n"
     ]
    },
    {
     "name": "stdout",
     "output_type": "stream",
     "text": [
      "Average Loss after Epoch 29: 0.002066263315284957\n",
      "Learning rate after epoch 29: 5e-06\n",
      "New best model found. Saving the model at epoch 29.\n",
      "Epoch 30/100 - Training: hazard-category\n"
     ]
    },
    {
     "name": "stderr",
     "output_type": "stream",
     "text": [
      "Training Epoch 30: 100%|██████████| 286/286 [00:52<00:00,  5.42it/s, loss=0.00158]\n"
     ]
    },
    {
     "name": "stdout",
     "output_type": "stream",
     "text": [
      "Average Loss after Epoch 30: 0.0015417763617759166\n",
      "Learning rate after epoch 30: 5e-06\n",
      "New best model found. Saving the model at epoch 30.\n",
      "Epoch 31/100 - Training: hazard-category\n"
     ]
    },
    {
     "name": "stderr",
     "output_type": "stream",
     "text": [
      "Training Epoch 31: 100%|██████████| 286/286 [00:52<00:00,  5.42it/s, loss=0.00165]\n"
     ]
    },
    {
     "name": "stdout",
     "output_type": "stream",
     "text": [
      "Average Loss after Epoch 31: 0.0029347090393921907\n",
      "Learning rate after epoch 31: 5e-06\n",
      "Epoch 32/100 - Training: hazard-category\n"
     ]
    },
    {
     "name": "stderr",
     "output_type": "stream",
     "text": [
      "Training Epoch 32: 100%|██████████| 286/286 [00:52<00:00,  5.41it/s, loss=0.000718]\n"
     ]
    },
    {
     "name": "stdout",
     "output_type": "stream",
     "text": [
      "Average Loss after Epoch 32: 0.0021921464893722687\n",
      "Learning rate after epoch 32: 5e-06\n",
      "Epoch 33/100 - Training: hazard-category\n"
     ]
    },
    {
     "name": "stderr",
     "output_type": "stream",
     "text": [
      "Training Epoch 33: 100%|██████████| 286/286 [00:52<00:00,  5.40it/s, loss=0.00139]\n"
     ]
    },
    {
     "name": "stdout",
     "output_type": "stream",
     "text": [
      "Average Loss after Epoch 33: 0.0032849033166051163\n",
      "Learning rate after epoch 33: 5e-06\n",
      "Epoch 34/100 - Training: hazard-category\n"
     ]
    },
    {
     "name": "stderr",
     "output_type": "stream",
     "text": [
      "Training Epoch 34: 100%|██████████| 286/286 [00:52<00:00,  5.40it/s, loss=0.000361]\n"
     ]
    },
    {
     "name": "stdout",
     "output_type": "stream",
     "text": [
      "Average Loss after Epoch 34: 0.0013208586997470583\n",
      "Learning rate after epoch 34: 5e-06\n",
      "New best model found. Saving the model at epoch 34.\n",
      "Epoch 35/100 - Training: hazard-category\n"
     ]
    },
    {
     "name": "stderr",
     "output_type": "stream",
     "text": [
      "Training Epoch 35: 100%|██████████| 286/286 [00:52<00:00,  5.40it/s, loss=0.000323]\n"
     ]
    },
    {
     "name": "stdout",
     "output_type": "stream",
     "text": [
      "Average Loss after Epoch 35: 0.0010433956589737021\n",
      "Learning rate after epoch 35: 5e-06\n",
      "New best model found. Saving the model at epoch 35.\n",
      "Epoch 36/100 - Training: hazard-category\n"
     ]
    },
    {
     "name": "stderr",
     "output_type": "stream",
     "text": [
      "Training Epoch 36: 100%|██████████| 286/286 [00:52<00:00,  5.41it/s, loss=0.000464]\n"
     ]
    },
    {
     "name": "stdout",
     "output_type": "stream",
     "text": [
      "Average Loss after Epoch 36: 0.000992349004448258\n",
      "Learning rate after epoch 36: 5e-06\n",
      "New best model found. Saving the model at epoch 36.\n",
      "Epoch 37/100 - Training: hazard-category\n"
     ]
    },
    {
     "name": "stderr",
     "output_type": "stream",
     "text": [
      "Training Epoch 37: 100%|██████████| 286/286 [00:52<00:00,  5.41it/s, loss=0.000403]\n"
     ]
    },
    {
     "name": "stdout",
     "output_type": "stream",
     "text": [
      "Average Loss after Epoch 37: 0.0010252962616708625\n",
      "Learning rate after epoch 37: 5e-06\n",
      "Epoch 38/100 - Training: hazard-category\n"
     ]
    },
    {
     "name": "stderr",
     "output_type": "stream",
     "text": [
      "Training Epoch 38: 100%|██████████| 286/286 [00:52<00:00,  5.41it/s, loss=0.000305]\n"
     ]
    },
    {
     "name": "stdout",
     "output_type": "stream",
     "text": [
      "Average Loss after Epoch 38: 0.0010054191949242445\n",
      "Learning rate after epoch 38: 5e-06\n",
      "Epoch 39/100 - Training: hazard-category\n"
     ]
    },
    {
     "name": "stderr",
     "output_type": "stream",
     "text": [
      "Training Epoch 39: 100%|██████████| 286/286 [00:52<00:00,  5.40it/s, loss=0.000287]\n"
     ]
    },
    {
     "name": "stdout",
     "output_type": "stream",
     "text": [
      "Average Loss after Epoch 39: 0.0006774085425992392\n",
      "Learning rate after epoch 39: 5e-06\n",
      "New best model found. Saving the model at epoch 39.\n",
      "Epoch 40/100 - Training: hazard-category\n"
     ]
    },
    {
     "name": "stderr",
     "output_type": "stream",
     "text": [
      "Training Epoch 40: 100%|██████████| 286/286 [00:52<00:00,  5.41it/s, loss=0.000292]\n"
     ]
    },
    {
     "name": "stdout",
     "output_type": "stream",
     "text": [
      "Average Loss after Epoch 40: 0.0006872130779429807\n",
      "Learning rate after epoch 40: 5e-06\n",
      "Epoch 41/100 - Training: hazard-category\n"
     ]
    },
    {
     "name": "stderr",
     "output_type": "stream",
     "text": [
      "Training Epoch 41: 100%|██████████| 286/286 [00:52<00:00,  5.41it/s, loss=0.00086]\n"
     ]
    },
    {
     "name": "stdout",
     "output_type": "stream",
     "text": [
      "Average Loss after Epoch 41: 0.0014801454765236142\n",
      "Learning rate after epoch 41: 5e-06\n",
      "Epoch 42/100 - Training: hazard-category\n"
     ]
    },
    {
     "name": "stderr",
     "output_type": "stream",
     "text": [
      "Training Epoch 42: 100%|██████████| 286/286 [00:52<00:00,  5.40it/s, loss=0.000175]\n"
     ]
    },
    {
     "name": "stdout",
     "output_type": "stream",
     "text": [
      "Average Loss after Epoch 42: 0.004114202480335594\n",
      "Learning rate after epoch 42: 5e-06\n",
      "Epoch 43/100 - Training: hazard-category\n"
     ]
    },
    {
     "name": "stderr",
     "output_type": "stream",
     "text": [
      "Training Epoch 43: 100%|██████████| 286/286 [00:52<00:00,  5.40it/s, loss=0.000283]\n"
     ]
    },
    {
     "name": "stdout",
     "output_type": "stream",
     "text": [
      "Average Loss after Epoch 43: 0.001954271263241242\n",
      "Learning rate after epoch 43: 5e-06\n",
      "Epoch 44/100 - Training: hazard-category\n"
     ]
    },
    {
     "name": "stderr",
     "output_type": "stream",
     "text": [
      "Training Epoch 44: 100%|██████████| 286/286 [00:52<00:00,  5.41it/s, loss=0.000348]\n"
     ]
    },
    {
     "name": "stdout",
     "output_type": "stream",
     "text": [
      "Average Loss after Epoch 44: 0.0016454335749255154\n",
      "Learning rate after epoch 44: 5.000000000000001e-07\n",
      "Epoch 45/100 - Training: hazard-category\n"
     ]
    },
    {
     "name": "stderr",
     "output_type": "stream",
     "text": [
      "Training Epoch 45: 100%|██████████| 286/286 [00:52<00:00,  5.40it/s, loss=0.000161]\n"
     ]
    },
    {
     "name": "stdout",
     "output_type": "stream",
     "text": [
      "Average Loss after Epoch 45: 0.0006201678275015087\n",
      "Learning rate after epoch 45: 5.000000000000001e-07\n",
      "New best model found. Saving the model at epoch 45.\n",
      "Epoch 46/100 - Training: hazard-category\n"
     ]
    },
    {
     "name": "stderr",
     "output_type": "stream",
     "text": [
      "Training Epoch 46: 100%|██████████| 286/286 [00:52<00:00,  5.41it/s, loss=0.000152]\n"
     ]
    },
    {
     "name": "stdout",
     "output_type": "stream",
     "text": [
      "Average Loss after Epoch 46: 0.0010634575486288998\n",
      "Learning rate after epoch 46: 5.000000000000001e-07\n",
      "Epoch 47/100 - Training: hazard-category\n"
     ]
    },
    {
     "name": "stderr",
     "output_type": "stream",
     "text": [
      "Training Epoch 47: 100%|██████████| 286/286 [00:52<00:00,  5.40it/s, loss=0.000419]\n"
     ]
    },
    {
     "name": "stdout",
     "output_type": "stream",
     "text": [
      "Average Loss after Epoch 47: 0.0006763364854759221\n",
      "Learning rate after epoch 47: 5.000000000000001e-07\n",
      "Epoch 48/100 - Training: hazard-category\n"
     ]
    },
    {
     "name": "stderr",
     "output_type": "stream",
     "text": [
      "Training Epoch 48: 100%|██████████| 286/286 [00:52<00:00,  5.41it/s, loss=0.000256]\n"
     ]
    },
    {
     "name": "stdout",
     "output_type": "stream",
     "text": [
      "Average Loss after Epoch 48: 0.0008490048209235799\n",
      "Learning rate after epoch 48: 5.000000000000001e-07\n",
      "Epoch 49/100 - Training: hazard-category\n"
     ]
    },
    {
     "name": "stderr",
     "output_type": "stream",
     "text": [
      "Training Epoch 49: 100%|██████████| 286/286 [00:52<00:00,  5.40it/s, loss=0.000255]\n"
     ]
    },
    {
     "name": "stdout",
     "output_type": "stream",
     "text": [
      "Average Loss after Epoch 49: 0.0007882118833886698\n",
      "Learning rate after epoch 49: 5.000000000000001e-07\n",
      "Epoch 50/100 - Training: hazard-category\n"
     ]
    },
    {
     "name": "stderr",
     "output_type": "stream",
     "text": [
      "Training Epoch 50: 100%|██████████| 286/286 [00:52<00:00,  5.40it/s, loss=0.000194]\n"
     ]
    },
    {
     "name": "stdout",
     "output_type": "stream",
     "text": [
      "Average Loss after Epoch 50: 0.0007455001991316253\n",
      "Learning rate after epoch 50: 5.000000000000001e-08\n",
      "Epoch 51/100 - Training: hazard-category\n"
     ]
    },
    {
     "name": "stderr",
     "output_type": "stream",
     "text": [
      "Training Epoch 51: 100%|██████████| 286/286 [00:52<00:00,  5.41it/s, loss=0.000191]\n"
     ]
    },
    {
     "name": "stdout",
     "output_type": "stream",
     "text": [
      "Average Loss after Epoch 51: 0.0006313029174431198\n",
      "Learning rate after epoch 51: 5.000000000000001e-08\n",
      "Early stopping triggered!\n",
      "Saving the best model from epoch 45.\n",
      "Evaluating model for task: hazard-category\n"
     ]
    },
    {
     "name": "stderr",
     "output_type": "stream",
     "text": [
      "Evaluating: 100%|██████████| 32/32 [00:02<00:00, 12.51it/s]\n"
     ]
    },
    {
     "name": "stdout",
     "output_type": "stream",
     "text": [
      "F1-Score for hazard-category: 0.745393095335887\n",
      "Classification Report for hazard-category:\n",
      "\n",
      "                                precision    recall  f1-score   support\n",
      "\n",
      "                     allergens       0.96      0.98      0.97       188\n",
      "                    biological       0.97      0.99      0.98       171\n",
      "                      chemical       0.92      0.97      0.94        35\n",
      "food additives and flavourings       0.50      0.20      0.29         5\n",
      "                foreign bodies       1.00      1.00      1.00        58\n",
      "                         fraud       0.75      0.75      0.75        28\n",
      "                     migration       1.00      1.00      1.00         1\n",
      "          organoleptic aspects       0.40      0.67      0.50         3\n",
      "                  other hazard       0.82      0.60      0.69        15\n",
      "              packaging defect       1.00      0.20      0.33         5\n",
      "\n",
      "                      accuracy                           0.94       509\n",
      "                     macro avg       0.83      0.74      0.75       509\n",
      "                  weighted avg       0.94      0.94      0.94       509\n",
      "\n",
      "Label Encoder for hazard-category saved in './best_model_hazard-category'\n",
      "\n",
      "Starting training for task: product-category\n"
     ]
    },
    {
     "name": "stderr",
     "output_type": "stream",
     "text": [
      "Some weights of BertForSequenceClassification were not initialized from the model checkpoint at dmis-lab/biobert-base-cased-v1.2 and are newly initialized: ['classifier.bias', 'classifier.weight']\n",
      "You should probably TRAIN this model on a down-stream task to be able to use it for predictions and inference.\n"
     ]
    },
    {
     "name": "stdout",
     "output_type": "stream",
     "text": [
      "Epoch 1/100 - Training: product-category\n"
     ]
    },
    {
     "name": "stderr",
     "output_type": "stream",
     "text": [
      "Training Epoch 1:   9%|▉         | 27/286 [00:04<00:47,  5.50it/s, loss=2.89]"
     ]
    },
    {
     "data": {
      "application/vnd.jupyter.widget-view+json": {
       "model_id": "d0e05df6764b464ea86bc6d81103a682",
       "version_major": 2,
       "version_minor": 0
      },
      "text/plain": [
       "model.safetensors:   0%|          | 0.00/436M [00:00<?, ?B/s]"
      ]
     },
     "metadata": {},
     "output_type": "display_data"
    },
    {
     "name": "stderr",
     "output_type": "stream",
     "text": [
      "Training Epoch 1: 100%|██████████| 286/286 [00:53<00:00,  5.39it/s, loss=1.05]\n"
     ]
    },
    {
     "name": "stdout",
     "output_type": "stream",
     "text": [
      "Average Loss after Epoch 1: 1.917001987670685\n",
      "Learning rate after epoch 1: 5e-05\n",
      "New best model found. Saving the model at epoch 1.\n",
      "Epoch 2/100 - Training: product-category\n"
     ]
    },
    {
     "name": "stderr",
     "output_type": "stream",
     "text": [
      "Training Epoch 2: 100%|██████████| 286/286 [00:52<00:00,  5.40it/s, loss=0.836]\n"
     ]
    },
    {
     "name": "stdout",
     "output_type": "stream",
     "text": [
      "Average Loss after Epoch 2: 1.1271289562011932\n",
      "Learning rate after epoch 2: 5e-05\n",
      "New best model found. Saving the model at epoch 2.\n",
      "Epoch 3/100 - Training: product-category\n"
     ]
    },
    {
     "name": "stderr",
     "output_type": "stream",
     "text": [
      "Training Epoch 3: 100%|██████████| 286/286 [00:52<00:00,  5.40it/s, loss=0.763]\n"
     ]
    },
    {
     "name": "stdout",
     "output_type": "stream",
     "text": [
      "Average Loss after Epoch 3: 0.7966499504196894\n",
      "Learning rate after epoch 3: 5e-05\n",
      "New best model found. Saving the model at epoch 3.\n",
      "Epoch 4/100 - Training: product-category\n"
     ]
    },
    {
     "name": "stderr",
     "output_type": "stream",
     "text": [
      "Training Epoch 4: 100%|██████████| 286/286 [00:52<00:00,  5.40it/s, loss=0.524]\n"
     ]
    },
    {
     "name": "stdout",
     "output_type": "stream",
     "text": [
      "Average Loss after Epoch 4: 0.5830810807020097\n",
      "Learning rate after epoch 4: 5e-05\n",
      "New best model found. Saving the model at epoch 4.\n",
      "Epoch 5/100 - Training: product-category\n"
     ]
    },
    {
     "name": "stderr",
     "output_type": "stream",
     "text": [
      "Training Epoch 5: 100%|██████████| 286/286 [00:52<00:00,  5.40it/s, loss=0.265]\n"
     ]
    },
    {
     "name": "stdout",
     "output_type": "stream",
     "text": [
      "Average Loss after Epoch 5: 0.41280808921747064\n",
      "Learning rate after epoch 5: 5e-05\n",
      "New best model found. Saving the model at epoch 5.\n",
      "Epoch 6/100 - Training: product-category\n"
     ]
    },
    {
     "name": "stderr",
     "output_type": "stream",
     "text": [
      "Training Epoch 6: 100%|██████████| 286/286 [00:52<00:00,  5.40it/s, loss=0.29]\n"
     ]
    },
    {
     "name": "stdout",
     "output_type": "stream",
     "text": [
      "Average Loss after Epoch 6: 0.2918990231737807\n",
      "Learning rate after epoch 6: 5e-05\n",
      "New best model found. Saving the model at epoch 6.\n",
      "Epoch 7/100 - Training: product-category\n"
     ]
    },
    {
     "name": "stderr",
     "output_type": "stream",
     "text": [
      "Training Epoch 7: 100%|██████████| 286/286 [00:52<00:00,  5.41it/s, loss=0.649]\n"
     ]
    },
    {
     "name": "stdout",
     "output_type": "stream",
     "text": [
      "Average Loss after Epoch 7: 0.19899085124993657\n",
      "Learning rate after epoch 7: 5e-05\n",
      "New best model found. Saving the model at epoch 7.\n",
      "Epoch 8/100 - Training: product-category\n"
     ]
    },
    {
     "name": "stderr",
     "output_type": "stream",
     "text": [
      "Training Epoch 8: 100%|██████████| 286/286 [00:52<00:00,  5.40it/s, loss=0.0563]\n"
     ]
    },
    {
     "name": "stdout",
     "output_type": "stream",
     "text": [
      "Average Loss after Epoch 8: 0.1568657693899256\n",
      "Learning rate after epoch 8: 5e-05\n",
      "New best model found. Saving the model at epoch 8.\n",
      "Epoch 9/100 - Training: product-category\n"
     ]
    },
    {
     "name": "stderr",
     "output_type": "stream",
     "text": [
      "Training Epoch 9: 100%|██████████| 286/286 [00:52<00:00,  5.40it/s, loss=0.0653]\n"
     ]
    },
    {
     "name": "stdout",
     "output_type": "stream",
     "text": [
      "Average Loss after Epoch 9: 0.16238026575419817\n",
      "Learning rate after epoch 9: 5e-05\n",
      "Epoch 10/100 - Training: product-category\n"
     ]
    },
    {
     "name": "stderr",
     "output_type": "stream",
     "text": [
      "Training Epoch 10: 100%|██████████| 286/286 [00:52<00:00,  5.41it/s, loss=0.454]\n"
     ]
    },
    {
     "name": "stdout",
     "output_type": "stream",
     "text": [
      "Average Loss after Epoch 10: 0.1520811831366948\n",
      "Learning rate after epoch 10: 5e-05\n",
      "New best model found. Saving the model at epoch 10.\n",
      "Epoch 11/100 - Training: product-category\n"
     ]
    },
    {
     "name": "stderr",
     "output_type": "stream",
     "text": [
      "Training Epoch 11: 100%|██████████| 286/286 [00:52<00:00,  5.40it/s, loss=0.0108]\n"
     ]
    },
    {
     "name": "stdout",
     "output_type": "stream",
     "text": [
      "Average Loss after Epoch 11: 0.08438066993774912\n",
      "Learning rate after epoch 11: 5e-05\n",
      "New best model found. Saving the model at epoch 11.\n",
      "Epoch 12/100 - Training: product-category\n"
     ]
    },
    {
     "name": "stderr",
     "output_type": "stream",
     "text": [
      "Training Epoch 12: 100%|██████████| 286/286 [00:52<00:00,  5.40it/s, loss=0.281]\n"
     ]
    },
    {
     "name": "stdout",
     "output_type": "stream",
     "text": [
      "Average Loss after Epoch 12: 0.07455715556772283\n",
      "Learning rate after epoch 12: 5e-05\n",
      "New best model found. Saving the model at epoch 12.\n",
      "Epoch 13/100 - Training: product-category\n"
     ]
    },
    {
     "name": "stderr",
     "output_type": "stream",
     "text": [
      "Training Epoch 13: 100%|██████████| 286/286 [00:52<00:00,  5.41it/s, loss=0.0693]\n"
     ]
    },
    {
     "name": "stdout",
     "output_type": "stream",
     "text": [
      "Average Loss after Epoch 13: 0.11141322251292063\n",
      "Learning rate after epoch 13: 5e-05\n",
      "Epoch 14/100 - Training: product-category\n"
     ]
    },
    {
     "name": "stderr",
     "output_type": "stream",
     "text": [
      "Training Epoch 14: 100%|██████████| 286/286 [00:52<00:00,  5.40it/s, loss=0.027]\n"
     ]
    },
    {
     "name": "stdout",
     "output_type": "stream",
     "text": [
      "Average Loss after Epoch 14: 0.10923034313030645\n",
      "Learning rate after epoch 14: 5e-05\n",
      "Epoch 15/100 - Training: product-category\n"
     ]
    },
    {
     "name": "stderr",
     "output_type": "stream",
     "text": [
      "Training Epoch 15: 100%|██████████| 286/286 [00:52<00:00,  5.40it/s, loss=0.0109]\n"
     ]
    },
    {
     "name": "stdout",
     "output_type": "stream",
     "text": [
      "Average Loss after Epoch 15: 0.076214830688253\n",
      "Learning rate after epoch 15: 5e-05\n",
      "Epoch 16/100 - Training: product-category\n"
     ]
    },
    {
     "name": "stderr",
     "output_type": "stream",
     "text": [
      "Training Epoch 16: 100%|██████████| 286/286 [00:52<00:00,  5.40it/s, loss=0.065]\n"
     ]
    },
    {
     "name": "stdout",
     "output_type": "stream",
     "text": [
      "Average Loss after Epoch 16: 0.0858434138720256\n",
      "Learning rate after epoch 16: 5e-05\n",
      "Epoch 17/100 - Training: product-category\n"
     ]
    },
    {
     "name": "stderr",
     "output_type": "stream",
     "text": [
      "Training Epoch 17: 100%|██████████| 286/286 [00:52<00:00,  5.40it/s, loss=0.00179]\n"
     ]
    },
    {
     "name": "stdout",
     "output_type": "stream",
     "text": [
      "Average Loss after Epoch 17: 0.03294507826888491\n",
      "Learning rate after epoch 17: 5e-06\n",
      "New best model found. Saving the model at epoch 17.\n",
      "Epoch 18/100 - Training: product-category\n"
     ]
    },
    {
     "name": "stderr",
     "output_type": "stream",
     "text": [
      "Training Epoch 18: 100%|██████████| 286/286 [00:52<00:00,  5.41it/s, loss=0.00449]\n"
     ]
    },
    {
     "name": "stdout",
     "output_type": "stream",
     "text": [
      "Average Loss after Epoch 18: 0.019204272124981443\n",
      "Learning rate after epoch 18: 5e-06\n",
      "New best model found. Saving the model at epoch 18.\n",
      "Epoch 19/100 - Training: product-category\n"
     ]
    },
    {
     "name": "stderr",
     "output_type": "stream",
     "text": [
      "Training Epoch 19: 100%|██████████| 286/286 [00:52<00:00,  5.41it/s, loss=0.00493]\n"
     ]
    },
    {
     "name": "stdout",
     "output_type": "stream",
     "text": [
      "Average Loss after Epoch 19: 0.011152514893157812\n",
      "Learning rate after epoch 19: 5e-06\n",
      "New best model found. Saving the model at epoch 19.\n",
      "Epoch 20/100 - Training: product-category\n"
     ]
    },
    {
     "name": "stderr",
     "output_type": "stream",
     "text": [
      "Training Epoch 20: 100%|██████████| 286/286 [00:52<00:00,  5.40it/s, loss=0.00191]\n"
     ]
    },
    {
     "name": "stdout",
     "output_type": "stream",
     "text": [
      "Average Loss after Epoch 20: 0.010771887728185686\n",
      "Learning rate after epoch 20: 5e-06\n",
      "New best model found. Saving the model at epoch 20.\n",
      "Epoch 21/100 - Training: product-category\n"
     ]
    },
    {
     "name": "stderr",
     "output_type": "stream",
     "text": [
      "Training Epoch 21: 100%|██████████| 286/286 [00:52<00:00,  5.40it/s, loss=0.011]\n"
     ]
    },
    {
     "name": "stdout",
     "output_type": "stream",
     "text": [
      "Average Loss after Epoch 21: 0.0076726126359202545\n",
      "Learning rate after epoch 21: 5e-06\n",
      "New best model found. Saving the model at epoch 21.\n",
      "Epoch 22/100 - Training: product-category\n"
     ]
    },
    {
     "name": "stderr",
     "output_type": "stream",
     "text": [
      "Training Epoch 22: 100%|██████████| 286/286 [00:52<00:00,  5.40it/s, loss=0.00338]\n"
     ]
    },
    {
     "name": "stdout",
     "output_type": "stream",
     "text": [
      "Average Loss after Epoch 22: 0.005769629844291774\n",
      "Learning rate after epoch 22: 5e-06\n",
      "New best model found. Saving the model at epoch 22.\n",
      "Epoch 23/100 - Training: product-category\n"
     ]
    },
    {
     "name": "stderr",
     "output_type": "stream",
     "text": [
      "Training Epoch 23: 100%|██████████| 286/286 [00:52<00:00,  5.41it/s, loss=0.00171]\n"
     ]
    },
    {
     "name": "stdout",
     "output_type": "stream",
     "text": [
      "Average Loss after Epoch 23: 0.006352401991827426\n",
      "Learning rate after epoch 23: 5e-06\n",
      "Epoch 24/100 - Training: product-category\n"
     ]
    },
    {
     "name": "stderr",
     "output_type": "stream",
     "text": [
      "Training Epoch 24: 100%|██████████| 286/286 [00:52<00:00,  5.40it/s, loss=0.00371]\n"
     ]
    },
    {
     "name": "stdout",
     "output_type": "stream",
     "text": [
      "Average Loss after Epoch 24: 0.006962239490724266\n",
      "Learning rate after epoch 24: 5e-06\n",
      "Epoch 25/100 - Training: product-category\n"
     ]
    },
    {
     "name": "stderr",
     "output_type": "stream",
     "text": [
      "Training Epoch 25: 100%|██████████| 286/286 [00:52<00:00,  5.40it/s, loss=0.0022]\n"
     ]
    },
    {
     "name": "stdout",
     "output_type": "stream",
     "text": [
      "Average Loss after Epoch 25: 0.005532779169742708\n",
      "Learning rate after epoch 25: 5e-06\n",
      "New best model found. Saving the model at epoch 25.\n",
      "Epoch 26/100 - Training: product-category\n"
     ]
    },
    {
     "name": "stderr",
     "output_type": "stream",
     "text": [
      "Training Epoch 26: 100%|██████████| 286/286 [00:53<00:00,  5.39it/s, loss=0.00129]\n"
     ]
    },
    {
     "name": "stdout",
     "output_type": "stream",
     "text": [
      "Average Loss after Epoch 26: 0.005249544098107079\n",
      "Learning rate after epoch 26: 5e-06\n",
      "New best model found. Saving the model at epoch 26.\n",
      "Epoch 27/100 - Training: product-category\n"
     ]
    },
    {
     "name": "stderr",
     "output_type": "stream",
     "text": [
      "Training Epoch 27: 100%|██████████| 286/286 [00:52<00:00,  5.40it/s, loss=0.00185]\n"
     ]
    },
    {
     "name": "stdout",
     "output_type": "stream",
     "text": [
      "Average Loss after Epoch 27: 0.005237493642452792\n",
      "Learning rate after epoch 27: 5e-06\n",
      "New best model found. Saving the model at epoch 27.\n",
      "Epoch 28/100 - Training: product-category\n"
     ]
    },
    {
     "name": "stderr",
     "output_type": "stream",
     "text": [
      "Training Epoch 28: 100%|██████████| 286/286 [00:52<00:00,  5.40it/s, loss=0.00149]\n"
     ]
    },
    {
     "name": "stdout",
     "output_type": "stream",
     "text": [
      "Average Loss after Epoch 28: 0.0037408180781509856\n",
      "Learning rate after epoch 28: 5e-06\n",
      "New best model found. Saving the model at epoch 28.\n",
      "Epoch 29/100 - Training: product-category\n"
     ]
    },
    {
     "name": "stderr",
     "output_type": "stream",
     "text": [
      "Training Epoch 29: 100%|██████████| 286/286 [00:52<00:00,  5.40it/s, loss=0.00152]\n"
     ]
    },
    {
     "name": "stdout",
     "output_type": "stream",
     "text": [
      "Average Loss after Epoch 29: 0.004463376179809676\n",
      "Learning rate after epoch 29: 5e-06\n",
      "Epoch 30/100 - Training: product-category\n"
     ]
    },
    {
     "name": "stderr",
     "output_type": "stream",
     "text": [
      "Training Epoch 30: 100%|██████████| 286/286 [00:52<00:00,  5.40it/s, loss=0.00538]\n"
     ]
    },
    {
     "name": "stdout",
     "output_type": "stream",
     "text": [
      "Average Loss after Epoch 30: 0.0034538765160702298\n",
      "Learning rate after epoch 30: 5e-06\n",
      "New best model found. Saving the model at epoch 30.\n",
      "Epoch 31/100 - Training: product-category\n"
     ]
    },
    {
     "name": "stderr",
     "output_type": "stream",
     "text": [
      "Training Epoch 31: 100%|██████████| 286/286 [00:53<00:00,  5.40it/s, loss=0.00171]\n"
     ]
    },
    {
     "name": "stdout",
     "output_type": "stream",
     "text": [
      "Average Loss after Epoch 31: 0.003552416334021511\n",
      "Learning rate after epoch 31: 5e-06\n",
      "Epoch 32/100 - Training: product-category\n"
     ]
    },
    {
     "name": "stderr",
     "output_type": "stream",
     "text": [
      "Training Epoch 32: 100%|██████████| 286/286 [00:52<00:00,  5.40it/s, loss=0.00127]\n"
     ]
    },
    {
     "name": "stdout",
     "output_type": "stream",
     "text": [
      "Average Loss after Epoch 32: 0.0030810320161696577\n",
      "Learning rate after epoch 32: 5e-06\n",
      "New best model found. Saving the model at epoch 32.\n",
      "Epoch 33/100 - Training: product-category\n"
     ]
    },
    {
     "name": "stderr",
     "output_type": "stream",
     "text": [
      "Training Epoch 33: 100%|██████████| 286/286 [00:52<00:00,  5.40it/s, loss=0.000856]\n"
     ]
    },
    {
     "name": "stdout",
     "output_type": "stream",
     "text": [
      "Average Loss after Epoch 33: 0.003429584452024355\n",
      "Learning rate after epoch 33: 5e-06\n",
      "Epoch 34/100 - Training: product-category\n"
     ]
    },
    {
     "name": "stderr",
     "output_type": "stream",
     "text": [
      "Training Epoch 34: 100%|██████████| 286/286 [00:52<00:00,  5.40it/s, loss=0.00126]\n"
     ]
    },
    {
     "name": "stdout",
     "output_type": "stream",
     "text": [
      "Average Loss after Epoch 34: 0.0031614507475446166\n",
      "Learning rate after epoch 34: 5e-06\n",
      "Epoch 35/100 - Training: product-category\n"
     ]
    },
    {
     "name": "stderr",
     "output_type": "stream",
     "text": [
      "Training Epoch 35: 100%|██████████| 286/286 [00:53<00:00,  5.40it/s, loss=0.000617]\n"
     ]
    },
    {
     "name": "stdout",
     "output_type": "stream",
     "text": [
      "Average Loss after Epoch 35: 0.003196704839344032\n",
      "Learning rate after epoch 35: 5e-06\n",
      "Epoch 36/100 - Training: product-category\n"
     ]
    },
    {
     "name": "stderr",
     "output_type": "stream",
     "text": [
      "Training Epoch 36: 100%|██████████| 286/286 [00:52<00:00,  5.41it/s, loss=0.00319]\n"
     ]
    },
    {
     "name": "stdout",
     "output_type": "stream",
     "text": [
      "Average Loss after Epoch 36: 0.003451730213083255\n",
      "Learning rate after epoch 36: 5e-06\n",
      "Epoch 37/100 - Training: product-category\n"
     ]
    },
    {
     "name": "stderr",
     "output_type": "stream",
     "text": [
      "Training Epoch 37: 100%|██████████| 286/286 [00:52<00:00,  5.41it/s, loss=0.000927]\n"
     ]
    },
    {
     "name": "stdout",
     "output_type": "stream",
     "text": [
      "Average Loss after Epoch 37: 0.0023768705513712565\n",
      "Learning rate after epoch 37: 5.000000000000001e-07\n",
      "New best model found. Saving the model at epoch 37.\n",
      "Epoch 38/100 - Training: product-category\n"
     ]
    },
    {
     "name": "stderr",
     "output_type": "stream",
     "text": [
      "Training Epoch 38: 100%|██████████| 286/286 [00:52<00:00,  5.41it/s, loss=0.0795]\n"
     ]
    },
    {
     "name": "stdout",
     "output_type": "stream",
     "text": [
      "Average Loss after Epoch 38: 0.002559650205385096\n",
      "Learning rate after epoch 38: 5.000000000000001e-07\n",
      "Epoch 39/100 - Training: product-category\n"
     ]
    },
    {
     "name": "stderr",
     "output_type": "stream",
     "text": [
      "Training Epoch 39: 100%|██████████| 286/286 [00:52<00:00,  5.41it/s, loss=0.000629]\n"
     ]
    },
    {
     "name": "stdout",
     "output_type": "stream",
     "text": [
      "Average Loss after Epoch 39: 0.002231074873520016\n",
      "Learning rate after epoch 39: 5.000000000000001e-07\n",
      "New best model found. Saving the model at epoch 39.\n",
      "Epoch 40/100 - Training: product-category\n"
     ]
    },
    {
     "name": "stderr",
     "output_type": "stream",
     "text": [
      "Training Epoch 40: 100%|██████████| 286/286 [00:52<00:00,  5.40it/s, loss=0.000901]\n"
     ]
    },
    {
     "name": "stdout",
     "output_type": "stream",
     "text": [
      "Average Loss after Epoch 40: 0.0023546565879279603\n",
      "Learning rate after epoch 40: 5.000000000000001e-07\n",
      "Epoch 41/100 - Training: product-category\n"
     ]
    },
    {
     "name": "stderr",
     "output_type": "stream",
     "text": [
      "Training Epoch 41: 100%|██████████| 286/286 [00:52<00:00,  5.41it/s, loss=0.000776]\n"
     ]
    },
    {
     "name": "stdout",
     "output_type": "stream",
     "text": [
      "Average Loss after Epoch 41: 0.002331058231285786\n",
      "Learning rate after epoch 41: 5.000000000000001e-07\n",
      "Epoch 42/100 - Training: product-category\n"
     ]
    },
    {
     "name": "stderr",
     "output_type": "stream",
     "text": [
      "Training Epoch 42: 100%|██████████| 286/286 [00:52<00:00,  5.40it/s, loss=0.00055]\n"
     ]
    },
    {
     "name": "stdout",
     "output_type": "stream",
     "text": [
      "Average Loss after Epoch 42: 0.0020129910914041755\n",
      "Learning rate after epoch 42: 5.000000000000001e-07\n",
      "New best model found. Saving the model at epoch 42.\n",
      "Epoch 43/100 - Training: product-category\n"
     ]
    },
    {
     "name": "stderr",
     "output_type": "stream",
     "text": [
      "Training Epoch 43: 100%|██████████| 286/286 [00:52<00:00,  5.40it/s, loss=0.000671]\n"
     ]
    },
    {
     "name": "stdout",
     "output_type": "stream",
     "text": [
      "Average Loss after Epoch 43: 0.001966502049052925\n",
      "Learning rate after epoch 43: 5.000000000000001e-07\n",
      "New best model found. Saving the model at epoch 43.\n",
      "Epoch 44/100 - Training: product-category\n"
     ]
    },
    {
     "name": "stderr",
     "output_type": "stream",
     "text": [
      "Training Epoch 44: 100%|██████████| 286/286 [00:52<00:00,  5.41it/s, loss=0.000717]\n"
     ]
    },
    {
     "name": "stdout",
     "output_type": "stream",
     "text": [
      "Average Loss after Epoch 44: 0.00218858458360224\n",
      "Learning rate after epoch 44: 5.000000000000001e-07\n",
      "Epoch 45/100 - Training: product-category\n"
     ]
    },
    {
     "name": "stderr",
     "output_type": "stream",
     "text": [
      "Training Epoch 45: 100%|██████████| 286/286 [00:52<00:00,  5.40it/s, loss=0.000638]\n"
     ]
    },
    {
     "name": "stdout",
     "output_type": "stream",
     "text": [
      "Average Loss after Epoch 45: 0.0017897873853131398\n",
      "Learning rate after epoch 45: 5.000000000000001e-07\n",
      "New best model found. Saving the model at epoch 45.\n",
      "Epoch 46/100 - Training: product-category\n"
     ]
    },
    {
     "name": "stderr",
     "output_type": "stream",
     "text": [
      "Training Epoch 46: 100%|██████████| 286/286 [00:52<00:00,  5.41it/s, loss=0.000454]\n"
     ]
    },
    {
     "name": "stdout",
     "output_type": "stream",
     "text": [
      "Average Loss after Epoch 46: 0.001987512760113443\n",
      "Learning rate after epoch 46: 5.000000000000001e-07\n",
      "Epoch 47/100 - Training: product-category\n"
     ]
    },
    {
     "name": "stderr",
     "output_type": "stream",
     "text": [
      "Training Epoch 47: 100%|██████████| 286/286 [00:52<00:00,  5.41it/s, loss=0.000728]\n"
     ]
    },
    {
     "name": "stdout",
     "output_type": "stream",
     "text": [
      "Average Loss after Epoch 47: 0.002033433963937874\n",
      "Learning rate after epoch 47: 5.000000000000001e-07\n",
      "Epoch 48/100 - Training: product-category\n"
     ]
    },
    {
     "name": "stderr",
     "output_type": "stream",
     "text": [
      "Training Epoch 48: 100%|██████████| 286/286 [00:52<00:00,  5.41it/s, loss=0.00358]\n"
     ]
    },
    {
     "name": "stdout",
     "output_type": "stream",
     "text": [
      "Average Loss after Epoch 48: 0.0018357628790769153\n",
      "Learning rate after epoch 48: 5.000000000000001e-07\n",
      "Epoch 49/100 - Training: product-category\n"
     ]
    },
    {
     "name": "stderr",
     "output_type": "stream",
     "text": [
      "Training Epoch 49: 100%|██████████| 286/286 [00:52<00:00,  5.40it/s, loss=0.000746]\n"
     ]
    },
    {
     "name": "stdout",
     "output_type": "stream",
     "text": [
      "Average Loss after Epoch 49: 0.002045433026603325\n",
      "Learning rate after epoch 49: 5.000000000000001e-07\n",
      "Epoch 50/100 - Training: product-category\n"
     ]
    },
    {
     "name": "stderr",
     "output_type": "stream",
     "text": [
      "Training Epoch 50: 100%|██████████| 286/286 [00:52<00:00,  5.40it/s, loss=0.000626]\n"
     ]
    },
    {
     "name": "stdout",
     "output_type": "stream",
     "text": [
      "Average Loss after Epoch 50: 0.0018114368641916727\n",
      "Learning rate after epoch 50: 5.000000000000001e-08\n",
      "Epoch 51/100 - Training: product-category\n"
     ]
    },
    {
     "name": "stderr",
     "output_type": "stream",
     "text": [
      "Training Epoch 51: 100%|██████████| 286/286 [00:52<00:00,  5.41it/s, loss=0.000755]\n"
     ]
    },
    {
     "name": "stdout",
     "output_type": "stream",
     "text": [
      "Average Loss after Epoch 51: 0.0024268498494236087\n",
      "Learning rate after epoch 51: 5.000000000000001e-08\n",
      "Early stopping triggered!\n",
      "Saving the best model from epoch 45.\n",
      "Evaluating model for task: product-category\n"
     ]
    },
    {
     "name": "stderr",
     "output_type": "stream",
     "text": [
      "Evaluating: 100%|██████████| 32/32 [00:02<00:00, 12.44it/s]\n"
     ]
    },
    {
     "name": "stdout",
     "output_type": "stream",
     "text": [
      "F1-Score for product-category: 0.6201223537173993\n",
      "Classification Report for product-category:\n",
      "\n",
      "                                                   precision    recall  f1-score   support\n",
      "\n",
      "                              alcoholic beverages       0.50      0.50      0.50         2\n",
      "                      cereals and bakery products       0.66      0.74      0.70        54\n",
      "     cocoa and cocoa preparations, coffee and tea       0.75      0.72      0.74        29\n",
      "                                    confectionery       0.69      0.55      0.61        20\n",
      "dietetic foods, food supplements, fortified foods       0.62      0.73      0.67        11\n",
      "                                    fats and oils       1.00      0.33      0.50         3\n",
      "                                   feed materials       0.00      0.00      0.00         2\n",
      "                           food contact materials       1.00      1.00      1.00         1\n",
      "                            fruits and vegetables       0.75      0.77      0.76        56\n",
      "                                 herbs and spices       0.55      0.67      0.60         9\n",
      "                            honey and royal jelly       0.00      0.00      0.00         0\n",
      "                                ices and desserts       0.94      0.88      0.91        33\n",
      "                     meat, egg and dairy products       0.87      0.94      0.90       131\n",
      "                          non-alcoholic beverages       1.00      0.75      0.86        16\n",
      "                     nuts, nut products and seeds       0.83      0.81      0.82        37\n",
      "                       other food product / mixed       0.00      0.00      0.00         1\n",
      "                                         pet feed       0.75      1.00      0.86         3\n",
      "                       prepared dishes and snacks       0.64      0.45      0.53        51\n",
      "                                          seafood       0.90      0.93      0.91        28\n",
      "             soups, broths, sauces and condiments       0.62      0.71      0.67        21\n",
      "                                sugars and syrups       0.33      1.00      0.50         1\n",
      "\n",
      "                                         accuracy                           0.77       509\n",
      "                                        macro avg       0.64      0.64      0.62       509\n",
      "                                     weighted avg       0.77      0.77      0.77       509\n",
      "\n",
      "Label Encoder for product-category saved in './best_model_product-category'\n",
      "\n",
      "Starting training for task: hazard\n"
     ]
    },
    {
     "name": "stderr",
     "output_type": "stream",
     "text": [
      "Some weights of BertForSequenceClassification were not initialized from the model checkpoint at dmis-lab/biobert-base-cased-v1.2 and are newly initialized: ['classifier.bias', 'classifier.weight']\n",
      "You should probably TRAIN this model on a down-stream task to be able to use it for predictions and inference.\n"
     ]
    },
    {
     "name": "stdout",
     "output_type": "stream",
     "text": [
      "Epoch 1/100 - Training: hazard\n"
     ]
    },
    {
     "name": "stderr",
     "output_type": "stream",
     "text": [
      "Training Epoch 1: 100%|██████████| 286/286 [00:52<00:00,  5.40it/s, loss=2.5]\n"
     ]
    },
    {
     "name": "stdout",
     "output_type": "stream",
     "text": [
      "Average Loss after Epoch 1: 2.3707956527913367\n",
      "Learning rate after epoch 1: 5e-05\n",
      "New best model found. Saving the model at epoch 1.\n",
      "Epoch 2/100 - Training: hazard\n"
     ]
    },
    {
     "name": "stderr",
     "output_type": "stream",
     "text": [
      "Training Epoch 2: 100%|██████████| 286/286 [00:52<00:00,  5.40it/s, loss=1.35]\n"
     ]
    },
    {
     "name": "stdout",
     "output_type": "stream",
     "text": [
      "Average Loss after Epoch 2: 1.2440684902501273\n",
      "Learning rate after epoch 2: 5e-05\n",
      "New best model found. Saving the model at epoch 2.\n",
      "Epoch 3/100 - Training: hazard\n"
     ]
    },
    {
     "name": "stderr",
     "output_type": "stream",
     "text": [
      "Training Epoch 3: 100%|██████████| 286/286 [00:52<00:00,  5.40it/s, loss=0.428]\n"
     ]
    },
    {
     "name": "stdout",
     "output_type": "stream",
     "text": [
      "Average Loss after Epoch 3: 0.9277179512371133\n",
      "Learning rate after epoch 3: 5e-05\n",
      "New best model found. Saving the model at epoch 3.\n",
      "Epoch 4/100 - Training: hazard\n"
     ]
    },
    {
     "name": "stderr",
     "output_type": "stream",
     "text": [
      "Training Epoch 4: 100%|██████████| 286/286 [00:52<00:00,  5.40it/s, loss=0.201]\n"
     ]
    },
    {
     "name": "stdout",
     "output_type": "stream",
     "text": [
      "Average Loss after Epoch 4: 0.7212726442807621\n",
      "Learning rate after epoch 4: 5e-05\n",
      "New best model found. Saving the model at epoch 4.\n",
      "Epoch 5/100 - Training: hazard\n"
     ]
    },
    {
     "name": "stderr",
     "output_type": "stream",
     "text": [
      "Training Epoch 5: 100%|██████████| 286/286 [00:52<00:00,  5.40it/s, loss=1.4]\n"
     ]
    },
    {
     "name": "stdout",
     "output_type": "stream",
     "text": [
      "Average Loss after Epoch 5: 0.5922284591422006\n",
      "Learning rate after epoch 5: 5e-05\n",
      "New best model found. Saving the model at epoch 5.\n",
      "Epoch 6/100 - Training: hazard\n"
     ]
    },
    {
     "name": "stderr",
     "output_type": "stream",
     "text": [
      "Training Epoch 6: 100%|██████████| 286/286 [00:52<00:00,  5.40it/s, loss=0.88]\n"
     ]
    },
    {
     "name": "stdout",
     "output_type": "stream",
     "text": [
      "Average Loss after Epoch 6: 0.4681025832839362\n",
      "Learning rate after epoch 6: 5e-05\n",
      "New best model found. Saving the model at epoch 6.\n",
      "Epoch 7/100 - Training: hazard\n"
     ]
    },
    {
     "name": "stderr",
     "output_type": "stream",
     "text": [
      "Training Epoch 7: 100%|██████████| 286/286 [00:52<00:00,  5.40it/s, loss=0.148]\n"
     ]
    },
    {
     "name": "stdout",
     "output_type": "stream",
     "text": [
      "Average Loss after Epoch 7: 0.3980529168197377\n",
      "Learning rate after epoch 7: 5e-05\n",
      "New best model found. Saving the model at epoch 7.\n",
      "Epoch 8/100 - Training: hazard\n"
     ]
    },
    {
     "name": "stderr",
     "output_type": "stream",
     "text": [
      "Training Epoch 8: 100%|██████████| 286/286 [00:52<00:00,  5.40it/s, loss=1.17]\n"
     ]
    },
    {
     "name": "stdout",
     "output_type": "stream",
     "text": [
      "Average Loss after Epoch 8: 0.3335646670962964\n",
      "Learning rate after epoch 8: 5e-05\n",
      "New best model found. Saving the model at epoch 8.\n",
      "Epoch 9/100 - Training: hazard\n"
     ]
    },
    {
     "name": "stderr",
     "output_type": "stream",
     "text": [
      "Training Epoch 9: 100%|██████████| 286/286 [00:52<00:00,  5.41it/s, loss=0.117]\n"
     ]
    },
    {
     "name": "stdout",
     "output_type": "stream",
     "text": [
      "Average Loss after Epoch 9: 0.30911030407044127\n",
      "Learning rate after epoch 9: 5e-05\n",
      "New best model found. Saving the model at epoch 9.\n",
      "Epoch 10/100 - Training: hazard\n"
     ]
    },
    {
     "name": "stderr",
     "output_type": "stream",
     "text": [
      "Training Epoch 10: 100%|██████████| 286/286 [00:52<00:00,  5.41it/s, loss=0.219]\n"
     ]
    },
    {
     "name": "stdout",
     "output_type": "stream",
     "text": [
      "Average Loss after Epoch 10: 0.2487182405718661\n",
      "Learning rate after epoch 10: 5e-05\n",
      "New best model found. Saving the model at epoch 10.\n",
      "Epoch 11/100 - Training: hazard\n"
     ]
    },
    {
     "name": "stderr",
     "output_type": "stream",
     "text": [
      "Training Epoch 11: 100%|██████████| 286/286 [00:52<00:00,  5.40it/s, loss=0.0779]\n"
     ]
    },
    {
     "name": "stdout",
     "output_type": "stream",
     "text": [
      "Average Loss after Epoch 11: 0.21235648668664214\n",
      "Learning rate after epoch 11: 5e-05\n",
      "New best model found. Saving the model at epoch 11.\n",
      "Epoch 12/100 - Training: hazard\n"
     ]
    },
    {
     "name": "stderr",
     "output_type": "stream",
     "text": [
      "Training Epoch 12: 100%|██████████| 286/286 [00:52<00:00,  5.40it/s, loss=0.195]\n"
     ]
    },
    {
     "name": "stdout",
     "output_type": "stream",
     "text": [
      "Average Loss after Epoch 12: 0.18317036308556586\n",
      "Learning rate after epoch 12: 5e-05\n",
      "New best model found. Saving the model at epoch 12.\n",
      "Epoch 13/100 - Training: hazard\n"
     ]
    },
    {
     "name": "stderr",
     "output_type": "stream",
     "text": [
      "Training Epoch 13: 100%|██████████| 286/286 [00:52<00:00,  5.40it/s, loss=0.215]\n"
     ]
    },
    {
     "name": "stdout",
     "output_type": "stream",
     "text": [
      "Average Loss after Epoch 13: 0.15730587593312342\n",
      "Learning rate after epoch 13: 5e-05\n",
      "New best model found. Saving the model at epoch 13.\n",
      "Epoch 14/100 - Training: hazard\n"
     ]
    },
    {
     "name": "stderr",
     "output_type": "stream",
     "text": [
      "Training Epoch 14: 100%|██████████| 286/286 [00:52<00:00,  5.40it/s, loss=0.21]\n"
     ]
    },
    {
     "name": "stdout",
     "output_type": "stream",
     "text": [
      "Average Loss after Epoch 14: 0.17574947709836378\n",
      "Learning rate after epoch 14: 5e-05\n",
      "Epoch 15/100 - Training: hazard\n"
     ]
    },
    {
     "name": "stderr",
     "output_type": "stream",
     "text": [
      "Training Epoch 15: 100%|██████████| 286/286 [00:52<00:00,  5.41it/s, loss=0.139]\n"
     ]
    },
    {
     "name": "stdout",
     "output_type": "stream",
     "text": [
      "Average Loss after Epoch 15: 0.1701414721685794\n",
      "Learning rate after epoch 15: 5e-05\n",
      "Epoch 16/100 - Training: hazard\n"
     ]
    },
    {
     "name": "stderr",
     "output_type": "stream",
     "text": [
      "Training Epoch 16: 100%|██████████| 286/286 [00:52<00:00,  5.40it/s, loss=0.019]\n"
     ]
    },
    {
     "name": "stdout",
     "output_type": "stream",
     "text": [
      "Average Loss after Epoch 16: 0.11788925998909333\n",
      "Learning rate after epoch 16: 5e-05\n",
      "New best model found. Saving the model at epoch 16.\n",
      "Epoch 17/100 - Training: hazard\n"
     ]
    },
    {
     "name": "stderr",
     "output_type": "stream",
     "text": [
      "Training Epoch 17: 100%|██████████| 286/286 [00:52<00:00,  5.40it/s, loss=0.052]\n"
     ]
    },
    {
     "name": "stdout",
     "output_type": "stream",
     "text": [
      "Average Loss after Epoch 17: 0.09838887947608255\n",
      "Learning rate after epoch 17: 5e-05\n",
      "New best model found. Saving the model at epoch 17.\n",
      "Epoch 18/100 - Training: hazard\n"
     ]
    },
    {
     "name": "stderr",
     "output_type": "stream",
     "text": [
      "Training Epoch 18: 100%|██████████| 286/286 [00:53<00:00,  5.40it/s, loss=0.0457]\n"
     ]
    },
    {
     "name": "stdout",
     "output_type": "stream",
     "text": [
      "Average Loss after Epoch 18: 0.07305046088807936\n",
      "Learning rate after epoch 18: 5e-05\n",
      "New best model found. Saving the model at epoch 18.\n",
      "Epoch 19/100 - Training: hazard\n"
     ]
    },
    {
     "name": "stderr",
     "output_type": "stream",
     "text": [
      "Training Epoch 19: 100%|██████████| 286/286 [00:52<00:00,  5.40it/s, loss=0.0149]\n"
     ]
    },
    {
     "name": "stdout",
     "output_type": "stream",
     "text": [
      "Average Loss after Epoch 19: 0.06337788503314205\n",
      "Learning rate after epoch 19: 5e-05\n",
      "New best model found. Saving the model at epoch 19.\n",
      "Epoch 20/100 - Training: hazard\n"
     ]
    },
    {
     "name": "stderr",
     "output_type": "stream",
     "text": [
      "Training Epoch 20: 100%|██████████| 286/286 [00:53<00:00,  5.40it/s, loss=0.141]\n"
     ]
    },
    {
     "name": "stdout",
     "output_type": "stream",
     "text": [
      "Average Loss after Epoch 20: 0.08028745345471726\n",
      "Learning rate after epoch 20: 5e-05\n",
      "Epoch 21/100 - Training: hazard\n"
     ]
    },
    {
     "name": "stderr",
     "output_type": "stream",
     "text": [
      "Training Epoch 21: 100%|██████████| 286/286 [00:53<00:00,  5.40it/s, loss=0.0246]\n"
     ]
    },
    {
     "name": "stdout",
     "output_type": "stream",
     "text": [
      "Average Loss after Epoch 21: 0.07517758993532873\n",
      "Learning rate after epoch 21: 5e-05\n",
      "Epoch 22/100 - Training: hazard\n"
     ]
    },
    {
     "name": "stderr",
     "output_type": "stream",
     "text": [
      "Training Epoch 22: 100%|██████████| 286/286 [00:52<00:00,  5.40it/s, loss=0.0182]\n"
     ]
    },
    {
     "name": "stdout",
     "output_type": "stream",
     "text": [
      "Average Loss after Epoch 22: 0.05972173707592268\n",
      "Learning rate after epoch 22: 5e-05\n",
      "New best model found. Saving the model at epoch 22.\n",
      "Epoch 23/100 - Training: hazard\n"
     ]
    },
    {
     "name": "stderr",
     "output_type": "stream",
     "text": [
      "Training Epoch 23: 100%|██████████| 286/286 [00:52<00:00,  5.40it/s, loss=0.0818]\n"
     ]
    },
    {
     "name": "stdout",
     "output_type": "stream",
     "text": [
      "Average Loss after Epoch 23: 0.06736668279488942\n",
      "Learning rate after epoch 23: 5e-05\n",
      "Epoch 24/100 - Training: hazard\n"
     ]
    },
    {
     "name": "stderr",
     "output_type": "stream",
     "text": [
      "Training Epoch 24: 100%|██████████| 286/286 [00:52<00:00,  5.40it/s, loss=0.302]\n"
     ]
    },
    {
     "name": "stdout",
     "output_type": "stream",
     "text": [
      "Average Loss after Epoch 24: 0.10070722216212719\n",
      "Learning rate after epoch 24: 5e-05\n",
      "Epoch 25/100 - Training: hazard\n"
     ]
    },
    {
     "name": "stderr",
     "output_type": "stream",
     "text": [
      "Training Epoch 25: 100%|██████████| 286/286 [00:53<00:00,  5.39it/s, loss=0.0686]\n"
     ]
    },
    {
     "name": "stdout",
     "output_type": "stream",
     "text": [
      "Average Loss after Epoch 25: 0.10076332740221902\n",
      "Learning rate after epoch 25: 5e-05\n",
      "Epoch 26/100 - Training: hazard\n"
     ]
    },
    {
     "name": "stderr",
     "output_type": "stream",
     "text": [
      "Training Epoch 26: 100%|██████████| 286/286 [00:53<00:00,  5.40it/s, loss=0.012]\n"
     ]
    },
    {
     "name": "stdout",
     "output_type": "stream",
     "text": [
      "Average Loss after Epoch 26: 0.0563326601136046\n",
      "Learning rate after epoch 26: 5e-05\n",
      "New best model found. Saving the model at epoch 26.\n",
      "Epoch 27/100 - Training: hazard\n"
     ]
    },
    {
     "name": "stderr",
     "output_type": "stream",
     "text": [
      "Training Epoch 27: 100%|██████████| 286/286 [00:52<00:00,  5.40it/s, loss=0.209]\n"
     ]
    },
    {
     "name": "stdout",
     "output_type": "stream",
     "text": [
      "Average Loss after Epoch 27: 0.048237211797532945\n",
      "Learning rate after epoch 27: 5e-05\n",
      "New best model found. Saving the model at epoch 27.\n",
      "Epoch 28/100 - Training: hazard\n"
     ]
    },
    {
     "name": "stderr",
     "output_type": "stream",
     "text": [
      "Training Epoch 28: 100%|██████████| 286/286 [00:53<00:00,  5.39it/s, loss=0.0141]\n"
     ]
    },
    {
     "name": "stdout",
     "output_type": "stream",
     "text": [
      "Average Loss after Epoch 28: 0.06640943080769734\n",
      "Learning rate after epoch 28: 5e-05\n",
      "Epoch 29/100 - Training: hazard\n"
     ]
    },
    {
     "name": "stderr",
     "output_type": "stream",
     "text": [
      "Training Epoch 29: 100%|██████████| 286/286 [00:52<00:00,  5.40it/s, loss=0.00543]\n"
     ]
    },
    {
     "name": "stdout",
     "output_type": "stream",
     "text": [
      "Average Loss after Epoch 29: 0.06805423217283406\n",
      "Learning rate after epoch 29: 5e-05\n",
      "Epoch 30/100 - Training: hazard\n"
     ]
    },
    {
     "name": "stderr",
     "output_type": "stream",
     "text": [
      "Training Epoch 30: 100%|██████████| 286/286 [00:52<00:00,  5.40it/s, loss=0.0165]\n"
     ]
    },
    {
     "name": "stdout",
     "output_type": "stream",
     "text": [
      "Average Loss after Epoch 30: 0.05223778452214596\n",
      "Learning rate after epoch 30: 5e-05\n",
      "Epoch 31/100 - Training: hazard\n"
     ]
    },
    {
     "name": "stderr",
     "output_type": "stream",
     "text": [
      "Training Epoch 31: 100%|██████████| 286/286 [00:52<00:00,  5.40it/s, loss=0.00944]\n"
     ]
    },
    {
     "name": "stdout",
     "output_type": "stream",
     "text": [
      "Average Loss after Epoch 31: 0.03069558041638343\n",
      "Learning rate after epoch 31: 5e-05\n",
      "New best model found. Saving the model at epoch 31.\n",
      "Epoch 32/100 - Training: hazard\n"
     ]
    },
    {
     "name": "stderr",
     "output_type": "stream",
     "text": [
      "Training Epoch 32: 100%|██████████| 286/286 [00:53<00:00,  5.39it/s, loss=0.00806]\n"
     ]
    },
    {
     "name": "stdout",
     "output_type": "stream",
     "text": [
      "Average Loss after Epoch 32: 0.013575823768367665\n",
      "Learning rate after epoch 32: 5e-05\n",
      "New best model found. Saving the model at epoch 32.\n",
      "Epoch 33/100 - Training: hazard\n"
     ]
    },
    {
     "name": "stderr",
     "output_type": "stream",
     "text": [
      "Training Epoch 33: 100%|██████████| 286/286 [00:52<00:00,  5.40it/s, loss=0.00482]\n"
     ]
    },
    {
     "name": "stdout",
     "output_type": "stream",
     "text": [
      "Average Loss after Epoch 33: 0.011385522699561557\n",
      "Learning rate after epoch 33: 5e-05\n",
      "New best model found. Saving the model at epoch 33.\n",
      "Epoch 34/100 - Training: hazard\n"
     ]
    },
    {
     "name": "stderr",
     "output_type": "stream",
     "text": [
      "Training Epoch 34: 100%|██████████| 286/286 [00:53<00:00,  5.39it/s, loss=0.00398]\n"
     ]
    },
    {
     "name": "stdout",
     "output_type": "stream",
     "text": [
      "Average Loss after Epoch 34: 0.013835882679705827\n",
      "Learning rate after epoch 34: 5e-05\n",
      "Epoch 35/100 - Training: hazard\n"
     ]
    },
    {
     "name": "stderr",
     "output_type": "stream",
     "text": [
      "Training Epoch 35: 100%|██████████| 286/286 [00:52<00:00,  5.40it/s, loss=0.00297]\n"
     ]
    },
    {
     "name": "stdout",
     "output_type": "stream",
     "text": [
      "Average Loss after Epoch 35: 0.03270844952386504\n",
      "Learning rate after epoch 35: 5e-05\n",
      "Epoch 36/100 - Training: hazard\n"
     ]
    },
    {
     "name": "stderr",
     "output_type": "stream",
     "text": [
      "Training Epoch 36: 100%|██████████| 286/286 [00:53<00:00,  5.40it/s, loss=0.0244]\n"
     ]
    },
    {
     "name": "stdout",
     "output_type": "stream",
     "text": [
      "Average Loss after Epoch 36: 0.07914748131435925\n",
      "Learning rate after epoch 36: 5e-05\n",
      "Epoch 37/100 - Training: hazard\n"
     ]
    },
    {
     "name": "stderr",
     "output_type": "stream",
     "text": [
      "Training Epoch 37: 100%|██████████| 286/286 [00:52<00:00,  5.40it/s, loss=0.0521]\n"
     ]
    },
    {
     "name": "stdout",
     "output_type": "stream",
     "text": [
      "Average Loss after Epoch 37: 0.09608704289946529\n",
      "Learning rate after epoch 37: 5e-05\n",
      "Epoch 38/100 - Training: hazard\n"
     ]
    },
    {
     "name": "stderr",
     "output_type": "stream",
     "text": [
      "Training Epoch 38: 100%|██████████| 286/286 [00:53<00:00,  5.39it/s, loss=0.00927]\n"
     ]
    },
    {
     "name": "stdout",
     "output_type": "stream",
     "text": [
      "Average Loss after Epoch 38: 0.02902185729699913\n",
      "Learning rate after epoch 38: 5e-06\n",
      "Epoch 39/100 - Training: hazard\n"
     ]
    },
    {
     "name": "stderr",
     "output_type": "stream",
     "text": [
      "Training Epoch 39: 100%|██████████| 286/286 [00:53<00:00,  5.39it/s, loss=0.00799]\n"
     ]
    },
    {
     "name": "stdout",
     "output_type": "stream",
     "text": [
      "Average Loss after Epoch 39: 0.012595329659183386\n",
      "Learning rate after epoch 39: 5e-06\n",
      "Early stopping triggered!\n",
      "Saving the best model from epoch 33.\n",
      "Evaluating model for task: hazard\n"
     ]
    },
    {
     "name": "stderr",
     "output_type": "stream",
     "text": [
      "Evaluating: 100%|██████████| 32/32 [00:02<00:00, 12.53it/s]\n"
     ]
    },
    {
     "name": "stdout",
     "output_type": "stream",
     "text": [
      "F1-Score for hazard: 0.5906023942387938\n",
      "Classification Report for hazard:\n",
      "\n",
      "                                                 precision    recall  f1-score   support\n",
      "\n",
      "                                      Aflatoxin       1.00      1.00      1.00         2\n",
      "                                      alkaloids       0.00      0.00      0.00         2\n",
      "                                      allergens       0.00      0.00      0.00         3\n",
      "                                         almond       0.67      1.00      0.80         4\n",
      "                                      amygdalin       0.00      0.00      0.00         1\n",
      "                           bad smell / off odor       0.00      0.00      0.00         1\n",
      "                                  bone fragment       1.00      1.00      1.00         1\n",
      "                                     brazil nut       1.00      1.00      1.00         1\n",
      "                              bulging packaging       0.00      0.00      0.00         2\n",
      "                                         cashew       1.00      0.80      0.89         5\n",
      "                    celery and products thereof       0.00      0.00      0.00         1\n",
      " cereals containing gluten and products thereof       0.83      0.88      0.86        17\n",
      "                                       chemical       0.00      0.00      0.00         1\n",
      "               chemical compound (high content)       1.00      1.00      1.00         1\n",
      "                          clostridium botulinum       0.75      1.00      0.86         3\n",
      "                                        coconut       0.00      0.00      0.00         1\n",
      "                        compositional deviation       0.00      0.00      0.00         1\n",
      "                                cronobacter spp       0.00      0.00      0.00         1\n",
      "               crustaceans and products thereof       0.50      1.00      0.67         1\n",
      "                    e 425 - konjac unauthorised       0.67      1.00      0.80         2\n",
      "                      eggs and products thereof       0.88      0.94      0.91        16\n",
      "                               escherichia coli       1.00      1.00      1.00        16\n",
      "                      fish and products thereof       1.00      0.60      0.75         5\n",
      "                                 foreign bodies       0.67      1.00      0.80         2\n",
      "                                 glass fragment       1.00      0.90      0.95        10\n",
      "                                       hazelnut       1.00      1.00      1.00         2\n",
      "                                   heavy metals       0.80      1.00      0.89         4\n",
      "                        high content of cyanide       0.50      1.00      0.67         1\n",
      "                            improper conditions       0.00      0.00      0.00         2\n",
      "                             improper packaging       0.00      0.00      0.00         1\n",
      "                             incorrect labeling       0.00      0.00      0.00         1\n",
      "                         incorrect use by dates       1.00      1.00      1.00         4\n",
      "                              inspection issues       0.75      0.86      0.80         7\n",
      "           insufficient labelling/documentation       0.00      0.00      0.00         0\n",
      "                       labelling/misdescription       0.67      0.67      0.67         3\n",
      "                         listeria monocytogenes       0.94      0.96      0.95        75\n",
      "                                   listeria spp       0.00      0.00      0.00         1\n",
      "                                 metal fragment       0.94      0.94      0.94        16\n",
      "                  microbiological contamination       1.00      0.50      0.67         2\n",
      "                      milk and products thereof       0.94      1.00      0.97        59\n",
      "                                    misbranding       0.00      0.00      0.00         0\n",
      "                                 misdescription       0.50      1.00      0.67         1\n",
      "                                         moulds       1.00      1.00      1.00         1\n",
      "                   mustard and products thereof       1.00      1.00      1.00         5\n",
      "                                      norovirus       1.00      1.00      1.00         2\n",
      "                                           nuts       0.50      0.50      0.50         2\n",
      "                                          other       0.57      0.57      0.57        14\n",
      "                           other not classified       0.67      0.67      0.67         3\n",
      "          other not classified allergen hazards       0.00      0.00      0.00         0\n",
      "        other not classified biological hazards       0.00      0.00      0.00         1\n",
      "          other not classified chemical hazards       1.00      0.67      0.80         3\n",
      "other not classified hazards for foreign bodies       0.00      0.00      0.00         1\n",
      "                               packaging defect       0.50      0.50      0.50         2\n",
      "     paralytic shellfish poisoning (psp) toxins       1.00      1.00      1.00         1\n",
      "                            pathogenic bacteria       0.00      0.00      0.00         1\n",
      "                   peanuts and products thereof       0.92      1.00      0.96        24\n",
      "                                      pecan nut       0.75      1.00      0.86         3\n",
      "                                  pistachio nut       1.00      1.00      1.00         2\n",
      "                               plastic fragment       0.92      0.96      0.94        25\n",
      "               polycyclic aromatic hydrocarbons       1.00      1.00      1.00         1\n",
      "                            poor hygienic state       0.00      0.00      0.00         1\n",
      "                  poor or insufficient controls       0.00      0.00      0.00         2\n",
      "                                     processing       0.80      1.00      0.89         4\n",
      "               product category/characteristics       0.00      0.00      0.00         1\n",
      "                               rubber fragments       1.00      0.67      0.80         3\n",
      "                                     salmonella       0.97      0.94      0.95        66\n",
      "              sesame seeds and products thereof       0.83      1.00      0.91         5\n",
      "                  soybeans and products thereof       0.93      0.82      0.88        17\n",
      "                  specified risk material (srm)       1.00      1.00      1.00         1\n",
      "                                       spoilage       0.50      1.00      0.67         1\n",
      "                                 staphylococcus       1.00      1.00      1.00         1\n",
      "                                         stones       0.00      0.00      0.00         0\n",
      "                            sulphates/sulphites       0.00      0.00      0.00         2\n",
      "                                sulphur dioxide       1.00      0.67      0.80         3\n",
      "                  sulphur dioxide and sulphites       0.73      1.00      0.85        11\n",
      "                                      tampering       0.00      0.00      0.00         2\n",
      "                              taste disturbance       1.00      1.00      1.00         1\n",
      " too high content of tetrahydrocannabinol (THC)       1.00      1.00      1.00         1\n",
      "                                          toxin       1.00      1.00      1.00         5\n",
      "          unauthorised substance ethylene oxide       1.00      1.00      1.00         8\n",
      "                            undeclared additive       1.00      1.00      1.00         1\n",
      "                                         walnut       1.00      1.00      1.00         3\n",
      "                                         yeasts       0.00      0.00      0.00         0\n",
      "\n",
      "                                       accuracy                           0.87       509\n",
      "                                      macro avg       0.59      0.61      0.59       509\n",
      "                                   weighted avg       0.85      0.87      0.86       509\n",
      "\n",
      "Label Encoder for hazard saved in './best_model_hazard'\n",
      "\n",
      "Starting training for task: product\n"
     ]
    },
    {
     "name": "stderr",
     "output_type": "stream",
     "text": [
      "Some weights of BertForSequenceClassification were not initialized from the model checkpoint at dmis-lab/biobert-base-cased-v1.2 and are newly initialized: ['classifier.bias', 'classifier.weight']\n",
      "You should probably TRAIN this model on a down-stream task to be able to use it for predictions and inference.\n"
     ]
    },
    {
     "name": "stdout",
     "output_type": "stream",
     "text": [
      "Epoch 1/100 - Training: product\n"
     ]
    },
    {
     "name": "stderr",
     "output_type": "stream",
     "text": [
      "Training Epoch 1: 100%|██████████| 286/286 [00:53<00:00,  5.40it/s, loss=5.3]\n"
     ]
    },
    {
     "name": "stdout",
     "output_type": "stream",
     "text": [
      "Average Loss after Epoch 1: 6.371083553020771\n",
      "Learning rate after epoch 1: 5e-05\n",
      "New best model found. Saving the model at epoch 1.\n",
      "Epoch 2/100 - Training: product\n"
     ]
    },
    {
     "name": "stderr",
     "output_type": "stream",
     "text": [
      "Training Epoch 2: 100%|██████████| 286/286 [00:52<00:00,  5.40it/s, loss=5.35]\n"
     ]
    },
    {
     "name": "stdout",
     "output_type": "stream",
     "text": [
      "Average Loss after Epoch 2: 5.597873228413242\n",
      "Learning rate after epoch 2: 5e-05\n",
      "New best model found. Saving the model at epoch 2.\n",
      "Epoch 3/100 - Training: product\n"
     ]
    },
    {
     "name": "stderr",
     "output_type": "stream",
     "text": [
      "Training Epoch 3: 100%|██████████| 286/286 [00:53<00:00,  5.39it/s, loss=3.96]\n"
     ]
    },
    {
     "name": "stdout",
     "output_type": "stream",
     "text": [
      "Average Loss after Epoch 3: 4.926398406495581\n",
      "Learning rate after epoch 3: 5e-05\n",
      "New best model found. Saving the model at epoch 3.\n",
      "Epoch 4/100 - Training: product\n"
     ]
    },
    {
     "name": "stderr",
     "output_type": "stream",
     "text": [
      "Training Epoch 4: 100%|██████████| 286/286 [00:52<00:00,  5.40it/s, loss=4.35]\n"
     ]
    },
    {
     "name": "stdout",
     "output_type": "stream",
     "text": [
      "Average Loss after Epoch 4: 4.400761904416385\n",
      "Learning rate after epoch 4: 5e-05\n",
      "New best model found. Saving the model at epoch 4.\n",
      "Epoch 5/100 - Training: product\n"
     ]
    },
    {
     "name": "stderr",
     "output_type": "stream",
     "text": [
      "Training Epoch 5: 100%|██████████| 286/286 [00:53<00:00,  5.39it/s, loss=3.43]\n"
     ]
    },
    {
     "name": "stdout",
     "output_type": "stream",
     "text": [
      "Average Loss after Epoch 5: 3.9007615001051574\n",
      "Learning rate after epoch 5: 5e-05\n",
      "New best model found. Saving the model at epoch 5.\n",
      "Epoch 6/100 - Training: product\n"
     ]
    },
    {
     "name": "stderr",
     "output_type": "stream",
     "text": [
      "Training Epoch 6: 100%|██████████| 286/286 [00:52<00:00,  5.40it/s, loss=2.43]\n"
     ]
    },
    {
     "name": "stdout",
     "output_type": "stream",
     "text": [
      "Average Loss after Epoch 6: 3.459338337808222\n",
      "Learning rate after epoch 6: 5e-05\n",
      "New best model found. Saving the model at epoch 6.\n",
      "Epoch 7/100 - Training: product\n"
     ]
    },
    {
     "name": "stderr",
     "output_type": "stream",
     "text": [
      "Training Epoch 7: 100%|██████████| 286/286 [00:53<00:00,  5.40it/s, loss=2.78]\n"
     ]
    },
    {
     "name": "stdout",
     "output_type": "stream",
     "text": [
      "Average Loss after Epoch 7: 3.0686470991248016\n",
      "Learning rate after epoch 7: 5e-05\n",
      "New best model found. Saving the model at epoch 7.\n",
      "Epoch 8/100 - Training: product\n"
     ]
    },
    {
     "name": "stderr",
     "output_type": "stream",
     "text": [
      "Training Epoch 8: 100%|██████████| 286/286 [00:53<00:00,  5.39it/s, loss=2.31]\n"
     ]
    },
    {
     "name": "stdout",
     "output_type": "stream",
     "text": [
      "Average Loss after Epoch 8: 2.695024217758979\n",
      "Learning rate after epoch 8: 5e-05\n",
      "New best model found. Saving the model at epoch 8.\n",
      "Epoch 9/100 - Training: product\n"
     ]
    },
    {
     "name": "stderr",
     "output_type": "stream",
     "text": [
      "Training Epoch 9: 100%|██████████| 286/286 [00:53<00:00,  5.40it/s, loss=2.31]\n"
     ]
    },
    {
     "name": "stdout",
     "output_type": "stream",
     "text": [
      "Average Loss after Epoch 9: 2.3269153349883074\n",
      "Learning rate after epoch 9: 5e-05\n",
      "New best model found. Saving the model at epoch 9.\n",
      "Epoch 10/100 - Training: product\n"
     ]
    },
    {
     "name": "stderr",
     "output_type": "stream",
     "text": [
      "Training Epoch 10: 100%|██████████| 286/286 [00:52<00:00,  5.40it/s, loss=2.07]\n"
     ]
    },
    {
     "name": "stdout",
     "output_type": "stream",
     "text": [
      "Average Loss after Epoch 10: 2.035102411583587\n",
      "Learning rate after epoch 10: 5e-05\n",
      "New best model found. Saving the model at epoch 10.\n",
      "Epoch 11/100 - Training: product\n"
     ]
    },
    {
     "name": "stderr",
     "output_type": "stream",
     "text": [
      "Training Epoch 11: 100%|██████████| 286/286 [00:53<00:00,  5.39it/s, loss=2.34]\n"
     ]
    },
    {
     "name": "stdout",
     "output_type": "stream",
     "text": [
      "Average Loss after Epoch 11: 1.7579921971667896\n",
      "Learning rate after epoch 11: 5e-05\n",
      "New best model found. Saving the model at epoch 11.\n",
      "Epoch 12/100 - Training: product\n"
     ]
    },
    {
     "name": "stderr",
     "output_type": "stream",
     "text": [
      "Training Epoch 12: 100%|██████████| 286/286 [00:53<00:00,  5.39it/s, loss=1.52]\n"
     ]
    },
    {
     "name": "stdout",
     "output_type": "stream",
     "text": [
      "Average Loss after Epoch 12: 1.5038111862185952\n",
      "Learning rate after epoch 12: 5e-05\n",
      "New best model found. Saving the model at epoch 12.\n",
      "Epoch 13/100 - Training: product\n"
     ]
    },
    {
     "name": "stderr",
     "output_type": "stream",
     "text": [
      "Training Epoch 13: 100%|██████████| 286/286 [00:52<00:00,  5.40it/s, loss=1.71]\n"
     ]
    },
    {
     "name": "stdout",
     "output_type": "stream",
     "text": [
      "Average Loss after Epoch 13: 1.3077307122570652\n",
      "Learning rate after epoch 13: 5e-05\n",
      "New best model found. Saving the model at epoch 13.\n",
      "Epoch 14/100 - Training: product\n"
     ]
    },
    {
     "name": "stderr",
     "output_type": "stream",
     "text": [
      "Training Epoch 14: 100%|██████████| 286/286 [00:53<00:00,  5.39it/s, loss=1.36]\n"
     ]
    },
    {
     "name": "stdout",
     "output_type": "stream",
     "text": [
      "Average Loss after Epoch 14: 1.125143300820064\n",
      "Learning rate after epoch 14: 5e-05\n",
      "New best model found. Saving the model at epoch 14.\n",
      "Epoch 15/100 - Training: product\n"
     ]
    },
    {
     "name": "stderr",
     "output_type": "stream",
     "text": [
      "Training Epoch 15: 100%|██████████| 286/286 [00:52<00:00,  5.40it/s, loss=0.568]\n"
     ]
    },
    {
     "name": "stdout",
     "output_type": "stream",
     "text": [
      "Average Loss after Epoch 15: 0.969974902126339\n",
      "Learning rate after epoch 15: 5e-05\n",
      "New best model found. Saving the model at epoch 15.\n",
      "Epoch 16/100 - Training: product\n"
     ]
    },
    {
     "name": "stderr",
     "output_type": "stream",
     "text": [
      "Training Epoch 16: 100%|██████████| 286/286 [00:53<00:00,  5.39it/s, loss=0.601]\n"
     ]
    },
    {
     "name": "stdout",
     "output_type": "stream",
     "text": [
      "Average Loss after Epoch 16: 0.8252338935341035\n",
      "Learning rate after epoch 16: 5e-05\n",
      "New best model found. Saving the model at epoch 16.\n",
      "Epoch 17/100 - Training: product\n"
     ]
    },
    {
     "name": "stderr",
     "output_type": "stream",
     "text": [
      "Training Epoch 17: 100%|██████████| 286/286 [00:53<00:00,  5.39it/s, loss=0.296]\n"
     ]
    },
    {
     "name": "stdout",
     "output_type": "stream",
     "text": [
      "Average Loss after Epoch 17: 0.6955902766879205\n",
      "Learning rate after epoch 17: 5e-05\n",
      "New best model found. Saving the model at epoch 17.\n",
      "Epoch 18/100 - Training: product\n"
     ]
    },
    {
     "name": "stderr",
     "output_type": "stream",
     "text": [
      "Training Epoch 18: 100%|██████████| 286/286 [00:53<00:00,  5.39it/s, loss=0.445]\n"
     ]
    },
    {
     "name": "stdout",
     "output_type": "stream",
     "text": [
      "Average Loss after Epoch 18: 0.6012798921315821\n",
      "Learning rate after epoch 18: 5e-05\n",
      "New best model found. Saving the model at epoch 18.\n",
      "Epoch 19/100 - Training: product\n"
     ]
    },
    {
     "name": "stderr",
     "output_type": "stream",
     "text": [
      "Training Epoch 19: 100%|██████████| 286/286 [00:53<00:00,  5.39it/s, loss=0.139]\n"
     ]
    },
    {
     "name": "stdout",
     "output_type": "stream",
     "text": [
      "Average Loss after Epoch 19: 0.49854828401670587\n",
      "Learning rate after epoch 19: 5e-05\n",
      "New best model found. Saving the model at epoch 19.\n",
      "Epoch 20/100 - Training: product\n"
     ]
    },
    {
     "name": "stderr",
     "output_type": "stream",
     "text": [
      "Training Epoch 20: 100%|██████████| 286/286 [00:53<00:00,  5.39it/s, loss=0.578]\n"
     ]
    },
    {
     "name": "stdout",
     "output_type": "stream",
     "text": [
      "Average Loss after Epoch 20: 0.43119961856962086\n",
      "Learning rate after epoch 20: 5e-05\n",
      "New best model found. Saving the model at epoch 20.\n",
      "Epoch 21/100 - Training: product\n"
     ]
    },
    {
     "name": "stderr",
     "output_type": "stream",
     "text": [
      "Training Epoch 21: 100%|██████████| 286/286 [00:52<00:00,  5.40it/s, loss=0.751]\n"
     ]
    },
    {
     "name": "stdout",
     "output_type": "stream",
     "text": [
      "Average Loss after Epoch 21: 0.37227670746770775\n",
      "Learning rate after epoch 21: 5e-05\n",
      "New best model found. Saving the model at epoch 21.\n",
      "Epoch 22/100 - Training: product\n"
     ]
    },
    {
     "name": "stderr",
     "output_type": "stream",
     "text": [
      "Training Epoch 22: 100%|██████████| 286/286 [00:52<00:00,  5.40it/s, loss=0.312]\n"
     ]
    },
    {
     "name": "stdout",
     "output_type": "stream",
     "text": [
      "Average Loss after Epoch 22: 0.31045316291282643\n",
      "Learning rate after epoch 22: 5e-05\n",
      "New best model found. Saving the model at epoch 22.\n",
      "Epoch 23/100 - Training: product\n"
     ]
    },
    {
     "name": "stderr",
     "output_type": "stream",
     "text": [
      "Training Epoch 23: 100%|██████████| 286/286 [00:53<00:00,  5.39it/s, loss=0.137]\n"
     ]
    },
    {
     "name": "stdout",
     "output_type": "stream",
     "text": [
      "Average Loss after Epoch 23: 0.2769912591764143\n",
      "Learning rate after epoch 23: 5e-05\n",
      "New best model found. Saving the model at epoch 23.\n",
      "Epoch 24/100 - Training: product\n"
     ]
    },
    {
     "name": "stderr",
     "output_type": "stream",
     "text": [
      "Training Epoch 24: 100%|██████████| 286/286 [00:53<00:00,  5.39it/s, loss=0.0505]\n"
     ]
    },
    {
     "name": "stdout",
     "output_type": "stream",
     "text": [
      "Average Loss after Epoch 24: 0.2395413754494874\n",
      "Learning rate after epoch 24: 5e-05\n",
      "New best model found. Saving the model at epoch 24.\n",
      "Epoch 25/100 - Training: product\n"
     ]
    },
    {
     "name": "stderr",
     "output_type": "stream",
     "text": [
      "Training Epoch 25: 100%|██████████| 286/286 [00:52<00:00,  5.40it/s, loss=0.435]\n"
     ]
    },
    {
     "name": "stdout",
     "output_type": "stream",
     "text": [
      "Average Loss after Epoch 25: 0.22293575364653465\n",
      "Learning rate after epoch 25: 5e-05\n",
      "New best model found. Saving the model at epoch 25.\n",
      "Epoch 26/100 - Training: product\n"
     ]
    },
    {
     "name": "stderr",
     "output_type": "stream",
     "text": [
      "Training Epoch 26: 100%|██████████| 286/286 [00:53<00:00,  5.39it/s, loss=0.379]\n"
     ]
    },
    {
     "name": "stdout",
     "output_type": "stream",
     "text": [
      "Average Loss after Epoch 26: 0.21057768529476403\n",
      "Learning rate after epoch 26: 5e-05\n",
      "New best model found. Saving the model at epoch 26.\n",
      "Epoch 27/100 - Training: product\n"
     ]
    },
    {
     "name": "stderr",
     "output_type": "stream",
     "text": [
      "Training Epoch 27: 100%|██████████| 286/286 [00:53<00:00,  5.39it/s, loss=0.411]\n"
     ]
    },
    {
     "name": "stdout",
     "output_type": "stream",
     "text": [
      "Average Loss after Epoch 27: 0.2638559679181634\n",
      "Learning rate after epoch 27: 5e-05\n",
      "Epoch 28/100 - Training: product\n"
     ]
    },
    {
     "name": "stderr",
     "output_type": "stream",
     "text": [
      "Training Epoch 28: 100%|██████████| 286/286 [00:53<00:00,  5.39it/s, loss=0.763]\n"
     ]
    },
    {
     "name": "stdout",
     "output_type": "stream",
     "text": [
      "Average Loss after Epoch 28: 0.2523051435323237\n",
      "Learning rate after epoch 28: 5e-05\n",
      "Epoch 29/100 - Training: product\n"
     ]
    },
    {
     "name": "stderr",
     "output_type": "stream",
     "text": [
      "Training Epoch 29: 100%|██████████| 286/286 [00:53<00:00,  5.39it/s, loss=0.172]\n"
     ]
    },
    {
     "name": "stdout",
     "output_type": "stream",
     "text": [
      "Average Loss after Epoch 29: 0.16857545738193122\n",
      "Learning rate after epoch 29: 5e-05\n",
      "New best model found. Saving the model at epoch 29.\n",
      "Epoch 30/100 - Training: product\n"
     ]
    },
    {
     "name": "stderr",
     "output_type": "stream",
     "text": [
      "Training Epoch 30: 100%|██████████| 286/286 [00:53<00:00,  5.39it/s, loss=0.228]\n"
     ]
    },
    {
     "name": "stdout",
     "output_type": "stream",
     "text": [
      "Average Loss after Epoch 30: 0.11670828632150705\n",
      "Learning rate after epoch 30: 5e-05\n",
      "New best model found. Saving the model at epoch 30.\n",
      "Epoch 31/100 - Training: product\n"
     ]
    },
    {
     "name": "stderr",
     "output_type": "stream",
     "text": [
      "Training Epoch 31: 100%|██████████| 286/286 [00:53<00:00,  5.39it/s, loss=0.0349]\n"
     ]
    },
    {
     "name": "stdout",
     "output_type": "stream",
     "text": [
      "Average Loss after Epoch 31: 0.08771532999963819\n",
      "Learning rate after epoch 31: 5e-05\n",
      "New best model found. Saving the model at epoch 31.\n",
      "Epoch 32/100 - Training: product\n"
     ]
    },
    {
     "name": "stderr",
     "output_type": "stream",
     "text": [
      "Training Epoch 32: 100%|██████████| 286/286 [00:52<00:00,  5.40it/s, loss=0.0396]\n"
     ]
    },
    {
     "name": "stdout",
     "output_type": "stream",
     "text": [
      "Average Loss after Epoch 32: 0.06758216532416172\n",
      "Learning rate after epoch 32: 5e-05\n",
      "New best model found. Saving the model at epoch 32.\n",
      "Epoch 33/100 - Training: product\n"
     ]
    },
    {
     "name": "stderr",
     "output_type": "stream",
     "text": [
      "Training Epoch 33: 100%|██████████| 286/286 [00:53<00:00,  5.40it/s, loss=0.0649]\n"
     ]
    },
    {
     "name": "stdout",
     "output_type": "stream",
     "text": [
      "Average Loss after Epoch 33: 0.06101058643649925\n",
      "Learning rate after epoch 33: 5e-05\n",
      "New best model found. Saving the model at epoch 33.\n",
      "Epoch 34/100 - Training: product\n"
     ]
    },
    {
     "name": "stderr",
     "output_type": "stream",
     "text": [
      "Training Epoch 34: 100%|██████████| 286/286 [00:53<00:00,  5.39it/s, loss=0.0387]\n"
     ]
    },
    {
     "name": "stdout",
     "output_type": "stream",
     "text": [
      "Average Loss after Epoch 34: 0.04188166194354425\n",
      "Learning rate after epoch 34: 5e-05\n",
      "New best model found. Saving the model at epoch 34.\n",
      "Epoch 35/100 - Training: product\n"
     ]
    },
    {
     "name": "stderr",
     "output_type": "stream",
     "text": [
      "Training Epoch 35: 100%|██████████| 286/286 [00:53<00:00,  5.39it/s, loss=0.0288]\n"
     ]
    },
    {
     "name": "stdout",
     "output_type": "stream",
     "text": [
      "Average Loss after Epoch 35: 0.03556312972328046\n",
      "Learning rate after epoch 35: 5e-05\n",
      "New best model found. Saving the model at epoch 35.\n",
      "Epoch 36/100 - Training: product\n"
     ]
    },
    {
     "name": "stderr",
     "output_type": "stream",
     "text": [
      "Training Epoch 36: 100%|██████████| 286/286 [00:53<00:00,  5.39it/s, loss=0.0592]\n"
     ]
    },
    {
     "name": "stdout",
     "output_type": "stream",
     "text": [
      "Average Loss after Epoch 36: 0.04572718876895944\n",
      "Learning rate after epoch 36: 5e-05\n",
      "Epoch 37/100 - Training: product\n"
     ]
    },
    {
     "name": "stderr",
     "output_type": "stream",
     "text": [
      "Training Epoch 37: 100%|██████████| 286/286 [00:53<00:00,  5.39it/s, loss=0.427]\n"
     ]
    },
    {
     "name": "stdout",
     "output_type": "stream",
     "text": [
      "Average Loss after Epoch 37: 0.08773833178504781\n",
      "Learning rate after epoch 37: 5e-05\n",
      "Epoch 38/100 - Training: product\n"
     ]
    },
    {
     "name": "stderr",
     "output_type": "stream",
     "text": [
      "Training Epoch 38: 100%|██████████| 286/286 [00:53<00:00,  5.38it/s, loss=0.235]\n"
     ]
    },
    {
     "name": "stdout",
     "output_type": "stream",
     "text": [
      "Average Loss after Epoch 38: 0.20600007102544698\n",
      "Learning rate after epoch 38: 5e-05\n",
      "Epoch 39/100 - Training: product\n"
     ]
    },
    {
     "name": "stderr",
     "output_type": "stream",
     "text": [
      "Training Epoch 39: 100%|██████████| 286/286 [00:53<00:00,  5.39it/s, loss=0.114]\n"
     ]
    },
    {
     "name": "stdout",
     "output_type": "stream",
     "text": [
      "Average Loss after Epoch 39: 0.15433771103959193\n",
      "Learning rate after epoch 39: 5e-05\n",
      "Epoch 40/100 - Training: product\n"
     ]
    },
    {
     "name": "stderr",
     "output_type": "stream",
     "text": [
      "Training Epoch 40: 100%|██████████| 286/286 [00:53<00:00,  5.39it/s, loss=0.102]\n"
     ]
    },
    {
     "name": "stdout",
     "output_type": "stream",
     "text": [
      "Average Loss after Epoch 40: 0.05501657865055791\n",
      "Learning rate after epoch 40: 5e-06\n",
      "Epoch 41/100 - Training: product\n"
     ]
    },
    {
     "name": "stderr",
     "output_type": "stream",
     "text": [
      "Training Epoch 41: 100%|██████████| 286/286 [00:53<00:00,  5.39it/s, loss=0.0414]\n"
     ]
    },
    {
     "name": "stdout",
     "output_type": "stream",
     "text": [
      "Average Loss after Epoch 41: 0.03735580212938098\n",
      "Learning rate after epoch 41: 5e-06\n",
      "Early stopping triggered!\n",
      "Saving the best model from epoch 35.\n",
      "Evaluating model for task: product\n"
     ]
    },
    {
     "name": "stderr",
     "output_type": "stream",
     "text": [
      "Evaluating: 100%|██████████| 32/32 [00:02<00:00, 12.48it/s]"
     ]
    },
    {
     "name": "stdout",
     "output_type": "stream",
     "text": [
      "F1-Score for product: 0.26294729471717765\n",
      "Classification Report for product:\n",
      "\n",
      "                                                   precision    recall  f1-score   support\n",
      "\n",
      "                           Catfishes (freshwater)       1.00      0.67      0.80         3\n",
      "                            Fishes not identified       0.67      0.40      0.50         5\n",
      "                         Not classified pork meat       0.00      0.00      0.00         1\n",
      "              Precooked cooked pork meat products       0.00      0.00      0.00         1\n",
      "                               after dinner mints       0.00      0.00      0.00         1\n",
      "                                            algae       0.67      0.67      0.67         3\n",
      "                                  almond products       1.00      1.00      1.00         2\n",
      "                                          almonds       0.33      1.00      0.50         1\n",
      "                                 anchovies in oil       0.00      0.00      0.00         1\n",
      "                                       angus beef       0.00      0.00      0.00         1\n",
      "                                       apple cake       0.00      0.00      0.00         1\n",
      "                                  apricot kernels       0.00      0.00      0.00         0\n",
      "                                         apricots       0.00      0.00      0.00         1\n",
      "                                        baby food       0.00      0.00      0.00         1\n",
      "                                     baby spinach       0.67      1.00      0.80         2\n",
      "                                  bakery products       0.00      0.00      0.00         1\n",
      "                                       baking mix       0.00      0.00      0.00         1\n",
      "                                           bamboo       0.00      0.00      0.00         1\n",
      "                                    bamboo shoots       0.00      0.00      0.00         0\n",
      "                                   barbecue sauce       0.00      0.00      0.00         0\n",
      "                                             bars       1.00      1.00      1.00         1\n",
      "                                basil pesto sauce       0.50      1.00      0.67         1\n",
      "                                       bean paste       0.00      0.00      0.00         0\n",
      "                                       bean snack       0.00      0.00      0.00         1\n",
      "                                             beef       0.50      0.33      0.40         3\n",
      "                                    beef products       0.00      0.00      0.00         2\n",
      "                                      beef stewed       0.00      0.00      0.00         1\n",
      "                                             beer       0.00      0.00      0.00         1\n",
      "                                         biscuits       0.00      0.00      0.00         2\n",
      "                           bitter apricot kernels       1.00      1.00      1.00         1\n",
      "                                     black pepper       0.00      0.00      0.00         0\n",
      "                                      blue cheese       0.00      0.00      0.00         0\n",
      "              boletus mushrooms, stems and pieces       0.00      0.00      0.00         1\n",
      "                            bottled mineral water       0.00      0.00      0.00         2\n",
      "                                    bottled water       0.00      0.00      0.00         0\n",
      "                                      brazil nuts       0.50      1.00      0.67         1\n",
      "                                            bread       0.33      0.50      0.40         2\n",
      "                      bread and products therefor       0.00      0.00      0.00         2\n",
      "                                      bread crumb       0.00      0.00      0.00         0\n",
      "                                        bread mix       0.00      0.00      0.00         0\n",
      "                                breakfast cereals       0.00      0.00      0.00         0\n",
      "                                         broccoli       0.00      0.00      0.00         0\n",
      "                                         brownies       0.00      0.00      0.00         0\n",
      "                                             buns       0.00      0.00      0.00         1\n",
      "                           burrito (ready to eat)       0.00      0.00      0.00         0\n",
      "                                            cakes       0.70      0.78      0.74         9\n",
      "                                          candies       1.00      0.33      0.50         3\n",
      "                                   canned chicken       0.00      0.00      0.00         1\n",
      "                                   canned mussels       0.00      0.00      0.00         1\n",
      "                                   canned spinach       0.00      0.00      0.00         1\n",
      "                                    caramel bites       0.00      0.00      0.00         0\n",
      "                                   cardamom seeds       0.00      0.00      0.00         1\n",
      "                                   cardamon seeds       0.00      0.00      0.00         0\n",
      "                                           cashew       1.00      1.00      1.00         1\n",
      "                                          cbd oil       1.00      1.00      1.00         1\n",
      "                                           cereal       0.00      0.00      0.00         1\n",
      "                                      cereal bars       0.00      0.00      0.00         0\n",
      "                                          cereals       0.00      0.00      0.00         0\n",
      "                                   cheddar cheese       0.00      0.00      0.00         0\n",
      "                                           cheese       0.80      0.57      0.67         7\n",
      "                                   cheese burgers       0.00      0.00      0.00         1\n",
      "                                  cheese products       0.00      0.00      0.00         1\n",
      "                                       chia seeds       1.00      1.00      1.00         2\n",
      "                                          chicken       0.00      0.00      0.00         3\n",
      "                 chicken and chicken preparations       0.00      0.00      0.00         0\n",
      "                           chicken based products       0.60      0.82      0.69        11\n",
      "                                   chicken breast       0.00      0.00      0.00         0\n",
      "                                    chicken broth       0.00      0.00      0.00         1\n",
      "                                  chicken dippers       0.00      0.00      0.00         1\n",
      "                                chicken meat meal       0.00      0.00      0.00         1\n",
      "                                      chicken pie       0.00      0.00      0.00         0\n",
      "                             chicken preparations       0.14      0.33      0.20         3\n",
      "                                  chilled chicken       0.00      0.00      0.00         1\n",
      "                            chilled chicken parts       0.00      0.00      0.00         0\n",
      "                                   chilled salads       0.00      0.00      0.00         4\n",
      "                                     chilli paste       0.00      0.00      0.00         1\n",
      "                                    chilli pickle       0.00      0.00      0.00         0\n",
      "                                    chilli powder       0.00      0.00      0.00         0\n",
      "                                        chocolate       0.50      0.17      0.25         6\n",
      "                    chocolate and hazelnut spread       0.00      0.00      0.00         2\n",
      "                  chocolate and products therefor       1.00      1.00      1.00         1\n",
      "                                   chocolate bars       1.00      0.75      0.86         4\n",
      "                                  chocolate chips       0.00      0.00      0.00         0\n",
      "                                   chocolate eggs       0.67      1.00      0.80         2\n",
      "                               chocolate products       0.50      0.67      0.57         3\n",
      "                                 chocolate spread       0.00      0.00      0.00         1\n",
      "                                 chocolate wafers       1.00      1.00      1.00         1\n",
      "                                       chocolates       0.00      0.00      0.00         0\n",
      "                                          chorizo       1.00      1.00      1.00         3\n",
      "                                    coconut juice       1.00      1.00      1.00         1\n",
      "                                     coconut milk       0.00      0.00      0.00         1\n",
      "                                         coconuts       1.00      1.00      1.00         2\n",
      "                                     coffee beans       0.50      1.00      0.67         1\n",
      "                              concentrated apples       0.00      0.00      0.00         0\n",
      "                                    confectionery       0.00      0.00      0.00         0\n",
      "                     confectionery for decoration       0.00      0.00      0.00         0\n",
      "                                   cooked chicken       0.50      1.00      0.67         1\n",
      "                                          cookies       0.80      0.80      0.80         5\n",
      "                                             corn       0.33      0.67      0.44         3\n",
      "                                   cottage cheese       0.00      0.00      0.00         1\n",
      "                                        cous cous       0.00      0.00      0.00         1\n",
      "                                  cow milk cheese       0.00      0.00      0.00         1\n",
      "                                         crackers       0.00      0.00      0.00         0\n",
      "                                     cream cheese       0.00      0.00      0.00         1\n",
      "                                           crisps       0.00      0.00      0.00         1\n",
      "                                       croissants       0.00      0.00      0.00         1\n",
      "                                         cupcakes       0.50      1.00      0.67         1\n",
      "                                       cured loin       0.00      0.00      0.00         1\n",
      "                                  dark chocolates       0.50      1.00      0.67         3\n",
      "                                            dates       1.00      1.00      1.00         1\n",
      "                                         desserts       1.00      0.50      0.67         2\n",
      "                               dietary supplement       0.25      0.50      0.33         2\n",
      "dietetic foods, food supplements, fortified foods       0.00      0.00      0.00         1\n",
      "                                        dip-sauce       0.00      0.00      0.00         2\n",
      "                                    dipping sauce       0.00      0.00      0.00         1\n",
      "                                           donuts       0.00      0.00      0.00         1\n",
      "                                  dried anchovies       0.00      0.00      0.00         1\n",
      "                                     dried apples       0.00      0.00      0.00         1\n",
      "                                   dried apricots       0.75      1.00      0.86         3\n",
      "                                  dried beef meat       1.00      1.00      1.00         6\n",
      "                                    dried coconut       1.00      1.00      1.00         1\n",
      "                                dried cranberries       0.00      0.00      0.00         1\n",
      "                                       dried figs       1.00      1.00      1.00         1\n",
      "                                  dried fruit mix       0.00      0.00      0.00         0\n",
      "                                      dry sausage       0.00      0.00      0.00         1\n",
      "                                             duck       1.00      1.00      1.00         1\n",
      "                                        dumplings       0.00      0.00      0.00         1\n",
      "                                      edam cheese       0.00      0.00      0.00         0\n",
      "                                             eggs       0.67      1.00      0.80         4\n",
      "                            eggs and egg products       0.00      0.00      0.00         1\n",
      "                                   feed materials       0.00      0.00      0.00         2\n",
      "                                     fennel seeds       1.00      1.00      1.00         1\n",
      "                             flavoured soft drink       0.00      0.00      0.00         1\n",
      "              flavoured whey protein preparations       0.00      0.00      0.00         1\n",
      "                                            flour       1.00      0.50      0.67         2\n",
      "                                        foie gras       1.00      1.00      1.00         1\n",
      "                                  food supplement       0.00      0.00      0.00         0\n",
      "                                       fresh beef       0.00      0.00      0.00         1\n",
      "                                     fresh cheese       0.00      0.00      0.00         0\n",
      "                                  fresh mushrooms       0.50      1.00      0.67         1\n",
      "                                    fresh parsley       0.00      0.00      0.00         1\n",
      "                                 fresh vegetables       0.00      0.00      0.00         1\n",
      "                                      frozen beef       0.00      0.00      0.00         1\n",
      "                              frozen beef patties       1.00      0.50      0.67         2\n",
      "                                  frozen broccoli       0.00      0.00      0.00         1\n",
      "                               frozen burger buns       0.00      0.00      0.00         1\n",
      "                                   frozen burgers       0.00      0.00      0.00         1\n",
      "                                   frozen chicken       0.00      0.00      0.00         1\n",
      "                             frozen chicken wings       0.00      0.00      0.00         0\n",
      "                               frozen green beans       0.00      0.00      0.00         1\n",
      "                                      frozen peas       0.00      0.00      0.00         0\n",
      "                                   frozen peppers       0.00      0.00      0.00         1\n",
      "                                     frozen pizza       0.50      0.50      0.50         2\n",
      "                         frozen pork preparations       0.00      0.00      0.00         0\n",
      "                      frozen poultry preparations       0.00      0.00      0.00         1\n",
      "                          frozen poultry products       0.00      0.00      0.00         1\n",
      "                     frozen ready to cook chicken       0.00      0.00      0.00         1\n",
      "                                  frozen sausages       0.00      0.00      0.00         0\n",
      "                                frozen vegetables       1.00      1.00      1.00         1\n",
      "                         frozen vegetarian cutlet       0.00      0.00      0.00         1\n",
      "                                      fruit juice       1.00      0.50      0.67         2\n",
      "                                      fruit punch       1.00      1.00      1.00         1\n",
      "                            fruits and vegetables       0.00      0.00      0.00         0\n",
      "                                    garlic powder       0.00      0.00      0.00         1\n",
      "                                      goat cheese       1.00      1.00      1.00         1\n",
      "                                     gouda cheese       0.00      0.00      0.00         1\n",
      "                                          granola       0.00      0.00      0.00         1\n",
      "                                        gravy mix       0.00      0.00      0.00         1\n",
      "                                       green bean       0.00      0.00      0.00         0\n",
      "                             grissini breadsticks       0.00      0.00      0.00         1\n",
      "                                   ground almonds       0.00      0.00      0.00         1\n",
      "                                      ground beef       0.86      1.00      0.92         6\n",
      "                                 ground beef meat       0.00      0.00      0.00         1\n",
      "                              ground black pepper       0.00      0.00      0.00         1\n",
      "                                  halloumi cheese       0.33      1.00      0.50         1\n",
      "                                            halva       0.00      0.00      0.00         1\n",
      "                                              ham       1.00      0.50      0.67         2\n",
      "                                          herring       1.00      0.67      0.80         3\n",
      "                              horseradish in jars       1.00      1.00      1.00         1\n",
      "                                        ice cream       0.96      0.84      0.90        31\n",
      "                                   infant formula       1.00      1.00      1.00         2\n",
      "                                   instant cereal       0.00      0.00      0.00         1\n",
      "                                   instant coffee       1.00      1.00      1.00         1\n",
      "                                              jam       1.00      0.67      0.80         3\n",
      "                                          jellies       0.75      1.00      0.86         3\n",
      "                                             kale       1.00      1.00      1.00         1\n",
      "                                             lamb       0.00      0.00      0.00         0\n",
      "                                          lasagne       0.50      1.00      0.67         1\n",
      "                            lemonade (lemon soda)       0.00      0.00      0.00         1\n",
      "                                          lettuce       1.00      1.00      1.00         1\n",
      "                                 liquid egg white       1.00      1.00      1.00         1\n",
      "                           liquid food supplement       0.00      0.00      0.00         1\n",
      "                                      lupin seeds       0.00      0.00      0.00         1\n",
      "                                         mackerel       0.50      1.00      0.67         1\n",
      "                                            maize       1.00      0.50      0.67         2\n",
      "                                            mango       0.00      0.00      0.00         0\n",
      "                                        margarine       0.00      0.00      0.00         1\n",
      "                                      marshmalows       0.00      0.00      0.00         1\n",
      "                                 masala spice mix       0.00      0.00      0.00         1\n",
      "                        mashed chickpeas (hummus)       1.00      1.00      1.00         1\n",
      "                            massala spice mixture       0.00      0.00      0.00         0\n",
      "                                       mayonnaise       0.00      0.00      0.00         1\n",
      "      meat and meat products (other than poultry)       0.00      0.00      0.00         1\n",
      "                                        meat loaf       0.00      0.00      0.00         1\n",
      "                                meat preparations       0.00      0.00      0.00         1\n",
      "              mechanically separated chicken meat       0.00      0.00      0.00         1\n",
      "                                             milk       0.29      1.00      0.44         2\n",
      "                   milk chocolate covered raisins       1.00      1.00      1.00         2\n",
      "                                  milk chocolates       0.00      0.00      0.00         1\n",
      "                                       milk drink       0.00      0.00      0.00         0\n",
      "                                    milk products       0.00      0.00      0.00         1\n",
      "                                      minced beef       0.50      1.00      0.67         1\n",
      "                                   minced chicken       0.00      0.00      0.00         0\n",
      "                                    mineral water       0.00      0.00      0.00         0\n",
      "                      mitragyna speciosa (kratom)       1.00      0.67      0.80         3\n",
      "                                      mix of nuts       0.00      0.00      0.00         1\n",
      "                                 mixed vegetables       0.00      0.00      0.00         1\n",
      "                                         moussaka       0.00      0.00      0.00         1\n",
      "                                mozzarella cheese       0.00      0.00      0.00         1\n",
      "                                           muesli       0.75      1.00      0.86         3\n",
      "                                          muffins       0.00      0.00      0.00         0\n",
      "                                        mushrooms       0.00      0.00      0.00         1\n",
      "                                          mussels       0.00      0.00      0.00         0\n",
      "                                          mustard       1.00      1.00      1.00         1\n",
      "                               non-alcoholic beer       0.00      0.00      0.00         1\n",
      "                          non-alcoholic beverages       0.00      0.00      0.00         1\n",
      "                                          noodles       0.00      0.00      0.00         1\n",
      "                               nut-almond mixture       0.00      0.00      0.00         1\n",
      "                                           nutmeg       0.00      0.00      0.00         0\n",
      "                                             nuts       0.00      0.00      0.00         1\n",
      "                                        olive oil       1.00      1.00      1.00         1\n",
      "                                           olives       1.00      1.00      1.00         2\n",
      "                                           onions       0.50      0.33      0.40         3\n",
      "                               orange sugar paste       0.00      0.00      0.00         1\n",
      "                                          oregano       0.00      0.00      0.00         1\n",
      "                           organic chilled hummus       0.00      0.00      0.00         1\n",
      "                             other dairy products       0.00      0.00      0.00         2\n",
      "               other not classified meat products       0.20      0.33      0.25         3\n",
      "                              other types of meat       0.00      0.00      0.00         2\n",
      "                         other water-based drinks       1.00      1.00      1.00         1\n",
      "                                          oysters       1.00      1.00      1.00         3\n",
      "                                           paella       0.00      0.00      0.00         1\n",
      "                                         pancakes       1.00      0.50      0.67         2\n",
      "                                            pasta       0.00      0.00      0.00         0\n",
      "                                      pasta salad       0.00      0.00      0.00         0\n",
      "                      pasteurized cow milk cheese       0.00      0.00      0.00         0\n",
      "                                           pastry       0.00      0.00      0.00         1\n",
      "                                  pastry products       0.50      0.50      0.50         2\n",
      "                                          peanuts       0.80      0.57      0.67         7\n",
      "                                       pear juice       0.00      0.00      0.00         1\n",
      "                                  pecorino cheese       0.00      0.00      0.00         0\n",
      "                                            pesto       0.00      0.00      0.00         1\n",
      "                                         pet feed       0.75      1.00      0.86         3\n",
      "                                 pickled beetroot       0.00      0.00      0.00         0\n",
      "                             pickled grape leaves       1.00      1.00      1.00         1\n",
      "                                  pickled peppers       0.00      0.00      0.00         1\n",
      "                                  pig meat - pork       0.00      0.00      0.00         1\n",
      "                                        pine nuts       0.00      0.00      0.00         1\n",
      "                                   pistachio nuts       0.71      1.00      0.83         5\n",
      "                                            pizza       0.50      1.00      0.67         1\n",
      "                                         plastics       1.00      1.00      1.00         1\n",
      "                  plum bread &amp; butter pudding       0.00      0.00      0.00         1\n",
      "                                         pork pie       0.00      0.00      0.00         1\n",
      "                                 pork preparation       0.00      0.00      0.00         0\n",
      "                                     pork sausage       0.50      0.50      0.50         2\n",
      "                                     potato chips       0.33      0.50      0.40         2\n",
      "                                         potatoes       0.50      0.50      0.50         2\n",
      "              precooked cooked beef meat products       0.25      0.50      0.33         2\n",
      "                                  prepacked salad       0.00      0.00      0.00         0\n",
      "                                  prepared salads       0.00      0.00      0.00         3\n",
      "                                    protein balls       0.00      0.00      0.00         1\n",
      "                                      protein bar       1.00      1.00      1.00         1\n",
      "                                    protein drink       0.00      0.00      0.00         1\n",
      "                                   protein powder       0.00      0.00      0.00         1\n",
      "                                          pudding       0.00      0.00      0.00         0\n",
      "                                      puffed rice       0.00      0.00      0.00         1\n",
      "                                             pâté       0.00      0.00      0.00         1\n",
      "                                      raspberries       0.67      1.00      0.80         2\n",
      "                                    raw beef meat       0.00      0.00      0.00         1\n",
      "                            raw cow's milk cheese       0.00      0.00      0.00         1\n",
      "                             raw goat milk cheese       1.00      1.00      1.00         1\n",
      "                                         raw milk       0.00      0.00      0.00         3\n",
      "                        raw milk cheese reblochon       0.00      0.00      0.00         1\n",
      "         ready cooked sliced chicken tikka breast       0.00      0.00      0.00         1\n",
      "                        ready to eat - cook meals       0.20      0.20      0.20        10\n",
      "                                       red chilli       0.00      0.00      0.00         1\n",
      "                                     refreshments       0.00      0.00      0.00         1\n",
      "                                             rice       0.00      0.00      0.00         1\n",
      "                                    rice crackers       0.00      0.00      0.00         0\n",
      "                                        rice meal       0.00      0.00      0.00         1\n",
      "                                       rice snack       0.00      0.00      0.00         0\n",
      "                                  rice vermicelli       0.00      0.00      0.00         0\n",
      "                                   ricotta cheese       0.00      0.00      0.00         0\n",
      "                                   salad dressing       0.00      0.00      0.00         1\n",
      "                                           salads       0.80      0.67      0.73         6\n",
      "                                           salami       1.00      1.00      1.00         2\n",
      "                                           salmon       1.00      0.75      0.86         4\n",
      "                                             salt       0.00      0.00      0.00         1\n",
      "                                 salted anchovies       0.00      0.00      0.00         0\n",
      "                                       sandwiches       0.83      0.83      0.83         6\n",
      "                                            sauce       0.00      0.00      0.00         1\n",
      "                                           sauces       0.00      0.00      0.00         0\n",
      "                                          sausage       0.50      0.20      0.29         5\n",
      "                                          seafood       0.00      0.00      0.00         1\n",
      "                                 seafood products       0.00      0.00      0.00         0\n",
      "                                 seasoned chicken       0.00      0.00      0.00         1\n",
      "                                        seasoning       0.25      1.00      0.40         1\n",
      "                                  seasoning sauce       0.00      0.00      0.00         1\n",
      "                             seaweed preparations       0.00      0.00      0.00         1\n",
      "                                 semi-soft cheese       0.00      0.00      0.00         0\n",
      "                                       sesame oil       0.00      0.00      0.00         0\n",
      "                                  sesame seed oil       0.00      0.00      0.00         1\n",
      "                                     sesame seeds       1.00      1.00      1.00         1\n",
      "                                          shrimps       0.50      1.00      0.67         2\n",
      "                                       sliced ham       0.00      0.00      0.00         0\n",
      "                                   smoked sausage       0.50      1.00      0.67         1\n",
      "                                   snack crackers       0.50      1.00      0.67         1\n",
      "                                        snack mix       0.67      0.50      0.57         4\n",
      "                                 snacks (various)       0.00      0.00      0.00         2\n",
      "                                      soft drinks       0.00      0.00      0.00         0\n",
      "                                             soup       0.38      1.00      0.55         3\n",
      "                                   soy bean paste       0.00      0.00      0.00         1\n",
      "                                        soy sauce       0.00      0.00      0.00         0\n",
      "                                          soybean       0.00      0.00      0.00         0\n",
      "                                           spices       0.00      0.00      0.00         1\n",
      "                                      sport drink       1.00      1.00      1.00         1\n",
      "                                          spreads       0.00      0.00      0.00         0\n",
      "                                     spring rolls       0.67      1.00      0.80         2\n",
      "                                     spring water       1.00      1.00      1.00         1\n",
      "                                            squid       0.00      0.00      0.00         0\n",
      "                                   stuffed pastry       0.00      0.00      0.00         0\n",
      "                                            sugar       1.00      1.00      1.00         1\n",
      "                                   sunflower seed       0.67      0.80      0.73         5\n",
      "                                           sweets       0.00      0.00      0.00         1\n",
      "                                       taco sauce       0.00      0.00      0.00         1\n",
      "                                           tahini       0.75      0.60      0.67         5\n",
      "                            tahini (sesame paste)       0.00      0.00      0.00         1\n",
      "                                              tea       0.00      0.00      0.00         0\n",
      "                                         tea bags       0.00      0.00      0.00         1\n",
      "                                        tea drink       0.00      0.00      0.00         1\n",
      "                      thermal processed beef meat       0.00      0.00      0.00         2\n",
      "                      thermal processed pork meat       0.50      1.00      0.67         2\n",
      "                                           trouts       0.00      0.00      0.00         0\n",
      "                                             tuna       1.00      0.67      0.80         3\n",
      "                   turkey and turkey preparations       0.25      1.00      0.40         1\n",
      "                            turkey based products       0.00      0.00      0.00         2\n",
      "                                  turkey sandwich       0.00      0.00      0.00         0\n",
      "                                   tzatziki sauce       0.00      0.00      0.00         1\n",
      "                          various bakery products       0.00      0.00      0.00         1\n",
      "                                  various cheeses       0.00      0.00      0.00         0\n",
      "                            various meat products       0.00      0.00      0.00         0\n",
      "                           various pasta products       0.00      0.00      0.00         1\n",
      "                          various prepared dishes       0.00      0.00      0.00         0\n",
      "                         vegetable based products       0.00      0.00      0.00         1\n",
      "                                    vegetable mix       0.00      0.00      0.00         0\n",
      "                     vegetable ready to eat meals       0.00      0.00      0.00         0\n",
      "                                       vegetables       0.00      0.00      0.00         1\n",
      "                                          vinegar       0.00      0.00      0.00         0\n",
      "                                          waffles       1.00      0.50      0.67         2\n",
      "                                          walnuts       0.00      0.00      0.00         1\n",
      "                                     whey protein       0.33      1.00      0.50         1\n",
      "                              white lasagna sauce       1.00      1.00      1.00         1\n",
      "                                             wine       1.00      1.00      1.00         1\n",
      "                                            wraps       1.00      0.50      0.67         2\n",
      "                                          yoghurt       0.67      0.67      0.67         3\n",
      "\n",
      "                                         accuracy                           0.49       509\n",
      "                                        macro avg       0.26      0.29      0.26       509\n",
      "                                     weighted avg       0.49      0.49      0.47       509\n",
      "\n",
      "Label Encoder for product saved in './best_model_product'\n"
     ]
    },
    {
     "name": "stderr",
     "output_type": "stream",
     "text": [
      "\n"
     ]
    }
   ],
   "source": [
    "from sklearn.model_selection import train_test_split\n",
    "import torch\n",
    "import torch.optim as optim\n",
    "from transformers import AutoModelForSequenceClassification\n",
    "from torch.utils.data import DataLoader\n",
    "from sklearn.metrics import f1_score, classification_report\n",
    "from torch.optim.lr_scheduler import ReduceLROnPlateau\n",
    "from tqdm import tqdm\n",
    "import numpy as np\n",
    "\n",
    "# Train and evaluate the model with early stopping and learning rate reduction\n",
    "def train_and_evaluate_bert(data_splits, targets):\n",
    "    # Initialize an empty list to store F1 scores for each target task\n",
    "    f1_scores = []\n",
    "\n",
    "    # Loop through each target (task) for training and evaluation\n",
    "    for target in targets:\n",
    "        print(f\"\\nStarting training for task: {target}\")\n",
    "\n",
    "        # Retrieve the corresponding training and testing splits\n",
    "        X_train, X_test, y_train, y_test = data_splits[target]\n",
    "\n",
    "        # Extract the 'text' column for training and testing\n",
    "        texts_train = X_train['text'].values\n",
    "        texts_test = X_test['text'].values\n",
    "\n",
    "        # Create datasets for training and testing\n",
    "        train_dataset = TextDataset(texts_train, y_train, tokenizer, config['max_len'])\n",
    "        test_dataset = TextDataset(texts_test, y_test, tokenizer, config['max_len'])\n",
    "\n",
    "        # Create data loaders for batching during training and testing\n",
    "        train_loader = DataLoader(train_dataset, batch_size=config['batch_size'], shuffle=True)\n",
    "        test_loader = DataLoader(test_dataset, batch_size=config['batch_size'], shuffle=False)\n",
    "\n",
    "        # Determine the number of labels for classification dynamically based on the target task\n",
    "        num_classes = len(label_encoders[target].classes_)  # This gives the number of unique classes for the current task\n",
    "        \"\"\"\n",
    "        # Calculate class weights for CrossEntropyLoss\n",
    "        class_weights = compute_class_weight(\n",
    "            'balanced',\n",
    "            classes=np.unique(y_train),\n",
    "            y=y_train\n",
    "        )\n",
    "\n",
    "        # Initialize the full class weights tensor with 1 (or any other default weight)\n",
    "        class_weights_full = torch.ones(num_classes)  # Start with all weights equal to 1\n",
    "\n",
    "        # Map the computed class weights to the appropriate indices for the classes that exist in the training set\n",
    "        for i, class_idx in enumerate(np.unique(y_train)):\n",
    "            class_weights_full[class_idx] = class_weights[i]\n",
    "\n",
    "        # Move the class weights tensor to the correct device (GPU/CPU)\n",
    "        class_weights_full = class_weights_full.to(device)\n",
    "        \"\"\"\n",
    "\n",
    "        # Load the pre-trained model with the appropriate number of labels for classification\n",
    "        model = AutoModelForSequenceClassification.from_pretrained(config['model_name'], num_labels=num_classes).to(device)\n",
    "\n",
    "        # Initialize the optimizer, loss function (with class weights), and learning rate scheduler\n",
    "        optimizer = optim.Adam(model.parameters(), lr=config['learning_rate'])\n",
    "        scheduler = ReduceLROnPlateau(optimizer, 'min', factor=0.1, patience=3, verbose=True)\n",
    "        criterion = nn.CrossEntropyLoss() #WITHOUT WEIGHTS\n",
    "\n",
    "        # Early stopping setup\n",
    "        best_val_loss = float('inf')\n",
    "        best_epoch = 0\n",
    "        patience = 6  # Number of epochs with no improvement before stopping\n",
    "        epochs_without_improvement = 0\n",
    "        best_model = None  # Variable to hold the best model\n",
    "\n",
    "        # Training loop\n",
    "        model.train()\n",
    "        for epoch in range(config['epochs']):\n",
    "            print(f\"Epoch {epoch+1}/{config['epochs']} - Training: {target}\")\n",
    "            progress_bar = tqdm(train_loader, desc=f\"Training Epoch {epoch+1}\", total=len(train_loader), leave=True)\n",
    "\n",
    "            # Initialize variables to calculate average loss\n",
    "            epoch_loss = 0.0\n",
    "            total_batches = 0\n",
    "\n",
    "            for batch in progress_bar:\n",
    "                optimizer.zero_grad()\n",
    "\n",
    "                # Get the input data and labels for the current batch\n",
    "                input_ids = batch['input_ids'].squeeze(1).to(device)\n",
    "                attention_mask = batch['attention_mask'].squeeze(1).to(device)\n",
    "                labels = batch['label'].to(device)\n",
    "\n",
    "                # Forward pass\n",
    "                outputs = model(input_ids, attention_mask=attention_mask)\n",
    "                loss = criterion(outputs.logits, labels)\n",
    "\n",
    "                # Backward pass and optimization step\n",
    "                loss.backward()\n",
    "                optimizer.step()\n",
    "\n",
    "                # Update epoch loss and total batches\n",
    "                epoch_loss += loss.item()\n",
    "                total_batches += 1\n",
    "\n",
    "                # Update the progress bar with the current loss\n",
    "                progress_bar.set_postfix(loss=loss.item())\n",
    "\n",
    "            # Calculate and print average loss for the epoch\n",
    "            avg_epoch_loss = epoch_loss / total_batches\n",
    "            print(f\"Average Loss after Epoch {epoch+1}: {avg_epoch_loss}\")\n",
    "\n",
    "            # Print the current learning rate\n",
    "            current_lr = optimizer.param_groups[0]['lr']\n",
    "            print(f\"Learning rate after epoch {epoch+1}: {current_lr}\")\n",
    "\n",
    "            # Apply learning rate scheduler\n",
    "            scheduler.step(avg_epoch_loss)\n",
    "\n",
    "            # Save the model if it has the best loss so far\n",
    "            if avg_epoch_loss < best_val_loss:\n",
    "                best_val_loss = avg_epoch_loss\n",
    "                best_epoch = epoch + 1\n",
    "                epochs_without_improvement = 0\n",
    "                best_model = model.state_dict()  # Save model weights\n",
    "                print(f\"New best model found. Saving the model at epoch {best_epoch}.\")\n",
    "            else:\n",
    "                epochs_without_improvement += 1\n",
    "                if epochs_without_improvement >= patience:\n",
    "                    print(\"Early stopping triggered!\")\n",
    "                    break\n",
    "\n",
    "        # After training, save the best model\n",
    "        if best_model:\n",
    "            print(f\"Saving the best model from epoch {best_epoch}.\")\n",
    "            model.load_state_dict(best_model)  # Restore the best model\n",
    "            model.save_pretrained(f'./best_model_{target}')\n",
    "            tokenizer.save_pretrained(f'./best_model_{target}')\n",
    "        else:\n",
    "            print(\"No improvement in training loss. No model saved.\")\n",
    "\n",
    "        # Evaluate the model on the test set\n",
    "        print(f\"Evaluating model for task: {target}\")\n",
    "        model.eval()\n",
    "        y_preds = []\n",
    "        y_true = []\n",
    "\n",
    "        # Evaluate without computing gradients\n",
    "        with torch.no_grad():\n",
    "            for batch in tqdm(test_loader, desc=\"Evaluating\", total=len(test_loader), leave=True):\n",
    "                input_ids = batch['input_ids'].squeeze(1).to(device)\n",
    "                attention_mask = batch['attention_mask'].squeeze(1).to(device)\n",
    "                labels = batch['label'].to(device)\n",
    "\n",
    "                # Forward pass\n",
    "                outputs = model(input_ids, attention_mask=attention_mask)\n",
    "\n",
    "                # Get predictions and append them to the list\n",
    "                _, preds = torch.max(outputs.logits, dim=1)\n",
    "                y_preds.extend(preds.cpu().numpy())\n",
    "                y_true.extend(labels.cpu().numpy())\n",
    "\n",
    "        # Decode the predictions and true labels\n",
    "        decoded_preds = label_encoders[target].inverse_transform(y_preds)\n",
    "        decoded_true = label_encoders[target].inverse_transform(y_true)\n",
    "\n",
    "        # Calculate the macro F1 score\n",
    "        f1 = f1_score(decoded_true, decoded_preds, average='macro')\n",
    "        f1_scores.append(f1)\n",
    "        print(f\"F1-Score for {target}: {f1}\")\n",
    "\n",
    "        # Print the classification report\n",
    "        print(f\"Classification Report for {target}:\\n\")\n",
    "        print(classification_report(decoded_true, decoded_preds, zero_division=0))\n",
    "\n",
    "        # Save the label encoder for the current task\n",
    "        np.save(f'./best_model_{target}/{target}_label_encoder.npy', label_encoders[target].classes_)\n",
    "        print(f\"Label Encoder for {target} saved in './best_model_{target}'\")\n",
    "\n",
    "    # Return the F1 scores for each target task\n",
    "    return f1_scores\n",
    "\n",
    "# Train and evaluate for all targets (subtasks 1 and 2)\n",
    "text_f1_scores = train_and_evaluate_bert(text_splits, targets_subtask1 + targets_subtask2)\n"
   ]
  },
  {
   "cell_type": "markdown",
   "metadata": {
    "id": "HLUojbN91Oon"
   },
   "source": [
    "# Generate predictions on the test data and print the predictions DataFrame\n",
    "Here, we load the test dataset, use the trained model to generate predictions, and display the results.\n"
   ]
  },
  {
   "cell_type": "code",
   "execution_count": 16,
   "metadata": {
    "colab": {
     "base_uri": "https://localhost:8080/"
    },
    "id": "1asDnwc-1QIb",
    "outputId": "4fe38cbe-ec02-4230-b7ee-9c8766aea743"
   },
   "outputs": [
    {
     "name": "stdout",
     "output_type": "stream",
     "text": [
      "Using device: cuda\n",
      "\n",
      "Final Predictions:\n",
      "\n",
      "    hazard-category                                   product-category  \\\n",
      "0        biological                       meat, egg and dairy products   \n",
      "1        biological                       meat, egg and dairy products   \n",
      "2        biological                       meat, egg and dairy products   \n",
      "3         allergens                                  ices and desserts   \n",
      "4    foreign bodies                       meat, egg and dairy products   \n",
      "..              ...                                                ...   \n",
      "560       allergens                              fruits and vegetables   \n",
      "561       allergens  dietetic foods, food supplements, fortified foods   \n",
      "562  foreign bodies                        cereals and bakery products   \n",
      "563       allergens                        cereals and bakery products   \n",
      "564       allergens                                      confectionery   \n",
      "\n",
      "                           hazard                      product  \n",
      "0          listeria monocytogenes                          ham  \n",
      "1                escherichia coli                       salami  \n",
      "2                   enteroviruses               cooked chicken  \n",
      "3                       pecan nut                    ice cream  \n",
      "4                  metal fragment       chicken based products  \n",
      "..                            ...                          ...  \n",
      "560                        cashew                       salads  \n",
      "561     milk and products thereof                  protein bar  \n",
      "562              plastic fragment                      cookies  \n",
      "563  peanuts and products thereof                     biscuits  \n",
      "564                        almond  dried fruits with chocolate  \n",
      "\n",
      "[565 rows x 4 columns]\n"
     ]
    }
   ],
   "source": [
    "# Import necessary libraries\n",
    "import os\n",
    "import torch\n",
    "import numpy as np\n",
    "import pandas as pd\n",
    "from transformers import AutoTokenizer, AutoModelForSequenceClassification\n",
    "from sklearn.preprocessing import LabelEncoder\n",
    "\n",
    "# Load the test data for predictions (CSV containing validation data)\n",
    "test_path = '/content/drive/MyDrive/Data/validation_data/incidents.csv'\n",
    "test_df = pd.read_csv(test_path, index_col=0)\n",
    "\n",
    "# Define the predict function\n",
    "def predict(texts, model_base_path, target):\n",
    "    # Load the tokenizer for the specified pre-trained model\n",
    "    tokenizer = AutoTokenizer.from_pretrained(model_base_path)\n",
    "\n",
    "    # Load the correct label encoder for the given target\n",
    "    label_encoder_path = f'{model_base_path}/{target}_label_encoder.npy'\n",
    "    label_encoder = LabelEncoder()\n",
    "\n",
    "    # Check if the label encoder file exists and load it\n",
    "    if os.path.exists(label_encoder_path):\n",
    "        label_encoder.classes_ = np.load(label_encoder_path, allow_pickle=True)\n",
    "    else:\n",
    "        # Print a warning if the label encoder is not found\n",
    "        print(f\"Warning: Label encoder not found for {target} at {label_encoder_path}\")\n",
    "        return None\n",
    "\n",
    "    # Load the pre-trained model for sequence classification\n",
    "    model = AutoModelForSequenceClassification.from_pretrained(model_base_path).to(device)\n",
    "\n",
    "    # Tokenize the input texts\n",
    "    inputs = tokenizer(\n",
    "        texts,\n",
    "        padding=True,  # Pad sequences to the max length\n",
    "        truncation=True,  # Truncate sequences to the max length\n",
    "        max_length=512,  # Limit sequence length to 512 tokens\n",
    "        return_tensors=\"pt\"  # Return PyTorch tensors\n",
    "    ).to(device)\n",
    "\n",
    "    # Put the model in evaluation mode\n",
    "    model.eval()\n",
    "\n",
    "    # Make predictions with no gradient calculation\n",
    "    with torch.no_grad():\n",
    "        outputs = model(**inputs)\n",
    "        logits = outputs.logits\n",
    "        predictions = torch.argmax(logits, dim=-1)  # Get the predicted class for each input\n",
    "\n",
    "    # Decode the predictions using the label encoder\n",
    "    decoded_predictions = label_encoder.inverse_transform(predictions.cpu().numpy())\n",
    "\n",
    "    # Return the decoded predictions\n",
    "    return decoded_predictions\n",
    "\n",
    "# Define device for model prediction (use GPU if available, else use CPU)\n",
    "device = torch.device('cuda' if torch.cuda.is_available() else 'cpu')\n",
    "print(f\"Using device: {device}\")\n",
    "\n",
    "# Prepare an empty dataframe to store the predictions\n",
    "predictions = pd.DataFrame()\n",
    "\n",
    "# Run predictions for all targets using the correct saved model\n",
    "for column in targets_subtask1 + targets_subtask2:\n",
    "    # Define the model path dynamically based on the target column\n",
    "    model_path = f'./best_model_{column}'  # Update model path to point to the best model\n",
    "\n",
    "    # Get the decoded predictions for the current target\n",
    "    decoded_preds = predict(test_df['text'].tolist(), model_path, column)\n",
    "\n",
    "    # If predictions were successfully made, store them in the dataframe\n",
    "    if decoded_preds is not None:\n",
    "        predictions[column] = decoded_preds\n",
    "\n",
    "# Display the final predictions\n",
    "print(\"\\nFinal Predictions:\\n\")\n",
    "print(predictions)\n"
   ]
  },
  {
   "cell_type": "code",
   "execution_count": 17,
   "metadata": {
    "colab": {
     "base_uri": "https://localhost:8080/",
     "height": 423
    },
    "id": "v6gfxEZFM2Kq",
    "outputId": "672fd0da-537c-4a08-d1df-53126c7c7c6e"
   },
   "outputs": [
    {
     "data": {
      "application/vnd.google.colaboratory.intrinsic+json": {
       "summary": "{\n  \"name\": \"predictions\",\n  \"rows\": 565,\n  \"fields\": [\n    {\n      \"column\": \"hazard-category\",\n      \"properties\": {\n        \"dtype\": \"category\",\n        \"num_unique_values\": 9,\n        \"samples\": [\n          \"organoleptic aspects\",\n          \"allergens\",\n          \"other hazard\"\n        ],\n        \"semantic_type\": \"\",\n        \"description\": \"\"\n      }\n    },\n    {\n      \"column\": \"product-category\",\n      \"properties\": {\n        \"dtype\": \"category\",\n        \"num_unique_values\": 17,\n        \"samples\": [\n          \"meat, egg and dairy products\",\n          \"ices and desserts\",\n          \"soups, broths, sauces and condiments\"\n        ],\n        \"semantic_type\": \"\",\n        \"description\": \"\"\n      }\n    },\n    {\n      \"column\": \"hazard\",\n      \"properties\": {\n        \"dtype\": \"category\",\n        \"num_unique_values\": 81,\n        \"samples\": [\n          \"specified risk material (srm)\",\n          \"listeria monocytogenes\",\n          \"insects\"\n        ],\n        \"semantic_type\": \"\",\n        \"description\": \"\"\n      }\n    },\n    {\n      \"column\": \"product\",\n      \"properties\": {\n        \"dtype\": \"category\",\n        \"num_unique_values\": 257,\n        \"samples\": [\n          \"ground turmeric\",\n          \"raw beef meat\",\n          \"pork preparation\"\n        ],\n        \"semantic_type\": \"\",\n        \"description\": \"\"\n      }\n    }\n  ]\n}",
       "type": "dataframe",
       "variable_name": "predictions"
      },
      "text/html": [
       "\n",
       "  <div id=\"df-78e00a09-4b60-4e32-8795-7ea65137c82e\" class=\"colab-df-container\">\n",
       "    <div>\n",
       "<style scoped>\n",
       "    .dataframe tbody tr th:only-of-type {\n",
       "        vertical-align: middle;\n",
       "    }\n",
       "\n",
       "    .dataframe tbody tr th {\n",
       "        vertical-align: top;\n",
       "    }\n",
       "\n",
       "    .dataframe thead th {\n",
       "        text-align: right;\n",
       "    }\n",
       "</style>\n",
       "<table border=\"1\" class=\"dataframe\">\n",
       "  <thead>\n",
       "    <tr style=\"text-align: right;\">\n",
       "      <th></th>\n",
       "      <th>hazard-category</th>\n",
       "      <th>product-category</th>\n",
       "      <th>hazard</th>\n",
       "      <th>product</th>\n",
       "    </tr>\n",
       "  </thead>\n",
       "  <tbody>\n",
       "    <tr>\n",
       "      <th>0</th>\n",
       "      <td>biological</td>\n",
       "      <td>meat, egg and dairy products</td>\n",
       "      <td>listeria monocytogenes</td>\n",
       "      <td>ham</td>\n",
       "    </tr>\n",
       "    <tr>\n",
       "      <th>1</th>\n",
       "      <td>biological</td>\n",
       "      <td>meat, egg and dairy products</td>\n",
       "      <td>escherichia coli</td>\n",
       "      <td>salami</td>\n",
       "    </tr>\n",
       "    <tr>\n",
       "      <th>2</th>\n",
       "      <td>biological</td>\n",
       "      <td>meat, egg and dairy products</td>\n",
       "      <td>enteroviruses</td>\n",
       "      <td>cooked chicken</td>\n",
       "    </tr>\n",
       "    <tr>\n",
       "      <th>3</th>\n",
       "      <td>allergens</td>\n",
       "      <td>ices and desserts</td>\n",
       "      <td>pecan nut</td>\n",
       "      <td>ice cream</td>\n",
       "    </tr>\n",
       "    <tr>\n",
       "      <th>4</th>\n",
       "      <td>foreign bodies</td>\n",
       "      <td>meat, egg and dairy products</td>\n",
       "      <td>metal fragment</td>\n",
       "      <td>chicken based products</td>\n",
       "    </tr>\n",
       "    <tr>\n",
       "      <th>...</th>\n",
       "      <td>...</td>\n",
       "      <td>...</td>\n",
       "      <td>...</td>\n",
       "      <td>...</td>\n",
       "    </tr>\n",
       "    <tr>\n",
       "      <th>560</th>\n",
       "      <td>allergens</td>\n",
       "      <td>fruits and vegetables</td>\n",
       "      <td>cashew</td>\n",
       "      <td>salads</td>\n",
       "    </tr>\n",
       "    <tr>\n",
       "      <th>561</th>\n",
       "      <td>allergens</td>\n",
       "      <td>dietetic foods, food supplements, fortified foods</td>\n",
       "      <td>milk and products thereof</td>\n",
       "      <td>protein bar</td>\n",
       "    </tr>\n",
       "    <tr>\n",
       "      <th>562</th>\n",
       "      <td>foreign bodies</td>\n",
       "      <td>cereals and bakery products</td>\n",
       "      <td>plastic fragment</td>\n",
       "      <td>cookies</td>\n",
       "    </tr>\n",
       "    <tr>\n",
       "      <th>563</th>\n",
       "      <td>allergens</td>\n",
       "      <td>cereals and bakery products</td>\n",
       "      <td>peanuts and products thereof</td>\n",
       "      <td>biscuits</td>\n",
       "    </tr>\n",
       "    <tr>\n",
       "      <th>564</th>\n",
       "      <td>allergens</td>\n",
       "      <td>confectionery</td>\n",
       "      <td>almond</td>\n",
       "      <td>dried fruits with chocolate</td>\n",
       "    </tr>\n",
       "  </tbody>\n",
       "</table>\n",
       "<p>565 rows × 4 columns</p>\n",
       "</div>\n",
       "    <div class=\"colab-df-buttons\">\n",
       "\n",
       "  <div class=\"colab-df-container\">\n",
       "    <button class=\"colab-df-convert\" onclick=\"convertToInteractive('df-78e00a09-4b60-4e32-8795-7ea65137c82e')\"\n",
       "            title=\"Convert this dataframe to an interactive table.\"\n",
       "            style=\"display:none;\">\n",
       "\n",
       "  <svg xmlns=\"http://www.w3.org/2000/svg\" height=\"24px\" viewBox=\"0 -960 960 960\">\n",
       "    <path d=\"M120-120v-720h720v720H120Zm60-500h600v-160H180v160Zm220 220h160v-160H400v160Zm0 220h160v-160H400v160ZM180-400h160v-160H180v160Zm440 0h160v-160H620v160ZM180-180h160v-160H180v160Zm440 0h160v-160H620v160Z\"/>\n",
       "  </svg>\n",
       "    </button>\n",
       "\n",
       "  <style>\n",
       "    .colab-df-container {\n",
       "      display:flex;\n",
       "      gap: 12px;\n",
       "    }\n",
       "\n",
       "    .colab-df-convert {\n",
       "      background-color: #E8F0FE;\n",
       "      border: none;\n",
       "      border-radius: 50%;\n",
       "      cursor: pointer;\n",
       "      display: none;\n",
       "      fill: #1967D2;\n",
       "      height: 32px;\n",
       "      padding: 0 0 0 0;\n",
       "      width: 32px;\n",
       "    }\n",
       "\n",
       "    .colab-df-convert:hover {\n",
       "      background-color: #E2EBFA;\n",
       "      box-shadow: 0px 1px 2px rgba(60, 64, 67, 0.3), 0px 1px 3px 1px rgba(60, 64, 67, 0.15);\n",
       "      fill: #174EA6;\n",
       "    }\n",
       "\n",
       "    .colab-df-buttons div {\n",
       "      margin-bottom: 4px;\n",
       "    }\n",
       "\n",
       "    [theme=dark] .colab-df-convert {\n",
       "      background-color: #3B4455;\n",
       "      fill: #D2E3FC;\n",
       "    }\n",
       "\n",
       "    [theme=dark] .colab-df-convert:hover {\n",
       "      background-color: #434B5C;\n",
       "      box-shadow: 0px 1px 3px 1px rgba(0, 0, 0, 0.15);\n",
       "      filter: drop-shadow(0px 1px 2px rgba(0, 0, 0, 0.3));\n",
       "      fill: #FFFFFF;\n",
       "    }\n",
       "  </style>\n",
       "\n",
       "    <script>\n",
       "      const buttonEl =\n",
       "        document.querySelector('#df-78e00a09-4b60-4e32-8795-7ea65137c82e button.colab-df-convert');\n",
       "      buttonEl.style.display =\n",
       "        google.colab.kernel.accessAllowed ? 'block' : 'none';\n",
       "\n",
       "      async function convertToInteractive(key) {\n",
       "        const element = document.querySelector('#df-78e00a09-4b60-4e32-8795-7ea65137c82e');\n",
       "        const dataTable =\n",
       "          await google.colab.kernel.invokeFunction('convertToInteractive',\n",
       "                                                    [key], {});\n",
       "        if (!dataTable) return;\n",
       "\n",
       "        const docLinkHtml = 'Like what you see? Visit the ' +\n",
       "          '<a target=\"_blank\" href=https://colab.research.google.com/notebooks/data_table.ipynb>data table notebook</a>'\n",
       "          + ' to learn more about interactive tables.';\n",
       "        element.innerHTML = '';\n",
       "        dataTable['output_type'] = 'display_data';\n",
       "        await google.colab.output.renderOutput(dataTable, element);\n",
       "        const docLink = document.createElement('div');\n",
       "        docLink.innerHTML = docLinkHtml;\n",
       "        element.appendChild(docLink);\n",
       "      }\n",
       "    </script>\n",
       "  </div>\n",
       "\n",
       "\n",
       "<div id=\"df-1995bc85-c789-4582-95d6-38f1a69cec5a\">\n",
       "  <button class=\"colab-df-quickchart\" onclick=\"quickchart('df-1995bc85-c789-4582-95d6-38f1a69cec5a')\"\n",
       "            title=\"Suggest charts\"\n",
       "            style=\"display:none;\">\n",
       "\n",
       "<svg xmlns=\"http://www.w3.org/2000/svg\" height=\"24px\"viewBox=\"0 0 24 24\"\n",
       "     width=\"24px\">\n",
       "    <g>\n",
       "        <path d=\"M19 3H5c-1.1 0-2 .9-2 2v14c0 1.1.9 2 2 2h14c1.1 0 2-.9 2-2V5c0-1.1-.9-2-2-2zM9 17H7v-7h2v7zm4 0h-2V7h2v10zm4 0h-2v-4h2v4z\"/>\n",
       "    </g>\n",
       "</svg>\n",
       "  </button>\n",
       "\n",
       "<style>\n",
       "  .colab-df-quickchart {\n",
       "      --bg-color: #E8F0FE;\n",
       "      --fill-color: #1967D2;\n",
       "      --hover-bg-color: #E2EBFA;\n",
       "      --hover-fill-color: #174EA6;\n",
       "      --disabled-fill-color: #AAA;\n",
       "      --disabled-bg-color: #DDD;\n",
       "  }\n",
       "\n",
       "  [theme=dark] .colab-df-quickchart {\n",
       "      --bg-color: #3B4455;\n",
       "      --fill-color: #D2E3FC;\n",
       "      --hover-bg-color: #434B5C;\n",
       "      --hover-fill-color: #FFFFFF;\n",
       "      --disabled-bg-color: #3B4455;\n",
       "      --disabled-fill-color: #666;\n",
       "  }\n",
       "\n",
       "  .colab-df-quickchart {\n",
       "    background-color: var(--bg-color);\n",
       "    border: none;\n",
       "    border-radius: 50%;\n",
       "    cursor: pointer;\n",
       "    display: none;\n",
       "    fill: var(--fill-color);\n",
       "    height: 32px;\n",
       "    padding: 0;\n",
       "    width: 32px;\n",
       "  }\n",
       "\n",
       "  .colab-df-quickchart:hover {\n",
       "    background-color: var(--hover-bg-color);\n",
       "    box-shadow: 0 1px 2px rgba(60, 64, 67, 0.3), 0 1px 3px 1px rgba(60, 64, 67, 0.15);\n",
       "    fill: var(--button-hover-fill-color);\n",
       "  }\n",
       "\n",
       "  .colab-df-quickchart-complete:disabled,\n",
       "  .colab-df-quickchart-complete:disabled:hover {\n",
       "    background-color: var(--disabled-bg-color);\n",
       "    fill: var(--disabled-fill-color);\n",
       "    box-shadow: none;\n",
       "  }\n",
       "\n",
       "  .colab-df-spinner {\n",
       "    border: 2px solid var(--fill-color);\n",
       "    border-color: transparent;\n",
       "    border-bottom-color: var(--fill-color);\n",
       "    animation:\n",
       "      spin 1s steps(1) infinite;\n",
       "  }\n",
       "\n",
       "  @keyframes spin {\n",
       "    0% {\n",
       "      border-color: transparent;\n",
       "      border-bottom-color: var(--fill-color);\n",
       "      border-left-color: var(--fill-color);\n",
       "    }\n",
       "    20% {\n",
       "      border-color: transparent;\n",
       "      border-left-color: var(--fill-color);\n",
       "      border-top-color: var(--fill-color);\n",
       "    }\n",
       "    30% {\n",
       "      border-color: transparent;\n",
       "      border-left-color: var(--fill-color);\n",
       "      border-top-color: var(--fill-color);\n",
       "      border-right-color: var(--fill-color);\n",
       "    }\n",
       "    40% {\n",
       "      border-color: transparent;\n",
       "      border-right-color: var(--fill-color);\n",
       "      border-top-color: var(--fill-color);\n",
       "    }\n",
       "    60% {\n",
       "      border-color: transparent;\n",
       "      border-right-color: var(--fill-color);\n",
       "    }\n",
       "    80% {\n",
       "      border-color: transparent;\n",
       "      border-right-color: var(--fill-color);\n",
       "      border-bottom-color: var(--fill-color);\n",
       "    }\n",
       "    90% {\n",
       "      border-color: transparent;\n",
       "      border-bottom-color: var(--fill-color);\n",
       "    }\n",
       "  }\n",
       "</style>\n",
       "\n",
       "  <script>\n",
       "    async function quickchart(key) {\n",
       "      const quickchartButtonEl =\n",
       "        document.querySelector('#' + key + ' button');\n",
       "      quickchartButtonEl.disabled = true;  // To prevent multiple clicks.\n",
       "      quickchartButtonEl.classList.add('colab-df-spinner');\n",
       "      try {\n",
       "        const charts = await google.colab.kernel.invokeFunction(\n",
       "            'suggestCharts', [key], {});\n",
       "      } catch (error) {\n",
       "        console.error('Error during call to suggestCharts:', error);\n",
       "      }\n",
       "      quickchartButtonEl.classList.remove('colab-df-spinner');\n",
       "      quickchartButtonEl.classList.add('colab-df-quickchart-complete');\n",
       "    }\n",
       "    (() => {\n",
       "      let quickchartButtonEl =\n",
       "        document.querySelector('#df-1995bc85-c789-4582-95d6-38f1a69cec5a button');\n",
       "      quickchartButtonEl.style.display =\n",
       "        google.colab.kernel.accessAllowed ? 'block' : 'none';\n",
       "    })();\n",
       "  </script>\n",
       "</div>\n",
       "\n",
       "  <div id=\"id_9e495fe1-46b0-431b-9758-451f6404c21e\">\n",
       "    <style>\n",
       "      .colab-df-generate {\n",
       "        background-color: #E8F0FE;\n",
       "        border: none;\n",
       "        border-radius: 50%;\n",
       "        cursor: pointer;\n",
       "        display: none;\n",
       "        fill: #1967D2;\n",
       "        height: 32px;\n",
       "        padding: 0 0 0 0;\n",
       "        width: 32px;\n",
       "      }\n",
       "\n",
       "      .colab-df-generate:hover {\n",
       "        background-color: #E2EBFA;\n",
       "        box-shadow: 0px 1px 2px rgba(60, 64, 67, 0.3), 0px 1px 3px 1px rgba(60, 64, 67, 0.15);\n",
       "        fill: #174EA6;\n",
       "      }\n",
       "\n",
       "      [theme=dark] .colab-df-generate {\n",
       "        background-color: #3B4455;\n",
       "        fill: #D2E3FC;\n",
       "      }\n",
       "\n",
       "      [theme=dark] .colab-df-generate:hover {\n",
       "        background-color: #434B5C;\n",
       "        box-shadow: 0px 1px 3px 1px rgba(0, 0, 0, 0.15);\n",
       "        filter: drop-shadow(0px 1px 2px rgba(0, 0, 0, 0.3));\n",
       "        fill: #FFFFFF;\n",
       "      }\n",
       "    </style>\n",
       "    <button class=\"colab-df-generate\" onclick=\"generateWithVariable('predictions')\"\n",
       "            title=\"Generate code using this dataframe.\"\n",
       "            style=\"display:none;\">\n",
       "\n",
       "  <svg xmlns=\"http://www.w3.org/2000/svg\" height=\"24px\"viewBox=\"0 0 24 24\"\n",
       "       width=\"24px\">\n",
       "    <path d=\"M7,19H8.4L18.45,9,17,7.55,7,17.6ZM5,21V16.75L18.45,3.32a2,2,0,0,1,2.83,0l1.4,1.43a1.91,1.91,0,0,1,.58,1.4,1.91,1.91,0,0,1-.58,1.4L9.25,21ZM18.45,9,17,7.55Zm-12,3A5.31,5.31,0,0,0,4.9,8.1,5.31,5.31,0,0,0,1,6.5,5.31,5.31,0,0,0,4.9,4.9,5.31,5.31,0,0,0,6.5,1,5.31,5.31,0,0,0,8.1,4.9,5.31,5.31,0,0,0,12,6.5,5.46,5.46,0,0,0,6.5,12Z\"/>\n",
       "  </svg>\n",
       "    </button>\n",
       "    <script>\n",
       "      (() => {\n",
       "      const buttonEl =\n",
       "        document.querySelector('#id_9e495fe1-46b0-431b-9758-451f6404c21e button.colab-df-generate');\n",
       "      buttonEl.style.display =\n",
       "        google.colab.kernel.accessAllowed ? 'block' : 'none';\n",
       "\n",
       "      buttonEl.onclick = () => {\n",
       "        google.colab.notebook.generateWithVariable('predictions');\n",
       "      }\n",
       "      })();\n",
       "    </script>\n",
       "  </div>\n",
       "\n",
       "    </div>\n",
       "  </div>\n"
      ],
      "text/plain": [
       "    hazard-category                                   product-category  \\\n",
       "0        biological                       meat, egg and dairy products   \n",
       "1        biological                       meat, egg and dairy products   \n",
       "2        biological                       meat, egg and dairy products   \n",
       "3         allergens                                  ices and desserts   \n",
       "4    foreign bodies                       meat, egg and dairy products   \n",
       "..              ...                                                ...   \n",
       "560       allergens                              fruits and vegetables   \n",
       "561       allergens  dietetic foods, food supplements, fortified foods   \n",
       "562  foreign bodies                        cereals and bakery products   \n",
       "563       allergens                        cereals and bakery products   \n",
       "564       allergens                                      confectionery   \n",
       "\n",
       "                           hazard                      product  \n",
       "0          listeria monocytogenes                          ham  \n",
       "1                escherichia coli                       salami  \n",
       "2                   enteroviruses               cooked chicken  \n",
       "3                       pecan nut                    ice cream  \n",
       "4                  metal fragment       chicken based products  \n",
       "..                            ...                          ...  \n",
       "560                        cashew                       salads  \n",
       "561     milk and products thereof                  protein bar  \n",
       "562              plastic fragment                      cookies  \n",
       "563  peanuts and products thereof                     biscuits  \n",
       "564                        almond  dried fruits with chocolate  \n",
       "\n",
       "[565 rows x 4 columns]"
      ]
     },
     "execution_count": 17,
     "metadata": {},
     "output_type": "execute_result"
    }
   ],
   "source": [
    "predictions"
   ]
  },
  {
   "cell_type": "markdown",
   "metadata": {
    "id": "z5p7qVnA0Gc4"
   },
   "source": [
    "# Create the submission folder and archive the results\n",
    "Finally, predictions and models are saved into a submission directory for easy sharing or evaluation.\n"
   ]
  },
  {
   "cell_type": "code",
   "execution_count": 18,
   "metadata": {
    "colab": {
     "base_uri": "https://localhost:8080/"
    },
    "id": "REr-ySES0FHE",
    "outputId": "85f55cd1-2b39-4121-f77b-074f1321a24e"
   },
   "outputs": [
    {
     "name": "stdout",
     "output_type": "stream",
     "text": [
      "Submission saved to Google Drive at /content/drive/MyDrive/submission_finetunedBioBERT/\n"
     ]
    }
   ],
   "source": [
    "import os\n",
    "from shutil import make_archive\n",
    "import pandas as pd\n",
    "from google.colab import drive\n",
    "\n",
    "# Define the Google Drive path where you want to save the files\n",
    "output_folder = '/content/drive/MyDrive/submission_finetunedBioBERT/'\n",
    "\n",
    "# Create the folder in Google Drive if it doesn't exist\n",
    "os.makedirs(output_folder, exist_ok=True)\n",
    "\n",
    "# Save predictions to a CSV file named 'submission.csv' inside the folder\n",
    "predictions.to_csv(f'{output_folder}submission.csv', index=False)\n",
    "\n",
    "# Zip the folder for submission\n",
    "make_archive(output_folder, 'zip', output_folder)\n",
    "\n",
    "# Print confirmation message\n",
    "print(f\"Submission saved to Google Drive at {output_folder}\")\n"
   ]
  },
  {
   "cell_type": "code",
   "execution_count": null,
   "metadata": {
    "id": "iNRwL3hTarL-"
   },
   "outputs": [],
   "source": []
  }
 ],
 "metadata": {
  "accelerator": "GPU",
  "colab": {
   "gpuType": "A100",
   "provenance": []
  },
  "kernelspec": {
   "display_name": "Python 3",
   "name": "python3"
  },
  "language_info": {
   "name": "python"
  },
  "widgets": {
   "application/vnd.jupyter.widget-state+json": {
    "07df606def7449ae8637d46477828cdb": {
     "model_module": "@jupyter-widgets/controls",
     "model_module_version": "1.5.0",
     "model_name": "HTMLModel",
     "state": {
      "_dom_classes": [],
      "_model_module": "@jupyter-widgets/controls",
      "_model_module_version": "1.5.0",
      "_model_name": "HTMLModel",
      "_view_count": null,
      "_view_module": "@jupyter-widgets/controls",
      "_view_module_version": "1.5.0",
      "_view_name": "HTMLView",
      "description": "",
      "description_tooltip": null,
      "layout": "IPY_MODEL_aeb93ee3377846018eafa68283b25e73",
      "placeholder": "​",
      "style": "IPY_MODEL_ea4ea691293c4c6d8591843567340890",
      "value": "pytorch_model.bin: 100%"
     }
    },
    "0eb580f497a84fe3abb4d5b9dfaf86ad": {
     "model_module": "@jupyter-widgets/controls",
     "model_module_version": "1.5.0",
     "model_name": "DescriptionStyleModel",
     "state": {
      "_model_module": "@jupyter-widgets/controls",
      "_model_module_version": "1.5.0",
      "_model_name": "DescriptionStyleModel",
      "_view_count": null,
      "_view_module": "@jupyter-widgets/base",
      "_view_module_version": "1.2.0",
      "_view_name": "StyleView",
      "description_width": ""
     }
    },
    "19e0be073dda42c0b58c2c2026f72213": {
     "model_module": "@jupyter-widgets/base",
     "model_module_version": "1.2.0",
     "model_name": "LayoutModel",
     "state": {
      "_model_module": "@jupyter-widgets/base",
      "_model_module_version": "1.2.0",
      "_model_name": "LayoutModel",
      "_view_count": null,
      "_view_module": "@jupyter-widgets/base",
      "_view_module_version": "1.2.0",
      "_view_name": "LayoutView",
      "align_content": null,
      "align_items": null,
      "align_self": null,
      "border": null,
      "bottom": null,
      "display": null,
      "flex": null,
      "flex_flow": null,
      "grid_area": null,
      "grid_auto_columns": null,
      "grid_auto_flow": null,
      "grid_auto_rows": null,
      "grid_column": null,
      "grid_gap": null,
      "grid_row": null,
      "grid_template_areas": null,
      "grid_template_columns": null,
      "grid_template_rows": null,
      "height": null,
      "justify_content": null,
      "justify_items": null,
      "left": null,
      "margin": null,
      "max_height": null,
      "max_width": null,
      "min_height": null,
      "min_width": null,
      "object_fit": null,
      "object_position": null,
      "order": null,
      "overflow": null,
      "overflow_x": null,
      "overflow_y": null,
      "padding": null,
      "right": null,
      "top": null,
      "visibility": null,
      "width": null
     }
    },
    "2f164bc0279c4f4cb162883692f7e277": {
     "model_module": "@jupyter-widgets/controls",
     "model_module_version": "1.5.0",
     "model_name": "DescriptionStyleModel",
     "state": {
      "_model_module": "@jupyter-widgets/controls",
      "_model_module_version": "1.5.0",
      "_model_name": "DescriptionStyleModel",
      "_view_count": null,
      "_view_module": "@jupyter-widgets/base",
      "_view_module_version": "1.2.0",
      "_view_name": "StyleView",
      "description_width": ""
     }
    },
    "30523e9fade1437597b7e40d3f5cf646": {
     "model_module": "@jupyter-widgets/base",
     "model_module_version": "1.2.0",
     "model_name": "LayoutModel",
     "state": {
      "_model_module": "@jupyter-widgets/base",
      "_model_module_version": "1.2.0",
      "_model_name": "LayoutModel",
      "_view_count": null,
      "_view_module": "@jupyter-widgets/base",
      "_view_module_version": "1.2.0",
      "_view_name": "LayoutView",
      "align_content": null,
      "align_items": null,
      "align_self": null,
      "border": null,
      "bottom": null,
      "display": null,
      "flex": null,
      "flex_flow": null,
      "grid_area": null,
      "grid_auto_columns": null,
      "grid_auto_flow": null,
      "grid_auto_rows": null,
      "grid_column": null,
      "grid_gap": null,
      "grid_row": null,
      "grid_template_areas": null,
      "grid_template_columns": null,
      "grid_template_rows": null,
      "height": null,
      "justify_content": null,
      "justify_items": null,
      "left": null,
      "margin": null,
      "max_height": null,
      "max_width": null,
      "min_height": null,
      "min_width": null,
      "object_fit": null,
      "object_position": null,
      "order": null,
      "overflow": null,
      "overflow_x": null,
      "overflow_y": null,
      "padding": null,
      "right": null,
      "top": null,
      "visibility": null,
      "width": null
     }
    },
    "36abb5323a5f4d119576587779654e57": {
     "model_module": "@jupyter-widgets/controls",
     "model_module_version": "1.5.0",
     "model_name": "HTMLModel",
     "state": {
      "_dom_classes": [],
      "_model_module": "@jupyter-widgets/controls",
      "_model_module_version": "1.5.0",
      "_model_name": "HTMLModel",
      "_view_count": null,
      "_view_module": "@jupyter-widgets/controls",
      "_view_module_version": "1.5.0",
      "_view_name": "HTMLView",
      "description": "",
      "description_tooltip": null,
      "layout": "IPY_MODEL_8aa7752ac5304bc8b00d8be958fcc16b",
      "placeholder": "​",
      "style": "IPY_MODEL_64b1481d57af4c1a85fbec2ff34ea20b",
      "value": "model.safetensors: 100%"
     }
    },
    "3c92cd8b70d1440ba503c28625b4b5fb": {
     "model_module": "@jupyter-widgets/controls",
     "model_module_version": "1.5.0",
     "model_name": "HTMLModel",
     "state": {
      "_dom_classes": [],
      "_model_module": "@jupyter-widgets/controls",
      "_model_module_version": "1.5.0",
      "_model_name": "HTMLModel",
      "_view_count": null,
      "_view_module": "@jupyter-widgets/controls",
      "_view_module_version": "1.5.0",
      "_view_name": "HTMLView",
      "description": "",
      "description_tooltip": null,
      "layout": "IPY_MODEL_30523e9fade1437597b7e40d3f5cf646",
      "placeholder": "​",
      "style": "IPY_MODEL_2f164bc0279c4f4cb162883692f7e277",
      "value": " 436M/436M [00:17&lt;00:00, 22.2MB/s]"
     }
    },
    "3d9ecdcdca0c4a5c983ab89818ead372": {
     "model_module": "@jupyter-widgets/base",
     "model_module_version": "1.2.0",
     "model_name": "LayoutModel",
     "state": {
      "_model_module": "@jupyter-widgets/base",
      "_model_module_version": "1.2.0",
      "_model_name": "LayoutModel",
      "_view_count": null,
      "_view_module": "@jupyter-widgets/base",
      "_view_module_version": "1.2.0",
      "_view_name": "LayoutView",
      "align_content": null,
      "align_items": null,
      "align_self": null,
      "border": null,
      "bottom": null,
      "display": null,
      "flex": null,
      "flex_flow": null,
      "grid_area": null,
      "grid_auto_columns": null,
      "grid_auto_flow": null,
      "grid_auto_rows": null,
      "grid_column": null,
      "grid_gap": null,
      "grid_row": null,
      "grid_template_areas": null,
      "grid_template_columns": null,
      "grid_template_rows": null,
      "height": null,
      "justify_content": null,
      "justify_items": null,
      "left": null,
      "margin": null,
      "max_height": null,
      "max_width": null,
      "min_height": null,
      "min_width": null,
      "object_fit": null,
      "object_position": null,
      "order": null,
      "overflow": null,
      "overflow_x": null,
      "overflow_y": null,
      "padding": null,
      "right": null,
      "top": null,
      "visibility": null,
      "width": null
     }
    },
    "418c6310da0b4dedbb0cf87035bb94dd": {
     "model_module": "@jupyter-widgets/base",
     "model_module_version": "1.2.0",
     "model_name": "LayoutModel",
     "state": {
      "_model_module": "@jupyter-widgets/base",
      "_model_module_version": "1.2.0",
      "_model_name": "LayoutModel",
      "_view_count": null,
      "_view_module": "@jupyter-widgets/base",
      "_view_module_version": "1.2.0",
      "_view_name": "LayoutView",
      "align_content": null,
      "align_items": null,
      "align_self": null,
      "border": null,
      "bottom": null,
      "display": null,
      "flex": null,
      "flex_flow": null,
      "grid_area": null,
      "grid_auto_columns": null,
      "grid_auto_flow": null,
      "grid_auto_rows": null,
      "grid_column": null,
      "grid_gap": null,
      "grid_row": null,
      "grid_template_areas": null,
      "grid_template_columns": null,
      "grid_template_rows": null,
      "height": null,
      "justify_content": null,
      "justify_items": null,
      "left": null,
      "margin": null,
      "max_height": null,
      "max_width": null,
      "min_height": null,
      "min_width": null,
      "object_fit": null,
      "object_position": null,
      "order": null,
      "overflow": null,
      "overflow_x": null,
      "overflow_y": null,
      "padding": null,
      "right": null,
      "top": null,
      "visibility": null,
      "width": null
     }
    },
    "457d042c42df40a59dab51e7b3030ff3": {
     "model_module": "@jupyter-widgets/base",
     "model_module_version": "1.2.0",
     "model_name": "LayoutModel",
     "state": {
      "_model_module": "@jupyter-widgets/base",
      "_model_module_version": "1.2.0",
      "_model_name": "LayoutModel",
      "_view_count": null,
      "_view_module": "@jupyter-widgets/base",
      "_view_module_version": "1.2.0",
      "_view_name": "LayoutView",
      "align_content": null,
      "align_items": null,
      "align_self": null,
      "border": null,
      "bottom": null,
      "display": null,
      "flex": null,
      "flex_flow": null,
      "grid_area": null,
      "grid_auto_columns": null,
      "grid_auto_flow": null,
      "grid_auto_rows": null,
      "grid_column": null,
      "grid_gap": null,
      "grid_row": null,
      "grid_template_areas": null,
      "grid_template_columns": null,
      "grid_template_rows": null,
      "height": null,
      "justify_content": null,
      "justify_items": null,
      "left": null,
      "margin": null,
      "max_height": null,
      "max_width": null,
      "min_height": null,
      "min_width": null,
      "object_fit": null,
      "object_position": null,
      "order": null,
      "overflow": null,
      "overflow_x": null,
      "overflow_y": null,
      "padding": null,
      "right": null,
      "top": null,
      "visibility": null,
      "width": null
     }
    },
    "4b66aaae0ce84dc6b573e7a768dcf24e": {
     "model_module": "@jupyter-widgets/controls",
     "model_module_version": "1.5.0",
     "model_name": "DescriptionStyleModel",
     "state": {
      "_model_module": "@jupyter-widgets/controls",
      "_model_module_version": "1.5.0",
      "_model_name": "DescriptionStyleModel",
      "_view_count": null,
      "_view_module": "@jupyter-widgets/base",
      "_view_module_version": "1.2.0",
      "_view_name": "StyleView",
      "description_width": ""
     }
    },
    "5389b69d6a774e44beff0910030d426e": {
     "model_module": "@jupyter-widgets/controls",
     "model_module_version": "1.5.0",
     "model_name": "HTMLModel",
     "state": {
      "_dom_classes": [],
      "_model_module": "@jupyter-widgets/controls",
      "_model_module_version": "1.5.0",
      "_model_name": "HTMLModel",
      "_view_count": null,
      "_view_module": "@jupyter-widgets/controls",
      "_view_module_version": "1.5.0",
      "_view_name": "HTMLView",
      "description": "",
      "description_tooltip": null,
      "layout": "IPY_MODEL_79fb04c76bba4331bbd3a296f8d8f482",
      "placeholder": "​",
      "style": "IPY_MODEL_4b66aaae0ce84dc6b573e7a768dcf24e",
      "value": " 436M/436M [00:01&lt;00:00, 218MB/s]"
     }
    },
    "541bb1f42602469cac4682e0c94bd0cc": {
     "model_module": "@jupyter-widgets/controls",
     "model_module_version": "1.5.0",
     "model_name": "DescriptionStyleModel",
     "state": {
      "_model_module": "@jupyter-widgets/controls",
      "_model_module_version": "1.5.0",
      "_model_name": "DescriptionStyleModel",
      "_view_count": null,
      "_view_module": "@jupyter-widgets/base",
      "_view_module_version": "1.2.0",
      "_view_name": "StyleView",
      "description_width": ""
     }
    },
    "56d0dd4da7c54f86b48017495658907d": {
     "model_module": "@jupyter-widgets/controls",
     "model_module_version": "1.5.0",
     "model_name": "FloatProgressModel",
     "state": {
      "_dom_classes": [],
      "_model_module": "@jupyter-widgets/controls",
      "_model_module_version": "1.5.0",
      "_model_name": "FloatProgressModel",
      "_view_count": null,
      "_view_module": "@jupyter-widgets/controls",
      "_view_module_version": "1.5.0",
      "_view_name": "ProgressView",
      "bar_style": "success",
      "description": "",
      "description_tooltip": null,
      "layout": "IPY_MODEL_fc3afcee2ea9466fa4f5fbb84554a109",
      "max": 1110,
      "min": 0,
      "orientation": "horizontal",
      "style": "IPY_MODEL_6f67d533addd4a0dab9e6403008bc63f",
      "value": 1110
     }
    },
    "5d78e6a6cb3242128aec530444e25a8d": {
     "model_module": "@jupyter-widgets/base",
     "model_module_version": "1.2.0",
     "model_name": "LayoutModel",
     "state": {
      "_model_module": "@jupyter-widgets/base",
      "_model_module_version": "1.2.0",
      "_model_name": "LayoutModel",
      "_view_count": null,
      "_view_module": "@jupyter-widgets/base",
      "_view_module_version": "1.2.0",
      "_view_name": "LayoutView",
      "align_content": null,
      "align_items": null,
      "align_self": null,
      "border": null,
      "bottom": null,
      "display": null,
      "flex": null,
      "flex_flow": null,
      "grid_area": null,
      "grid_auto_columns": null,
      "grid_auto_flow": null,
      "grid_auto_rows": null,
      "grid_column": null,
      "grid_gap": null,
      "grid_row": null,
      "grid_template_areas": null,
      "grid_template_columns": null,
      "grid_template_rows": null,
      "height": null,
      "justify_content": null,
      "justify_items": null,
      "left": null,
      "margin": null,
      "max_height": null,
      "max_width": null,
      "min_height": null,
      "min_width": null,
      "object_fit": null,
      "object_position": null,
      "order": null,
      "overflow": null,
      "overflow_x": null,
      "overflow_y": null,
      "padding": null,
      "right": null,
      "top": null,
      "visibility": null,
      "width": null
     }
    },
    "5d84d60ba411491b98efeece81907c7b": {
     "model_module": "@jupyter-widgets/controls",
     "model_module_version": "1.5.0",
     "model_name": "ProgressStyleModel",
     "state": {
      "_model_module": "@jupyter-widgets/controls",
      "_model_module_version": "1.5.0",
      "_model_name": "ProgressStyleModel",
      "_view_count": null,
      "_view_module": "@jupyter-widgets/base",
      "_view_module_version": "1.2.0",
      "_view_name": "StyleView",
      "bar_color": null,
      "description_width": ""
     }
    },
    "64b1481d57af4c1a85fbec2ff34ea20b": {
     "model_module": "@jupyter-widgets/controls",
     "model_module_version": "1.5.0",
     "model_name": "DescriptionStyleModel",
     "state": {
      "_model_module": "@jupyter-widgets/controls",
      "_model_module_version": "1.5.0",
      "_model_name": "DescriptionStyleModel",
      "_view_count": null,
      "_view_module": "@jupyter-widgets/base",
      "_view_module_version": "1.2.0",
      "_view_name": "StyleView",
      "description_width": ""
     }
    },
    "6f67d533addd4a0dab9e6403008bc63f": {
     "model_module": "@jupyter-widgets/controls",
     "model_module_version": "1.5.0",
     "model_name": "ProgressStyleModel",
     "state": {
      "_model_module": "@jupyter-widgets/controls",
      "_model_module_version": "1.5.0",
      "_model_name": "ProgressStyleModel",
      "_view_count": null,
      "_view_module": "@jupyter-widgets/base",
      "_view_module_version": "1.2.0",
      "_view_name": "StyleView",
      "bar_color": null,
      "description_width": ""
     }
    },
    "76315145c94a4c97960c99995da8a319": {
     "model_module": "@jupyter-widgets/controls",
     "model_module_version": "1.5.0",
     "model_name": "HTMLModel",
     "state": {
      "_dom_classes": [],
      "_model_module": "@jupyter-widgets/controls",
      "_model_module_version": "1.5.0",
      "_model_name": "HTMLModel",
      "_view_count": null,
      "_view_module": "@jupyter-widgets/controls",
      "_view_module_version": "1.5.0",
      "_view_name": "HTMLView",
      "description": "",
      "description_tooltip": null,
      "layout": "IPY_MODEL_457d042c42df40a59dab51e7b3030ff3",
      "placeholder": "​",
      "style": "IPY_MODEL_0eb580f497a84fe3abb4d5b9dfaf86ad",
      "value": "config.json: 100%"
     }
    },
    "781b4aa4a6724c1a9fbe91bc87cee497": {
     "model_module": "@jupyter-widgets/controls",
     "model_module_version": "1.5.0",
     "model_name": "HTMLModel",
     "state": {
      "_dom_classes": [],
      "_model_module": "@jupyter-widgets/controls",
      "_model_module_version": "1.5.0",
      "_model_name": "HTMLModel",
      "_view_count": null,
      "_view_module": "@jupyter-widgets/controls",
      "_view_module_version": "1.5.0",
      "_view_name": "HTMLView",
      "description": "",
      "description_tooltip": null,
      "layout": "IPY_MODEL_3d9ecdcdca0c4a5c983ab89818ead372",
      "placeholder": "​",
      "style": "IPY_MODEL_d40a939b6715483689ce9b8c841e9ef4",
      "value": "vocab.txt: 100%"
     }
    },
    "79fb04c76bba4331bbd3a296f8d8f482": {
     "model_module": "@jupyter-widgets/base",
     "model_module_version": "1.2.0",
     "model_name": "LayoutModel",
     "state": {
      "_model_module": "@jupyter-widgets/base",
      "_model_module_version": "1.2.0",
      "_model_name": "LayoutModel",
      "_view_count": null,
      "_view_module": "@jupyter-widgets/base",
      "_view_module_version": "1.2.0",
      "_view_name": "LayoutView",
      "align_content": null,
      "align_items": null,
      "align_self": null,
      "border": null,
      "bottom": null,
      "display": null,
      "flex": null,
      "flex_flow": null,
      "grid_area": null,
      "grid_auto_columns": null,
      "grid_auto_flow": null,
      "grid_auto_rows": null,
      "grid_column": null,
      "grid_gap": null,
      "grid_row": null,
      "grid_template_areas": null,
      "grid_template_columns": null,
      "grid_template_rows": null,
      "height": null,
      "justify_content": null,
      "justify_items": null,
      "left": null,
      "margin": null,
      "max_height": null,
      "max_width": null,
      "min_height": null,
      "min_width": null,
      "object_fit": null,
      "object_position": null,
      "order": null,
      "overflow": null,
      "overflow_x": null,
      "overflow_y": null,
      "padding": null,
      "right": null,
      "top": null,
      "visibility": null,
      "width": null
     }
    },
    "7ebfdce5ac0e4adf90f3c3fca9e0f374": {
     "model_module": "@jupyter-widgets/base",
     "model_module_version": "1.2.0",
     "model_name": "LayoutModel",
     "state": {
      "_model_module": "@jupyter-widgets/base",
      "_model_module_version": "1.2.0",
      "_model_name": "LayoutModel",
      "_view_count": null,
      "_view_module": "@jupyter-widgets/base",
      "_view_module_version": "1.2.0",
      "_view_name": "LayoutView",
      "align_content": null,
      "align_items": null,
      "align_self": null,
      "border": null,
      "bottom": null,
      "display": null,
      "flex": null,
      "flex_flow": null,
      "grid_area": null,
      "grid_auto_columns": null,
      "grid_auto_flow": null,
      "grid_auto_rows": null,
      "grid_column": null,
      "grid_gap": null,
      "grid_row": null,
      "grid_template_areas": null,
      "grid_template_columns": null,
      "grid_template_rows": null,
      "height": null,
      "justify_content": null,
      "justify_items": null,
      "left": null,
      "margin": null,
      "max_height": null,
      "max_width": null,
      "min_height": null,
      "min_width": null,
      "object_fit": null,
      "object_position": null,
      "order": null,
      "overflow": null,
      "overflow_x": null,
      "overflow_y": null,
      "padding": null,
      "right": null,
      "top": null,
      "visibility": null,
      "width": null
     }
    },
    "7f9fc37fdb8340c5b70200b1cf7949d2": {
     "model_module": "@jupyter-widgets/controls",
     "model_module_version": "1.5.0",
     "model_name": "ProgressStyleModel",
     "state": {
      "_model_module": "@jupyter-widgets/controls",
      "_model_module_version": "1.5.0",
      "_model_name": "ProgressStyleModel",
      "_view_count": null,
      "_view_module": "@jupyter-widgets/base",
      "_view_module_version": "1.2.0",
      "_view_name": "StyleView",
      "bar_color": null,
      "description_width": ""
     }
    },
    "808869d466a94f97a540e1e96840aa2e": {
     "model_module": "@jupyter-widgets/base",
     "model_module_version": "1.2.0",
     "model_name": "LayoutModel",
     "state": {
      "_model_module": "@jupyter-widgets/base",
      "_model_module_version": "1.2.0",
      "_model_name": "LayoutModel",
      "_view_count": null,
      "_view_module": "@jupyter-widgets/base",
      "_view_module_version": "1.2.0",
      "_view_name": "LayoutView",
      "align_content": null,
      "align_items": null,
      "align_self": null,
      "border": null,
      "bottom": null,
      "display": null,
      "flex": null,
      "flex_flow": null,
      "grid_area": null,
      "grid_auto_columns": null,
      "grid_auto_flow": null,
      "grid_auto_rows": null,
      "grid_column": null,
      "grid_gap": null,
      "grid_row": null,
      "grid_template_areas": null,
      "grid_template_columns": null,
      "grid_template_rows": null,
      "height": null,
      "justify_content": null,
      "justify_items": null,
      "left": null,
      "margin": null,
      "max_height": null,
      "max_width": null,
      "min_height": null,
      "min_width": null,
      "object_fit": null,
      "object_position": null,
      "order": null,
      "overflow": null,
      "overflow_x": null,
      "overflow_y": null,
      "padding": null,
      "right": null,
      "top": null,
      "visibility": null,
      "width": null
     }
    },
    "82f9cedcda1e45d3bf0c42ab89b56c75": {
     "model_module": "@jupyter-widgets/base",
     "model_module_version": "1.2.0",
     "model_name": "LayoutModel",
     "state": {
      "_model_module": "@jupyter-widgets/base",
      "_model_module_version": "1.2.0",
      "_model_name": "LayoutModel",
      "_view_count": null,
      "_view_module": "@jupyter-widgets/base",
      "_view_module_version": "1.2.0",
      "_view_name": "LayoutView",
      "align_content": null,
      "align_items": null,
      "align_self": null,
      "border": null,
      "bottom": null,
      "display": null,
      "flex": null,
      "flex_flow": null,
      "grid_area": null,
      "grid_auto_columns": null,
      "grid_auto_flow": null,
      "grid_auto_rows": null,
      "grid_column": null,
      "grid_gap": null,
      "grid_row": null,
      "grid_template_areas": null,
      "grid_template_columns": null,
      "grid_template_rows": null,
      "height": null,
      "justify_content": null,
      "justify_items": null,
      "left": null,
      "margin": null,
      "max_height": null,
      "max_width": null,
      "min_height": null,
      "min_width": null,
      "object_fit": null,
      "object_position": null,
      "order": null,
      "overflow": null,
      "overflow_x": null,
      "overflow_y": null,
      "padding": null,
      "right": null,
      "top": null,
      "visibility": null,
      "width": null
     }
    },
    "83ba6f6f5118493b9b35f308986118a2": {
     "model_module": "@jupyter-widgets/controls",
     "model_module_version": "1.5.0",
     "model_name": "ProgressStyleModel",
     "state": {
      "_model_module": "@jupyter-widgets/controls",
      "_model_module_version": "1.5.0",
      "_model_name": "ProgressStyleModel",
      "_view_count": null,
      "_view_module": "@jupyter-widgets/base",
      "_view_module_version": "1.2.0",
      "_view_name": "StyleView",
      "bar_color": null,
      "description_width": ""
     }
    },
    "84853da59d854a6b86a207f4c90af2e7": {
     "model_module": "@jupyter-widgets/base",
     "model_module_version": "1.2.0",
     "model_name": "LayoutModel",
     "state": {
      "_model_module": "@jupyter-widgets/base",
      "_model_module_version": "1.2.0",
      "_model_name": "LayoutModel",
      "_view_count": null,
      "_view_module": "@jupyter-widgets/base",
      "_view_module_version": "1.2.0",
      "_view_name": "LayoutView",
      "align_content": null,
      "align_items": null,
      "align_self": null,
      "border": null,
      "bottom": null,
      "display": null,
      "flex": null,
      "flex_flow": null,
      "grid_area": null,
      "grid_auto_columns": null,
      "grid_auto_flow": null,
      "grid_auto_rows": null,
      "grid_column": null,
      "grid_gap": null,
      "grid_row": null,
      "grid_template_areas": null,
      "grid_template_columns": null,
      "grid_template_rows": null,
      "height": null,
      "justify_content": null,
      "justify_items": null,
      "left": null,
      "margin": null,
      "max_height": null,
      "max_width": null,
      "min_height": null,
      "min_width": null,
      "object_fit": null,
      "object_position": null,
      "order": null,
      "overflow": null,
      "overflow_x": null,
      "overflow_y": null,
      "padding": null,
      "right": null,
      "top": null,
      "visibility": null,
      "width": null
     }
    },
    "8aa7752ac5304bc8b00d8be958fcc16b": {
     "model_module": "@jupyter-widgets/base",
     "model_module_version": "1.2.0",
     "model_name": "LayoutModel",
     "state": {
      "_model_module": "@jupyter-widgets/base",
      "_model_module_version": "1.2.0",
      "_model_name": "LayoutModel",
      "_view_count": null,
      "_view_module": "@jupyter-widgets/base",
      "_view_module_version": "1.2.0",
      "_view_name": "LayoutView",
      "align_content": null,
      "align_items": null,
      "align_self": null,
      "border": null,
      "bottom": null,
      "display": null,
      "flex": null,
      "flex_flow": null,
      "grid_area": null,
      "grid_auto_columns": null,
      "grid_auto_flow": null,
      "grid_auto_rows": null,
      "grid_column": null,
      "grid_gap": null,
      "grid_row": null,
      "grid_template_areas": null,
      "grid_template_columns": null,
      "grid_template_rows": null,
      "height": null,
      "justify_content": null,
      "justify_items": null,
      "left": null,
      "margin": null,
      "max_height": null,
      "max_width": null,
      "min_height": null,
      "min_width": null,
      "object_fit": null,
      "object_position": null,
      "order": null,
      "overflow": null,
      "overflow_x": null,
      "overflow_y": null,
      "padding": null,
      "right": null,
      "top": null,
      "visibility": null,
      "width": null
     }
    },
    "98708bd1891a43149c603fbf03590782": {
     "model_module": "@jupyter-widgets/controls",
     "model_module_version": "1.5.0",
     "model_name": "FloatProgressModel",
     "state": {
      "_dom_classes": [],
      "_model_module": "@jupyter-widgets/controls",
      "_model_module_version": "1.5.0",
      "_model_name": "FloatProgressModel",
      "_view_count": null,
      "_view_module": "@jupyter-widgets/controls",
      "_view_module_version": "1.5.0",
      "_view_name": "ProgressView",
      "bar_style": "success",
      "description": "",
      "description_tooltip": null,
      "layout": "IPY_MODEL_808869d466a94f97a540e1e96840aa2e",
      "max": 213450,
      "min": 0,
      "orientation": "horizontal",
      "style": "IPY_MODEL_5d84d60ba411491b98efeece81907c7b",
      "value": 213450
     }
    },
    "9e9d7bc10bb044ad89698617868726cb": {
     "model_module": "@jupyter-widgets/controls",
     "model_module_version": "1.5.0",
     "model_name": "FloatProgressModel",
     "state": {
      "_dom_classes": [],
      "_model_module": "@jupyter-widgets/controls",
      "_model_module_version": "1.5.0",
      "_model_name": "FloatProgressModel",
      "_view_count": null,
      "_view_module": "@jupyter-widgets/controls",
      "_view_module_version": "1.5.0",
      "_view_name": "ProgressView",
      "bar_style": "success",
      "description": "",
      "description_tooltip": null,
      "layout": "IPY_MODEL_82f9cedcda1e45d3bf0c42ab89b56c75",
      "max": 435755810,
      "min": 0,
      "orientation": "horizontal",
      "style": "IPY_MODEL_83ba6f6f5118493b9b35f308986118a2",
      "value": 435755810
     }
    },
    "a0b923f38e104ed29eb70ef4c0d3d877": {
     "model_module": "@jupyter-widgets/controls",
     "model_module_version": "1.5.0",
     "model_name": "FloatProgressModel",
     "state": {
      "_dom_classes": [],
      "_model_module": "@jupyter-widgets/controls",
      "_model_module_version": "1.5.0",
      "_model_name": "FloatProgressModel",
      "_view_count": null,
      "_view_module": "@jupyter-widgets/controls",
      "_view_module_version": "1.5.0",
      "_view_name": "ProgressView",
      "bar_style": "success",
      "description": "",
      "description_tooltip": null,
      "layout": "IPY_MODEL_ad822c6fc32645dcaafcd2310886aeee",
      "max": 435783451,
      "min": 0,
      "orientation": "horizontal",
      "style": "IPY_MODEL_7f9fc37fdb8340c5b70200b1cf7949d2",
      "value": 435783451
     }
    },
    "a5ccd8b9755d4451b5b85487745205ad": {
     "model_module": "@jupyter-widgets/controls",
     "model_module_version": "1.5.0",
     "model_name": "HTMLModel",
     "state": {
      "_dom_classes": [],
      "_model_module": "@jupyter-widgets/controls",
      "_model_module_version": "1.5.0",
      "_model_name": "HTMLModel",
      "_view_count": null,
      "_view_module": "@jupyter-widgets/controls",
      "_view_module_version": "1.5.0",
      "_view_name": "HTMLView",
      "description": "",
      "description_tooltip": null,
      "layout": "IPY_MODEL_418c6310da0b4dedbb0cf87035bb94dd",
      "placeholder": "​",
      "style": "IPY_MODEL_541bb1f42602469cac4682e0c94bd0cc",
      "value": " 1.11k/1.11k [00:00&lt;00:00, 86.3kB/s]"
     }
    },
    "ad822c6fc32645dcaafcd2310886aeee": {
     "model_module": "@jupyter-widgets/base",
     "model_module_version": "1.2.0",
     "model_name": "LayoutModel",
     "state": {
      "_model_module": "@jupyter-widgets/base",
      "_model_module_version": "1.2.0",
      "_model_name": "LayoutModel",
      "_view_count": null,
      "_view_module": "@jupyter-widgets/base",
      "_view_module_version": "1.2.0",
      "_view_name": "LayoutView",
      "align_content": null,
      "align_items": null,
      "align_self": null,
      "border": null,
      "bottom": null,
      "display": null,
      "flex": null,
      "flex_flow": null,
      "grid_area": null,
      "grid_auto_columns": null,
      "grid_auto_flow": null,
      "grid_auto_rows": null,
      "grid_column": null,
      "grid_gap": null,
      "grid_row": null,
      "grid_template_areas": null,
      "grid_template_columns": null,
      "grid_template_rows": null,
      "height": null,
      "justify_content": null,
      "justify_items": null,
      "left": null,
      "margin": null,
      "max_height": null,
      "max_width": null,
      "min_height": null,
      "min_width": null,
      "object_fit": null,
      "object_position": null,
      "order": null,
      "overflow": null,
      "overflow_x": null,
      "overflow_y": null,
      "padding": null,
      "right": null,
      "top": null,
      "visibility": null,
      "width": null
     }
    },
    "ad928bd28d3b473382a6895a70c0540b": {
     "model_module": "@jupyter-widgets/controls",
     "model_module_version": "1.5.0",
     "model_name": "HBoxModel",
     "state": {
      "_dom_classes": [],
      "_model_module": "@jupyter-widgets/controls",
      "_model_module_version": "1.5.0",
      "_model_name": "HBoxModel",
      "_view_count": null,
      "_view_module": "@jupyter-widgets/controls",
      "_view_module_version": "1.5.0",
      "_view_name": "HBoxView",
      "box_style": "",
      "children": [
       "IPY_MODEL_781b4aa4a6724c1a9fbe91bc87cee497",
       "IPY_MODEL_98708bd1891a43149c603fbf03590782",
       "IPY_MODEL_d8e36e197c9f440484b3bae913e09843"
      ],
      "layout": "IPY_MODEL_7ebfdce5ac0e4adf90f3c3fca9e0f374"
     }
    },
    "aeb93ee3377846018eafa68283b25e73": {
     "model_module": "@jupyter-widgets/base",
     "model_module_version": "1.2.0",
     "model_name": "LayoutModel",
     "state": {
      "_model_module": "@jupyter-widgets/base",
      "_model_module_version": "1.2.0",
      "_model_name": "LayoutModel",
      "_view_count": null,
      "_view_module": "@jupyter-widgets/base",
      "_view_module_version": "1.2.0",
      "_view_name": "LayoutView",
      "align_content": null,
      "align_items": null,
      "align_self": null,
      "border": null,
      "bottom": null,
      "display": null,
      "flex": null,
      "flex_flow": null,
      "grid_area": null,
      "grid_auto_columns": null,
      "grid_auto_flow": null,
      "grid_auto_rows": null,
      "grid_column": null,
      "grid_gap": null,
      "grid_row": null,
      "grid_template_areas": null,
      "grid_template_columns": null,
      "grid_template_rows": null,
      "height": null,
      "justify_content": null,
      "justify_items": null,
      "left": null,
      "margin": null,
      "max_height": null,
      "max_width": null,
      "min_height": null,
      "min_width": null,
      "object_fit": null,
      "object_position": null,
      "order": null,
      "overflow": null,
      "overflow_x": null,
      "overflow_y": null,
      "padding": null,
      "right": null,
      "top": null,
      "visibility": null,
      "width": null
     }
    },
    "b8e24d6617f4477088ec428805862c04": {
     "model_module": "@jupyter-widgets/controls",
     "model_module_version": "1.5.0",
     "model_name": "HBoxModel",
     "state": {
      "_dom_classes": [],
      "_model_module": "@jupyter-widgets/controls",
      "_model_module_version": "1.5.0",
      "_model_name": "HBoxModel",
      "_view_count": null,
      "_view_module": "@jupyter-widgets/controls",
      "_view_module_version": "1.5.0",
      "_view_name": "HBoxView",
      "box_style": "",
      "children": [
       "IPY_MODEL_76315145c94a4c97960c99995da8a319",
       "IPY_MODEL_56d0dd4da7c54f86b48017495658907d",
       "IPY_MODEL_a5ccd8b9755d4451b5b85487745205ad"
      ],
      "layout": "IPY_MODEL_19e0be073dda42c0b58c2c2026f72213"
     }
    },
    "d0e05df6764b464ea86bc6d81103a682": {
     "model_module": "@jupyter-widgets/controls",
     "model_module_version": "1.5.0",
     "model_name": "HBoxModel",
     "state": {
      "_dom_classes": [],
      "_model_module": "@jupyter-widgets/controls",
      "_model_module_version": "1.5.0",
      "_model_name": "HBoxModel",
      "_view_count": null,
      "_view_module": "@jupyter-widgets/controls",
      "_view_module_version": "1.5.0",
      "_view_name": "HBoxView",
      "box_style": "",
      "children": [
       "IPY_MODEL_36abb5323a5f4d119576587779654e57",
       "IPY_MODEL_9e9d7bc10bb044ad89698617868726cb",
       "IPY_MODEL_3c92cd8b70d1440ba503c28625b4b5fb"
      ],
      "layout": "IPY_MODEL_5d78e6a6cb3242128aec530444e25a8d"
     }
    },
    "d40a939b6715483689ce9b8c841e9ef4": {
     "model_module": "@jupyter-widgets/controls",
     "model_module_version": "1.5.0",
     "model_name": "DescriptionStyleModel",
     "state": {
      "_model_module": "@jupyter-widgets/controls",
      "_model_module_version": "1.5.0",
      "_model_name": "DescriptionStyleModel",
      "_view_count": null,
      "_view_module": "@jupyter-widgets/base",
      "_view_module_version": "1.2.0",
      "_view_name": "StyleView",
      "description_width": ""
     }
    },
    "d8e36e197c9f440484b3bae913e09843": {
     "model_module": "@jupyter-widgets/controls",
     "model_module_version": "1.5.0",
     "model_name": "HTMLModel",
     "state": {
      "_dom_classes": [],
      "_model_module": "@jupyter-widgets/controls",
      "_model_module_version": "1.5.0",
      "_model_name": "HTMLModel",
      "_view_count": null,
      "_view_module": "@jupyter-widgets/controls",
      "_view_module_version": "1.5.0",
      "_view_name": "HTMLView",
      "description": "",
      "description_tooltip": null,
      "layout": "IPY_MODEL_fce89ff96757477487b4dc24414188b0",
      "placeholder": "​",
      "style": "IPY_MODEL_ffc52bfc385e4ca7bbb4114d0a7bda32",
      "value": " 213k/213k [00:00&lt;00:00, 440kB/s]"
     }
    },
    "e361f2a99488491c863fee40909edd2a": {
     "model_module": "@jupyter-widgets/controls",
     "model_module_version": "1.5.0",
     "model_name": "HBoxModel",
     "state": {
      "_dom_classes": [],
      "_model_module": "@jupyter-widgets/controls",
      "_model_module_version": "1.5.0",
      "_model_name": "HBoxModel",
      "_view_count": null,
      "_view_module": "@jupyter-widgets/controls",
      "_view_module_version": "1.5.0",
      "_view_name": "HBoxView",
      "box_style": "",
      "children": [
       "IPY_MODEL_07df606def7449ae8637d46477828cdb",
       "IPY_MODEL_a0b923f38e104ed29eb70ef4c0d3d877",
       "IPY_MODEL_5389b69d6a774e44beff0910030d426e"
      ],
      "layout": "IPY_MODEL_84853da59d854a6b86a207f4c90af2e7"
     }
    },
    "ea4ea691293c4c6d8591843567340890": {
     "model_module": "@jupyter-widgets/controls",
     "model_module_version": "1.5.0",
     "model_name": "DescriptionStyleModel",
     "state": {
      "_model_module": "@jupyter-widgets/controls",
      "_model_module_version": "1.5.0",
      "_model_name": "DescriptionStyleModel",
      "_view_count": null,
      "_view_module": "@jupyter-widgets/base",
      "_view_module_version": "1.2.0",
      "_view_name": "StyleView",
      "description_width": ""
     }
    },
    "fc3afcee2ea9466fa4f5fbb84554a109": {
     "model_module": "@jupyter-widgets/base",
     "model_module_version": "1.2.0",
     "model_name": "LayoutModel",
     "state": {
      "_model_module": "@jupyter-widgets/base",
      "_model_module_version": "1.2.0",
      "_model_name": "LayoutModel",
      "_view_count": null,
      "_view_module": "@jupyter-widgets/base",
      "_view_module_version": "1.2.0",
      "_view_name": "LayoutView",
      "align_content": null,
      "align_items": null,
      "align_self": null,
      "border": null,
      "bottom": null,
      "display": null,
      "flex": null,
      "flex_flow": null,
      "grid_area": null,
      "grid_auto_columns": null,
      "grid_auto_flow": null,
      "grid_auto_rows": null,
      "grid_column": null,
      "grid_gap": null,
      "grid_row": null,
      "grid_template_areas": null,
      "grid_template_columns": null,
      "grid_template_rows": null,
      "height": null,
      "justify_content": null,
      "justify_items": null,
      "left": null,
      "margin": null,
      "max_height": null,
      "max_width": null,
      "min_height": null,
      "min_width": null,
      "object_fit": null,
      "object_position": null,
      "order": null,
      "overflow": null,
      "overflow_x": null,
      "overflow_y": null,
      "padding": null,
      "right": null,
      "top": null,
      "visibility": null,
      "width": null
     }
    },
    "fce89ff96757477487b4dc24414188b0": {
     "model_module": "@jupyter-widgets/base",
     "model_module_version": "1.2.0",
     "model_name": "LayoutModel",
     "state": {
      "_model_module": "@jupyter-widgets/base",
      "_model_module_version": "1.2.0",
      "_model_name": "LayoutModel",
      "_view_count": null,
      "_view_module": "@jupyter-widgets/base",
      "_view_module_version": "1.2.0",
      "_view_name": "LayoutView",
      "align_content": null,
      "align_items": null,
      "align_self": null,
      "border": null,
      "bottom": null,
      "display": null,
      "flex": null,
      "flex_flow": null,
      "grid_area": null,
      "grid_auto_columns": null,
      "grid_auto_flow": null,
      "grid_auto_rows": null,
      "grid_column": null,
      "grid_gap": null,
      "grid_row": null,
      "grid_template_areas": null,
      "grid_template_columns": null,
      "grid_template_rows": null,
      "height": null,
      "justify_content": null,
      "justify_items": null,
      "left": null,
      "margin": null,
      "max_height": null,
      "max_width": null,
      "min_height": null,
      "min_width": null,
      "object_fit": null,
      "object_position": null,
      "order": null,
      "overflow": null,
      "overflow_x": null,
      "overflow_y": null,
      "padding": null,
      "right": null,
      "top": null,
      "visibility": null,
      "width": null
     }
    },
    "ffc52bfc385e4ca7bbb4114d0a7bda32": {
     "model_module": "@jupyter-widgets/controls",
     "model_module_version": "1.5.0",
     "model_name": "DescriptionStyleModel",
     "state": {
      "_model_module": "@jupyter-widgets/controls",
      "_model_module_version": "1.5.0",
      "_model_name": "DescriptionStyleModel",
      "_view_count": null,
      "_view_module": "@jupyter-widgets/base",
      "_view_module_version": "1.2.0",
      "_view_name": "StyleView",
      "description_width": ""
     }
    }
   }
  }
 },
 "nbformat": 4,
 "nbformat_minor": 0
}
