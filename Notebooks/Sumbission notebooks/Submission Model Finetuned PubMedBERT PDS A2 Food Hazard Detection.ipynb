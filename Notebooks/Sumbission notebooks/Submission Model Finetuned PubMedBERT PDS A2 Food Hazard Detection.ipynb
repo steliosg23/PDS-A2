{
  "nbformat": 4,
  "nbformat_minor": 0,
  "metadata": {
    "colab": {
      "provenance": [],
      "gpuType": "A100",
      "authorship_tag": "ABX9TyPwpqpuFHls+/whWhXAgICp",
      "include_colab_link": true
    },
    "kernelspec": {
      "name": "python3",
      "display_name": "Python 3"
    },
    "language_info": {
      "name": "python"
    },
    "accelerator": "GPU"
  },
  "cells": [
    {
      "cell_type": "markdown",
      "metadata": {
        "id": "view-in-github",
        "colab_type": "text"
      },
      "source": [
        "<a href=\"https://colab.research.google.com/github/steliosg23/PDS-A2/blob/main/SUBMISSION%20Finetuned%20PubMedBERT%20PDS%20A2%20Food%20Hazard%20Detection.ipynb\" target=\"_parent\"><img src=\"https://colab.research.google.com/assets/colab-badge.svg\" alt=\"Open In Colab\"/></a>"
      ]
    },
    {
      "cell_type": "markdown",
      "source": [
        "# Install necessary packages and import libraries\n",
        "This section includes all the necessary imports for data manipulation, model training, and evaluation.\n",
        "It also imports libraries for handling tokenization, model configuration, and metrics.\n"
      ],
      "metadata": {
        "id": "Up2bFjloyvaZ"
      }
    },
    {
      "cell_type": "code",
      "source": [
        "from google.colab import drive\n",
        "import pandas as pd\n",
        "import torch\n",
        "import re\n",
        "from sklearn.model_selection import train_test_split\n",
        "from sklearn.metrics import f1_score, classification_report\n",
        "from transformers import AutoTokenizer, AutoModelForSequenceClassification\n",
        "from torch.utils.data import DataLoader, Dataset\n",
        "import torch.nn as nn\n",
        "import torch.optim as optim\n",
        "from sklearn.preprocessing import LabelEncoder\n",
        "from tqdm import tqdm\n",
        "import os\n",
        "from shutil import make_archive\n",
        "import numpy as np\n"
      ],
      "metadata": {
        "id": "ySpgDtU5ywQM"
      },
      "execution_count": 1,
      "outputs": []
    },
    {
      "cell_type": "markdown",
      "source": [
        "# Mount Google Drive\n"
      ],
      "metadata": {
        "id": "MIYvD2xxyzL8"
      }
    },
    {
      "cell_type": "code",
      "source": [
        "drive.mount('/content/drive')\n"
      ],
      "metadata": {
        "colab": {
          "base_uri": "https://localhost:8080/"
        },
        "id": "YiM_6Z68yxJ6",
        "outputId": "939a86ee-1291-4eee-dffe-1dd65d83c9bf"
      },
      "execution_count": 2,
      "outputs": [
        {
          "output_type": "stream",
          "name": "stdout",
          "text": [
            "Drive already mounted at /content/drive; to attempt to forcibly remount, call drive.mount(\"/content/drive\", force_remount=True).\n"
          ]
        }
      ]
    },
    {
      "cell_type": "markdown",
      "source": [
        "# Load and preview the training dataset\n",
        "The dataset containing incident reports is loaded from Google Drive.\n",
        "We remove any unnecessary columns like 'Unnamed: 0'.\n"
      ],
      "metadata": {
        "id": "g2q92Do-y2W9"
      }
    },
    {
      "cell_type": "code",
      "source": [
        "train_path = '/content/drive/MyDrive/Data/incidents_train.csv'\n",
        "df = pd.read_csv(train_path)\n",
        "df = df.drop(columns=['Unnamed: 0'])\n"
      ],
      "metadata": {
        "id": "ncSsiInty1G9"
      },
      "execution_count": 3,
      "outputs": []
    },
    {
      "cell_type": "markdown",
      "source": [
        "# Define a function to clean text data\n",
        "This function removes special characters, converts text to lowercase, and strips extra whitespace.\n",
        "It is essential to clean the text data for better model performance.\n"
      ],
      "metadata": {
        "id": "KDS28Uk-zNPU"
      }
    },
    {
      "cell_type": "code",
      "source": [
        "import re\n",
        "\n",
        "def clean_text(text):\n",
        "    text = re.sub(r'[^a-zA-Z0-9\\s]', '', text)  # Remove non-alphanumeric characters\n",
        "    text = text.lower()  # Convert text to lowercase\n",
        "    text = ' '.join(text.split())  # Remove extra spaces\n",
        "    return text\n"
      ],
      "metadata": {
        "id": "DxuoSFEUy3rX"
      },
      "execution_count": 4,
      "outputs": []
    },
    {
      "cell_type": "markdown",
      "source": [
        "# Clean the text data and load the tokenizer\n",
        "We apply the `clean_text` function to clean the 'text' column of the dataset.\n",
        "Then, we initialize the PubMedBERT tokenizer to prepare for tokenization.\n"
      ],
      "metadata": {
        "id": "jBAtfWSgzROT"
      }
    },
    {
      "cell_type": "code",
      "source": [
        "# Load the tokenizer for the PubMedBERT model, specifically fine-tuned for biomedical text\n",
        "tokenizer = AutoTokenizer.from_pretrained(\"microsoft/BiomedNLP-PubMedBERT-base-uncased-abstract\")\n",
        "\n",
        "# Apply the text cleaning function to the 'text' column in the DataFrame\n",
        "# This function will preprocess each text entry by removing unwanted characters, stopwords, etc.\n",
        "df['text'] = df['text'].apply(clean_text)\n"
      ],
      "metadata": {
        "colab": {
          "base_uri": "https://localhost:8080/"
        },
        "id": "E0Gy9-3ezQVb",
        "outputId": "4b701e84-e166-4c88-a0c9-559ab294344f"
      },
      "execution_count": 5,
      "outputs": [
        {
          "output_type": "stream",
          "name": "stderr",
          "text": [
            "/usr/local/lib/python3.10/dist-packages/huggingface_hub/utils/_auth.py:94: UserWarning: \n",
            "The secret `HF_TOKEN` does not exist in your Colab secrets.\n",
            "To authenticate with the Hugging Face Hub, create a token in your settings tab (https://huggingface.co/settings/tokens), set it as secret in your Google Colab and restart your session.\n",
            "You will be able to reuse this secret in all of your notebooks.\n",
            "Please note that authentication is recommended but still optional to access public models or datasets.\n",
            "  warnings.warn(\n"
          ]
        }
      ]
    },
    {
      "cell_type": "markdown",
      "source": [
        "# Define features and targets for classification tasks\n",
        "We specify the input features like date and country and set the classification targets.\n",
        "\n"
      ],
      "metadata": {
        "id": "p6hPAUKozWMw"
      }
    },
    {
      "cell_type": "code",
      "source": [
        "# Define the features for the model, which include the year, month, day, and country information\n",
        "features = ['year', 'month', 'day', 'country']\n",
        "\n",
        "# Define the target variables for Subtask 1, which are the hazard-category and product-category\n",
        "targets_subtask1 = ['hazard-category', 'product-category']\n",
        "\n",
        "# Define the target variables for Subtask 2, which are hazard and product\n",
        "# Add other targets if necessary depending on the task\n",
        "targets_subtask2 = ['hazard', 'product']\n"
      ],
      "metadata": {
        "id": "kvkxIfuvzU3Z"
      },
      "execution_count": 6,
      "outputs": []
    },
    {
      "cell_type": "markdown",
      "source": [
        "# Encode target labels\n",
        "For classification, target labels need to be encoded as numeric values.\n",
        "We use `LabelEncoder` to convert categorical labels into integers.\n"
      ],
      "metadata": {
        "id": "-hn5LTh_zjI2"
      }
    },
    {
      "cell_type": "code",
      "source": [
        "# Create an empty dictionary to store label encoders for each target\n",
        "label_encoders = {}\n",
        "\n",
        "# Iterate over both sets of targets (Subtask 1 and Subtask 2)\n",
        "for target in targets_subtask1 + targets_subtask2:\n",
        "    # Initialize a LabelEncoder for each target\n",
        "    le = LabelEncoder()\n",
        "\n",
        "    # Transform the target column values into numeric labels and update the DataFrame\n",
        "    df[target] = le.fit_transform(df[target])\n",
        "\n",
        "    # Store the fitted LabelEncoder in the dictionary for future use (e.g., inverse transformation)\n",
        "    label_encoders[target] = le\n"
      ],
      "metadata": {
        "id": "8Wd6N94wziDV"
      },
      "execution_count": 7,
      "outputs": []
    },
    {
      "cell_type": "markdown",
      "source": [
        "# Define a custom PyTorch dataset for text classification\n",
        "This dataset class will handle text tokenization and label processing.\n",
        "It ensures the text is properly encoded, padded, and truncated to a fixed length for the model.\n"
      ],
      "metadata": {
        "id": "kdnDHxmlzpCm"
      }
    },
    {
      "cell_type": "code",
      "source": [
        "# Define a custom Dataset class for text data\n",
        "class TextDataset(Dataset):\n",
        "    # Initialize the dataset with texts, labels, tokenizer, and maximum sequence length\n",
        "    def __init__(self, texts, labels, tokenizer, max_len):\n",
        "        self.texts = texts  # List of input texts\n",
        "        self.labels = labels  # List of corresponding labels\n",
        "        self.tokenizer = tokenizer  # Tokenizer for encoding the text\n",
        "        self.max_len = max_len  # Maximum length for padding/truncation\n",
        "\n",
        "    # Define the length of the dataset (number of samples)\n",
        "    def __len__(self):\n",
        "        return len(self.texts)\n",
        "\n",
        "    # Define how to retrieve a single item from the dataset\n",
        "    def __getitem__(self, item):\n",
        "        text = str(self.texts[item])  # Get the text for the given index\n",
        "        label = self.labels[item]  # Get the label for the given index\n",
        "\n",
        "        # Use the tokenizer to encode the text (add special tokens, padding, truncation)\n",
        "        encoding = self.tokenizer.encode_plus(\n",
        "            text,\n",
        "            add_special_tokens=True,  # Add special tokens (e.g., [CLS], [SEP])\n",
        "            max_length=self.max_len,  # Limit the sequence length\n",
        "            padding='max_length',  # Pad sequences to max_length\n",
        "            truncation=True,  # Truncate longer sequences\n",
        "            return_tensors='pt'  # Return PyTorch tensors\n",
        "        )\n",
        "\n",
        "        # Return a dictionary with input_ids, attention_mask, and label\n",
        "        return {\n",
        "            'input_ids': encoding['input_ids'].flatten(),  # Flatten the tensor\n",
        "            'attention_mask': encoding['attention_mask'].flatten(),  # Flatten the attention mask\n",
        "            'label': torch.tensor(label, dtype=torch.long)  # Convert label to a tensor\n",
        "        }\n"
      ],
      "metadata": {
        "id": "wkzzsS2Gzk9L"
      },
      "execution_count": 8,
      "outputs": []
    },
    {
      "cell_type": "markdown",
      "source": [
        "# Split the data into training and testing sets\n",
        "We split the dataset into training and testing sets for each target.\n",
        "This ensures that the model is trained on one set and evaluated on a separate, unseen set.\n"
      ],
      "metadata": {
        "id": "SbkXM6pdzsmb"
      }
    },
    {
      "cell_type": "code",
      "source": [
        "# Define a function to prepare data for model training and testing\n",
        "def prepare_data(text_column):\n",
        "    # Extract features and text column from the DataFrame\n",
        "    X = df[features + [text_column]]  # Features include specified columns plus the text column\n",
        "    # Extract target variables for Subtask 1 and Subtask 2\n",
        "    y_subtask1 = df[targets_subtask1]\n",
        "    y_subtask2 = df[targets_subtask2]\n",
        "\n",
        "    # Initialize a dictionary to store data splits for each target\n",
        "    data_splits = {}\n",
        "\n",
        "    # Iterate over both sets of target variables (Subtask 1 and Subtask 2)\n",
        "    for target in targets_subtask1 + targets_subtask2:\n",
        "        # Split the data into training and testing sets (80% train, 20% test)\n",
        "        X_train, X_test, y_train, y_test = train_test_split(\n",
        "            X, df[target], test_size=0.2, random_state=42\n",
        "        )\n",
        "\n",
        "        # Reset the indices for the train and test sets (important for maintaining order after split)\n",
        "        X_train = X_train.reset_index(drop=True)\n",
        "        y_train = y_train.reset_index(drop=True)\n",
        "        X_test = X_test.reset_index(drop=True)\n",
        "        y_test = y_test.reset_index(drop=True)\n",
        "\n",
        "        # Store the splits for the current target in the dictionary\n",
        "        data_splits[target] = (X_train, X_test, y_train, y_test)\n",
        "\n",
        "    # Return the dictionary containing data splits for each target\n",
        "    return data_splits\n"
      ],
      "metadata": {
        "id": "dSuyInwzzrYc"
      },
      "execution_count": 9,
      "outputs": []
    },
    {
      "cell_type": "markdown",
      "source": [
        "# Prepare the data splits for text-based tasks\n",
        "We apply the `prepare_data` function specifically for text tasks and save the splits for later use.\n"
      ],
      "metadata": {
        "id": "gFhciBb6zvnJ"
      }
    },
    {
      "cell_type": "code",
      "source": [
        "# Prepare the data splits for the 'text' column using the prepare_data function\n",
        "text_splits = prepare_data('text')\n"
      ],
      "metadata": {
        "id": "Y7o-Gi7vzuZR"
      },
      "execution_count": 10,
      "outputs": []
    },
    {
      "cell_type": "markdown",
      "source": [
        "# Set model configuration and define the device\n",
        "Here, we configure key parameters for training like maximum sequence length, batch size, and learning rate.\n",
        "We also determine whether to use GPU or CPU for training based on availability.\n"
      ],
      "metadata": {
        "id": "hEJgXRNIzybH"
      }
    },
    {
      "cell_type": "code",
      "source": [
        "# Define configuration settings for the model training\n",
        "config = {\n",
        "    'max_len': 512,  # Maximum sequence length for input texts\n",
        "    'batch_size': 16,  # Batch size for training\n",
        "    'learning_rate': 2e-5,  # Learning rate for the optimizer\n",
        "    'epochs': 5,  # Number of training epochs\n",
        "    'model_name': \"microsoft/BiomedNLP-PubMedBERT-base-uncased-abstract\"  # Pre-trained model to use\n",
        "}\n",
        "\n",
        "# Determine the device to use for training (GPU if available, otherwise CPU)\n",
        "device = torch.device('cuda' if torch.cuda.is_available() else 'cpu')\n",
        "print(f\"Using device: {device}\")\n"
      ],
      "metadata": {
        "colab": {
          "base_uri": "https://localhost:8080/"
        },
        "id": "4TetF1XIzxU8",
        "outputId": "49a149a7-f1ea-4e30-f9da-f4cf94374d59"
      },
      "execution_count": 11,
      "outputs": [
        {
          "output_type": "stream",
          "name": "stdout",
          "text": [
            "Using device: cuda\n"
          ]
        }
      ]
    },
    {
      "cell_type": "markdown",
      "source": [
        "# Train and evaluate the model for each task\n",
        "This function performs model training and evaluation for each target.\n",
        "It uses a neural network to predict labels and calculates the F1 score for evaluation.\n"
      ],
      "metadata": {
        "id": "u22f8LM6z26I"
      }
    },
    {
      "cell_type": "code",
      "source": [
        "# Train and evaluate the neural network for each target task\n",
        "def train_and_evaluate_bert(data_splits, targets):\n",
        "    # Initialize an empty list to store F1 scores for each target task\n",
        "    f1_scores = []\n",
        "\n",
        "    # Loop through each target (task) for training and evaluation\n",
        "    for target in targets:\n",
        "        print(f\"\\nStarting training for task: {target}\")\n",
        "\n",
        "        # Retrieve the corresponding training and testing splits\n",
        "        X_train, X_test, y_train, y_test = data_splits[target]\n",
        "\n",
        "        # Extract the 'text' column for training and testing\n",
        "        texts_train = X_train['text'].values\n",
        "        texts_test = X_test['text'].values\n",
        "\n",
        "        # Create datasets for training and testing\n",
        "        train_dataset = TextDataset(texts_train, y_train, tokenizer, config['max_len'])\n",
        "        test_dataset = TextDataset(texts_test, y_test, tokenizer, config['max_len'])\n",
        "\n",
        "        # Create data loaders for batching during training and testing\n",
        "        train_loader = DataLoader(train_dataset, batch_size=config['batch_size'], shuffle=True)\n",
        "        test_loader = DataLoader(test_dataset, batch_size=config['batch_size'], shuffle=False)\n",
        "\n",
        "        # Determine the number of labels for classification\n",
        "        num_labels = len(label_encoders[target].classes_)\n",
        "\n",
        "        # Load the pre-trained model with the appropriate number of labels for classification\n",
        "        model = AutoModelForSequenceClassification.from_pretrained(config['model_name'], num_labels=num_labels).to(device)\n",
        "\n",
        "        # Initialize the optimizer and loss function\n",
        "        optimizer = optim.Adam(model.parameters(), lr=config['learning_rate'])\n",
        "        criterion = nn.CrossEntropyLoss()\n",
        "\n",
        "        # Training loop\n",
        "        model.train()\n",
        "        for epoch in range(config['epochs']):\n",
        "            print(f\"Epoch {epoch+1}/{config['epochs']} - Training: {target}\")\n",
        "            progress_bar = tqdm(train_loader, desc=f\"Training Epoch {epoch+1}\", total=len(train_loader), leave=True)\n",
        "            for batch in progress_bar:\n",
        "                optimizer.zero_grad()\n",
        "\n",
        "                # Get the input data and labels for the current batch\n",
        "                input_ids = batch['input_ids'].squeeze(1).to(device)\n",
        "                attention_mask = batch['attention_mask'].squeeze(1).to(device)\n",
        "                labels = batch['label'].to(device)\n",
        "\n",
        "                # Forward pass\n",
        "                outputs = model(input_ids, attention_mask=attention_mask)\n",
        "                loss = criterion(outputs.logits, labels)\n",
        "\n",
        "                # Backward pass and optimization step\n",
        "                loss.backward()\n",
        "                optimizer.step()\n",
        "\n",
        "                # Update the progress bar with the current loss\n",
        "                progress_bar.set_postfix(loss=loss.item())\n",
        "\n",
        "        # Evaluate the model after training\n",
        "        print(f\"Evaluating model for task: {target}\")\n",
        "        model.eval()\n",
        "        y_preds = []\n",
        "        y_true = []\n",
        "\n",
        "        # Evaluate without computing gradients\n",
        "        with torch.no_grad():\n",
        "            for batch in tqdm(test_loader, desc=\"Evaluating\", total=len(test_loader), leave=True):\n",
        "                input_ids = batch['input_ids'].squeeze(1).to(device)\n",
        "                attention_mask = batch['attention_mask'].squeeze(1).to(device)\n",
        "                labels = batch['label'].to(device)\n",
        "\n",
        "                # Forward pass\n",
        "                outputs = model(input_ids, attention_mask=attention_mask)\n",
        "\n",
        "                # Get predictions and append them to the list\n",
        "                _, preds = torch.max(outputs.logits, dim=1)\n",
        "                y_preds.extend(preds.cpu().numpy())\n",
        "                y_true.extend(labels.cpu().numpy())\n",
        "\n",
        "        # Decode the predictions and true labels\n",
        "        decoded_preds = label_encoders[target].inverse_transform(y_preds)\n",
        "        decoded_true = label_encoders[target].inverse_transform(y_true)\n",
        "\n",
        "        # Calculate the weighted F1 score\n",
        "        f1 = f1_score(decoded_true, decoded_preds, average='weighted')\n",
        "        f1_scores.append(f1)\n",
        "        print(f\"F1-Score for {target}: {f1}\")\n",
        "\n",
        "        # Print the classification report\n",
        "        print(f\"Classification Report for {target}:\\n\")\n",
        "        print(classification_report(decoded_true, decoded_preds, zero_division=0))\n",
        "\n",
        "        # Save the model and tokenizer for future use\n",
        "        os.makedirs(f'./model_{target}', exist_ok=True)\n",
        "        model.save_pretrained(f'./model_{target}')\n",
        "        tokenizer.save_pretrained(f'./model_{target}')\n",
        "\n",
        "        # Save the label encoder for the current target\n",
        "        np.save(f'./model_{target}/{target}_label_encoder.npy', label_encoders[target].classes_)\n",
        "        print(f\"Model and LabelEncoder for {target} saved in './model_{target}'\")\n",
        "\n",
        "    # Return the F1 scores for each target task\n",
        "    return f1_scores\n",
        "\n",
        "# Train and evaluate for all targets (subtasks 1 and 2)\n",
        "text_f1_scores = train_and_evaluate_bert(text_splits, targets_subtask1 + targets_subtask2)\n"
      ],
      "metadata": {
        "colab": {
          "base_uri": "https://localhost:8080/"
        },
        "id": "imN-jiGRz1xV",
        "outputId": "a1582188-dc7f-422f-dbad-fb04fdc36267"
      },
      "execution_count": 12,
      "outputs": [
        {
          "output_type": "stream",
          "name": "stdout",
          "text": [
            "\n",
            "Starting training for task: hazard-category\n"
          ]
        },
        {
          "output_type": "stream",
          "name": "stderr",
          "text": [
            "Some weights of BertForSequenceClassification were not initialized from the model checkpoint at microsoft/BiomedNLP-PubMedBERT-base-uncased-abstract and are newly initialized: ['classifier.bias', 'classifier.weight']\n",
            "You should probably TRAIN this model on a down-stream task to be able to use it for predictions and inference.\n"
          ]
        },
        {
          "output_type": "stream",
          "name": "stdout",
          "text": [
            "Epoch 1/5 - Training: hazard-category\n"
          ]
        },
        {
          "output_type": "stream",
          "name": "stderr",
          "text": [
            "Training Epoch 1: 100%|██████████| 255/255 [01:26<00:00,  2.96it/s, loss=0.0447]\n"
          ]
        },
        {
          "output_type": "stream",
          "name": "stdout",
          "text": [
            "Epoch 2/5 - Training: hazard-category\n"
          ]
        },
        {
          "output_type": "stream",
          "name": "stderr",
          "text": [
            "Training Epoch 2: 100%|██████████| 255/255 [01:25<00:00,  3.00it/s, loss=0.0163]\n"
          ]
        },
        {
          "output_type": "stream",
          "name": "stdout",
          "text": [
            "Epoch 3/5 - Training: hazard-category\n"
          ]
        },
        {
          "output_type": "stream",
          "name": "stderr",
          "text": [
            "Training Epoch 3: 100%|██████████| 255/255 [01:25<00:00,  2.99it/s, loss=0.0174]\n"
          ]
        },
        {
          "output_type": "stream",
          "name": "stdout",
          "text": [
            "Epoch 4/5 - Training: hazard-category\n"
          ]
        },
        {
          "output_type": "stream",
          "name": "stderr",
          "text": [
            "Training Epoch 4: 100%|██████████| 255/255 [01:25<00:00,  2.99it/s, loss=0.00763]\n"
          ]
        },
        {
          "output_type": "stream",
          "name": "stdout",
          "text": [
            "Epoch 5/5 - Training: hazard-category\n"
          ]
        },
        {
          "output_type": "stream",
          "name": "stderr",
          "text": [
            "Training Epoch 5: 100%|██████████| 255/255 [01:25<00:00,  3.00it/s, loss=0.00675]\n"
          ]
        },
        {
          "output_type": "stream",
          "name": "stdout",
          "text": [
            "Evaluating model for task: hazard-category\n"
          ]
        },
        {
          "output_type": "stream",
          "name": "stderr",
          "text": [
            "Evaluating: 100%|██████████| 64/64 [00:08<00:00,  7.96it/s]\n"
          ]
        },
        {
          "output_type": "stream",
          "name": "stdout",
          "text": [
            "F1-Score for hazard-category: 0.9403554393464585\n",
            "Classification Report for hazard-category:\n",
            "\n",
            "                                precision    recall  f1-score   support\n",
            "\n",
            "                     allergens       0.94      0.99      0.97       377\n",
            "                    biological       0.99      0.99      0.99       339\n",
            "                      chemical       0.89      0.97      0.93        68\n",
            "food additives and flavourings       0.50      0.20      0.29         5\n",
            "                foreign bodies       0.96      0.99      0.97       111\n",
            "                         fraud       0.91      0.62      0.74        68\n",
            "                     migration       0.00      0.00      0.00         1\n",
            "          organoleptic aspects       0.75      0.60      0.67        10\n",
            "                  other hazard       0.72      0.78      0.75        27\n",
            "              packaging defect       1.00      0.55      0.71        11\n",
            "\n",
            "                      accuracy                           0.94      1017\n",
            "                     macro avg       0.77      0.67      0.70      1017\n",
            "                  weighted avg       0.94      0.94      0.94      1017\n",
            "\n",
            "Model and LabelEncoder for hazard-category saved in './model_hazard-category'\n",
            "\n",
            "Starting training for task: product-category\n"
          ]
        },
        {
          "output_type": "stream",
          "name": "stderr",
          "text": [
            "Some weights of BertForSequenceClassification were not initialized from the model checkpoint at microsoft/BiomedNLP-PubMedBERT-base-uncased-abstract and are newly initialized: ['classifier.bias', 'classifier.weight']\n",
            "You should probably TRAIN this model on a down-stream task to be able to use it for predictions and inference.\n"
          ]
        },
        {
          "output_type": "stream",
          "name": "stdout",
          "text": [
            "Epoch 1/5 - Training: product-category\n"
          ]
        },
        {
          "output_type": "stream",
          "name": "stderr",
          "text": [
            "Training Epoch 1: 100%|██████████| 255/255 [01:25<00:00,  2.99it/s, loss=1.77]\n"
          ]
        },
        {
          "output_type": "stream",
          "name": "stdout",
          "text": [
            "Epoch 2/5 - Training: product-category\n"
          ]
        },
        {
          "output_type": "stream",
          "name": "stderr",
          "text": [
            "Training Epoch 2: 100%|██████████| 255/255 [01:25<00:00,  2.99it/s, loss=2.98]\n"
          ]
        },
        {
          "output_type": "stream",
          "name": "stdout",
          "text": [
            "Epoch 3/5 - Training: product-category\n"
          ]
        },
        {
          "output_type": "stream",
          "name": "stderr",
          "text": [
            "Training Epoch 3: 100%|██████████| 255/255 [01:25<00:00,  2.99it/s, loss=0.43]\n"
          ]
        },
        {
          "output_type": "stream",
          "name": "stdout",
          "text": [
            "Epoch 4/5 - Training: product-category\n"
          ]
        },
        {
          "output_type": "stream",
          "name": "stderr",
          "text": [
            "Training Epoch 4: 100%|██████████| 255/255 [01:25<00:00,  2.99it/s, loss=0.037]\n"
          ]
        },
        {
          "output_type": "stream",
          "name": "stdout",
          "text": [
            "Epoch 5/5 - Training: product-category\n"
          ]
        },
        {
          "output_type": "stream",
          "name": "stderr",
          "text": [
            "Training Epoch 5: 100%|██████████| 255/255 [01:25<00:00,  2.99it/s, loss=0.35]\n"
          ]
        },
        {
          "output_type": "stream",
          "name": "stdout",
          "text": [
            "Evaluating model for task: product-category\n"
          ]
        },
        {
          "output_type": "stream",
          "name": "stderr",
          "text": [
            "Evaluating: 100%|██████████| 64/64 [00:08<00:00,  7.89it/s]\n"
          ]
        },
        {
          "output_type": "stream",
          "name": "stdout",
          "text": [
            "F1-Score for product-category: 0.7645394969222248\n",
            "Classification Report for product-category:\n",
            "\n",
            "                                                   precision    recall  f1-score   support\n",
            "\n",
            "                              alcoholic beverages       0.71      0.71      0.71         7\n",
            "                      cereals and bakery products       0.71      0.79      0.75       123\n",
            "     cocoa and cocoa preparations, coffee and tea       0.67      0.86      0.75        49\n",
            "                                    confectionery       0.64      0.57      0.61        40\n",
            "dietetic foods, food supplements, fortified foods       0.68      0.79      0.73        24\n",
            "                                    fats and oils       1.00      0.50      0.67         4\n",
            "                                   feed materials       0.00      0.00      0.00         3\n",
            "                           food contact materials       0.00      0.00      0.00         1\n",
            "                            fruits and vegetables       0.74      0.79      0.76       112\n",
            "                                 herbs and spices       0.75      0.56      0.64        16\n",
            "                            honey and royal jelly       0.00      0.00      0.00         1\n",
            "                                ices and desserts       0.94      0.86      0.90        56\n",
            "                     meat, egg and dairy products       0.88      0.92      0.90       282\n",
            "                          non-alcoholic beverages       0.89      0.77      0.83        31\n",
            "                     nuts, nut products and seeds       0.84      0.83      0.83        63\n",
            "                       other food product / mixed       1.00      0.22      0.36         9\n",
            "                                         pet feed       1.00      1.00      1.00         6\n",
            "                       prepared dishes and snacks       0.46      0.37      0.41        90\n",
            "                                          seafood       0.93      0.73      0.82        56\n",
            "             soups, broths, sauces and condiments       0.62      0.74      0.67        43\n",
            "                                sugars and syrups       1.00      1.00      1.00         1\n",
            "\n",
            "                                         accuracy                           0.77      1017\n",
            "                                        macro avg       0.69      0.62      0.64      1017\n",
            "                                     weighted avg       0.77      0.77      0.76      1017\n",
            "\n",
            "Model and LabelEncoder for product-category saved in './model_product-category'\n",
            "\n",
            "Starting training for task: hazard\n"
          ]
        },
        {
          "output_type": "stream",
          "name": "stderr",
          "text": [
            "Some weights of BertForSequenceClassification were not initialized from the model checkpoint at microsoft/BiomedNLP-PubMedBERT-base-uncased-abstract and are newly initialized: ['classifier.bias', 'classifier.weight']\n",
            "You should probably TRAIN this model on a down-stream task to be able to use it for predictions and inference.\n"
          ]
        },
        {
          "output_type": "stream",
          "name": "stdout",
          "text": [
            "Epoch 1/5 - Training: hazard\n"
          ]
        },
        {
          "output_type": "stream",
          "name": "stderr",
          "text": [
            "Training Epoch 1: 100%|██████████| 255/255 [01:25<00:00,  2.99it/s, loss=0.357]\n"
          ]
        },
        {
          "output_type": "stream",
          "name": "stdout",
          "text": [
            "Epoch 2/5 - Training: hazard\n"
          ]
        },
        {
          "output_type": "stream",
          "name": "stderr",
          "text": [
            "Training Epoch 2: 100%|██████████| 255/255 [01:25<00:00,  2.99it/s, loss=0.0411]\n"
          ]
        },
        {
          "output_type": "stream",
          "name": "stdout",
          "text": [
            "Epoch 3/5 - Training: hazard\n"
          ]
        },
        {
          "output_type": "stream",
          "name": "stderr",
          "text": [
            "Training Epoch 3: 100%|██████████| 255/255 [01:25<00:00,  2.99it/s, loss=0.29]\n"
          ]
        },
        {
          "output_type": "stream",
          "name": "stdout",
          "text": [
            "Epoch 4/5 - Training: hazard\n"
          ]
        },
        {
          "output_type": "stream",
          "name": "stderr",
          "text": [
            "Training Epoch 4: 100%|██████████| 255/255 [01:25<00:00,  2.99it/s, loss=0.0186]\n"
          ]
        },
        {
          "output_type": "stream",
          "name": "stdout",
          "text": [
            "Epoch 5/5 - Training: hazard\n"
          ]
        },
        {
          "output_type": "stream",
          "name": "stderr",
          "text": [
            "Training Epoch 5: 100%|██████████| 255/255 [01:25<00:00,  2.99it/s, loss=0.0187]\n"
          ]
        },
        {
          "output_type": "stream",
          "name": "stdout",
          "text": [
            "Evaluating model for task: hazard\n"
          ]
        },
        {
          "output_type": "stream",
          "name": "stderr",
          "text": [
            "Evaluating: 100%|██████████| 64/64 [00:08<00:00,  7.94it/s]\n"
          ]
        },
        {
          "output_type": "stream",
          "name": "stdout",
          "text": [
            "F1-Score for hazard: 0.8194393623685172\n",
            "Classification Report for hazard:\n",
            "\n",
            "                                                   precision    recall  f1-score   support\n",
            "\n",
            "                                        Aflatoxin       1.00      1.00      1.00         4\n",
            "                                  alcohol content       0.00      0.00      0.00         1\n",
            "                                        alkaloids       0.00      0.00      0.00         2\n",
            "                                        allergens       0.00      0.00      0.00         4\n",
            "                                           almond       0.88      1.00      0.93        14\n",
            "             altered organoleptic characteristics       0.00      0.00      0.00         2\n",
            "                                        amygdalin       0.00      0.00      0.00         2\n",
            "                           antibiotics, vet drugs       0.00      0.00      0.00         1\n",
            "                                    bacillus spp.       1.00      1.00      1.00         1\n",
            "                             bad smell / off odor       0.00      0.00      0.00         1\n",
            "                                    bone fragment       1.00      1.00      1.00         1\n",
            "                                       brazil nut       0.00      0.00      0.00         1\n",
            "                                bulging packaging       1.00      0.25      0.40         4\n",
            "                                           cashew       0.88      0.88      0.88         8\n",
            "                      celery and products thereof       0.00      0.00      0.00         3\n",
            "                                          cereals       0.00      0.00      0.00         1\n",
            "   cereals containing gluten and products thereof       0.83      0.91      0.87        43\n",
            "                                         chemical       0.00      0.00      0.00         2\n",
            "                 chemical compound (high content)       0.00      0.00      0.00         3\n",
            "                 chemical compound (unauthorised)       1.00      0.67      0.80         3\n",
            "                            clostridium botulinum       0.57      1.00      0.73         4\n",
            "                                          coconut       0.00      0.00      0.00         1\n",
            "                                        coliforms       1.00      1.00      1.00         1\n",
            "                          compositional deviation       0.00      0.00      0.00         1\n",
            "                                  cronobacter spp       1.00      1.00      1.00         2\n",
            "                 crustaceans and products thereof       1.00      1.00      1.00         3\n",
            "                                       cyclospora       1.00      1.00      1.00         1\n",
            "                                   dairy products       0.00      0.00      0.00         1\n",
            "                                          dioxins       1.00      1.00      1.00         1\n",
            "                      e 425 - konjac unauthorised       1.00      0.50      0.67         2\n",
            "                        eggs and products thereof       0.90      0.83      0.86        42\n",
            "                                    enteroviruses       1.00      1.00      1.00         1\n",
            "                                 escherichia coli       1.00      0.98      0.99        47\n",
            "                        fish and products thereof       0.89      1.00      0.94         8\n",
            "                                   foreign bodies       0.18      0.67      0.29         3\n",
            "                                   glass fragment       1.00      0.95      0.98        21\n",
            "                                         hazelnut       1.00      1.00      1.00         3\n",
            "                                     heavy metals       0.54      1.00      0.70         7\n",
            "                           high content of copper       0.00      0.00      0.00         1\n",
            "                          high content of cyanide       0.25      1.00      0.40         1\n",
            "                         high content of vitamins       1.00      1.00      1.00         1\n",
            "                              improper conditions       0.00      0.00      0.00         3\n",
            "                               improper packaging       0.00      0.00      0.00         2\n",
            "                               incorrect labeling       0.25      0.25      0.25         4\n",
            "                           incorrect use by dates       0.88      1.00      0.93         7\n",
            "                                          insects       1.00      1.00      1.00         2\n",
            "                                inspection issues       0.84      1.00      0.91        16\n",
            "             insufficient labelling/documentation       0.00      0.00      0.00         1\n",
            "                         labelling/misdescription       0.83      0.50      0.62        10\n",
            "                           listeria monocytogenes       0.95      1.00      0.97       139\n",
            "                                     listeria spp       0.00      0.00      0.00         2\n",
            "                                   metal fragment       0.94      0.86      0.90        36\n",
            "                    microbiological contamination       0.33      0.50      0.40         2\n",
            "                        milk and products thereof       0.93      0.94      0.93       108\n",
            "                                      misbranding       0.00      0.00      0.00         1\n",
            "                                   misdescription       0.00      0.00      0.00         3\n",
            "                                      mislabelled       0.00      0.00      0.00         1\n",
            "                    molluscs and products thereof       0.00      0.00      0.00         1\n",
            "                                           moulds       0.67      1.00      0.80         2\n",
            "                     mustard and products thereof       0.64      1.00      0.78         9\n",
            "                                         nitrogen       0.00      0.00      0.00         1\n",
            "                        non compliance with HACCP       0.00      0.00      0.00         1\n",
            "                                        norovirus       1.00      1.00      1.00         5\n",
            "                                             nuts       0.23      0.50      0.32         6\n",
            "                                       ochratoxin       0.00      0.00      0.00         1\n",
            "                                   organochlorine       0.00      0.00      0.00         1\n",
            "                                            other       0.30      0.52      0.38        23\n",
            "                         other misbranding issues       0.00      0.00      0.00         1\n",
            "                             other not classified       0.33      0.40      0.36         5\n",
            "          other not classified biological hazards       1.00      0.50      0.67         2\n",
            "            other not classified chemical hazards       0.57      0.67      0.62         6\n",
            "  other not classified hazards for foreign bodies       0.00      0.00      0.00         2\n",
            "                                 packaging defect       0.60      0.60      0.60         5\n",
            "                                             pahs       0.00      0.00      0.00         0\n",
            "       paralytic shellfish poisoning (psp) toxins       0.00      0.00      0.00         1\n",
            "                              pathogenic bacteria       0.00      0.00      0.00         2\n",
            "                                          patulin       0.67      1.00      0.80         2\n",
            "                     peanuts and products thereof       0.93      0.93      0.93        45\n",
            "                                        pecan nut       1.00      0.83      0.91         6\n",
            "                                   pieces of wood       1.00      0.50      0.67         2\n",
            "                                    pistachio nut       0.00      0.00      0.00         3\n",
            "                                 plastic fragment       0.92      0.90      0.91        39\n",
            "                 polycyclic aromatic hydrocarbons       1.00      1.00      1.00         1\n",
            "                              poor hygienic state       0.00      0.00      0.00         1\n",
            "                    poor or insufficient controls       1.00      0.25      0.40         4\n",
            "                                       processing       0.60      1.00      0.75         6\n",
            "                 product category/characteristics       0.00      0.00      0.00         1\n",
            "                                 rubber fragments       0.60      0.75      0.67         4\n",
            "                                       salmonella       0.98      0.94      0.96       121\n",
            "                sesame seeds and products thereof       1.00      1.00      1.00        10\n",
            "                    soybeans and products thereof       0.76      0.91      0.83        34\n",
            "                    specified risk material (srm)       0.00      0.00      0.00         4\n",
            "                                         spoilage       0.80      1.00      0.89         4\n",
            "                                   staphylococcus       1.00      1.00      1.00         3\n",
            "                              sulphates/sulphites       0.00      0.00      0.00         3\n",
            "                                  sulphur dioxide       0.62      1.00      0.77         5\n",
            "                    sulphur dioxide and sulphites       0.70      0.78      0.74        18\n",
            "                                        tampering       0.00      0.00      0.00         2\n",
            "                                taste disturbance       0.00      0.00      0.00         3\n",
            "too high content of fluorinated organic chemicals       0.00      0.00      0.00         2\n",
            "   too high content of tetrahydrocannabinol (THC)       1.00      1.00      1.00         2\n",
            "                                            toxin       1.00      1.00      1.00         8\n",
            "                      unauthorised colour sudan 4       0.00      0.00      0.00         0\n",
            "                              unauthorised import       0.00      0.00      0.00         1\n",
            "               unauthorised placing on the market       0.00      0.00      0.00         1\n",
            "            unauthorised substance ethylene oxide       0.90      1.00      0.95         9\n",
            "                              undeclared additive       0.50      0.50      0.50         2\n",
            "                           undeclared constituent       0.00      0.00      0.00         1\n",
            "                                            virus       1.00      1.00      1.00         1\n",
            "                                           walnut       0.71      1.00      0.83         5\n",
            "\n",
            "                                         accuracy                           0.84      1017\n",
            "                                        macro avg       0.48      0.50      0.48      1017\n",
            "                                     weighted avg       0.81      0.84      0.82      1017\n",
            "\n",
            "Model and LabelEncoder for hazard saved in './model_hazard'\n",
            "\n",
            "Starting training for task: product\n"
          ]
        },
        {
          "output_type": "stream",
          "name": "stderr",
          "text": [
            "Some weights of BertForSequenceClassification were not initialized from the model checkpoint at microsoft/BiomedNLP-PubMedBERT-base-uncased-abstract and are newly initialized: ['classifier.bias', 'classifier.weight']\n",
            "You should probably TRAIN this model on a down-stream task to be able to use it for predictions and inference.\n"
          ]
        },
        {
          "output_type": "stream",
          "name": "stdout",
          "text": [
            "Epoch 1/5 - Training: product\n"
          ]
        },
        {
          "output_type": "stream",
          "name": "stderr",
          "text": [
            "Training Epoch 1: 100%|██████████| 255/255 [01:25<00:00,  2.99it/s, loss=6.3]\n"
          ]
        },
        {
          "output_type": "stream",
          "name": "stdout",
          "text": [
            "Epoch 2/5 - Training: product\n"
          ]
        },
        {
          "output_type": "stream",
          "name": "stderr",
          "text": [
            "Training Epoch 2: 100%|██████████| 255/255 [01:25<00:00,  2.99it/s, loss=6.67]\n"
          ]
        },
        {
          "output_type": "stream",
          "name": "stdout",
          "text": [
            "Epoch 3/5 - Training: product\n"
          ]
        },
        {
          "output_type": "stream",
          "name": "stderr",
          "text": [
            "Training Epoch 3: 100%|██████████| 255/255 [01:25<00:00,  2.99it/s, loss=7.04]\n"
          ]
        },
        {
          "output_type": "stream",
          "name": "stdout",
          "text": [
            "Epoch 4/5 - Training: product\n"
          ]
        },
        {
          "output_type": "stream",
          "name": "stderr",
          "text": [
            "Training Epoch 4: 100%|██████████| 255/255 [01:25<00:00,  2.99it/s, loss=6.16]\n"
          ]
        },
        {
          "output_type": "stream",
          "name": "stdout",
          "text": [
            "Epoch 5/5 - Training: product\n"
          ]
        },
        {
          "output_type": "stream",
          "name": "stderr",
          "text": [
            "Training Epoch 5: 100%|██████████| 255/255 [01:25<00:00,  2.99it/s, loss=2.89]\n"
          ]
        },
        {
          "output_type": "stream",
          "name": "stdout",
          "text": [
            "Evaluating model for task: product\n"
          ]
        },
        {
          "output_type": "stream",
          "name": "stderr",
          "text": [
            "Evaluating: 100%|██████████| 64/64 [00:08<00:00,  7.95it/s]\n"
          ]
        },
        {
          "output_type": "stream",
          "name": "stdout",
          "text": [
            "F1-Score for product: 0.23249023103383826\n",
            "Classification Report for product:\n",
            "\n",
            "                                                   precision    recall  f1-score   support\n",
            "\n",
            "                           Catfishes (freshwater)       0.80      0.80      0.80         5\n",
            "                            Fishes not identified       0.25      1.00      0.40         6\n",
            "                         Not classified pork meat       0.00      0.00      0.00         3\n",
            "                       Pangas catfishes (generic)       0.00      0.00      0.00         1\n",
            "              Precooked cooked pork meat products       0.00      0.00      0.00         1\n",
            "                                    Veggie Burger       0.00      0.00      0.00         2\n",
            "                               after dinner mints       0.00      0.00      0.00         1\n",
            "                                  alfalfa sprouts       0.00      0.00      0.00         0\n",
            "                                            algae       0.00      0.00      0.00         3\n",
            "                            all purpose seasoning       0.00      0.00      0.00         1\n",
            "                                   almond kernels       0.00      0.00      0.00         1\n",
            "                                  almond products       0.00      0.00      0.00         3\n",
            "                                          almonds       0.60      1.00      0.75         3\n",
            "                                 anchovies in oil       0.00      0.00      0.00         1\n",
            "                                    anchovy paste       0.00      0.00      0.00         1\n",
            "                                       angus beef       0.00      0.00      0.00         2\n",
            "                               animal by-products       0.00      0.00      0.00         1\n",
            "                                       apple cake       0.00      0.00      0.00         1\n",
            "                                      apple juice       0.17      1.00      0.29         1\n",
            "                                  apricot kernels       0.00      0.00      0.00         2\n",
            "                                         apricots       0.00      0.00      0.00         1\n",
            "                    assorted bread roll selection       0.00      0.00      0.00         1\n",
            "                                        baby food       0.50      0.50      0.50         2\n",
            "                                     baby spinach       0.00      0.00      0.00         2\n",
            "                                           bagels       0.00      0.00      0.00         1\n",
            "                                  bakery products       0.00      0.00      0.00         1\n",
            "                                       baking mix       0.00      0.00      0.00         1\n",
            "                                           bamboo       0.00      0.00      0.00         1\n",
            "                                   barbecue sauce       0.00      0.00      0.00         2\n",
            "                                             bars       0.00      0.00      0.00         2\n",
            "                                basil pesto sauce       0.00      0.00      0.00         1\n",
            "                                       bean paste       0.00      0.00      0.00         0\n",
            "                                       bean snack       0.00      0.00      0.00         1\n",
            "                                     bean sprouts       0.00      0.00      0.00         1\n",
            "                                             beef       1.00      0.14      0.25         7\n",
            "                                        beef meat       0.00      0.00      0.00         2\n",
            "                                    beef products       0.23      0.50      0.32         6\n",
            "                                      beef stewed       0.00      0.00      0.00         1\n",
            "                                      beef tallow       0.00      0.00      0.00         1\n",
            "                                      beef tongue       0.00      0.00      0.00         1\n",
            "                                             beer       0.10      0.50      0.16         4\n",
            "                                         beverage       0.00      0.00      0.00         1\n",
            "        beverage base of non-fruit origin, liquid       0.00      0.00      0.00         1\n",
            "                                         biscuits       0.11      0.67      0.20         6\n",
            "                           bitter apricot kernels       0.00      0.00      0.00         1\n",
            "                                     black pepper       0.00      0.00      0.00         0\n",
            "                                     blackberries       0.00      0.00      0.00         1\n",
            "                   blackcurrant drink concentrate       0.00      0.00      0.00         1\n",
            "                                 blue poppy seeds       0.00      0.00      0.00         1\n",
            "                                      blueberries       0.00      0.00      0.00         0\n",
            "              boletus mushrooms, stems and pieces       0.00      0.00      0.00         1\n",
            "                            bottled mineral water       0.00      0.00      0.00         2\n",
            "                                    bottled water       0.00      0.00      0.00         0\n",
            "                                      brazil nuts       0.00      0.00      0.00         2\n",
            "                                            bread       0.42      0.62      0.50         8\n",
            "                      bread and products therefor       0.00      0.00      0.00         3\n",
            "                                breakfast cereals       0.00      0.00      0.00         1\n",
            "                     breakfast cereals for babies       0.00      0.00      0.00         1\n",
            "                                      brie cheese       0.00      0.00      0.00         1\n",
            "                                         broccoli       0.00      0.00      0.00         1\n",
            "                                             buns       0.00      0.00      0.00         2\n",
            "                                          burrata       0.00      0.00      0.00         1\n",
            "                           burrito (ready to eat)       0.00      0.00      0.00         1\n",
            "                                           butter       0.00      0.00      0.00         1\n",
            "                                            cakes       0.42      0.88      0.57        17\n",
            "                                          candies       0.25      0.33      0.29         9\n",
            "                                   canned chicken       0.00      0.00      0.00         1\n",
            "                                   canned mussels       0.00      0.00      0.00         1\n",
            "                                   canned spinach       0.00      0.00      0.00         1\n",
            "                                   cardamom seeds       0.00      0.00      0.00         1\n",
            "                                           cashew       0.00      0.00      0.00         1\n",
            "                                      cauliflower       0.00      0.00      0.00         2\n",
            "                                          cbd oil       0.00      0.00      0.00         1\n",
            "                                     cbd products       0.00      0.00      0.00         1\n",
            "                                           cereal       0.00      0.00      0.00         2\n",
            "                                   cheddar cheese       0.00      0.00      0.00         2\n",
            "                                           cheese       0.23      0.90      0.36        10\n",
            "                                   cheese burgers       0.00      0.00      0.00         1\n",
            "                                       cheese dip       0.00      0.00      0.00         1\n",
            "                                  cheese products       0.00      0.00      0.00         1\n",
            "                                         cherries       0.00      0.00      0.00         1\n",
            "                                       chia seeds       1.00      0.50      0.67         4\n",
            "                                          chicken       0.00      0.00      0.00         8\n",
            "                           chicken based products       0.24      0.91      0.39        23\n",
            "                                   chicken breast       0.00      0.00      0.00         1\n",
            "                                    chicken broth       0.00      0.00      0.00         1\n",
            "                                  chicken dippers       0.00      0.00      0.00         1\n",
            "                                chicken meat meal       0.00      0.00      0.00         1\n",
            "                            chicken meat products       0.00      0.00      0.00         1\n",
            "                              chicken noodle soup       0.00      0.00      0.00         1\n",
            "                             chicken preparations       0.00      0.00      0.00         6\n",
            "                        chicken products - frozen       0.00      0.00      0.00         2\n",
            "                                        chickpeas       0.00      0.00      0.00         1\n",
            "                                  chilled chicken       0.00      0.00      0.00         1\n",
            "                            chilled chicken parts       0.00      0.00      0.00         1\n",
            "                                   chilled salads       0.00      0.00      0.00         5\n",
            "                                     chilli paste       0.00      0.00      0.00         1\n",
            "                                     chilli sauce       0.00      0.00      0.00         1\n",
            "                                        chocolate       0.00      0.00      0.00         8\n",
            "                 chocolate and chocolate products       0.00      0.00      0.00         1\n",
            "                    chocolate and hazelnut spread       0.00      0.00      0.00         2\n",
            "                  chocolate and products therefor       0.00      0.00      0.00         1\n",
            "                                   chocolate bars       0.13      0.80      0.22         5\n",
            "                                   chocolate eggs       0.00      0.00      0.00         3\n",
            "                               chocolate products       0.40      0.22      0.29         9\n",
            "                                 chocolate spread       0.00      0.00      0.00         1\n",
            "                  chocolate spread with hazelnuts       0.00      0.00      0.00         1\n",
            "                                 chocolate wafers       0.00      0.00      0.00         1\n",
            "                                          chorizo       0.00      0.00      0.00         4\n",
            "                                            cider       0.00      0.00      0.00         0\n",
            "                                   cinnamon rolls       0.00      0.00      0.00         1\n",
            "                                            clams       0.00      0.00      0.00         1\n",
            "                                    coconut juice       0.00      0.00      0.00         2\n",
            "                                     coconut milk       0.00      0.00      0.00         2\n",
            "                               coconut milk drink       0.00      0.00      0.00         1\n",
            "                                         coconuts       0.25      1.00      0.40         4\n",
            "                                     coffee beans       0.00      0.00      0.00         2\n",
            "                                     coffee drink       0.00      0.00      0.00         1\n",
            "                              concentrated apples       0.00      0.00      0.00         1\n",
            "                                    confectionery       0.00      0.00      0.00         1\n",
            "                                   cooked chicken       0.00      0.00      0.00         3\n",
            "                            cooked chicken skewer       0.00      0.00      0.00         1\n",
            "                                       cooked ham       0.00      0.00      0.00         1\n",
            "                                  cooked sausages       0.00      0.00      0.00         1\n",
            "                                          cookies       0.43      0.92      0.59        13\n",
            "                                        coriander       0.00      0.00      0.00         1\n",
            "                                             corn       0.67      0.40      0.50         5\n",
            "                                   cottage cheese       0.00      0.00      0.00         1\n",
            "                                        cous cous       0.00      0.00      0.00         1\n",
            "                                  cow milk cheese       0.00      0.00      0.00         1\n",
            "                                         crackers       0.33      0.50      0.40         2\n",
            "                                     cream cheese       0.00      0.00      0.00         2\n",
            "                              cream chocolate pie       0.00      0.00      0.00         1\n",
            "                                           crisps       0.00      0.00      0.00         1\n",
            "                                       croissants       0.00      0.00      0.00         1\n",
            "                 crustaceans and products thereof       0.00      0.00      0.00         1\n",
            "                                         cupcakes       0.00      0.00      0.00         2\n",
            "                                       cured loin       0.00      0.00      0.00         1\n",
            "                                            curry       0.33      1.00      0.50         1\n",
            "                                          custard       0.00      0.00      0.00         1\n",
            "                                  dark chocolates       0.00      0.00      0.00         7\n",
            "                                            dates       0.00      0.00      0.00         2\n",
            "                                         desserts       0.67      0.50      0.57         4\n",
            "                               dietary supplement       0.25      0.50      0.33         4\n",
            "dietetic foods, food supplements, fortified foods       0.00      0.00      0.00         2\n",
            "                                        dip-sauce       0.00      0.00      0.00         4\n",
            "                                    dipping sauce       0.00      0.00      0.00         1\n",
            "                                           donuts       0.00      0.00      0.00         2\n",
            "                                         dressing       0.00      0.00      0.00         1\n",
            "                                  dried anchovies       0.00      0.00      0.00         1\n",
            "                                     dried apples       0.00      0.00      0.00         1\n",
            "                                   dried apricots       0.50      1.00      0.67         4\n",
            "                                  dried beef meat       0.88      1.00      0.93         7\n",
            "                                    dried coconut       0.00      0.00      0.00         1\n",
            "                                dried cranberries       0.00      0.00      0.00         1\n",
            "                                       dried figs       1.00      1.00      1.00         2\n",
            "                                  dried fruit mix       0.00      0.00      0.00         1\n",
            "                                     dried fruits       0.00      0.00      0.00         1\n",
            "                      dried fruits with chocolate       0.00      0.00      0.00         2\n",
            "                                  dried mushrooms       0.00      0.00      0.00         2\n",
            "                                      dried plums       1.00      0.50      0.67         2\n",
            "                                    dried sausage       0.00      0.00      0.00         1\n",
            "                               dried strawberries       0.00      0.00      0.00         1\n",
            "                                      dry sausage       0.00      0.00      0.00         1\n",
            "                                             duck       0.00      0.00      0.00         2\n",
            "                                        dumplings       0.00      0.00      0.00         3\n",
            "                                      edam cheese       0.00      0.00      0.00         1\n",
            "                                             eggs       0.70      1.00      0.82         7\n",
            "                            eggs and egg products       0.00      0.00      0.00         1\n",
            "                          energy and protein bars       0.00      0.00      0.00         1\n",
            "                                   feed materials       0.00      0.00      0.00         3\n",
            "                                     fennel seeds       0.00      0.00      0.00         1\n",
            "                                      feta cheese       0.00      0.00      0.00         5\n",
            "                                    fish products       0.00      0.00      0.00         2\n",
            "         flavoured fresh and creamy cheese spread       0.00      0.00      0.00         1\n",
            "                             flavoured soft drink       0.00      0.00      0.00         1\n",
            "              flavoured whey protein preparations       0.00      0.00      0.00         2\n",
            "                                            flour       0.75      0.75      0.75         4\n",
            "                                        foie gras       0.00      0.00      0.00         1\n",
            "                                  food supplement       0.00      0.00      0.00         1\n",
            "                                       fresh beef       0.00      0.00      0.00         1\n",
            "                                  fresh beef meat       0.00      0.00      0.00         1\n",
            "                                  fresh mushrooms       0.27      1.00      0.42         4\n",
            "                                    fresh parsley       0.00      0.00      0.00         1\n",
            "                                       fresh pork       0.00      0.00      0.00         1\n",
            "               fresh processed beef meat products       0.00      0.00      0.00         2\n",
            "                                 fresh vegetables       0.00      0.00      0.00         2\n",
            "                                      frozen beef       0.00      0.00      0.00         1\n",
            "                              frozen beef patties       0.00      0.00      0.00         2\n",
            "                             frozen beef products       0.00      0.00      0.00         1\n",
            "                                  frozen broccoli       0.00      0.00      0.00         1\n",
            "                               frozen burger buns       0.00      0.00      0.00         1\n",
            "                                   frozen burgers       0.00      0.00      0.00         1\n",
            "                                   frozen chicken       0.00      0.00      0.00         1\n",
            "                              frozen fish fillets       0.00      0.00      0.00         1\n",
            "                               frozen green beans       0.00      0.00      0.00         1\n",
            "                                frozen hamburgers       0.00      0.00      0.00         1\n",
            "                               frozen hash browns       0.00      0.00      0.00         1\n",
            "                                   frozen lobster       0.00      0.00      0.00         1\n",
            "                                  frozen pancakes       0.00      0.00      0.00         1\n",
            "                                      frozen peas       0.00      0.00      0.00         1\n",
            "                                   frozen peppers       0.00      0.00      0.00         1\n",
            "                                       frozen pie       0.00      0.00      0.00         1\n",
            "                                     frozen pizza       0.00      0.00      0.00         3\n",
            "                         frozen pork preparations       0.00      0.00      0.00         1\n",
            "                                   frozen poultry       0.00      0.00      0.00         1\n",
            "                      frozen poultry preparations       0.00      0.00      0.00         1\n",
            "                          frozen poultry products       0.00      0.00      0.00         2\n",
            "                     frozen ready to cook chicken       0.00      0.00      0.00         1\n",
            "                                frozen vegetables       0.00      0.00      0.00         1\n",
            "                         frozen vegetarian cutlet       0.00      0.00      0.00         1\n",
            "                                frozen whole fish       0.00      0.00      0.00         1\n",
            "                                      fruit juice       0.00      0.00      0.00         3\n",
            "                                      fruit punch       0.00      0.00      0.00         1\n",
            "                            fruits and vegetables       0.00      0.00      0.00         1\n",
            "                                    garlic powder       0.00      0.00      0.00         1\n",
            "                                      goat cheese       0.00      0.00      0.00         1\n",
            "                                            gouda       0.00      0.00      0.00         1\n",
            "                                     gouda cheese       0.00      0.00      0.00         1\n",
            "                                          granola       0.50      0.50      0.50         2\n",
            "                                   grated coconut       0.00      0.00      0.00         2\n",
            "                                        gravy mix       0.00      0.00      0.00         1\n",
            "                             grissini breadsticks       0.00      0.00      0.00         1\n",
            "                                   ground almonds       0.00      0.00      0.00         1\n",
            "                                      ground beef       0.35      1.00      0.51         9\n",
            "                                 ground beef meat       0.00      0.00      0.00         1\n",
            "                              ground black pepper       0.00      0.00      0.00         1\n",
            "                                  halloumi cheese       0.00      0.00      0.00         4\n",
            "                                            halva       0.00      0.00      0.00         1\n",
            "                                              ham       0.38      0.62      0.48         8\n",
            "                                          herring       0.00      0.00      0.00         4\n",
            "                                            honey       0.00      0.00      0.00         1\n",
            "                              horseradish in jars       0.00      0.00      0.00         1\n",
            "                                         hot dogs       0.00      0.00      0.00         1\n",
            "                                        ice cream       0.58      0.90      0.70        50\n",
            "                                   infant formula       1.00      1.00      1.00         3\n",
            "                                   instant cereal       0.00      0.00      0.00         1\n",
            "                                   instant coffee       0.00      0.00      0.00         1\n",
            "                                              jam       1.00      0.20      0.33         5\n",
            "                                          jellies       0.40      1.00      0.57         4\n",
            "                                             kale       0.00      0.00      0.00         2\n",
            "                                          ketchup       0.00      0.00      0.00         1\n",
            "                                          lasagne       0.00      0.00      0.00         3\n",
            "                            lemonade (lemon soda)       0.00      0.00      0.00         1\n",
            "                                          lentils       0.00      0.00      0.00         1\n",
            "                                          lettuce       1.00      1.00      1.00         1\n",
            "                                 liquid egg white       0.00      0.00      0.00         1\n",
            "                           liquid food supplement       0.00      0.00      0.00         1\n",
            "                                           lokoum       0.00      0.00      0.00         1\n",
            "                                        lollipops       0.00      0.00      0.00         1\n",
            "                                  long grain rice       0.00      0.00      0.00         1\n",
            "                                    luncheon meat       0.00      0.00      0.00         1\n",
            "                                      lupin seeds       0.00      0.00      0.00         1\n",
            "                                   macadamia nuts       1.00      1.00      1.00         1\n",
            "                                         mackerel       0.00      0.00      0.00         2\n",
            "                                            maize       0.00      0.00      0.00         2\n",
            "                                        margarine       0.00      0.00      0.00         1\n",
            "                           marinated chicken meat       0.00      0.00      0.00         1\n",
            "                                      marshmalows       0.00      0.00      0.00         1\n",
            "                                 masala spice mix       0.00      0.00      0.00         1\n",
            "                        mashed chickpeas (hummus)       0.00      0.00      0.00         3\n",
            "                                       mayonnaise       0.00      0.00      0.00         1\n",
            "      meat and meat products (other than poultry)       0.00      0.00      0.00         2\n",
            "                                        meat loaf       0.00      0.00      0.00         1\n",
            "                                meat preparations       0.00      0.00      0.00         1\n",
            "                     meat, egg and dairy products       0.00      0.00      0.00         1\n",
            "              mechanically separated chicken meat       0.00      0.00      0.00         1\n",
            "                                             milk       0.33      1.00      0.50         7\n",
            "                   milk chocolate covered raisins       0.00      0.00      0.00         3\n",
            "                                  milk chocolates       0.00      0.00      0.00         3\n",
            "                                    milk products       0.00      0.00      0.00         2\n",
            "                                      minced beef       0.00      0.00      0.00         2\n",
            "                                   minced chicken       0.00      0.00      0.00         1\n",
            "                      mitragyna speciosa (kratom)       0.00      0.00      0.00         3\n",
            "                                      mix of nuts       0.00      0.00      0.00         1\n",
            "                                      mixed salad       0.00      0.00      0.00         1\n",
            "                                 mixed vegetables       0.00      0.00      0.00         2\n",
            "                                         moussaka       0.00      0.00      0.00         1\n",
            "                                mozzarella cheese       0.00      0.00      0.00         1\n",
            "                                           muesli       0.00      0.00      0.00         6\n",
            "                                          muffins       1.00      0.50      0.67         2\n",
            "                                        mushrooms       0.00      0.00      0.00         1\n",
            "                                          mustard       0.00      0.00      0.00         2\n",
            "                               non-alcoholic beer       0.00      0.00      0.00         1\n",
            "                          non-alcoholic beverages       0.00      0.00      0.00         1\n",
            "                                      noodle soup       0.00      0.00      0.00         1\n",
            "                                          noodles       0.00      0.00      0.00         3\n",
            "                                           nougat       0.00      0.00      0.00         1\n",
            "                                          nut mix       0.00      0.00      0.00         1\n",
            "                               nut-almond mixture       0.00      0.00      0.00         1\n",
            "                                  nutrition shake       0.00      0.00      0.00         1\n",
            "                                             nuts       0.00      0.00      0.00         2\n",
            "                                             oats       0.00      0.00      0.00         1\n",
            "                                        olive oil       1.00      1.00      1.00         1\n",
            "                                           olives       0.00      0.00      0.00         2\n",
            "                                           onions       0.29      0.67      0.40         3\n",
            "                                     orange juice       0.00      0.00      0.00         1\n",
            "                               orange sugar paste       0.00      0.00      0.00         1\n",
            "                                          oregano       0.00      0.00      0.00         1\n",
            "                           organic chilled hummus       0.00      0.00      0.00         1\n",
            "                             other dairy products       0.00      0.00      0.00         2\n",
            "               other not classified meat products       0.00      0.00      0.00         4\n",
            "                              other types of meat       0.00      0.00      0.00         6\n",
            "                         other water-based drinks       0.00      0.00      0.00         3\n",
            "                                          oysters       1.00      0.80      0.89         5\n",
            "                                           paella       0.00      0.00      0.00         1\n",
            "                                         palm oil       0.00      0.00      0.00         1\n",
            "                                         pancakes       0.00      0.00      0.00         2\n",
            "                                           papaya       0.00      0.00      0.00         1\n",
            "                                          parsley       0.50      1.00      0.67         1\n",
            "                                            pasta       0.50      0.50      0.50         2\n",
            "                                 pasteurized milk       0.00      0.00      0.00         1\n",
            "                                           pastry       0.00      0.00      0.00         1\n",
            "                                  pastry products       0.00      0.00      0.00         5\n",
            "                                          peanuts       0.25      0.73      0.37        11\n",
            "                                       pear juice       0.00      0.00      0.00         1\n",
            "                                            pesto       0.00      0.00      0.00         1\n",
            "                                         pet feed       1.00      0.67      0.80         6\n",
            "                                 pickled beetroot       0.00      0.00      0.00         1\n",
            "                             pickled grape leaves       0.00      0.00      0.00         1\n",
            "                                  pickled peppers       0.00      0.00      0.00         1\n",
            "                                  pig meat - pork       0.00      0.00      0.00         2\n",
            "                                        pine nuts       0.00      0.00      0.00         1\n",
            "                                   pistachio nuts       0.88      0.88      0.88         8\n",
            "                                            pizza       0.20      1.00      0.33         1\n",
            "                                         plastics       0.00      0.00      0.00         1\n",
            "                  plum bread &amp; butter pudding       0.00      0.00      0.00         1\n",
            "                                            poppy       0.00      0.00      0.00         0\n",
            "                                         pork pie       0.00      0.00      0.00         1\n",
            "                                 pork preparation       0.00      0.00      0.00         2\n",
            "                                     pork sausage       0.38      1.00      0.55         3\n",
            "                                     potato chips       0.30      0.75      0.43         4\n",
            "                                potato croquettes       0.00      0.00      0.00         1\n",
            "                                     potato salad       0.00      0.00      0.00         1\n",
            "                                         potatoes       0.00      0.00      0.00         3\n",
            "                                          poultry       0.00      0.00      0.00         1\n",
            "                                     poultry meat       0.00      0.00      0.00         1\n",
            "                                   prawn crackers       0.00      0.00      0.00         1\n",
            "                                           prawns       0.50      1.00      0.67         1\n",
            "              precooked cooked beef meat products       1.00      0.20      0.33         5\n",
            "                                  prepacked salad       0.00      0.00      0.00         2\n",
            "                                    prepared dish       0.00      0.00      0.00         1\n",
            "                  prepared dish containing prawns       0.00      0.00      0.00         1\n",
            "                                  prepared salads       0.00      0.00      0.00         4\n",
            "                                         pretzels       0.00      0.00      0.00         1\n",
            "                                    protein balls       0.00      0.00      0.00         2\n",
            "                                      protein bar       0.00      0.00      0.00         2\n",
            "                                     protein bars       0.00      0.00      0.00         1\n",
            "                                    protein drink       0.00      0.00      0.00         1\n",
            "                                   protein powder       0.00      0.00      0.00         3\n",
            "                                          pudding       0.00      0.00      0.00         1\n",
            "                                      puffed rice       0.00      0.00      0.00         1\n",
            "                                             pâté       0.00      0.00      0.00         2\n",
            "                                quorn preparation       0.00      0.00      0.00         1\n",
            "                                          raisins       0.00      0.00      0.00         1\n",
            "                                      raspberries       1.00      0.33      0.50         3\n",
            "                                    raw beef meat       0.67      0.29      0.40         7\n",
            "                            raw cow's milk cheese       0.00      0.00      0.00         1\n",
            "                             raw goat milk cheese       0.00      0.00      0.00         1\n",
            "                                         raw milk       0.00      0.00      0.00         4\n",
            "                        raw milk cheese reblochon       0.00      0.00      0.00         1\n",
            "         ready cooked sliced chicken tikka breast       0.00      0.00      0.00         1\n",
            "                        ready to eat - cook meals       0.03      0.14      0.05        14\n",
            "                      ready-to-eat seafood sticks       0.00      0.00      0.00         1\n",
            "                                       red chilli       0.00      0.00      0.00         1\n",
            "                                     refreshments       0.00      0.00      0.00         1\n",
            "                                             rice       0.00      0.00      0.00         2\n",
            "                                       rice cakes       0.00      0.00      0.00         1\n",
            "                                    rice crackers       0.00      0.00      0.00         1\n",
            "                                        rice meal       0.00      0.00      0.00         1\n",
            "                                       rice snack       0.00      0.00      0.00         2\n",
            "                                   ricotta cheese       0.00      0.00      0.00         1\n",
            "                                   salad dressing       0.00      0.00      0.00         2\n",
            "                                           salads       0.19      0.75      0.30        12\n",
            "                                           salami       0.00      0.00      0.00         4\n",
            "                                           salmon       0.47      0.89      0.62         9\n",
            "                                             salt       0.00      0.00      0.00         2\n",
            "                                 sandwich filling       0.00      0.00      0.00         1\n",
            "                                       sandwiches       0.53      0.89      0.67         9\n",
            "                                            sauce       0.06      0.20      0.09         5\n",
            "                                           sauces       0.14      0.50      0.22         2\n",
            "                                          sausage       0.29      0.29      0.29         7\n",
            "                                 sausage products       0.00      0.00      0.00         1\n",
            "                                          seafood       0.00      0.00      0.00         1\n",
            "                                 seasoned chicken       0.00      0.00      0.00         1\n",
            "                                        seasoning       0.33      0.50      0.40         2\n",
            "                                  seasoning sauce       0.00      0.00      0.00         1\n",
            "                                       seasonings       0.00      0.00      0.00         1\n",
            "                             seaweed preparations       0.00      0.00      0.00         1\n",
            "                                        seed mixe       0.00      0.00      0.00         1\n",
            "                                     sesame paste       0.00      0.00      0.00         2\n",
            "                                  sesame seed oil       0.00      0.00      0.00         1\n",
            "                                     sesame seeds       0.25      1.00      0.40         1\n",
            "                                          shrimps       0.80      0.80      0.80         5\n",
            "                                       sliced ham       0.00      0.00      0.00         2\n",
            "                                   smoked sausage       0.00      0.00      0.00         4\n",
            "                                   snack crackers       0.00      0.00      0.00         1\n",
            "                                        snack mix       1.00      0.29      0.44         7\n",
            "                                 snacks (various)       0.00      0.00      0.00         3\n",
            "                                       soda drink       0.00      0.00      0.00         1\n",
            "                                      soft drinks       0.00      0.00      0.00         1\n",
            "                                             soup       0.40      1.00      0.57         6\n",
            "                                   soy bean paste       0.00      0.00      0.00         1\n",
            "                                 soy milk product       0.00      0.00      0.00         1\n",
            "                                        soy sauce       0.00      0.00      0.00         1\n",
            "                       soya and products therefor       0.00      0.00      0.00         1\n",
            "                                       soya drink       0.00      0.00      0.00         1\n",
            "                                        spice mix       0.00      0.00      0.00         1\n",
            "                                           spices       0.00      0.00      0.00         1\n",
            "                                   spinach leaves       0.00      0.00      0.00         1\n",
            "                                      sport drink       0.00      0.00      0.00         1\n",
            "                                     spring rolls       0.00      0.00      0.00         2\n",
            "                                     spring water       0.00      0.00      0.00         1\n",
            "                                          sprouts       0.00      0.00      0.00         1\n",
            "                                   stuffed pastry       0.00      0.00      0.00         1\n",
            "                                            sugar       0.00      0.00      0.00         1\n",
            "                                   sunflower seed       0.58      1.00      0.74         7\n",
            "                                           sweets       0.00      0.00      0.00         1\n",
            "                                      swiss rolls       0.00      0.00      0.00         1\n",
            "                                       taco sauce       0.00      0.00      0.00         1\n",
            "                                           tahini       0.62      0.71      0.67         7\n",
            "                            tahini (sesame paste)       0.00      0.00      0.00         1\n",
            "                                              tea       0.17      1.00      0.29         1\n",
            "                                         tea bags       0.00      0.00      0.00         1\n",
            "                                        tea drink       0.00      0.00      0.00         1\n",
            "                      thermal processed beef meat       0.00      0.00      0.00         3\n",
            "                      thermal processed pork meat       0.21      1.00      0.35         7\n",
            "                                             tofu       0.00      0.00      0.00         2\n",
            "                                   tortilla chips       0.00      0.00      0.00         3\n",
            "                            tortilla chips cheese       0.00      0.00      0.00         1\n",
            "                                             tuna       1.00      0.20      0.33         5\n",
            "                   turkey and turkey preparations       0.80      0.80      0.80         5\n",
            "                            turkey based products       0.00      0.00      0.00         3\n",
            "                                   tzatziki sauce       0.00      0.00      0.00         1\n",
            "                          various bakery products       0.00      0.00      0.00         2\n",
            "                                  various cheeses       0.00      0.00      0.00         1\n",
            "                    various chicken meat products       0.00      0.00      0.00         1\n",
            "                           various pasta products       0.00      0.00      0.00         1\n",
            "                          various prepared dishes       0.00      0.00      0.00         0\n",
            "                                   vegan sausages       0.00      0.00      0.00         1\n",
            "                         vegetable based products       0.00      0.00      0.00         1\n",
            "                                    vegetable mix       0.00      0.00      0.00         2\n",
            "                            vegetable preparation       0.00      0.00      0.00         1\n",
            "                     vegetable ready to eat meals       0.00      0.00      0.00         1\n",
            "                                vegetable samosas       0.00      0.00      0.00         1\n",
            "                                       vegetables       0.00      0.00      0.00         1\n",
            "                              vitamins supplement       0.00      0.00      0.00         1\n",
            "                                           wafers       0.00      0.00      0.00         1\n",
            "                                          waffles       0.00      0.00      0.00         2\n",
            "                                          walnuts       0.00      0.00      0.00         2\n",
            "                                      wheat snack       0.00      0.00      0.00         1\n",
            "                                     whey protein       0.00      0.00      0.00         1\n",
            "                                           whisky       0.00      0.00      0.00         1\n",
            "                              white lasagna sauce       0.00      0.00      0.00         1\n",
            "                                             wine       0.50      0.50      0.50         2\n",
            "                                            wraps       0.00      0.00      0.00         4\n",
            "                                          yoghurt       0.62      1.00      0.77         5\n",
            "\n",
            "                                         accuracy                           0.33      1017\n",
            "                                        macro avg       0.09      0.12      0.09      1017\n",
            "                                     weighted avg       0.22      0.33      0.23      1017\n",
            "\n",
            "Model and LabelEncoder for product saved in './model_product'\n"
          ]
        }
      ]
    },
    {
      "cell_type": "markdown",
      "source": [
        "# Generate predictions on the test data and print the predictions DataFrame\n",
        "Here, we load the test dataset, use the trained model to generate predictions, and display the results.\n"
      ],
      "metadata": {
        "id": "HLUojbN91Oon"
      }
    },
    {
      "cell_type": "code",
      "source": [
        "# Import necessary libraries\n",
        "import os\n",
        "import torch\n",
        "import numpy as np\n",
        "import pandas as pd\n",
        "from transformers import AutoTokenizer, AutoModelForSequenceClassification\n",
        "from sklearn.preprocessing import LabelEncoder\n",
        "\n",
        "# Load the test data for predictions (CSV containing validation data)\n",
        "test_path = '/content/drive/MyDrive/Data/validation_data/incidents.csv'\n",
        "test_df = pd.read_csv(test_path, index_col=0)\n",
        "\n",
        "# Define the predict function\n",
        "def predict(texts, model_base_path, target):\n",
        "    # Load the tokenizer for the specified pre-trained model\n",
        "    tokenizer = AutoTokenizer.from_pretrained(model_base_path)\n",
        "\n",
        "    # Load the correct label encoder for the given target\n",
        "    label_encoder_path = f'{model_base_path}/{target}_label_encoder.npy'\n",
        "    label_encoder = LabelEncoder()\n",
        "\n",
        "    # Check if the label encoder file exists and load it\n",
        "    if os.path.exists(label_encoder_path):\n",
        "        label_encoder.classes_ = np.load(label_encoder_path, allow_pickle=True)\n",
        "    else:\n",
        "        # Print a warning if the label encoder is not found\n",
        "        print(f\"Warning: Label encoder not found for {target} at {label_encoder_path}\")\n",
        "        return None\n",
        "\n",
        "    # Load the pre-trained model for sequence classification\n",
        "    model = AutoModelForSequenceClassification.from_pretrained(model_base_path).to(device)\n",
        "\n",
        "    # Tokenize the input texts\n",
        "    inputs = tokenizer(\n",
        "        texts,\n",
        "        padding=True,  # Pad sequences to the max length\n",
        "        truncation=True,  # Truncate sequences to the max length\n",
        "        max_length=512,  # Limit sequence length to 512 tokens\n",
        "        return_tensors=\"pt\"  # Return PyTorch tensors\n",
        "    ).to(device)\n",
        "\n",
        "    # Put the model in evaluation mode\n",
        "    model.eval()\n",
        "\n",
        "    # Make predictions with no gradient calculation\n",
        "    with torch.no_grad():\n",
        "        outputs = model(**inputs)\n",
        "        logits = outputs.logits\n",
        "        predictions = torch.argmax(logits, dim=-1)  # Get the predicted class for each input\n",
        "\n",
        "    # Decode the predictions using the label encoder\n",
        "    decoded_predictions = label_encoder.inverse_transform(predictions.cpu().numpy())\n",
        "\n",
        "    # Return the decoded predictions\n",
        "    return decoded_predictions\n",
        "\n",
        "# Define device for model prediction (use GPU if available, else use CPU)\n",
        "device = torch.device('cuda' if torch.cuda.is_available() else 'cpu')\n",
        "print(f\"Using device: {device}\")\n",
        "\n",
        "# Prepare an empty dataframe to store the predictions\n",
        "predictions = pd.DataFrame()\n",
        "\n",
        "# Run predictions for all targets using the correct saved model\n",
        "for column in targets_subtask1 + targets_subtask2:\n",
        "    # Define the model path dynamically based on the target column\n",
        "    model_path = f'./model_{column}'\n",
        "\n",
        "    # Get the decoded predictions for the current target\n",
        "    decoded_preds = predict(test_df['text'].tolist(), model_path, column)\n",
        "\n",
        "    # If predictions were successfully made, store them in the dataframe\n",
        "    if decoded_preds is not None:\n",
        "        predictions[column] = decoded_preds\n",
        "\n",
        "# Display the final predictions\n",
        "print(\"\\nFinal Predictions:\\n\")\n",
        "print(predictions)\n"
      ],
      "metadata": {
        "colab": {
          "base_uri": "https://localhost:8080/"
        },
        "id": "1asDnwc-1QIb",
        "outputId": "5a4b22c2-c56a-4242-8709-6f6162a408fc"
      },
      "execution_count": 13,
      "outputs": [
        {
          "output_type": "stream",
          "name": "stdout",
          "text": [
            "Using device: cuda\n",
            "\n",
            "Final Predictions:\n",
            "\n",
            "    hazard-category                                   product-category  \\\n",
            "0        biological                       meat, egg and dairy products   \n",
            "1        biological                       meat, egg and dairy products   \n",
            "2        biological                       meat, egg and dairy products   \n",
            "3         allergens                                  ices and desserts   \n",
            "4    foreign bodies                       meat, egg and dairy products   \n",
            "..              ...                                                ...   \n",
            "560       allergens                              fruits and vegetables   \n",
            "561       allergens  dietetic foods, food supplements, fortified foods   \n",
            "562  foreign bodies                        cereals and bakery products   \n",
            "563       allergens                        cereals and bakery products   \n",
            "564       allergens       cocoa and cocoa preparations, coffee and tea   \n",
            "\n",
            "                           hazard                 product  \n",
            "0          listeria monocytogenes                     ham  \n",
            "1                escherichia coli                  salads  \n",
            "2                   enteroviruses  chicken based products  \n",
            "3                       pecan nut               ice cream  \n",
            "4                  metal fragment  chicken based products  \n",
            "..                            ...                     ...  \n",
            "560                        cashew                  salads  \n",
            "561     milk and products thereof                biscuits  \n",
            "562              plastic fragment                 cookies  \n",
            "563  peanuts and products thereof                biscuits  \n",
            "564                        almond                 cookies  \n",
            "\n",
            "[565 rows x 4 columns]\n"
          ]
        }
      ]
    },
    {
      "cell_type": "code",
      "source": [
        "predictions"
      ],
      "metadata": {
        "colab": {
          "base_uri": "https://localhost:8080/",
          "height": 423
        },
        "id": "v6gfxEZFM2Kq",
        "outputId": "7dc510d1-bb6b-4ebb-9ff2-dc40ab77a34f"
      },
      "execution_count": 14,
      "outputs": [
        {
          "output_type": "execute_result",
          "data": {
            "text/plain": [
              "    hazard-category                                   product-category  \\\n",
              "0        biological                       meat, egg and dairy products   \n",
              "1        biological                       meat, egg and dairy products   \n",
              "2        biological                       meat, egg and dairy products   \n",
              "3         allergens                                  ices and desserts   \n",
              "4    foreign bodies                       meat, egg and dairy products   \n",
              "..              ...                                                ...   \n",
              "560       allergens                              fruits and vegetables   \n",
              "561       allergens  dietetic foods, food supplements, fortified foods   \n",
              "562  foreign bodies                        cereals and bakery products   \n",
              "563       allergens                        cereals and bakery products   \n",
              "564       allergens       cocoa and cocoa preparations, coffee and tea   \n",
              "\n",
              "                           hazard                 product  \n",
              "0          listeria monocytogenes                     ham  \n",
              "1                escherichia coli                  salads  \n",
              "2                   enteroviruses  chicken based products  \n",
              "3                       pecan nut               ice cream  \n",
              "4                  metal fragment  chicken based products  \n",
              "..                            ...                     ...  \n",
              "560                        cashew                  salads  \n",
              "561     milk and products thereof                biscuits  \n",
              "562              plastic fragment                 cookies  \n",
              "563  peanuts and products thereof                biscuits  \n",
              "564                        almond                 cookies  \n",
              "\n",
              "[565 rows x 4 columns]"
            ],
            "text/html": [
              "\n",
              "  <div id=\"df-ad9501a6-f1d5-441e-8ff5-6f6a948b32f6\" class=\"colab-df-container\">\n",
              "    <div>\n",
              "<style scoped>\n",
              "    .dataframe tbody tr th:only-of-type {\n",
              "        vertical-align: middle;\n",
              "    }\n",
              "\n",
              "    .dataframe tbody tr th {\n",
              "        vertical-align: top;\n",
              "    }\n",
              "\n",
              "    .dataframe thead th {\n",
              "        text-align: right;\n",
              "    }\n",
              "</style>\n",
              "<table border=\"1\" class=\"dataframe\">\n",
              "  <thead>\n",
              "    <tr style=\"text-align: right;\">\n",
              "      <th></th>\n",
              "      <th>hazard-category</th>\n",
              "      <th>product-category</th>\n",
              "      <th>hazard</th>\n",
              "      <th>product</th>\n",
              "    </tr>\n",
              "  </thead>\n",
              "  <tbody>\n",
              "    <tr>\n",
              "      <th>0</th>\n",
              "      <td>biological</td>\n",
              "      <td>meat, egg and dairy products</td>\n",
              "      <td>listeria monocytogenes</td>\n",
              "      <td>ham</td>\n",
              "    </tr>\n",
              "    <tr>\n",
              "      <th>1</th>\n",
              "      <td>biological</td>\n",
              "      <td>meat, egg and dairy products</td>\n",
              "      <td>escherichia coli</td>\n",
              "      <td>salads</td>\n",
              "    </tr>\n",
              "    <tr>\n",
              "      <th>2</th>\n",
              "      <td>biological</td>\n",
              "      <td>meat, egg and dairy products</td>\n",
              "      <td>enteroviruses</td>\n",
              "      <td>chicken based products</td>\n",
              "    </tr>\n",
              "    <tr>\n",
              "      <th>3</th>\n",
              "      <td>allergens</td>\n",
              "      <td>ices and desserts</td>\n",
              "      <td>pecan nut</td>\n",
              "      <td>ice cream</td>\n",
              "    </tr>\n",
              "    <tr>\n",
              "      <th>4</th>\n",
              "      <td>foreign bodies</td>\n",
              "      <td>meat, egg and dairy products</td>\n",
              "      <td>metal fragment</td>\n",
              "      <td>chicken based products</td>\n",
              "    </tr>\n",
              "    <tr>\n",
              "      <th>...</th>\n",
              "      <td>...</td>\n",
              "      <td>...</td>\n",
              "      <td>...</td>\n",
              "      <td>...</td>\n",
              "    </tr>\n",
              "    <tr>\n",
              "      <th>560</th>\n",
              "      <td>allergens</td>\n",
              "      <td>fruits and vegetables</td>\n",
              "      <td>cashew</td>\n",
              "      <td>salads</td>\n",
              "    </tr>\n",
              "    <tr>\n",
              "      <th>561</th>\n",
              "      <td>allergens</td>\n",
              "      <td>dietetic foods, food supplements, fortified foods</td>\n",
              "      <td>milk and products thereof</td>\n",
              "      <td>biscuits</td>\n",
              "    </tr>\n",
              "    <tr>\n",
              "      <th>562</th>\n",
              "      <td>foreign bodies</td>\n",
              "      <td>cereals and bakery products</td>\n",
              "      <td>plastic fragment</td>\n",
              "      <td>cookies</td>\n",
              "    </tr>\n",
              "    <tr>\n",
              "      <th>563</th>\n",
              "      <td>allergens</td>\n",
              "      <td>cereals and bakery products</td>\n",
              "      <td>peanuts and products thereof</td>\n",
              "      <td>biscuits</td>\n",
              "    </tr>\n",
              "    <tr>\n",
              "      <th>564</th>\n",
              "      <td>allergens</td>\n",
              "      <td>cocoa and cocoa preparations, coffee and tea</td>\n",
              "      <td>almond</td>\n",
              "      <td>cookies</td>\n",
              "    </tr>\n",
              "  </tbody>\n",
              "</table>\n",
              "<p>565 rows × 4 columns</p>\n",
              "</div>\n",
              "    <div class=\"colab-df-buttons\">\n",
              "\n",
              "  <div class=\"colab-df-container\">\n",
              "    <button class=\"colab-df-convert\" onclick=\"convertToInteractive('df-ad9501a6-f1d5-441e-8ff5-6f6a948b32f6')\"\n",
              "            title=\"Convert this dataframe to an interactive table.\"\n",
              "            style=\"display:none;\">\n",
              "\n",
              "  <svg xmlns=\"http://www.w3.org/2000/svg\" height=\"24px\" viewBox=\"0 -960 960 960\">\n",
              "    <path d=\"M120-120v-720h720v720H120Zm60-500h600v-160H180v160Zm220 220h160v-160H400v160Zm0 220h160v-160H400v160ZM180-400h160v-160H180v160Zm440 0h160v-160H620v160ZM180-180h160v-160H180v160Zm440 0h160v-160H620v160Z\"/>\n",
              "  </svg>\n",
              "    </button>\n",
              "\n",
              "  <style>\n",
              "    .colab-df-container {\n",
              "      display:flex;\n",
              "      gap: 12px;\n",
              "    }\n",
              "\n",
              "    .colab-df-convert {\n",
              "      background-color: #E8F0FE;\n",
              "      border: none;\n",
              "      border-radius: 50%;\n",
              "      cursor: pointer;\n",
              "      display: none;\n",
              "      fill: #1967D2;\n",
              "      height: 32px;\n",
              "      padding: 0 0 0 0;\n",
              "      width: 32px;\n",
              "    }\n",
              "\n",
              "    .colab-df-convert:hover {\n",
              "      background-color: #E2EBFA;\n",
              "      box-shadow: 0px 1px 2px rgba(60, 64, 67, 0.3), 0px 1px 3px 1px rgba(60, 64, 67, 0.15);\n",
              "      fill: #174EA6;\n",
              "    }\n",
              "\n",
              "    .colab-df-buttons div {\n",
              "      margin-bottom: 4px;\n",
              "    }\n",
              "\n",
              "    [theme=dark] .colab-df-convert {\n",
              "      background-color: #3B4455;\n",
              "      fill: #D2E3FC;\n",
              "    }\n",
              "\n",
              "    [theme=dark] .colab-df-convert:hover {\n",
              "      background-color: #434B5C;\n",
              "      box-shadow: 0px 1px 3px 1px rgba(0, 0, 0, 0.15);\n",
              "      filter: drop-shadow(0px 1px 2px rgba(0, 0, 0, 0.3));\n",
              "      fill: #FFFFFF;\n",
              "    }\n",
              "  </style>\n",
              "\n",
              "    <script>\n",
              "      const buttonEl =\n",
              "        document.querySelector('#df-ad9501a6-f1d5-441e-8ff5-6f6a948b32f6 button.colab-df-convert');\n",
              "      buttonEl.style.display =\n",
              "        google.colab.kernel.accessAllowed ? 'block' : 'none';\n",
              "\n",
              "      async function convertToInteractive(key) {\n",
              "        const element = document.querySelector('#df-ad9501a6-f1d5-441e-8ff5-6f6a948b32f6');\n",
              "        const dataTable =\n",
              "          await google.colab.kernel.invokeFunction('convertToInteractive',\n",
              "                                                    [key], {});\n",
              "        if (!dataTable) return;\n",
              "\n",
              "        const docLinkHtml = 'Like what you see? Visit the ' +\n",
              "          '<a target=\"_blank\" href=https://colab.research.google.com/notebooks/data_table.ipynb>data table notebook</a>'\n",
              "          + ' to learn more about interactive tables.';\n",
              "        element.innerHTML = '';\n",
              "        dataTable['output_type'] = 'display_data';\n",
              "        await google.colab.output.renderOutput(dataTable, element);\n",
              "        const docLink = document.createElement('div');\n",
              "        docLink.innerHTML = docLinkHtml;\n",
              "        element.appendChild(docLink);\n",
              "      }\n",
              "    </script>\n",
              "  </div>\n",
              "\n",
              "\n",
              "<div id=\"df-b6cc9217-ed18-44e4-b8eb-9c311f46e844\">\n",
              "  <button class=\"colab-df-quickchart\" onclick=\"quickchart('df-b6cc9217-ed18-44e4-b8eb-9c311f46e844')\"\n",
              "            title=\"Suggest charts\"\n",
              "            style=\"display:none;\">\n",
              "\n",
              "<svg xmlns=\"http://www.w3.org/2000/svg\" height=\"24px\"viewBox=\"0 0 24 24\"\n",
              "     width=\"24px\">\n",
              "    <g>\n",
              "        <path d=\"M19 3H5c-1.1 0-2 .9-2 2v14c0 1.1.9 2 2 2h14c1.1 0 2-.9 2-2V5c0-1.1-.9-2-2-2zM9 17H7v-7h2v7zm4 0h-2V7h2v10zm4 0h-2v-4h2v4z\"/>\n",
              "    </g>\n",
              "</svg>\n",
              "  </button>\n",
              "\n",
              "<style>\n",
              "  .colab-df-quickchart {\n",
              "      --bg-color: #E8F0FE;\n",
              "      --fill-color: #1967D2;\n",
              "      --hover-bg-color: #E2EBFA;\n",
              "      --hover-fill-color: #174EA6;\n",
              "      --disabled-fill-color: #AAA;\n",
              "      --disabled-bg-color: #DDD;\n",
              "  }\n",
              "\n",
              "  [theme=dark] .colab-df-quickchart {\n",
              "      --bg-color: #3B4455;\n",
              "      --fill-color: #D2E3FC;\n",
              "      --hover-bg-color: #434B5C;\n",
              "      --hover-fill-color: #FFFFFF;\n",
              "      --disabled-bg-color: #3B4455;\n",
              "      --disabled-fill-color: #666;\n",
              "  }\n",
              "\n",
              "  .colab-df-quickchart {\n",
              "    background-color: var(--bg-color);\n",
              "    border: none;\n",
              "    border-radius: 50%;\n",
              "    cursor: pointer;\n",
              "    display: none;\n",
              "    fill: var(--fill-color);\n",
              "    height: 32px;\n",
              "    padding: 0;\n",
              "    width: 32px;\n",
              "  }\n",
              "\n",
              "  .colab-df-quickchart:hover {\n",
              "    background-color: var(--hover-bg-color);\n",
              "    box-shadow: 0 1px 2px rgba(60, 64, 67, 0.3), 0 1px 3px 1px rgba(60, 64, 67, 0.15);\n",
              "    fill: var(--button-hover-fill-color);\n",
              "  }\n",
              "\n",
              "  .colab-df-quickchart-complete:disabled,\n",
              "  .colab-df-quickchart-complete:disabled:hover {\n",
              "    background-color: var(--disabled-bg-color);\n",
              "    fill: var(--disabled-fill-color);\n",
              "    box-shadow: none;\n",
              "  }\n",
              "\n",
              "  .colab-df-spinner {\n",
              "    border: 2px solid var(--fill-color);\n",
              "    border-color: transparent;\n",
              "    border-bottom-color: var(--fill-color);\n",
              "    animation:\n",
              "      spin 1s steps(1) infinite;\n",
              "  }\n",
              "\n",
              "  @keyframes spin {\n",
              "    0% {\n",
              "      border-color: transparent;\n",
              "      border-bottom-color: var(--fill-color);\n",
              "      border-left-color: var(--fill-color);\n",
              "    }\n",
              "    20% {\n",
              "      border-color: transparent;\n",
              "      border-left-color: var(--fill-color);\n",
              "      border-top-color: var(--fill-color);\n",
              "    }\n",
              "    30% {\n",
              "      border-color: transparent;\n",
              "      border-left-color: var(--fill-color);\n",
              "      border-top-color: var(--fill-color);\n",
              "      border-right-color: var(--fill-color);\n",
              "    }\n",
              "    40% {\n",
              "      border-color: transparent;\n",
              "      border-right-color: var(--fill-color);\n",
              "      border-top-color: var(--fill-color);\n",
              "    }\n",
              "    60% {\n",
              "      border-color: transparent;\n",
              "      border-right-color: var(--fill-color);\n",
              "    }\n",
              "    80% {\n",
              "      border-color: transparent;\n",
              "      border-right-color: var(--fill-color);\n",
              "      border-bottom-color: var(--fill-color);\n",
              "    }\n",
              "    90% {\n",
              "      border-color: transparent;\n",
              "      border-bottom-color: var(--fill-color);\n",
              "    }\n",
              "  }\n",
              "</style>\n",
              "\n",
              "  <script>\n",
              "    async function quickchart(key) {\n",
              "      const quickchartButtonEl =\n",
              "        document.querySelector('#' + key + ' button');\n",
              "      quickchartButtonEl.disabled = true;  // To prevent multiple clicks.\n",
              "      quickchartButtonEl.classList.add('colab-df-spinner');\n",
              "      try {\n",
              "        const charts = await google.colab.kernel.invokeFunction(\n",
              "            'suggestCharts', [key], {});\n",
              "      } catch (error) {\n",
              "        console.error('Error during call to suggestCharts:', error);\n",
              "      }\n",
              "      quickchartButtonEl.classList.remove('colab-df-spinner');\n",
              "      quickchartButtonEl.classList.add('colab-df-quickchart-complete');\n",
              "    }\n",
              "    (() => {\n",
              "      let quickchartButtonEl =\n",
              "        document.querySelector('#df-b6cc9217-ed18-44e4-b8eb-9c311f46e844 button');\n",
              "      quickchartButtonEl.style.display =\n",
              "        google.colab.kernel.accessAllowed ? 'block' : 'none';\n",
              "    })();\n",
              "  </script>\n",
              "</div>\n",
              "\n",
              "  <div id=\"id_1e389acc-8af5-4f2c-9bf9-12d683d05711\">\n",
              "    <style>\n",
              "      .colab-df-generate {\n",
              "        background-color: #E8F0FE;\n",
              "        border: none;\n",
              "        border-radius: 50%;\n",
              "        cursor: pointer;\n",
              "        display: none;\n",
              "        fill: #1967D2;\n",
              "        height: 32px;\n",
              "        padding: 0 0 0 0;\n",
              "        width: 32px;\n",
              "      }\n",
              "\n",
              "      .colab-df-generate:hover {\n",
              "        background-color: #E2EBFA;\n",
              "        box-shadow: 0px 1px 2px rgba(60, 64, 67, 0.3), 0px 1px 3px 1px rgba(60, 64, 67, 0.15);\n",
              "        fill: #174EA6;\n",
              "      }\n",
              "\n",
              "      [theme=dark] .colab-df-generate {\n",
              "        background-color: #3B4455;\n",
              "        fill: #D2E3FC;\n",
              "      }\n",
              "\n",
              "      [theme=dark] .colab-df-generate:hover {\n",
              "        background-color: #434B5C;\n",
              "        box-shadow: 0px 1px 3px 1px rgba(0, 0, 0, 0.15);\n",
              "        filter: drop-shadow(0px 1px 2px rgba(0, 0, 0, 0.3));\n",
              "        fill: #FFFFFF;\n",
              "      }\n",
              "    </style>\n",
              "    <button class=\"colab-df-generate\" onclick=\"generateWithVariable('predictions')\"\n",
              "            title=\"Generate code using this dataframe.\"\n",
              "            style=\"display:none;\">\n",
              "\n",
              "  <svg xmlns=\"http://www.w3.org/2000/svg\" height=\"24px\"viewBox=\"0 0 24 24\"\n",
              "       width=\"24px\">\n",
              "    <path d=\"M7,19H8.4L18.45,9,17,7.55,7,17.6ZM5,21V16.75L18.45,3.32a2,2,0,0,1,2.83,0l1.4,1.43a1.91,1.91,0,0,1,.58,1.4,1.91,1.91,0,0,1-.58,1.4L9.25,21ZM18.45,9,17,7.55Zm-12,3A5.31,5.31,0,0,0,4.9,8.1,5.31,5.31,0,0,0,1,6.5,5.31,5.31,0,0,0,4.9,4.9,5.31,5.31,0,0,0,6.5,1,5.31,5.31,0,0,0,8.1,4.9,5.31,5.31,0,0,0,12,6.5,5.46,5.46,0,0,0,6.5,12Z\"/>\n",
              "  </svg>\n",
              "    </button>\n",
              "    <script>\n",
              "      (() => {\n",
              "      const buttonEl =\n",
              "        document.querySelector('#id_1e389acc-8af5-4f2c-9bf9-12d683d05711 button.colab-df-generate');\n",
              "      buttonEl.style.display =\n",
              "        google.colab.kernel.accessAllowed ? 'block' : 'none';\n",
              "\n",
              "      buttonEl.onclick = () => {\n",
              "        google.colab.notebook.generateWithVariable('predictions');\n",
              "      }\n",
              "      })();\n",
              "    </script>\n",
              "  </div>\n",
              "\n",
              "    </div>\n",
              "  </div>\n"
            ],
            "application/vnd.google.colaboratory.intrinsic+json": {
              "type": "dataframe",
              "variable_name": "predictions",
              "summary": "{\n  \"name\": \"predictions\",\n  \"rows\": 565,\n  \"fields\": [\n    {\n      \"column\": \"hazard-category\",\n      \"properties\": {\n        \"dtype\": \"category\",\n        \"num_unique_values\": 8,\n        \"samples\": [\n          \"allergens\",\n          \"fraud\",\n          \"biological\"\n        ],\n        \"semantic_type\": \"\",\n        \"description\": \"\"\n      }\n    },\n    {\n      \"column\": \"product-category\",\n      \"properties\": {\n        \"dtype\": \"category\",\n        \"num_unique_values\": 17,\n        \"samples\": [\n          \"meat, egg and dairy products\",\n          \"ices and desserts\",\n          \"alcoholic beverages\"\n        ],\n        \"semantic_type\": \"\",\n        \"description\": \"\"\n      }\n    },\n    {\n      \"column\": \"hazard\",\n      \"properties\": {\n        \"dtype\": \"category\",\n        \"num_unique_values\": 63,\n        \"samples\": [\n          \"cronobacter spp\",\n          \"cyclospora\",\n          \"listeria monocytogenes\"\n        ],\n        \"semantic_type\": \"\",\n        \"description\": \"\"\n      }\n    },\n    {\n      \"column\": \"product\",\n      \"properties\": {\n        \"dtype\": \"category\",\n        \"num_unique_values\": 84,\n        \"samples\": [\n          \"oysters\",\n          \"ham\",\n          \"ginger powder\"\n        ],\n        \"semantic_type\": \"\",\n        \"description\": \"\"\n      }\n    }\n  ]\n}"
            }
          },
          "metadata": {},
          "execution_count": 14
        }
      ]
    },
    {
      "cell_type": "markdown",
      "source": [
        "# Create the submission folder and archive the results\n",
        "Finally, predictions and models are saved into a submission directory for easy sharing or evaluation.\n"
      ],
      "metadata": {
        "id": "z5p7qVnA0Gc4"
      }
    },
    {
      "cell_type": "code",
      "source": [
        "import os\n",
        "from shutil import make_archive\n",
        "import pandas as pd\n",
        "from google.colab import drive\n",
        "\n",
        "# Define the Google Drive path where you want to save the files\n",
        "output_folder = '/content/drive/MyDrive/submission_finetunedPUBMEDBERT/'\n",
        "\n",
        "# Create the folder in Google Drive if it doesn't exist\n",
        "os.makedirs(output_folder, exist_ok=True)\n",
        "\n",
        "# Save predictions to a CSV file named 'submission.csv' inside the folder\n",
        "predictions.to_csv(f'{output_folder}submission.csv', index=False)\n",
        "\n",
        "# Zip the folder for submission\n",
        "make_archive(output_folder, 'zip', output_folder)\n",
        "\n",
        "# Print confirmation message\n",
        "print(f\"Submission saved to Google Drive at {output_folder}\")\n"
      ],
      "metadata": {
        "colab": {
          "base_uri": "https://localhost:8080/"
        },
        "id": "REr-ySES0FHE",
        "outputId": "4b6d1bea-0166-4d5c-b42d-38f3c569859d"
      },
      "execution_count": 15,
      "outputs": [
        {
          "output_type": "stream",
          "name": "stdout",
          "text": [
            "Submission saved to Google Drive at /content/drive/MyDrive/submission_finetunedPUBMEDBERT/\n"
          ]
        }
      ]
    },
    {
      "cell_type": "code",
      "source": [],
      "metadata": {
        "id": "yEogtaRESEke"
      },
      "execution_count": null,
      "outputs": []
    }
  ]
}
