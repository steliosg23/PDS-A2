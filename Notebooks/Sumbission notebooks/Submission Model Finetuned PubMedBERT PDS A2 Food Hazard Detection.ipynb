{
  "nbformat": 4,
  "nbformat_minor": 0,
  "metadata": {
    "colab": {
      "provenance": [],
      "gpuType": "A100"
    },
    "kernelspec": {
      "name": "python3",
      "display_name": "Python 3"
    },
    "language_info": {
      "name": "python"
    },
    "accelerator": "GPU"
  },
  "cells": [
    {
      "cell_type": "markdown",
      "metadata": {
        "id": "view-in-github"
      },
      "source": [
        "<a href=\"https://colab.research.google.com/github/steliosg23/PDS-A2/blob/main/SUBMISSION%20Finetuned%20PubMedBERT%20PDS%20A2%20Food%20Hazard%20Detection.ipynb\" target=\"_parent\"><img src=\"https://colab.research.google.com/assets/colab-badge.svg\" alt=\"Open In Colab\"/></a>"
      ]
    },
    {
      "cell_type": "markdown",
      "source": [
        "# Install necessary packages and import libraries\n",
        "This section includes all the necessary imports for data manipulation, model training, and evaluation.\n",
        "It also imports libraries for handling tokenization, model configuration, and metrics.\n"
      ],
      "metadata": {
        "id": "Up2bFjloyvaZ"
      }
    },
    {
      "cell_type": "code",
      "source": [
        "from google.colab import drive\n",
        "import pandas as pd\n",
        "import torch\n",
        "import re\n",
        "from sklearn.model_selection import train_test_split\n",
        "from sklearn.metrics import f1_score, classification_report\n",
        "from transformers import AutoTokenizer, AutoModelForSequenceClassification\n",
        "from torch.utils.data import DataLoader, Dataset\n",
        "import torch.nn as nn\n",
        "import torch.optim as optim\n",
        "from sklearn.preprocessing import LabelEncoder\n",
        "from tqdm import tqdm\n",
        "import os\n",
        "from shutil import make_archive\n",
        "import numpy as np\n",
        "from sklearn.utils.class_weight import compute_class_weight\n",
        "from torch.optim.lr_scheduler import ReduceLROnPlateau"
      ],
      "metadata": {
        "id": "ySpgDtU5ywQM"
      },
      "execution_count": null,
      "outputs": []
    },
    {
      "cell_type": "markdown",
      "source": [
        "# Mount Google Drive\n"
      ],
      "metadata": {
        "id": "MIYvD2xxyzL8"
      }
    },
    {
      "cell_type": "code",
      "source": [
        "drive.mount('/content/drive')\n"
      ],
      "metadata": {
        "colab": {
          "base_uri": "https://localhost:8080/"
        },
        "id": "YiM_6Z68yxJ6",
        "outputId": "f574d4fe-0a6c-4bc0-ab7e-26f93c75a45d"
      },
      "execution_count": null,
      "outputs": [
        {
          "output_type": "stream",
          "name": "stdout",
          "text": [
            "Drive already mounted at /content/drive; to attempt to forcibly remount, call drive.mount(\"/content/drive\", force_remount=True).\n"
          ]
        }
      ]
    },
    {
      "cell_type": "markdown",
      "source": [
        "# Load and preview the training dataset\n",
        "The dataset containing incident reports is loaded from Google Drive.\n",
        "We remove any unnecessary columns like 'Unnamed: 0'.\n"
      ],
      "metadata": {
        "id": "g2q92Do-y2W9"
      }
    },
    {
      "cell_type": "code",
      "source": [
        "train_path = '/content/drive/MyDrive/Data/incidents_train.csv'\n",
        "df = pd.read_csv(train_path)\n",
        "df = df.drop(columns=['Unnamed: 0'])\n"
      ],
      "metadata": {
        "id": "ncSsiInty1G9"
      },
      "execution_count": null,
      "outputs": []
    },
    {
      "cell_type": "markdown",
      "source": [
        "# Define a function to clean text data\n",
        "This function removes special characters, converts text to lowercase, and strips extra whitespace.\n",
        "It is essential to clean the text data for better model performance.\n"
      ],
      "metadata": {
        "id": "KDS28Uk-zNPU"
      }
    },
    {
      "cell_type": "code",
      "source": [
        "import re\n",
        "\n",
        "def clean_text(text):\n",
        "    text = re.sub(r'[^a-zA-Z0-9\\s]', '', text)  # Remove non-alphanumeric characters\n",
        "    text = text.lower()  # Convert text to lowercase\n",
        "    text = ' '.join(text.split())  # Remove extra spaces\n",
        "    return text\n"
      ],
      "metadata": {
        "id": "DxuoSFEUy3rX"
      },
      "execution_count": null,
      "outputs": []
    },
    {
      "cell_type": "markdown",
      "source": [
        "# Clean the text data and load the tokenizer\n",
        "We apply the `clean_text` function to clean the 'text' column of the dataset.\n",
        "Then, we initialize the PubMedBERT tokenizer to prepare for tokenization.\n"
      ],
      "metadata": {
        "id": "jBAtfWSgzROT"
      }
    },
    {
      "cell_type": "code",
      "source": [
        "# Load the tokenizer for the PubMedBERT model, specifically fine-tuned for biomedical text\n",
        "tokenizer = AutoTokenizer.from_pretrained(\"microsoft/BiomedNLP-PubMedBERT-base-uncased-abstract\")\n",
        "\n",
        "# Apply the text cleaning function to the 'text' column in the DataFrame\n",
        "# This function will preprocess each text entry by removing unwanted characters, stopwords, etc.\n",
        "df['text'] = df['text'].apply(clean_text)\n"
      ],
      "metadata": {
        "colab": {
          "base_uri": "https://localhost:8080/"
        },
        "id": "E0Gy9-3ezQVb",
        "outputId": "f14291b9-8aee-4f35-fe58-a0cdc1be89b1"
      },
      "execution_count": null,
      "outputs": [
        {
          "output_type": "stream",
          "name": "stderr",
          "text": [
            "/usr/local/lib/python3.10/dist-packages/huggingface_hub/utils/_auth.py:94: UserWarning: \n",
            "The secret `HF_TOKEN` does not exist in your Colab secrets.\n",
            "To authenticate with the Hugging Face Hub, create a token in your settings tab (https://huggingface.co/settings/tokens), set it as secret in your Google Colab and restart your session.\n",
            "You will be able to reuse this secret in all of your notebooks.\n",
            "Please note that authentication is recommended but still optional to access public models or datasets.\n",
            "  warnings.warn(\n"
          ]
        }
      ]
    },
    {
      "cell_type": "markdown",
      "source": [
        "# Define features and targets for classification tasks\n",
        "We specify the input features like date and country and set the classification targets.\n",
        "\n"
      ],
      "metadata": {
        "id": "p6hPAUKozWMw"
      }
    },
    {
      "cell_type": "code",
      "source": [
        "# Define the features for the model, which include the year, month, day, and country information\n",
        "features = ['year', 'month', 'day', 'country']\n",
        "\n",
        "# Define the target variables for Subtask 1, which are the hazard-category and product-category\n",
        "targets_subtask1 = ['hazard-category', 'product-category']\n",
        "\n",
        "# Define the target variables for Subtask 2, which are hazard and product\n",
        "# Add other targets if necessary depending on the task\n",
        "targets_subtask2 = ['hazard', 'product']\n"
      ],
      "metadata": {
        "id": "kvkxIfuvzU3Z"
      },
      "execution_count": null,
      "outputs": []
    },
    {
      "cell_type": "markdown",
      "source": [
        "# Encode target labels\n",
        "For classification, target labels need to be encoded as numeric values.\n",
        "We use `LabelEncoder` to convert categorical labels into integers.\n"
      ],
      "metadata": {
        "id": "-hn5LTh_zjI2"
      }
    },
    {
      "cell_type": "code",
      "source": [
        "# Create an empty dictionary to store label encoders for each target\n",
        "label_encoders = {}\n",
        "\n",
        "# Iterate over both sets of targets (Subtask 1 and Subtask 2)\n",
        "for target in targets_subtask1 + targets_subtask2:\n",
        "    # Initialize a LabelEncoder for each target\n",
        "    le = LabelEncoder()\n",
        "\n",
        "    # Transform the target column values into numeric labels and update the DataFrame\n",
        "    df[target] = le.fit_transform(df[target])\n",
        "\n",
        "    # Store the fitted LabelEncoder in the dictionary for future use (e.g., inverse transformation)\n",
        "    label_encoders[target] = le\n"
      ],
      "metadata": {
        "id": "8Wd6N94wziDV"
      },
      "execution_count": null,
      "outputs": []
    },
    {
      "cell_type": "markdown",
      "source": [
        "# Define a custom PyTorch dataset for text classification\n",
        "This dataset class will handle text tokenization and label processing.\n",
        "It ensures the text is properly encoded, padded, and truncated to a fixed length for the model.\n"
      ],
      "metadata": {
        "id": "kdnDHxmlzpCm"
      }
    },
    {
      "cell_type": "code",
      "source": [
        "# Define a custom Dataset class for text data\n",
        "class TextDataset(Dataset):\n",
        "    # Initialize the dataset with texts, labels, tokenizer, and maximum sequence length\n",
        "    def __init__(self, texts, labels, tokenizer, max_len):\n",
        "        self.texts = texts  # List of input texts\n",
        "        self.labels = labels  # List of corresponding labels\n",
        "        self.tokenizer = tokenizer  # Tokenizer for encoding the text\n",
        "        self.max_len = max_len  # Maximum length for padding/truncation\n",
        "\n",
        "    # Define the length of the dataset (number of samples)\n",
        "    def __len__(self):\n",
        "        return len(self.texts)\n",
        "\n",
        "    # Define how to retrieve a single item from the dataset\n",
        "    def __getitem__(self, item):\n",
        "        text = str(self.texts[item])  # Get the text for the given index\n",
        "        label = self.labels[item]  # Get the label for the given index\n",
        "\n",
        "        # Use the tokenizer to encode the text (add special tokens, padding, truncation)\n",
        "        encoding = self.tokenizer.encode_plus(\n",
        "            text,\n",
        "            add_special_tokens=True,  # Add special tokens (e.g., [CLS], [SEP])\n",
        "            max_length=self.max_len,  # Limit the sequence length\n",
        "            padding='max_length',  # Pad sequences to max_length\n",
        "            truncation=True,  # Truncate longer sequences\n",
        "            return_tensors='pt'  # Return PyTorch tensors\n",
        "        )\n",
        "\n",
        "        # Return a dictionary with input_ids, attention_mask, and label\n",
        "        return {\n",
        "            'input_ids': encoding['input_ids'].flatten(),  # Flatten the tensor\n",
        "            'attention_mask': encoding['attention_mask'].flatten(),  # Flatten the attention mask\n",
        "            'label': torch.tensor(label, dtype=torch.long)  # Convert label to a tensor\n",
        "        }\n"
      ],
      "metadata": {
        "id": "wkzzsS2Gzk9L"
      },
      "execution_count": null,
      "outputs": []
    },
    {
      "cell_type": "markdown",
      "source": [
        "# Split the data into training and testing sets\n",
        "We split the dataset into training and testing sets for each target.\n",
        "This ensures that the model is trained on one set and evaluated on a separate, unseen set.\n"
      ],
      "metadata": {
        "id": "SbkXM6pdzsmb"
      }
    },
    {
      "cell_type": "code",
      "source": [
        "# Define a function to prepare data for model training, validation, and testing\n",
        "def prepare_data(text_column):\n",
        "    # Extract features and text column from the DataFrame\n",
        "    X = df[features + [text_column]]  # Features include specified columns plus the text column\n",
        "    # Extract target variables for Subtask 1 and Subtask 2\n",
        "    y_subtask1 = df[targets_subtask1]\n",
        "    y_subtask2 = df[targets_subtask2]\n",
        "\n",
        "    # Initialize a dictionary to store data splits for each target\n",
        "    data_splits = {}\n",
        "\n",
        "    # Iterate over both sets of target variables (Subtask 1 and Subtask 2)\n",
        "    for target in targets_subtask1 + targets_subtask2:\n",
        "        # Split the data into training (70%), validation (20%), and testing (10%) sets\n",
        "        X_train, X_temp, y_train, y_temp = train_test_split(\n",
        "            X, df[target], test_size=0.3, random_state=42\n",
        "        )\n",
        "        X_valid, X_test, y_valid, y_test = train_test_split(\n",
        "            X_temp, y_temp, test_size=0.33, random_state=42  # This gives approximately 10% test and 20% validation\n",
        "        )\n",
        "\n",
        "        # Reset the indices for the train, validation, and test sets\n",
        "        X_train = X_train.reset_index(drop=True)\n",
        "        y_train = y_train.reset_index(drop=True)\n",
        "        X_valid = X_valid.reset_index(drop=True)\n",
        "        y_valid = y_valid.reset_index(drop=True)\n",
        "        X_test = X_test.reset_index(drop=True)\n",
        "        y_test = y_test.reset_index(drop=True)\n",
        "\n",
        "        # Store the splits for the current target in the dictionary\n",
        "        data_splits[target] = (X_train, X_valid, X_test, y_train, y_valid, y_test)\n",
        "\n",
        "    # Return the dictionary containing data splits for each target\n",
        "    return data_splits"
      ],
      "metadata": {
        "id": "dSuyInwzzrYc"
      },
      "execution_count": null,
      "outputs": []
    },
    {
      "cell_type": "markdown",
      "source": [
        "# Prepare the data splits for text-based tasks\n",
        "We apply the `prepare_data` function specifically for text tasks and save the splits for later use.\n"
      ],
      "metadata": {
        "id": "gFhciBb6zvnJ"
      }
    },
    {
      "cell_type": "code",
      "source": [
        "# Prepare the data splits for the 'text' column using the prepare_data function\n",
        "text_splits = prepare_data('text')\n"
      ],
      "metadata": {
        "id": "Y7o-Gi7vzuZR"
      },
      "execution_count": null,
      "outputs": []
    },
    {
      "cell_type": "markdown",
      "source": [
        "# Set model configuration and define the device\n",
        "Here, we configure key parameters for training like maximum sequence length, batch size, and learning rate.\n",
        "We also determine whether to use GPU or CPU for training based on availability.\n"
      ],
      "metadata": {
        "id": "hEJgXRNIzybH"
      }
    },
    {
      "cell_type": "code",
      "source": [
        "# Define configuration settings for the model training\n",
        "config = {\n",
        "    'max_len': 512,  # Maximum sequence length for input texts\n",
        "    'batch_size': 16,  # Batch size for training\n",
        "    'learning_rate': 2e-5,  # Learning rate for the optimizer\n",
        "    'epochs': 30,  # Increased number of training epochs\n",
        "    'model_name': \"microsoft/BiomedNLP-PubMedBERT-base-uncased-abstract\"  # Pre-trained model to use\n",
        "}\n",
        "\n",
        "\n",
        "\n",
        "# Determine the device to use for training (GPU if available, otherwise CPU)\n",
        "device = torch.device('cuda' if torch.cuda.is_available() else 'cpu')\n",
        "print(f\"Using device: {device}\")\n"
      ],
      "metadata": {
        "colab": {
          "base_uri": "https://localhost:8080/"
        },
        "id": "4TetF1XIzxU8",
        "outputId": "4bc31a56-6c1a-4c44-f305-acb317f25b40"
      },
      "execution_count": null,
      "outputs": [
        {
          "output_type": "stream",
          "name": "stdout",
          "text": [
            "Using device: cuda\n"
          ]
        }
      ]
    },
    {
      "cell_type": "markdown",
      "source": [
        "# Train and evaluate the model for each task\n",
        "This function performs model training and evaluation for each target.\n",
        "It uses a neural network to predict labels and calculates the F1 score for evaluation.\n"
      ],
      "metadata": {
        "id": "u22f8LM6z26I"
      }
    },
    {
      "cell_type": "code",
      "source": [
        "# Train and evaluate the neural network for each target task\n",
        "def train_and_evaluate_bert(data_splits, targets):\n",
        "    # Initialize an empty list to store F1 scores for each target task\n",
        "    f1_scores = []\n",
        "\n",
        "    # Loop through each target (task) for training and evaluation\n",
        "    for target in targets:\n",
        "        print(f\"\\nStarting training for task: {target}\")\n",
        "\n",
        "        # Retrieve the corresponding training, validation, and testing splits\n",
        "        X_train, X_valid, X_test, y_train, y_valid, y_test = data_splits[target]\n",
        "\n",
        "        # Extract the 'text' column for training, validation, and testing\n",
        "        texts_train = X_train['text'].values\n",
        "        texts_valid = X_valid['text'].values\n",
        "        texts_test = X_test['text'].values\n",
        "\n",
        "        # Create datasets for training, validation, and testing\n",
        "        train_dataset = TextDataset(texts_train, y_train, tokenizer, config['max_len'])\n",
        "        valid_dataset = TextDataset(texts_valid, y_valid, tokenizer, config['max_len'])\n",
        "        test_dataset = TextDataset(texts_test, y_test, tokenizer, config['max_len'])\n",
        "\n",
        "        # Create data loaders for batching during training, validation, and testing\n",
        "        train_loader = DataLoader(train_dataset, batch_size=config['batch_size'], shuffle=True)\n",
        "        valid_loader = DataLoader(valid_dataset, batch_size=config['batch_size'], shuffle=False)\n",
        "        test_loader = DataLoader(test_dataset, batch_size=config['batch_size'], shuffle=False)\n",
        "\n",
        "        # Determine the number of labels for classification dynamically based on the target task\n",
        "        num_classes = len(label_encoders[target].classes_)  # This gives the number of unique classes for the current task\n",
        "\n",
        "        # Calculate class weights for CrossEntropyLoss\n",
        "        class_weights = compute_class_weight(\n",
        "            'balanced',\n",
        "            classes=np.unique(y_train),\n",
        "            y=y_train\n",
        "        )\n",
        "\n",
        "        # Initialize the full class weights tensor with 1 (or any other default weight)\n",
        "        class_weights_full = torch.ones(num_classes)  # Start with all weights equal to 1\n",
        "\n",
        "        # Map the computed class weights to the appropriate indices for the classes that exist in the training set\n",
        "        for i, class_idx in enumerate(np.unique(y_train)):\n",
        "            class_weights_full[class_idx] = class_weights[i]\n",
        "\n",
        "        # Move the class weights tensor to the correct device (GPU/CPU)\n",
        "        class_weights_full = class_weights_full.to(device)\n",
        "\n",
        "        # Load the pre-trained model with the appropriate number of labels for classification\n",
        "        model = AutoModelForSequenceClassification.from_pretrained(config['model_name'], num_labels=num_classes).to(device)\n",
        "\n",
        "        # Initialize the optimizer, loss function (with class weights), and learning rate scheduler\n",
        "        optimizer = optim.Adam(model.parameters(), lr=config['learning_rate'])\n",
        "        scheduler = ReduceLROnPlateau(optimizer, 'min', factor=0.5, patience=2, verbose=True)\n",
        "        criterion = nn.CrossEntropyLoss(weight=class_weights_full)\n",
        "\n",
        "        # Early stopping setup\n",
        "        best_val_loss = float('inf')\n",
        "        best_epoch = 0\n",
        "        patience = 10  # Number of epochs with no improvement before stopping\n",
        "        epochs_without_improvement = 0\n",
        "        best_model = None  # Variable to hold the best model\n",
        "\n",
        "        # Training loop\n",
        "        model.train()\n",
        "        for epoch in range(config['epochs']):\n",
        "            print(f\"Epoch {epoch+1}/{config['epochs']} - Training: {target}\")\n",
        "            progress_bar = tqdm(train_loader, desc=f\"Training Epoch {epoch+1}\", total=len(train_loader), leave=True)\n",
        "            for batch in progress_bar:\n",
        "                optimizer.zero_grad()\n",
        "\n",
        "                # Get the input data and labels for the current batch\n",
        "                input_ids = batch['input_ids'].squeeze(1).to(device)\n",
        "                attention_mask = batch['attention_mask'].squeeze(1).to(device)\n",
        "                labels = batch['label'].to(device)\n",
        "\n",
        "                # Forward pass\n",
        "                outputs = model(input_ids, attention_mask=attention_mask)\n",
        "                loss = criterion(outputs.logits, labels)\n",
        "\n",
        "                # Backward pass and optimization step\n",
        "                loss.backward()\n",
        "                optimizer.step()\n",
        "\n",
        "                # Update the progress bar with the current loss\n",
        "                progress_bar.set_postfix(loss=loss.item())\n",
        "\n",
        "            # Print the current learning rate\n",
        "            current_lr = optimizer.param_groups[0]['lr']\n",
        "            print(f\"Learning rate after epoch {epoch+1}: {current_lr}\")\n",
        "\n",
        "            # Validation step\n",
        "            model.eval()\n",
        "            val_loss = 0\n",
        "            val_steps = 0\n",
        "            val_preds = []\n",
        "            val_true = []\n",
        "            with torch.no_grad():\n",
        "                for batch in valid_loader:\n",
        "                    input_ids = batch['input_ids'].squeeze(1).to(device)\n",
        "                    attention_mask = batch['attention_mask'].squeeze(1).to(device)\n",
        "                    labels = batch['label'].to(device)\n",
        "\n",
        "                    # Forward pass\n",
        "                    outputs = model(input_ids, attention_mask=attention_mask)\n",
        "                    loss = criterion(outputs.logits, labels)\n",
        "\n",
        "                    val_loss += loss.item()\n",
        "                    val_steps += 1\n",
        "\n",
        "                    # Collect true labels and predictions for F1 score calculation\n",
        "                    _, preds = torch.max(outputs.logits, dim=1)\n",
        "                    val_preds.extend(preds.cpu().numpy())\n",
        "                    val_true.extend(labels.cpu().numpy())\n",
        "\n",
        "            # Calculate average validation loss\n",
        "            avg_val_loss = val_loss / val_steps\n",
        "            print(f\"Validation Loss after Epoch {epoch+1}: {avg_val_loss}\")\n",
        "\n",
        "            # Calculate and print Macro F1 score for validation\n",
        "            macro_f1 = f1_score(val_true, val_preds, average='macro')\n",
        "            print(f\"Validation Macro F1 Score after Epoch {epoch+1}: {macro_f1}\")\n",
        "\n",
        "            # Apply learning rate scheduler\n",
        "            scheduler.step(avg_val_loss)\n",
        "\n",
        "            # Save the model if it has the best validation loss so far\n",
        "            if avg_val_loss < best_val_loss:\n",
        "                best_val_loss = avg_val_loss\n",
        "                best_epoch = epoch + 1\n",
        "                epochs_without_improvement = 0\n",
        "                # Save the model and tokenizer\n",
        "                best_model = model.state_dict()  # Save model weights\n",
        "                print(f\"New best model found. Saving the model at epoch {best_epoch}.\")\n",
        "            else:\n",
        "                epochs_without_improvement += 1\n",
        "                if epochs_without_improvement >= patience:\n",
        "                    print(\"Early stopping triggered!\")\n",
        "                    break\n",
        "\n",
        "        # After training, save the best model\n",
        "        if best_model:\n",
        "            print(f\"Saving the best model from epoch {best_epoch}.\")\n",
        "            model.load_state_dict(best_model)  # Restore the best model\n",
        "            model.save_pretrained(f'./best_model_{target}')\n",
        "            tokenizer.save_pretrained(f'./best_model_{target}')\n",
        "        else:\n",
        "            print(\"No improvement in validation loss. No model saved.\")\n",
        "\n",
        "        # Evaluate the model on the test set\n",
        "        print(f\"Evaluating model for task: {target}\")\n",
        "        model.eval()\n",
        "        y_preds = []\n",
        "        y_true = []\n",
        "\n",
        "        # Evaluate without computing gradients\n",
        "        with torch.no_grad():\n",
        "            for batch in tqdm(test_loader, desc=\"Evaluating\", total=len(test_loader), leave=True):\n",
        "                input_ids = batch['input_ids'].squeeze(1).to(device)\n",
        "                attention_mask = batch['attention_mask'].squeeze(1).to(device)\n",
        "                labels = batch['label'].to(device)\n",
        "\n",
        "                # Forward pass\n",
        "                outputs = model(input_ids, attention_mask=attention_mask)\n",
        "\n",
        "                # Get predictions and append them to the list\n",
        "                _, preds = torch.max(outputs.logits, dim=1)\n",
        "                y_preds.extend(preds.cpu().numpy())\n",
        "                y_true.extend(labels.cpu().numpy())\n",
        "\n",
        "        # Decode the predictions and true labels\n",
        "        decoded_preds = label_encoders[target].inverse_transform(y_preds)\n",
        "        decoded_true = label_encoders[target].inverse_transform(y_true)\n",
        "\n",
        "        # Calculate the macro F1 score\n",
        "        f1 = f1_score(decoded_true, decoded_preds, average='macro')\n",
        "        f1_scores.append(f1)\n",
        "        print(f\"F1-Score for {target}: {f1}\")\n",
        "\n",
        "        # Print the classification report\n",
        "        print(f\"Classification Report for {target}:\\n\")\n",
        "        print(classification_report(decoded_true, decoded_preds, zero_division=0))\n",
        "\n",
        "        # Save the label encoder for the current task\n",
        "        np.save(f'./best_model_{target}/{target}_label_encoder.npy', label_encoders[target].classes_)\n",
        "        print(f\"Label Encoder for {target} saved in './best_model_{target}'\")\n",
        "\n",
        "    # Return the F1 scores for each target task\n",
        "    return f1_scores\n",
        "\n",
        "# Train and evaluate for all targets (subtasks 1 and 2)\n",
        "text_f1_scores = train_and_evaluate_bert(text_splits, targets_subtask1 + targets_subtask2)"
      ],
      "metadata": {
        "colab": {
          "base_uri": "https://localhost:8080/"
        },
        "id": "imN-jiGRz1xV",
        "outputId": "9a5e1488-b30a-4143-8762-f520f04a4b1f"
      },
      "execution_count": null,
      "outputs": [
        {
          "output_type": "stream",
          "name": "stdout",
          "text": [
            "\n",
            "Starting training for task: hazard-category\n"
          ]
        },
        {
          "output_type": "stream",
          "name": "stderr",
          "text": [
            "Some weights of BertForSequenceClassification were not initialized from the model checkpoint at microsoft/BiomedNLP-PubMedBERT-base-uncased-abstract and are newly initialized: ['classifier.bias', 'classifier.weight']\n",
            "You should probably TRAIN this model on a down-stream task to be able to use it for predictions and inference.\n"
          ]
        },
        {
          "output_type": "stream",
          "name": "stdout",
          "text": [
            "Epoch 1/30 - Training: hazard-category\n"
          ]
        },
        {
          "output_type": "stream",
          "name": "stderr",
          "text": [
            "Training Epoch 1: 100%|██████████| 223/223 [01:15<00:00,  2.96it/s, loss=0.463]\n"
          ]
        },
        {
          "output_type": "stream",
          "name": "stdout",
          "text": [
            "Learning rate after epoch 1: 2e-05\n",
            "Validation Loss after Epoch 1: 0.9384824289008975\n",
            "Validation Macro F1 Score after Epoch 1: 0.5587439761411614\n",
            "New best model found. Saving the model at epoch 1.\n",
            "Epoch 2/30 - Training: hazard-category\n"
          ]
        },
        {
          "output_type": "stream",
          "name": "stderr",
          "text": [
            "Training Epoch 2: 100%|██████████| 223/223 [01:13<00:00,  3.05it/s, loss=3.17]\n"
          ]
        },
        {
          "output_type": "stream",
          "name": "stdout",
          "text": [
            "Learning rate after epoch 2: 2e-05\n",
            "Validation Loss after Epoch 2: 0.7329244911670685\n",
            "Validation Macro F1 Score after Epoch 2: 0.6340427245473744\n",
            "New best model found. Saving the model at epoch 2.\n",
            "Epoch 3/30 - Training: hazard-category\n"
          ]
        },
        {
          "output_type": "stream",
          "name": "stderr",
          "text": [
            "Training Epoch 3: 100%|██████████| 223/223 [01:13<00:00,  3.05it/s, loss=0.329]\n"
          ]
        },
        {
          "output_type": "stream",
          "name": "stdout",
          "text": [
            "Learning rate after epoch 3: 2e-05\n",
            "Validation Loss after Epoch 3: 0.8242765362374485\n",
            "Validation Macro F1 Score after Epoch 3: 0.6098472645479922\n",
            "Epoch 4/30 - Training: hazard-category\n"
          ]
        },
        {
          "output_type": "stream",
          "name": "stderr",
          "text": [
            "Training Epoch 4: 100%|██████████| 223/223 [01:13<00:00,  3.05it/s, loss=0.0249]\n"
          ]
        },
        {
          "output_type": "stream",
          "name": "stdout",
          "text": [
            "Learning rate after epoch 4: 2e-05\n",
            "Validation Loss after Epoch 4: 0.6147611557971686\n",
            "Validation Macro F1 Score after Epoch 4: 0.8092738177963058\n",
            "New best model found. Saving the model at epoch 4.\n",
            "Epoch 5/30 - Training: hazard-category\n"
          ]
        },
        {
          "output_type": "stream",
          "name": "stderr",
          "text": [
            "Training Epoch 5: 100%|██████████| 223/223 [01:13<00:00,  3.05it/s, loss=0.0204]\n"
          ]
        },
        {
          "output_type": "stream",
          "name": "stdout",
          "text": [
            "Learning rate after epoch 5: 2e-05\n",
            "Validation Loss after Epoch 5: 0.6068663128244225\n",
            "Validation Macro F1 Score after Epoch 5: 0.725188351652302\n",
            "New best model found. Saving the model at epoch 5.\n",
            "Epoch 6/30 - Training: hazard-category\n"
          ]
        },
        {
          "output_type": "stream",
          "name": "stderr",
          "text": [
            "Training Epoch 6: 100%|██████████| 223/223 [01:13<00:00,  3.05it/s, loss=0.0144]\n"
          ]
        },
        {
          "output_type": "stream",
          "name": "stdout",
          "text": [
            "Learning rate after epoch 6: 2e-05\n",
            "Validation Loss after Epoch 6: 0.6178242091555148\n",
            "Validation Macro F1 Score after Epoch 6: 0.7736758860062695\n",
            "Epoch 7/30 - Training: hazard-category\n"
          ]
        },
        {
          "output_type": "stream",
          "name": "stderr",
          "text": [
            "Training Epoch 7: 100%|██████████| 223/223 [01:13<00:00,  3.05it/s, loss=0.0123]\n"
          ]
        },
        {
          "output_type": "stream",
          "name": "stdout",
          "text": [
            "Learning rate after epoch 7: 2e-05\n",
            "Validation Loss after Epoch 7: 0.6915650431765243\n",
            "Validation Macro F1 Score after Epoch 7: 0.759024379088256\n",
            "Epoch 8/30 - Training: hazard-category\n"
          ]
        },
        {
          "output_type": "stream",
          "name": "stderr",
          "text": [
            "Training Epoch 8: 100%|██████████| 223/223 [01:13<00:00,  3.05it/s, loss=0.00477]\n"
          ]
        },
        {
          "output_type": "stream",
          "name": "stdout",
          "text": [
            "Learning rate after epoch 8: 2e-05\n",
            "Validation Loss after Epoch 8: 0.6429004476958653\n",
            "Validation Macro F1 Score after Epoch 8: 0.8170218853844202\n",
            "Epoch 9/30 - Training: hazard-category\n"
          ]
        },
        {
          "output_type": "stream",
          "name": "stderr",
          "text": [
            "Training Epoch 9: 100%|██████████| 223/223 [01:13<00:00,  3.05it/s, loss=0.00957]\n"
          ]
        },
        {
          "output_type": "stream",
          "name": "stdout",
          "text": [
            "Learning rate after epoch 9: 1e-05\n",
            "Validation Loss after Epoch 9: 0.663783719901403\n",
            "Validation Macro F1 Score after Epoch 9: 0.814561216472598\n",
            "Epoch 10/30 - Training: hazard-category\n"
          ]
        },
        {
          "output_type": "stream",
          "name": "stderr",
          "text": [
            "Training Epoch 10: 100%|██████████| 223/223 [01:13<00:00,  3.05it/s, loss=0.00445]\n"
          ]
        },
        {
          "output_type": "stream",
          "name": "stdout",
          "text": [
            "Learning rate after epoch 10: 1e-05\n",
            "Validation Loss after Epoch 10: 0.6653343394646072\n",
            "Validation Macro F1 Score after Epoch 10: 0.8167525165660636\n",
            "Epoch 11/30 - Training: hazard-category\n"
          ]
        },
        {
          "output_type": "stream",
          "name": "stderr",
          "text": [
            "Training Epoch 11: 100%|██████████| 223/223 [01:13<00:00,  3.05it/s, loss=0.0068]\n"
          ]
        },
        {
          "output_type": "stream",
          "name": "stdout",
          "text": [
            "Learning rate after epoch 11: 1e-05\n",
            "Validation Loss after Epoch 11: 0.6780790077973506\n",
            "Validation Macro F1 Score after Epoch 11: 0.8119429376230991\n",
            "Epoch 12/30 - Training: hazard-category\n"
          ]
        },
        {
          "output_type": "stream",
          "name": "stderr",
          "text": [
            "Training Epoch 12: 100%|██████████| 223/223 [01:13<00:00,  3.05it/s, loss=0.0056]\n"
          ]
        },
        {
          "output_type": "stream",
          "name": "stdout",
          "text": [
            "Learning rate after epoch 12: 5e-06\n",
            "Validation Loss after Epoch 12: 0.6877619866718305\n",
            "Validation Macro F1 Score after Epoch 12: 0.8159647814351672\n",
            "Epoch 13/30 - Training: hazard-category\n"
          ]
        },
        {
          "output_type": "stream",
          "name": "stderr",
          "text": [
            "Training Epoch 13: 100%|██████████| 223/223 [01:13<00:00,  3.05it/s, loss=0.00345]\n"
          ]
        },
        {
          "output_type": "stream",
          "name": "stdout",
          "text": [
            "Learning rate after epoch 13: 5e-06\n",
            "Validation Loss after Epoch 13: 0.6954912872424757\n",
            "Validation Macro F1 Score after Epoch 13: 0.816647144049085\n",
            "Epoch 14/30 - Training: hazard-category\n"
          ]
        },
        {
          "output_type": "stream",
          "name": "stderr",
          "text": [
            "Training Epoch 14: 100%|██████████| 223/223 [01:13<00:00,  3.05it/s, loss=0.00947]\n"
          ]
        },
        {
          "output_type": "stream",
          "name": "stdout",
          "text": [
            "Learning rate after epoch 14: 5e-06\n",
            "Validation Loss after Epoch 14: 0.7036524026807456\n",
            "Validation Macro F1 Score after Epoch 14: 0.816647144049085\n",
            "Epoch 15/30 - Training: hazard-category\n"
          ]
        },
        {
          "output_type": "stream",
          "name": "stderr",
          "text": [
            "Training Epoch 15: 100%|██████████| 223/223 [01:13<00:00,  3.05it/s, loss=0.00884]\n"
          ]
        },
        {
          "output_type": "stream",
          "name": "stdout",
          "text": [
            "Learning rate after epoch 15: 2.5e-06\n",
            "Validation Loss after Epoch 15: 0.7087633764458587\n",
            "Validation Macro F1 Score after Epoch 15: 0.814824892920131\n",
            "Early stopping triggered!\n",
            "Saving the best model from epoch 5.\n",
            "Evaluating model for task: hazard-category\n"
          ]
        },
        {
          "output_type": "stream",
          "name": "stderr",
          "text": [
            "Evaluating: 100%|██████████| 32/32 [00:04<00:00,  7.91it/s]\n"
          ]
        },
        {
          "output_type": "stream",
          "name": "stdout",
          "text": [
            "F1-Score for hazard-category: 0.7486717750824723\n",
            "Classification Report for hazard-category:\n",
            "\n",
            "                                precision    recall  f1-score   support\n",
            "\n",
            "                     allergens       0.97      0.97      0.97       179\n",
            "                    biological       0.98      0.97      0.97       178\n",
            "                      chemical       0.88      0.93      0.90        30\n",
            "food additives and flavourings       0.00      0.00      0.00         1\n",
            "                foreign bodies       0.98      0.98      0.98        60\n",
            "                         fraud       0.69      0.73      0.71        30\n",
            "          organoleptic aspects       0.62      1.00      0.77         5\n",
            "                  other hazard       0.89      0.67      0.76        12\n",
            "              packaging defect       0.83      0.56      0.67         9\n",
            "\n",
            "                      accuracy                           0.94       504\n",
            "                     macro avg       0.76      0.76      0.75       504\n",
            "                  weighted avg       0.94      0.94      0.94       504\n",
            "\n",
            "Label Encoder for hazard-category saved in './best_model_hazard-category'\n",
            "\n",
            "Starting training for task: product-category\n"
          ]
        },
        {
          "output_type": "stream",
          "name": "stderr",
          "text": [
            "Some weights of BertForSequenceClassification were not initialized from the model checkpoint at microsoft/BiomedNLP-PubMedBERT-base-uncased-abstract and are newly initialized: ['classifier.bias', 'classifier.weight']\n",
            "You should probably TRAIN this model on a down-stream task to be able to use it for predictions and inference.\n"
          ]
        },
        {
          "output_type": "stream",
          "name": "stdout",
          "text": [
            "Epoch 1/30 - Training: product-category\n"
          ]
        },
        {
          "output_type": "stream",
          "name": "stderr",
          "text": [
            "Training Epoch 1: 100%|██████████| 223/223 [01:14<00:00,  2.98it/s, loss=2.73]\n"
          ]
        },
        {
          "output_type": "stream",
          "name": "stdout",
          "text": [
            "Learning rate after epoch 1: 2e-05\n",
            "Validation Loss after Epoch 1: 2.910222500562668\n",
            "Validation Macro F1 Score after Epoch 1: 0.07768763526370068\n",
            "New best model found. Saving the model at epoch 1.\n",
            "Epoch 2/30 - Training: product-category\n"
          ]
        },
        {
          "output_type": "stream",
          "name": "stderr",
          "text": [
            "Training Epoch 2: 100%|██████████| 223/223 [01:13<00:00,  3.04it/s, loss=0.861]\n"
          ]
        },
        {
          "output_type": "stream",
          "name": "stdout",
          "text": [
            "Learning rate after epoch 2: 2e-05\n",
            "Validation Loss after Epoch 2: 1.7884679790586233\n",
            "Validation Macro F1 Score after Epoch 2: 0.44345189533056933\n",
            "New best model found. Saving the model at epoch 2.\n",
            "Epoch 3/30 - Training: product-category\n"
          ]
        },
        {
          "output_type": "stream",
          "name": "stderr",
          "text": [
            "Training Epoch 3: 100%|██████████| 223/223 [01:13<00:00,  3.04it/s, loss=0.715]\n"
          ]
        },
        {
          "output_type": "stream",
          "name": "stdout",
          "text": [
            "Learning rate after epoch 3: 2e-05\n",
            "Validation Loss after Epoch 3: 1.4199561150744557\n",
            "Validation Macro F1 Score after Epoch 3: 0.5358503540826343\n",
            "New best model found. Saving the model at epoch 3.\n",
            "Epoch 4/30 - Training: product-category\n"
          ]
        },
        {
          "output_type": "stream",
          "name": "stderr",
          "text": [
            "Training Epoch 4: 100%|██████████| 223/223 [01:13<00:00,  3.04it/s, loss=0.88]\n"
          ]
        },
        {
          "output_type": "stream",
          "name": "stdout",
          "text": [
            "Learning rate after epoch 4: 2e-05\n",
            "Validation Loss after Epoch 4: 1.38889953866601\n",
            "Validation Macro F1 Score after Epoch 4: 0.5532876320343469\n",
            "New best model found. Saving the model at epoch 4.\n",
            "Epoch 5/30 - Training: product-category\n"
          ]
        },
        {
          "output_type": "stream",
          "name": "stderr",
          "text": [
            "Training Epoch 5: 100%|██████████| 223/223 [01:13<00:00,  3.04it/s, loss=0.278]\n"
          ]
        },
        {
          "output_type": "stream",
          "name": "stdout",
          "text": [
            "Learning rate after epoch 5: 2e-05\n",
            "Validation Loss after Epoch 5: 1.3787265194114298\n",
            "Validation Macro F1 Score after Epoch 5: 0.5822862547037627\n",
            "New best model found. Saving the model at epoch 5.\n",
            "Epoch 6/30 - Training: product-category\n"
          ]
        },
        {
          "output_type": "stream",
          "name": "stderr",
          "text": [
            "Training Epoch 6: 100%|██████████| 223/223 [01:13<00:00,  3.04it/s, loss=0.0628]\n"
          ]
        },
        {
          "output_type": "stream",
          "name": "stdout",
          "text": [
            "Learning rate after epoch 6: 2e-05\n",
            "Validation Loss after Epoch 6: 1.3683422638569027\n",
            "Validation Macro F1 Score after Epoch 6: 0.6089249473859365\n",
            "New best model found. Saving the model at epoch 6.\n",
            "Epoch 7/30 - Training: product-category\n"
          ]
        },
        {
          "output_type": "stream",
          "name": "stderr",
          "text": [
            "Training Epoch 7: 100%|██████████| 223/223 [01:13<00:00,  3.04it/s, loss=0.148]\n"
          ]
        },
        {
          "output_type": "stream",
          "name": "stdout",
          "text": [
            "Learning rate after epoch 7: 2e-05\n",
            "Validation Loss after Epoch 7: 1.472761491779238\n",
            "Validation Macro F1 Score after Epoch 7: 0.60524364727159\n",
            "Epoch 8/30 - Training: product-category\n"
          ]
        },
        {
          "output_type": "stream",
          "name": "stderr",
          "text": [
            "Training Epoch 8: 100%|██████████| 223/223 [01:13<00:00,  3.04it/s, loss=0.0316]\n"
          ]
        },
        {
          "output_type": "stream",
          "name": "stdout",
          "text": [
            "Learning rate after epoch 8: 2e-05\n",
            "Validation Loss after Epoch 8: 1.5697566645685583\n",
            "Validation Macro F1 Score after Epoch 8: 0.6000279968931946\n",
            "Epoch 9/30 - Training: product-category\n"
          ]
        },
        {
          "output_type": "stream",
          "name": "stderr",
          "text": [
            "Training Epoch 9: 100%|██████████| 223/223 [01:13<00:00,  3.04it/s, loss=0.0138]\n"
          ]
        },
        {
          "output_type": "stream",
          "name": "stdout",
          "text": [
            "Learning rate after epoch 9: 2e-05\n",
            "Validation Loss after Epoch 9: 1.518411838915199\n",
            "Validation Macro F1 Score after Epoch 9: 0.6126484813271964\n",
            "Epoch 10/30 - Training: product-category\n"
          ]
        },
        {
          "output_type": "stream",
          "name": "stderr",
          "text": [
            "Training Epoch 10: 100%|██████████| 223/223 [01:13<00:00,  3.04it/s, loss=0.0139]\n"
          ]
        },
        {
          "output_type": "stream",
          "name": "stdout",
          "text": [
            "Learning rate after epoch 10: 1e-05\n",
            "Validation Loss after Epoch 10: 1.6291560565587133\n",
            "Validation Macro F1 Score after Epoch 10: 0.5915436096202223\n",
            "Epoch 11/30 - Training: product-category\n"
          ]
        },
        {
          "output_type": "stream",
          "name": "stderr",
          "text": [
            "Training Epoch 11: 100%|██████████| 223/223 [01:13<00:00,  3.04it/s, loss=0.0136]\n"
          ]
        },
        {
          "output_type": "stream",
          "name": "stdout",
          "text": [
            "Learning rate after epoch 11: 1e-05\n",
            "Validation Loss after Epoch 11: 1.6259997650049627\n",
            "Validation Macro F1 Score after Epoch 11: 0.6018470228653516\n",
            "Epoch 12/30 - Training: product-category\n"
          ]
        },
        {
          "output_type": "stream",
          "name": "stderr",
          "text": [
            "Training Epoch 12: 100%|██████████| 223/223 [01:13<00:00,  3.04it/s, loss=0.0115]\n"
          ]
        },
        {
          "output_type": "stream",
          "name": "stdout",
          "text": [
            "Learning rate after epoch 12: 1e-05\n",
            "Validation Loss after Epoch 12: 1.645621283678338\n",
            "Validation Macro F1 Score after Epoch 12: 0.5995103753571294\n",
            "Epoch 13/30 - Training: product-category\n"
          ]
        },
        {
          "output_type": "stream",
          "name": "stderr",
          "text": [
            "Training Epoch 13: 100%|██████████| 223/223 [01:13<00:00,  3.04it/s, loss=0.0113]\n"
          ]
        },
        {
          "output_type": "stream",
          "name": "stdout",
          "text": [
            "Learning rate after epoch 13: 5e-06\n",
            "Validation Loss after Epoch 13: 1.6609307304024696\n",
            "Validation Macro F1 Score after Epoch 13: 0.6014339923970724\n",
            "Epoch 14/30 - Training: product-category\n"
          ]
        },
        {
          "output_type": "stream",
          "name": "stderr",
          "text": [
            "Training Epoch 14: 100%|██████████| 223/223 [01:13<00:00,  3.04it/s, loss=0.0111]\n"
          ]
        },
        {
          "output_type": "stream",
          "name": "stdout",
          "text": [
            "Learning rate after epoch 14: 5e-06\n",
            "Validation Loss after Epoch 14: 1.6739503392018378\n",
            "Validation Macro F1 Score after Epoch 14: 0.6052467967010844\n",
            "Epoch 15/30 - Training: product-category\n"
          ]
        },
        {
          "output_type": "stream",
          "name": "stderr",
          "text": [
            "Training Epoch 15: 100%|██████████| 223/223 [01:13<00:00,  3.04it/s, loss=0.0136]\n"
          ]
        },
        {
          "output_type": "stream",
          "name": "stdout",
          "text": [
            "Learning rate after epoch 15: 5e-06\n",
            "Validation Loss after Epoch 15: 1.6929726554080844\n",
            "Validation Macro F1 Score after Epoch 15: 0.6052443691148341\n",
            "Epoch 16/30 - Training: product-category\n"
          ]
        },
        {
          "output_type": "stream",
          "name": "stderr",
          "text": [
            "Training Epoch 16: 100%|██████████| 223/223 [01:13<00:00,  3.04it/s, loss=0.00601]\n"
          ]
        },
        {
          "output_type": "stream",
          "name": "stdout",
          "text": [
            "Learning rate after epoch 16: 2.5e-06\n",
            "Validation Loss after Epoch 16: 1.6982928826473653\n",
            "Validation Macro F1 Score after Epoch 16: 0.5804676044460734\n",
            "Early stopping triggered!\n",
            "Saving the best model from epoch 6.\n",
            "Evaluating model for task: product-category\n"
          ]
        },
        {
          "output_type": "stream",
          "name": "stderr",
          "text": [
            "Evaluating: 100%|██████████| 32/32 [00:04<00:00,  7.87it/s]\n"
          ]
        },
        {
          "output_type": "stream",
          "name": "stdout",
          "text": [
            "F1-Score for product-category: 0.7022954955155662\n",
            "Classification Report for product-category:\n",
            "\n",
            "                                                   precision    recall  f1-score   support\n",
            "\n",
            "                              alcoholic beverages       0.62      0.83      0.71         6\n",
            "                      cereals and bakery products       0.70      0.74      0.72        68\n",
            "     cocoa and cocoa preparations, coffee and tea       0.81      0.81      0.81        21\n",
            "                                    confectionery       0.38      0.33      0.35         9\n",
            "dietetic foods, food supplements, fortified foods       0.80      0.89      0.84         9\n",
            "                                    fats and oils       1.00      0.50      0.67         2\n",
            "                                   feed materials       1.00      1.00      1.00         1\n",
            "                   food additives and flavourings       0.00      0.00      0.00         0\n",
            "                           food contact materials       0.00      0.00      0.00         1\n",
            "                            fruits and vegetables       0.78      0.88      0.83        51\n",
            "                                 herbs and spices       1.00      0.67      0.80        18\n",
            "                                ices and desserts       0.89      0.89      0.89        19\n",
            "                     meat, egg and dairy products       0.90      0.88      0.89       152\n",
            "                          non-alcoholic beverages       0.86      0.80      0.83        15\n",
            "                     nuts, nut products and seeds       0.92      0.79      0.85        29\n",
            "                       other food product / mixed       0.50      0.50      0.50         2\n",
            "                                         pet feed       1.00      1.00      1.00         5\n",
            "                       prepared dishes and snacks       0.39      0.43      0.41        51\n",
            "                                          seafood       0.92      0.85      0.88        27\n",
            "             soups, broths, sauces and condiments       0.76      0.76      0.76        17\n",
            "                                sugars and syrups       1.00      1.00      1.00         1\n",
            "\n",
            "                                         accuracy                           0.78       504\n",
            "                                        macro avg       0.73      0.69      0.70       504\n",
            "                                     weighted avg       0.79      0.78      0.78       504\n",
            "\n",
            "Label Encoder for product-category saved in './best_model_product-category'\n",
            "\n",
            "Starting training for task: hazard\n"
          ]
        },
        {
          "output_type": "stream",
          "name": "stderr",
          "text": [
            "Some weights of BertForSequenceClassification were not initialized from the model checkpoint at microsoft/BiomedNLP-PubMedBERT-base-uncased-abstract and are newly initialized: ['classifier.bias', 'classifier.weight']\n",
            "You should probably TRAIN this model on a down-stream task to be able to use it for predictions and inference.\n"
          ]
        },
        {
          "output_type": "stream",
          "name": "stdout",
          "text": [
            "Epoch 1/30 - Training: hazard\n"
          ]
        },
        {
          "output_type": "stream",
          "name": "stderr",
          "text": [
            "Training Epoch 1: 100%|██████████| 223/223 [01:14<00:00,  2.98it/s, loss=4.28]\n"
          ]
        },
        {
          "output_type": "stream",
          "name": "stdout",
          "text": [
            "Learning rate after epoch 1: 2e-05\n",
            "Validation Loss after Epoch 1: 4.860393740236759\n",
            "Validation Macro F1 Score after Epoch 1: 4.18025248725023e-05\n",
            "New best model found. Saving the model at epoch 1.\n",
            "Epoch 2/30 - Training: hazard\n"
          ]
        },
        {
          "output_type": "stream",
          "name": "stderr",
          "text": [
            "Training Epoch 2: 100%|██████████| 223/223 [01:13<00:00,  3.04it/s, loss=4.26]\n"
          ]
        },
        {
          "output_type": "stream",
          "name": "stdout",
          "text": [
            "Learning rate after epoch 2: 2e-05\n",
            "Validation Loss after Epoch 2: 4.694251693785191\n",
            "Validation Macro F1 Score after Epoch 2: 0.03158510198052792\n",
            "New best model found. Saving the model at epoch 2.\n",
            "Epoch 3/30 - Training: hazard\n"
          ]
        },
        {
          "output_type": "stream",
          "name": "stderr",
          "text": [
            "Training Epoch 3: 100%|██████████| 223/223 [01:13<00:00,  3.04it/s, loss=3.23]\n"
          ]
        },
        {
          "output_type": "stream",
          "name": "stdout",
          "text": [
            "Learning rate after epoch 3: 2e-05\n",
            "Validation Loss after Epoch 3: 3.640483595430851\n",
            "Validation Macro F1 Score after Epoch 3: 0.34991935068563307\n",
            "New best model found. Saving the model at epoch 3.\n",
            "Epoch 4/30 - Training: hazard\n"
          ]
        },
        {
          "output_type": "stream",
          "name": "stderr",
          "text": [
            "Training Epoch 4: 100%|██████████| 223/223 [01:13<00:00,  3.04it/s, loss=1.19]\n"
          ]
        },
        {
          "output_type": "stream",
          "name": "stdout",
          "text": [
            "Learning rate after epoch 4: 2e-05\n",
            "Validation Loss after Epoch 4: 2.9673202764242887\n",
            "Validation Macro F1 Score after Epoch 4: 0.41836889281203204\n",
            "New best model found. Saving the model at epoch 4.\n",
            "Epoch 5/30 - Training: hazard\n"
          ]
        },
        {
          "output_type": "stream",
          "name": "stderr",
          "text": [
            "Training Epoch 5: 100%|██████████| 223/223 [01:13<00:00,  3.04it/s, loss=2.12]\n"
          ]
        },
        {
          "output_type": "stream",
          "name": "stdout",
          "text": [
            "Learning rate after epoch 5: 2e-05\n",
            "Validation Loss after Epoch 5: 2.495855084620416\n",
            "Validation Macro F1 Score after Epoch 5: 0.47582239695450096\n",
            "New best model found. Saving the model at epoch 5.\n",
            "Epoch 6/30 - Training: hazard\n"
          ]
        },
        {
          "output_type": "stream",
          "name": "stderr",
          "text": [
            "Training Epoch 6: 100%|██████████| 223/223 [01:13<00:00,  3.04it/s, loss=0.704]\n"
          ]
        },
        {
          "output_type": "stream",
          "name": "stdout",
          "text": [
            "Learning rate after epoch 6: 2e-05\n",
            "Validation Loss after Epoch 6: 2.312446055933833\n",
            "Validation Macro F1 Score after Epoch 6: 0.48115917748088155\n",
            "New best model found. Saving the model at epoch 6.\n",
            "Epoch 7/30 - Training: hazard\n"
          ]
        },
        {
          "output_type": "stream",
          "name": "stderr",
          "text": [
            "Training Epoch 7: 100%|██████████| 223/223 [01:13<00:00,  3.04it/s, loss=0.53]\n"
          ]
        },
        {
          "output_type": "stream",
          "name": "stdout",
          "text": [
            "Learning rate after epoch 7: 2e-05\n",
            "Validation Loss after Epoch 7: 2.113416781183332\n",
            "Validation Macro F1 Score after Epoch 7: 0.48537806055057703\n",
            "New best model found. Saving the model at epoch 7.\n",
            "Epoch 8/30 - Training: hazard\n"
          ]
        },
        {
          "output_type": "stream",
          "name": "stderr",
          "text": [
            "Training Epoch 8: 100%|██████████| 223/223 [01:13<00:00,  3.04it/s, loss=0.861]\n"
          ]
        },
        {
          "output_type": "stream",
          "name": "stdout",
          "text": [
            "Learning rate after epoch 8: 2e-05\n",
            "Validation Loss after Epoch 8: 2.0077602132223547\n",
            "Validation Macro F1 Score after Epoch 8: 0.530734016022892\n",
            "New best model found. Saving the model at epoch 8.\n",
            "Epoch 9/30 - Training: hazard\n"
          ]
        },
        {
          "output_type": "stream",
          "name": "stderr",
          "text": [
            "Training Epoch 9: 100%|██████████| 223/223 [01:13<00:00,  3.04it/s, loss=0.167]\n"
          ]
        },
        {
          "output_type": "stream",
          "name": "stdout",
          "text": [
            "Learning rate after epoch 9: 2e-05\n",
            "Validation Loss after Epoch 9: 2.0037050540558994\n",
            "Validation Macro F1 Score after Epoch 9: 0.5139398571170957\n",
            "New best model found. Saving the model at epoch 9.\n",
            "Epoch 10/30 - Training: hazard\n"
          ]
        },
        {
          "output_type": "stream",
          "name": "stderr",
          "text": [
            "Training Epoch 10: 100%|██████████| 223/223 [01:13<00:00,  3.04it/s, loss=0.985]\n"
          ]
        },
        {
          "output_type": "stream",
          "name": "stdout",
          "text": [
            "Learning rate after epoch 10: 2e-05\n",
            "Validation Loss after Epoch 10: 1.9546615639701486\n",
            "Validation Macro F1 Score after Epoch 10: 0.542937658227054\n",
            "New best model found. Saving the model at epoch 10.\n",
            "Epoch 11/30 - Training: hazard\n"
          ]
        },
        {
          "output_type": "stream",
          "name": "stderr",
          "text": [
            "Training Epoch 11: 100%|██████████| 223/223 [01:13<00:00,  3.04it/s, loss=0.853]\n"
          ]
        },
        {
          "output_type": "stream",
          "name": "stdout",
          "text": [
            "Learning rate after epoch 11: 2e-05\n",
            "Validation Loss after Epoch 11: 1.9443017500452697\n",
            "Validation Macro F1 Score after Epoch 11: 0.5545860005737923\n",
            "New best model found. Saving the model at epoch 11.\n",
            "Epoch 12/30 - Training: hazard\n"
          ]
        },
        {
          "output_type": "stream",
          "name": "stderr",
          "text": [
            "Training Epoch 12: 100%|██████████| 223/223 [01:13<00:00,  3.04it/s, loss=0.228]\n"
          ]
        },
        {
          "output_type": "stream",
          "name": "stdout",
          "text": [
            "Learning rate after epoch 12: 2e-05\n",
            "Validation Loss after Epoch 12: 1.9460990221705288\n",
            "Validation Macro F1 Score after Epoch 12: 0.5454109129607987\n",
            "Epoch 13/30 - Training: hazard\n"
          ]
        },
        {
          "output_type": "stream",
          "name": "stderr",
          "text": [
            "Training Epoch 13: 100%|██████████| 223/223 [01:13<00:00,  3.04it/s, loss=0.0599]\n"
          ]
        },
        {
          "output_type": "stream",
          "name": "stdout",
          "text": [
            "Learning rate after epoch 13: 2e-05\n",
            "Validation Loss after Epoch 13: 1.994172711740248\n",
            "Validation Macro F1 Score after Epoch 13: 0.5330821698709572\n",
            "Epoch 14/30 - Training: hazard\n"
          ]
        },
        {
          "output_type": "stream",
          "name": "stderr",
          "text": [
            "Training Epoch 14: 100%|██████████| 223/223 [01:13<00:00,  3.04it/s, loss=0.112]\n"
          ]
        },
        {
          "output_type": "stream",
          "name": "stdout",
          "text": [
            "Learning rate after epoch 14: 2e-05\n",
            "Validation Loss after Epoch 14: 2.03485669742804\n",
            "Validation Macro F1 Score after Epoch 14: 0.5445297137705369\n",
            "Epoch 15/30 - Training: hazard\n"
          ]
        },
        {
          "output_type": "stream",
          "name": "stderr",
          "text": [
            "Training Epoch 15: 100%|██████████| 223/223 [01:13<00:00,  3.04it/s, loss=0.0921]\n"
          ]
        },
        {
          "output_type": "stream",
          "name": "stdout",
          "text": [
            "Learning rate after epoch 15: 1e-05\n",
            "Validation Loss after Epoch 15: 2.0432454781839624\n",
            "Validation Macro F1 Score after Epoch 15: 0.5474101601882174\n",
            "Epoch 16/30 - Training: hazard\n"
          ]
        },
        {
          "output_type": "stream",
          "name": "stderr",
          "text": [
            "Training Epoch 16: 100%|██████████| 223/223 [01:13<00:00,  3.04it/s, loss=0.435]\n"
          ]
        },
        {
          "output_type": "stream",
          "name": "stdout",
          "text": [
            "Learning rate after epoch 16: 1e-05\n",
            "Validation Loss after Epoch 16: 2.0644265041919425\n",
            "Validation Macro F1 Score after Epoch 16: 0.5388297278473856\n",
            "Epoch 17/30 - Training: hazard\n"
          ]
        },
        {
          "output_type": "stream",
          "name": "stderr",
          "text": [
            "Training Epoch 17: 100%|██████████| 223/223 [01:13<00:00,  3.04it/s, loss=0.0878]\n"
          ]
        },
        {
          "output_type": "stream",
          "name": "stdout",
          "text": [
            "Learning rate after epoch 17: 1e-05\n",
            "Validation Loss after Epoch 17: 2.079194209421985\n",
            "Validation Macro F1 Score after Epoch 17: 0.5412959095072009\n",
            "Epoch 18/30 - Training: hazard\n"
          ]
        },
        {
          "output_type": "stream",
          "name": "stderr",
          "text": [
            "Training Epoch 18: 100%|██████████| 223/223 [01:13<00:00,  3.04it/s, loss=0.0465]\n"
          ]
        },
        {
          "output_type": "stream",
          "name": "stdout",
          "text": [
            "Learning rate after epoch 18: 5e-06\n",
            "Validation Loss after Epoch 18: 2.09698756900616\n",
            "Validation Macro F1 Score after Epoch 18: 0.5399579617406817\n",
            "Epoch 19/30 - Training: hazard\n"
          ]
        },
        {
          "output_type": "stream",
          "name": "stderr",
          "text": [
            "Training Epoch 19: 100%|██████████| 223/223 [01:13<00:00,  3.04it/s, loss=0.0679]\n"
          ]
        },
        {
          "output_type": "stream",
          "name": "stdout",
          "text": [
            "Learning rate after epoch 19: 5e-06\n",
            "Validation Loss after Epoch 19: 2.1046264028409496\n",
            "Validation Macro F1 Score after Epoch 19: 0.5401442514542824\n",
            "Epoch 20/30 - Training: hazard\n"
          ]
        },
        {
          "output_type": "stream",
          "name": "stderr",
          "text": [
            "Training Epoch 20: 100%|██████████| 223/223 [01:13<00:00,  3.04it/s, loss=0.0312]\n"
          ]
        },
        {
          "output_type": "stream",
          "name": "stdout",
          "text": [
            "Learning rate after epoch 20: 5e-06\n",
            "Validation Loss after Epoch 20: 2.11284611816518\n",
            "Validation Macro F1 Score after Epoch 20: 0.5398270091727543\n",
            "Epoch 21/30 - Training: hazard\n"
          ]
        },
        {
          "output_type": "stream",
          "name": "stderr",
          "text": [
            "Training Epoch 21: 100%|██████████| 223/223 [01:13<00:00,  3.04it/s, loss=0.0319]\n"
          ]
        },
        {
          "output_type": "stream",
          "name": "stdout",
          "text": [
            "Learning rate after epoch 21: 2.5e-06\n",
            "Validation Loss after Epoch 21: 2.118343486916274\n",
            "Validation Macro F1 Score after Epoch 21: 0.5398270091727543\n",
            "Early stopping triggered!\n",
            "Saving the best model from epoch 11.\n",
            "Evaluating model for task: hazard\n"
          ]
        },
        {
          "output_type": "stream",
          "name": "stderr",
          "text": [
            "Evaluating: 100%|██████████| 32/32 [00:04<00:00,  7.85it/s]\n"
          ]
        },
        {
          "output_type": "stream",
          "name": "stdout",
          "text": [
            "F1-Score for hazard: 0.5503586326918537\n",
            "Classification Report for hazard:\n",
            "\n",
            "                                                 precision    recall  f1-score   support\n",
            "\n",
            "                                alcohol content       0.00      0.00      0.00         1\n",
            "                                      alkaloids       0.00      0.00      0.00         1\n",
            "                                      allergens       0.00      0.00      0.00         2\n",
            "                                         almond       0.83      0.83      0.83         6\n",
            "                           bad smell / off odor       0.33      1.00      0.50         1\n",
            "                                  bone fragment       1.00      1.00      1.00         1\n",
            "                              bulging packaging       0.25      0.33      0.29         3\n",
            "                                         cashew       1.00      1.00      1.00         2\n",
            "                    celery and products thereof       1.00      1.00      1.00         2\n",
            " cereals containing gluten and products thereof       0.84      0.84      0.84        19\n",
            "                                       chemical       0.00      0.00      0.00         2\n",
            "               chemical compound (high content)       0.00      0.00      0.00         3\n",
            "               chemical compound (unauthorised)       1.00      1.00      1.00         3\n",
            "                          clostridium botulinum       0.75      1.00      0.86         3\n",
            "                        compositional deviation       0.00      0.00      0.00         1\n",
            "                                cronobacter spp       1.00      1.00      1.00         1\n",
            "               crustaceans and products thereof       1.00      1.00      1.00         3\n",
            "                              damaged packaging       0.00      0.00      0.00         1\n",
            "                                        dioxins       1.00      1.00      1.00         1\n",
            "                      eggs and products thereof       1.00      0.95      0.98        21\n",
            "                                  enteroviruses       1.00      1.00      1.00         1\n",
            "                               escherichia coli       0.96      0.96      0.96        25\n",
            "                      fish and products thereof       1.00      0.75      0.86         4\n",
            "                                 foreign bodies       0.50      0.50      0.50         2\n",
            "                                 glass fragment       0.89      0.89      0.89         9\n",
            "                                      haloxyfop       0.00      0.00      0.00         1\n",
            "                                   heavy metals       1.00      1.00      1.00         3\n",
            "                        high content of cyanide       0.50      1.00      0.67         1\n",
            "                       high content of vitamins       1.00      1.00      1.00         1\n",
            "                            improper conditions       0.00      0.00      0.00         1\n",
            "                             improper packaging       0.00      0.00      0.00         1\n",
            "                             incorrect labeling       0.00      0.00      0.00         1\n",
            "                         incorrect use by dates       1.00      0.50      0.67         2\n",
            "                                        insects       1.00      1.00      1.00         2\n",
            "                              inspection issues       0.78      1.00      0.88         7\n",
            "           insufficient labelling/documentation       0.00      0.00      0.00         1\n",
            "                       labelling/misdescription       1.00      0.50      0.67         4\n",
            "                         listeria monocytogenes       0.94      0.97      0.96        69\n",
            "                                   listeria spp       0.00      0.00      0.00         1\n",
            "                                 metal fragment       0.91      1.00      0.95        21\n",
            "                  microbiological contamination       0.33      0.50      0.40         2\n",
            "                      milk and products thereof       0.94      0.98      0.96        65\n",
            "                                    misbranding       1.00      1.00      1.00         1\n",
            "                                 misdescription       1.00      0.33      0.50         3\n",
            "                                    mislabelled       0.00      0.00      0.00         1\n",
            "                  molluscs and products thereof       0.00      0.00      0.00         1\n",
            "                                         moulds       1.00      1.00      1.00         1\n",
            "                   mustard and products thereof       1.00      1.00      1.00         8\n",
            "                      non compliance with HACCP       0.00      0.00      0.00         1\n",
            "                                      norovirus       1.00      1.00      1.00         1\n",
            "                                     novel food       0.00      0.00      0.00         0\n",
            "                                           nuts       0.00      0.00      0.00         0\n",
            "                                          other       0.07      0.20      0.10         5\n",
            "                           other not classified       0.00      0.00      0.00         0\n",
            "        other not classified biological hazards       0.00      0.00      0.00         0\n",
            "          other not classified chemical hazards       0.67      0.67      0.67         3\n",
            "other not classified hazards for foreign bodies       0.00      0.00      0.00         0\n",
            "                               packaging defect       1.00      0.50      0.67         4\n",
            "     paralytic shellfish poisoning (psp) toxins       0.00      0.00      0.00         1\n",
            "                            pathogenic bacteria       0.00      0.00      0.00         1\n",
            "                                        patulin       1.00      1.00      1.00         2\n",
            "                   peanuts and products thereof       0.88      0.88      0.88        17\n",
            "                                      pecan nut       0.50      1.00      0.67         1\n",
            "                                 phenylpyrazole       0.50      1.00      0.67         1\n",
            "                                 pieces of wood       1.00      1.00      1.00         1\n",
            "                                  pistachio nut       1.00      1.00      1.00         2\n",
            "                               plastic fragment       0.94      0.88      0.91        17\n",
            "               polycyclic aromatic hydrocarbons       1.00      1.00      1.00         2\n",
            "                            poor hygienic state       0.00      0.00      0.00         2\n",
            "                  poor or insufficient controls       1.00      1.00      1.00         1\n",
            "                                     processing       0.00      0.00      0.00         2\n",
            "               product category/characteristics       0.00      0.00      0.00         1\n",
            "                               rubber fragments       1.00      1.00      1.00         5\n",
            "                                     salmonella       0.98      0.94      0.96        68\n",
            "              sesame seeds and products thereof       1.00      1.00      1.00         5\n",
            "                  soybeans and products thereof       0.46      0.60      0.52        10\n",
            "                  specified risk material (srm)       1.00      0.33      0.50         3\n",
            "                                       spoilage       0.67      0.67      0.67         3\n",
            "                     staphylococcal enterotoxin       0.00      0.00      0.00         0\n",
            "                                 staphylococcus       1.00      1.00      1.00         2\n",
            "                                         stones       1.00      0.50      0.67         2\n",
            "                            sulphates/sulphites       0.00      0.00      0.00         1\n",
            "                                sulphur dioxide       1.00      1.00      1.00         2\n",
            "                  sulphur dioxide and sulphites       0.83      1.00      0.91        10\n",
            "                              taste disturbance       0.00      0.00      0.00         1\n",
            "                                          toxin       1.00      0.67      0.80         3\n",
            "                    unauthorised colour sudan 4       0.00      0.00      0.00         0\n",
            "                            unauthorised import       1.00      1.00      1.00         1\n",
            "                          unauthorised operator       0.00      0.00      0.00         1\n",
            "             unauthorised placing on the market       1.00      1.00      1.00         1\n",
            "          unauthorised substance ethylene oxide       1.00      1.00      1.00         3\n",
            "                         undeclared constituent       0.00      0.00      0.00         1\n",
            "                                         walnut       1.00      1.00      1.00         1\n",
            "                                         yeasts       0.00      0.00      0.00         0\n",
            "\n",
            "                                       accuracy                           0.85       504\n",
            "                                      macro avg       0.57      0.56      0.55       504\n",
            "                                   weighted avg       0.85      0.85      0.85       504\n",
            "\n",
            "Label Encoder for hazard saved in './best_model_hazard'\n",
            "\n",
            "Starting training for task: product\n"
          ]
        },
        {
          "output_type": "stream",
          "name": "stderr",
          "text": [
            "Some weights of BertForSequenceClassification were not initialized from the model checkpoint at microsoft/BiomedNLP-PubMedBERT-base-uncased-abstract and are newly initialized: ['classifier.bias', 'classifier.weight']\n",
            "You should probably TRAIN this model on a down-stream task to be able to use it for predictions and inference.\n"
          ]
        },
        {
          "output_type": "stream",
          "name": "stdout",
          "text": [
            "Epoch 1/30 - Training: product\n"
          ]
        },
        {
          "output_type": "stream",
          "name": "stderr",
          "text": [
            "Training Epoch 1: 100%|██████████| 223/223 [01:14<00:00,  2.98it/s, loss=6.94]\n"
          ]
        },
        {
          "output_type": "stream",
          "name": "stdout",
          "text": [
            "Learning rate after epoch 1: 2e-05\n",
            "Validation Loss after Epoch 1: 6.939593628048897\n",
            "Validation Macro F1 Score after Epoch 1: 0.0\n",
            "New best model found. Saving the model at epoch 1.\n",
            "Epoch 2/30 - Training: product\n"
          ]
        },
        {
          "output_type": "stream",
          "name": "stderr",
          "text": [
            "Training Epoch 2: 100%|██████████| 223/223 [01:13<00:00,  3.04it/s, loss=6.64]\n"
          ]
        },
        {
          "output_type": "stream",
          "name": "stdout",
          "text": [
            "Learning rate after epoch 2: 2e-05\n",
            "Validation Loss after Epoch 2: 6.966125153005123\n",
            "Validation Macro F1 Score after Epoch 2: 5.166512388866166e-05\n",
            "Epoch 3/30 - Training: product\n"
          ]
        },
        {
          "output_type": "stream",
          "name": "stderr",
          "text": [
            "Training Epoch 3: 100%|██████████| 223/223 [01:13<00:00,  3.04it/s, loss=7.01]\n"
          ]
        },
        {
          "output_type": "stream",
          "name": "stdout",
          "text": [
            "Learning rate after epoch 3: 2e-05\n",
            "Validation Loss after Epoch 3: 6.985692508518696\n",
            "Validation Macro F1 Score after Epoch 3: 2.0779652564209126e-05\n",
            "Epoch 4/30 - Training: product\n"
          ]
        },
        {
          "output_type": "stream",
          "name": "stderr",
          "text": [
            "Training Epoch 4: 100%|██████████| 223/223 [01:13<00:00,  3.04it/s, loss=6.65]\n"
          ]
        },
        {
          "output_type": "stream",
          "name": "stdout",
          "text": [
            "Learning rate after epoch 4: 2e-05\n",
            "Validation Loss after Epoch 4: 7.004343509674072\n",
            "Validation Macro F1 Score after Epoch 4: 0.0005458666419533582\n",
            "Epoch 5/30 - Training: product\n"
          ]
        },
        {
          "output_type": "stream",
          "name": "stderr",
          "text": [
            "Training Epoch 5: 100%|██████████| 223/223 [01:13<00:00,  3.04it/s, loss=6.65]\n"
          ]
        },
        {
          "output_type": "stream",
          "name": "stdout",
          "text": [
            "Learning rate after epoch 5: 1e-05\n",
            "Validation Loss after Epoch 5: 6.977593764662743\n",
            "Validation Macro F1 Score after Epoch 5: 0.00036284978813714446\n",
            "Epoch 6/30 - Training: product\n"
          ]
        },
        {
          "output_type": "stream",
          "name": "stderr",
          "text": [
            "Training Epoch 6: 100%|██████████| 223/223 [01:13<00:00,  3.04it/s, loss=6.42]\n"
          ]
        },
        {
          "output_type": "stream",
          "name": "stdout",
          "text": [
            "Learning rate after epoch 6: 1e-05\n",
            "Validation Loss after Epoch 6: 6.954767659306526\n",
            "Validation Macro F1 Score after Epoch 6: 0.002763824053022659\n",
            "Epoch 7/30 - Training: product\n"
          ]
        },
        {
          "output_type": "stream",
          "name": "stderr",
          "text": [
            "Training Epoch 7: 100%|██████████| 223/223 [01:13<00:00,  3.04it/s, loss=5.75]\n"
          ]
        },
        {
          "output_type": "stream",
          "name": "stdout",
          "text": [
            "Learning rate after epoch 7: 1e-05\n",
            "Validation Loss after Epoch 7: 6.924479126930237\n",
            "Validation Macro F1 Score after Epoch 7: 0.00325495402342869\n",
            "New best model found. Saving the model at epoch 7.\n",
            "Epoch 8/30 - Training: product\n"
          ]
        },
        {
          "output_type": "stream",
          "name": "stderr",
          "text": [
            "Training Epoch 8: 100%|██████████| 223/223 [01:13<00:00,  3.04it/s, loss=5.69]\n"
          ]
        },
        {
          "output_type": "stream",
          "name": "stdout",
          "text": [
            "Learning rate after epoch 8: 1e-05\n",
            "Validation Loss after Epoch 8: 6.912690341472626\n",
            "Validation Macro F1 Score after Epoch 8: 0.012609167387043223\n",
            "New best model found. Saving the model at epoch 8.\n",
            "Epoch 9/30 - Training: product\n"
          ]
        },
        {
          "output_type": "stream",
          "name": "stderr",
          "text": [
            "Training Epoch 9: 100%|██████████| 223/223 [01:13<00:00,  3.04it/s, loss=5.95]\n"
          ]
        },
        {
          "output_type": "stream",
          "name": "stdout",
          "text": [
            "Learning rate after epoch 9: 1e-05\n",
            "Validation Loss after Epoch 9: 6.899848930537701\n",
            "Validation Macro F1 Score after Epoch 9: 0.01288345283836874\n",
            "New best model found. Saving the model at epoch 9.\n",
            "Epoch 10/30 - Training: product\n"
          ]
        },
        {
          "output_type": "stream",
          "name": "stderr",
          "text": [
            "Training Epoch 10: 100%|██████████| 223/223 [01:13<00:00,  3.04it/s, loss=5.43]\n"
          ]
        },
        {
          "output_type": "stream",
          "name": "stdout",
          "text": [
            "Learning rate after epoch 10: 1e-05\n",
            "Validation Loss after Epoch 10: 6.8855986297130585\n",
            "Validation Macro F1 Score after Epoch 10: 0.015198627358416646\n",
            "New best model found. Saving the model at epoch 10.\n",
            "Epoch 11/30 - Training: product\n"
          ]
        },
        {
          "output_type": "stream",
          "name": "stderr",
          "text": [
            "Training Epoch 11: 100%|██████████| 223/223 [01:13<00:00,  3.04it/s, loss=4.49]\n"
          ]
        },
        {
          "output_type": "stream",
          "name": "stdout",
          "text": [
            "Learning rate after epoch 11: 1e-05\n",
            "Validation Loss after Epoch 11: 6.894347332417965\n",
            "Validation Macro F1 Score after Epoch 11: 0.019622336032110468\n",
            "Epoch 12/30 - Training: product\n"
          ]
        },
        {
          "output_type": "stream",
          "name": "stderr",
          "text": [
            "Training Epoch 12: 100%|██████████| 223/223 [01:13<00:00,  3.04it/s, loss=4.33]\n"
          ]
        },
        {
          "output_type": "stream",
          "name": "stdout",
          "text": [
            "Learning rate after epoch 12: 1e-05\n",
            "Validation Loss after Epoch 12: 6.89058893173933\n",
            "Validation Macro F1 Score after Epoch 12: 0.022648493328200615\n",
            "Epoch 13/30 - Training: product\n"
          ]
        },
        {
          "output_type": "stream",
          "name": "stderr",
          "text": [
            "Training Epoch 13: 100%|██████████| 223/223 [01:13<00:00,  3.04it/s, loss=3.96]\n"
          ]
        },
        {
          "output_type": "stream",
          "name": "stdout",
          "text": [
            "Learning rate after epoch 13: 1e-05\n",
            "Validation Loss after Epoch 13: 6.865941971540451\n",
            "Validation Macro F1 Score after Epoch 13: 0.02238974048449547\n",
            "New best model found. Saving the model at epoch 13.\n",
            "Epoch 14/30 - Training: product\n"
          ]
        },
        {
          "output_type": "stream",
          "name": "stderr",
          "text": [
            "Training Epoch 14: 100%|██████████| 223/223 [01:13<00:00,  3.04it/s, loss=3.52]\n"
          ]
        },
        {
          "output_type": "stream",
          "name": "stdout",
          "text": [
            "Learning rate after epoch 14: 1e-05\n",
            "Validation Loss after Epoch 14: 6.867269240319729\n",
            "Validation Macro F1 Score after Epoch 14: 0.02504013455592866\n",
            "Epoch 15/30 - Training: product\n"
          ]
        },
        {
          "output_type": "stream",
          "name": "stderr",
          "text": [
            "Training Epoch 15: 100%|██████████| 223/223 [01:13<00:00,  3.04it/s, loss=4.35]\n"
          ]
        },
        {
          "output_type": "stream",
          "name": "stdout",
          "text": [
            "Learning rate after epoch 15: 1e-05\n",
            "Validation Loss after Epoch 15: 6.8675569370388985\n",
            "Validation Macro F1 Score after Epoch 15: 0.021884726064515754\n",
            "Epoch 16/30 - Training: product\n"
          ]
        },
        {
          "output_type": "stream",
          "name": "stderr",
          "text": [
            "Training Epoch 16: 100%|██████████| 223/223 [01:13<00:00,  3.04it/s, loss=3.47]\n"
          ]
        },
        {
          "output_type": "stream",
          "name": "stdout",
          "text": [
            "Learning rate after epoch 16: 1e-05\n",
            "Validation Loss after Epoch 16: 6.859305188059807\n",
            "Validation Macro F1 Score after Epoch 16: 0.026199325705904653\n",
            "New best model found. Saving the model at epoch 16.\n",
            "Epoch 17/30 - Training: product\n"
          ]
        },
        {
          "output_type": "stream",
          "name": "stderr",
          "text": [
            "Training Epoch 17: 100%|██████████| 223/223 [01:13<00:00,  3.04it/s, loss=2.8]\n"
          ]
        },
        {
          "output_type": "stream",
          "name": "stdout",
          "text": [
            "Learning rate after epoch 17: 1e-05\n",
            "Validation Loss after Epoch 17: 6.853459648787975\n",
            "Validation Macro F1 Score after Epoch 17: 0.023766710274110054\n",
            "New best model found. Saving the model at epoch 17.\n",
            "Epoch 18/30 - Training: product\n"
          ]
        },
        {
          "output_type": "stream",
          "name": "stderr",
          "text": [
            "Training Epoch 18: 100%|██████████| 223/223 [01:13<00:00,  3.04it/s, loss=4.14]\n"
          ]
        },
        {
          "output_type": "stream",
          "name": "stdout",
          "text": [
            "Learning rate after epoch 18: 1e-05\n",
            "Validation Loss after Epoch 18: 6.869184032082558\n",
            "Validation Macro F1 Score after Epoch 18: 0.02103239643025178\n",
            "Epoch 19/30 - Training: product\n"
          ]
        },
        {
          "output_type": "stream",
          "name": "stderr",
          "text": [
            "Training Epoch 19: 100%|██████████| 223/223 [01:13<00:00,  3.04it/s, loss=2.65]\n"
          ]
        },
        {
          "output_type": "stream",
          "name": "stdout",
          "text": [
            "Learning rate after epoch 19: 1e-05\n",
            "Validation Loss after Epoch 19: 6.868677102029324\n",
            "Validation Macro F1 Score after Epoch 19: 0.02180418379290668\n",
            "Epoch 20/30 - Training: product\n"
          ]
        },
        {
          "output_type": "stream",
          "name": "stderr",
          "text": [
            "Training Epoch 20: 100%|██████████| 223/223 [01:13<00:00,  3.04it/s, loss=3.07]\n"
          ]
        },
        {
          "output_type": "stream",
          "name": "stdout",
          "text": [
            "Learning rate after epoch 20: 1e-05\n",
            "Validation Loss after Epoch 20: 6.869208164513111\n",
            "Validation Macro F1 Score after Epoch 20: 0.024088005807711203\n",
            "Epoch 21/30 - Training: product\n"
          ]
        },
        {
          "output_type": "stream",
          "name": "stderr",
          "text": [
            "Training Epoch 21: 100%|██████████| 223/223 [01:13<00:00,  3.04it/s, loss=2.99]\n"
          ]
        },
        {
          "output_type": "stream",
          "name": "stdout",
          "text": [
            "Learning rate after epoch 21: 5e-06\n",
            "Validation Loss after Epoch 21: 6.86033920198679\n",
            "Validation Macro F1 Score after Epoch 21: 0.023752260770029572\n",
            "Epoch 22/30 - Training: product\n"
          ]
        },
        {
          "output_type": "stream",
          "name": "stderr",
          "text": [
            "Training Epoch 22: 100%|██████████| 223/223 [01:13<00:00,  3.04it/s, loss=1.92]\n"
          ]
        },
        {
          "output_type": "stream",
          "name": "stdout",
          "text": [
            "Learning rate after epoch 22: 5e-06\n",
            "Validation Loss after Epoch 22: 6.865063369274139\n",
            "Validation Macro F1 Score after Epoch 22: 0.02622819570038649\n",
            "Epoch 23/30 - Training: product\n"
          ]
        },
        {
          "output_type": "stream",
          "name": "stderr",
          "text": [
            "Training Epoch 23: 100%|██████████| 223/223 [01:13<00:00,  3.04it/s, loss=2.59]\n"
          ]
        },
        {
          "output_type": "stream",
          "name": "stdout",
          "text": [
            "Learning rate after epoch 23: 5e-06\n",
            "Validation Loss after Epoch 23: 6.8740339651703835\n",
            "Validation Macro F1 Score after Epoch 23: 0.025978322607825673\n",
            "Epoch 24/30 - Training: product\n"
          ]
        },
        {
          "output_type": "stream",
          "name": "stderr",
          "text": [
            "Training Epoch 24: 100%|██████████| 223/223 [01:13<00:00,  3.04it/s, loss=1.94]\n"
          ]
        },
        {
          "output_type": "stream",
          "name": "stdout",
          "text": [
            "Learning rate after epoch 24: 2.5e-06\n",
            "Validation Loss after Epoch 24: 6.868209637701511\n",
            "Validation Macro F1 Score after Epoch 24: 0.02725250165387525\n",
            "Epoch 25/30 - Training: product\n"
          ]
        },
        {
          "output_type": "stream",
          "name": "stderr",
          "text": [
            "Training Epoch 25: 100%|██████████| 223/223 [01:13<00:00,  3.04it/s, loss=2.17]\n"
          ]
        },
        {
          "output_type": "stream",
          "name": "stdout",
          "text": [
            "Learning rate after epoch 25: 2.5e-06\n",
            "Validation Loss after Epoch 25: 6.868911735713482\n",
            "Validation Macro F1 Score after Epoch 25: 0.02572804565810019\n",
            "Epoch 26/30 - Training: product\n"
          ]
        },
        {
          "output_type": "stream",
          "name": "stderr",
          "text": [
            "Training Epoch 26: 100%|██████████| 223/223 [01:13<00:00,  3.04it/s, loss=2.09]\n"
          ]
        },
        {
          "output_type": "stream",
          "name": "stdout",
          "text": [
            "Learning rate after epoch 26: 2.5e-06\n",
            "Validation Loss after Epoch 26: 6.874522358179092\n",
            "Validation Macro F1 Score after Epoch 26: 0.027294120048236226\n",
            "Epoch 27/30 - Training: product\n"
          ]
        },
        {
          "output_type": "stream",
          "name": "stderr",
          "text": [
            "Training Epoch 27: 100%|██████████| 223/223 [01:13<00:00,  3.04it/s, loss=1.87]\n"
          ]
        },
        {
          "output_type": "stream",
          "name": "stdout",
          "text": [
            "Learning rate after epoch 27: 1.25e-06\n",
            "Validation Loss after Epoch 27: 6.870963163673878\n",
            "Validation Macro F1 Score after Epoch 27: 0.027011889123490857\n",
            "Early stopping triggered!\n",
            "Saving the best model from epoch 17.\n",
            "Evaluating model for task: product\n"
          ]
        },
        {
          "output_type": "stream",
          "name": "stderr",
          "text": [
            "Evaluating: 100%|██████████| 32/32 [00:04<00:00,  7.84it/s]\n"
          ]
        },
        {
          "output_type": "stream",
          "name": "stdout",
          "text": [
            "F1-Score for product: 0.03762012740408766\n",
            "Classification Report for product:\n",
            "\n",
            "                                                                        precision    recall  f1-score   support\n",
            "\n",
            "                                                Catfishes (freshwater)       0.00      0.00      0.00         1\n",
            "                                                 Fishes not identified       0.00      0.00      0.00         4\n",
            "                                              Not classified pork meat       0.00      0.00      0.00         2\n",
            "                                                 all purpose seasoning       1.00      1.00      1.00         1\n",
            "                                                           almond milk       0.00      0.00      0.00         0\n",
            "                                                         almond powder       0.00      0.00      0.00         1\n",
            "                                                       almond products       0.00      0.00      0.00         2\n",
            "                                                               almonds       0.00      0.00      0.00         0\n",
            "                                                            angus beef       0.00      0.00      0.00         1\n",
            "                                                           apple juice       0.00      0.00      0.00         1\n",
            "                                                       apricot kernels       0.00      0.00      0.00         1\n",
            "                                                              apricots       0.00      0.00      0.00         1\n",
            "                                                             baby food       0.00      0.00      0.00         1\n",
            "                                                             baguettes       0.00      0.00      0.00         1\n",
            "                                                       bakery products       0.00      0.00      0.00         2\n",
            "                                                                bamboo       0.00      0.00      0.00         1\n",
            "                                                        barbecue sauce       0.00      0.00      0.00         1\n",
            "                                                                  bars       0.00      0.00      0.00         3\n",
            "                                                                 basil       0.00      0.00      0.00         1\n",
            "                                                     basil pesto sauce       0.00      0.00      0.00         0\n",
            "                                                            bean sauce       0.00      0.00      0.00         0\n",
            "                                                                  beef       0.00      0.00      0.00         6\n",
            "                                                             beef meat       0.00      0.00      0.00         2\n",
            "                                                         beef products       0.12      0.33      0.17         6\n",
            "                                                           beef stewed       0.00      0.00      0.00         1\n",
            "                                                                  beer       0.00      0.00      0.00         2\n",
            "                                                              beverage       0.00      0.00      0.00         0\n",
            "                                                              biscuits       0.00      0.00      0.00         1\n",
            "                                                           blue cheese       0.00      0.00      0.00         0\n",
            "                                                         bottled water       0.00      0.00      0.00         0\n",
            "                                                           brazil nuts       0.00      0.00      0.00         3\n",
            "                                                                 bread       0.00      0.00      0.00         3\n",
            "                                           bread and products therefor       0.00      0.00      0.00         3\n",
            "                                          breakfast cereals for babies       0.00      0.00      0.00         1\n",
            "                                                               brioche       0.00      0.00      0.00         0\n",
            "                                                              broccoli       0.00      0.00      0.00         2\n",
            "                                        buffalo milk mozzarella cheese       0.00      0.00      0.00         1\n",
            "                                                                  buns       0.00      0.00      0.00         2\n",
            "                                                burrito (ready to eat)       0.00      0.00      0.00         1\n",
            "                                                                 cakes       0.22      0.25      0.24         8\n",
            "                                                               candies       0.00      0.00      0.00         2\n",
            "                                                        canned chicken       0.00      0.00      0.00         1\n",
            "                                                        canned spinach       0.00      0.00      0.00         1\n",
            "                                                   carbonated beverage       0.00      0.00      0.00         1\n",
            "                                                        cardamom seeds       0.00      0.00      0.00         1\n",
            "                                                                cashew       0.00      0.00      0.00         0\n",
            "                                                                cereal       0.00      0.00      0.00         1\n",
            "                                           cereals and bakery products       0.00      0.00      0.00         1\n",
            "                                                        cheddar cheese       0.00      0.00      0.00         0\n",
            "                                                                cheese       0.00      0.00      0.00         4\n",
            "                                                            cheese dip       1.00      1.00      1.00         1\n",
            "                                                            chia seeds       1.00      0.33      0.50         3\n",
            "                                                               chicken       0.00      0.00      0.00         3\n",
            "                                                chicken based products       0.13      0.36      0.19        14\n",
            "                                                        chicken breast       0.00      0.00      0.00         2\n",
            "                                                         chicken broth       0.00      0.00      0.00         1\n",
            "                                                       chicken dippers       0.00      0.00      0.00         0\n",
            "                                                   chicken noodle soup       0.00      0.00      0.00         0\n",
            "                                                           chicken pie       0.00      0.00      0.00         1\n",
            "                                                  chicken preparations       0.00      0.00      0.00         1\n",
            "                                             chicken products - frozen       0.00      0.00      0.00         0\n",
            "                                                       chilled chicken       0.00      0.00      0.00         1\n",
            "                                                 chilled chicken parts       1.00      1.00      1.00         1\n",
            "                                           chilled dumplings with meat       0.00      0.00      0.00         0\n",
            "                                                          chilli paste       0.00      0.00      0.00         1\n",
            "                                                          chilli sauce       0.00      0.00      0.00         0\n",
            "                                                             chocolate       0.00      0.00      0.00         3\n",
            "                                                        chocolate bars       1.00      0.33      0.50         3\n",
            "                                                        chocolate eggs       0.00      0.00      0.00         0\n",
            "                                                      chocolate mousse       0.00      0.00      0.00         0\n",
            "                                                    chocolate products       0.00      0.00      0.00         1\n",
            "                                                    chocolate truffles       0.00      0.00      0.00         2\n",
            "                                                            chocolates       0.00      0.00      0.00         0\n",
            "                                                               chorizo       1.00      0.33      0.50         3\n",
            "                                                                 cider       0.00      0.00      0.00         1\n",
            "                                                         coconut juice       0.00      0.00      0.00         0\n",
            "                                                          coconut milk       0.00      0.00      0.00         1\n",
            "                                                              coconuts       0.00      0.00      0.00         2\n",
            "                                                          coffee beans       0.00      0.00      0.00         1\n",
            "                                                          coffee drink       0.00      0.00      0.00         1\n",
            "                                                         confectionery       0.00      0.00      0.00         0\n",
            "                                                        cooked chicken       0.00      0.00      0.00         4\n",
            "                                                 cooked chicken skewer       0.00      0.00      0.00         1\n",
            "                                                               cookies       0.14      0.11      0.12         9\n",
            "                                                         cooking sauce       0.00      0.00      0.00         1\n",
            "                                                             coriander       0.00      0.00      0.00         1\n",
            "                                                                  corn       0.00      0.00      0.00         3\n",
            "                                                             cous cous       0.00      0.00      0.00         1\n",
            "                                                              crackers       0.00      0.00      0.00         1\n",
            "                                                         cranberry jam       0.00      0.00      0.00         0\n",
            "                                                          cream cheese       0.00      0.00      0.00         2\n",
            "                                                            croissants       0.00      0.00      0.00         1\n",
            "                                      crustaceans and products thereof       0.00      0.00      0.00         1\n",
            "                                                              cupcakes       0.00      0.00      0.00         0\n",
            "                                                            cured loin       0.00      0.00      0.00         1\n",
            "                                                       cured pork meat       0.00      0.00      0.00         1\n",
            "                                                                 curry       0.00      0.00      0.00         2\n",
            "                                                            cuttlefish       0.00      0.00      0.00         1\n",
            "                                         dark chocolate coated almonds       0.00      0.00      0.00         0\n",
            "                                                       dark chocolates       0.00      0.00      0.00         4\n",
            "                                                                 dates       0.00      0.00      0.00         1\n",
            "                                                              desserts       0.00      0.00      0.00         1\n",
            "                                                    dietary supplement       0.08      0.33      0.13         3\n",
            "                     dietetic foods, food supplements, fortified foods       0.00      0.00      0.00         1\n",
            "                                                             dip-sauce       0.00      0.00      0.00         1\n",
            "                                                                donuts       0.00      0.00      0.00         1\n",
            "                                                              dressing       0.00      0.00      0.00         0\n",
            "                                                       dressing sauces       0.00      0.00      0.00         1\n",
            "                                                          dried apples       0.00      0.00      0.00         1\n",
            "                                                        dried apricots       0.00      0.00      0.00         1\n",
            "                                                       dried beef meat       0.00      0.00      0.00         0\n",
            "                                                         dried coconut       0.00      0.00      0.00         0\n",
            "                                                     dried cranberries       0.00      0.00      0.00         0\n",
            "                                                            dried figs       0.00      0.00      0.00         1\n",
            "                                                       dried fruit mix       0.00      0.00      0.00         1\n",
            "                                                       dried mushrooms       0.00      0.00      0.00         2\n",
            "                                                         dried pangash       0.00      0.00      0.00         1\n",
            "                                                           dried plums       0.50      1.00      0.67         2\n",
            "                                                   dried pork sausages       0.00      0.00      0.00         1\n",
            "                                                             dumplings       0.00      0.00      0.00         1\n",
            "                                                             eggplants       0.00      0.00      0.00         0\n",
            "                                                                  eggs       0.00      0.00      0.00         2\n",
            "                                                 eggs and egg products       0.00      0.00      0.00         1\n",
            "                                               energy and protein bars       0.00      0.00      0.00         0\n",
            "                                                        feed materials       0.00      0.00      0.00         1\n",
            "                                                           feta cheese       0.00      0.00      0.00         1\n",
            "                                                         fish products       0.00      0.00      0.00         1\n",
            "                                                              fish roe       0.00      0.00      0.00         0\n",
            "                                                  flavoured soft drink       0.00      0.00      0.00         1\n",
            "                                   flavoured whey protein preparations       0.00      0.00      0.00         1\n",
            "                                                              flaxseed       0.00      0.00      0.00         1\n",
            "                                                                 flour       0.00      0.00      0.00         0\n",
            "                                                       food supplement       0.00      0.00      0.00         1\n",
            "                                                            fresh beef       0.00      0.00      0.00         1\n",
            "                                                          fresh cheese       0.00      0.00      0.00         1\n",
            "                                                       fresh mushrooms       0.00      0.00      0.00         2\n",
            "                                                         fresh parsley       0.00      0.00      0.00         1\n",
            "                                                            fresh pork       0.00      0.00      0.00         1\n",
            "                                                      fresh vegetables       0.00      0.00      0.00         1\n",
            "                                                           frozen beef       0.00      0.00      0.00         1\n",
            "                                                   frozen beef patties       0.00      0.00      0.00         0\n",
            "                                                  frozen beef products       0.00      0.00      0.00         1\n",
            "                                                  frozen boneless beef       0.00      0.00      0.00         1\n",
            "                                                       frozen broccoli       0.00      0.00      0.00         1\n",
            "                                                        frozen burgers       0.00      0.00      0.00         1\n",
            "                                                  frozen chicken wings       0.00      0.00      0.00         1\n",
            "                                                   frozen fish fillets       0.00      0.00      0.00         1\n",
            "                                                    frozen hash browns       0.00      0.00      0.00         0\n",
            "                                                           frozen peas       0.00      0.00      0.00         1\n",
            "                                                            frozen pie       0.00      0.00      0.00         1\n",
            "                                                          frozen pizza       0.00      0.00      0.00         1\n",
            "                                                        frozen poultry       0.00      0.00      0.00         1\n",
            "                                           frozen poultry preparations       0.00      0.00      0.00         1\n",
            "                                                   frozen spring rolls       0.00      0.00      0.00         0\n",
            "                                              frozen vegetarian cutlet       0.00      0.00      0.00         1\n",
            "                                                            fruit bars       0.00      0.00      0.00         1\n",
            "                                                           fruit juice       0.00      0.00      0.00         2\n",
            "                                                         garlic powder       0.00      0.00      0.00         0\n",
            "                                                         ginger powder       0.00      0.00      0.00         1\n",
            "                                                          goji berries       0.00      0.00      0.00         1\n",
            "                                                                 gouda       0.00      0.00      0.00         1\n",
            "                                                          gouda cheese       0.00      0.00      0.00         1\n",
            "                                                             gravy mix       0.00      0.00      0.00         1\n",
            "                                                           green pesto       0.00      0.00      0.00         0\n",
            "                                                           ground beef       0.17      0.17      0.17         6\n",
            "                                                             guacamole       0.00      0.00      0.00         1\n",
            "                                                                 halva       0.00      0.00      0.00         1\n",
            "                                                                   ham       0.00      0.00      0.00         3\n",
            "                                                           hard cheese       0.00      0.00      0.00         0\n",
            "                                                               herring       0.00      0.00      0.00         2\n",
            "                                                                 honey       0.00      0.00      0.00         0\n",
            "                                                      hot dog sausages       0.00      0.00      0.00         0\n",
            "                                                              hot dogs       0.00      0.00      0.00         0\n",
            "                                                             ice cream       0.14      0.28      0.19        18\n",
            "                                                     ices and desserts       0.00      0.00      0.00         0\n",
            "                                                        infant formula       0.00      0.00      0.00         1\n",
            "                                                        instant coffee       0.00      0.00      0.00         0\n",
            "                                                                   jam       0.00      0.00      0.00         3\n",
            "                                                               jellies       0.00      0.00      0.00         0\n",
            "                                                           juice drink       0.00      0.00      0.00         0\n",
            "                                                                  kale       1.00      1.00      1.00         1\n",
            "                                                               ketchup       0.00      0.00      0.00         1\n",
            "                                                               lasagne       0.00      0.00      0.00         0\n",
            "                                                 lemonade (lemon soda)       0.00      0.00      0.00         1\n",
            "                                                               lentils       0.00      0.00      0.00         1\n",
            "                                                      liquid egg white       0.00      0.00      0.00         1\n",
            "                                                             lollipops       0.00      0.00      0.00         1\n",
            "                                                         luncheon meat       0.00      0.00      0.00         1\n",
            "                                                        macadamia nuts       0.00      0.00      0.00         2\n",
            "                                                              mackerel       0.00      0.00      0.00         0\n",
            "                                                                 maize       0.00      0.00      0.00         2\n",
            "                                                             margarine       0.00      0.00      0.00         1\n",
            "                                                      masala spice mix       0.00      0.00      0.00         1\n",
            "                                             mashed chickpeas (hummus)       0.00      0.00      0.00         2\n",
            "                                                 massala spice mixture       0.00      0.00      0.00         0\n",
            "                                                            mayonnaise       0.00      0.00      0.00         1\n",
            "                           meat and meat products (other than poultry)       0.00      0.00      0.00         2\n",
            "                                                     meat preparations       0.00      0.00      0.00         1\n",
            "meat samosas, vegetable samosas, chicken samosas and meat spring rolls       0.00      0.00      0.00         1\n",
            "                                                              meatloaf       0.00      0.00      0.00         0\n",
            "                                   mechanically separated chicken meat       0.00      0.00      0.00         1\n",
            "                                                                  milk       0.00      0.00      0.00         3\n",
            "                                                milk and milk products       0.00      0.00      0.00         0\n",
            "                                        milk chocolate covered raisins       0.00      0.00      0.00         1\n",
            "                                                       milk chocolates       0.00      0.00      0.00         2\n",
            "                                                         milk products       0.00      0.00      0.00         1\n",
            "                                                           minced beef       0.00      0.00      0.00         2\n",
            "                                                        minced chicken       0.00      0.00      0.00         1\n",
            "                                                        mineral waters       0.00      0.00      0.00         1\n",
            "                                           mitragyna speciosa (kratom)       1.00      0.33      0.50         3\n",
            "                                                      mixed vegetables       0.00      0.00      0.00         1\n",
            "                                                              moussaka       0.00      0.00      0.00         1\n",
            "                                                            mozzarella       0.00      0.00      0.00         0\n",
            "                                                                muesli       0.00      0.00      0.00         4\n",
            "                                                               muffins       0.00      0.00      0.00         1\n",
            "                                                             mushrooms       0.17      1.00      0.29         1\n",
            "                                                               mustard       0.00      0.00      0.00         2\n",
            "                                                         mustard sauce       0.00      0.00      0.00         0\n",
            "                                                    non-alcoholic beer       0.00      0.00      0.00         1\n",
            "                                                                noodle       1.00      1.00      1.00         1\n",
            "                                                           noodle soup       0.00      0.00      0.00         0\n",
            "                                                               noodles       0.00      0.00      0.00         1\n",
            "                                                                  nuts       0.00      0.00      0.00         1\n",
            "                                                                  oats       0.00      0.00      0.00         1\n",
            "                                                             olive oil       1.00      1.00      1.00         1\n",
            "                                                                olives       0.00      0.00      0.00         1\n",
            "                                                                onions       0.00      0.00      0.00         4\n",
            "                                                               oregano       0.00      0.00      0.00         1\n",
            "                                                  other dairy products       0.00      0.00      0.00         2\n",
            "                                    other not classified meat products       0.00      0.00      0.00         2\n",
            "                                              other water-based drinks       0.00      0.00      0.00         1\n",
            "                                                          oyster sauce       0.00      0.00      0.00         0\n",
            "                                                               oysters       0.00      0.00      0.00         2\n",
            "                                                                paella       0.00      0.00      0.00         1\n",
            "                                                              pancakes       0.00      0.00      0.00         2\n",
            "                                                parmesan cheese grated       0.00      0.00      0.00         1\n",
            "                                                               parsley       0.00      0.00      0.00         1\n",
            "                                                           pasta salad       0.00      0.00      0.00         1\n",
            "                                                      pasteurized milk       0.00      0.00      0.00         2\n",
            "                                                                pastry       0.00      0.00      0.00         1\n",
            "                                                       pastry products       0.00      0.00      0.00         4\n",
            "                                                               peanuts       0.20      0.17      0.18         6\n",
            "                                                                 pears       0.00      0.00      0.00         0\n",
            "                                                              pet feed       0.00      0.00      0.00         5\n",
            "                                                      pickled beetroot       0.00      0.00      0.00         1\n",
            "                                                       pickled peppers       0.00      0.00      0.00         1\n",
            "                                                       pig meat - pork       0.00      0.00      0.00         1\n",
            "                                                        pistachio nuts       0.00      0.00      0.00         2\n",
            "                                                              plastics       0.00      0.00      0.00         1\n",
            "                                                                 poppy       0.00      0.00      0.00         0\n",
            "                                                pork and beef sausages       0.00      0.00      0.00         1\n",
            "                                                          pork sausage       0.25      0.50      0.33         2\n",
            "                                                          potato chips       0.00      0.00      0.00         4\n",
            "                                                          potato salad       0.00      0.00      0.00         2\n",
            "                                                              potatoes       0.00      0.00      0.00         1\n",
            "                                poultry meat and poultry meat products       0.00      0.00      0.00         1\n",
            "                                                        prawn crackers       0.00      0.00      0.00         1\n",
            "                                                                prawns       0.00      0.00      0.00         1\n",
            "                                   precooked cooked beef meat products       0.00      0.00      0.00         4\n",
            "                                                       prepacked salad       0.00      0.00      0.00         1\n",
            "                                            prepared dishes and snacks       0.00      0.00      0.00         1\n",
            "                                                       prepared salads       0.00      0.00      0.00         1\n",
            "                                                              pretzels       0.00      0.00      0.00         1\n",
            "                                                           protein bar       0.00      0.00      0.00         1\n",
            "                                                          protein bars       0.00      0.00      0.00         1\n",
            "                                                        protein powder       0.00      0.00      0.00         0\n",
            "                                                         pumpkin seeds       0.00      0.00      0.00         1\n",
            "                                                                  pâté       0.00      0.00      0.00         1\n",
            "                                                           raspberries       0.00      0.00      0.00         1\n",
            "                                                         raw beef meat       0.50      0.50      0.50         6\n",
            "                                                  raw goat milk cheese       0.00      0.00      0.00         1\n",
            "                                                              raw milk       0.00      0.00      0.00         4\n",
            "                              ready cooked sliced chicken tikka breast       0.00      0.00      0.00         1\n",
            "                                             ready to eat - cook meals       0.00      0.00      0.00         7\n",
            "                                           ready-to-eat seafood sticks       0.00      0.00      0.00         1\n",
            "                                                            red chilli       0.00      0.00      0.00         1\n",
            "                                                          refreshments       0.00      0.00      0.00         1\n",
            "                                                                  rice       0.00      0.00      0.00         1\n",
            "                                                            rice cakes       0.00      0.00      0.00         1\n",
            "                                                         rice crackers       0.00      0.00      0.00         0\n",
            "                                                           rice flakes       0.00      0.00      0.00         0\n",
            "                                                            rice snack       0.00      0.00      0.00         1\n",
            "                                                                salads       0.00      0.00      0.00         4\n",
            "                                                                salami       0.00      0.00      0.00         2\n",
            "                                                                salmon       0.00      0.00      0.00         3\n",
            "                                                            sandwiches       0.00      0.00      0.00         3\n",
            "                                                              sardines       0.00      0.00      0.00         1\n",
            "                                                                 sauce       0.00      0.00      0.00         1\n",
            "                                                                sauces       0.00      0.00      0.00         1\n",
            "                                                       sauerkraut meal       0.00      0.00      0.00         1\n",
            "                                                               sausage       0.00      0.00      0.00         3\n",
            "                                                      sausage products       0.00      0.00      0.00         0\n",
            "                                                      seafood products       0.00      0.00      0.00         0\n",
            "                                                      seasoned chicken       0.00      0.00      0.00         1\n",
            "                                                             seasoning       1.00      0.33      0.50         3\n",
            "                                                            seasonings       0.00      0.00      0.00         1\n",
            "                                                  seaweed preparations       0.00      0.00      0.00         1\n",
            "                                                      semi-soft cheese       0.00      0.00      0.00         0\n",
            "                                                                sesame       0.00      0.00      0.00         0\n",
            "                                                          sesame paste       0.00      0.00      0.00         1\n",
            "                                                          sesame seeds       0.00      0.00      0.00         1\n",
            "                                                               shrimps       0.00      0.00      0.00         3\n",
            "                                                          sliced bread       0.00      0.00      0.00         0\n",
            "                                                            sliced ham       0.00      0.00      0.00         1\n",
            "                                                        smoked sausage       0.25      0.33      0.29         3\n",
            "                                                             snack mix       0.50      0.17      0.25         6\n",
            "                                                      snacks (various)       0.00      0.00      0.00         5\n",
            "                                                            soda drink       0.00      0.00      0.00         1\n",
            "                                                                  soup       0.00      0.00      0.00         3\n",
            "                                                        soy bean paste       0.00      0.00      0.00         1\n",
            "                                                      soy milk product       0.00      0.00      0.00         1\n",
            "                                            soya and products therefor       0.00      0.00      0.00         1\n",
            "                                                                spices       0.00      0.00      0.00         1\n",
            "                                                        spinach leaves       0.00      0.00      0.00         1\n",
            "                                                               spirits       0.00      0.00      0.00         1\n",
            "                                                               spreads       0.00      0.00      0.00         0\n",
            "                                                          spring rolls       0.25      0.25      0.25         4\n",
            "                                                               sprouts       0.00      0.00      0.00         0\n",
            "                                                                starch       0.00      0.00      0.00         1\n",
            "                                                                 sugar       0.00      0.00      0.00         1\n",
            "                                                        sunflower seed       0.09      0.50      0.15         4\n",
            "                                            table water and soda water       0.00      0.00      0.00         1\n",
            "                                                                tahini       0.00      0.00      0.00         1\n",
            "                                                     tallegio (cheese)       0.00      0.00      0.00         1\n",
            "                                        tasty trio condiment selection       0.00      0.00      0.00         0\n",
            "                                                                   tea       0.00      0.00      0.00         0\n",
            "                                                              tea bags       0.00      0.00      0.00         1\n",
            "                                           thermal processed beef meat       0.00      0.00      0.00         3\n",
            "                                           thermal processed pork meat       0.06      0.25      0.10         4\n",
            "                                                                toffee       0.00      0.00      0.00         1\n",
            "                                                                  tofu       0.00      0.00      0.00         1\n",
            "                                                        tortilla chips       0.00      0.00      0.00         0\n",
            "                                                                  tuna       1.00      0.25      0.40         4\n",
            "                                        turkey and turkey preparations       0.00      0.00      0.00         3\n",
            "                                                 turkey based products       0.00      0.00      0.00         2\n",
            "                                   turnip leaves in sunflower seed oil       0.00      0.00      0.00         0\n",
            "                                                    vacuum packed beef       0.00      0.00      0.00         0\n",
            "                                           vacuum packed pork ear roll       0.00      0.00      0.00         0\n",
            "                                               various bakery products       0.00      0.00      0.00         1\n",
            "                                                 various fish products       0.00      0.00      0.00         0\n",
            "                                                        vegan sausages       0.00      0.00      0.00         1\n",
            "                                                         vegetable mix       0.00      0.00      0.00         2\n",
            "                                                     vegetable samosas       0.00      0.00      0.00         1\n",
            "                                                                wafers       0.00      0.00      0.00         1\n",
            "                                                               waffles       0.00      0.00      0.00         1\n",
            "                                                               walnuts       0.00      0.00      0.00         1\n",
            "                                           water for human consumption       0.00      0.00      0.00         1\n",
            "                                                    weight loss coffee       0.00      0.00      0.00         0\n",
            "                                                           wheat snack       0.00      0.00      0.00         1\n",
            "                                                          whey protein       0.00      0.00      0.00         0\n",
            "                                                       white chocolate       0.00      0.00      0.00         1\n",
            "                                                    white mould cheese       0.00      0.00      0.00         1\n",
            "                                                                  wine       0.00      0.00      0.00         2\n",
            "                                                               yoghurt       0.20      0.20      0.20         5\n",
            "\n",
            "                                                              accuracy                           0.09       504\n",
            "                                                             macro avg       0.05      0.04      0.04       504\n",
            "                                                          weighted avg       0.09      0.09      0.08       504\n",
            "\n",
            "Label Encoder for product saved in './best_model_product'\n"
          ]
        }
      ]
    },
    {
      "cell_type": "markdown",
      "source": [
        "# Generate predictions on the test data and print the predictions DataFrame\n",
        "Here, we load the test dataset, use the trained model to generate predictions, and display the results.\n"
      ],
      "metadata": {
        "id": "HLUojbN91Oon"
      }
    },
    {
      "cell_type": "code",
      "source": [
        "# Import necessary libraries\n",
        "import os\n",
        "import torch\n",
        "import numpy as np\n",
        "import pandas as pd\n",
        "from transformers import AutoTokenizer, AutoModelForSequenceClassification\n",
        "from sklearn.preprocessing import LabelEncoder\n",
        "\n",
        "# Load the test data for predictions (CSV containing validation data)\n",
        "test_path = '/content/drive/MyDrive/Data/validation_data/incidents.csv'\n",
        "test_df = pd.read_csv(test_path, index_col=0)\n",
        "\n",
        "# Define the predict function\n",
        "def predict(texts, model_base_path, target):\n",
        "    # Load the tokenizer for the specified pre-trained model\n",
        "    tokenizer = AutoTokenizer.from_pretrained(model_base_path)\n",
        "\n",
        "    # Load the correct label encoder for the given target\n",
        "    label_encoder_path = f'{model_base_path}/{target}_label_encoder.npy'\n",
        "    label_encoder = LabelEncoder()\n",
        "\n",
        "    # Check if the label encoder file exists and load it\n",
        "    if os.path.exists(label_encoder_path):\n",
        "        label_encoder.classes_ = np.load(label_encoder_path, allow_pickle=True)\n",
        "    else:\n",
        "        # Print a warning if the label encoder is not found\n",
        "        print(f\"Warning: Label encoder not found for {target} at {label_encoder_path}\")\n",
        "        return None\n",
        "\n",
        "    # Load the pre-trained model for sequence classification\n",
        "    model = AutoModelForSequenceClassification.from_pretrained(model_base_path).to(device)\n",
        "\n",
        "    # Tokenize the input texts\n",
        "    inputs = tokenizer(\n",
        "        texts,\n",
        "        padding=True,  # Pad sequences to the max length\n",
        "        truncation=True,  # Truncate sequences to the max length\n",
        "        max_length=512,  # Limit sequence length to 512 tokens\n",
        "        return_tensors=\"pt\"  # Return PyTorch tensors\n",
        "    ).to(device)\n",
        "\n",
        "    # Put the model in evaluation mode\n",
        "    model.eval()\n",
        "\n",
        "    # Make predictions with no gradient calculation\n",
        "    with torch.no_grad():\n",
        "        outputs = model(**inputs)\n",
        "        logits = outputs.logits\n",
        "        predictions = torch.argmax(logits, dim=-1)  # Get the predicted class for each input\n",
        "\n",
        "    # Decode the predictions using the label encoder\n",
        "    decoded_predictions = label_encoder.inverse_transform(predictions.cpu().numpy())\n",
        "\n",
        "    # Return the decoded predictions\n",
        "    return decoded_predictions\n",
        "\n",
        "# Define device for model prediction (use GPU if available, else use CPU)\n",
        "device = torch.device('cuda' if torch.cuda.is_available() else 'cpu')\n",
        "print(f\"Using device: {device}\")\n",
        "\n",
        "# Prepare an empty dataframe to store the predictions\n",
        "predictions = pd.DataFrame()\n",
        "\n",
        "# Run predictions for all targets using the correct saved model\n",
        "for column in targets_subtask1 + targets_subtask2:\n",
        "    # Define the model path dynamically based on the target column\n",
        "    model_path = f'./best_model_{column}'  # Update model path to point to the best model\n",
        "\n",
        "    # Get the decoded predictions for the current target\n",
        "    decoded_preds = predict(test_df['text'].tolist(), model_path, column)\n",
        "\n",
        "    # If predictions were successfully made, store them in the dataframe\n",
        "    if decoded_preds is not None:\n",
        "        predictions[column] = decoded_preds\n",
        "\n",
        "# Display the final predictions\n",
        "print(\"\\nFinal Predictions:\\n\")\n",
        "print(predictions)\n"
      ],
      "metadata": {
        "id": "1asDnwc-1QIb",
        "colab": {
          "base_uri": "https://localhost:8080/"
        },
        "outputId": "e8eae5f0-cfb2-4c71-d596-308183e67db0"
      },
      "execution_count": null,
      "outputs": [
        {
          "output_type": "stream",
          "name": "stdout",
          "text": [
            "Using device: cuda\n",
            "\n",
            "Final Predictions:\n",
            "\n",
            "    hazard-category                                   product-category  \\\n",
            "0        biological                       meat, egg and dairy products   \n",
            "1        biological                       meat, egg and dairy products   \n",
            "2        biological                       meat, egg and dairy products   \n",
            "3         allergens                                  ices and desserts   \n",
            "4    foreign bodies                       meat, egg and dairy products   \n",
            "..              ...                                                ...   \n",
            "560       allergens                              fruits and vegetables   \n",
            "561       allergens  dietetic foods, food supplements, fortified foods   \n",
            "562  foreign bodies                        cereals and bakery products   \n",
            "563       allergens                        cereals and bakery products   \n",
            "564       allergens       cocoa and cocoa preparations, coffee and tea   \n",
            "\n",
            "                           hazard          product  \n",
            "0                    listeria spp             milk  \n",
            "1                escherichia coli   chicken breast  \n",
            "2                   enteroviruses   chicken breast  \n",
            "3                       pecan nut   dried apricots  \n",
            "4                plastic fragment  dried beef meat  \n",
            "..                            ...              ...  \n",
            "560                        cashew       fruit pies  \n",
            "561     milk and products thereof          lettuce  \n",
            "562              plastic fragment        mushrooms  \n",
            "563  peanuts and products thereof            flour  \n",
            "564                        almond  food supplement  \n",
            "\n",
            "[565 rows x 4 columns]\n"
          ]
        }
      ]
    },
    {
      "cell_type": "code",
      "source": [
        "predictions"
      ],
      "metadata": {
        "id": "v6gfxEZFM2Kq",
        "colab": {
          "base_uri": "https://localhost:8080/",
          "height": 545
        },
        "outputId": "81fba82d-d444-43d0-cd93-30dedf4ea414"
      },
      "execution_count": null,
      "outputs": [
        {
          "output_type": "execute_result",
          "data": {
            "text/plain": [
              "    hazard-category                                   product-category  \\\n",
              "0        biological                       meat, egg and dairy products   \n",
              "1        biological                       meat, egg and dairy products   \n",
              "2        biological                       meat, egg and dairy products   \n",
              "3         allergens                                  ices and desserts   \n",
              "4    foreign bodies                       meat, egg and dairy products   \n",
              "..              ...                                                ...   \n",
              "560       allergens                              fruits and vegetables   \n",
              "561       allergens  dietetic foods, food supplements, fortified foods   \n",
              "562  foreign bodies                        cereals and bakery products   \n",
              "563       allergens                        cereals and bakery products   \n",
              "564       allergens       cocoa and cocoa preparations, coffee and tea   \n",
              "\n",
              "                           hazard          product  \n",
              "0                    listeria spp             milk  \n",
              "1                escherichia coli   chicken breast  \n",
              "2                   enteroviruses   chicken breast  \n",
              "3                       pecan nut   dried apricots  \n",
              "4                plastic fragment  dried beef meat  \n",
              "..                            ...              ...  \n",
              "560                        cashew       fruit pies  \n",
              "561     milk and products thereof          lettuce  \n",
              "562              plastic fragment        mushrooms  \n",
              "563  peanuts and products thereof            flour  \n",
              "564                        almond  food supplement  \n",
              "\n",
              "[565 rows x 4 columns]"
            ],
            "text/html": [
              "\n",
              "  <div id=\"df-15009649-1ba1-4c1b-9b22-b222adf6ac5a\" class=\"colab-df-container\">\n",
              "    <div>\n",
              "<style scoped>\n",
              "    .dataframe tbody tr th:only-of-type {\n",
              "        vertical-align: middle;\n",
              "    }\n",
              "\n",
              "    .dataframe tbody tr th {\n",
              "        vertical-align: top;\n",
              "    }\n",
              "\n",
              "    .dataframe thead th {\n",
              "        text-align: right;\n",
              "    }\n",
              "</style>\n",
              "<table border=\"1\" class=\"dataframe\">\n",
              "  <thead>\n",
              "    <tr style=\"text-align: right;\">\n",
              "      <th></th>\n",
              "      <th>hazard-category</th>\n",
              "      <th>product-category</th>\n",
              "      <th>hazard</th>\n",
              "      <th>product</th>\n",
              "    </tr>\n",
              "  </thead>\n",
              "  <tbody>\n",
              "    <tr>\n",
              "      <th>0</th>\n",
              "      <td>biological</td>\n",
              "      <td>meat, egg and dairy products</td>\n",
              "      <td>listeria spp</td>\n",
              "      <td>milk</td>\n",
              "    </tr>\n",
              "    <tr>\n",
              "      <th>1</th>\n",
              "      <td>biological</td>\n",
              "      <td>meat, egg and dairy products</td>\n",
              "      <td>escherichia coli</td>\n",
              "      <td>chicken breast</td>\n",
              "    </tr>\n",
              "    <tr>\n",
              "      <th>2</th>\n",
              "      <td>biological</td>\n",
              "      <td>meat, egg and dairy products</td>\n",
              "      <td>enteroviruses</td>\n",
              "      <td>chicken breast</td>\n",
              "    </tr>\n",
              "    <tr>\n",
              "      <th>3</th>\n",
              "      <td>allergens</td>\n",
              "      <td>ices and desserts</td>\n",
              "      <td>pecan nut</td>\n",
              "      <td>dried apricots</td>\n",
              "    </tr>\n",
              "    <tr>\n",
              "      <th>4</th>\n",
              "      <td>foreign bodies</td>\n",
              "      <td>meat, egg and dairy products</td>\n",
              "      <td>plastic fragment</td>\n",
              "      <td>dried beef meat</td>\n",
              "    </tr>\n",
              "    <tr>\n",
              "      <th>...</th>\n",
              "      <td>...</td>\n",
              "      <td>...</td>\n",
              "      <td>...</td>\n",
              "      <td>...</td>\n",
              "    </tr>\n",
              "    <tr>\n",
              "      <th>560</th>\n",
              "      <td>allergens</td>\n",
              "      <td>fruits and vegetables</td>\n",
              "      <td>cashew</td>\n",
              "      <td>fruit pies</td>\n",
              "    </tr>\n",
              "    <tr>\n",
              "      <th>561</th>\n",
              "      <td>allergens</td>\n",
              "      <td>dietetic foods, food supplements, fortified foods</td>\n",
              "      <td>milk and products thereof</td>\n",
              "      <td>lettuce</td>\n",
              "    </tr>\n",
              "    <tr>\n",
              "      <th>562</th>\n",
              "      <td>foreign bodies</td>\n",
              "      <td>cereals and bakery products</td>\n",
              "      <td>plastic fragment</td>\n",
              "      <td>mushrooms</td>\n",
              "    </tr>\n",
              "    <tr>\n",
              "      <th>563</th>\n",
              "      <td>allergens</td>\n",
              "      <td>cereals and bakery products</td>\n",
              "      <td>peanuts and products thereof</td>\n",
              "      <td>flour</td>\n",
              "    </tr>\n",
              "    <tr>\n",
              "      <th>564</th>\n",
              "      <td>allergens</td>\n",
              "      <td>cocoa and cocoa preparations, coffee and tea</td>\n",
              "      <td>almond</td>\n",
              "      <td>food supplement</td>\n",
              "    </tr>\n",
              "  </tbody>\n",
              "</table>\n",
              "<p>565 rows × 4 columns</p>\n",
              "</div>\n",
              "    <div class=\"colab-df-buttons\">\n",
              "\n",
              "  <div class=\"colab-df-container\">\n",
              "    <button class=\"colab-df-convert\" onclick=\"convertToInteractive('df-15009649-1ba1-4c1b-9b22-b222adf6ac5a')\"\n",
              "            title=\"Convert this dataframe to an interactive table.\"\n",
              "            style=\"display:none;\">\n",
              "\n",
              "  <svg xmlns=\"http://www.w3.org/2000/svg\" height=\"24px\" viewBox=\"0 -960 960 960\">\n",
              "    <path d=\"M120-120v-720h720v720H120Zm60-500h600v-160H180v160Zm220 220h160v-160H400v160Zm0 220h160v-160H400v160ZM180-400h160v-160H180v160Zm440 0h160v-160H620v160ZM180-180h160v-160H180v160Zm440 0h160v-160H620v160Z\"/>\n",
              "  </svg>\n",
              "    </button>\n",
              "\n",
              "  <style>\n",
              "    .colab-df-container {\n",
              "      display:flex;\n",
              "      gap: 12px;\n",
              "    }\n",
              "\n",
              "    .colab-df-convert {\n",
              "      background-color: #E8F0FE;\n",
              "      border: none;\n",
              "      border-radius: 50%;\n",
              "      cursor: pointer;\n",
              "      display: none;\n",
              "      fill: #1967D2;\n",
              "      height: 32px;\n",
              "      padding: 0 0 0 0;\n",
              "      width: 32px;\n",
              "    }\n",
              "\n",
              "    .colab-df-convert:hover {\n",
              "      background-color: #E2EBFA;\n",
              "      box-shadow: 0px 1px 2px rgba(60, 64, 67, 0.3), 0px 1px 3px 1px rgba(60, 64, 67, 0.15);\n",
              "      fill: #174EA6;\n",
              "    }\n",
              "\n",
              "    .colab-df-buttons div {\n",
              "      margin-bottom: 4px;\n",
              "    }\n",
              "\n",
              "    [theme=dark] .colab-df-convert {\n",
              "      background-color: #3B4455;\n",
              "      fill: #D2E3FC;\n",
              "    }\n",
              "\n",
              "    [theme=dark] .colab-df-convert:hover {\n",
              "      background-color: #434B5C;\n",
              "      box-shadow: 0px 1px 3px 1px rgba(0, 0, 0, 0.15);\n",
              "      filter: drop-shadow(0px 1px 2px rgba(0, 0, 0, 0.3));\n",
              "      fill: #FFFFFF;\n",
              "    }\n",
              "  </style>\n",
              "\n",
              "    <script>\n",
              "      const buttonEl =\n",
              "        document.querySelector('#df-15009649-1ba1-4c1b-9b22-b222adf6ac5a button.colab-df-convert');\n",
              "      buttonEl.style.display =\n",
              "        google.colab.kernel.accessAllowed ? 'block' : 'none';\n",
              "\n",
              "      async function convertToInteractive(key) {\n",
              "        const element = document.querySelector('#df-15009649-1ba1-4c1b-9b22-b222adf6ac5a');\n",
              "        const dataTable =\n",
              "          await google.colab.kernel.invokeFunction('convertToInteractive',\n",
              "                                                    [key], {});\n",
              "        if (!dataTable) return;\n",
              "\n",
              "        const docLinkHtml = 'Like what you see? Visit the ' +\n",
              "          '<a target=\"_blank\" href=https://colab.research.google.com/notebooks/data_table.ipynb>data table notebook</a>'\n",
              "          + ' to learn more about interactive tables.';\n",
              "        element.innerHTML = '';\n",
              "        dataTable['output_type'] = 'display_data';\n",
              "        await google.colab.output.renderOutput(dataTable, element);\n",
              "        const docLink = document.createElement('div');\n",
              "        docLink.innerHTML = docLinkHtml;\n",
              "        element.appendChild(docLink);\n",
              "      }\n",
              "    </script>\n",
              "  </div>\n",
              "\n",
              "\n",
              "<div id=\"df-3a03d4bd-77cd-4cb3-b495-7369e500c0f3\">\n",
              "  <button class=\"colab-df-quickchart\" onclick=\"quickchart('df-3a03d4bd-77cd-4cb3-b495-7369e500c0f3')\"\n",
              "            title=\"Suggest charts\"\n",
              "            style=\"display:none;\">\n",
              "\n",
              "<svg xmlns=\"http://www.w3.org/2000/svg\" height=\"24px\"viewBox=\"0 0 24 24\"\n",
              "     width=\"24px\">\n",
              "    <g>\n",
              "        <path d=\"M19 3H5c-1.1 0-2 .9-2 2v14c0 1.1.9 2 2 2h14c1.1 0 2-.9 2-2V5c0-1.1-.9-2-2-2zM9 17H7v-7h2v7zm4 0h-2V7h2v10zm4 0h-2v-4h2v4z\"/>\n",
              "    </g>\n",
              "</svg>\n",
              "  </button>\n",
              "\n",
              "<style>\n",
              "  .colab-df-quickchart {\n",
              "      --bg-color: #E8F0FE;\n",
              "      --fill-color: #1967D2;\n",
              "      --hover-bg-color: #E2EBFA;\n",
              "      --hover-fill-color: #174EA6;\n",
              "      --disabled-fill-color: #AAA;\n",
              "      --disabled-bg-color: #DDD;\n",
              "  }\n",
              "\n",
              "  [theme=dark] .colab-df-quickchart {\n",
              "      --bg-color: #3B4455;\n",
              "      --fill-color: #D2E3FC;\n",
              "      --hover-bg-color: #434B5C;\n",
              "      --hover-fill-color: #FFFFFF;\n",
              "      --disabled-bg-color: #3B4455;\n",
              "      --disabled-fill-color: #666;\n",
              "  }\n",
              "\n",
              "  .colab-df-quickchart {\n",
              "    background-color: var(--bg-color);\n",
              "    border: none;\n",
              "    border-radius: 50%;\n",
              "    cursor: pointer;\n",
              "    display: none;\n",
              "    fill: var(--fill-color);\n",
              "    height: 32px;\n",
              "    padding: 0;\n",
              "    width: 32px;\n",
              "  }\n",
              "\n",
              "  .colab-df-quickchart:hover {\n",
              "    background-color: var(--hover-bg-color);\n",
              "    box-shadow: 0 1px 2px rgba(60, 64, 67, 0.3), 0 1px 3px 1px rgba(60, 64, 67, 0.15);\n",
              "    fill: var(--button-hover-fill-color);\n",
              "  }\n",
              "\n",
              "  .colab-df-quickchart-complete:disabled,\n",
              "  .colab-df-quickchart-complete:disabled:hover {\n",
              "    background-color: var(--disabled-bg-color);\n",
              "    fill: var(--disabled-fill-color);\n",
              "    box-shadow: none;\n",
              "  }\n",
              "\n",
              "  .colab-df-spinner {\n",
              "    border: 2px solid var(--fill-color);\n",
              "    border-color: transparent;\n",
              "    border-bottom-color: var(--fill-color);\n",
              "    animation:\n",
              "      spin 1s steps(1) infinite;\n",
              "  }\n",
              "\n",
              "  @keyframes spin {\n",
              "    0% {\n",
              "      border-color: transparent;\n",
              "      border-bottom-color: var(--fill-color);\n",
              "      border-left-color: var(--fill-color);\n",
              "    }\n",
              "    20% {\n",
              "      border-color: transparent;\n",
              "      border-left-color: var(--fill-color);\n",
              "      border-top-color: var(--fill-color);\n",
              "    }\n",
              "    30% {\n",
              "      border-color: transparent;\n",
              "      border-left-color: var(--fill-color);\n",
              "      border-top-color: var(--fill-color);\n",
              "      border-right-color: var(--fill-color);\n",
              "    }\n",
              "    40% {\n",
              "      border-color: transparent;\n",
              "      border-right-color: var(--fill-color);\n",
              "      border-top-color: var(--fill-color);\n",
              "    }\n",
              "    60% {\n",
              "      border-color: transparent;\n",
              "      border-right-color: var(--fill-color);\n",
              "    }\n",
              "    80% {\n",
              "      border-color: transparent;\n",
              "      border-right-color: var(--fill-color);\n",
              "      border-bottom-color: var(--fill-color);\n",
              "    }\n",
              "    90% {\n",
              "      border-color: transparent;\n",
              "      border-bottom-color: var(--fill-color);\n",
              "    }\n",
              "  }\n",
              "</style>\n",
              "\n",
              "  <script>\n",
              "    async function quickchart(key) {\n",
              "      const quickchartButtonEl =\n",
              "        document.querySelector('#' + key + ' button');\n",
              "      quickchartButtonEl.disabled = true;  // To prevent multiple clicks.\n",
              "      quickchartButtonEl.classList.add('colab-df-spinner');\n",
              "      try {\n",
              "        const charts = await google.colab.kernel.invokeFunction(\n",
              "            'suggestCharts', [key], {});\n",
              "      } catch (error) {\n",
              "        console.error('Error during call to suggestCharts:', error);\n",
              "      }\n",
              "      quickchartButtonEl.classList.remove('colab-df-spinner');\n",
              "      quickchartButtonEl.classList.add('colab-df-quickchart-complete');\n",
              "    }\n",
              "    (() => {\n",
              "      let quickchartButtonEl =\n",
              "        document.querySelector('#df-3a03d4bd-77cd-4cb3-b495-7369e500c0f3 button');\n",
              "      quickchartButtonEl.style.display =\n",
              "        google.colab.kernel.accessAllowed ? 'block' : 'none';\n",
              "    })();\n",
              "  </script>\n",
              "</div>\n",
              "\n",
              "  <div id=\"id_3b41ebdf-f004-4aea-92c3-4a2c2c374724\">\n",
              "    <style>\n",
              "      .colab-df-generate {\n",
              "        background-color: #E8F0FE;\n",
              "        border: none;\n",
              "        border-radius: 50%;\n",
              "        cursor: pointer;\n",
              "        display: none;\n",
              "        fill: #1967D2;\n",
              "        height: 32px;\n",
              "        padding: 0 0 0 0;\n",
              "        width: 32px;\n",
              "      }\n",
              "\n",
              "      .colab-df-generate:hover {\n",
              "        background-color: #E2EBFA;\n",
              "        box-shadow: 0px 1px 2px rgba(60, 64, 67, 0.3), 0px 1px 3px 1px rgba(60, 64, 67, 0.15);\n",
              "        fill: #174EA6;\n",
              "      }\n",
              "\n",
              "      [theme=dark] .colab-df-generate {\n",
              "        background-color: #3B4455;\n",
              "        fill: #D2E3FC;\n",
              "      }\n",
              "\n",
              "      [theme=dark] .colab-df-generate:hover {\n",
              "        background-color: #434B5C;\n",
              "        box-shadow: 0px 1px 3px 1px rgba(0, 0, 0, 0.15);\n",
              "        filter: drop-shadow(0px 1px 2px rgba(0, 0, 0, 0.3));\n",
              "        fill: #FFFFFF;\n",
              "      }\n",
              "    </style>\n",
              "    <button class=\"colab-df-generate\" onclick=\"generateWithVariable('predictions')\"\n",
              "            title=\"Generate code using this dataframe.\"\n",
              "            style=\"display:none;\">\n",
              "\n",
              "  <svg xmlns=\"http://www.w3.org/2000/svg\" height=\"24px\"viewBox=\"0 0 24 24\"\n",
              "       width=\"24px\">\n",
              "    <path d=\"M7,19H8.4L18.45,9,17,7.55,7,17.6ZM5,21V16.75L18.45,3.32a2,2,0,0,1,2.83,0l1.4,1.43a1.91,1.91,0,0,1,.58,1.4,1.91,1.91,0,0,1-.58,1.4L9.25,21ZM18.45,9,17,7.55Zm-12,3A5.31,5.31,0,0,0,4.9,8.1,5.31,5.31,0,0,0,1,6.5,5.31,5.31,0,0,0,4.9,4.9,5.31,5.31,0,0,0,6.5,1,5.31,5.31,0,0,0,8.1,4.9,5.31,5.31,0,0,0,12,6.5,5.46,5.46,0,0,0,6.5,12Z\"/>\n",
              "  </svg>\n",
              "    </button>\n",
              "    <script>\n",
              "      (() => {\n",
              "      const buttonEl =\n",
              "        document.querySelector('#id_3b41ebdf-f004-4aea-92c3-4a2c2c374724 button.colab-df-generate');\n",
              "      buttonEl.style.display =\n",
              "        google.colab.kernel.accessAllowed ? 'block' : 'none';\n",
              "\n",
              "      buttonEl.onclick = () => {\n",
              "        google.colab.notebook.generateWithVariable('predictions');\n",
              "      }\n",
              "      })();\n",
              "    </script>\n",
              "  </div>\n",
              "\n",
              "    </div>\n",
              "  </div>\n"
            ],
            "application/vnd.google.colaboratory.intrinsic+json": {
              "type": "dataframe",
              "variable_name": "predictions",
              "summary": "{\n  \"name\": \"predictions\",\n  \"rows\": 565,\n  \"fields\": [\n    {\n      \"column\": \"hazard-category\",\n      \"properties\": {\n        \"dtype\": \"category\",\n        \"num_unique_values\": 8,\n        \"samples\": [\n          \"allergens\",\n          \"chemical\",\n          \"biological\"\n        ],\n        \"semantic_type\": \"\",\n        \"description\": \"\"\n      }\n    },\n    {\n      \"column\": \"product-category\",\n      \"properties\": {\n        \"dtype\": \"category\",\n        \"num_unique_values\": 17,\n        \"samples\": [\n          \"meat, egg and dairy products\",\n          \"ices and desserts\",\n          \"fruits and vegetables\"\n        ],\n        \"semantic_type\": \"\",\n        \"description\": \"\"\n      }\n    },\n    {\n      \"column\": \"hazard\",\n      \"properties\": {\n        \"dtype\": \"category\",\n        \"num_unique_values\": 76,\n        \"samples\": [\n          \"plastic fragment\",\n          \"sulphur dioxide and sulphites\",\n          \"chemical\"\n        ],\n        \"semantic_type\": \"\",\n        \"description\": \"\"\n      }\n    },\n    {\n      \"column\": \"product\",\n      \"properties\": {\n        \"dtype\": \"category\",\n        \"num_unique_values\": 148,\n        \"samples\": [\n          \"noodle\",\n          \"energy drink\",\n          \"dressing\"\n        ],\n        \"semantic_type\": \"\",\n        \"description\": \"\"\n      }\n    }\n  ]\n}"
            }
          },
          "metadata": {},
          "execution_count": 14
        }
      ]
    },
    {
      "cell_type": "markdown",
      "source": [
        "# Create the submission folder and archive the results\n",
        "Finally, predictions and models are saved into a submission directory for easy sharing or evaluation.\n"
      ],
      "metadata": {
        "id": "z5p7qVnA0Gc4"
      }
    },
    {
      "cell_type": "code",
      "source": [
        "import os\n",
        "from shutil import make_archive\n",
        "import pandas as pd\n",
        "from google.colab import drive\n",
        "\n",
        "# Define the Google Drive path where you want to save the files\n",
        "output_folder = '/content/drive/MyDrive/submission_finetunedPUBMEDBERTv2/'\n",
        "\n",
        "# Create the folder in Google Drive if it doesn't exist\n",
        "os.makedirs(output_folder, exist_ok=True)\n",
        "\n",
        "# Save predictions to a CSV file named 'submission.csv' inside the folder\n",
        "predictions.to_csv(f'{output_folder}submission.csv', index=False)\n",
        "\n",
        "# Zip the folder for submission\n",
        "make_archive(output_folder, 'zip', output_folder)\n",
        "\n",
        "# Print confirmation message\n",
        "print(f\"Submission saved to Google Drive at {output_folder}\")\n"
      ],
      "metadata": {
        "id": "REr-ySES0FHE",
        "colab": {
          "base_uri": "https://localhost:8080/"
        },
        "outputId": "c06a4928-e823-48d6-ca4d-bc005cccddf1"
      },
      "execution_count": null,
      "outputs": [
        {
          "output_type": "stream",
          "name": "stdout",
          "text": [
            "Submission saved to Google Drive at /content/drive/MyDrive/submission_finetunedPUBMEDBERTv2/\n"
          ]
        }
      ]
    }
  ]
}