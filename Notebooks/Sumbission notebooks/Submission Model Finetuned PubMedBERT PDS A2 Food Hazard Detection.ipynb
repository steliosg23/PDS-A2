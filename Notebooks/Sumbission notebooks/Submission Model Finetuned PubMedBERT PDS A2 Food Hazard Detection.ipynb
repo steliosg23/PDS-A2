{
 "cells": [
  {
   "cell_type": "markdown",
   "metadata": {
    "id": "view-in-github"
   },
   "source": [
    "<a href=\"https://colab.research.google.com/github/steliosg23/PDS-A2/blob/main/SUBMISSION%20Finetuned%20PubMedBERT%20PDS%20A2%20Food%20Hazard%20Detection.ipynb\" target=\"_parent\"><img src=\"https://colab.research.google.com/assets/colab-badge.svg\" alt=\"Open In Colab\"/></a>"
   ]
  },
  {
   "cell_type": "markdown",
   "metadata": {
    "id": "Up2bFjloyvaZ"
   },
   "source": [
    "# Install necessary packages and import libraries\n",
    "This section includes all the necessary imports for data manipulation, model training, and evaluation.\n",
    "It also imports libraries for handling tokenization, model configuration, and metrics.\n"
   ]
  },
  {
   "cell_type": "code",
   "execution_count": null,
   "metadata": {
    "id": "ySpgDtU5ywQM"
   },
   "outputs": [],
   "source": [
    "from google.colab import drive\n",
    "import pandas as pd\n",
    "import torch\n",
    "import re\n",
    "from sklearn.model_selection import train_test_split\n",
    "from sklearn.metrics import f1_score, classification_report\n",
    "from transformers import AutoTokenizer, AutoModelForSequenceClassification\n",
    "from torch.utils.data import DataLoader, Dataset\n",
    "import torch.nn as nn\n",
    "import torch.optim as optim\n",
    "from sklearn.preprocessing import LabelEncoder\n",
    "from tqdm import tqdm\n",
    "import os\n",
    "from shutil import make_archive\n",
    "import numpy as np\n",
    "from sklearn.utils.class_weight import compute_class_weight\n",
    "from torch.optim.lr_scheduler import ReduceLROnPlateau"
   ]
  },
  {
   "cell_type": "markdown",
   "metadata": {
    "id": "MIYvD2xxyzL8"
   },
   "source": [
    "# Mount Google Drive\n"
   ]
  },
  {
   "cell_type": "code",
   "execution_count": null,
   "metadata": {
    "colab": {
     "base_uri": "https://localhost:8080/"
    },
    "executionInfo": {
     "elapsed": 1422,
     "status": "ok",
     "timestamp": 1732691760388,
     "user": {
      "displayName": "Stelios Giagkos",
      "userId": "06441279652746263838"
     },
     "user_tz": -120
    },
    "id": "YiM_6Z68yxJ6",
    "outputId": "23955ac1-f57d-4bd2-99d8-0aa28c466465"
   },
   "outputs": [
    {
     "name": "stdout",
     "output_type": "stream",
     "text": [
      "Drive already mounted at /content/drive; to attempt to forcibly remount, call drive.mount(\"/content/drive\", force_remount=True).\n"
     ]
    }
   ],
   "source": [
    "drive.mount('/content/drive')\n"
   ]
  },
  {
   "cell_type": "markdown",
   "metadata": {
    "id": "g2q92Do-y2W9"
   },
   "source": [
    "# Load and preview the training dataset\n",
    "The dataset containing incident reports is loaded from Google Drive.\n",
    "We remove any unnecessary columns like 'Unnamed: 0'.\n"
   ]
  },
  {
   "cell_type": "code",
   "execution_count": null,
   "metadata": {
    "id": "ncSsiInty1G9"
   },
   "outputs": [],
   "source": [
    "train_path = '/content/drive/MyDrive/Data/incidents_train.csv'\n",
    "df = pd.read_csv(train_path)\n",
    "df = df.drop(columns=['Unnamed: 0'])\n"
   ]
  },
  {
   "cell_type": "markdown",
   "metadata": {
    "id": "KDS28Uk-zNPU"
   },
   "source": [
    "# Define a function to clean text data\n",
    "This function removes special characters, converts text to lowercase, and strips extra whitespace.\n",
    "It is essential to clean the text data for better model performance.\n"
   ]
  },
  {
   "cell_type": "code",
   "execution_count": null,
   "metadata": {
    "id": "DxuoSFEUy3rX"
   },
   "outputs": [],
   "source": [
    "import re\n",
    "\n",
    "def clean_text(text):\n",
    "    text = re.sub(r'[^a-zA-Z0-9\\s]', '', text)  # Remove non-alphanumeric characters\n",
    "    text = text.lower()  # Convert text to lowercase\n",
    "    text = ' '.join(text.split())  # Remove extra spaces\n",
    "    return text\n"
   ]
  },
  {
   "cell_type": "markdown",
   "metadata": {
    "id": "jBAtfWSgzROT"
   },
   "source": [
    "# Clean the text data and load the tokenizer\n",
    "We apply the `clean_text` function to clean the 'text' column of the dataset.\n",
    "Then, we initialize the PubMedBERT tokenizer to prepare for tokenization.\n"
   ]
  },
  {
   "cell_type": "code",
   "execution_count": null,
   "metadata": {
    "colab": {
     "base_uri": "https://localhost:8080/"
    },
    "executionInfo": {
     "elapsed": 1565,
     "status": "ok",
     "timestamp": 1732691762249,
     "user": {
      "displayName": "Stelios Giagkos",
      "userId": "06441279652746263838"
     },
     "user_tz": -120
    },
    "id": "E0Gy9-3ezQVb",
    "outputId": "2a253eae-6c8c-45f7-d7f1-1bdfb3bcc334"
   },
   "outputs": [
    {
     "name": "stderr",
     "output_type": "stream",
     "text": [
      "/usr/local/lib/python3.10/dist-packages/huggingface_hub/utils/_auth.py:94: UserWarning: \n",
      "The secret `HF_TOKEN` does not exist in your Colab secrets.\n",
      "To authenticate with the Hugging Face Hub, create a token in your settings tab (https://huggingface.co/settings/tokens), set it as secret in your Google Colab and restart your session.\n",
      "You will be able to reuse this secret in all of your notebooks.\n",
      "Please note that authentication is recommended but still optional to access public models or datasets.\n",
      "  warnings.warn(\n"
     ]
    }
   ],
   "source": [
    "# Load the tokenizer for the PubMedBERT model, specifically fine-tuned for biomedical text\n",
    "tokenizer = AutoTokenizer.from_pretrained(\"microsoft/BiomedNLP-PubMedBERT-base-uncased-abstract\")\n",
    "\n",
    "# Apply the text cleaning function to the 'text' column in the DataFrame\n",
    "# This function will preprocess each text entry by removing unwanted characters, stopwords, etc.\n",
    "df['text'] = df['text'].apply(clean_text)\n"
   ]
  },
  {
   "cell_type": "markdown",
   "metadata": {
    "id": "p6hPAUKozWMw"
   },
   "source": [
    "# Define features and targets for classification tasks\n",
    "We specify the input features like date and country and set the classification targets.\n",
    "\n"
   ]
  },
  {
   "cell_type": "code",
   "execution_count": null,
   "metadata": {
    "id": "kvkxIfuvzU3Z"
   },
   "outputs": [],
   "source": [
    "# Define the features for the model, which include the year, month, day, and country information\n",
    "features = ['year', 'month', 'day', 'country']\n",
    "\n",
    "# Define the target variables for Subtask 1, which are the hazard-category and product-category\n",
    "targets_subtask1 = ['hazard-category', 'product-category']\n",
    "\n",
    "\n",
    "# Define the target variables for Subtask 2, which are hazard and product\n",
    "# Add other targets if necessary depending on the task\n",
    "targets_subtask2 = ['hazard', 'product']\n"
   ]
  },
  {
   "cell_type": "markdown",
   "metadata": {
    "id": "-hn5LTh_zjI2"
   },
   "source": [
    "# Encode target labels\n",
    "For classification, target labels need to be encoded as numeric values.\n",
    "We use `LabelEncoder` to convert categorical labels into integers.\n"
   ]
  },
  {
   "cell_type": "code",
   "execution_count": null,
   "metadata": {
    "id": "8Wd6N94wziDV"
   },
   "outputs": [],
   "source": [
    "# Create an empty dictionary to store label encoders for each target\n",
    "label_encoders = {}\n",
    "\n",
    "# Iterate over both sets of targets (Subtask 1 and Subtask 2)\n",
    "for target in targets_subtask1 + targets_subtask2:\n",
    "    # Initialize a LabelEncoder for each target\n",
    "    le = LabelEncoder()\n",
    "\n",
    "    # Transform the target column values into numeric labels and update the DataFrame\n",
    "    df[target] = le.fit_transform(df[target])\n",
    "\n",
    "    # Store the fitted LabelEncoder in the dictionary for future use (e.g., inverse transformation)\n",
    "    label_encoders[target] = le\n"
   ]
  },
  {
   "cell_type": "markdown",
   "metadata": {
    "id": "kdnDHxmlzpCm"
   },
   "source": [
    "# Define a custom PyTorch dataset for text classification\n",
    "This dataset class will handle text tokenization and label processing.\n",
    "It ensures the text is properly encoded, padded, and truncated to a fixed length for the model.\n"
   ]
  },
  {
   "cell_type": "code",
   "execution_count": null,
   "metadata": {
    "id": "wkzzsS2Gzk9L"
   },
   "outputs": [],
   "source": [
    "# Define a custom Dataset class for text data\n",
    "class TextDataset(Dataset):\n",
    "    # Initialize the dataset with texts, labels, tokenizer, and maximum sequence length\n",
    "    def __init__(self, texts, labels, tokenizer, max_len):\n",
    "        self.texts = texts  # List of input texts\n",
    "        self.labels = labels  # List of corresponding labels\n",
    "        self.tokenizer = tokenizer  # Tokenizer for encoding the text\n",
    "        self.max_len = max_len  # Maximum length for padding/truncation\n",
    "\n",
    "    # Define the length of the dataset (number of samples)\n",
    "    def __len__(self):\n",
    "        return len(self.texts)\n",
    "\n",
    "    # Define how to retrieve a single item from the dataset\n",
    "    def __getitem__(self, item):\n",
    "        text = str(self.texts[item])  # Get the text for the given index\n",
    "        label = self.labels[item]  # Get the label for the given index\n",
    "\n",
    "        # Use the tokenizer to encode the text (add special tokens, padding, truncation)\n",
    "        encoding = self.tokenizer.encode_plus(\n",
    "            text,\n",
    "            add_special_tokens=True,  # Add special tokens (e.g., [CLS], [SEP])\n",
    "            max_length=self.max_len,  # Limit the sequence length\n",
    "            padding='max_length',  # Pad sequences to max_length\n",
    "            truncation=True,  # Truncate longer sequences\n",
    "            return_tensors='pt'  # Return PyTorch tensors\n",
    "        )\n",
    "\n",
    "        # Return a dictionary with input_ids, attention_mask, and label\n",
    "        return {\n",
    "            'input_ids': encoding['input_ids'].flatten(),  # Flatten the tensor\n",
    "            'attention_mask': encoding['attention_mask'].flatten(),  # Flatten the attention mask\n",
    "            'label': torch.tensor(label, dtype=torch.long)  # Convert label to a tensor\n",
    "        }\n"
   ]
  },
  {
   "cell_type": "markdown",
   "metadata": {
    "id": "SbkXM6pdzsmb"
   },
   "source": [
    "# Split the data into training and testing sets\n",
    "We split the dataset into training and testing sets for each target.\n",
    "This ensures that the model is trained on one set and evaluated on a separate, unseen set.\n"
   ]
  },
  {
   "cell_type": "code",
   "execution_count": null,
   "metadata": {
    "id": "dSuyInwzzrYc"
   },
   "outputs": [],
   "source": [
    "from sklearn.model_selection import train_test_split\n",
    "\n",
    "# Define a function to prepare data for model training and testing (no validation)\n",
    "def prepare_data(text_column):\n",
    "    # Extract features and text column from the DataFrame\n",
    "    X = df[features + [text_column]]  # Features include specified columns plus the text column\n",
    "    # Extract target variables for Subtask 1 and Subtask 2\n",
    "    y_subtask1 = df[targets_subtask1]\n",
    "    y_subtask2 = df[targets_subtask2]\n",
    "\n",
    "    # Initialize a dictionary to store data splits for each target\n",
    "    data_splits = {}\n",
    "\n",
    "    # Iterate over both sets of target variables (Subtask 1 and Subtask 2)\n",
    "    for target in targets_subtask1 + targets_subtask2:\n",
    "        # Split the data into training (90%) and testing (10%) sets\n",
    "        X_train, X_test, y_train, y_test = train_test_split(\n",
    "            X, df[target], test_size=0.1, random_state=42\n",
    "        )\n",
    "\n",
    "        # Reset the indices for the train and test sets\n",
    "        X_train = X_train.reset_index(drop=True)\n",
    "        y_train = y_train.reset_index(drop=True)\n",
    "        X_test = X_test.reset_index(drop=True)\n",
    "        y_test = y_test.reset_index(drop=True)\n",
    "\n",
    "        # Store the splits for the current target in the dictionary\n",
    "        data_splits[target] = (X_train, X_test, y_train, y_test)\n",
    "\n",
    "    # Return the dictionary containing data splits for each target\n",
    "    return data_splits\n"
   ]
  },
  {
   "cell_type": "markdown",
   "metadata": {
    "id": "gFhciBb6zvnJ"
   },
   "source": [
    "# Prepare the data splits for text-based tasks\n",
    "We apply the `prepare_data` function specifically for text tasks and save the splits for later use.\n"
   ]
  },
  {
   "cell_type": "code",
   "execution_count": null,
   "metadata": {
    "id": "Y7o-Gi7vzuZR"
   },
   "outputs": [],
   "source": [
    "# Prepare the data splits for the 'text' column using the prepare_data function\n",
    "text_splits = prepare_data('text')\n"
   ]
  },
  {
   "cell_type": "markdown",
   "metadata": {
    "id": "hEJgXRNIzybH"
   },
   "source": [
    "# Set model configuration and define the device\n",
    "Here, we configure key parameters for training like maximum sequence length, batch size, and learning rate.\n",
    "We also determine whether to use GPU or CPU for training based on availability.\n"
   ]
  },
  {
   "cell_type": "code",
   "execution_count": null,
   "metadata": {
    "colab": {
     "base_uri": "https://localhost:8080/"
    },
    "executionInfo": {
     "elapsed": 3,
     "status": "ok",
     "timestamp": 1732691762250,
     "user": {
      "displayName": "Stelios Giagkos",
      "userId": "06441279652746263838"
     },
     "user_tz": -120
    },
    "id": "4TetF1XIzxU8",
    "outputId": "1b73f8d0-1618-4efa-df1f-17401c19d1e8"
   },
   "outputs": [
    {
     "name": "stdout",
     "output_type": "stream",
     "text": [
      "Using device: cuda\n"
     ]
    }
   ],
   "source": [
    "# Define configuration settings for the model training\n",
    "config = {\n",
    "    'max_len': 256,  # Maximum sequence length for input texts\n",
    "    'batch_size': 16,  # Batch size for training\n",
    "    'learning_rate': 5e-5,  # Learning rate for the optimizer\n",
    "    'epochs': 100,  # Increased number of training epochs\n",
    "    'model_name': \"microsoft/BiomedNLP-PubMedBERT-base-uncased-abstract\"  # Pre-trained model to use\n",
    "}\n",
    "\n",
    "\n",
    "\n",
    "# Determine the device to use for training (GPU if available, otherwise CPU)\n",
    "device = torch.device('cuda' if torch.cuda.is_available() else 'cpu')\n",
    "print(f\"Using device: {device}\")\n"
   ]
  },
  {
   "cell_type": "markdown",
   "metadata": {
    "id": "u22f8LM6z26I"
   },
   "source": [
    "# Training Function Explanation\n",
    "\n",
    "## Overview\n",
    "The `train_and_evaluate_bert` function in the submission notebook has been redesigned with key enhancements to improve the training process compared to the benchmark notebooks. These changes include better handling of class imbalance, task-specific adaptations, and improved evaluation metrics, ensuring more robust performance and generalization.\n",
    "\n",
    "---\n",
    "\n",
    "## Key Features in the Submission Notebook\n",
    "\n",
    "### 1. **Dynamic Class Weights**\n",
    "- Dynamically calculates class weights for each task using `compute_class_weight` to address class imbalance.\n",
    "- Applies these weights in the loss function (`CrossEntropyLoss`), leading to better performance for underrepresented classes.\n",
    "\n",
    "### 2. **Task-Specific Adaptation**\n",
    "- Automatically determines the number of classes (`num_labels`) for each task based on the dataset.\n",
    "- Saves task-specific label encoders, models, and tokenizers for easy reuse and deployment.\n",
    "\n",
    "### 3. **Macro F1-Score Evaluation**\n",
    "- **Change Implemented:** The evaluation metric has been updated to use **macro F1-score** instead of weighted F1-score to better reflect the model's performance across all classes, regardless of class distribution.\n",
    "- Ensures fair evaluation, especially for tasks with imbalanced datasets.\n",
    "\n",
    "### 4. **Efficient Training with Early Stopping**\n",
    "- Introduces early stopping to halt training when validation loss stops improving, preventing overfitting and saving computational resources.\n",
    "\n",
    "### 5. **Learning Rate Scheduling**\n",
    "- Uses `ReduceLROnPlateau` to adjust the learning rate dynamically based on validation loss, ensuring smoother convergence.\n",
    "\n",
    "### 6. **Enhanced Model Saving**\n",
    "- Saves the best-performing model weights, tokenizer, and task-specific label encoders for deployment or further experimentation.\n",
    "\n",
    "---\n",
    "\n",
    "## Comparison with Benchmark Notebooks\n",
    "- **Improved Metric Selection:** The switch to **macro F1-score** ensures fairer performance evaluation across all classes compared to the weighted F1-score used in the benchmark notebooks.\n",
    "- **Better Training Pipeline:** Includes features like class weights, early stopping, and learning rate scheduling, which may not be fully utilized in the benchmark implementations.\n",
    "\n",
    "---\n",
    "\n",
    "## Summary\n",
    "The submission notebook incorporates several improvements, including a shift to macro F1-score and a more refined training pipeline, to provide better and fairer results compared to the benchmark notebooks.\n"
   ]
  },
  {
   "cell_type": "code",
   "execution_count": null,
   "metadata": {
    "colab": {
     "base_uri": "https://localhost:8080/"
    },
    "executionInfo": {
     "elapsed": 15178775,
     "status": "ok",
     "timestamp": 1732706941023,
     "user": {
      "displayName": "Stelios Giagkos",
      "userId": "06441279652746263838"
     },
     "user_tz": -120
    },
    "id": "imN-jiGRz1xV",
    "outputId": "efb4f402-db5f-4dfd-d5e6-cee444ed8347"
   },
   "outputs": [
    {
     "name": "stdout",
     "output_type": "stream",
     "text": [
      "\n",
      "Starting training for task: hazard-category\n"
     ]
    },
    {
     "name": "stderr",
     "output_type": "stream",
     "text": [
      "Some weights of BertForSequenceClassification were not initialized from the model checkpoint at microsoft/BiomedNLP-PubMedBERT-base-uncased-abstract and are newly initialized: ['classifier.bias', 'classifier.weight']\n",
      "You should probably TRAIN this model on a down-stream task to be able to use it for predictions and inference.\n"
     ]
    },
    {
     "name": "stdout",
     "output_type": "stream",
     "text": [
      "Epoch 1/100 - Training: hazard-category\n"
     ]
    },
    {
     "name": "stderr",
     "output_type": "stream",
     "text": [
      "Training Epoch 1: 100%|██████████| 286/286 [00:53<00:00,  5.36it/s, loss=0.778]\n"
     ]
    },
    {
     "name": "stdout",
     "output_type": "stream",
     "text": [
      "Average Loss after Epoch 1: 0.4932138164286743\n",
      "Learning rate after epoch 1: 5e-05\n",
      "New best model found. Saving the model at epoch 1.\n",
      "Epoch 2/100 - Training: hazard-category\n"
     ]
    },
    {
     "name": "stderr",
     "output_type": "stream",
     "text": [
      "Training Epoch 2: 100%|██████████| 286/286 [00:52<00:00,  5.44it/s, loss=0.421]\n"
     ]
    },
    {
     "name": "stdout",
     "output_type": "stream",
     "text": [
      "Average Loss after Epoch 2: 0.228695103641391\n",
      "Learning rate after epoch 2: 5e-05\n",
      "New best model found. Saving the model at epoch 2.\n",
      "Epoch 3/100 - Training: hazard-category\n"
     ]
    },
    {
     "name": "stderr",
     "output_type": "stream",
     "text": [
      "Training Epoch 3: 100%|██████████| 286/286 [00:52<00:00,  5.44it/s, loss=0.229]\n"
     ]
    },
    {
     "name": "stdout",
     "output_type": "stream",
     "text": [
      "Average Loss after Epoch 3: 0.17491754324507566\n",
      "Learning rate after epoch 3: 5e-05\n",
      "New best model found. Saving the model at epoch 3.\n",
      "Epoch 4/100 - Training: hazard-category\n"
     ]
    },
    {
     "name": "stderr",
     "output_type": "stream",
     "text": [
      "Training Epoch 4: 100%|██████████| 286/286 [00:52<00:00,  5.44it/s, loss=0.0279]\n"
     ]
    },
    {
     "name": "stdout",
     "output_type": "stream",
     "text": [
      "Average Loss after Epoch 4: 0.13759832987985152\n",
      "Learning rate after epoch 4: 5e-05\n",
      "New best model found. Saving the model at epoch 4.\n",
      "Epoch 5/100 - Training: hazard-category\n"
     ]
    },
    {
     "name": "stderr",
     "output_type": "stream",
     "text": [
      "Training Epoch 5: 100%|██████████| 286/286 [00:52<00:00,  5.44it/s, loss=0.0479]\n"
     ]
    },
    {
     "name": "stdout",
     "output_type": "stream",
     "text": [
      "Average Loss after Epoch 5: 0.11818640261328409\n",
      "Learning rate after epoch 5: 5e-05\n",
      "New best model found. Saving the model at epoch 5.\n",
      "Epoch 6/100 - Training: hazard-category\n"
     ]
    },
    {
     "name": "stderr",
     "output_type": "stream",
     "text": [
      "Training Epoch 6: 100%|██████████| 286/286 [00:52<00:00,  5.44it/s, loss=0.011]\n"
     ]
    },
    {
     "name": "stdout",
     "output_type": "stream",
     "text": [
      "Average Loss after Epoch 6: 0.0869800663541781\n",
      "Learning rate after epoch 6: 5e-05\n",
      "New best model found. Saving the model at epoch 6.\n",
      "Epoch 7/100 - Training: hazard-category\n"
     ]
    },
    {
     "name": "stderr",
     "output_type": "stream",
     "text": [
      "Training Epoch 7: 100%|██████████| 286/286 [00:52<00:00,  5.44it/s, loss=0.0354]\n"
     ]
    },
    {
     "name": "stdout",
     "output_type": "stream",
     "text": [
      "Average Loss after Epoch 7: 0.08727097197784228\n",
      "Learning rate after epoch 7: 5e-05\n",
      "Epoch 8/100 - Training: hazard-category\n"
     ]
    },
    {
     "name": "stderr",
     "output_type": "stream",
     "text": [
      "Training Epoch 8: 100%|██████████| 286/286 [00:52<00:00,  5.44it/s, loss=0.151]\n"
     ]
    },
    {
     "name": "stdout",
     "output_type": "stream",
     "text": [
      "Average Loss after Epoch 8: 0.10631898705687999\n",
      "Learning rate after epoch 8: 5e-05\n",
      "Epoch 9/100 - Training: hazard-category\n"
     ]
    },
    {
     "name": "stderr",
     "output_type": "stream",
     "text": [
      "Training Epoch 9: 100%|██████████| 286/286 [00:52<00:00,  5.42it/s, loss=0.137]\n"
     ]
    },
    {
     "name": "stdout",
     "output_type": "stream",
     "text": [
      "Average Loss after Epoch 9: 0.07979211018834315\n",
      "Learning rate after epoch 9: 5e-05\n",
      "New best model found. Saving the model at epoch 9.\n",
      "Epoch 10/100 - Training: hazard-category\n"
     ]
    },
    {
     "name": "stderr",
     "output_type": "stream",
     "text": [
      "Training Epoch 10: 100%|██████████| 286/286 [00:53<00:00,  5.39it/s, loss=0.0477]\n"
     ]
    },
    {
     "name": "stdout",
     "output_type": "stream",
     "text": [
      "Average Loss after Epoch 10: 0.08561765833617793\n",
      "Learning rate after epoch 10: 5e-05\n",
      "Epoch 11/100 - Training: hazard-category\n"
     ]
    },
    {
     "name": "stderr",
     "output_type": "stream",
     "text": [
      "Training Epoch 11: 100%|██████████| 286/286 [00:52<00:00,  5.42it/s, loss=0.00416]\n"
     ]
    },
    {
     "name": "stdout",
     "output_type": "stream",
     "text": [
      "Average Loss after Epoch 11: 0.04964278714358481\n",
      "Learning rate after epoch 11: 5e-05\n",
      "New best model found. Saving the model at epoch 11.\n",
      "Epoch 12/100 - Training: hazard-category\n"
     ]
    },
    {
     "name": "stderr",
     "output_type": "stream",
     "text": [
      "Training Epoch 12: 100%|██████████| 286/286 [00:52<00:00,  5.43it/s, loss=0.0109]\n"
     ]
    },
    {
     "name": "stdout",
     "output_type": "stream",
     "text": [
      "Average Loss after Epoch 12: 0.05302505161315268\n",
      "Learning rate after epoch 12: 5e-05\n",
      "Epoch 13/100 - Training: hazard-category\n"
     ]
    },
    {
     "name": "stderr",
     "output_type": "stream",
     "text": [
      "Training Epoch 13: 100%|██████████| 286/286 [00:52<00:00,  5.43it/s, loss=0.00292]\n"
     ]
    },
    {
     "name": "stdout",
     "output_type": "stream",
     "text": [
      "Average Loss after Epoch 13: 0.03754718639029815\n",
      "Learning rate after epoch 13: 5e-05\n",
      "New best model found. Saving the model at epoch 13.\n",
      "Epoch 14/100 - Training: hazard-category\n"
     ]
    },
    {
     "name": "stderr",
     "output_type": "stream",
     "text": [
      "Training Epoch 14: 100%|██████████| 286/286 [00:52<00:00,  5.44it/s, loss=0.00169]\n"
     ]
    },
    {
     "name": "stdout",
     "output_type": "stream",
     "text": [
      "Average Loss after Epoch 14: 0.043519149866961336\n",
      "Learning rate after epoch 14: 5e-05\n",
      "Epoch 15/100 - Training: hazard-category\n"
     ]
    },
    {
     "name": "stderr",
     "output_type": "stream",
     "text": [
      "Training Epoch 15: 100%|██████████| 286/286 [00:52<00:00,  5.43it/s, loss=0.00625]\n"
     ]
    },
    {
     "name": "stdout",
     "output_type": "stream",
     "text": [
      "Average Loss after Epoch 15: 0.04479122285322462\n",
      "Learning rate after epoch 15: 5e-05\n",
      "Epoch 16/100 - Training: hazard-category\n"
     ]
    },
    {
     "name": "stderr",
     "output_type": "stream",
     "text": [
      "Training Epoch 16: 100%|██████████| 286/286 [00:52<00:00,  5.43it/s, loss=0.0158]\n"
     ]
    },
    {
     "name": "stdout",
     "output_type": "stream",
     "text": [
      "Average Loss after Epoch 16: 0.07537570624356646\n",
      "Learning rate after epoch 16: 5e-05\n",
      "Epoch 17/100 - Training: hazard-category\n"
     ]
    },
    {
     "name": "stderr",
     "output_type": "stream",
     "text": [
      "Training Epoch 17: 100%|██████████| 286/286 [00:52<00:00,  5.43it/s, loss=0.0304]\n"
     ]
    },
    {
     "name": "stdout",
     "output_type": "stream",
     "text": [
      "Average Loss after Epoch 17: 0.04882150691351039\n",
      "Learning rate after epoch 17: 5e-05\n",
      "Epoch 18/100 - Training: hazard-category\n"
     ]
    },
    {
     "name": "stderr",
     "output_type": "stream",
     "text": [
      "Training Epoch 18: 100%|██████████| 286/286 [00:52<00:00,  5.44it/s, loss=0.008]\n"
     ]
    },
    {
     "name": "stdout",
     "output_type": "stream",
     "text": [
      "Average Loss after Epoch 18: 0.017227711482258462\n",
      "Learning rate after epoch 18: 5e-06\n",
      "New best model found. Saving the model at epoch 18.\n",
      "Epoch 19/100 - Training: hazard-category\n"
     ]
    },
    {
     "name": "stderr",
     "output_type": "stream",
     "text": [
      "Training Epoch 19: 100%|██████████| 286/286 [00:52<00:00,  5.44it/s, loss=0.0129]\n"
     ]
    },
    {
     "name": "stdout",
     "output_type": "stream",
     "text": [
      "Average Loss after Epoch 19: 0.009034228508712373\n",
      "Learning rate after epoch 19: 5e-06\n",
      "New best model found. Saving the model at epoch 19.\n",
      "Epoch 20/100 - Training: hazard-category\n"
     ]
    },
    {
     "name": "stderr",
     "output_type": "stream",
     "text": [
      "Training Epoch 20: 100%|██████████| 286/286 [00:52<00:00,  5.43it/s, loss=0.00235]\n"
     ]
    },
    {
     "name": "stdout",
     "output_type": "stream",
     "text": [
      "Average Loss after Epoch 20: 0.00718273536482878\n",
      "Learning rate after epoch 20: 5e-06\n",
      "New best model found. Saving the model at epoch 20.\n",
      "Epoch 21/100 - Training: hazard-category\n"
     ]
    },
    {
     "name": "stderr",
     "output_type": "stream",
     "text": [
      "Training Epoch 21: 100%|██████████| 286/286 [00:52<00:00,  5.44it/s, loss=0.000972]\n"
     ]
    },
    {
     "name": "stdout",
     "output_type": "stream",
     "text": [
      "Average Loss after Epoch 21: 0.006525563776258614\n",
      "Learning rate after epoch 21: 5e-06\n",
      "New best model found. Saving the model at epoch 21.\n",
      "Epoch 22/100 - Training: hazard-category\n"
     ]
    },
    {
     "name": "stderr",
     "output_type": "stream",
     "text": [
      "Training Epoch 22: 100%|██████████| 286/286 [00:52<00:00,  5.43it/s, loss=0.00129]\n"
     ]
    },
    {
     "name": "stdout",
     "output_type": "stream",
     "text": [
      "Average Loss after Epoch 22: 0.004919385908935154\n",
      "Learning rate after epoch 22: 5e-06\n",
      "New best model found. Saving the model at epoch 22.\n",
      "Epoch 23/100 - Training: hazard-category\n"
     ]
    },
    {
     "name": "stderr",
     "output_type": "stream",
     "text": [
      "Training Epoch 23: 100%|██████████| 286/286 [00:52<00:00,  5.42it/s, loss=0.000721]\n"
     ]
    },
    {
     "name": "stdout",
     "output_type": "stream",
     "text": [
      "Average Loss after Epoch 23: 0.004898404438574505\n",
      "Learning rate after epoch 23: 5e-06\n",
      "New best model found. Saving the model at epoch 23.\n",
      "Epoch 24/100 - Training: hazard-category\n"
     ]
    },
    {
     "name": "stderr",
     "output_type": "stream",
     "text": [
      "Training Epoch 24: 100%|██████████| 286/286 [00:52<00:00,  5.43it/s, loss=0.000961]\n"
     ]
    },
    {
     "name": "stdout",
     "output_type": "stream",
     "text": [
      "Average Loss after Epoch 24: 0.004122378047143754\n",
      "Learning rate after epoch 24: 5e-06\n",
      "New best model found. Saving the model at epoch 24.\n",
      "Epoch 25/100 - Training: hazard-category\n"
     ]
    },
    {
     "name": "stderr",
     "output_type": "stream",
     "text": [
      "Training Epoch 25: 100%|██████████| 286/286 [00:52<00:00,  5.43it/s, loss=0.00067]\n"
     ]
    },
    {
     "name": "stdout",
     "output_type": "stream",
     "text": [
      "Average Loss after Epoch 25: 0.0030245822701697607\n",
      "Learning rate after epoch 25: 5e-06\n",
      "New best model found. Saving the model at epoch 25.\n",
      "Epoch 26/100 - Training: hazard-category\n"
     ]
    },
    {
     "name": "stderr",
     "output_type": "stream",
     "text": [
      "Training Epoch 26: 100%|██████████| 286/286 [00:52<00:00,  5.43it/s, loss=0.00133]\n"
     ]
    },
    {
     "name": "stdout",
     "output_type": "stream",
     "text": [
      "Average Loss after Epoch 26: 0.0025890454650128753\n",
      "Learning rate after epoch 26: 5e-06\n",
      "New best model found. Saving the model at epoch 26.\n",
      "Epoch 27/100 - Training: hazard-category\n"
     ]
    },
    {
     "name": "stderr",
     "output_type": "stream",
     "text": [
      "Training Epoch 27: 100%|██████████| 286/286 [00:52<00:00,  5.43it/s, loss=0.000921]\n"
     ]
    },
    {
     "name": "stdout",
     "output_type": "stream",
     "text": [
      "Average Loss after Epoch 27: 0.002083809633875246\n",
      "Learning rate after epoch 27: 5e-06\n",
      "New best model found. Saving the model at epoch 27.\n",
      "Epoch 28/100 - Training: hazard-category\n"
     ]
    },
    {
     "name": "stderr",
     "output_type": "stream",
     "text": [
      "Training Epoch 28: 100%|██████████| 286/286 [00:52<00:00,  5.43it/s, loss=0.00049]\n"
     ]
    },
    {
     "name": "stdout",
     "output_type": "stream",
     "text": [
      "Average Loss after Epoch 28: 0.0017934696432577537\n",
      "Learning rate after epoch 28: 5e-06\n",
      "New best model found. Saving the model at epoch 28.\n",
      "Epoch 29/100 - Training: hazard-category\n"
     ]
    },
    {
     "name": "stderr",
     "output_type": "stream",
     "text": [
      "Training Epoch 29: 100%|██████████| 286/286 [00:52<00:00,  5.43it/s, loss=0.000671]\n"
     ]
    },
    {
     "name": "stdout",
     "output_type": "stream",
     "text": [
      "Average Loss after Epoch 29: 0.0016272282077266567\n",
      "Learning rate after epoch 29: 5e-06\n",
      "New best model found. Saving the model at epoch 29.\n",
      "Epoch 30/100 - Training: hazard-category\n"
     ]
    },
    {
     "name": "stderr",
     "output_type": "stream",
     "text": [
      "Training Epoch 30: 100%|██████████| 286/286 [00:52<00:00,  5.44it/s, loss=0.000308]\n"
     ]
    },
    {
     "name": "stdout",
     "output_type": "stream",
     "text": [
      "Average Loss after Epoch 30: 0.002440069418209621\n",
      "Learning rate after epoch 30: 5e-06\n",
      "Epoch 31/100 - Training: hazard-category\n"
     ]
    },
    {
     "name": "stderr",
     "output_type": "stream",
     "text": [
      "Training Epoch 31: 100%|██████████| 286/286 [00:52<00:00,  5.43it/s, loss=0.000421]\n"
     ]
    },
    {
     "name": "stdout",
     "output_type": "stream",
     "text": [
      "Average Loss after Epoch 31: 0.0038831724870341043\n",
      "Learning rate after epoch 31: 5e-06\n",
      "Epoch 32/100 - Training: hazard-category\n"
     ]
    },
    {
     "name": "stderr",
     "output_type": "stream",
     "text": [
      "Training Epoch 32: 100%|██████████| 286/286 [00:52<00:00,  5.43it/s, loss=0.000287]\n"
     ]
    },
    {
     "name": "stdout",
     "output_type": "stream",
     "text": [
      "Average Loss after Epoch 32: 0.001323274409158686\n",
      "Learning rate after epoch 32: 5e-06\n",
      "New best model found. Saving the model at epoch 32.\n",
      "Epoch 33/100 - Training: hazard-category\n"
     ]
    },
    {
     "name": "stderr",
     "output_type": "stream",
     "text": [
      "Training Epoch 33: 100%|██████████| 286/286 [00:52<00:00,  5.43it/s, loss=0.000878]\n"
     ]
    },
    {
     "name": "stdout",
     "output_type": "stream",
     "text": [
      "Average Loss after Epoch 33: 0.0012513467329888037\n",
      "Learning rate after epoch 33: 5e-06\n",
      "New best model found. Saving the model at epoch 33.\n",
      "Epoch 34/100 - Training: hazard-category\n"
     ]
    },
    {
     "name": "stderr",
     "output_type": "stream",
     "text": [
      "Training Epoch 34: 100%|██████████| 286/286 [00:52<00:00,  5.43it/s, loss=0.000292]\n"
     ]
    },
    {
     "name": "stdout",
     "output_type": "stream",
     "text": [
      "Average Loss after Epoch 34: 0.0010512634916222895\n",
      "Learning rate after epoch 34: 5e-06\n",
      "New best model found. Saving the model at epoch 34.\n",
      "Epoch 35/100 - Training: hazard-category\n"
     ]
    },
    {
     "name": "stderr",
     "output_type": "stream",
     "text": [
      "Training Epoch 35: 100%|██████████| 286/286 [00:52<00:00,  5.42it/s, loss=0.000238]\n"
     ]
    },
    {
     "name": "stdout",
     "output_type": "stream",
     "text": [
      "Average Loss after Epoch 35: 0.0010950130923269349\n",
      "Learning rate after epoch 35: 5e-06\n",
      "Epoch 36/100 - Training: hazard-category\n"
     ]
    },
    {
     "name": "stderr",
     "output_type": "stream",
     "text": [
      "Training Epoch 36: 100%|██████████| 286/286 [00:52<00:00,  5.43it/s, loss=0.00031]\n"
     ]
    },
    {
     "name": "stdout",
     "output_type": "stream",
     "text": [
      "Average Loss after Epoch 36: 0.0026818771518004074\n",
      "Learning rate after epoch 36: 5e-06\n",
      "Epoch 37/100 - Training: hazard-category\n"
     ]
    },
    {
     "name": "stderr",
     "output_type": "stream",
     "text": [
      "Training Epoch 37: 100%|██████████| 286/286 [00:52<00:00,  5.43it/s, loss=0.000394]\n"
     ]
    },
    {
     "name": "stdout",
     "output_type": "stream",
     "text": [
      "Average Loss after Epoch 37: 0.0020334447574393883\n",
      "Learning rate after epoch 37: 5e-06\n",
      "Epoch 38/100 - Training: hazard-category\n"
     ]
    },
    {
     "name": "stderr",
     "output_type": "stream",
     "text": [
      "Training Epoch 38: 100%|██████████| 286/286 [00:52<00:00,  5.43it/s, loss=0.000255]\n"
     ]
    },
    {
     "name": "stdout",
     "output_type": "stream",
     "text": [
      "Average Loss after Epoch 38: 0.0013600726034618438\n",
      "Learning rate after epoch 38: 5e-06\n",
      "Epoch 39/100 - Training: hazard-category\n"
     ]
    },
    {
     "name": "stderr",
     "output_type": "stream",
     "text": [
      "Training Epoch 39: 100%|██████████| 286/286 [00:52<00:00,  5.43it/s, loss=0.000252]\n"
     ]
    },
    {
     "name": "stdout",
     "output_type": "stream",
     "text": [
      "Average Loss after Epoch 39: 0.001392575661589512\n",
      "Learning rate after epoch 39: 5.000000000000001e-07\n",
      "Epoch 40/100 - Training: hazard-category\n"
     ]
    },
    {
     "name": "stderr",
     "output_type": "stream",
     "text": [
      "Training Epoch 40: 100%|██████████| 286/286 [00:52<00:00,  5.43it/s, loss=0.000478]\n"
     ]
    },
    {
     "name": "stdout",
     "output_type": "stream",
     "text": [
      "Average Loss after Epoch 40: 0.0012774442215091907\n",
      "Learning rate after epoch 40: 5.000000000000001e-07\n",
      "Early stopping triggered!\n",
      "Saving the best model from epoch 34.\n",
      "Evaluating model for task: hazard-category\n"
     ]
    },
    {
     "name": "stderr",
     "output_type": "stream",
     "text": [
      "Evaluating: 100%|██████████| 32/32 [00:02<00:00, 12.66it/s]\n"
     ]
    },
    {
     "name": "stdout",
     "output_type": "stream",
     "text": [
      "F1-Score for hazard-category: 0.8151186899805364\n",
      "Classification Report for hazard-category:\n",
      "\n",
      "                                precision    recall  f1-score   support\n",
      "\n",
      "                     allergens       0.96      0.99      0.97       188\n",
      "                    biological       0.99      0.99      0.99       171\n",
      "                      chemical       0.94      0.97      0.96        35\n",
      "food additives and flavourings       0.33      0.20      0.25         5\n",
      "                foreign bodies       1.00      0.98      0.99        58\n",
      "                         fraud       0.78      0.75      0.76        28\n",
      "                     migration       1.00      1.00      1.00         1\n",
      "          organoleptic aspects       0.75      1.00      0.86         3\n",
      "                  other hazard       0.91      0.67      0.77        15\n",
      "              packaging defect       0.60      0.60      0.60         5\n",
      "\n",
      "                      accuracy                           0.95       509\n",
      "                     macro avg       0.83      0.81      0.82       509\n",
      "                  weighted avg       0.95      0.95      0.95       509\n",
      "\n",
      "Label Encoder for hazard-category saved in './best_model_hazard-category'\n",
      "\n",
      "Starting training for task: product-category\n"
     ]
    },
    {
     "name": "stderr",
     "output_type": "stream",
     "text": [
      "Some weights of BertForSequenceClassification were not initialized from the model checkpoint at microsoft/BiomedNLP-PubMedBERT-base-uncased-abstract and are newly initialized: ['classifier.bias', 'classifier.weight']\n",
      "You should probably TRAIN this model on a down-stream task to be able to use it for predictions and inference.\n"
     ]
    },
    {
     "name": "stdout",
     "output_type": "stream",
     "text": [
      "Epoch 1/100 - Training: product-category\n"
     ]
    },
    {
     "name": "stderr",
     "output_type": "stream",
     "text": [
      "Training Epoch 1: 100%|██████████| 286/286 [00:52<00:00,  5.42it/s, loss=1.45]\n"
     ]
    },
    {
     "name": "stdout",
     "output_type": "stream",
     "text": [
      "Average Loss after Epoch 1: 1.813236296802134\n",
      "Learning rate after epoch 1: 5e-05\n",
      "New best model found. Saving the model at epoch 1.\n",
      "Epoch 2/100 - Training: product-category\n"
     ]
    },
    {
     "name": "stderr",
     "output_type": "stream",
     "text": [
      "Training Epoch 2: 100%|██████████| 286/286 [00:52<00:00,  5.42it/s, loss=1.64]\n"
     ]
    },
    {
     "name": "stdout",
     "output_type": "stream",
     "text": [
      "Average Loss after Epoch 2: 1.0056540972286172\n",
      "Learning rate after epoch 2: 5e-05\n",
      "New best model found. Saving the model at epoch 2.\n",
      "Epoch 3/100 - Training: product-category\n"
     ]
    },
    {
     "name": "stderr",
     "output_type": "stream",
     "text": [
      "Training Epoch 3: 100%|██████████| 286/286 [00:52<00:00,  5.42it/s, loss=0.502]\n"
     ]
    },
    {
     "name": "stdout",
     "output_type": "stream",
     "text": [
      "Average Loss after Epoch 3: 0.6673113502353638\n",
      "Learning rate after epoch 3: 5e-05\n",
      "New best model found. Saving the model at epoch 3.\n",
      "Epoch 4/100 - Training: product-category\n"
     ]
    },
    {
     "name": "stderr",
     "output_type": "stream",
     "text": [
      "Training Epoch 4: 100%|██████████| 286/286 [00:52<00:00,  5.42it/s, loss=0.513]\n"
     ]
    },
    {
     "name": "stdout",
     "output_type": "stream",
     "text": [
      "Average Loss after Epoch 4: 0.4481409398018272\n",
      "Learning rate after epoch 4: 5e-05\n",
      "New best model found. Saving the model at epoch 4.\n",
      "Epoch 5/100 - Training: product-category\n"
     ]
    },
    {
     "name": "stderr",
     "output_type": "stream",
     "text": [
      "Training Epoch 5: 100%|██████████| 286/286 [00:52<00:00,  5.42it/s, loss=0.112]\n"
     ]
    },
    {
     "name": "stdout",
     "output_type": "stream",
     "text": [
      "Average Loss after Epoch 5: 0.33131735108896987\n",
      "Learning rate after epoch 5: 5e-05\n",
      "New best model found. Saving the model at epoch 5.\n",
      "Epoch 6/100 - Training: product-category\n"
     ]
    },
    {
     "name": "stderr",
     "output_type": "stream",
     "text": [
      "Training Epoch 6: 100%|██████████| 286/286 [00:52<00:00,  5.41it/s, loss=0.553]\n"
     ]
    },
    {
     "name": "stdout",
     "output_type": "stream",
     "text": [
      "Average Loss after Epoch 6: 0.24683916724410715\n",
      "Learning rate after epoch 6: 5e-05\n",
      "New best model found. Saving the model at epoch 6.\n",
      "Epoch 7/100 - Training: product-category\n"
     ]
    },
    {
     "name": "stderr",
     "output_type": "stream",
     "text": [
      "Training Epoch 7: 100%|██████████| 286/286 [00:52<00:00,  5.42it/s, loss=0.112]\n"
     ]
    },
    {
     "name": "stdout",
     "output_type": "stream",
     "text": [
      "Average Loss after Epoch 7: 0.18494343108634329\n",
      "Learning rate after epoch 7: 5e-05\n",
      "New best model found. Saving the model at epoch 7.\n",
      "Epoch 8/100 - Training: product-category\n"
     ]
    },
    {
     "name": "stderr",
     "output_type": "stream",
     "text": [
      "Training Epoch 8: 100%|██████████| 286/286 [00:52<00:00,  5.42it/s, loss=0.0106]\n"
     ]
    },
    {
     "name": "stdout",
     "output_type": "stream",
     "text": [
      "Average Loss after Epoch 8: 0.1539639828863417\n",
      "Learning rate after epoch 8: 5e-05\n",
      "New best model found. Saving the model at epoch 8.\n",
      "Epoch 9/100 - Training: product-category\n"
     ]
    },
    {
     "name": "stderr",
     "output_type": "stream",
     "text": [
      "Training Epoch 9: 100%|██████████| 286/286 [00:52<00:00,  5.42it/s, loss=0.0879]\n"
     ]
    },
    {
     "name": "stdout",
     "output_type": "stream",
     "text": [
      "Average Loss after Epoch 9: 0.13262545822800456\n",
      "Learning rate after epoch 9: 5e-05\n",
      "New best model found. Saving the model at epoch 9.\n",
      "Epoch 10/100 - Training: product-category\n"
     ]
    },
    {
     "name": "stderr",
     "output_type": "stream",
     "text": [
      "Training Epoch 10: 100%|██████████| 286/286 [00:52<00:00,  5.42it/s, loss=0.0626]\n"
     ]
    },
    {
     "name": "stdout",
     "output_type": "stream",
     "text": [
      "Average Loss after Epoch 10: 0.12538461597274886\n",
      "Learning rate after epoch 10: 5e-05\n",
      "New best model found. Saving the model at epoch 10.\n",
      "Epoch 11/100 - Training: product-category\n"
     ]
    },
    {
     "name": "stderr",
     "output_type": "stream",
     "text": [
      "Training Epoch 11: 100%|██████████| 286/286 [00:52<00:00,  5.41it/s, loss=0.141]\n"
     ]
    },
    {
     "name": "stdout",
     "output_type": "stream",
     "text": [
      "Average Loss after Epoch 11: 0.09628168335412401\n",
      "Learning rate after epoch 11: 5e-05\n",
      "New best model found. Saving the model at epoch 11.\n",
      "Epoch 12/100 - Training: product-category\n"
     ]
    },
    {
     "name": "stderr",
     "output_type": "stream",
     "text": [
      "Training Epoch 12: 100%|██████████| 286/286 [00:52<00:00,  5.42it/s, loss=0.485]\n"
     ]
    },
    {
     "name": "stdout",
     "output_type": "stream",
     "text": [
      "Average Loss after Epoch 12: 0.09648865507752798\n",
      "Learning rate after epoch 12: 5e-05\n",
      "Epoch 13/100 - Training: product-category\n"
     ]
    },
    {
     "name": "stderr",
     "output_type": "stream",
     "text": [
      "Training Epoch 13: 100%|██████████| 286/286 [00:52<00:00,  5.41it/s, loss=0.0108]\n"
     ]
    },
    {
     "name": "stdout",
     "output_type": "stream",
     "text": [
      "Average Loss after Epoch 13: 0.07807451760367054\n",
      "Learning rate after epoch 13: 5e-05\n",
      "New best model found. Saving the model at epoch 13.\n",
      "Epoch 14/100 - Training: product-category\n"
     ]
    },
    {
     "name": "stderr",
     "output_type": "stream",
     "text": [
      "Training Epoch 14: 100%|██████████| 286/286 [00:52<00:00,  5.42it/s, loss=0.00524]\n"
     ]
    },
    {
     "name": "stdout",
     "output_type": "stream",
     "text": [
      "Average Loss after Epoch 14: 0.10736000252939709\n",
      "Learning rate after epoch 14: 5e-05\n",
      "Epoch 15/100 - Training: product-category\n"
     ]
    },
    {
     "name": "stderr",
     "output_type": "stream",
     "text": [
      "Training Epoch 15: 100%|██████████| 286/286 [00:52<00:00,  5.41it/s, loss=0.0172]\n"
     ]
    },
    {
     "name": "stdout",
     "output_type": "stream",
     "text": [
      "Average Loss after Epoch 15: 0.07556226904018802\n",
      "Learning rate after epoch 15: 5e-05\n",
      "New best model found. Saving the model at epoch 15.\n",
      "Epoch 16/100 - Training: product-category\n"
     ]
    },
    {
     "name": "stderr",
     "output_type": "stream",
     "text": [
      "Training Epoch 16: 100%|██████████| 286/286 [00:52<00:00,  5.42it/s, loss=0.00391]\n"
     ]
    },
    {
     "name": "stdout",
     "output_type": "stream",
     "text": [
      "Average Loss after Epoch 16: 0.04351065140640871\n",
      "Learning rate after epoch 16: 5e-05\n",
      "New best model found. Saving the model at epoch 16.\n",
      "Epoch 17/100 - Training: product-category\n"
     ]
    },
    {
     "name": "stderr",
     "output_type": "stream",
     "text": [
      "Training Epoch 17: 100%|██████████| 286/286 [00:52<00:00,  5.42it/s, loss=0.0112]\n"
     ]
    },
    {
     "name": "stdout",
     "output_type": "stream",
     "text": [
      "Average Loss after Epoch 17: 0.08050345434926098\n",
      "Learning rate after epoch 17: 5e-05\n",
      "Epoch 18/100 - Training: product-category\n"
     ]
    },
    {
     "name": "stderr",
     "output_type": "stream",
     "text": [
      "Training Epoch 18: 100%|██████████| 286/286 [00:52<00:00,  5.42it/s, loss=0.00906]\n"
     ]
    },
    {
     "name": "stdout",
     "output_type": "stream",
     "text": [
      "Average Loss after Epoch 18: 0.0691470960729065\n",
      "Learning rate after epoch 18: 5e-05\n",
      "Epoch 19/100 - Training: product-category\n"
     ]
    },
    {
     "name": "stderr",
     "output_type": "stream",
     "text": [
      "Training Epoch 19: 100%|██████████| 286/286 [00:52<00:00,  5.41it/s, loss=0.00245]\n"
     ]
    },
    {
     "name": "stdout",
     "output_type": "stream",
     "text": [
      "Average Loss after Epoch 19: 0.06080832170205308\n",
      "Learning rate after epoch 19: 5e-05\n",
      "Epoch 20/100 - Training: product-category\n"
     ]
    },
    {
     "name": "stderr",
     "output_type": "stream",
     "text": [
      "Training Epoch 20: 100%|██████████| 286/286 [00:52<00:00,  5.42it/s, loss=0.00548]\n"
     ]
    },
    {
     "name": "stdout",
     "output_type": "stream",
     "text": [
      "Average Loss after Epoch 20: 0.0676467249172388\n",
      "Learning rate after epoch 20: 5e-05\n",
      "Epoch 21/100 - Training: product-category\n"
     ]
    },
    {
     "name": "stderr",
     "output_type": "stream",
     "text": [
      "Training Epoch 21: 100%|██████████| 286/286 [00:52<00:00,  5.42it/s, loss=0.0211]\n"
     ]
    },
    {
     "name": "stdout",
     "output_type": "stream",
     "text": [
      "Average Loss after Epoch 21: 0.02396335580078494\n",
      "Learning rate after epoch 21: 5e-06\n",
      "New best model found. Saving the model at epoch 21.\n",
      "Epoch 22/100 - Training: product-category\n"
     ]
    },
    {
     "name": "stderr",
     "output_type": "stream",
     "text": [
      "Training Epoch 22: 100%|██████████| 286/286 [00:52<00:00,  5.43it/s, loss=0.00342]\n"
     ]
    },
    {
     "name": "stdout",
     "output_type": "stream",
     "text": [
      "Average Loss after Epoch 22: 0.009621884745474044\n",
      "Learning rate after epoch 22: 5e-06\n",
      "New best model found. Saving the model at epoch 22.\n",
      "Epoch 23/100 - Training: product-category\n"
     ]
    },
    {
     "name": "stderr",
     "output_type": "stream",
     "text": [
      "Training Epoch 23: 100%|██████████| 286/286 [00:52<00:00,  5.42it/s, loss=0.00713]\n"
     ]
    },
    {
     "name": "stdout",
     "output_type": "stream",
     "text": [
      "Average Loss after Epoch 23: 0.007237740514931835\n",
      "Learning rate after epoch 23: 5e-06\n",
      "New best model found. Saving the model at epoch 23.\n",
      "Epoch 24/100 - Training: product-category\n"
     ]
    },
    {
     "name": "stderr",
     "output_type": "stream",
     "text": [
      "Training Epoch 24: 100%|██████████| 286/286 [00:52<00:00,  5.42it/s, loss=0.0019]\n"
     ]
    },
    {
     "name": "stdout",
     "output_type": "stream",
     "text": [
      "Average Loss after Epoch 24: 0.00631536309948432\n",
      "Learning rate after epoch 24: 5e-06\n",
      "New best model found. Saving the model at epoch 24.\n",
      "Epoch 25/100 - Training: product-category\n"
     ]
    },
    {
     "name": "stderr",
     "output_type": "stream",
     "text": [
      "Training Epoch 25: 100%|██████████| 286/286 [00:52<00:00,  5.42it/s, loss=0.00096]\n"
     ]
    },
    {
     "name": "stdout",
     "output_type": "stream",
     "text": [
      "Average Loss after Epoch 25: 0.0048779497031770465\n",
      "Learning rate after epoch 25: 5e-06\n",
      "New best model found. Saving the model at epoch 25.\n",
      "Epoch 26/100 - Training: product-category\n"
     ]
    },
    {
     "name": "stderr",
     "output_type": "stream",
     "text": [
      "Training Epoch 26: 100%|██████████| 286/286 [00:52<00:00,  5.41it/s, loss=0.00105]\n"
     ]
    },
    {
     "name": "stdout",
     "output_type": "stream",
     "text": [
      "Average Loss after Epoch 26: 0.00485614767005843\n",
      "Learning rate after epoch 26: 5e-06\n",
      "New best model found. Saving the model at epoch 26.\n",
      "Epoch 27/100 - Training: product-category\n"
     ]
    },
    {
     "name": "stderr",
     "output_type": "stream",
     "text": [
      "Training Epoch 27: 100%|██████████| 286/286 [00:52<00:00,  5.42it/s, loss=0.000716]\n"
     ]
    },
    {
     "name": "stdout",
     "output_type": "stream",
     "text": [
      "Average Loss after Epoch 27: 0.004300967538224573\n",
      "Learning rate after epoch 27: 5e-06\n",
      "New best model found. Saving the model at epoch 27.\n",
      "Epoch 28/100 - Training: product-category\n"
     ]
    },
    {
     "name": "stderr",
     "output_type": "stream",
     "text": [
      "Training Epoch 28: 100%|██████████| 286/286 [00:52<00:00,  5.42it/s, loss=0.028]\n"
     ]
    },
    {
     "name": "stdout",
     "output_type": "stream",
     "text": [
      "Average Loss after Epoch 28: 0.003695996297064231\n",
      "Learning rate after epoch 28: 5e-06\n",
      "New best model found. Saving the model at epoch 28.\n",
      "Epoch 29/100 - Training: product-category\n"
     ]
    },
    {
     "name": "stderr",
     "output_type": "stream",
     "text": [
      "Training Epoch 29: 100%|██████████| 286/286 [00:52<00:00,  5.42it/s, loss=0.000668]\n"
     ]
    },
    {
     "name": "stdout",
     "output_type": "stream",
     "text": [
      "Average Loss after Epoch 29: 0.0036488874993283772\n",
      "Learning rate after epoch 29: 5e-06\n",
      "New best model found. Saving the model at epoch 29.\n",
      "Epoch 30/100 - Training: product-category\n"
     ]
    },
    {
     "name": "stderr",
     "output_type": "stream",
     "text": [
      "Training Epoch 30: 100%|██████████| 286/286 [00:52<00:00,  5.42it/s, loss=0.00196]\n"
     ]
    },
    {
     "name": "stdout",
     "output_type": "stream",
     "text": [
      "Average Loss after Epoch 30: 0.003797119631313139\n",
      "Learning rate after epoch 30: 5e-06\n",
      "Epoch 31/100 - Training: product-category\n"
     ]
    },
    {
     "name": "stderr",
     "output_type": "stream",
     "text": [
      "Training Epoch 31: 100%|██████████| 286/286 [00:52<00:00,  5.41it/s, loss=0.00198]\n"
     ]
    },
    {
     "name": "stdout",
     "output_type": "stream",
     "text": [
      "Average Loss after Epoch 31: 0.003230079514148704\n",
      "Learning rate after epoch 31: 5e-06\n",
      "New best model found. Saving the model at epoch 31.\n",
      "Epoch 32/100 - Training: product-category\n"
     ]
    },
    {
     "name": "stderr",
     "output_type": "stream",
     "text": [
      "Training Epoch 32: 100%|██████████| 286/286 [00:52<00:00,  5.42it/s, loss=0.000916]\n"
     ]
    },
    {
     "name": "stdout",
     "output_type": "stream",
     "text": [
      "Average Loss after Epoch 32: 0.003529637038847757\n",
      "Learning rate after epoch 32: 5e-06\n",
      "Epoch 33/100 - Training: product-category\n"
     ]
    },
    {
     "name": "stderr",
     "output_type": "stream",
     "text": [
      "Training Epoch 33: 100%|██████████| 286/286 [00:52<00:00,  5.42it/s, loss=0.00167]\n"
     ]
    },
    {
     "name": "stdout",
     "output_type": "stream",
     "text": [
      "Average Loss after Epoch 33: 0.003001919908793415\n",
      "Learning rate after epoch 33: 5e-06\n",
      "New best model found. Saving the model at epoch 33.\n",
      "Epoch 34/100 - Training: product-category\n"
     ]
    },
    {
     "name": "stderr",
     "output_type": "stream",
     "text": [
      "Training Epoch 34: 100%|██████████| 286/286 [00:52<00:00,  5.42it/s, loss=0.00114]\n"
     ]
    },
    {
     "name": "stdout",
     "output_type": "stream",
     "text": [
      "Average Loss after Epoch 34: 0.003878428195004833\n",
      "Learning rate after epoch 34: 5e-06\n",
      "Epoch 35/100 - Training: product-category\n"
     ]
    },
    {
     "name": "stderr",
     "output_type": "stream",
     "text": [
      "Training Epoch 35: 100%|██████████| 286/286 [00:52<00:00,  5.42it/s, loss=0.00155]\n"
     ]
    },
    {
     "name": "stdout",
     "output_type": "stream",
     "text": [
      "Average Loss after Epoch 35: 0.003755778164730629\n",
      "Learning rate after epoch 35: 5e-06\n",
      "Epoch 36/100 - Training: product-category\n"
     ]
    },
    {
     "name": "stderr",
     "output_type": "stream",
     "text": [
      "Training Epoch 36: 100%|██████████| 286/286 [00:52<00:00,  5.42it/s, loss=0.000931]\n"
     ]
    },
    {
     "name": "stdout",
     "output_type": "stream",
     "text": [
      "Average Loss after Epoch 36: 0.003206492312414526\n",
      "Learning rate after epoch 36: 5e-06\n",
      "Epoch 37/100 - Training: product-category\n"
     ]
    },
    {
     "name": "stderr",
     "output_type": "stream",
     "text": [
      "Training Epoch 37: 100%|██████████| 286/286 [00:52<00:00,  5.42it/s, loss=0.000496]\n"
     ]
    },
    {
     "name": "stdout",
     "output_type": "stream",
     "text": [
      "Average Loss after Epoch 37: 0.0025388053430112443\n",
      "Learning rate after epoch 37: 5e-06\n",
      "New best model found. Saving the model at epoch 37.\n",
      "Epoch 38/100 - Training: product-category\n"
     ]
    },
    {
     "name": "stderr",
     "output_type": "stream",
     "text": [
      "Training Epoch 38: 100%|██████████| 286/286 [00:52<00:00,  5.41it/s, loss=0.00352]\n"
     ]
    },
    {
     "name": "stdout",
     "output_type": "stream",
     "text": [
      "Average Loss after Epoch 38: 0.0023062209000565123\n",
      "Learning rate after epoch 38: 5e-06\n",
      "New best model found. Saving the model at epoch 38.\n",
      "Epoch 39/100 - Training: product-category\n"
     ]
    },
    {
     "name": "stderr",
     "output_type": "stream",
     "text": [
      "Training Epoch 39: 100%|██████████| 286/286 [00:52<00:00,  5.41it/s, loss=0.000782]\n"
     ]
    },
    {
     "name": "stdout",
     "output_type": "stream",
     "text": [
      "Average Loss after Epoch 39: 0.002383930675792866\n",
      "Learning rate after epoch 39: 5e-06\n",
      "Epoch 40/100 - Training: product-category\n"
     ]
    },
    {
     "name": "stderr",
     "output_type": "stream",
     "text": [
      "Training Epoch 40: 100%|██████████| 286/286 [00:52<00:00,  5.42it/s, loss=0.000601]\n"
     ]
    },
    {
     "name": "stdout",
     "output_type": "stream",
     "text": [
      "Average Loss after Epoch 40: 0.0026645982448521258\n",
      "Learning rate after epoch 40: 5e-06\n",
      "Epoch 41/100 - Training: product-category\n"
     ]
    },
    {
     "name": "stderr",
     "output_type": "stream",
     "text": [
      "Training Epoch 41: 100%|██████████| 286/286 [00:52<00:00,  5.42it/s, loss=0.000337]\n"
     ]
    },
    {
     "name": "stdout",
     "output_type": "stream",
     "text": [
      "Average Loss after Epoch 41: 0.002386644989385602\n",
      "Learning rate after epoch 41: 5e-06\n",
      "Epoch 42/100 - Training: product-category\n"
     ]
    },
    {
     "name": "stderr",
     "output_type": "stream",
     "text": [
      "Training Epoch 42: 100%|██████████| 286/286 [00:52<00:00,  5.41it/s, loss=0.000376]\n"
     ]
    },
    {
     "name": "stdout",
     "output_type": "stream",
     "text": [
      "Average Loss after Epoch 42: 0.0018967890020474545\n",
      "Learning rate after epoch 42: 5e-06\n",
      "New best model found. Saving the model at epoch 42.\n",
      "Epoch 43/100 - Training: product-category\n"
     ]
    },
    {
     "name": "stderr",
     "output_type": "stream",
     "text": [
      "Training Epoch 43: 100%|██████████| 286/286 [00:52<00:00,  5.41it/s, loss=0.00206]\n"
     ]
    },
    {
     "name": "stdout",
     "output_type": "stream",
     "text": [
      "Average Loss after Epoch 43: 0.0034983257569842384\n",
      "Learning rate after epoch 43: 5e-06\n",
      "Epoch 44/100 - Training: product-category\n"
     ]
    },
    {
     "name": "stderr",
     "output_type": "stream",
     "text": [
      "Training Epoch 44: 100%|██████████| 286/286 [00:52<00:00,  5.42it/s, loss=0.000517]\n"
     ]
    },
    {
     "name": "stdout",
     "output_type": "stream",
     "text": [
      "Average Loss after Epoch 44: 0.004673440709373901\n",
      "Learning rate after epoch 44: 5e-06\n",
      "Epoch 45/100 - Training: product-category\n"
     ]
    },
    {
     "name": "stderr",
     "output_type": "stream",
     "text": [
      "Training Epoch 45: 100%|██████████| 286/286 [00:52<00:00,  5.41it/s, loss=0.000533]\n"
     ]
    },
    {
     "name": "stdout",
     "output_type": "stream",
     "text": [
      "Average Loss after Epoch 45: 0.007542760688380072\n",
      "Learning rate after epoch 45: 5e-06\n",
      "Epoch 46/100 - Training: product-category\n"
     ]
    },
    {
     "name": "stderr",
     "output_type": "stream",
     "text": [
      "Training Epoch 46: 100%|██████████| 286/286 [00:52<00:00,  5.42it/s, loss=0.000458]\n"
     ]
    },
    {
     "name": "stdout",
     "output_type": "stream",
     "text": [
      "Average Loss after Epoch 46: 0.0061332775202846005\n",
      "Learning rate after epoch 46: 5e-06\n",
      "Epoch 47/100 - Training: product-category\n"
     ]
    },
    {
     "name": "stderr",
     "output_type": "stream",
     "text": [
      "Training Epoch 47: 100%|██████████| 286/286 [00:52<00:00,  5.41it/s, loss=0.000402]\n"
     ]
    },
    {
     "name": "stdout",
     "output_type": "stream",
     "text": [
      "Average Loss after Epoch 47: 0.00196469324853408\n",
      "Learning rate after epoch 47: 5.000000000000001e-07\n",
      "Epoch 48/100 - Training: product-category\n"
     ]
    },
    {
     "name": "stderr",
     "output_type": "stream",
     "text": [
      "Training Epoch 48: 100%|██████████| 286/286 [00:52<00:00,  5.41it/s, loss=0.00053]\n"
     ]
    },
    {
     "name": "stdout",
     "output_type": "stream",
     "text": [
      "Average Loss after Epoch 48: 0.0015978646125067253\n",
      "Learning rate after epoch 48: 5.000000000000001e-07\n",
      "New best model found. Saving the model at epoch 48.\n",
      "Epoch 49/100 - Training: product-category\n"
     ]
    },
    {
     "name": "stderr",
     "output_type": "stream",
     "text": [
      "Training Epoch 49: 100%|██████████| 286/286 [00:52<00:00,  5.42it/s, loss=0.000474]\n"
     ]
    },
    {
     "name": "stdout",
     "output_type": "stream",
     "text": [
      "Average Loss after Epoch 49: 0.0016143479042766303\n",
      "Learning rate after epoch 49: 5.000000000000001e-07\n",
      "Epoch 50/100 - Training: product-category\n"
     ]
    },
    {
     "name": "stderr",
     "output_type": "stream",
     "text": [
      "Training Epoch 50: 100%|██████████| 286/286 [00:52<00:00,  5.41it/s, loss=0.000429]\n"
     ]
    },
    {
     "name": "stdout",
     "output_type": "stream",
     "text": [
      "Average Loss after Epoch 50: 0.0023030502501048046\n",
      "Learning rate after epoch 50: 5.000000000000001e-07\n",
      "Epoch 51/100 - Training: product-category\n"
     ]
    },
    {
     "name": "stderr",
     "output_type": "stream",
     "text": [
      "Training Epoch 51: 100%|██████████| 286/286 [00:52<00:00,  5.40it/s, loss=0.000368]\n"
     ]
    },
    {
     "name": "stdout",
     "output_type": "stream",
     "text": [
      "Average Loss after Epoch 51: 0.001475581815433721\n",
      "Learning rate after epoch 51: 5.000000000000001e-07\n",
      "New best model found. Saving the model at epoch 51.\n",
      "Epoch 52/100 - Training: product-category\n"
     ]
    },
    {
     "name": "stderr",
     "output_type": "stream",
     "text": [
      "Training Epoch 52: 100%|██████████| 286/286 [00:52<00:00,  5.41it/s, loss=0.0005]\n"
     ]
    },
    {
     "name": "stdout",
     "output_type": "stream",
     "text": [
      "Average Loss after Epoch 52: 0.002045864686017801\n",
      "Learning rate after epoch 52: 5.000000000000001e-07\n",
      "Epoch 53/100 - Training: product-category\n"
     ]
    },
    {
     "name": "stderr",
     "output_type": "stream",
     "text": [
      "Training Epoch 53: 100%|██████████| 286/286 [00:52<00:00,  5.42it/s, loss=0.000636]\n"
     ]
    },
    {
     "name": "stdout",
     "output_type": "stream",
     "text": [
      "Average Loss after Epoch 53: 0.0014641665577480628\n",
      "Learning rate after epoch 53: 5.000000000000001e-07\n",
      "New best model found. Saving the model at epoch 53.\n",
      "Epoch 54/100 - Training: product-category\n"
     ]
    },
    {
     "name": "stderr",
     "output_type": "stream",
     "text": [
      "Training Epoch 54: 100%|██████████| 286/286 [00:52<00:00,  5.42it/s, loss=0.000616]\n"
     ]
    },
    {
     "name": "stdout",
     "output_type": "stream",
     "text": [
      "Average Loss after Epoch 54: 0.0017141872934323013\n",
      "Learning rate after epoch 54: 5.000000000000001e-07\n",
      "Epoch 55/100 - Training: product-category\n"
     ]
    },
    {
     "name": "stderr",
     "output_type": "stream",
     "text": [
      "Training Epoch 55: 100%|██████████| 286/286 [00:52<00:00,  5.41it/s, loss=0.000264]\n"
     ]
    },
    {
     "name": "stdout",
     "output_type": "stream",
     "text": [
      "Average Loss after Epoch 55: 0.0016193433980810801\n",
      "Learning rate after epoch 55: 5.000000000000001e-07\n",
      "Epoch 56/100 - Training: product-category\n"
     ]
    },
    {
     "name": "stderr",
     "output_type": "stream",
     "text": [
      "Training Epoch 56: 100%|██████████| 286/286 [00:52<00:00,  5.42it/s, loss=0.000289]\n"
     ]
    },
    {
     "name": "stdout",
     "output_type": "stream",
     "text": [
      "Average Loss after Epoch 56: 0.0024266323752736288\n",
      "Learning rate after epoch 56: 5.000000000000001e-07\n",
      "Epoch 57/100 - Training: product-category\n"
     ]
    },
    {
     "name": "stderr",
     "output_type": "stream",
     "text": [
      "Training Epoch 57: 100%|██████████| 286/286 [00:52<00:00,  5.42it/s, loss=0.00106]\n"
     ]
    },
    {
     "name": "stdout",
     "output_type": "stream",
     "text": [
      "Average Loss after Epoch 57: 0.0014916755829105753\n",
      "Learning rate after epoch 57: 5.000000000000001e-07\n",
      "Epoch 58/100 - Training: product-category\n"
     ]
    },
    {
     "name": "stderr",
     "output_type": "stream",
     "text": [
      "Training Epoch 58: 100%|██████████| 286/286 [00:52<00:00,  5.41it/s, loss=0.0005]\n"
     ]
    },
    {
     "name": "stdout",
     "output_type": "stream",
     "text": [
      "Average Loss after Epoch 58: 0.0020363960815353442\n",
      "Learning rate after epoch 58: 5.000000000000001e-08\n",
      "Epoch 59/100 - Training: product-category\n"
     ]
    },
    {
     "name": "stderr",
     "output_type": "stream",
     "text": [
      "Training Epoch 59: 100%|██████████| 286/286 [00:52<00:00,  5.41it/s, loss=0.000679]\n"
     ]
    },
    {
     "name": "stdout",
     "output_type": "stream",
     "text": [
      "Average Loss after Epoch 59: 0.00141095503987834\n",
      "Learning rate after epoch 59: 5.000000000000001e-08\n",
      "New best model found. Saving the model at epoch 59.\n",
      "Epoch 60/100 - Training: product-category\n"
     ]
    },
    {
     "name": "stderr",
     "output_type": "stream",
     "text": [
      "Training Epoch 60: 100%|██████████| 286/286 [00:52<00:00,  5.41it/s, loss=0.000277]\n"
     ]
    },
    {
     "name": "stdout",
     "output_type": "stream",
     "text": [
      "Average Loss after Epoch 60: 0.0014678155002530201\n",
      "Learning rate after epoch 60: 5.000000000000001e-08\n",
      "Epoch 61/100 - Training: product-category\n"
     ]
    },
    {
     "name": "stderr",
     "output_type": "stream",
     "text": [
      "Training Epoch 61: 100%|██████████| 286/286 [00:52<00:00,  5.41it/s, loss=0.000509]\n"
     ]
    },
    {
     "name": "stdout",
     "output_type": "stream",
     "text": [
      "Average Loss after Epoch 61: 0.001655602896204658\n",
      "Learning rate after epoch 61: 5.000000000000001e-08\n",
      "Epoch 62/100 - Training: product-category\n"
     ]
    },
    {
     "name": "stderr",
     "output_type": "stream",
     "text": [
      "Training Epoch 62: 100%|██████████| 286/286 [00:52<00:00,  5.42it/s, loss=0.000324]\n"
     ]
    },
    {
     "name": "stdout",
     "output_type": "stream",
     "text": [
      "Average Loss after Epoch 62: 0.0015490878245368327\n",
      "Learning rate after epoch 62: 5.000000000000001e-08\n",
      "Epoch 63/100 - Training: product-category\n"
     ]
    },
    {
     "name": "stderr",
     "output_type": "stream",
     "text": [
      "Training Epoch 63: 100%|██████████| 286/286 [00:52<00:00,  5.42it/s, loss=0.000502]\n"
     ]
    },
    {
     "name": "stdout",
     "output_type": "stream",
     "text": [
      "Average Loss after Epoch 63: 0.0015833409566398046\n",
      "Learning rate after epoch 63: 5.000000000000001e-08\n",
      "Epoch 64/100 - Training: product-category\n"
     ]
    },
    {
     "name": "stderr",
     "output_type": "stream",
     "text": [
      "Training Epoch 64: 100%|██████████| 286/286 [00:52<00:00,  5.42it/s, loss=0.000405]\n"
     ]
    },
    {
     "name": "stdout",
     "output_type": "stream",
     "text": [
      "Average Loss after Epoch 64: 0.0017228553622555625\n",
      "Learning rate after epoch 64: 5.000000000000002e-09\n",
      "Epoch 65/100 - Training: product-category\n"
     ]
    },
    {
     "name": "stderr",
     "output_type": "stream",
     "text": [
      "Training Epoch 65: 100%|██████████| 286/286 [00:52<00:00,  5.40it/s, loss=0.000276]\n"
     ]
    },
    {
     "name": "stdout",
     "output_type": "stream",
     "text": [
      "Average Loss after Epoch 65: 0.0016404325031073783\n",
      "Learning rate after epoch 65: 5.000000000000002e-09\n",
      "Early stopping triggered!\n",
      "Saving the best model from epoch 59.\n",
      "Evaluating model for task: product-category\n"
     ]
    },
    {
     "name": "stderr",
     "output_type": "stream",
     "text": [
      "Evaluating: 100%|██████████| 32/32 [00:02<00:00, 12.51it/s]\n"
     ]
    },
    {
     "name": "stdout",
     "output_type": "stream",
     "text": [
      "F1-Score for product-category: 0.6884324785400671\n",
      "Classification Report for product-category:\n",
      "\n",
      "                                                   precision    recall  f1-score   support\n",
      "\n",
      "                              alcoholic beverages       0.50      0.50      0.50         2\n",
      "                      cereals and bakery products       0.73      0.87      0.80        54\n",
      "     cocoa and cocoa preparations, coffee and tea       0.75      0.72      0.74        29\n",
      "                                    confectionery       0.71      0.60      0.65        20\n",
      "dietetic foods, food supplements, fortified foods       0.62      0.91      0.74        11\n",
      "                                    fats and oils       1.00      0.33      0.50         3\n",
      "                                   feed materials       0.00      0.00      0.00         2\n",
      "                   food additives and flavourings       0.00      0.00      0.00         0\n",
      "                           food contact materials       1.00      1.00      1.00         1\n",
      "                            fruits and vegetables       0.77      0.82      0.79        56\n",
      "                                 herbs and spices       0.86      0.67      0.75         9\n",
      "                                ices and desserts       0.88      0.91      0.90        33\n",
      "                     meat, egg and dairy products       0.90      0.94      0.92       131\n",
      "                          non-alcoholic beverages       1.00      0.75      0.86        16\n",
      "                     nuts, nut products and seeds       0.87      0.73      0.79        37\n",
      "                       other food product / mixed       0.50      1.00      0.67         1\n",
      "                                         pet feed       0.75      1.00      0.86         3\n",
      "                       prepared dishes and snacks       0.67      0.39      0.49        51\n",
      "                                          seafood       0.84      0.93      0.88        28\n",
      "             soups, broths, sauces and condiments       0.53      0.76      0.63        21\n",
      "                                sugars and syrups       1.00      1.00      1.00         1\n",
      "\n",
      "                                         accuracy                           0.79       509\n",
      "                                        macro avg       0.71      0.71      0.69       509\n",
      "                                     weighted avg       0.80      0.79      0.79       509\n",
      "\n",
      "Label Encoder for product-category saved in './best_model_product-category'\n",
      "\n",
      "Starting training for task: hazard\n"
     ]
    },
    {
     "name": "stderr",
     "output_type": "stream",
     "text": [
      "Some weights of BertForSequenceClassification were not initialized from the model checkpoint at microsoft/BiomedNLP-PubMedBERT-base-uncased-abstract and are newly initialized: ['classifier.bias', 'classifier.weight']\n",
      "You should probably TRAIN this model on a down-stream task to be able to use it for predictions and inference.\n"
     ]
    },
    {
     "name": "stdout",
     "output_type": "stream",
     "text": [
      "Epoch 1/100 - Training: hazard\n"
     ]
    },
    {
     "name": "stderr",
     "output_type": "stream",
     "text": [
      "Training Epoch 1: 100%|██████████| 286/286 [00:52<00:00,  5.41it/s, loss=1.62]\n"
     ]
    },
    {
     "name": "stdout",
     "output_type": "stream",
     "text": [
      "Average Loss after Epoch 1: 2.107708618044853\n",
      "Learning rate after epoch 1: 5e-05\n",
      "New best model found. Saving the model at epoch 1.\n",
      "Epoch 2/100 - Training: hazard\n"
     ]
    },
    {
     "name": "stderr",
     "output_type": "stream",
     "text": [
      "Training Epoch 2: 100%|██████████| 286/286 [00:52<00:00,  5.41it/s, loss=0.498]\n"
     ]
    },
    {
     "name": "stdout",
     "output_type": "stream",
     "text": [
      "Average Loss after Epoch 2: 0.9869317434259228\n",
      "Learning rate after epoch 2: 5e-05\n",
      "New best model found. Saving the model at epoch 2.\n",
      "Epoch 3/100 - Training: hazard\n"
     ]
    },
    {
     "name": "stderr",
     "output_type": "stream",
     "text": [
      "Training Epoch 3: 100%|██████████| 286/286 [00:52<00:00,  5.41it/s, loss=0.178]\n"
     ]
    },
    {
     "name": "stdout",
     "output_type": "stream",
     "text": [
      "Average Loss after Epoch 3: 0.7051188242654284\n",
      "Learning rate after epoch 3: 5e-05\n",
      "New best model found. Saving the model at epoch 3.\n",
      "Epoch 4/100 - Training: hazard\n"
     ]
    },
    {
     "name": "stderr",
     "output_type": "stream",
     "text": [
      "Training Epoch 4: 100%|██████████| 286/286 [00:52<00:00,  5.41it/s, loss=0.349]\n"
     ]
    },
    {
     "name": "stdout",
     "output_type": "stream",
     "text": [
      "Average Loss after Epoch 4: 0.5285731355522896\n",
      "Learning rate after epoch 4: 5e-05\n",
      "New best model found. Saving the model at epoch 4.\n",
      "Epoch 5/100 - Training: hazard\n"
     ]
    },
    {
     "name": "stderr",
     "output_type": "stream",
     "text": [
      "Training Epoch 5: 100%|██████████| 286/286 [00:52<00:00,  5.41it/s, loss=0.13]\n"
     ]
    },
    {
     "name": "stdout",
     "output_type": "stream",
     "text": [
      "Average Loss after Epoch 5: 0.42307763988269376\n",
      "Learning rate after epoch 5: 5e-05\n",
      "New best model found. Saving the model at epoch 5.\n",
      "Epoch 6/100 - Training: hazard\n"
     ]
    },
    {
     "name": "stderr",
     "output_type": "stream",
     "text": [
      "Training Epoch 6: 100%|██████████| 286/286 [00:52<00:00,  5.41it/s, loss=0.436]\n"
     ]
    },
    {
     "name": "stdout",
     "output_type": "stream",
     "text": [
      "Average Loss after Epoch 6: 0.34010251697439414\n",
      "Learning rate after epoch 6: 5e-05\n",
      "New best model found. Saving the model at epoch 6.\n",
      "Epoch 7/100 - Training: hazard\n"
     ]
    },
    {
     "name": "stderr",
     "output_type": "stream",
     "text": [
      "Training Epoch 7: 100%|██████████| 286/286 [00:52<00:00,  5.41it/s, loss=0.33]\n"
     ]
    },
    {
     "name": "stdout",
     "output_type": "stream",
     "text": [
      "Average Loss after Epoch 7: 0.2854615771504757\n",
      "Learning rate after epoch 7: 5e-05\n",
      "New best model found. Saving the model at epoch 7.\n",
      "Epoch 8/100 - Training: hazard\n"
     ]
    },
    {
     "name": "stderr",
     "output_type": "stream",
     "text": [
      "Training Epoch 8: 100%|██████████| 286/286 [00:52<00:00,  5.41it/s, loss=0.178]\n"
     ]
    },
    {
     "name": "stdout",
     "output_type": "stream",
     "text": [
      "Average Loss after Epoch 8: 0.22460739973645943\n",
      "Learning rate after epoch 8: 5e-05\n",
      "New best model found. Saving the model at epoch 8.\n",
      "Epoch 9/100 - Training: hazard\n"
     ]
    },
    {
     "name": "stderr",
     "output_type": "stream",
     "text": [
      "Training Epoch 9: 100%|██████████| 286/286 [00:52<00:00,  5.41it/s, loss=0.0218]\n"
     ]
    },
    {
     "name": "stdout",
     "output_type": "stream",
     "text": [
      "Average Loss after Epoch 9: 0.19810415682272164\n",
      "Learning rate after epoch 9: 5e-05\n",
      "New best model found. Saving the model at epoch 9.\n",
      "Epoch 10/100 - Training: hazard\n"
     ]
    },
    {
     "name": "stderr",
     "output_type": "stream",
     "text": [
      "Training Epoch 10: 100%|██████████| 286/286 [00:52<00:00,  5.41it/s, loss=0.161]\n"
     ]
    },
    {
     "name": "stdout",
     "output_type": "stream",
     "text": [
      "Average Loss after Epoch 10: 0.17181001865252904\n",
      "Learning rate after epoch 10: 5e-05\n",
      "New best model found. Saving the model at epoch 10.\n",
      "Epoch 11/100 - Training: hazard\n"
     ]
    },
    {
     "name": "stderr",
     "output_type": "stream",
     "text": [
      "Training Epoch 11: 100%|██████████| 286/286 [00:52<00:00,  5.40it/s, loss=0.149]\n"
     ]
    },
    {
     "name": "stdout",
     "output_type": "stream",
     "text": [
      "Average Loss after Epoch 11: 0.135720607225451\n",
      "Learning rate after epoch 11: 5e-05\n",
      "New best model found. Saving the model at epoch 11.\n",
      "Epoch 12/100 - Training: hazard\n"
     ]
    },
    {
     "name": "stderr",
     "output_type": "stream",
     "text": [
      "Training Epoch 12: 100%|██████████| 286/286 [00:52<00:00,  5.40it/s, loss=0.0491]\n"
     ]
    },
    {
     "name": "stdout",
     "output_type": "stream",
     "text": [
      "Average Loss after Epoch 12: 0.13074126983895065\n",
      "Learning rate after epoch 12: 5e-05\n",
      "New best model found. Saving the model at epoch 12.\n",
      "Epoch 13/100 - Training: hazard\n"
     ]
    },
    {
     "name": "stderr",
     "output_type": "stream",
     "text": [
      "Training Epoch 13: 100%|██████████| 286/286 [00:52<00:00,  5.40it/s, loss=0.0864]\n"
     ]
    },
    {
     "name": "stdout",
     "output_type": "stream",
     "text": [
      "Average Loss after Epoch 13: 0.11871577781898628\n",
      "Learning rate after epoch 13: 5e-05\n",
      "New best model found. Saving the model at epoch 13.\n",
      "Epoch 14/100 - Training: hazard\n"
     ]
    },
    {
     "name": "stderr",
     "output_type": "stream",
     "text": [
      "Training Epoch 14: 100%|██████████| 286/286 [00:52<00:00,  5.41it/s, loss=0.108]\n"
     ]
    },
    {
     "name": "stdout",
     "output_type": "stream",
     "text": [
      "Average Loss after Epoch 14: 0.13014082768866858\n",
      "Learning rate after epoch 14: 5e-05\n",
      "Epoch 15/100 - Training: hazard\n"
     ]
    },
    {
     "name": "stderr",
     "output_type": "stream",
     "text": [
      "Training Epoch 15: 100%|██████████| 286/286 [00:52<00:00,  5.41it/s, loss=0.522]\n"
     ]
    },
    {
     "name": "stdout",
     "output_type": "stream",
     "text": [
      "Average Loss after Epoch 15: 0.12777707816616118\n",
      "Learning rate after epoch 15: 5e-05\n",
      "Epoch 16/100 - Training: hazard\n"
     ]
    },
    {
     "name": "stderr",
     "output_type": "stream",
     "text": [
      "Training Epoch 16: 100%|██████████| 286/286 [00:52<00:00,  5.40it/s, loss=0.0127]\n"
     ]
    },
    {
     "name": "stdout",
     "output_type": "stream",
     "text": [
      "Average Loss after Epoch 16: 0.08843368179184365\n",
      "Learning rate after epoch 16: 5e-05\n",
      "New best model found. Saving the model at epoch 16.\n",
      "Epoch 17/100 - Training: hazard\n"
     ]
    },
    {
     "name": "stderr",
     "output_type": "stream",
     "text": [
      "Training Epoch 17: 100%|██████████| 286/286 [00:52<00:00,  5.40it/s, loss=0.0199]\n"
     ]
    },
    {
     "name": "stdout",
     "output_type": "stream",
     "text": [
      "Average Loss after Epoch 17: 0.057437454249345134\n",
      "Learning rate after epoch 17: 5e-05\n",
      "New best model found. Saving the model at epoch 17.\n",
      "Epoch 18/100 - Training: hazard\n"
     ]
    },
    {
     "name": "stderr",
     "output_type": "stream",
     "text": [
      "Training Epoch 18: 100%|██████████| 286/286 [00:52<00:00,  5.40it/s, loss=0.0167]\n"
     ]
    },
    {
     "name": "stdout",
     "output_type": "stream",
     "text": [
      "Average Loss after Epoch 18: 0.06009914820290894\n",
      "Learning rate after epoch 18: 5e-05\n",
      "Epoch 19/100 - Training: hazard\n"
     ]
    },
    {
     "name": "stderr",
     "output_type": "stream",
     "text": [
      "Training Epoch 19: 100%|██████████| 286/286 [00:52<00:00,  5.40it/s, loss=0.00928]\n"
     ]
    },
    {
     "name": "stdout",
     "output_type": "stream",
     "text": [
      "Average Loss after Epoch 19: 0.07702905626420478\n",
      "Learning rate after epoch 19: 5e-05\n",
      "Epoch 20/100 - Training: hazard\n"
     ]
    },
    {
     "name": "stderr",
     "output_type": "stream",
     "text": [
      "Training Epoch 20: 100%|██████████| 286/286 [00:52<00:00,  5.41it/s, loss=0.0365]\n"
     ]
    },
    {
     "name": "stdout",
     "output_type": "stream",
     "text": [
      "Average Loss after Epoch 20: 0.05868229179047178\n",
      "Learning rate after epoch 20: 5e-05\n",
      "Epoch 21/100 - Training: hazard\n"
     ]
    },
    {
     "name": "stderr",
     "output_type": "stream",
     "text": [
      "Training Epoch 21: 100%|██████████| 286/286 [00:52<00:00,  5.41it/s, loss=0.0112]\n"
     ]
    },
    {
     "name": "stdout",
     "output_type": "stream",
     "text": [
      "Average Loss after Epoch 21: 0.0403687732715088\n",
      "Learning rate after epoch 21: 5e-05\n",
      "New best model found. Saving the model at epoch 21.\n",
      "Epoch 22/100 - Training: hazard\n"
     ]
    },
    {
     "name": "stderr",
     "output_type": "stream",
     "text": [
      "Training Epoch 22: 100%|██████████| 286/286 [00:52<00:00,  5.41it/s, loss=0.011]\n"
     ]
    },
    {
     "name": "stdout",
     "output_type": "stream",
     "text": [
      "Average Loss after Epoch 22: 0.03833746952387355\n",
      "Learning rate after epoch 22: 5e-05\n",
      "New best model found. Saving the model at epoch 22.\n",
      "Epoch 23/100 - Training: hazard\n"
     ]
    },
    {
     "name": "stderr",
     "output_type": "stream",
     "text": [
      "Training Epoch 23: 100%|██████████| 286/286 [00:52<00:00,  5.40it/s, loss=0.0038]\n"
     ]
    },
    {
     "name": "stdout",
     "output_type": "stream",
     "text": [
      "Average Loss after Epoch 23: 0.03060190492249387\n",
      "Learning rate after epoch 23: 5e-05\n",
      "New best model found. Saving the model at epoch 23.\n",
      "Epoch 24/100 - Training: hazard\n"
     ]
    },
    {
     "name": "stderr",
     "output_type": "stream",
     "text": [
      "Training Epoch 24: 100%|██████████| 286/286 [00:52<00:00,  5.40it/s, loss=0.0104]\n"
     ]
    },
    {
     "name": "stdout",
     "output_type": "stream",
     "text": [
      "Average Loss after Epoch 24: 0.024291283441048077\n",
      "Learning rate after epoch 24: 5e-05\n",
      "New best model found. Saving the model at epoch 24.\n",
      "Epoch 25/100 - Training: hazard\n"
     ]
    },
    {
     "name": "stderr",
     "output_type": "stream",
     "text": [
      "Training Epoch 25: 100%|██████████| 286/286 [00:52<00:00,  5.41it/s, loss=0.0203]\n"
     ]
    },
    {
     "name": "stdout",
     "output_type": "stream",
     "text": [
      "Average Loss after Epoch 25: 0.126713747957679\n",
      "Learning rate after epoch 25: 5e-05\n",
      "Epoch 26/100 - Training: hazard\n"
     ]
    },
    {
     "name": "stderr",
     "output_type": "stream",
     "text": [
      "Training Epoch 26: 100%|██████████| 286/286 [00:52<00:00,  5.41it/s, loss=0.0551]\n"
     ]
    },
    {
     "name": "stdout",
     "output_type": "stream",
     "text": [
      "Average Loss after Epoch 26: 0.059815377552205555\n",
      "Learning rate after epoch 26: 5e-05\n",
      "Epoch 27/100 - Training: hazard\n"
     ]
    },
    {
     "name": "stderr",
     "output_type": "stream",
     "text": [
      "Training Epoch 27: 100%|██████████| 286/286 [00:52<00:00,  5.40it/s, loss=0.00825]\n"
     ]
    },
    {
     "name": "stdout",
     "output_type": "stream",
     "text": [
      "Average Loss after Epoch 27: 0.05066224969060557\n",
      "Learning rate after epoch 27: 5e-05\n",
      "Epoch 28/100 - Training: hazard\n"
     ]
    },
    {
     "name": "stderr",
     "output_type": "stream",
     "text": [
      "Training Epoch 28: 100%|██████████| 286/286 [00:52<00:00,  5.40it/s, loss=0.00124]\n"
     ]
    },
    {
     "name": "stdout",
     "output_type": "stream",
     "text": [
      "Average Loss after Epoch 28: 0.031160512560542176\n",
      "Learning rate after epoch 28: 5e-05\n",
      "Epoch 29/100 - Training: hazard\n"
     ]
    },
    {
     "name": "stderr",
     "output_type": "stream",
     "text": [
      "Training Epoch 29: 100%|██████████| 286/286 [00:52<00:00,  5.40it/s, loss=0.00263]\n"
     ]
    },
    {
     "name": "stdout",
     "output_type": "stream",
     "text": [
      "Average Loss after Epoch 29: 0.017768676607654646\n",
      "Learning rate after epoch 29: 5e-06\n",
      "New best model found. Saving the model at epoch 29.\n",
      "Epoch 30/100 - Training: hazard\n"
     ]
    },
    {
     "name": "stderr",
     "output_type": "stream",
     "text": [
      "Training Epoch 30: 100%|██████████| 286/286 [00:52<00:00,  5.41it/s, loss=0.00193]\n"
     ]
    },
    {
     "name": "stdout",
     "output_type": "stream",
     "text": [
      "Average Loss after Epoch 30: 0.010055829910072986\n",
      "Learning rate after epoch 30: 5e-06\n",
      "New best model found. Saving the model at epoch 30.\n",
      "Epoch 31/100 - Training: hazard\n"
     ]
    },
    {
     "name": "stderr",
     "output_type": "stream",
     "text": [
      "Training Epoch 31: 100%|██████████| 286/286 [00:52<00:00,  5.41it/s, loss=0.00433]\n"
     ]
    },
    {
     "name": "stdout",
     "output_type": "stream",
     "text": [
      "Average Loss after Epoch 31: 0.006296266810203271\n",
      "Learning rate after epoch 31: 5e-06\n",
      "New best model found. Saving the model at epoch 31.\n",
      "Epoch 32/100 - Training: hazard\n"
     ]
    },
    {
     "name": "stderr",
     "output_type": "stream",
     "text": [
      "Training Epoch 32: 100%|██████████| 286/286 [00:52<00:00,  5.41it/s, loss=0.00804]\n"
     ]
    },
    {
     "name": "stdout",
     "output_type": "stream",
     "text": [
      "Average Loss after Epoch 32: 0.005464382955464176\n",
      "Learning rate after epoch 32: 5e-06\n",
      "New best model found. Saving the model at epoch 32.\n",
      "Epoch 33/100 - Training: hazard\n"
     ]
    },
    {
     "name": "stderr",
     "output_type": "stream",
     "text": [
      "Training Epoch 33: 100%|██████████| 286/286 [00:52<00:00,  5.41it/s, loss=0.00166]\n"
     ]
    },
    {
     "name": "stdout",
     "output_type": "stream",
     "text": [
      "Average Loss after Epoch 33: 0.007132344083637455\n",
      "Learning rate after epoch 33: 5e-06\n",
      "Epoch 34/100 - Training: hazard\n"
     ]
    },
    {
     "name": "stderr",
     "output_type": "stream",
     "text": [
      "Training Epoch 34: 100%|██████████| 286/286 [00:52<00:00,  5.40it/s, loss=0.00342]\n"
     ]
    },
    {
     "name": "stdout",
     "output_type": "stream",
     "text": [
      "Average Loss after Epoch 34: 0.004480318789096823\n",
      "Learning rate after epoch 34: 5e-06\n",
      "New best model found. Saving the model at epoch 34.\n",
      "Epoch 35/100 - Training: hazard\n"
     ]
    },
    {
     "name": "stderr",
     "output_type": "stream",
     "text": [
      "Training Epoch 35: 100%|██████████| 286/286 [00:52<00:00,  5.40it/s, loss=0.00682]\n"
     ]
    },
    {
     "name": "stdout",
     "output_type": "stream",
     "text": [
      "Average Loss after Epoch 35: 0.004436460905097803\n",
      "Learning rate after epoch 35: 5e-06\n",
      "New best model found. Saving the model at epoch 35.\n",
      "Epoch 36/100 - Training: hazard\n"
     ]
    },
    {
     "name": "stderr",
     "output_type": "stream",
     "text": [
      "Training Epoch 36: 100%|██████████| 286/286 [00:52<00:00,  5.40it/s, loss=0.00146]\n"
     ]
    },
    {
     "name": "stdout",
     "output_type": "stream",
     "text": [
      "Average Loss after Epoch 36: 0.0035548789517862813\n",
      "Learning rate after epoch 36: 5e-06\n",
      "New best model found. Saving the model at epoch 36.\n",
      "Epoch 37/100 - Training: hazard\n"
     ]
    },
    {
     "name": "stderr",
     "output_type": "stream",
     "text": [
      "Training Epoch 37: 100%|██████████| 286/286 [00:52<00:00,  5.41it/s, loss=0.00114]\n"
     ]
    },
    {
     "name": "stdout",
     "output_type": "stream",
     "text": [
      "Average Loss after Epoch 37: 0.0038313720984037613\n",
      "Learning rate after epoch 37: 5e-06\n",
      "Epoch 38/100 - Training: hazard\n"
     ]
    },
    {
     "name": "stderr",
     "output_type": "stream",
     "text": [
      "Training Epoch 38: 100%|██████████| 286/286 [00:52<00:00,  5.41it/s, loss=0.00299]\n"
     ]
    },
    {
     "name": "stdout",
     "output_type": "stream",
     "text": [
      "Average Loss after Epoch 38: 0.0032994379606944594\n",
      "Learning rate after epoch 38: 5e-06\n",
      "New best model found. Saving the model at epoch 38.\n",
      "Epoch 39/100 - Training: hazard\n"
     ]
    },
    {
     "name": "stderr",
     "output_type": "stream",
     "text": [
      "Training Epoch 39: 100%|██████████| 286/286 [00:52<00:00,  5.41it/s, loss=0.0008]\n"
     ]
    },
    {
     "name": "stdout",
     "output_type": "stream",
     "text": [
      "Average Loss after Epoch 39: 0.0032363733853916867\n",
      "Learning rate after epoch 39: 5e-06\n",
      "New best model found. Saving the model at epoch 39.\n",
      "Epoch 40/100 - Training: hazard\n"
     ]
    },
    {
     "name": "stderr",
     "output_type": "stream",
     "text": [
      "Training Epoch 40: 100%|██████████| 286/286 [00:52<00:00,  5.40it/s, loss=0.00927]\n"
     ]
    },
    {
     "name": "stdout",
     "output_type": "stream",
     "text": [
      "Average Loss after Epoch 40: 0.0040667131181905646\n",
      "Learning rate after epoch 40: 5e-06\n",
      "Epoch 41/100 - Training: hazard\n"
     ]
    },
    {
     "name": "stderr",
     "output_type": "stream",
     "text": [
      "Training Epoch 41: 100%|██████████| 286/286 [00:52<00:00,  5.40it/s, loss=0.00147]\n"
     ]
    },
    {
     "name": "stdout",
     "output_type": "stream",
     "text": [
      "Average Loss after Epoch 41: 0.004050907396004776\n",
      "Learning rate after epoch 41: 5e-06\n",
      "Epoch 42/100 - Training: hazard\n"
     ]
    },
    {
     "name": "stderr",
     "output_type": "stream",
     "text": [
      "Training Epoch 42: 100%|██████████| 286/286 [00:52<00:00,  5.41it/s, loss=0.00154]\n"
     ]
    },
    {
     "name": "stdout",
     "output_type": "stream",
     "text": [
      "Average Loss after Epoch 42: 0.0041850581593197685\n",
      "Learning rate after epoch 42: 5e-06\n",
      "Epoch 43/100 - Training: hazard\n"
     ]
    },
    {
     "name": "stderr",
     "output_type": "stream",
     "text": [
      "Training Epoch 43: 100%|██████████| 286/286 [00:52<00:00,  5.41it/s, loss=0.00102]\n"
     ]
    },
    {
     "name": "stdout",
     "output_type": "stream",
     "text": [
      "Average Loss after Epoch 43: 0.003155183549555201\n",
      "Learning rate after epoch 43: 5e-06\n",
      "New best model found. Saving the model at epoch 43.\n",
      "Epoch 44/100 - Training: hazard\n"
     ]
    },
    {
     "name": "stderr",
     "output_type": "stream",
     "text": [
      "Training Epoch 44: 100%|██████████| 286/286 [00:52<00:00,  5.41it/s, loss=0.00193]\n"
     ]
    },
    {
     "name": "stdout",
     "output_type": "stream",
     "text": [
      "Average Loss after Epoch 44: 0.003010810032210938\n",
      "Learning rate after epoch 44: 5e-06\n",
      "New best model found. Saving the model at epoch 44.\n",
      "Epoch 45/100 - Training: hazard\n"
     ]
    },
    {
     "name": "stderr",
     "output_type": "stream",
     "text": [
      "Training Epoch 45: 100%|██████████| 286/286 [00:52<00:00,  5.41it/s, loss=0.00109]\n"
     ]
    },
    {
     "name": "stdout",
     "output_type": "stream",
     "text": [
      "Average Loss after Epoch 45: 0.0024972419018191253\n",
      "Learning rate after epoch 45: 5e-06\n",
      "New best model found. Saving the model at epoch 45.\n",
      "Epoch 46/100 - Training: hazard\n"
     ]
    },
    {
     "name": "stderr",
     "output_type": "stream",
     "text": [
      "Training Epoch 46: 100%|██████████| 286/286 [00:52<00:00,  5.41it/s, loss=0.00103]\n"
     ]
    },
    {
     "name": "stdout",
     "output_type": "stream",
     "text": [
      "Average Loss after Epoch 46: 0.003140161608889621\n",
      "Learning rate after epoch 46: 5e-06\n",
      "Epoch 47/100 - Training: hazard\n"
     ]
    },
    {
     "name": "stderr",
     "output_type": "stream",
     "text": [
      "Training Epoch 47: 100%|██████████| 286/286 [00:52<00:00,  5.41it/s, loss=0.00156]\n"
     ]
    },
    {
     "name": "stdout",
     "output_type": "stream",
     "text": [
      "Average Loss after Epoch 47: 0.0024831103368774645\n",
      "Learning rate after epoch 47: 5e-06\n",
      "New best model found. Saving the model at epoch 47.\n",
      "Epoch 48/100 - Training: hazard\n"
     ]
    },
    {
     "name": "stderr",
     "output_type": "stream",
     "text": [
      "Training Epoch 48: 100%|██████████| 286/286 [00:52<00:00,  5.40it/s, loss=0.138]\n"
     ]
    },
    {
     "name": "stdout",
     "output_type": "stream",
     "text": [
      "Average Loss after Epoch 48: 0.0024681115591975084\n",
      "Learning rate after epoch 48: 5e-06\n",
      "New best model found. Saving the model at epoch 48.\n",
      "Epoch 49/100 - Training: hazard\n"
     ]
    },
    {
     "name": "stderr",
     "output_type": "stream",
     "text": [
      "Training Epoch 49: 100%|██████████| 286/286 [00:52<00:00,  5.41it/s, loss=0.0034]\n"
     ]
    },
    {
     "name": "stdout",
     "output_type": "stream",
     "text": [
      "Average Loss after Epoch 49: 0.0024370942992391065\n",
      "Learning rate after epoch 49: 5e-06\n",
      "New best model found. Saving the model at epoch 49.\n",
      "Epoch 50/100 - Training: hazard\n"
     ]
    },
    {
     "name": "stderr",
     "output_type": "stream",
     "text": [
      "Training Epoch 50: 100%|██████████| 286/286 [00:52<00:00,  5.41it/s, loss=0.000553]\n"
     ]
    },
    {
     "name": "stdout",
     "output_type": "stream",
     "text": [
      "Average Loss after Epoch 50: 0.0024263577425235336\n",
      "Learning rate after epoch 50: 5e-06\n",
      "New best model found. Saving the model at epoch 50.\n",
      "Epoch 51/100 - Training: hazard\n"
     ]
    },
    {
     "name": "stderr",
     "output_type": "stream",
     "text": [
      "Training Epoch 51: 100%|██████████| 286/286 [00:52<00:00,  5.41it/s, loss=0.00153]\n"
     ]
    },
    {
     "name": "stdout",
     "output_type": "stream",
     "text": [
      "Average Loss after Epoch 51: 0.002124504464938162\n",
      "Learning rate after epoch 51: 5e-06\n",
      "New best model found. Saving the model at epoch 51.\n",
      "Epoch 52/100 - Training: hazard\n"
     ]
    },
    {
     "name": "stderr",
     "output_type": "stream",
     "text": [
      "Training Epoch 52: 100%|██████████| 286/286 [00:52<00:00,  5.41it/s, loss=0.00209]\n"
     ]
    },
    {
     "name": "stdout",
     "output_type": "stream",
     "text": [
      "Average Loss after Epoch 52: 0.006476609119669196\n",
      "Learning rate after epoch 52: 5e-06\n",
      "Epoch 53/100 - Training: hazard\n"
     ]
    },
    {
     "name": "stderr",
     "output_type": "stream",
     "text": [
      "Training Epoch 53: 100%|██████████| 286/286 [00:52<00:00,  5.40it/s, loss=0.00145]\n"
     ]
    },
    {
     "name": "stdout",
     "output_type": "stream",
     "text": [
      "Average Loss after Epoch 53: 0.002845010309534268\n",
      "Learning rate after epoch 53: 5e-06\n",
      "Epoch 54/100 - Training: hazard\n"
     ]
    },
    {
     "name": "stderr",
     "output_type": "stream",
     "text": [
      "Training Epoch 54: 100%|██████████| 286/286 [00:52<00:00,  5.40it/s, loss=0.000537]\n"
     ]
    },
    {
     "name": "stdout",
     "output_type": "stream",
     "text": [
      "Average Loss after Epoch 54: 0.002453183136262501\n",
      "Learning rate after epoch 54: 5e-06\n",
      "Epoch 55/100 - Training: hazard\n"
     ]
    },
    {
     "name": "stderr",
     "output_type": "stream",
     "text": [
      "Training Epoch 55: 100%|██████████| 286/286 [00:52<00:00,  5.40it/s, loss=0.001]\n"
     ]
    },
    {
     "name": "stdout",
     "output_type": "stream",
     "text": [
      "Average Loss after Epoch 55: 0.001956714766378469\n",
      "Learning rate after epoch 55: 5e-06\n",
      "New best model found. Saving the model at epoch 55.\n",
      "Epoch 56/100 - Training: hazard\n"
     ]
    },
    {
     "name": "stderr",
     "output_type": "stream",
     "text": [
      "Training Epoch 56: 100%|██████████| 286/286 [00:52<00:00,  5.40it/s, loss=0.000777]\n"
     ]
    },
    {
     "name": "stdout",
     "output_type": "stream",
     "text": [
      "Average Loss after Epoch 56: 0.0018328860831236095\n",
      "Learning rate after epoch 56: 5e-06\n",
      "New best model found. Saving the model at epoch 56.\n",
      "Epoch 57/100 - Training: hazard\n"
     ]
    },
    {
     "name": "stderr",
     "output_type": "stream",
     "text": [
      "Training Epoch 57: 100%|██████████| 286/286 [00:52<00:00,  5.41it/s, loss=0.000714]\n"
     ]
    },
    {
     "name": "stdout",
     "output_type": "stream",
     "text": [
      "Average Loss after Epoch 57: 0.0016316570326017534\n",
      "Learning rate after epoch 57: 5e-06\n",
      "New best model found. Saving the model at epoch 57.\n",
      "Epoch 58/100 - Training: hazard\n"
     ]
    },
    {
     "name": "stderr",
     "output_type": "stream",
     "text": [
      "Training Epoch 58: 100%|██████████| 286/286 [00:52<00:00,  5.40it/s, loss=0.00616]\n"
     ]
    },
    {
     "name": "stdout",
     "output_type": "stream",
     "text": [
      "Average Loss after Epoch 58: 0.0018073285872770401\n",
      "Learning rate after epoch 58: 5e-06\n",
      "Epoch 59/100 - Training: hazard\n"
     ]
    },
    {
     "name": "stderr",
     "output_type": "stream",
     "text": [
      "Training Epoch 59: 100%|██████████| 286/286 [00:52<00:00,  5.41it/s, loss=0.00146]\n"
     ]
    },
    {
     "name": "stdout",
     "output_type": "stream",
     "text": [
      "Average Loss after Epoch 59: 0.0030549986781902494\n",
      "Learning rate after epoch 59: 5e-06\n",
      "Epoch 60/100 - Training: hazard\n"
     ]
    },
    {
     "name": "stderr",
     "output_type": "stream",
     "text": [
      "Training Epoch 60: 100%|██████████| 286/286 [00:52<00:00,  5.40it/s, loss=0.00115]\n"
     ]
    },
    {
     "name": "stdout",
     "output_type": "stream",
     "text": [
      "Average Loss after Epoch 60: 0.0018940691425468304\n",
      "Learning rate after epoch 60: 5e-06\n",
      "Epoch 61/100 - Training: hazard\n"
     ]
    },
    {
     "name": "stderr",
     "output_type": "stream",
     "text": [
      "Training Epoch 61: 100%|██████████| 286/286 [00:52<00:00,  5.40it/s, loss=0.000463]\n"
     ]
    },
    {
     "name": "stdout",
     "output_type": "stream",
     "text": [
      "Average Loss after Epoch 61: 0.0016284637811088568\n",
      "Learning rate after epoch 61: 5e-06\n",
      "New best model found. Saving the model at epoch 61.\n",
      "Epoch 62/100 - Training: hazard\n"
     ]
    },
    {
     "name": "stderr",
     "output_type": "stream",
     "text": [
      "Training Epoch 62: 100%|██████████| 286/286 [00:52<00:00,  5.41it/s, loss=0.0007]\n"
     ]
    },
    {
     "name": "stdout",
     "output_type": "stream",
     "text": [
      "Average Loss after Epoch 62: 0.001515642123411237\n",
      "Learning rate after epoch 62: 5e-06\n",
      "New best model found. Saving the model at epoch 62.\n",
      "Epoch 63/100 - Training: hazard\n"
     ]
    },
    {
     "name": "stderr",
     "output_type": "stream",
     "text": [
      "Training Epoch 63: 100%|██████████| 286/286 [00:52<00:00,  5.40it/s, loss=0.000727]\n"
     ]
    },
    {
     "name": "stdout",
     "output_type": "stream",
     "text": [
      "Average Loss after Epoch 63: 0.0037614722579772182\n",
      "Learning rate after epoch 63: 5e-06\n",
      "Epoch 64/100 - Training: hazard\n"
     ]
    },
    {
     "name": "stderr",
     "output_type": "stream",
     "text": [
      "Training Epoch 64: 100%|██████████| 286/286 [00:52<00:00,  5.40it/s, loss=0.000373]\n"
     ]
    },
    {
     "name": "stdout",
     "output_type": "stream",
     "text": [
      "Average Loss after Epoch 64: 0.001956709582080586\n",
      "Learning rate after epoch 64: 5e-06\n",
      "Epoch 65/100 - Training: hazard\n"
     ]
    },
    {
     "name": "stderr",
     "output_type": "stream",
     "text": [
      "Training Epoch 65: 100%|██████████| 286/286 [00:52<00:00,  5.41it/s, loss=0.000251]\n"
     ]
    },
    {
     "name": "stdout",
     "output_type": "stream",
     "text": [
      "Average Loss after Epoch 65: 0.0015645461940834253\n",
      "Learning rate after epoch 65: 5e-06\n",
      "Epoch 66/100 - Training: hazard\n"
     ]
    },
    {
     "name": "stderr",
     "output_type": "stream",
     "text": [
      "Training Epoch 66: 100%|██████████| 286/286 [00:52<00:00,  5.41it/s, loss=0.000269]\n"
     ]
    },
    {
     "name": "stdout",
     "output_type": "stream",
     "text": [
      "Average Loss after Epoch 66: 0.0017700143680167775\n",
      "Learning rate after epoch 66: 5e-06\n",
      "Epoch 67/100 - Training: hazard\n"
     ]
    },
    {
     "name": "stderr",
     "output_type": "stream",
     "text": [
      "Training Epoch 67: 100%|██████████| 286/286 [00:52<00:00,  5.40it/s, loss=0.000757]\n"
     ]
    },
    {
     "name": "stdout",
     "output_type": "stream",
     "text": [
      "Average Loss after Epoch 67: 0.001246486003250144\n",
      "Learning rate after epoch 67: 5.000000000000001e-07\n",
      "New best model found. Saving the model at epoch 67.\n",
      "Epoch 68/100 - Training: hazard\n"
     ]
    },
    {
     "name": "stderr",
     "output_type": "stream",
     "text": [
      "Training Epoch 68: 100%|██████████| 286/286 [00:52<00:00,  5.41it/s, loss=0.00043]\n"
     ]
    },
    {
     "name": "stdout",
     "output_type": "stream",
     "text": [
      "Average Loss after Epoch 68: 0.0012302918027792536\n",
      "Learning rate after epoch 68: 5.000000000000001e-07\n",
      "New best model found. Saving the model at epoch 68.\n",
      "Epoch 69/100 - Training: hazard\n"
     ]
    },
    {
     "name": "stderr",
     "output_type": "stream",
     "text": [
      "Training Epoch 69: 100%|██████████| 286/286 [00:52<00:00,  5.41it/s, loss=0.00103]\n"
     ]
    },
    {
     "name": "stdout",
     "output_type": "stream",
     "text": [
      "Average Loss after Epoch 69: 0.0014272592453488761\n",
      "Learning rate after epoch 69: 5.000000000000001e-07\n",
      "Epoch 70/100 - Training: hazard\n"
     ]
    },
    {
     "name": "stderr",
     "output_type": "stream",
     "text": [
      "Training Epoch 70: 100%|██████████| 286/286 [00:52<00:00,  5.40it/s, loss=0.000281]\n"
     ]
    },
    {
     "name": "stdout",
     "output_type": "stream",
     "text": [
      "Average Loss after Epoch 70: 0.0012801631139689026\n",
      "Learning rate after epoch 70: 5.000000000000001e-07\n",
      "Epoch 71/100 - Training: hazard\n"
     ]
    },
    {
     "name": "stderr",
     "output_type": "stream",
     "text": [
      "Training Epoch 71: 100%|██████████| 286/286 [00:52<00:00,  5.40it/s, loss=0.000127]\n"
     ]
    },
    {
     "name": "stdout",
     "output_type": "stream",
     "text": [
      "Average Loss after Epoch 71: 0.0013264264596766187\n",
      "Learning rate after epoch 71: 5.000000000000001e-07\n",
      "Epoch 72/100 - Training: hazard\n"
     ]
    },
    {
     "name": "stderr",
     "output_type": "stream",
     "text": [
      "Training Epoch 72: 100%|██████████| 286/286 [00:52<00:00,  5.40it/s, loss=0.000592]\n"
     ]
    },
    {
     "name": "stdout",
     "output_type": "stream",
     "text": [
      "Average Loss after Epoch 72: 0.0014386604180526138\n",
      "Learning rate after epoch 72: 5.000000000000001e-07\n",
      "Epoch 73/100 - Training: hazard\n"
     ]
    },
    {
     "name": "stderr",
     "output_type": "stream",
     "text": [
      "Training Epoch 73: 100%|██████████| 286/286 [00:52<00:00,  5.40it/s, loss=0.000316]\n"
     ]
    },
    {
     "name": "stdout",
     "output_type": "stream",
     "text": [
      "Average Loss after Epoch 73: 0.0012071792173571395\n",
      "Learning rate after epoch 73: 5.000000000000001e-08\n",
      "New best model found. Saving the model at epoch 73.\n",
      "Epoch 74/100 - Training: hazard\n"
     ]
    },
    {
     "name": "stderr",
     "output_type": "stream",
     "text": [
      "Training Epoch 74: 100%|██████████| 286/286 [00:52<00:00,  5.40it/s, loss=0.000212]\n"
     ]
    },
    {
     "name": "stdout",
     "output_type": "stream",
     "text": [
      "Average Loss after Epoch 74: 0.0011989972550585585\n",
      "Learning rate after epoch 74: 5.000000000000001e-08\n",
      "New best model found. Saving the model at epoch 74.\n",
      "Epoch 75/100 - Training: hazard\n"
     ]
    },
    {
     "name": "stderr",
     "output_type": "stream",
     "text": [
      "Training Epoch 75: 100%|██████████| 286/286 [00:52<00:00,  5.40it/s, loss=0.0393]\n"
     ]
    },
    {
     "name": "stdout",
     "output_type": "stream",
     "text": [
      "Average Loss after Epoch 75: 0.001152469881995861\n",
      "Learning rate after epoch 75: 5.000000000000001e-08\n",
      "New best model found. Saving the model at epoch 75.\n",
      "Epoch 76/100 - Training: hazard\n"
     ]
    },
    {
     "name": "stderr",
     "output_type": "stream",
     "text": [
      "Training Epoch 76: 100%|██████████| 286/286 [00:52<00:00,  5.41it/s, loss=0.000643]\n"
     ]
    },
    {
     "name": "stdout",
     "output_type": "stream",
     "text": [
      "Average Loss after Epoch 76: 0.0011314002445319317\n",
      "Learning rate after epoch 76: 5.000000000000001e-08\n",
      "New best model found. Saving the model at epoch 76.\n",
      "Epoch 77/100 - Training: hazard\n"
     ]
    },
    {
     "name": "stderr",
     "output_type": "stream",
     "text": [
      "Training Epoch 77: 100%|██████████| 286/286 [00:52<00:00,  5.41it/s, loss=0.000587]\n"
     ]
    },
    {
     "name": "stdout",
     "output_type": "stream",
     "text": [
      "Average Loss after Epoch 77: 0.001219785825485344\n",
      "Learning rate after epoch 77: 5.000000000000001e-08\n",
      "Epoch 78/100 - Training: hazard\n"
     ]
    },
    {
     "name": "stderr",
     "output_type": "stream",
     "text": [
      "Training Epoch 78: 100%|██████████| 286/286 [00:52<00:00,  5.40it/s, loss=0.000293]\n"
     ]
    },
    {
     "name": "stdout",
     "output_type": "stream",
     "text": [
      "Average Loss after Epoch 78: 0.0013228387437444148\n",
      "Learning rate after epoch 78: 5.000000000000001e-08\n",
      "Epoch 79/100 - Training: hazard\n"
     ]
    },
    {
     "name": "stderr",
     "output_type": "stream",
     "text": [
      "Training Epoch 79: 100%|██████████| 286/286 [00:52<00:00,  5.40it/s, loss=0.000772]\n"
     ]
    },
    {
     "name": "stdout",
     "output_type": "stream",
     "text": [
      "Average Loss after Epoch 79: 0.001200606525516206\n",
      "Learning rate after epoch 79: 5.000000000000001e-08\n",
      "Epoch 80/100 - Training: hazard\n"
     ]
    },
    {
     "name": "stderr",
     "output_type": "stream",
     "text": [
      "Training Epoch 80: 100%|██████████| 286/286 [00:52<00:00,  5.40it/s, loss=0.000377]\n"
     ]
    },
    {
     "name": "stdout",
     "output_type": "stream",
     "text": [
      "Average Loss after Epoch 80: 0.0011777829616100583\n",
      "Learning rate after epoch 80: 5.000000000000001e-08\n",
      "Epoch 81/100 - Training: hazard\n"
     ]
    },
    {
     "name": "stderr",
     "output_type": "stream",
     "text": [
      "Training Epoch 81: 100%|██████████| 286/286 [00:52<00:00,  5.40it/s, loss=0.00118]\n"
     ]
    },
    {
     "name": "stdout",
     "output_type": "stream",
     "text": [
      "Average Loss after Epoch 81: 0.0012017339864363926\n",
      "Learning rate after epoch 81: 5.000000000000002e-09\n",
      "Epoch 82/100 - Training: hazard\n"
     ]
    },
    {
     "name": "stderr",
     "output_type": "stream",
     "text": [
      "Training Epoch 82: 100%|██████████| 286/286 [00:52<00:00,  5.40it/s, loss=0.000217]\n"
     ]
    },
    {
     "name": "stdout",
     "output_type": "stream",
     "text": [
      "Average Loss after Epoch 82: 0.0012895861720251915\n",
      "Learning rate after epoch 82: 5.000000000000002e-09\n",
      "Early stopping triggered!\n",
      "Saving the best model from epoch 76.\n",
      "Evaluating model for task: hazard\n"
     ]
    },
    {
     "name": "stderr",
     "output_type": "stream",
     "text": [
      "Evaluating: 100%|██████████| 32/32 [00:02<00:00, 12.50it/s]\n"
     ]
    },
    {
     "name": "stdout",
     "output_type": "stream",
     "text": [
      "F1-Score for hazard: 0.5790880276869168\n",
      "Classification Report for hazard:\n",
      "\n",
      "                                                 precision    recall  f1-score   support\n",
      "\n",
      "                                      Aflatoxin       1.00      1.00      1.00         2\n",
      "                                      alkaloids       1.00      1.00      1.00         2\n",
      "                                      allergens       0.00      0.00      0.00         3\n",
      "                                         almond       0.80      1.00      0.89         4\n",
      "                                      amygdalin       0.00      0.00      0.00         1\n",
      "                           bad smell / off odor       1.00      1.00      1.00         1\n",
      "                                  bone fragment       1.00      1.00      1.00         1\n",
      "                                     brazil nut       1.00      1.00      1.00         1\n",
      "                              bulging packaging       1.00      0.50      0.67         2\n",
      "                                         cashew       1.00      1.00      1.00         5\n",
      "                    celery and products thereof       0.00      0.00      0.00         1\n",
      " cereals containing gluten and products thereof       0.76      0.94      0.84        17\n",
      "                                       chemical       0.00      0.00      0.00         1\n",
      "               chemical compound (high content)       0.50      1.00      0.67         1\n",
      "                          clostridium botulinum       0.75      1.00      0.86         3\n",
      "                                        coconut       0.00      0.00      0.00         1\n",
      "                        compositional deviation       0.00      0.00      0.00         1\n",
      "                                cronobacter spp       1.00      1.00      1.00         1\n",
      "               crustaceans and products thereof       1.00      1.00      1.00         1\n",
      "                              damaged packaging       0.00      0.00      0.00         0\n",
      "                    e 425 - konjac unauthorised       1.00      1.00      1.00         2\n",
      "                      eggs and products thereof       0.78      0.88      0.82        16\n",
      "                               escherichia coli       1.00      1.00      1.00        16\n",
      "                      fish and products thereof       1.00      0.60      0.75         5\n",
      "                                 foreign bodies       0.50      1.00      0.67         2\n",
      "                                 glass fragment       1.00      0.80      0.89        10\n",
      "                                       hazelnut       1.00      1.00      1.00         2\n",
      "                                   heavy metals       0.80      1.00      0.89         4\n",
      "                        high content of cyanide       0.50      1.00      0.67         1\n",
      "                            improper conditions       0.00      0.00      0.00         2\n",
      "                             improper packaging       0.00      0.00      0.00         1\n",
      "                             incorrect labeling       0.00      0.00      0.00         1\n",
      "                         incorrect use by dates       1.00      1.00      1.00         4\n",
      "                              inspection issues       0.75      0.86      0.80         7\n",
      "           insufficient labelling/documentation       0.00      0.00      0.00         0\n",
      "                       labelling/misdescription       1.00      0.67      0.80         3\n",
      "                         listeria monocytogenes       0.95      0.99      0.97        75\n",
      "                                   listeria spp       0.00      0.00      0.00         1\n",
      "                                 metal fragment       0.94      0.94      0.94        16\n",
      "                  microbiological contamination       1.00      0.50      0.67         2\n",
      "                      milk and products thereof       0.95      0.98      0.97        59\n",
      "                                 misdescription       0.00      0.00      0.00         1\n",
      "                                         moulds       1.00      1.00      1.00         1\n",
      "                   mustard and products thereof       1.00      1.00      1.00         5\n",
      "                                      norovirus       1.00      1.00      1.00         2\n",
      "                                           nuts       0.33      0.50      0.40         2\n",
      "                                          other       0.43      0.43      0.43        14\n",
      "                           other not classified       0.50      0.33      0.40         3\n",
      "          other not classified allergen hazards       0.00      0.00      0.00         0\n",
      "        other not classified biological hazards       0.00      0.00      0.00         1\n",
      "          other not classified chemical hazards       1.00      0.67      0.80         3\n",
      "other not classified hazards for foreign bodies       0.00      0.00      0.00         1\n",
      "                               packaging defect       1.00      1.00      1.00         2\n",
      "     paralytic shellfish poisoning (psp) toxins       0.00      0.00      0.00         1\n",
      "                            pathogenic bacteria       0.00      0.00      0.00         1\n",
      "                   peanuts and products thereof       0.96      0.96      0.96        24\n",
      "                                      pecan nut       1.00      1.00      1.00         3\n",
      "                                  pistachio nut       1.00      0.50      0.67         2\n",
      "                               plastic fragment       0.96      0.96      0.96        25\n",
      "               polycyclic aromatic hydrocarbons       1.00      1.00      1.00         1\n",
      "                            poor hygienic state       0.00      0.00      0.00         1\n",
      "                  poor or insufficient controls       0.00      0.00      0.00         2\n",
      "                                     processing       0.80      1.00      0.89         4\n",
      "               product category/characteristics       0.00      0.00      0.00         1\n",
      "                               rubber fragments       1.00      0.67      0.80         3\n",
      "                                     salmonella       0.97      0.94      0.95        66\n",
      "              sesame seeds and products thereof       1.00      1.00      1.00         5\n",
      "                  soybeans and products thereof       0.94      0.88      0.91        17\n",
      "                  specified risk material (srm)       0.00      0.00      0.00         1\n",
      "                                       spoilage       0.50      1.00      0.67         1\n",
      "                                 staphylococcus       1.00      1.00      1.00         1\n",
      "                                         stones       0.00      0.00      0.00         0\n",
      "                            sulphates/sulphites       0.00      0.00      0.00         2\n",
      "                                sulphur dioxide       1.00      0.67      0.80         3\n",
      "                  sulphur dioxide and sulphites       0.73      1.00      0.85        11\n",
      "                                      tampering       0.00      0.00      0.00         2\n",
      "                              taste disturbance       1.00      1.00      1.00         1\n",
      " too high content of tetrahydrocannabinol (THC)       1.00      1.00      1.00         1\n",
      "                                          toxin       1.00      1.00      1.00         5\n",
      "          unauthorised substance ethylene oxide       1.00      1.00      1.00         8\n",
      "              unauthorised substance sildenafil       0.00      0.00      0.00         0\n",
      "                            undeclared additive       0.00      0.00      0.00         1\n",
      "                    unfit for human consumption       0.00      0.00      0.00         0\n",
      "                                         walnut       1.00      1.00      1.00         3\n",
      "                                         yeasts       0.00      0.00      0.00         0\n",
      "\n",
      "                                       accuracy                           0.87       509\n",
      "                                      macro avg       0.59      0.59      0.58       509\n",
      "                                   weighted avg       0.86      0.87      0.86       509\n",
      "\n",
      "Label Encoder for hazard saved in './best_model_hazard'\n",
      "\n",
      "Starting training for task: product\n"
     ]
    },
    {
     "name": "stderr",
     "output_type": "stream",
     "text": [
      "Some weights of BertForSequenceClassification were not initialized from the model checkpoint at microsoft/BiomedNLP-PubMedBERT-base-uncased-abstract and are newly initialized: ['classifier.bias', 'classifier.weight']\n",
      "You should probably TRAIN this model on a down-stream task to be able to use it for predictions and inference.\n"
     ]
    },
    {
     "name": "stdout",
     "output_type": "stream",
     "text": [
      "Epoch 1/100 - Training: product\n"
     ]
    },
    {
     "name": "stderr",
     "output_type": "stream",
     "text": [
      "Training Epoch 1: 100%|██████████| 286/286 [00:52<00:00,  5.40it/s, loss=6.03]\n"
     ]
    },
    {
     "name": "stdout",
     "output_type": "stream",
     "text": [
      "Average Loss after Epoch 1: 6.383555345601969\n",
      "Learning rate after epoch 1: 5e-05\n",
      "New best model found. Saving the model at epoch 1.\n",
      "Epoch 2/100 - Training: product\n"
     ]
    },
    {
     "name": "stderr",
     "output_type": "stream",
     "text": [
      "Training Epoch 2: 100%|██████████| 286/286 [00:52<00:00,  5.40it/s, loss=5.74]\n"
     ]
    },
    {
     "name": "stdout",
     "output_type": "stream",
     "text": [
      "Average Loss after Epoch 2: 6.135338401460981\n",
      "Learning rate after epoch 2: 5e-05\n",
      "New best model found. Saving the model at epoch 2.\n",
      "Epoch 3/100 - Training: product\n"
     ]
    },
    {
     "name": "stderr",
     "output_type": "stream",
     "text": [
      "Training Epoch 3: 100%|██████████| 286/286 [00:52<00:00,  5.40it/s, loss=5.92]\n"
     ]
    },
    {
     "name": "stdout",
     "output_type": "stream",
     "text": [
      "Average Loss after Epoch 3: 6.115977930855918\n",
      "Learning rate after epoch 3: 5e-05\n",
      "New best model found. Saving the model at epoch 3.\n",
      "Epoch 4/100 - Training: product\n"
     ]
    },
    {
     "name": "stderr",
     "output_type": "stream",
     "text": [
      "Training Epoch 4: 100%|██████████| 286/286 [00:52<00:00,  5.40it/s, loss=6.82]\n"
     ]
    },
    {
     "name": "stdout",
     "output_type": "stream",
     "text": [
      "Average Loss after Epoch 4: 6.069781685208941\n",
      "Learning rate after epoch 4: 5e-05\n",
      "New best model found. Saving the model at epoch 4.\n",
      "Epoch 5/100 - Training: product\n"
     ]
    },
    {
     "name": "stderr",
     "output_type": "stream",
     "text": [
      "Training Epoch 5: 100%|██████████| 286/286 [00:52<00:00,  5.40it/s, loss=5.86]\n"
     ]
    },
    {
     "name": "stdout",
     "output_type": "stream",
     "text": [
      "Average Loss after Epoch 5: 6.109323686653084\n",
      "Learning rate after epoch 5: 5e-05\n",
      "Epoch 6/100 - Training: product\n"
     ]
    },
    {
     "name": "stderr",
     "output_type": "stream",
     "text": [
      "Training Epoch 6: 100%|██████████| 286/286 [00:53<00:00,  5.39it/s, loss=6.95]\n"
     ]
    },
    {
     "name": "stdout",
     "output_type": "stream",
     "text": [
      "Average Loss after Epoch 6: 6.09661059946447\n",
      "Learning rate after epoch 6: 5e-05\n",
      "Epoch 7/100 - Training: product\n"
     ]
    },
    {
     "name": "stderr",
     "output_type": "stream",
     "text": [
      "Training Epoch 7: 100%|██████████| 286/286 [00:52<00:00,  5.43it/s, loss=6.06]\n"
     ]
    },
    {
     "name": "stdout",
     "output_type": "stream",
     "text": [
      "Average Loss after Epoch 7: 6.081527846676487\n",
      "Learning rate after epoch 7: 5e-05\n",
      "Epoch 8/100 - Training: product\n"
     ]
    },
    {
     "name": "stderr",
     "output_type": "stream",
     "text": [
      "Training Epoch 8: 100%|██████████| 286/286 [00:52<00:00,  5.42it/s, loss=6.35]\n"
     ]
    },
    {
     "name": "stdout",
     "output_type": "stream",
     "text": [
      "Average Loss after Epoch 8: 6.089863962226814\n",
      "Learning rate after epoch 8: 5e-05\n",
      "Epoch 9/100 - Training: product\n"
     ]
    },
    {
     "name": "stderr",
     "output_type": "stream",
     "text": [
      "Training Epoch 9: 100%|██████████| 286/286 [00:52<00:00,  5.42it/s, loss=6.18]\n"
     ]
    },
    {
     "name": "stdout",
     "output_type": "stream",
     "text": [
      "Average Loss after Epoch 9: 6.041204052371579\n",
      "Learning rate after epoch 9: 5e-06\n",
      "New best model found. Saving the model at epoch 9.\n",
      "Epoch 10/100 - Training: product\n"
     ]
    },
    {
     "name": "stderr",
     "output_type": "stream",
     "text": [
      "Training Epoch 10: 100%|██████████| 286/286 [00:52<00:00,  5.42it/s, loss=6.2]\n"
     ]
    },
    {
     "name": "stdout",
     "output_type": "stream",
     "text": [
      "Average Loss after Epoch 10: 6.04062747788596\n",
      "Learning rate after epoch 10: 5e-06\n",
      "New best model found. Saving the model at epoch 10.\n",
      "Epoch 11/100 - Training: product\n"
     ]
    },
    {
     "name": "stderr",
     "output_type": "stream",
     "text": [
      "Training Epoch 11: 100%|██████████| 286/286 [00:52<00:00,  5.42it/s, loss=5.93]\n"
     ]
    },
    {
     "name": "stdout",
     "output_type": "stream",
     "text": [
      "Average Loss after Epoch 11: 6.040067499334162\n",
      "Learning rate after epoch 11: 5e-06\n",
      "New best model found. Saving the model at epoch 11.\n",
      "Epoch 12/100 - Training: product\n"
     ]
    },
    {
     "name": "stderr",
     "output_type": "stream",
     "text": [
      "Training Epoch 12: 100%|██████████| 286/286 [00:52<00:00,  5.43it/s, loss=6.27]\n"
     ]
    },
    {
     "name": "stdout",
     "output_type": "stream",
     "text": [
      "Average Loss after Epoch 12: 6.033342133035193\n",
      "Learning rate after epoch 12: 5e-06\n",
      "New best model found. Saving the model at epoch 12.\n",
      "Epoch 13/100 - Training: product\n"
     ]
    },
    {
     "name": "stderr",
     "output_type": "stream",
     "text": [
      "Training Epoch 13: 100%|██████████| 286/286 [00:52<00:00,  5.41it/s, loss=6.24]\n"
     ]
    },
    {
     "name": "stdout",
     "output_type": "stream",
     "text": [
      "Average Loss after Epoch 13: 6.033676004076337\n",
      "Learning rate after epoch 13: 5e-06\n",
      "Epoch 14/100 - Training: product\n"
     ]
    },
    {
     "name": "stderr",
     "output_type": "stream",
     "text": [
      "Training Epoch 14: 100%|██████████| 286/286 [00:53<00:00,  5.39it/s, loss=5.71]\n"
     ]
    },
    {
     "name": "stdout",
     "output_type": "stream",
     "text": [
      "Average Loss after Epoch 14: 6.034582504859338\n",
      "Learning rate after epoch 14: 5e-06\n",
      "Epoch 15/100 - Training: product\n"
     ]
    },
    {
     "name": "stderr",
     "output_type": "stream",
     "text": [
      "Training Epoch 15: 100%|██████████| 286/286 [00:52<00:00,  5.40it/s, loss=5.88]\n"
     ]
    },
    {
     "name": "stdout",
     "output_type": "stream",
     "text": [
      "Average Loss after Epoch 15: 6.0342475967807365\n",
      "Learning rate after epoch 15: 5e-06\n",
      "Epoch 16/100 - Training: product\n"
     ]
    },
    {
     "name": "stderr",
     "output_type": "stream",
     "text": [
      "Training Epoch 16: 100%|██████████| 286/286 [00:53<00:00,  5.37it/s, loss=5.02]\n"
     ]
    },
    {
     "name": "stdout",
     "output_type": "stream",
     "text": [
      "Average Loss after Epoch 16: 6.02370642615365\n",
      "Learning rate after epoch 16: 5e-06\n",
      "New best model found. Saving the model at epoch 16.\n",
      "Epoch 17/100 - Training: product\n"
     ]
    },
    {
     "name": "stderr",
     "output_type": "stream",
     "text": [
      "Training Epoch 17: 100%|██████████| 286/286 [00:53<00:00,  5.36it/s, loss=5.53]\n"
     ]
    },
    {
     "name": "stdout",
     "output_type": "stream",
     "text": [
      "Average Loss after Epoch 17: 5.915957652605497\n",
      "Learning rate after epoch 17: 5e-06\n",
      "New best model found. Saving the model at epoch 17.\n",
      "Epoch 18/100 - Training: product\n"
     ]
    },
    {
     "name": "stderr",
     "output_type": "stream",
     "text": [
      "Training Epoch 18: 100%|██████████| 286/286 [00:52<00:00,  5.42it/s, loss=6.43]\n"
     ]
    },
    {
     "name": "stdout",
     "output_type": "stream",
     "text": [
      "Average Loss after Epoch 18: 5.86404185028343\n",
      "Learning rate after epoch 18: 5e-06\n",
      "New best model found. Saving the model at epoch 18.\n",
      "Epoch 19/100 - Training: product\n"
     ]
    },
    {
     "name": "stderr",
     "output_type": "stream",
     "text": [
      "Training Epoch 19: 100%|██████████| 286/286 [00:52<00:00,  5.44it/s, loss=5.84]\n"
     ]
    },
    {
     "name": "stdout",
     "output_type": "stream",
     "text": [
      "Average Loss after Epoch 19: 5.821550009133932\n",
      "Learning rate after epoch 19: 5e-06\n",
      "New best model found. Saving the model at epoch 19.\n",
      "Epoch 20/100 - Training: product\n"
     ]
    },
    {
     "name": "stderr",
     "output_type": "stream",
     "text": [
      "Training Epoch 20: 100%|██████████| 286/286 [00:52<00:00,  5.44it/s, loss=5.66]\n"
     ]
    },
    {
     "name": "stdout",
     "output_type": "stream",
     "text": [
      "Average Loss after Epoch 20: 5.782241327779277\n",
      "Learning rate after epoch 20: 5e-06\n",
      "New best model found. Saving the model at epoch 20.\n",
      "Epoch 21/100 - Training: product\n"
     ]
    },
    {
     "name": "stderr",
     "output_type": "stream",
     "text": [
      "Training Epoch 21: 100%|██████████| 286/286 [00:52<00:00,  5.43it/s, loss=5.67]\n"
     ]
    },
    {
     "name": "stdout",
     "output_type": "stream",
     "text": [
      "Average Loss after Epoch 21: 5.752069833395365\n",
      "Learning rate after epoch 21: 5e-06\n",
      "New best model found. Saving the model at epoch 21.\n",
      "Epoch 22/100 - Training: product\n"
     ]
    },
    {
     "name": "stderr",
     "output_type": "stream",
     "text": [
      "Training Epoch 22: 100%|██████████| 286/286 [00:52<00:00,  5.43it/s, loss=6.59]\n"
     ]
    },
    {
     "name": "stdout",
     "output_type": "stream",
     "text": [
      "Average Loss after Epoch 22: 5.724537127501481\n",
      "Learning rate after epoch 22: 5e-06\n",
      "New best model found. Saving the model at epoch 22.\n",
      "Epoch 23/100 - Training: product\n"
     ]
    },
    {
     "name": "stderr",
     "output_type": "stream",
     "text": [
      "Training Epoch 23: 100%|██████████| 286/286 [00:52<00:00,  5.43it/s, loss=5.22]\n"
     ]
    },
    {
     "name": "stdout",
     "output_type": "stream",
     "text": [
      "Average Loss after Epoch 23: 5.692131634358759\n",
      "Learning rate after epoch 23: 5e-06\n",
      "New best model found. Saving the model at epoch 23.\n",
      "Epoch 24/100 - Training: product\n"
     ]
    },
    {
     "name": "stderr",
     "output_type": "stream",
     "text": [
      "Training Epoch 24: 100%|██████████| 286/286 [00:52<00:00,  5.43it/s, loss=6.48]\n"
     ]
    },
    {
     "name": "stdout",
     "output_type": "stream",
     "text": [
      "Average Loss after Epoch 24: 5.670164386709254\n",
      "Learning rate after epoch 24: 5e-06\n",
      "New best model found. Saving the model at epoch 24.\n",
      "Epoch 25/100 - Training: product\n"
     ]
    },
    {
     "name": "stderr",
     "output_type": "stream",
     "text": [
      "Training Epoch 25: 100%|██████████| 286/286 [00:52<00:00,  5.42it/s, loss=6.16]\n"
     ]
    },
    {
     "name": "stdout",
     "output_type": "stream",
     "text": [
      "Average Loss after Epoch 25: 5.63422417640686\n",
      "Learning rate after epoch 25: 5e-06\n",
      "New best model found. Saving the model at epoch 25.\n",
      "Epoch 26/100 - Training: product\n"
     ]
    },
    {
     "name": "stderr",
     "output_type": "stream",
     "text": [
      "Training Epoch 26: 100%|██████████| 286/286 [00:52<00:00,  5.43it/s, loss=6.48]\n"
     ]
    },
    {
     "name": "stdout",
     "output_type": "stream",
     "text": [
      "Average Loss after Epoch 26: 5.602715218817438\n",
      "Learning rate after epoch 26: 5e-06\n",
      "New best model found. Saving the model at epoch 26.\n",
      "Epoch 27/100 - Training: product\n"
     ]
    },
    {
     "name": "stderr",
     "output_type": "stream",
     "text": [
      "Training Epoch 27: 100%|██████████| 286/286 [00:52<00:00,  5.43it/s, loss=4.79]\n"
     ]
    },
    {
     "name": "stdout",
     "output_type": "stream",
     "text": [
      "Average Loss after Epoch 27: 5.5746069237902445\n",
      "Learning rate after epoch 27: 5e-06\n",
      "New best model found. Saving the model at epoch 27.\n",
      "Epoch 28/100 - Training: product\n"
     ]
    },
    {
     "name": "stderr",
     "output_type": "stream",
     "text": [
      "Training Epoch 28: 100%|██████████| 286/286 [00:52<00:00,  5.43it/s, loss=5.95]\n"
     ]
    },
    {
     "name": "stdout",
     "output_type": "stream",
     "text": [
      "Average Loss after Epoch 28: 5.525195548584411\n",
      "Learning rate after epoch 28: 5e-06\n",
      "New best model found. Saving the model at epoch 28.\n",
      "Epoch 29/100 - Training: product\n"
     ]
    },
    {
     "name": "stderr",
     "output_type": "stream",
     "text": [
      "Training Epoch 29: 100%|██████████| 286/286 [00:52<00:00,  5.42it/s, loss=6.14]\n"
     ]
    },
    {
     "name": "stdout",
     "output_type": "stream",
     "text": [
      "Average Loss after Epoch 29: 5.488152295559436\n",
      "Learning rate after epoch 29: 5e-06\n",
      "New best model found. Saving the model at epoch 29.\n",
      "Epoch 30/100 - Training: product\n"
     ]
    },
    {
     "name": "stderr",
     "output_type": "stream",
     "text": [
      "Training Epoch 30: 100%|██████████| 286/286 [00:52<00:00,  5.43it/s, loss=5.33]\n"
     ]
    },
    {
     "name": "stdout",
     "output_type": "stream",
     "text": [
      "Average Loss after Epoch 30: 5.446862415833906\n",
      "Learning rate after epoch 30: 5e-06\n",
      "New best model found. Saving the model at epoch 30.\n",
      "Epoch 31/100 - Training: product\n"
     ]
    },
    {
     "name": "stderr",
     "output_type": "stream",
     "text": [
      "Training Epoch 31: 100%|██████████| 286/286 [00:52<00:00,  5.42it/s, loss=5.25]\n"
     ]
    },
    {
     "name": "stdout",
     "output_type": "stream",
     "text": [
      "Average Loss after Epoch 31: 5.411822372383171\n",
      "Learning rate after epoch 31: 5e-06\n",
      "New best model found. Saving the model at epoch 31.\n",
      "Epoch 32/100 - Training: product\n"
     ]
    },
    {
     "name": "stderr",
     "output_type": "stream",
     "text": [
      "Training Epoch 32: 100%|██████████| 286/286 [00:52<00:00,  5.43it/s, loss=6.28]\n"
     ]
    },
    {
     "name": "stdout",
     "output_type": "stream",
     "text": [
      "Average Loss after Epoch 32: 5.375285873879919\n",
      "Learning rate after epoch 32: 5e-06\n",
      "New best model found. Saving the model at epoch 32.\n",
      "Epoch 33/100 - Training: product\n"
     ]
    },
    {
     "name": "stderr",
     "output_type": "stream",
     "text": [
      "Training Epoch 33: 100%|██████████| 286/286 [00:52<00:00,  5.42it/s, loss=5.61]\n"
     ]
    },
    {
     "name": "stdout",
     "output_type": "stream",
     "text": [
      "Average Loss after Epoch 33: 5.336497260140372\n",
      "Learning rate after epoch 33: 5e-06\n",
      "New best model found. Saving the model at epoch 33.\n",
      "Epoch 34/100 - Training: product\n"
     ]
    },
    {
     "name": "stderr",
     "output_type": "stream",
     "text": [
      "Training Epoch 34: 100%|██████████| 286/286 [00:52<00:00,  5.43it/s, loss=5.24]\n"
     ]
    },
    {
     "name": "stdout",
     "output_type": "stream",
     "text": [
      "Average Loss after Epoch 34: 5.3119232421154745\n",
      "Learning rate after epoch 34: 5e-06\n",
      "New best model found. Saving the model at epoch 34.\n",
      "Epoch 35/100 - Training: product\n"
     ]
    },
    {
     "name": "stderr",
     "output_type": "stream",
     "text": [
      "Training Epoch 35: 100%|██████████| 286/286 [00:52<00:00,  5.42it/s, loss=4.79]\n"
     ]
    },
    {
     "name": "stdout",
     "output_type": "stream",
     "text": [
      "Average Loss after Epoch 35: 5.28283478163339\n",
      "Learning rate after epoch 35: 5e-06\n",
      "New best model found. Saving the model at epoch 35.\n",
      "Epoch 36/100 - Training: product\n"
     ]
    },
    {
     "name": "stderr",
     "output_type": "stream",
     "text": [
      "Training Epoch 36: 100%|██████████| 286/286 [00:52<00:00,  5.42it/s, loss=5.64]\n"
     ]
    },
    {
     "name": "stdout",
     "output_type": "stream",
     "text": [
      "Average Loss after Epoch 36: 5.253482575183148\n",
      "Learning rate after epoch 36: 5e-06\n",
      "New best model found. Saving the model at epoch 36.\n",
      "Epoch 37/100 - Training: product\n"
     ]
    },
    {
     "name": "stderr",
     "output_type": "stream",
     "text": [
      "Training Epoch 37: 100%|██████████| 286/286 [00:52<00:00,  5.42it/s, loss=6.09]\n"
     ]
    },
    {
     "name": "stdout",
     "output_type": "stream",
     "text": [
      "Average Loss after Epoch 37: 5.2294192055722215\n",
      "Learning rate after epoch 37: 5e-06\n",
      "New best model found. Saving the model at epoch 37.\n",
      "Epoch 38/100 - Training: product\n"
     ]
    },
    {
     "name": "stderr",
     "output_type": "stream",
     "text": [
      "Training Epoch 38: 100%|██████████| 286/286 [00:52<00:00,  5.43it/s, loss=6.11]\n"
     ]
    },
    {
     "name": "stdout",
     "output_type": "stream",
     "text": [
      "Average Loss after Epoch 38: 5.199584989280967\n",
      "Learning rate after epoch 38: 5e-06\n",
      "New best model found. Saving the model at epoch 38.\n",
      "Epoch 39/100 - Training: product\n"
     ]
    },
    {
     "name": "stderr",
     "output_type": "stream",
     "text": [
      "Training Epoch 39: 100%|██████████| 286/286 [00:52<00:00,  5.41it/s, loss=4.61]\n"
     ]
    },
    {
     "name": "stdout",
     "output_type": "stream",
     "text": [
      "Average Loss after Epoch 39: 5.1694162833940736\n",
      "Learning rate after epoch 39: 5e-06\n",
      "New best model found. Saving the model at epoch 39.\n",
      "Epoch 40/100 - Training: product\n"
     ]
    },
    {
     "name": "stderr",
     "output_type": "stream",
     "text": [
      "Training Epoch 40: 100%|██████████| 286/286 [00:52<00:00,  5.42it/s, loss=5.42]\n"
     ]
    },
    {
     "name": "stdout",
     "output_type": "stream",
     "text": [
      "Average Loss after Epoch 40: 5.14363920605266\n",
      "Learning rate after epoch 40: 5e-06\n",
      "New best model found. Saving the model at epoch 40.\n",
      "Epoch 41/100 - Training: product\n"
     ]
    },
    {
     "name": "stderr",
     "output_type": "stream",
     "text": [
      "Training Epoch 41: 100%|██████████| 286/286 [00:52<00:00,  5.42it/s, loss=5.09]\n"
     ]
    },
    {
     "name": "stdout",
     "output_type": "stream",
     "text": [
      "Average Loss after Epoch 41: 5.113911169392246\n",
      "Learning rate after epoch 41: 5e-06\n",
      "New best model found. Saving the model at epoch 41.\n",
      "Epoch 42/100 - Training: product\n"
     ]
    },
    {
     "name": "stderr",
     "output_type": "stream",
     "text": [
      "Training Epoch 42: 100%|██████████| 286/286 [00:52<00:00,  5.42it/s, loss=5.53]\n"
     ]
    },
    {
     "name": "stdout",
     "output_type": "stream",
     "text": [
      "Average Loss after Epoch 42: 5.092596540917883\n",
      "Learning rate after epoch 42: 5e-06\n",
      "New best model found. Saving the model at epoch 42.\n",
      "Epoch 43/100 - Training: product\n"
     ]
    },
    {
     "name": "stderr",
     "output_type": "stream",
     "text": [
      "Training Epoch 43: 100%|██████████| 286/286 [00:52<00:00,  5.42it/s, loss=5.32]\n"
     ]
    },
    {
     "name": "stdout",
     "output_type": "stream",
     "text": [
      "Average Loss after Epoch 43: 5.072762285912787\n",
      "Learning rate after epoch 43: 5e-06\n",
      "New best model found. Saving the model at epoch 43.\n",
      "Epoch 44/100 - Training: product\n"
     ]
    },
    {
     "name": "stderr",
     "output_type": "stream",
     "text": [
      "Training Epoch 44: 100%|██████████| 286/286 [00:52<00:00,  5.42it/s, loss=5.2]\n"
     ]
    },
    {
     "name": "stdout",
     "output_type": "stream",
     "text": [
      "Average Loss after Epoch 44: 5.043146060063289\n",
      "Learning rate after epoch 44: 5e-06\n",
      "New best model found. Saving the model at epoch 44.\n",
      "Epoch 45/100 - Training: product\n"
     ]
    },
    {
     "name": "stderr",
     "output_type": "stream",
     "text": [
      "Training Epoch 45: 100%|██████████| 286/286 [00:52<00:00,  5.43it/s, loss=5.82]\n"
     ]
    },
    {
     "name": "stdout",
     "output_type": "stream",
     "text": [
      "Average Loss after Epoch 45: 5.015657172336445\n",
      "Learning rate after epoch 45: 5e-06\n",
      "New best model found. Saving the model at epoch 45.\n",
      "Epoch 46/100 - Training: product\n"
     ]
    },
    {
     "name": "stderr",
     "output_type": "stream",
     "text": [
      "Training Epoch 46: 100%|██████████| 286/286 [00:52<00:00,  5.42it/s, loss=4.39]\n"
     ]
    },
    {
     "name": "stdout",
     "output_type": "stream",
     "text": [
      "Average Loss after Epoch 46: 4.993343829275011\n",
      "Learning rate after epoch 46: 5e-06\n",
      "New best model found. Saving the model at epoch 46.\n",
      "Epoch 47/100 - Training: product\n"
     ]
    },
    {
     "name": "stderr",
     "output_type": "stream",
     "text": [
      "Training Epoch 47: 100%|██████████| 286/286 [00:52<00:00,  5.42it/s, loss=5.41]\n"
     ]
    },
    {
     "name": "stdout",
     "output_type": "stream",
     "text": [
      "Average Loss after Epoch 47: 4.965192082044962\n",
      "Learning rate after epoch 47: 5e-06\n",
      "New best model found. Saving the model at epoch 47.\n",
      "Epoch 48/100 - Training: product\n"
     ]
    },
    {
     "name": "stderr",
     "output_type": "stream",
     "text": [
      "Training Epoch 48: 100%|██████████| 286/286 [00:52<00:00,  5.42it/s, loss=4.63]\n"
     ]
    },
    {
     "name": "stdout",
     "output_type": "stream",
     "text": [
      "Average Loss after Epoch 48: 4.946476413653447\n",
      "Learning rate after epoch 48: 5e-06\n",
      "New best model found. Saving the model at epoch 48.\n",
      "Epoch 49/100 - Training: product\n"
     ]
    },
    {
     "name": "stderr",
     "output_type": "stream",
     "text": [
      "Training Epoch 49: 100%|██████████| 286/286 [00:52<00:00,  5.42it/s, loss=4.92]\n"
     ]
    },
    {
     "name": "stdout",
     "output_type": "stream",
     "text": [
      "Average Loss after Epoch 49: 4.9278477738787245\n",
      "Learning rate after epoch 49: 5e-06\n",
      "New best model found. Saving the model at epoch 49.\n",
      "Epoch 50/100 - Training: product\n"
     ]
    },
    {
     "name": "stderr",
     "output_type": "stream",
     "text": [
      "Training Epoch 50: 100%|██████████| 286/286 [00:52<00:00,  5.42it/s, loss=4.31]\n"
     ]
    },
    {
     "name": "stdout",
     "output_type": "stream",
     "text": [
      "Average Loss after Epoch 50: 4.895140157712923\n",
      "Learning rate after epoch 50: 5e-06\n",
      "New best model found. Saving the model at epoch 50.\n",
      "Epoch 51/100 - Training: product\n"
     ]
    },
    {
     "name": "stderr",
     "output_type": "stream",
     "text": [
      "Training Epoch 51: 100%|██████████| 286/286 [00:52<00:00,  5.42it/s, loss=4.32]\n"
     ]
    },
    {
     "name": "stdout",
     "output_type": "stream",
     "text": [
      "Average Loss after Epoch 51: 4.864782902744267\n",
      "Learning rate after epoch 51: 5e-06\n",
      "New best model found. Saving the model at epoch 51.\n",
      "Epoch 52/100 - Training: product\n"
     ]
    },
    {
     "name": "stderr",
     "output_type": "stream",
     "text": [
      "Training Epoch 52: 100%|██████████| 286/286 [00:52<00:00,  5.42it/s, loss=4.95]\n"
     ]
    },
    {
     "name": "stdout",
     "output_type": "stream",
     "text": [
      "Average Loss after Epoch 52: 4.843598345776538\n",
      "Learning rate after epoch 52: 5e-06\n",
      "New best model found. Saving the model at epoch 52.\n",
      "Epoch 53/100 - Training: product\n"
     ]
    },
    {
     "name": "stderr",
     "output_type": "stream",
     "text": [
      "Training Epoch 53: 100%|██████████| 286/286 [00:52<00:00,  5.42it/s, loss=3.99]\n"
     ]
    },
    {
     "name": "stdout",
     "output_type": "stream",
     "text": [
      "Average Loss after Epoch 53: 4.831860537295575\n",
      "Learning rate after epoch 53: 5e-06\n",
      "New best model found. Saving the model at epoch 53.\n",
      "Epoch 54/100 - Training: product\n"
     ]
    },
    {
     "name": "stderr",
     "output_type": "stream",
     "text": [
      "Training Epoch 54: 100%|██████████| 286/286 [00:52<00:00,  5.42it/s, loss=4.81]\n"
     ]
    },
    {
     "name": "stdout",
     "output_type": "stream",
     "text": [
      "Average Loss after Epoch 54: 4.810069989491176\n",
      "Learning rate after epoch 54: 5e-06\n",
      "New best model found. Saving the model at epoch 54.\n",
      "Epoch 55/100 - Training: product\n"
     ]
    },
    {
     "name": "stderr",
     "output_type": "stream",
     "text": [
      "Training Epoch 55: 100%|██████████| 286/286 [00:52<00:00,  5.42it/s, loss=4.92]\n"
     ]
    },
    {
     "name": "stdout",
     "output_type": "stream",
     "text": [
      "Average Loss after Epoch 55: 4.779377647213169\n",
      "Learning rate after epoch 55: 5e-06\n",
      "New best model found. Saving the model at epoch 55.\n",
      "Epoch 56/100 - Training: product\n"
     ]
    },
    {
     "name": "stderr",
     "output_type": "stream",
     "text": [
      "Training Epoch 56: 100%|██████████| 286/286 [00:52<00:00,  5.43it/s, loss=5.61]\n"
     ]
    },
    {
     "name": "stdout",
     "output_type": "stream",
     "text": [
      "Average Loss after Epoch 56: 4.754589103318595\n",
      "Learning rate after epoch 56: 5e-06\n",
      "New best model found. Saving the model at epoch 56.\n",
      "Epoch 57/100 - Training: product\n"
     ]
    },
    {
     "name": "stderr",
     "output_type": "stream",
     "text": [
      "Training Epoch 57: 100%|██████████| 286/286 [00:52<00:00,  5.42it/s, loss=4.92]\n"
     ]
    },
    {
     "name": "stdout",
     "output_type": "stream",
     "text": [
      "Average Loss after Epoch 57: 4.743872942624392\n",
      "Learning rate after epoch 57: 5e-06\n",
      "New best model found. Saving the model at epoch 57.\n",
      "Epoch 58/100 - Training: product\n"
     ]
    },
    {
     "name": "stderr",
     "output_type": "stream",
     "text": [
      "Training Epoch 58: 100%|██████████| 286/286 [00:52<00:00,  5.42it/s, loss=5.76]\n"
     ]
    },
    {
     "name": "stdout",
     "output_type": "stream",
     "text": [
      "Average Loss after Epoch 58: 4.71627880810024\n",
      "Learning rate after epoch 58: 5e-06\n",
      "New best model found. Saving the model at epoch 58.\n",
      "Epoch 59/100 - Training: product\n"
     ]
    },
    {
     "name": "stderr",
     "output_type": "stream",
     "text": [
      "Training Epoch 59: 100%|██████████| 286/286 [00:52<00:00,  5.42it/s, loss=4.85]\n"
     ]
    },
    {
     "name": "stdout",
     "output_type": "stream",
     "text": [
      "Average Loss after Epoch 59: 4.6780066156720785\n",
      "Learning rate after epoch 59: 5e-06\n",
      "New best model found. Saving the model at epoch 59.\n",
      "Epoch 60/100 - Training: product\n"
     ]
    },
    {
     "name": "stderr",
     "output_type": "stream",
     "text": [
      "Training Epoch 60: 100%|██████████| 286/286 [00:52<00:00,  5.42it/s, loss=4.58]\n"
     ]
    },
    {
     "name": "stdout",
     "output_type": "stream",
     "text": [
      "Average Loss after Epoch 60: 4.664464219466789\n",
      "Learning rate after epoch 60: 5e-06\n",
      "New best model found. Saving the model at epoch 60.\n",
      "Epoch 61/100 - Training: product\n"
     ]
    },
    {
     "name": "stderr",
     "output_type": "stream",
     "text": [
      "Training Epoch 61: 100%|██████████| 286/286 [00:52<00:00,  5.42it/s, loss=3.89]\n"
     ]
    },
    {
     "name": "stdout",
     "output_type": "stream",
     "text": [
      "Average Loss after Epoch 61: 4.645151976938848\n",
      "Learning rate after epoch 61: 5e-06\n",
      "New best model found. Saving the model at epoch 61.\n",
      "Epoch 62/100 - Training: product\n"
     ]
    },
    {
     "name": "stderr",
     "output_type": "stream",
     "text": [
      "Training Epoch 62: 100%|██████████| 286/286 [00:52<00:00,  5.42it/s, loss=4.43]\n"
     ]
    },
    {
     "name": "stdout",
     "output_type": "stream",
     "text": [
      "Average Loss after Epoch 62: 4.618023533921142\n",
      "Learning rate after epoch 62: 5e-06\n",
      "New best model found. Saving the model at epoch 62.\n",
      "Epoch 63/100 - Training: product\n"
     ]
    },
    {
     "name": "stderr",
     "output_type": "stream",
     "text": [
      "Training Epoch 63: 100%|██████████| 286/286 [00:52<00:00,  5.42it/s, loss=5.07]\n"
     ]
    },
    {
     "name": "stdout",
     "output_type": "stream",
     "text": [
      "Average Loss after Epoch 63: 4.603751383461319\n",
      "Learning rate after epoch 63: 5e-06\n",
      "New best model found. Saving the model at epoch 63.\n",
      "Epoch 64/100 - Training: product\n"
     ]
    },
    {
     "name": "stderr",
     "output_type": "stream",
     "text": [
      "Training Epoch 64: 100%|██████████| 286/286 [00:52<00:00,  5.42it/s, loss=4.58]\n"
     ]
    },
    {
     "name": "stdout",
     "output_type": "stream",
     "text": [
      "Average Loss after Epoch 64: 4.58557955118326\n",
      "Learning rate after epoch 64: 5e-06\n",
      "New best model found. Saving the model at epoch 64.\n",
      "Epoch 65/100 - Training: product\n"
     ]
    },
    {
     "name": "stderr",
     "output_type": "stream",
     "text": [
      "Training Epoch 65: 100%|██████████| 286/286 [00:52<00:00,  5.42it/s, loss=4.78]\n"
     ]
    },
    {
     "name": "stdout",
     "output_type": "stream",
     "text": [
      "Average Loss after Epoch 65: 4.559291431120226\n",
      "Learning rate after epoch 65: 5e-06\n",
      "New best model found. Saving the model at epoch 65.\n",
      "Epoch 66/100 - Training: product\n"
     ]
    },
    {
     "name": "stderr",
     "output_type": "stream",
     "text": [
      "Training Epoch 66: 100%|██████████| 286/286 [00:52<00:00,  5.43it/s, loss=3.71]\n"
     ]
    },
    {
     "name": "stdout",
     "output_type": "stream",
     "text": [
      "Average Loss after Epoch 66: 4.532759798990263\n",
      "Learning rate after epoch 66: 5e-06\n",
      "New best model found. Saving the model at epoch 66.\n",
      "Epoch 67/100 - Training: product\n"
     ]
    },
    {
     "name": "stderr",
     "output_type": "stream",
     "text": [
      "Training Epoch 67: 100%|██████████| 286/286 [00:52<00:00,  5.42it/s, loss=3.83]\n"
     ]
    },
    {
     "name": "stdout",
     "output_type": "stream",
     "text": [
      "Average Loss after Epoch 67: 4.52652913957209\n",
      "Learning rate after epoch 67: 5e-06\n",
      "New best model found. Saving the model at epoch 67.\n",
      "Epoch 68/100 - Training: product\n"
     ]
    },
    {
     "name": "stderr",
     "output_type": "stream",
     "text": [
      "Training Epoch 68: 100%|██████████| 286/286 [00:52<00:00,  5.42it/s, loss=4.41]\n"
     ]
    },
    {
     "name": "stdout",
     "output_type": "stream",
     "text": [
      "Average Loss after Epoch 68: 4.499528552268768\n",
      "Learning rate after epoch 68: 5e-06\n",
      "New best model found. Saving the model at epoch 68.\n",
      "Epoch 69/100 - Training: product\n"
     ]
    },
    {
     "name": "stderr",
     "output_type": "stream",
     "text": [
      "Training Epoch 69: 100%|██████████| 286/286 [00:52<00:00,  5.42it/s, loss=5.52]\n"
     ]
    },
    {
     "name": "stdout",
     "output_type": "stream",
     "text": [
      "Average Loss after Epoch 69: 4.484158049930226\n",
      "Learning rate after epoch 69: 5e-06\n",
      "New best model found. Saving the model at epoch 69.\n",
      "Epoch 70/100 - Training: product\n"
     ]
    },
    {
     "name": "stderr",
     "output_type": "stream",
     "text": [
      "Training Epoch 70: 100%|██████████| 286/286 [00:52<00:00,  5.42it/s, loss=4.39]\n"
     ]
    },
    {
     "name": "stdout",
     "output_type": "stream",
     "text": [
      "Average Loss after Epoch 70: 4.450164032982779\n",
      "Learning rate after epoch 70: 5e-06\n",
      "New best model found. Saving the model at epoch 70.\n",
      "Epoch 71/100 - Training: product\n"
     ]
    },
    {
     "name": "stderr",
     "output_type": "stream",
     "text": [
      "Training Epoch 71: 100%|██████████| 286/286 [00:52<00:00,  5.43it/s, loss=4.53]\n"
     ]
    },
    {
     "name": "stdout",
     "output_type": "stream",
     "text": [
      "Average Loss after Epoch 71: 4.420345474790026\n",
      "Learning rate after epoch 71: 5e-06\n",
      "New best model found. Saving the model at epoch 71.\n",
      "Epoch 72/100 - Training: product\n"
     ]
    },
    {
     "name": "stderr",
     "output_type": "stream",
     "text": [
      "Training Epoch 72: 100%|██████████| 286/286 [00:52<00:00,  5.42it/s, loss=3.46]\n"
     ]
    },
    {
     "name": "stdout",
     "output_type": "stream",
     "text": [
      "Average Loss after Epoch 72: 4.414757744415657\n",
      "Learning rate after epoch 72: 5e-06\n",
      "New best model found. Saving the model at epoch 72.\n",
      "Epoch 73/100 - Training: product\n"
     ]
    },
    {
     "name": "stderr",
     "output_type": "stream",
     "text": [
      "Training Epoch 73: 100%|██████████| 286/286 [00:52<00:00,  5.42it/s, loss=3.62]\n"
     ]
    },
    {
     "name": "stdout",
     "output_type": "stream",
     "text": [
      "Average Loss after Epoch 73: 4.401427147271749\n",
      "Learning rate after epoch 73: 5e-06\n",
      "New best model found. Saving the model at epoch 73.\n",
      "Epoch 74/100 - Training: product\n"
     ]
    },
    {
     "name": "stderr",
     "output_type": "stream",
     "text": [
      "Training Epoch 74: 100%|██████████| 286/286 [00:52<00:00,  5.41it/s, loss=4.62]\n"
     ]
    },
    {
     "name": "stdout",
     "output_type": "stream",
     "text": [
      "Average Loss after Epoch 74: 4.376887206431036\n",
      "Learning rate after epoch 74: 5e-06\n",
      "New best model found. Saving the model at epoch 74.\n",
      "Epoch 75/100 - Training: product\n"
     ]
    },
    {
     "name": "stderr",
     "output_type": "stream",
     "text": [
      "Training Epoch 75: 100%|██████████| 286/286 [00:52<00:00,  5.42it/s, loss=3.59]\n"
     ]
    },
    {
     "name": "stdout",
     "output_type": "stream",
     "text": [
      "Average Loss after Epoch 75: 4.344624105866973\n",
      "Learning rate after epoch 75: 5e-06\n",
      "New best model found. Saving the model at epoch 75.\n",
      "Epoch 76/100 - Training: product\n"
     ]
    },
    {
     "name": "stderr",
     "output_type": "stream",
     "text": [
      "Training Epoch 76: 100%|██████████| 286/286 [00:52<00:00,  5.42it/s, loss=3.56]\n"
     ]
    },
    {
     "name": "stdout",
     "output_type": "stream",
     "text": [
      "Average Loss after Epoch 76: 4.34282260257881\n",
      "Learning rate after epoch 76: 5e-06\n",
      "New best model found. Saving the model at epoch 76.\n",
      "Epoch 77/100 - Training: product\n"
     ]
    },
    {
     "name": "stderr",
     "output_type": "stream",
     "text": [
      "Training Epoch 77: 100%|██████████| 286/286 [00:52<00:00,  5.42it/s, loss=4.96]\n"
     ]
    },
    {
     "name": "stdout",
     "output_type": "stream",
     "text": [
      "Average Loss after Epoch 77: 4.324915080637365\n",
      "Learning rate after epoch 77: 5e-06\n",
      "New best model found. Saving the model at epoch 77.\n",
      "Epoch 78/100 - Training: product\n"
     ]
    },
    {
     "name": "stderr",
     "output_type": "stream",
     "text": [
      "Training Epoch 78: 100%|██████████| 286/286 [00:52<00:00,  5.42it/s, loss=5.26]\n"
     ]
    },
    {
     "name": "stdout",
     "output_type": "stream",
     "text": [
      "Average Loss after Epoch 78: 4.3043784211565566\n",
      "Learning rate after epoch 78: 5e-06\n",
      "New best model found. Saving the model at epoch 78.\n",
      "Epoch 79/100 - Training: product\n"
     ]
    },
    {
     "name": "stderr",
     "output_type": "stream",
     "text": [
      "Training Epoch 79: 100%|██████████| 286/286 [00:52<00:00,  5.42it/s, loss=5.28]\n"
     ]
    },
    {
     "name": "stdout",
     "output_type": "stream",
     "text": [
      "Average Loss after Epoch 79: 4.298204259438948\n",
      "Learning rate after epoch 79: 5e-06\n",
      "New best model found. Saving the model at epoch 79.\n",
      "Epoch 80/100 - Training: product\n"
     ]
    },
    {
     "name": "stderr",
     "output_type": "stream",
     "text": [
      "Training Epoch 80: 100%|██████████| 286/286 [00:52<00:00,  5.42it/s, loss=3.77]\n"
     ]
    },
    {
     "name": "stdout",
     "output_type": "stream",
     "text": [
      "Average Loss after Epoch 80: 4.2702543552105245\n",
      "Learning rate after epoch 80: 5e-06\n",
      "New best model found. Saving the model at epoch 80.\n",
      "Epoch 81/100 - Training: product\n"
     ]
    },
    {
     "name": "stderr",
     "output_type": "stream",
     "text": [
      "Training Epoch 81: 100%|██████████| 286/286 [00:52<00:00,  5.42it/s, loss=5.08]\n"
     ]
    },
    {
     "name": "stdout",
     "output_type": "stream",
     "text": [
      "Average Loss after Epoch 81: 4.2511079202998765\n",
      "Learning rate after epoch 81: 5e-06\n",
      "New best model found. Saving the model at epoch 81.\n",
      "Epoch 82/100 - Training: product\n"
     ]
    },
    {
     "name": "stderr",
     "output_type": "stream",
     "text": [
      "Training Epoch 82: 100%|██████████| 286/286 [00:52<00:00,  5.42it/s, loss=3.63]\n"
     ]
    },
    {
     "name": "stdout",
     "output_type": "stream",
     "text": [
      "Average Loss after Epoch 82: 4.23567684630414\n",
      "Learning rate after epoch 82: 5e-06\n",
      "New best model found. Saving the model at epoch 82.\n",
      "Epoch 83/100 - Training: product\n"
     ]
    },
    {
     "name": "stderr",
     "output_type": "stream",
     "text": [
      "Training Epoch 83: 100%|██████████| 286/286 [00:52<00:00,  5.42it/s, loss=3.39]\n"
     ]
    },
    {
     "name": "stdout",
     "output_type": "stream",
     "text": [
      "Average Loss after Epoch 83: 4.207339934535794\n",
      "Learning rate after epoch 83: 5e-06\n",
      "New best model found. Saving the model at epoch 83.\n",
      "Epoch 84/100 - Training: product\n"
     ]
    },
    {
     "name": "stderr",
     "output_type": "stream",
     "text": [
      "Training Epoch 84: 100%|██████████| 286/286 [00:52<00:00,  5.42it/s, loss=3.79]\n"
     ]
    },
    {
     "name": "stdout",
     "output_type": "stream",
     "text": [
      "Average Loss after Epoch 84: 4.194113144507775\n",
      "Learning rate after epoch 84: 5e-06\n",
      "New best model found. Saving the model at epoch 84.\n",
      "Epoch 85/100 - Training: product\n"
     ]
    },
    {
     "name": "stderr",
     "output_type": "stream",
     "text": [
      "Training Epoch 85: 100%|██████████| 286/286 [00:52<00:00,  5.42it/s, loss=5.21]\n"
     ]
    },
    {
     "name": "stdout",
     "output_type": "stream",
     "text": [
      "Average Loss after Epoch 85: 4.174971487138655\n",
      "Learning rate after epoch 85: 5e-06\n",
      "New best model found. Saving the model at epoch 85.\n",
      "Epoch 86/100 - Training: product\n"
     ]
    },
    {
     "name": "stderr",
     "output_type": "stream",
     "text": [
      "Training Epoch 86: 100%|██████████| 286/286 [00:52<00:00,  5.42it/s, loss=5.7]\n"
     ]
    },
    {
     "name": "stdout",
     "output_type": "stream",
     "text": [
      "Average Loss after Epoch 86: 4.165075883998737\n",
      "Learning rate after epoch 86: 5e-06\n",
      "New best model found. Saving the model at epoch 86.\n",
      "Epoch 87/100 - Training: product\n"
     ]
    },
    {
     "name": "stderr",
     "output_type": "stream",
     "text": [
      "Training Epoch 87: 100%|██████████| 286/286 [00:52<00:00,  5.41it/s, loss=3.72]\n"
     ]
    },
    {
     "name": "stdout",
     "output_type": "stream",
     "text": [
      "Average Loss after Epoch 87: 4.154140357370977\n",
      "Learning rate after epoch 87: 5e-06\n",
      "New best model found. Saving the model at epoch 87.\n",
      "Epoch 88/100 - Training: product\n"
     ]
    },
    {
     "name": "stderr",
     "output_type": "stream",
     "text": [
      "Training Epoch 88: 100%|██████████| 286/286 [00:52<00:00,  5.42it/s, loss=4.61]\n"
     ]
    },
    {
     "name": "stdout",
     "output_type": "stream",
     "text": [
      "Average Loss after Epoch 88: 4.129659181708223\n",
      "Learning rate after epoch 88: 5e-06\n",
      "New best model found. Saving the model at epoch 88.\n",
      "Epoch 89/100 - Training: product\n"
     ]
    },
    {
     "name": "stderr",
     "output_type": "stream",
     "text": [
      "Training Epoch 89: 100%|██████████| 286/286 [00:52<00:00,  5.42it/s, loss=4.71]\n"
     ]
    },
    {
     "name": "stdout",
     "output_type": "stream",
     "text": [
      "Average Loss after Epoch 89: 4.121662316622434\n",
      "Learning rate after epoch 89: 5e-06\n",
      "New best model found. Saving the model at epoch 89.\n",
      "Epoch 90/100 - Training: product\n"
     ]
    },
    {
     "name": "stderr",
     "output_type": "stream",
     "text": [
      "Training Epoch 90: 100%|██████████| 286/286 [00:52<00:00,  5.42it/s, loss=3.47]\n"
     ]
    },
    {
     "name": "stdout",
     "output_type": "stream",
     "text": [
      "Average Loss after Epoch 90: 4.1031370971586325\n",
      "Learning rate after epoch 90: 5e-06\n",
      "New best model found. Saving the model at epoch 90.\n",
      "Epoch 91/100 - Training: product\n"
     ]
    },
    {
     "name": "stderr",
     "output_type": "stream",
     "text": [
      "Training Epoch 91: 100%|██████████| 286/286 [00:52<00:00,  5.42it/s, loss=3.97]\n"
     ]
    },
    {
     "name": "stdout",
     "output_type": "stream",
     "text": [
      "Average Loss after Epoch 91: 4.090055997555073\n",
      "Learning rate after epoch 91: 5e-06\n",
      "New best model found. Saving the model at epoch 91.\n",
      "Epoch 92/100 - Training: product\n"
     ]
    },
    {
     "name": "stderr",
     "output_type": "stream",
     "text": [
      "Training Epoch 92: 100%|██████████| 286/286 [00:52<00:00,  5.42it/s, loss=4.26]\n"
     ]
    },
    {
     "name": "stdout",
     "output_type": "stream",
     "text": [
      "Average Loss after Epoch 92: 4.0722308200556085\n",
      "Learning rate after epoch 92: 5e-06\n",
      "New best model found. Saving the model at epoch 92.\n",
      "Epoch 93/100 - Training: product\n"
     ]
    },
    {
     "name": "stderr",
     "output_type": "stream",
     "text": [
      "Training Epoch 93: 100%|██████████| 286/286 [00:52<00:00,  5.43it/s, loss=3.75]\n"
     ]
    },
    {
     "name": "stdout",
     "output_type": "stream",
     "text": [
      "Average Loss after Epoch 93: 4.069394704345223\n",
      "Learning rate after epoch 93: 5e-06\n",
      "New best model found. Saving the model at epoch 93.\n",
      "Epoch 94/100 - Training: product\n"
     ]
    },
    {
     "name": "stderr",
     "output_type": "stream",
     "text": [
      "Training Epoch 94: 100%|██████████| 286/286 [00:52<00:00,  5.43it/s, loss=4.24]\n"
     ]
    },
    {
     "name": "stdout",
     "output_type": "stream",
     "text": [
      "Average Loss after Epoch 94: 4.0465586093755865\n",
      "Learning rate after epoch 94: 5e-06\n",
      "New best model found. Saving the model at epoch 94.\n",
      "Epoch 95/100 - Training: product\n"
     ]
    },
    {
     "name": "stderr",
     "output_type": "stream",
     "text": [
      "Training Epoch 95: 100%|██████████| 286/286 [00:52<00:00,  5.42it/s, loss=3.7]\n"
     ]
    },
    {
     "name": "stdout",
     "output_type": "stream",
     "text": [
      "Average Loss after Epoch 95: 4.0328818784727085\n",
      "Learning rate after epoch 95: 5e-06\n",
      "New best model found. Saving the model at epoch 95.\n",
      "Epoch 96/100 - Training: product\n"
     ]
    },
    {
     "name": "stderr",
     "output_type": "stream",
     "text": [
      "Training Epoch 96: 100%|██████████| 286/286 [00:52<00:00,  5.41it/s, loss=4.58]\n"
     ]
    },
    {
     "name": "stdout",
     "output_type": "stream",
     "text": [
      "Average Loss after Epoch 96: 4.018356554158084\n",
      "Learning rate after epoch 96: 5e-06\n",
      "New best model found. Saving the model at epoch 96.\n",
      "Epoch 97/100 - Training: product\n"
     ]
    },
    {
     "name": "stderr",
     "output_type": "stream",
     "text": [
      "Training Epoch 97: 100%|██████████| 286/286 [00:52<00:00,  5.43it/s, loss=4.69]\n"
     ]
    },
    {
     "name": "stdout",
     "output_type": "stream",
     "text": [
      "Average Loss after Epoch 97: 3.9990992546081543\n",
      "Learning rate after epoch 97: 5e-06\n",
      "New best model found. Saving the model at epoch 97.\n",
      "Epoch 98/100 - Training: product\n"
     ]
    },
    {
     "name": "stderr",
     "output_type": "stream",
     "text": [
      "Training Epoch 98: 100%|██████████| 286/286 [00:52<00:00,  5.42it/s, loss=4.48]\n"
     ]
    },
    {
     "name": "stdout",
     "output_type": "stream",
     "text": [
      "Average Loss after Epoch 98: 3.994721696926997\n",
      "Learning rate after epoch 98: 5e-06\n",
      "New best model found. Saving the model at epoch 98.\n",
      "Epoch 99/100 - Training: product\n"
     ]
    },
    {
     "name": "stderr",
     "output_type": "stream",
     "text": [
      "Training Epoch 99: 100%|██████████| 286/286 [00:52<00:00,  5.42it/s, loss=4.12]\n"
     ]
    },
    {
     "name": "stdout",
     "output_type": "stream",
     "text": [
      "Average Loss after Epoch 99: 3.994592086418525\n",
      "Learning rate after epoch 99: 5e-06\n",
      "New best model found. Saving the model at epoch 99.\n",
      "Epoch 100/100 - Training: product\n"
     ]
    },
    {
     "name": "stderr",
     "output_type": "stream",
     "text": [
      "Training Epoch 100: 100%|██████████| 286/286 [00:52<00:00,  5.42it/s, loss=3.9]\n"
     ]
    },
    {
     "name": "stdout",
     "output_type": "stream",
     "text": [
      "Average Loss after Epoch 100: 3.962687280628231\n",
      "Learning rate after epoch 100: 5e-06\n",
      "New best model found. Saving the model at epoch 100.\n",
      "Saving the best model from epoch 100.\n",
      "Evaluating model for task: product\n"
     ]
    },
    {
     "name": "stderr",
     "output_type": "stream",
     "text": [
      "Evaluating: 100%|██████████| 32/32 [00:02<00:00, 12.56it/s]"
     ]
    },
    {
     "name": "stdout",
     "output_type": "stream",
     "text": [
      "F1-Score for product: 0.02825325017133911\n",
      "Classification Report for product:\n",
      "\n",
      "                                                   precision    recall  f1-score   support\n",
      "\n",
      "                           Catfishes (freshwater)       0.00      0.00      0.00         3\n",
      "                            Fishes not identified       0.29      0.80      0.42         5\n",
      "                         Not classified pork meat       0.00      0.00      0.00         1\n",
      "              Precooked cooked pork meat products       0.00      0.00      0.00         1\n",
      "                               after dinner mints       0.00      0.00      0.00         1\n",
      "                                            algae       0.00      0.00      0.00         3\n",
      "                                  almond products       0.00      0.00      0.00         2\n",
      "                                          almonds       0.00      0.00      0.00         1\n",
      "                                 anchovies in oil       0.00      0.00      0.00         1\n",
      "                                       angus beef       0.00      0.00      0.00         1\n",
      "                                       apple cake       0.00      0.00      0.00         1\n",
      "                                         apricots       0.00      0.00      0.00         1\n",
      "                                        baby food       0.00      0.00      0.00         1\n",
      "                                     baby spinach       0.00      0.00      0.00         2\n",
      "                                  bakery products       0.00      0.00      0.00         1\n",
      "                                       baking mix       0.00      0.00      0.00         1\n",
      "                                           bamboo       0.00      0.00      0.00         1\n",
      "                                             bars       0.00      0.00      0.00         1\n",
      "                                basil pesto sauce       0.00      0.00      0.00         1\n",
      "                                       bean snack       0.00      0.00      0.00         1\n",
      "                                             beef       0.60      1.00      0.75         3\n",
      "                                    beef products       0.09      0.50      0.15         2\n",
      "                                      beef stewed       0.00      0.00      0.00         1\n",
      "                                             beer       0.00      0.00      0.00         1\n",
      "                                         biscuits       0.00      0.00      0.00         2\n",
      "                           bitter apricot kernels       0.00      0.00      0.00         1\n",
      "              boletus mushrooms, stems and pieces       0.00      0.00      0.00         1\n",
      "                            bottled mineral water       0.00      0.00      0.00         2\n",
      "                                      brazil nuts       0.00      0.00      0.00         1\n",
      "                                            bread       0.00      0.00      0.00         2\n",
      "                      bread and products therefor       0.00      0.00      0.00         2\n",
      "                                             buns       0.00      0.00      0.00         1\n",
      "                                            cakes       0.09      0.44      0.15         9\n",
      "                                          candies       0.00      0.00      0.00         3\n",
      "                                   canned chicken       0.00      0.00      0.00         1\n",
      "                                   canned mussels       0.00      0.00      0.00         1\n",
      "                                   canned spinach       0.00      0.00      0.00         1\n",
      "                                   cardamom seeds       0.00      0.00      0.00         1\n",
      "                                           cashew       0.00      0.00      0.00         1\n",
      "                                          cbd oil       0.00      0.00      0.00         1\n",
      "                                           cereal       0.00      0.00      0.00         1\n",
      "                                           cheese       0.27      0.57      0.36         7\n",
      "                                   cheese burgers       0.00      0.00      0.00         1\n",
      "                                  cheese products       0.00      0.00      0.00         1\n",
      "                                       chia seeds       0.00      0.00      0.00         2\n",
      "                                          chicken       0.00      0.00      0.00         3\n",
      "                           chicken based products       0.40      0.73      0.52        11\n",
      "                                    chicken broth       0.00      0.00      0.00         1\n",
      "                                  chicken dippers       0.00      0.00      0.00         1\n",
      "                                chicken meat meal       0.00      0.00      0.00         1\n",
      "                             chicken preparations       0.13      0.67      0.22         3\n",
      "                                  chilled chicken       0.00      0.00      0.00         1\n",
      "                                   chilled salads       0.00      0.00      0.00         4\n",
      "                                     chilli paste       0.00      0.00      0.00         1\n",
      "                                        chocolate       0.00      0.00      0.00         6\n",
      "                    chocolate and hazelnut spread       0.00      0.00      0.00         2\n",
      "                  chocolate and products therefor       0.00      0.00      0.00         1\n",
      "                                   chocolate bars       0.05      0.25      0.08         4\n",
      "                                   chocolate eggs       0.00      0.00      0.00         2\n",
      "                               chocolate products       0.00      0.00      0.00         3\n",
      "                                 chocolate spread       0.00      0.00      0.00         1\n",
      "                                 chocolate wafers       0.00      0.00      0.00         1\n",
      "                                          chorizo       0.00      0.00      0.00         3\n",
      "                                    coconut juice       0.17      1.00      0.29         1\n",
      "                                     coconut milk       0.00      0.00      0.00         1\n",
      "                                         coconuts       0.00      0.00      0.00         2\n",
      "                                     coffee beans       0.00      0.00      0.00         1\n",
      "                                   cooked chicken       0.00      0.00      0.00         1\n",
      "                                          cookies       0.50      0.80      0.62         5\n",
      "                                             corn       0.00      0.00      0.00         3\n",
      "                                   cottage cheese       0.00      0.00      0.00         1\n",
      "                                        cous cous       0.00      0.00      0.00         1\n",
      "                                  cow milk cheese       0.00      0.00      0.00         1\n",
      "                                     cream cheese       0.00      0.00      0.00         1\n",
      "                                           crisps       0.00      0.00      0.00         1\n",
      "                                       croissants       0.00      0.00      0.00         1\n",
      "                                         cupcakes       0.00      0.00      0.00         1\n",
      "                                       cured loin       0.00      0.00      0.00         1\n",
      "                                  dark chocolates       0.10      1.00      0.18         3\n",
      "                                            dates       0.00      0.00      0.00         1\n",
      "                                         desserts       0.00      0.00      0.00         2\n",
      "                               dietary supplement       0.00      0.00      0.00         2\n",
      "dietetic foods, food supplements, fortified foods       0.00      0.00      0.00         1\n",
      "                                        dip-sauce       0.00      0.00      0.00         2\n",
      "                                    dipping sauce       0.00      0.00      0.00         1\n",
      "                                           donuts       0.00      0.00      0.00         1\n",
      "                                  dried anchovies       0.00      0.00      0.00         1\n",
      "                                     dried apples       0.00      0.00      0.00         1\n",
      "                                   dried apricots       0.00      0.00      0.00         3\n",
      "                                  dried beef meat       0.50      0.33      0.40         6\n",
      "                                    dried coconut       0.00      0.00      0.00         1\n",
      "                                dried cranberries       0.00      0.00      0.00         1\n",
      "                                       dried figs       0.00      0.00      0.00         1\n",
      "                                      dried plums       0.00      0.00      0.00         0\n",
      "                                      dry sausage       0.00      0.00      0.00         1\n",
      "                                             duck       0.00      0.00      0.00         1\n",
      "                                        dumplings       0.00      0.00      0.00         1\n",
      "                                             eggs       0.00      0.00      0.00         4\n",
      "                            eggs and egg products       0.00      0.00      0.00         1\n",
      "                                   feed materials       0.00      0.00      0.00         2\n",
      "                                     fennel seeds       0.00      0.00      0.00         1\n",
      "                             flavoured soft drink       0.00      0.00      0.00         1\n",
      "              flavoured whey protein preparations       0.00      0.00      0.00         1\n",
      "                                            flour       0.00      0.00      0.00         2\n",
      "                                        foie gras       0.00      0.00      0.00         1\n",
      "                                       fresh beef       0.00      0.00      0.00         1\n",
      "                                  fresh mushrooms       0.03      1.00      0.07         1\n",
      "                                    fresh parsley       0.00      0.00      0.00         1\n",
      "                                 fresh vegetables       0.00      0.00      0.00         1\n",
      "                                      frozen beef       0.00      0.00      0.00         1\n",
      "                              frozen beef patties       0.00      0.00      0.00         2\n",
      "                                  frozen broccoli       0.00      0.00      0.00         1\n",
      "                               frozen burger buns       0.00      0.00      0.00         1\n",
      "                                   frozen burgers       0.00      0.00      0.00         1\n",
      "                                   frozen chicken       0.00      0.00      0.00         1\n",
      "                               frozen green beans       0.00      0.00      0.00         1\n",
      "                                   frozen peppers       0.00      0.00      0.00         1\n",
      "                                     frozen pizza       0.00      0.00      0.00         2\n",
      "                      frozen poultry preparations       0.00      0.00      0.00         1\n",
      "                          frozen poultry products       0.00      0.00      0.00         1\n",
      "                     frozen ready to cook chicken       0.00      0.00      0.00         1\n",
      "                                frozen vegetables       0.00      0.00      0.00         1\n",
      "                         frozen vegetarian cutlet       0.00      0.00      0.00         1\n",
      "                                      fruit juice       0.00      0.00      0.00         2\n",
      "                                      fruit punch       0.00      0.00      0.00         1\n",
      "                                    garlic powder       0.00      0.00      0.00         1\n",
      "                                      goat cheese       0.00      0.00      0.00         1\n",
      "                                     gouda cheese       0.00      0.00      0.00         1\n",
      "                                          granola       0.00      0.00      0.00         1\n",
      "                                        gravy mix       0.00      0.00      0.00         1\n",
      "                             grissini breadsticks       0.00      0.00      0.00         1\n",
      "                                   ground almonds       0.00      0.00      0.00         1\n",
      "                                      ground beef       0.44      0.67      0.53         6\n",
      "                                 ground beef meat       0.00      0.00      0.00         1\n",
      "                              ground black pepper       0.00      0.00      0.00         1\n",
      "                                  halloumi cheese       0.00      0.00      0.00         1\n",
      "                                            halva       0.00      0.00      0.00         1\n",
      "                                              ham       0.00      0.00      0.00         2\n",
      "                                          herring       0.00      0.00      0.00         3\n",
      "                              horseradish in jars       0.00      0.00      0.00         1\n",
      "                                        ice cream       0.88      0.90      0.89        31\n",
      "                                   infant formula       0.00      0.00      0.00         2\n",
      "                                   instant cereal       0.00      0.00      0.00         1\n",
      "                                   instant coffee       0.00      0.00      0.00         1\n",
      "                                              jam       0.00      0.00      0.00         3\n",
      "                                          jellies       1.00      0.33      0.50         3\n",
      "                                             kale       0.00      0.00      0.00         1\n",
      "                                          lasagne       0.00      0.00      0.00         1\n",
      "                            lemonade (lemon soda)       0.00      0.00      0.00         1\n",
      "                                          lettuce       0.00      0.00      0.00         1\n",
      "                                 liquid egg white       0.00      0.00      0.00         1\n",
      "                           liquid food supplement       0.00      0.00      0.00         1\n",
      "                                      lupin seeds       0.00      0.00      0.00         1\n",
      "                                         mackerel       0.00      0.00      0.00         1\n",
      "                                            maize       0.00      0.00      0.00         2\n",
      "                                        margarine       0.00      0.00      0.00         1\n",
      "                                      marshmalows       0.00      0.00      0.00         1\n",
      "                                 masala spice mix       0.00      0.00      0.00         1\n",
      "                        mashed chickpeas (hummus)       0.00      0.00      0.00         1\n",
      "                                       mayonnaise       0.00      0.00      0.00         1\n",
      "      meat and meat products (other than poultry)       0.00      0.00      0.00         1\n",
      "                                        meat loaf       0.00      0.00      0.00         1\n",
      "                                meat preparations       0.00      0.00      0.00         1\n",
      "              mechanically separated chicken meat       0.00      0.00      0.00         1\n",
      "                                             milk       0.00      0.00      0.00         2\n",
      "                   milk chocolate covered raisins       0.00      0.00      0.00         2\n",
      "                                  milk chocolates       0.00      0.00      0.00         1\n",
      "                                    milk products       0.00      0.00      0.00         1\n",
      "                                      minced beef       0.00      0.00      0.00         1\n",
      "                      mitragyna speciosa (kratom)       0.00      0.00      0.00         3\n",
      "                                      mix of nuts       0.00      0.00      0.00         1\n",
      "                                 mixed vegetables       0.00      0.00      0.00         1\n",
      "                                         moussaka       0.00      0.00      0.00         1\n",
      "                                mozzarella cheese       0.00      0.00      0.00         1\n",
      "                                           muesli       0.00      0.00      0.00         3\n",
      "                                        mushrooms       0.00      0.00      0.00         1\n",
      "                                          mustard       0.00      0.00      0.00         1\n",
      "                               non-alcoholic beer       0.00      0.00      0.00         1\n",
      "                          non-alcoholic beverages       0.00      0.00      0.00         1\n",
      "                                          noodles       0.00      0.00      0.00         1\n",
      "                               nut-almond mixture       0.00      0.00      0.00         1\n",
      "                                             nuts       0.00      0.00      0.00         1\n",
      "                                        olive oil       0.00      0.00      0.00         1\n",
      "                                           olives       0.00      0.00      0.00         2\n",
      "                                           onions       0.33      0.33      0.33         3\n",
      "                               orange sugar paste       0.00      0.00      0.00         1\n",
      "                                          oregano       0.00      0.00      0.00         1\n",
      "                           organic chilled hummus       0.00      0.00      0.00         1\n",
      "                             other dairy products       0.00      0.00      0.00         2\n",
      "               other not classified meat products       0.00      0.00      0.00         3\n",
      "                              other types of meat       0.00      0.00      0.00         2\n",
      "                         other water-based drinks       0.00      0.00      0.00         1\n",
      "                                          oysters       0.20      0.33      0.25         3\n",
      "                                           paella       0.00      0.00      0.00         1\n",
      "                                         pancakes       0.00      0.00      0.00         2\n",
      "                                           pastry       0.00      0.00      0.00         1\n",
      "                                  pastry products       0.00      0.00      0.00         2\n",
      "                                          peanuts       0.14      0.29      0.19         7\n",
      "                                       pear juice       0.00      0.00      0.00         1\n",
      "                                            pesto       0.00      0.00      0.00         1\n",
      "                                         pet feed       0.00      0.00      0.00         3\n",
      "                             pickled grape leaves       0.00      0.00      0.00         1\n",
      "                                  pickled peppers       0.00      0.00      0.00         1\n",
      "                                  pig meat - pork       0.00      0.00      0.00         1\n",
      "                                        pine nuts       0.00      0.00      0.00         1\n",
      "                                   pistachio nuts       0.10      0.20      0.13         5\n",
      "                                            pizza       0.00      0.00      0.00         1\n",
      "                                         plastics       0.00      0.00      0.00         1\n",
      "                  plum bread &amp; butter pudding       0.00      0.00      0.00         1\n",
      "                                         pork pie       0.00      0.00      0.00         1\n",
      "                                     pork sausage       0.00      0.00      0.00         2\n",
      "                                     potato chips       0.00      0.00      0.00         2\n",
      "                                         potatoes       0.00      0.00      0.00         2\n",
      "                                           prawns       0.00      0.00      0.00         0\n",
      "              precooked cooked beef meat products       0.00      0.00      0.00         2\n",
      "                                  prepared salads       0.00      0.00      0.00         3\n",
      "                                    protein balls       0.00      0.00      0.00         1\n",
      "                                      protein bar       0.00      0.00      0.00         1\n",
      "                                    protein drink       0.00      0.00      0.00         1\n",
      "                                   protein powder       0.00      0.00      0.00         1\n",
      "                                      puffed rice       0.00      0.00      0.00         1\n",
      "                                             pâté       0.00      0.00      0.00         1\n",
      "                                      raspberries       0.00      0.00      0.00         2\n",
      "                                    raw beef meat       0.00      0.00      0.00         1\n",
      "                            raw cow's milk cheese       0.00      0.00      0.00         1\n",
      "                             raw goat milk cheese       0.00      0.00      0.00         1\n",
      "                                         raw milk       0.00      0.00      0.00         3\n",
      "                        raw milk cheese reblochon       0.00      0.00      0.00         1\n",
      "         ready cooked sliced chicken tikka breast       0.00      0.00      0.00         1\n",
      "                        ready to eat - cook meals       0.00      0.00      0.00        10\n",
      "                                       red chilli       0.00      0.00      0.00         1\n",
      "                                     refreshments       0.00      0.00      0.00         1\n",
      "                                             rice       0.00      0.00      0.00         1\n",
      "                                        rice meal       0.00      0.00      0.00         1\n",
      "                                   salad dressing       0.00      0.00      0.00         1\n",
      "                                           salads       0.17      0.33      0.22         6\n",
      "                                           salami       0.25      0.50      0.33         2\n",
      "                                           salmon       0.20      0.50      0.29         4\n",
      "                                             salt       0.00      0.00      0.00         1\n",
      "                                       sandwiches       0.00      0.00      0.00         6\n",
      "                                            sauce       0.00      0.00      0.00         1\n",
      "                                          sausage       0.00      0.00      0.00         5\n",
      "                                          seafood       0.00      0.00      0.00         1\n",
      "                                 seasoned chicken       0.00      0.00      0.00         1\n",
      "                                        seasoning       0.00      0.00      0.00         1\n",
      "                                  seasoning sauce       0.00      0.00      0.00         1\n",
      "                             seaweed preparations       0.00      0.00      0.00         1\n",
      "                                  sesame seed oil       0.00      0.00      0.00         1\n",
      "                                     sesame seeds       0.00      0.00      0.00         1\n",
      "                                          shrimps       0.00      0.00      0.00         2\n",
      "                                   smoked sausage       0.00      0.00      0.00         1\n",
      "                                   snack crackers       0.00      0.00      0.00         1\n",
      "                                        snack mix       0.00      0.00      0.00         4\n",
      "                                 snacks (various)       0.00      0.00      0.00         2\n",
      "                                             soup       0.00      0.00      0.00         3\n",
      "                                   soy bean paste       0.00      0.00      0.00         1\n",
      "                                           spices       0.00      0.00      0.00         1\n",
      "                                      sport drink       0.00      0.00      0.00         1\n",
      "                                     spring rolls       0.00      0.00      0.00         2\n",
      "                                     spring water       0.00      0.00      0.00         1\n",
      "                                            sugar       0.00      0.00      0.00         1\n",
      "                                   sunflower seed       0.00      0.00      0.00         5\n",
      "                                           sweets       0.00      0.00      0.00         1\n",
      "                                       taco sauce       0.00      0.00      0.00         1\n",
      "                                           tahini       0.00      0.00      0.00         5\n",
      "                            tahini (sesame paste)       0.00      0.00      0.00         1\n",
      "                                         tea bags       0.00      0.00      0.00         1\n",
      "                                        tea drink       0.00      0.00      0.00         1\n",
      "                      thermal processed beef meat       0.00      0.00      0.00         2\n",
      "                      thermal processed pork meat       0.06      0.50      0.10         2\n",
      "                                             tuna       0.00      0.00      0.00         3\n",
      "                   turkey and turkey preparations       0.00      0.00      0.00         1\n",
      "                            turkey based products       0.00      0.00      0.00         2\n",
      "                                   tzatziki sauce       0.00      0.00      0.00         1\n",
      "                          various bakery products       0.00      0.00      0.00         1\n",
      "                           various pasta products       0.00      0.00      0.00         1\n",
      "                         vegetable based products       0.00      0.00      0.00         1\n",
      "                                       vegetables       0.00      0.00      0.00         1\n",
      "                                          waffles       0.00      0.00      0.00         2\n",
      "                                          walnuts       0.00      0.00      0.00         1\n",
      "                                     whey protein       0.00      0.00      0.00         1\n",
      "                              white lasagna sauce       0.00      0.00      0.00         1\n",
      "                                             wine       0.00      0.00      0.00         1\n",
      "                                            wraps       0.00      0.00      0.00         2\n",
      "                                          yoghurt       0.05      0.33      0.08         3\n",
      "\n",
      "                                         accuracy                           0.16       509\n",
      "                                        macro avg       0.02      0.05      0.03       509\n",
      "                                     weighted avg       0.11      0.16      0.12       509\n",
      "\n",
      "Label Encoder for product saved in './best_model_product'\n"
     ]
    },
    {
     "name": "stderr",
     "output_type": "stream",
     "text": [
      "\n"
     ]
    }
   ],
   "source": [
    "from sklearn.model_selection import train_test_split\n",
    "import torch\n",
    "import torch.optim as optim\n",
    "from transformers import AutoModelForSequenceClassification\n",
    "from torch.utils.data import DataLoader\n",
    "from sklearn.metrics import f1_score, classification_report\n",
    "from torch.optim.lr_scheduler import ReduceLROnPlateau\n",
    "from tqdm import tqdm\n",
    "import numpy as np\n",
    "\n",
    "# Train and evaluate the model with early stopping and learning rate reduction\n",
    "def train_and_evaluate_bert(data_splits, targets):\n",
    "    # Initialize an empty list to store F1 scores for each target task\n",
    "    f1_scores = []\n",
    "\n",
    "    # Loop through each target (task) for training and evaluation\n",
    "    for target in targets:\n",
    "        print(f\"\\nStarting training for task: {target}\")\n",
    "\n",
    "        # Retrieve the corresponding training and testing splits\n",
    "        X_train, X_test, y_train, y_test = data_splits[target]\n",
    "\n",
    "        # Extract the 'text' column for training and testing\n",
    "        texts_train = X_train['text'].values\n",
    "        texts_test = X_test['text'].values\n",
    "\n",
    "        # Create datasets for training and testing\n",
    "        train_dataset = TextDataset(texts_train, y_train, tokenizer, config['max_len'])\n",
    "        test_dataset = TextDataset(texts_test, y_test, tokenizer, config['max_len'])\n",
    "\n",
    "        # Create data loaders for batching during training and testing\n",
    "        train_loader = DataLoader(train_dataset, batch_size=config['batch_size'], shuffle=True)\n",
    "        test_loader = DataLoader(test_dataset, batch_size=config['batch_size'], shuffle=False)\n",
    "\n",
    "        # Determine the number of labels for classification dynamically based on the target task\n",
    "        num_classes = len(label_encoders[target].classes_)  # This gives the number of unique classes for the current task\n",
    "        \"\"\"\n",
    "        # Calculate class weights for CrossEntropyLoss\n",
    "        class_weights = compute_class_weight(\n",
    "            'balanced',\n",
    "            classes=np.unique(y_train),\n",
    "            y=y_train\n",
    "        )\n",
    "\n",
    "        # Initialize the full class weights tensor with 1 (or any other default weight)\n",
    "        class_weights_full = torch.ones(num_classes)  # Start with all weights equal to 1\n",
    "\n",
    "        # Map the computed class weights to the appropriate indices for the classes that exist in the training set\n",
    "        for i, class_idx in enumerate(np.unique(y_train)):\n",
    "            class_weights_full[class_idx] = class_weights[i]\n",
    "\n",
    "        # Move the class weights tensor to the correct device (GPU/CPU)\n",
    "        class_weights_full = class_weights_full.to(device)\n",
    "        \"\"\"\n",
    "\n",
    "        # Load the pre-trained model with the appropriate number of labels for classification\n",
    "        model = AutoModelForSequenceClassification.from_pretrained(config['model_name'], num_labels=num_classes).to(device)\n",
    "\n",
    "        # Initialize the optimizer, loss function (with class weights), and learning rate scheduler\n",
    "        optimizer = optim.Adam(model.parameters(), lr=config['learning_rate'])\n",
    "        scheduler = ReduceLROnPlateau(optimizer, 'min', factor=0.1, patience=3, verbose=True)\n",
    "        criterion = nn.CrossEntropyLoss() #WITHOUT WEIGHTS\n",
    "\n",
    "        # Early stopping setup\n",
    "        best_val_loss = float('inf')\n",
    "        best_epoch = 0\n",
    "        patience = 6  # Number of epochs with no improvement before stopping\n",
    "        epochs_without_improvement = 0\n",
    "        best_model = None  # Variable to hold the best model\n",
    "\n",
    "        # Training loop\n",
    "        model.train()\n",
    "        for epoch in range(config['epochs']):\n",
    "            print(f\"Epoch {epoch+1}/{config['epochs']} - Training: {target}\")\n",
    "            progress_bar = tqdm(train_loader, desc=f\"Training Epoch {epoch+1}\", total=len(train_loader), leave=True)\n",
    "\n",
    "            # Initialize variables to calculate average loss\n",
    "            epoch_loss = 0.0\n",
    "            total_batches = 0\n",
    "\n",
    "            for batch in progress_bar:\n",
    "                optimizer.zero_grad()\n",
    "\n",
    "                # Get the input data and labels for the current batch\n",
    "                input_ids = batch['input_ids'].squeeze(1).to(device)\n",
    "                attention_mask = batch['attention_mask'].squeeze(1).to(device)\n",
    "                labels = batch['label'].to(device)\n",
    "\n",
    "                # Forward pass\n",
    "                outputs = model(input_ids, attention_mask=attention_mask)\n",
    "                loss = criterion(outputs.logits, labels)\n",
    "\n",
    "                # Backward pass and optimization step\n",
    "                loss.backward()\n",
    "                optimizer.step()\n",
    "\n",
    "                # Update epoch loss and total batches\n",
    "                epoch_loss += loss.item()\n",
    "                total_batches += 1\n",
    "\n",
    "                # Update the progress bar with the current loss\n",
    "                progress_bar.set_postfix(loss=loss.item())\n",
    "\n",
    "            # Calculate and print average loss for the epoch\n",
    "            avg_epoch_loss = epoch_loss / total_batches\n",
    "            print(f\"Average Loss after Epoch {epoch+1}: {avg_epoch_loss}\")\n",
    "\n",
    "            # Print the current learning rate\n",
    "            current_lr = optimizer.param_groups[0]['lr']\n",
    "            print(f\"Learning rate after epoch {epoch+1}: {current_lr}\")\n",
    "\n",
    "            # Apply learning rate scheduler\n",
    "            scheduler.step(avg_epoch_loss)\n",
    "\n",
    "            # Save the model if it has the best loss so far\n",
    "            if avg_epoch_loss < best_val_loss:\n",
    "                best_val_loss = avg_epoch_loss\n",
    "                best_epoch = epoch + 1\n",
    "                epochs_without_improvement = 0\n",
    "                best_model = model.state_dict()  # Save model weights\n",
    "                print(f\"New best model found. Saving the model at epoch {best_epoch}.\")\n",
    "            else:\n",
    "                epochs_without_improvement += 1\n",
    "                if epochs_without_improvement >= patience:\n",
    "                    print(\"Early stopping triggered!\")\n",
    "                    break\n",
    "\n",
    "        # After training, save the best model\n",
    "        if best_model:\n",
    "            print(f\"Saving the best model from epoch {best_epoch}.\")\n",
    "            model.load_state_dict(best_model)  # Restore the best model\n",
    "            model.save_pretrained(f'./best_model_{target}')\n",
    "            tokenizer.save_pretrained(f'./best_model_{target}')\n",
    "        else:\n",
    "            print(\"No improvement in training loss. No model saved.\")\n",
    "\n",
    "        # Evaluate the model on the test set\n",
    "        print(f\"Evaluating model for task: {target}\")\n",
    "        model.eval()\n",
    "        y_preds = []\n",
    "        y_true = []\n",
    "\n",
    "        # Evaluate without computing gradients\n",
    "        with torch.no_grad():\n",
    "            for batch in tqdm(test_loader, desc=\"Evaluating\", total=len(test_loader), leave=True):\n",
    "                input_ids = batch['input_ids'].squeeze(1).to(device)\n",
    "                attention_mask = batch['attention_mask'].squeeze(1).to(device)\n",
    "                labels = batch['label'].to(device)\n",
    "\n",
    "                # Forward pass\n",
    "                outputs = model(input_ids, attention_mask=attention_mask)\n",
    "\n",
    "                # Get predictions and append them to the list\n",
    "                _, preds = torch.max(outputs.logits, dim=1)\n",
    "                y_preds.extend(preds.cpu().numpy())\n",
    "                y_true.extend(labels.cpu().numpy())\n",
    "\n",
    "        # Decode the predictions and true labels\n",
    "        decoded_preds = label_encoders[target].inverse_transform(y_preds)\n",
    "        decoded_true = label_encoders[target].inverse_transform(y_true)\n",
    "\n",
    "        # Calculate the macro F1 score\n",
    "        f1 = f1_score(decoded_true, decoded_preds, average='macro')\n",
    "        f1_scores.append(f1)\n",
    "        print(f\"F1-Score for {target}: {f1}\")\n",
    "\n",
    "        # Print the classification report\n",
    "        print(f\"Classification Report for {target}:\\n\")\n",
    "        print(classification_report(decoded_true, decoded_preds, zero_division=0))\n",
    "\n",
    "        # Save the label encoder for the current task\n",
    "        np.save(f'./best_model_{target}/{target}_label_encoder.npy', label_encoders[target].classes_)\n",
    "        print(f\"Label Encoder for {target} saved in './best_model_{target}'\")\n",
    "\n",
    "    # Return the F1 scores for each target task\n",
    "    return f1_scores\n",
    "\n",
    "# Train and evaluate for all targets (subtasks 1 and 2)\n",
    "text_f1_scores = train_and_evaluate_bert(text_splits, targets_subtask1 + targets_subtask2)\n"
   ]
  },
  {
   "cell_type": "markdown",
   "metadata": {
    "id": "HLUojbN91Oon"
   },
   "source": [
    "# Generate predictions on the test data and print the predictions DataFrame\n",
    "Here, we load the test dataset, use the trained model to generate predictions, and display the results.\n"
   ]
  },
  {
   "cell_type": "code",
   "execution_count": null,
   "metadata": {
    "colab": {
     "base_uri": "https://localhost:8080/"
    },
    "executionInfo": {
     "elapsed": 15022,
     "status": "ok",
     "timestamp": 1732706956039,
     "user": {
      "displayName": "Stelios Giagkos",
      "userId": "06441279652746263838"
     },
     "user_tz": -120
    },
    "id": "1asDnwc-1QIb",
    "outputId": "30feff70-51b1-4ea7-f53a-ed5c276f5b2c"
   },
   "outputs": [
    {
     "name": "stdout",
     "output_type": "stream",
     "text": [
      "Using device: cuda\n",
      "\n",
      "Final Predictions:\n",
      "\n",
      "    hazard-category                                   product-category  \\\n",
      "0        biological                       meat, egg and dairy products   \n",
      "1        biological                       meat, egg and dairy products   \n",
      "2        biological                         prepared dishes and snacks   \n",
      "3         allergens                                  ices and desserts   \n",
      "4    foreign bodies                       meat, egg and dairy products   \n",
      "..              ...                                                ...   \n",
      "560       allergens                              fruits and vegetables   \n",
      "561       allergens  dietetic foods, food supplements, fortified foods   \n",
      "562  foreign bodies                        cereals and bakery products   \n",
      "563       allergens                        cereals and bakery products   \n",
      "564       allergens                                      confectionery   \n",
      "\n",
      "                           hazard                 product  \n",
      "0          listeria monocytogenes                  salami  \n",
      "1                escherichia coli                 sausage  \n",
      "2                   enteroviruses  chicken based products  \n",
      "3                       pecan nut               ice cream  \n",
      "4                  metal fragment  chicken based products  \n",
      "..                            ...                     ...  \n",
      "560                        cashew                  salads  \n",
      "561     milk and products thereof                   cakes  \n",
      "562              plastic fragment                 cookies  \n",
      "563  peanuts and products thereof                    milk  \n",
      "564                        almond                   cakes  \n",
      "\n",
      "[565 rows x 4 columns]\n"
     ]
    }
   ],
   "source": [
    "# Import necessary libraries\n",
    "import os\n",
    "import torch\n",
    "import numpy as np\n",
    "import pandas as pd\n",
    "from transformers import AutoTokenizer, AutoModelForSequenceClassification\n",
    "from sklearn.preprocessing import LabelEncoder\n",
    "\n",
    "# Load the test data for predictions (CSV containing validation data)\n",
    "test_path = '/content/drive/MyDrive/Data/validation_data/incidents.csv'\n",
    "test_df = pd.read_csv(test_path, index_col=0)\n",
    "\n",
    "# Define the predict function\n",
    "def predict(texts, model_base_path, target):\n",
    "    # Load the tokenizer for the specified pre-trained model\n",
    "    tokenizer = AutoTokenizer.from_pretrained(model_base_path)\n",
    "\n",
    "    # Load the correct label encoder for the given target\n",
    "    label_encoder_path = f'{model_base_path}/{target}_label_encoder.npy'\n",
    "    label_encoder = LabelEncoder()\n",
    "\n",
    "    # Check if the label encoder file exists and load it\n",
    "    if os.path.exists(label_encoder_path):\n",
    "        label_encoder.classes_ = np.load(label_encoder_path, allow_pickle=True)\n",
    "    else:\n",
    "        # Print a warning if the label encoder is not found\n",
    "        print(f\"Warning: Label encoder not found for {target} at {label_encoder_path}\")\n",
    "        return None\n",
    "\n",
    "    # Load the pre-trained model for sequence classification\n",
    "    model = AutoModelForSequenceClassification.from_pretrained(model_base_path).to(device)\n",
    "\n",
    "    # Tokenize the input texts\n",
    "    inputs = tokenizer(\n",
    "        texts,\n",
    "        padding=True,  # Pad sequences to the max length\n",
    "        truncation=True,  # Truncate sequences to the max length\n",
    "        max_length=512,  # Limit sequence length to 512 tokens\n",
    "        return_tensors=\"pt\"  # Return PyTorch tensors\n",
    "    ).to(device)\n",
    "\n",
    "    # Put the model in evaluation mode\n",
    "    model.eval()\n",
    "\n",
    "    # Make predictions with no gradient calculation\n",
    "    with torch.no_grad():\n",
    "        outputs = model(**inputs)\n",
    "        logits = outputs.logits\n",
    "        predictions = torch.argmax(logits, dim=-1)  # Get the predicted class for each input\n",
    "\n",
    "    # Decode the predictions using the label encoder\n",
    "    decoded_predictions = label_encoder.inverse_transform(predictions.cpu().numpy())\n",
    "\n",
    "    # Return the decoded predictions\n",
    "    return decoded_predictions\n",
    "\n",
    "# Define device for model prediction (use GPU if available, else use CPU)\n",
    "device = torch.device('cuda' if torch.cuda.is_available() else 'cpu')\n",
    "print(f\"Using device: {device}\")\n",
    "\n",
    "# Prepare an empty dataframe to store the predictions\n",
    "predictions = pd.DataFrame()\n",
    "\n",
    "# Run predictions for all targets using the correct saved model\n",
    "for column in targets_subtask1 + targets_subtask2:\n",
    "    # Define the model path dynamically based on the target column\n",
    "    model_path = f'./best_model_{column}'  # Update model path to point to the best model\n",
    "\n",
    "    # Get the decoded predictions for the current target\n",
    "    decoded_preds = predict(test_df['text'].tolist(), model_path, column)\n",
    "\n",
    "    # If predictions were successfully made, store them in the dataframe\n",
    "    if decoded_preds is not None:\n",
    "        predictions[column] = decoded_preds\n",
    "\n",
    "# Display the final predictions\n",
    "print(\"\\nFinal Predictions:\\n\")\n",
    "print(predictions)\n"
   ]
  },
  {
   "cell_type": "code",
   "execution_count": null,
   "metadata": {
    "colab": {
     "base_uri": "https://localhost:8080/",
     "height": 423
    },
    "executionInfo": {
     "elapsed": 5,
     "status": "ok",
     "timestamp": 1732706956039,
     "user": {
      "displayName": "Stelios Giagkos",
      "userId": "06441279652746263838"
     },
     "user_tz": -120
    },
    "id": "v6gfxEZFM2Kq",
    "outputId": "f5f94033-8e3f-4920-b798-9a0d3e6d63dd"
   },
   "outputs": [
    {
     "data": {
      "application/vnd.google.colaboratory.intrinsic+json": {
       "summary": "{\n  \"name\": \"predictions\",\n  \"rows\": 565,\n  \"fields\": [\n    {\n      \"column\": \"hazard-category\",\n      \"properties\": {\n        \"dtype\": \"category\",\n        \"num_unique_values\": 8,\n        \"samples\": [\n          \"allergens\",\n          \"fraud\",\n          \"biological\"\n        ],\n        \"semantic_type\": \"\",\n        \"description\": \"\"\n      }\n    },\n    {\n      \"column\": \"product-category\",\n      \"properties\": {\n        \"dtype\": \"category\",\n        \"num_unique_values\": 17,\n        \"samples\": [\n          \"meat, egg and dairy products\",\n          \"prepared dishes and snacks\",\n          \"seafood\"\n        ],\n        \"semantic_type\": \"\",\n        \"description\": \"\"\n      }\n    },\n    {\n      \"column\": \"hazard\",\n      \"properties\": {\n        \"dtype\": \"category\",\n        \"num_unique_values\": 80,\n        \"samples\": [\n          \"labelling/misdescription\",\n          \"listeria monocytogenes\",\n          \"fish and products thereof\"\n        ],\n        \"semantic_type\": \"\",\n        \"description\": \"\"\n      }\n    },\n    {\n      \"column\": \"product\",\n      \"properties\": {\n        \"dtype\": \"category\",\n        \"num_unique_values\": 44,\n        \"samples\": [\n          \"chicken\",\n          \"dried apricots\",\n          \"ready to eat - cook meals\"\n        ],\n        \"semantic_type\": \"\",\n        \"description\": \"\"\n      }\n    }\n  ]\n}",
       "type": "dataframe",
       "variable_name": "predictions"
      },
      "text/html": [
       "\n",
       "  <div id=\"df-f47c182d-063f-4ca1-a7b2-24898df24d0e\" class=\"colab-df-container\">\n",
       "    <div>\n",
       "<style scoped>\n",
       "    .dataframe tbody tr th:only-of-type {\n",
       "        vertical-align: middle;\n",
       "    }\n",
       "\n",
       "    .dataframe tbody tr th {\n",
       "        vertical-align: top;\n",
       "    }\n",
       "\n",
       "    .dataframe thead th {\n",
       "        text-align: right;\n",
       "    }\n",
       "</style>\n",
       "<table border=\"1\" class=\"dataframe\">\n",
       "  <thead>\n",
       "    <tr style=\"text-align: right;\">\n",
       "      <th></th>\n",
       "      <th>hazard-category</th>\n",
       "      <th>product-category</th>\n",
       "      <th>hazard</th>\n",
       "      <th>product</th>\n",
       "    </tr>\n",
       "  </thead>\n",
       "  <tbody>\n",
       "    <tr>\n",
       "      <th>0</th>\n",
       "      <td>biological</td>\n",
       "      <td>meat, egg and dairy products</td>\n",
       "      <td>listeria monocytogenes</td>\n",
       "      <td>salami</td>\n",
       "    </tr>\n",
       "    <tr>\n",
       "      <th>1</th>\n",
       "      <td>biological</td>\n",
       "      <td>meat, egg and dairy products</td>\n",
       "      <td>escherichia coli</td>\n",
       "      <td>sausage</td>\n",
       "    </tr>\n",
       "    <tr>\n",
       "      <th>2</th>\n",
       "      <td>biological</td>\n",
       "      <td>prepared dishes and snacks</td>\n",
       "      <td>enteroviruses</td>\n",
       "      <td>chicken based products</td>\n",
       "    </tr>\n",
       "    <tr>\n",
       "      <th>3</th>\n",
       "      <td>allergens</td>\n",
       "      <td>ices and desserts</td>\n",
       "      <td>pecan nut</td>\n",
       "      <td>ice cream</td>\n",
       "    </tr>\n",
       "    <tr>\n",
       "      <th>4</th>\n",
       "      <td>foreign bodies</td>\n",
       "      <td>meat, egg and dairy products</td>\n",
       "      <td>metal fragment</td>\n",
       "      <td>chicken based products</td>\n",
       "    </tr>\n",
       "    <tr>\n",
       "      <th>...</th>\n",
       "      <td>...</td>\n",
       "      <td>...</td>\n",
       "      <td>...</td>\n",
       "      <td>...</td>\n",
       "    </tr>\n",
       "    <tr>\n",
       "      <th>560</th>\n",
       "      <td>allergens</td>\n",
       "      <td>fruits and vegetables</td>\n",
       "      <td>cashew</td>\n",
       "      <td>salads</td>\n",
       "    </tr>\n",
       "    <tr>\n",
       "      <th>561</th>\n",
       "      <td>allergens</td>\n",
       "      <td>dietetic foods, food supplements, fortified foods</td>\n",
       "      <td>milk and products thereof</td>\n",
       "      <td>cakes</td>\n",
       "    </tr>\n",
       "    <tr>\n",
       "      <th>562</th>\n",
       "      <td>foreign bodies</td>\n",
       "      <td>cereals and bakery products</td>\n",
       "      <td>plastic fragment</td>\n",
       "      <td>cookies</td>\n",
       "    </tr>\n",
       "    <tr>\n",
       "      <th>563</th>\n",
       "      <td>allergens</td>\n",
       "      <td>cereals and bakery products</td>\n",
       "      <td>peanuts and products thereof</td>\n",
       "      <td>milk</td>\n",
       "    </tr>\n",
       "    <tr>\n",
       "      <th>564</th>\n",
       "      <td>allergens</td>\n",
       "      <td>confectionery</td>\n",
       "      <td>almond</td>\n",
       "      <td>cakes</td>\n",
       "    </tr>\n",
       "  </tbody>\n",
       "</table>\n",
       "<p>565 rows × 4 columns</p>\n",
       "</div>\n",
       "    <div class=\"colab-df-buttons\">\n",
       "\n",
       "  <div class=\"colab-df-container\">\n",
       "    <button class=\"colab-df-convert\" onclick=\"convertToInteractive('df-f47c182d-063f-4ca1-a7b2-24898df24d0e')\"\n",
       "            title=\"Convert this dataframe to an interactive table.\"\n",
       "            style=\"display:none;\">\n",
       "\n",
       "  <svg xmlns=\"http://www.w3.org/2000/svg\" height=\"24px\" viewBox=\"0 -960 960 960\">\n",
       "    <path d=\"M120-120v-720h720v720H120Zm60-500h600v-160H180v160Zm220 220h160v-160H400v160Zm0 220h160v-160H400v160ZM180-400h160v-160H180v160Zm440 0h160v-160H620v160ZM180-180h160v-160H180v160Zm440 0h160v-160H620v160Z\"/>\n",
       "  </svg>\n",
       "    </button>\n",
       "\n",
       "  <style>\n",
       "    .colab-df-container {\n",
       "      display:flex;\n",
       "      gap: 12px;\n",
       "    }\n",
       "\n",
       "    .colab-df-convert {\n",
       "      background-color: #E8F0FE;\n",
       "      border: none;\n",
       "      border-radius: 50%;\n",
       "      cursor: pointer;\n",
       "      display: none;\n",
       "      fill: #1967D2;\n",
       "      height: 32px;\n",
       "      padding: 0 0 0 0;\n",
       "      width: 32px;\n",
       "    }\n",
       "\n",
       "    .colab-df-convert:hover {\n",
       "      background-color: #E2EBFA;\n",
       "      box-shadow: 0px 1px 2px rgba(60, 64, 67, 0.3), 0px 1px 3px 1px rgba(60, 64, 67, 0.15);\n",
       "      fill: #174EA6;\n",
       "    }\n",
       "\n",
       "    .colab-df-buttons div {\n",
       "      margin-bottom: 4px;\n",
       "    }\n",
       "\n",
       "    [theme=dark] .colab-df-convert {\n",
       "      background-color: #3B4455;\n",
       "      fill: #D2E3FC;\n",
       "    }\n",
       "\n",
       "    [theme=dark] .colab-df-convert:hover {\n",
       "      background-color: #434B5C;\n",
       "      box-shadow: 0px 1px 3px 1px rgba(0, 0, 0, 0.15);\n",
       "      filter: drop-shadow(0px 1px 2px rgba(0, 0, 0, 0.3));\n",
       "      fill: #FFFFFF;\n",
       "    }\n",
       "  </style>\n",
       "\n",
       "    <script>\n",
       "      const buttonEl =\n",
       "        document.querySelector('#df-f47c182d-063f-4ca1-a7b2-24898df24d0e button.colab-df-convert');\n",
       "      buttonEl.style.display =\n",
       "        google.colab.kernel.accessAllowed ? 'block' : 'none';\n",
       "\n",
       "      async function convertToInteractive(key) {\n",
       "        const element = document.querySelector('#df-f47c182d-063f-4ca1-a7b2-24898df24d0e');\n",
       "        const dataTable =\n",
       "          await google.colab.kernel.invokeFunction('convertToInteractive',\n",
       "                                                    [key], {});\n",
       "        if (!dataTable) return;\n",
       "\n",
       "        const docLinkHtml = 'Like what you see? Visit the ' +\n",
       "          '<a target=\"_blank\" href=https://colab.research.google.com/notebooks/data_table.ipynb>data table notebook</a>'\n",
       "          + ' to learn more about interactive tables.';\n",
       "        element.innerHTML = '';\n",
       "        dataTable['output_type'] = 'display_data';\n",
       "        await google.colab.output.renderOutput(dataTable, element);\n",
       "        const docLink = document.createElement('div');\n",
       "        docLink.innerHTML = docLinkHtml;\n",
       "        element.appendChild(docLink);\n",
       "      }\n",
       "    </script>\n",
       "  </div>\n",
       "\n",
       "\n",
       "<div id=\"df-db78713a-c9de-4636-8aca-7dc0ebe19260\">\n",
       "  <button class=\"colab-df-quickchart\" onclick=\"quickchart('df-db78713a-c9de-4636-8aca-7dc0ebe19260')\"\n",
       "            title=\"Suggest charts\"\n",
       "            style=\"display:none;\">\n",
       "\n",
       "<svg xmlns=\"http://www.w3.org/2000/svg\" height=\"24px\"viewBox=\"0 0 24 24\"\n",
       "     width=\"24px\">\n",
       "    <g>\n",
       "        <path d=\"M19 3H5c-1.1 0-2 .9-2 2v14c0 1.1.9 2 2 2h14c1.1 0 2-.9 2-2V5c0-1.1-.9-2-2-2zM9 17H7v-7h2v7zm4 0h-2V7h2v10zm4 0h-2v-4h2v4z\"/>\n",
       "    </g>\n",
       "</svg>\n",
       "  </button>\n",
       "\n",
       "<style>\n",
       "  .colab-df-quickchart {\n",
       "      --bg-color: #E8F0FE;\n",
       "      --fill-color: #1967D2;\n",
       "      --hover-bg-color: #E2EBFA;\n",
       "      --hover-fill-color: #174EA6;\n",
       "      --disabled-fill-color: #AAA;\n",
       "      --disabled-bg-color: #DDD;\n",
       "  }\n",
       "\n",
       "  [theme=dark] .colab-df-quickchart {\n",
       "      --bg-color: #3B4455;\n",
       "      --fill-color: #D2E3FC;\n",
       "      --hover-bg-color: #434B5C;\n",
       "      --hover-fill-color: #FFFFFF;\n",
       "      --disabled-bg-color: #3B4455;\n",
       "      --disabled-fill-color: #666;\n",
       "  }\n",
       "\n",
       "  .colab-df-quickchart {\n",
       "    background-color: var(--bg-color);\n",
       "    border: none;\n",
       "    border-radius: 50%;\n",
       "    cursor: pointer;\n",
       "    display: none;\n",
       "    fill: var(--fill-color);\n",
       "    height: 32px;\n",
       "    padding: 0;\n",
       "    width: 32px;\n",
       "  }\n",
       "\n",
       "  .colab-df-quickchart:hover {\n",
       "    background-color: var(--hover-bg-color);\n",
       "    box-shadow: 0 1px 2px rgba(60, 64, 67, 0.3), 0 1px 3px 1px rgba(60, 64, 67, 0.15);\n",
       "    fill: var(--button-hover-fill-color);\n",
       "  }\n",
       "\n",
       "  .colab-df-quickchart-complete:disabled,\n",
       "  .colab-df-quickchart-complete:disabled:hover {\n",
       "    background-color: var(--disabled-bg-color);\n",
       "    fill: var(--disabled-fill-color);\n",
       "    box-shadow: none;\n",
       "  }\n",
       "\n",
       "  .colab-df-spinner {\n",
       "    border: 2px solid var(--fill-color);\n",
       "    border-color: transparent;\n",
       "    border-bottom-color: var(--fill-color);\n",
       "    animation:\n",
       "      spin 1s steps(1) infinite;\n",
       "  }\n",
       "\n",
       "  @keyframes spin {\n",
       "    0% {\n",
       "      border-color: transparent;\n",
       "      border-bottom-color: var(--fill-color);\n",
       "      border-left-color: var(--fill-color);\n",
       "    }\n",
       "    20% {\n",
       "      border-color: transparent;\n",
       "      border-left-color: var(--fill-color);\n",
       "      border-top-color: var(--fill-color);\n",
       "    }\n",
       "    30% {\n",
       "      border-color: transparent;\n",
       "      border-left-color: var(--fill-color);\n",
       "      border-top-color: var(--fill-color);\n",
       "      border-right-color: var(--fill-color);\n",
       "    }\n",
       "    40% {\n",
       "      border-color: transparent;\n",
       "      border-right-color: var(--fill-color);\n",
       "      border-top-color: var(--fill-color);\n",
       "    }\n",
       "    60% {\n",
       "      border-color: transparent;\n",
       "      border-right-color: var(--fill-color);\n",
       "    }\n",
       "    80% {\n",
       "      border-color: transparent;\n",
       "      border-right-color: var(--fill-color);\n",
       "      border-bottom-color: var(--fill-color);\n",
       "    }\n",
       "    90% {\n",
       "      border-color: transparent;\n",
       "      border-bottom-color: var(--fill-color);\n",
       "    }\n",
       "  }\n",
       "</style>\n",
       "\n",
       "  <script>\n",
       "    async function quickchart(key) {\n",
       "      const quickchartButtonEl =\n",
       "        document.querySelector('#' + key + ' button');\n",
       "      quickchartButtonEl.disabled = true;  // To prevent multiple clicks.\n",
       "      quickchartButtonEl.classList.add('colab-df-spinner');\n",
       "      try {\n",
       "        const charts = await google.colab.kernel.invokeFunction(\n",
       "            'suggestCharts', [key], {});\n",
       "      } catch (error) {\n",
       "        console.error('Error during call to suggestCharts:', error);\n",
       "      }\n",
       "      quickchartButtonEl.classList.remove('colab-df-spinner');\n",
       "      quickchartButtonEl.classList.add('colab-df-quickchart-complete');\n",
       "    }\n",
       "    (() => {\n",
       "      let quickchartButtonEl =\n",
       "        document.querySelector('#df-db78713a-c9de-4636-8aca-7dc0ebe19260 button');\n",
       "      quickchartButtonEl.style.display =\n",
       "        google.colab.kernel.accessAllowed ? 'block' : 'none';\n",
       "    })();\n",
       "  </script>\n",
       "</div>\n",
       "\n",
       "  <div id=\"id_68d5b318-16c4-4a28-9086-80ab7a424532\">\n",
       "    <style>\n",
       "      .colab-df-generate {\n",
       "        background-color: #E8F0FE;\n",
       "        border: none;\n",
       "        border-radius: 50%;\n",
       "        cursor: pointer;\n",
       "        display: none;\n",
       "        fill: #1967D2;\n",
       "        height: 32px;\n",
       "        padding: 0 0 0 0;\n",
       "        width: 32px;\n",
       "      }\n",
       "\n",
       "      .colab-df-generate:hover {\n",
       "        background-color: #E2EBFA;\n",
       "        box-shadow: 0px 1px 2px rgba(60, 64, 67, 0.3), 0px 1px 3px 1px rgba(60, 64, 67, 0.15);\n",
       "        fill: #174EA6;\n",
       "      }\n",
       "\n",
       "      [theme=dark] .colab-df-generate {\n",
       "        background-color: #3B4455;\n",
       "        fill: #D2E3FC;\n",
       "      }\n",
       "\n",
       "      [theme=dark] .colab-df-generate:hover {\n",
       "        background-color: #434B5C;\n",
       "        box-shadow: 0px 1px 3px 1px rgba(0, 0, 0, 0.15);\n",
       "        filter: drop-shadow(0px 1px 2px rgba(0, 0, 0, 0.3));\n",
       "        fill: #FFFFFF;\n",
       "      }\n",
       "    </style>\n",
       "    <button class=\"colab-df-generate\" onclick=\"generateWithVariable('predictions')\"\n",
       "            title=\"Generate code using this dataframe.\"\n",
       "            style=\"display:none;\">\n",
       "\n",
       "  <svg xmlns=\"http://www.w3.org/2000/svg\" height=\"24px\"viewBox=\"0 0 24 24\"\n",
       "       width=\"24px\">\n",
       "    <path d=\"M7,19H8.4L18.45,9,17,7.55,7,17.6ZM5,21V16.75L18.45,3.32a2,2,0,0,1,2.83,0l1.4,1.43a1.91,1.91,0,0,1,.58,1.4,1.91,1.91,0,0,1-.58,1.4L9.25,21ZM18.45,9,17,7.55Zm-12,3A5.31,5.31,0,0,0,4.9,8.1,5.31,5.31,0,0,0,1,6.5,5.31,5.31,0,0,0,4.9,4.9,5.31,5.31,0,0,0,6.5,1,5.31,5.31,0,0,0,8.1,4.9,5.31,5.31,0,0,0,12,6.5,5.46,5.46,0,0,0,6.5,12Z\"/>\n",
       "  </svg>\n",
       "    </button>\n",
       "    <script>\n",
       "      (() => {\n",
       "      const buttonEl =\n",
       "        document.querySelector('#id_68d5b318-16c4-4a28-9086-80ab7a424532 button.colab-df-generate');\n",
       "      buttonEl.style.display =\n",
       "        google.colab.kernel.accessAllowed ? 'block' : 'none';\n",
       "\n",
       "      buttonEl.onclick = () => {\n",
       "        google.colab.notebook.generateWithVariable('predictions');\n",
       "      }\n",
       "      })();\n",
       "    </script>\n",
       "  </div>\n",
       "\n",
       "    </div>\n",
       "  </div>\n"
      ],
      "text/plain": [
       "    hazard-category                                   product-category  \\\n",
       "0        biological                       meat, egg and dairy products   \n",
       "1        biological                       meat, egg and dairy products   \n",
       "2        biological                         prepared dishes and snacks   \n",
       "3         allergens                                  ices and desserts   \n",
       "4    foreign bodies                       meat, egg and dairy products   \n",
       "..              ...                                                ...   \n",
       "560       allergens                              fruits and vegetables   \n",
       "561       allergens  dietetic foods, food supplements, fortified foods   \n",
       "562  foreign bodies                        cereals and bakery products   \n",
       "563       allergens                        cereals and bakery products   \n",
       "564       allergens                                      confectionery   \n",
       "\n",
       "                           hazard                 product  \n",
       "0          listeria monocytogenes                  salami  \n",
       "1                escherichia coli                 sausage  \n",
       "2                   enteroviruses  chicken based products  \n",
       "3                       pecan nut               ice cream  \n",
       "4                  metal fragment  chicken based products  \n",
       "..                            ...                     ...  \n",
       "560                        cashew                  salads  \n",
       "561     milk and products thereof                   cakes  \n",
       "562              plastic fragment                 cookies  \n",
       "563  peanuts and products thereof                    milk  \n",
       "564                        almond                   cakes  \n",
       "\n",
       "[565 rows x 4 columns]"
      ]
     },
     "execution_count": 14,
     "metadata": {},
     "output_type": "execute_result"
    }
   ],
   "source": [
    "predictions"
   ]
  },
  {
   "cell_type": "markdown",
   "metadata": {
    "id": "z5p7qVnA0Gc4"
   },
   "source": [
    "# Create the submission folder and archive the results\n",
    "Finally, predictions and models are saved into a submission directory for easy sharing or evaluation.\n"
   ]
  },
  {
   "cell_type": "code",
   "execution_count": null,
   "metadata": {
    "colab": {
     "base_uri": "https://localhost:8080/"
    },
    "executionInfo": {
     "elapsed": 333,
     "status": "ok",
     "timestamp": 1732706956369,
     "user": {
      "displayName": "Stelios Giagkos",
      "userId": "06441279652746263838"
     },
     "user_tz": -120
    },
    "id": "REr-ySES0FHE",
    "outputId": "1d6bda52-5492-4798-a750-3ebdf058b35f"
   },
   "outputs": [
    {
     "name": "stdout",
     "output_type": "stream",
     "text": [
      "Submission saved to Google Drive at /content/drive/MyDrive/submission_finetunedPUBMEDBERTv4/\n"
     ]
    }
   ],
   "source": [
    "import os\n",
    "from shutil import make_archive\n",
    "import pandas as pd\n",
    "from google.colab import drive\n",
    "\n",
    "# Define the Google Drive path where you want to save the files\n",
    "output_folder = '/content/drive/MyDrive/submission_finetunedPUBMEDBERT v4/'\n",
    "\n",
    "# Create the folder in Google Drive if it doesn't exist\n",
    "os.makedirs(output_folder, exist_ok=True)\n",
    "\n",
    "# Save predictions to a CSV file named 'submission.csv' inside the folder\n",
    "predictions.to_csv(f'{output_folder}submission.csv', index=False)\n",
    "\n",
    "# Zip the folder for submission\n",
    "make_archive(output_folder, 'zip', output_folder)\n",
    "\n",
    "# Print confirmation message\n",
    "print(f\"Submission saved to Google Drive at {output_folder}\")\n"
   ]
  }
 ],
 "metadata": {
  "accelerator": "GPU",
  "colab": {
   "gpuType": "A100",
   "provenance": []
  },
  "kernelspec": {
   "display_name": "Python 3",
   "name": "python3"
  },
  "language_info": {
   "name": "python"
  }
 },
 "nbformat": 4,
 "nbformat_minor": 0
}
