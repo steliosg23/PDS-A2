{
 "cells": [
  {
   "cell_type": "markdown",
   "metadata": {
    "colab_type": "text",
    "id": "view-in-github"
   },
   "source": [
    "<a href=\"https://colab.research.google.com/github/steliosg23/PDS-A2/blob/main/Finetuned%20PubMedBERT%20BENCHMARKS%20PDS%20A2%20FHD%20.ipynb\" target=\"_parent\"><img src=\"https://colab.research.google.com/assets/colab-badge.svg\" alt=\"Open In Colab\"/></a>"
   ]
  },
  {
   "cell_type": "markdown",
   "metadata": {
    "id": "wpqOuXHKPREa"
   },
   "source": [
    "#Assignement 2\n",
    "## Food Hazard Detection"
   ]
  },
  {
   "cell_type": "markdown",
   "metadata": {
    "id": "tG2far4MTvkS"
   },
   "source": [
    "# Benchmarks - Advanced Model: PubMedBERT\n",
    "\n",
    "**PubMedBERT** is a **pretrained language model** based on BERT, specifically fine-tuned on **biomedical text** such as PubMed abstracts. This model is designed to capture the complexities of biomedical language, including specialized terminology and health-related concepts.\n",
    "\n",
    "### Benefits of Using Pretrained PubMedBERT for Food Hazard Detection:\n",
    "- **Domain Expertise**: Being pretrained on biomedical literature, PubMedBERT already understands key terms related to **food safety**, such as **toxins**, **bacteria**, and **allergens**, which makes it highly effective for detecting and classifying food hazards.\n",
    "  \n",
    "- **Faster and More Efficient**: Using a pretrained model significantly reduces training time compared to building a model from scratch. It has already learned general language patterns, so fine-tuning it on food hazard data requires less data and computational power while still achieving strong performance.\n",
    "\n",
    "- **Task-Specific Fine-Tuning**: By fine-tuning PubMedBERT on tasks like **hazard-category**, **product-category**, **hazard**, and **product** classification, it adapts to the specific requirements of food hazard detection. This enables accurate classification of food safety incidents and associated risks.\n",
    "\n",
    "### Task-Specific Fine-Tuning of PubMedBERT\n",
    "\n",
    "Fine-tuning PubMedBERT for food hazard detection involves adapting its pre-trained biomedical knowledge to specific classification tasks:\n",
    "- **Hazard-Category Classification**: Classifies types of hazards (e.g., microbiological, chemical).\n",
    "- **Product-Category Classification**: Identifies food product types (e.g., dairy, meat).\n",
    "- **Hazard Identification**: Detects specific hazards (e.g., Salmonella, pesticide).\n",
    "- **Product Identification**: Pinpoints exact products (e.g., milk, spinach).\n",
    "\n",
    "**Process**:\n",
    "1. Add task-specific classification heads.\n",
    "2. Fine-tune on labeled food hazard data using loss functions like cross-entropy.\n",
    "3. Optimize representations for accurate domain-specific predictions.\n",
    "\n",
    "**Benefits**:\n",
    "- Adapts to food safety terminology.\n",
    "- Improves classification accuracy.\n",
    "- Handles diverse food hazard scenarios effectively.\n",
    "\n",
    "### Technical Overview of Fine-Tuning PubMedBERT\n",
    "\n",
    "**Fine-tuning** adapts a pre-trained model (PubMedBERT) to a specific task by updating its weights on task-specific labeled data.\n",
    "\n",
    "#### 1. **Model Initialization**\n",
    "   - Load PubMedBERT pre-trained on biomedical text.\n",
    "   - Add a task-specific classification head (e.g., fully connected layer with softmax for multi-class classification or sigmoid for multi-label classification).\n",
    "\n",
    "#### 2. **Architecture**\n",
    "   - **Transformer Encoder**: Retains pre-trained layers for contextual embeddings.\n",
    "   - **Classification Head**: Maps embeddings to task-specific labels.\n",
    "\n",
    "#### 3. **Fine-Tuning Process**\n",
    "   - Input: Tokenized text processed with PubMedBERT's tokenizer.\n",
    "   - Forward Pass: Compute predictions using the model.\n",
    "   - Loss Calculation: \n",
    "     - **Cross-Entropy Loss** for multi-class tasks.\n",
    "     - **Binary Cross-Entropy Loss** for multi-label tasks.\n",
    "   - Backpropagation:\n",
    "     - Gradients are computed and propagated back through the network.\n",
    "     - Both pre-trained and classification head weights are updated.\n",
    "   - Optimization: Use optimizers like **Adam** with learning rate schedulers for efficient weight updates.\n",
    "\n",
    "#### 4. **Output**\n",
    "   - Fine-tuned model specialized for food hazard detection tasks.S\n",
    "   - Outputs include class labels for hazard/ product categories and hazard/product classes.\n",
    "\n",
    "### Use in Food Hazard Detection:\n",
    "1. **Hazard-category**: Classifies the **type of hazard** (e.g., biological, chemical).\n",
    "2. **Product-category**: Identifies the **type of product** (e.g., meat, dairy) linked to a hazard.\n",
    "3. **Hazard**: Detects **specific foodborne hazards** such as bacteria or contamination.\n",
    "4. **Product**: Classifies the **specific product** involved in the food safety incident.\n",
    "\n",
    "The **pretrained** nature of PubMedBERT allows for more efficient adaptation to the food hazard domain, enabling faster, more accurate identification of food safety risks.\n"
   ]
  },
  {
   "cell_type": "markdown",
   "metadata": {
    "id": "VS3IfUfUPUYy"
   },
   "source": [
    "\n",
    "#Method\n",
    "In this task, we aim to classify food safety-related incidents based on two distinct types of input data: short texts (title) and long texts (text).\n",
    "\n",
    "Using Advanced Model: PubMedBERT  \n",
    "\n",
    "\n",
    "For each of these input types, we perform the following two subtasks:\n",
    "\n",
    "**Subtasks (Performed Separately for  title and text):**\n",
    "\n",
    "**Subtask 1:**\n",
    "\n",
    "- Classify hazard-category (general hazard type).\n",
    "\n",
    "- Classify product-category (general product type).\n",
    "\n",
    "**Subtask 2:**\n",
    "\n",
    "- Classify hazard (specific hazard).\n",
    "- Classify product (specific product).\n",
    "\n",
    "We use all features (year, month, day, country, and the text feature) as input.\n",
    "\n",
    "Thus, we treat title and text as two distinct data sources, with each undergoing its own preprocessing, model training, and evaluation for all four targets."
   ]
  },
  {
   "cell_type": "markdown",
   "metadata": {
    "id": "bYTL5Xs0PL1V"
   },
   "source": [
    "# Mount Google Drive and Load Dataset\n",
    "\n",
    "\n"
   ]
  },
  {
   "cell_type": "code",
   "execution_count": null,
   "metadata": {
    "colab": {
     "base_uri": "https://localhost:8080/"
    },
    "id": "pAjqx37bPD7o",
    "outputId": "695eaffd-eddf-403b-e52f-cf573ddbd9d7"
   },
   "outputs": [
    {
     "name": "stdout",
     "output_type": "stream",
     "text": [
      "Mounted at /content/drive\n"
     ]
    }
   ],
   "source": [
    "from google.colab import drive\n",
    "import pandas as pd\n",
    "\n",
    "# Mount Google Drive\n",
    "drive.mount('/content/drive')\n",
    "\n",
    "# Define the path to the file on Google Drive\n",
    "train_path = '/content/drive/MyDrive/Data/incidents_train.csv'\n",
    "\n",
    "# Load the dataset\n",
    "df = pd.read_csv(train_path)\n",
    "df = df.drop(columns=['Unnamed: 0'])"
   ]
  },
  {
   "cell_type": "markdown",
   "metadata": {
    "id": "97WMs5Q0ODJj"
   },
   "source": [
    "# Import Required Libraries\n",
    "\n",
    "\n"
   ]
  },
  {
   "cell_type": "code",
   "execution_count": null,
   "metadata": {
    "id": "_tnUGj2aOD40"
   },
   "outputs": [],
   "source": [
    "import pandas as pd\n",
    "import re\n",
    "from sklearn.model_selection import train_test_split\n",
    "from sklearn.metrics import f1_score, classification_report\n",
    "import torch\n",
    "from transformers import AutoTokenizer, AutoModelForSequenceClassification\n",
    "from torch.utils.data import DataLoader, Dataset\n",
    "import torch.nn as nn\n",
    "import torch.optim as optim\n",
    "from sklearn.preprocessing import LabelEncoder\n",
    "from tqdm import tqdm  # Import tqdm for progress bars\n",
    "import matplotlib.pyplot as plt  # Import matplotlib for plotting\n"
   ]
  },
  {
   "cell_type": "markdown",
   "metadata": {
    "id": "-pmVvEpBOHkz"
   },
   "source": [
    "# Configure Hyperparameters\n",
    "\n",
    "This cell sets up the hyperparameters for model training, including:\n",
    "- `max_len`: The maximum length of the input sequences.\n",
    "- `batch_size`: The number of samples per batch.\n",
    "- `learning_rate`: The learning rate for the optimizer.\n",
    "- `epochs`: The number of training epochs.\n",
    "- `model_name`: The pre-trained model (PubMedBERT in this case) to use for fine-tuning.\n"
   ]
  },
  {
   "cell_type": "code",
   "execution_count": null,
   "metadata": {
    "id": "mRqpDhY5OF0r"
   },
   "outputs": [],
   "source": [
    "# Hyperparameters configuration\n",
    "config = {\n",
    "    'max_len': 256,\n",
    "    'batch_size': 16,\n",
    "    'learning_rate': 2e-5,\n",
    "    'epochs': 5,\n",
    "    'model_name': \"microsoft/BiomedNLP-PubMedBERT-base-uncased-abstract\"\n",
    "}\n"
   ]
  },
  {
   "cell_type": "markdown",
   "metadata": {
    "id": "XsuqdQcyOLFt"
   },
   "source": [
    "# Set Device for Training\n",
    "\n",
    "This cell checks whether a GPU is available and sets the device for training (either `cuda` for GPU or `cpu` for CPU).\n",
    "It prints the device being used for training.\n"
   ]
  },
  {
   "cell_type": "code",
   "execution_count": null,
   "metadata": {
    "colab": {
     "base_uri": "https://localhost:8080/"
    },
    "id": "qzgpGLbkOKCp",
    "outputId": "d160b0f8-c93c-4708-fd71-e5bc4e96ff25"
   },
   "outputs": [
    {
     "name": "stdout",
     "output_type": "stream",
     "text": [
      "Using device: cuda\n"
     ]
    }
   ],
   "source": [
    "# Set device for training\n",
    "device = torch.device('cuda' if torch.cuda.is_available() else 'cpu')\n",
    "print(f\"Using device: {device}\")\n"
   ]
  },
  {
   "cell_type": "markdown",
   "metadata": {
    "id": "f-A4hSxYOOdo"
   },
   "source": [
    "# Define Custom Dataset Class\n",
    "\n",
    "Here we define a custom PyTorch `Dataset` class to handle the text data. This class takes in the input texts, labels, tokenizer, and maximum sequence length, and implements methods to return tokenized inputs and labels in a batch.\n",
    "- The `__len__` method returns the number of samples in the dataset.\n",
    "- The `__getitem__` method returns tokenized input data (input ids and attention mask) and the corresponding label for a given index.\n"
   ]
  },
  {
   "cell_type": "code",
   "execution_count": null,
   "metadata": {
    "id": "WbqvZzJgOMmA"
   },
   "outputs": [],
   "source": [
    "# Custom Dataset for Text Data\n",
    "class TextDataset(Dataset):\n",
    "    def __init__(self, texts, labels, tokenizer, max_len):\n",
    "        self.texts = texts\n",
    "        self.labels = labels\n",
    "        self.tokenizer = tokenizer\n",
    "        self.max_len = max_len\n",
    "\n",
    "    def __len__(self):\n",
    "        return len(self.texts)\n",
    "\n",
    "    def __getitem__(self, item):\n",
    "        text = str(self.texts[item])\n",
    "        label = self.labels[item]\n",
    "        encoding = self.tokenizer.encode_plus(\n",
    "            text,\n",
    "            add_special_tokens=True,\n",
    "            max_length=self.max_len,\n",
    "            padding='max_length',\n",
    "            truncation=True,\n",
    "            return_tensors='pt'\n",
    "        )\n",
    "        return {\n",
    "            'input_ids': encoding['input_ids'].flatten(),\n",
    "            'attention_mask': encoding['attention_mask'].flatten(),\n",
    "            'label': torch.tensor(label, dtype=torch.long)\n",
    "        }\n"
   ]
  },
  {
   "cell_type": "markdown",
   "metadata": {
    "id": "CcQI95wcOT3C"
   },
   "source": [
    "# Text Preprocessing - Cleaning Function\n",
    "\n",
    "This function cleans the text by removing any non-alphanumeric characters (e.g., punctuation) and converts the text to lowercase.\n",
    "This helps standardize the text for further processing, such as tokenization and model input.\n"
   ]
  },
  {
   "cell_type": "code",
   "execution_count": null,
   "metadata": {
    "id": "KlHfuLKlOQmI"
   },
   "outputs": [],
   "source": [
    "# Function to clean text (title or text) and remove stopwords\n",
    "def clean_text(text):\n",
    "    text = re.sub(r'[^a-zA-Z0-9\\s]', '', text)\n",
    "    text = text.lower()\n",
    "    text = ' '.join(text.split())\n",
    "    return text\n"
   ]
  },
  {
   "cell_type": "markdown",
   "metadata": {
    "id": "2lX3m9kDOXB7"
   },
   "source": [
    "# Preprocessing the Text Data\n",
    "\n",
    "In this step, we apply the `clean_text` function to the `title` and `text` columns of the DataFrame to clean and preprocess the text data. This ensures that all the text data used for model input is in a consistent format.\n"
   ]
  },
  {
   "cell_type": "code",
   "execution_count": null,
   "metadata": {
    "colab": {
     "base_uri": "https://localhost:8080/",
     "height": 237,
     "referenced_widgets": [
      "1224b66105174e9b8d1d05ce0cdb23c2",
      "d0ce4c764d154260bc63f239ab6c293e",
      "02fca453a235406da964d27124ea642e",
      "7dd1fd405da7459b95470ce4024d3451",
      "8611e3be7c024417b9c606f8a34391cd",
      "1f7a8bd933ac40609f519ecd223b1bd1",
      "2556594bdd154d61b8face01917e1fdc",
      "c0adca4d46be49d38c143e2082d38044",
      "90ae90e1174f4f75b7782256acfcdba3",
      "b1ca0360ce104497a616c9e589bbdaf1",
      "b852aecacdee4413a18d0cfea6650d99",
      "61cc7825fa684035b1417878efa33102",
      "ecfaca1039394fbf9e1329f02bea99ce",
      "990e71f2947643e590729942b947c3d6",
      "f213f7883107475da17fe1caf77e9b3d",
      "0ef17d67624d47aaa11267e25e9d74cf",
      "1706991083394bbcaeae77e16392eaf4",
      "61c990cc1fbe45a9afd45ee9d6c4d4ff",
      "84af3868dd5f4d0ebb12cb9edf1f8628",
      "2b758b7bb6ab47418df6960fae9be25c",
      "5173a40f0ed6431794107090316afb7f",
      "d22aca2ade3a44119ba92c0970d7b861",
      "96e31337e8364e8ebec9eecfd6fc04c4",
      "fce812cf6b7b4f46999475bb64692f4b",
      "568457e6682440069237f3890865b982",
      "6691b9872cf6417dbc0c75116725825e",
      "5cd515344e5e48f882edbfd29f9b8994",
      "e9c8627bc1894de5a1685421e0280101",
      "736af8b6ae5e48c7abc919ccdb90b713",
      "eec51bfc0f4b46219522a308fb878dce",
      "6ff91497f5ca4f568196894c5d535faf",
      "0d448277537d42a09da9030fcd5bef68",
      "cd877d1b0aa845e784f7a271541c1c84"
     ]
    },
    "id": "J5f2YpcNOVs5",
    "outputId": "1fd56b8b-dfaf-4c3a-8252-3c7bd4afc70a"
   },
   "outputs": [
    {
     "name": "stderr",
     "output_type": "stream",
     "text": [
      "/usr/local/lib/python3.10/dist-packages/huggingface_hub/utils/_auth.py:94: UserWarning: \n",
      "The secret `HF_TOKEN` does not exist in your Colab secrets.\n",
      "To authenticate with the Hugging Face Hub, create a token in your settings tab (https://huggingface.co/settings/tokens), set it as secret in your Google Colab and restart your session.\n",
      "You will be able to reuse this secret in all of your notebooks.\n",
      "Please note that authentication is recommended but still optional to access public models or datasets.\n",
      "  warnings.warn(\n"
     ]
    },
    {
     "data": {
      "application/vnd.jupyter.widget-view+json": {
       "model_id": "1224b66105174e9b8d1d05ce0cdb23c2",
       "version_major": 2,
       "version_minor": 0
      },
      "text/plain": [
       "tokenizer_config.json:   0%|          | 0.00/28.0 [00:00<?, ?B/s]"
      ]
     },
     "metadata": {},
     "output_type": "display_data"
    },
    {
     "data": {
      "application/vnd.jupyter.widget-view+json": {
       "model_id": "61cc7825fa684035b1417878efa33102",
       "version_major": 2,
       "version_minor": 0
      },
      "text/plain": [
       "config.json:   0%|          | 0.00/385 [00:00<?, ?B/s]"
      ]
     },
     "metadata": {},
     "output_type": "display_data"
    },
    {
     "data": {
      "application/vnd.jupyter.widget-view+json": {
       "model_id": "96e31337e8364e8ebec9eecfd6fc04c4",
       "version_major": 2,
       "version_minor": 0
      },
      "text/plain": [
       "vocab.txt:   0%|          | 0.00/225k [00:00<?, ?B/s]"
      ]
     },
     "metadata": {},
     "output_type": "display_data"
    }
   ],
   "source": [
    "# Load tokenizer for Microsoft PubMedBERT model\n",
    "tokenizer = AutoTokenizer.from_pretrained(config['model_name'])\n",
    "\n",
    "# Assuming df is your DataFrame\n",
    "df['title'] = df['title'].apply(clean_text)\n",
    "df['text'] = df['text'].apply(clean_text)\n"
   ]
  },
  {
   "cell_type": "markdown",
   "metadata": {
    "id": "0Am4pzJqOdSV"
   },
   "source": [
    "# Defining Features and Targets\n",
    "\n",
    "In this cell, we define the features (columns) used for input to the model, which include `year`, `month`, `day`, and `country`. We also define the target variables for both subtasks, such as `hazard-category`, `product-category`, `hazard`, and `product`. These will be the labels we aim to predict.\n"
   ]
  },
  {
   "cell_type": "code",
   "execution_count": null,
   "metadata": {
    "id": "xe4fnbojOY-v"
   },
   "outputs": [],
   "source": [
    "# Define relevant features and targets\n",
    "features = ['year', 'month', 'day', 'country']\n",
    "targets_subtask1 = ['hazard-category','product-category']\n",
    "targets_subtask2 = ['hazard','product']\n"
   ]
  },
  {
   "cell_type": "markdown",
   "metadata": {
    "id": "ydZ2LF0MOgBU"
   },
   "source": [
    "# Label Encoding for Targets\n",
    "\n",
    "Here, we encode the categorical target labels into numeric values using `LabelEncoder` from `sklearn`. This step is necessary for training the model, as models require numeric labels for classification tasks.\n",
    "For each target, a new `LabelEncoder` is created, and the target column is transformed into numeric labels.\n"
   ]
  },
  {
   "cell_type": "code",
   "execution_count": null,
   "metadata": {
    "id": "b7B8EhUdOer2"
   },
   "outputs": [],
   "source": [
    "# Encode target labels to numeric values\n",
    "label_encoders = {}\n",
    "for target in targets_subtask1 + targets_subtask2:\n",
    "    le = LabelEncoder()\n",
    "    df[target] = le.fit_transform(df[target])\n",
    "    label_encoders[target] = le\n"
   ]
  },
  {
   "cell_type": "markdown",
   "metadata": {
    "id": "WzBXkKWrOjiP"
   },
   "source": [
    "# Data Preparation for Training and Testing\n",
    "\n",
    "This function splits the data into training and testing sets for each target variable. It also ensures that the features and corresponding targets are aligned and reset the indices for consistency. The function returns a dictionary containing the splits for each target.\n"
   ]
  },
  {
   "cell_type": "code",
   "execution_count": null,
   "metadata": {
    "id": "8a9dTrQ9Oh7Q"
   },
   "outputs": [],
   "source": [
    "# Prepare data for both title and text\n",
    "def prepare_data(text_column):\n",
    "    X = df[features + [text_column]]\n",
    "    y_subtask1 = df[targets_subtask1]\n",
    "    y_subtask2 = df[targets_subtask2]\n",
    "\n",
    "    data_splits = {}\n",
    "    for target in targets_subtask1 + targets_subtask2:\n",
    "        X_train, X_test, y_train, y_test = train_test_split(\n",
    "            X, df[target], test_size=0.2, random_state=42\n",
    "        )\n",
    "\n",
    "        # Reset indices to ensure matching\n",
    "        X_train = X_train.reset_index(drop=True)\n",
    "        y_train = y_train.reset_index(drop=True)\n",
    "        X_test = X_test.reset_index(drop=True)\n",
    "        y_test = y_test.reset_index(drop=True)\n",
    "\n",
    "        data_splits[target] = (X_train, X_test, y_train, y_test)\n",
    "\n",
    "    return data_splits\n"
   ]
  },
  {
   "cell_type": "markdown",
   "metadata": {
    "id": "uyR49XO_Op1Z"
   },
   "source": [
    "# Prepare Data for Title and Text Subtasks\n",
    "\n",
    "This step prepares separate data splits for the `title` and `text` columns. It uses the `prepare_data` function to generate data splits for both input types, which will be used to train and evaluate the models.\n"
   ]
  },
  {
   "cell_type": "code",
   "execution_count": null,
   "metadata": {
    "id": "Ffx_UagwOlb2"
   },
   "outputs": [],
   "source": [
    "# Prepare data for title and text\n",
    "title_splits = prepare_data('title')\n",
    "text_splits = prepare_data('text')\n"
   ]
  },
  {
   "cell_type": "markdown",
   "metadata": {
    "id": "2PhVjMyFOtDf"
   },
   "source": [
    "# Model Training and Evaluation\n",
    "\n",
    "- This function trains and evaluates the model for each target variable. It creates the DataLoader objects for the training and testing data, sets up the model, and runs the training loop. It also evaluates the model's performance by calculating the F1 score and printing the classification report.\n",
    "\n",
    "- The training loop updates the model's weights using backpropagation, and the evaluation phase computes the model's predictions and compares them with the true labels.\n",
    "\n"
   ]
  },
  {
   "cell_type": "code",
   "execution_count": null,
   "metadata": {
    "id": "RQYXs45FOoPz"
   },
   "outputs": [],
   "source": [
    "# Function to train and evaluate neural network models\n",
    "def train_and_evaluate_nn(data_splits, targets, model_type='title'):\n",
    "    f1_scores = []  # List to store F1 scores for each task\n",
    "\n",
    "    for target in targets:\n",
    "        print(f\"\\nStarting training for task: {target}\")  # Print task message\n",
    "\n",
    "        X_train, X_test, y_train, y_test = data_splits[target]\n",
    "\n",
    "        # Prepare text data using the tokenizer\n",
    "        if model_type == 'title':\n",
    "            texts_train = X_train['title'].values\n",
    "            texts_test = X_test['title'].values\n",
    "        else:\n",
    "            texts_train = X_train['text'].values\n",
    "            texts_test = X_test['text'].values\n",
    "\n",
    "        # Create DataLoader for training and testing\n",
    "        train_dataset = TextDataset(texts_train, y_train, tokenizer, config['max_len'])\n",
    "        test_dataset = TextDataset(texts_test, y_test, tokenizer, config['max_len'])\n",
    "\n",
    "        train_loader = DataLoader(train_dataset, batch_size=config['batch_size'], shuffle=True)\n",
    "        test_loader = DataLoader(test_dataset, batch_size=config['batch_size'], shuffle=False)\n",
    "\n",
    "        # Model setup\n",
    "        num_labels = len(label_encoders[target].classes_)  # Corrected here\n",
    "        model = AutoModelForSequenceClassification.from_pretrained(config['model_name'], num_labels=num_labels).to(device)\n",
    "\n",
    "        optimizer = optim.Adam(model.parameters(), lr=config['learning_rate'])\n",
    "        criterion = nn.CrossEntropyLoss()\n",
    "\n",
    "        # Training process\n",
    "        model.train()\n",
    "        for epoch in range(config['epochs']):\n",
    "            print(f\"Epoch {epoch+1}/{config['epochs']} - Training: {target}\")\n",
    "            progress_bar = tqdm(train_loader, desc=f\"Training Epoch {epoch+1}\", total=len(train_loader), leave=True)\n",
    "            for batch in progress_bar:\n",
    "                optimizer.zero_grad()\n",
    "                input_ids = batch['input_ids'].squeeze(1).to(device)\n",
    "                attention_mask = batch['attention_mask'].squeeze(1).to(device)\n",
    "                labels = batch['label'].to(device)\n",
    "\n",
    "                outputs = model(input_ids, attention_mask=attention_mask)\n",
    "                loss = criterion(outputs.logits, labels)\n",
    "                loss.backward()\n",
    "                optimizer.step()\n",
    "                progress_bar.set_postfix(loss=loss.item())\n",
    "\n",
    "        # Evaluation process\n",
    "        print(f\"Evaluating model for task: {target}\")\n",
    "        model.eval()\n",
    "        y_preds = []\n",
    "        y_true = []\n",
    "        with torch.no_grad():\n",
    "            for batch in tqdm(test_loader, desc=\"Evaluating\", total=len(test_loader), leave=True):\n",
    "                input_ids = batch['input_ids'].squeeze(1).to(device)\n",
    "                attention_mask = batch['attention_mask'].squeeze(1).to(device)\n",
    "                labels = batch['label'].to(device)\n",
    "                outputs = model(input_ids, attention_mask=attention_mask)\n",
    "                _, preds = torch.max(outputs.logits, dim=1)\n",
    "                y_preds.extend(preds.cpu().numpy())\n",
    "                y_true.extend(labels.cpu().numpy())\n",
    "\n",
    "        # Decode labels back to original categories using the label encoder\n",
    "        decoded_preds = label_encoders[target].inverse_transform(y_preds)\n",
    "        decoded_true = label_encoders[target].inverse_transform(y_true)\n",
    "\n",
    "        # Calculate F1 score for the task\n",
    "        f1 = f1_score(decoded_true, decoded_preds, average='weighted')\n",
    "        f1_scores.append(f1)\n",
    "        print(f\"F1-Score for {target}: {f1}\")\n",
    "\n",
    "        # Print classification report\n",
    "        print(f\"Classification Report for {target}:\\n\")\n",
    "        print(classification_report(decoded_true, decoded_preds,zero_division=0))\n",
    "\n",
    "    return f1_scores  # Return the list of F1 scores for plotting\n"
   ]
  },
  {
   "cell_type": "markdown",
   "metadata": {
    "id": "PUj0YrQTO0RT"
   },
   "source": [
    "# Train and Evaluate for Title and Text Subtasks\n",
    "\n",
    "This step trains and evaluates the model separately for the `title` and `text` features. It calls the `train_and_evaluate_nn` function for both types of input (title and text) and stores the F1 scores for comparison.\n"
   ]
  },
  {
   "cell_type": "code",
   "execution_count": null,
   "metadata": {
    "colab": {
     "base_uri": "https://localhost:8080/",
     "height": 1000,
     "referenced_widgets": [
      "d1627a59e5664e23be227c55f8486d0c",
      "c9afeba2b4f5406e9243eb98132f1600",
      "86bb3dbd85ff428ba8cfd2d164b9614c",
      "925c6a0535934b4eba855bd97d006861",
      "9a7532f6bbd84d42934e6b4cae7ad16f",
      "7e25a48cdb1d4cc19caf48c43fd2ca1d",
      "e62984ffe2c24ca8be6b79507265de26",
      "09edd70016cc46b7bfce31da7987da6f",
      "a39c96d6c0544cee8fa845ab1904bcc7",
      "519965a98db247e98b4d8af0dd785855",
      "3631b77c77a54d1eaf0806649549e3e5"
     ]
    },
    "id": "OsSoAzzgOyct",
    "outputId": "06ae69c4-43bf-4c8e-bf05-3a60d0f84897"
   },
   "outputs": [
    {
     "name": "stdout",
     "output_type": "stream",
     "text": [
      "\n",
      "Training and Evaluating for Title Tasks:\n",
      "\n",
      "Starting training for task: hazard-category\n"
     ]
    },
    {
     "data": {
      "application/vnd.jupyter.widget-view+json": {
       "model_id": "d1627a59e5664e23be227c55f8486d0c",
       "version_major": 2,
       "version_minor": 0
      },
      "text/plain": [
       "pytorch_model.bin:   0%|          | 0.00/440M [00:00<?, ?B/s]"
      ]
     },
     "metadata": {},
     "output_type": "display_data"
    },
    {
     "name": "stderr",
     "output_type": "stream",
     "text": [
      "Some weights of BertForSequenceClassification were not initialized from the model checkpoint at microsoft/BiomedNLP-PubMedBERT-base-uncased-abstract and are newly initialized: ['classifier.bias', 'classifier.weight']\n",
      "You should probably TRAIN this model on a down-stream task to be able to use it for predictions and inference.\n"
     ]
    },
    {
     "name": "stdout",
     "output_type": "stream",
     "text": [
      "Epoch 1/5 - Training: hazard-category\n"
     ]
    },
    {
     "name": "stderr",
     "output_type": "stream",
     "text": [
      "Training Epoch 1: 100%|██████████| 255/255 [00:42<00:00,  6.04it/s, loss=0.0476]\n"
     ]
    },
    {
     "name": "stdout",
     "output_type": "stream",
     "text": [
      "Epoch 2/5 - Training: hazard-category\n"
     ]
    },
    {
     "name": "stderr",
     "output_type": "stream",
     "text": [
      "Training Epoch 2: 100%|██████████| 255/255 [00:40<00:00,  6.28it/s, loss=0.195]\n"
     ]
    },
    {
     "name": "stdout",
     "output_type": "stream",
     "text": [
      "Epoch 3/5 - Training: hazard-category\n"
     ]
    },
    {
     "name": "stderr",
     "output_type": "stream",
     "text": [
      "Training Epoch 3: 100%|██████████| 255/255 [00:40<00:00,  6.29it/s, loss=0.0166]\n"
     ]
    },
    {
     "name": "stdout",
     "output_type": "stream",
     "text": [
      "Epoch 4/5 - Training: hazard-category\n"
     ]
    },
    {
     "name": "stderr",
     "output_type": "stream",
     "text": [
      "Training Epoch 4: 100%|██████████| 255/255 [00:40<00:00,  6.31it/s, loss=0.00826]\n"
     ]
    },
    {
     "name": "stdout",
     "output_type": "stream",
     "text": [
      "Epoch 5/5 - Training: hazard-category\n"
     ]
    },
    {
     "name": "stderr",
     "output_type": "stream",
     "text": [
      "Training Epoch 5: 100%|██████████| 255/255 [00:40<00:00,  6.31it/s, loss=0.00967]\n"
     ]
    },
    {
     "name": "stdout",
     "output_type": "stream",
     "text": [
      "Evaluating model for task: hazard-category\n"
     ]
    },
    {
     "name": "stderr",
     "output_type": "stream",
     "text": [
      "Evaluating: 100%|██████████| 64/64 [00:03<00:00, 18.73it/s]\n"
     ]
    },
    {
     "name": "stdout",
     "output_type": "stream",
     "text": [
      "F1-Score for hazard-category: 0.8288061615398531\n",
      "Classification Report for hazard-category:\n",
      "\n",
      "                                precision    recall  f1-score   support\n",
      "\n",
      "                     allergens       0.84      0.93      0.88       377\n",
      "                    biological       0.88      0.91      0.90       339\n",
      "                      chemical       0.81      0.65      0.72        68\n",
      "food additives and flavourings       0.00      0.00      0.00         5\n",
      "                foreign bodies       0.81      0.74      0.77       111\n",
      "                         fraud       0.78      0.63      0.70        68\n",
      "                     migration       0.00      0.00      0.00         1\n",
      "          organoleptic aspects       0.44      0.40      0.42        10\n",
      "                  other hazard       0.58      0.56      0.57        27\n",
      "              packaging defect       0.43      0.27      0.33        11\n",
      "\n",
      "                      accuracy                           0.84      1017\n",
      "                     macro avg       0.56      0.51      0.53      1017\n",
      "                  weighted avg       0.83      0.84      0.83      1017\n",
      "\n",
      "\n",
      "Starting training for task: product-category\n"
     ]
    },
    {
     "name": "stderr",
     "output_type": "stream",
     "text": [
      "Some weights of BertForSequenceClassification were not initialized from the model checkpoint at microsoft/BiomedNLP-PubMedBERT-base-uncased-abstract and are newly initialized: ['classifier.bias', 'classifier.weight']\n",
      "You should probably TRAIN this model on a down-stream task to be able to use it for predictions and inference.\n"
     ]
    },
    {
     "name": "stdout",
     "output_type": "stream",
     "text": [
      "Epoch 1/5 - Training: product-category\n"
     ]
    },
    {
     "name": "stderr",
     "output_type": "stream",
     "text": [
      "Training Epoch 1: 100%|██████████| 255/255 [00:40<00:00,  6.31it/s, loss=1.79]\n"
     ]
    },
    {
     "name": "stdout",
     "output_type": "stream",
     "text": [
      "Epoch 2/5 - Training: product-category\n"
     ]
    },
    {
     "name": "stderr",
     "output_type": "stream",
     "text": [
      "Training Epoch 2: 100%|██████████| 255/255 [00:40<00:00,  6.31it/s, loss=1.33]\n"
     ]
    },
    {
     "name": "stdout",
     "output_type": "stream",
     "text": [
      "Epoch 3/5 - Training: product-category\n"
     ]
    },
    {
     "name": "stderr",
     "output_type": "stream",
     "text": [
      "Training Epoch 3: 100%|██████████| 255/255 [00:40<00:00,  6.30it/s, loss=0.548]\n"
     ]
    },
    {
     "name": "stdout",
     "output_type": "stream",
     "text": [
      "Epoch 4/5 - Training: product-category\n"
     ]
    },
    {
     "name": "stderr",
     "output_type": "stream",
     "text": [
      "Training Epoch 4: 100%|██████████| 255/255 [00:40<00:00,  6.30it/s, loss=4.55]\n"
     ]
    },
    {
     "name": "stdout",
     "output_type": "stream",
     "text": [
      "Epoch 5/5 - Training: product-category\n"
     ]
    },
    {
     "name": "stderr",
     "output_type": "stream",
     "text": [
      "Training Epoch 5: 100%|██████████| 255/255 [00:40<00:00,  6.31it/s, loss=0.539]\n"
     ]
    },
    {
     "name": "stdout",
     "output_type": "stream",
     "text": [
      "Evaluating model for task: product-category\n"
     ]
    },
    {
     "name": "stderr",
     "output_type": "stream",
     "text": [
      "Evaluating: 100%|██████████| 64/64 [00:03<00:00, 18.57it/s]\n"
     ]
    },
    {
     "name": "stdout",
     "output_type": "stream",
     "text": [
      "F1-Score for product-category: 0.7494399573273808\n",
      "Classification Report for product-category:\n",
      "\n",
      "                                                   precision    recall  f1-score   support\n",
      "\n",
      "                              alcoholic beverages       0.83      0.71      0.77         7\n",
      "                      cereals and bakery products       0.70      0.80      0.75       123\n",
      "     cocoa and cocoa preparations, coffee and tea       0.69      0.78      0.73        49\n",
      "                                    confectionery       0.42      0.55      0.47        40\n",
      "dietetic foods, food supplements, fortified foods       0.72      0.75      0.73        24\n",
      "                                    fats and oils       1.00      0.50      0.67         4\n",
      "                                   feed materials       0.00      0.00      0.00         3\n",
      "                           food contact materials       0.00      0.00      0.00         1\n",
      "                            fruits and vegetables       0.83      0.74      0.78       112\n",
      "                                 herbs and spices       0.57      0.75      0.65        16\n",
      "                            honey and royal jelly       0.00      0.00      0.00         1\n",
      "                                ices and desserts       0.86      0.86      0.86        56\n",
      "                     meat, egg and dairy products       0.91      0.84      0.87       282\n",
      "                          non-alcoholic beverages       0.89      0.77      0.83        31\n",
      "                     nuts, nut products and seeds       0.83      0.70      0.76        63\n",
      "                       other food product / mixed       0.33      0.11      0.17         9\n",
      "                                         pet feed       1.00      0.67      0.80         6\n",
      "                       prepared dishes and snacks       0.40      0.49      0.44        90\n",
      "                                          seafood       0.91      0.89      0.90        56\n",
      "             soups, broths, sauces and condiments       0.60      0.67      0.64        43\n",
      "                                sugars and syrups       0.00      0.00      0.00         1\n",
      "\n",
      "                                         accuracy                           0.75      1017\n",
      "                                        macro avg       0.60      0.55      0.56      1017\n",
      "                                     weighted avg       0.76      0.75      0.75      1017\n",
      "\n",
      "\n",
      "Starting training for task: hazard\n"
     ]
    },
    {
     "name": "stderr",
     "output_type": "stream",
     "text": [
      "Some weights of BertForSequenceClassification were not initialized from the model checkpoint at microsoft/BiomedNLP-PubMedBERT-base-uncased-abstract and are newly initialized: ['classifier.bias', 'classifier.weight']\n",
      "You should probably TRAIN this model on a down-stream task to be able to use it for predictions and inference.\n"
     ]
    },
    {
     "name": "stdout",
     "output_type": "stream",
     "text": [
      "Epoch 1/5 - Training: hazard\n"
     ]
    },
    {
     "name": "stderr",
     "output_type": "stream",
     "text": [
      "Training Epoch 1: 100%|██████████| 255/255 [00:40<00:00,  6.30it/s, loss=4.67]\n"
     ]
    },
    {
     "name": "stdout",
     "output_type": "stream",
     "text": [
      "Epoch 2/5 - Training: hazard\n"
     ]
    },
    {
     "name": "stderr",
     "output_type": "stream",
     "text": [
      "Training Epoch 2: 100%|██████████| 255/255 [00:40<00:00,  6.30it/s, loss=1.22]\n"
     ]
    },
    {
     "name": "stdout",
     "output_type": "stream",
     "text": [
      "Epoch 3/5 - Training: hazard\n"
     ]
    },
    {
     "name": "stderr",
     "output_type": "stream",
     "text": [
      "Training Epoch 3: 100%|██████████| 255/255 [00:40<00:00,  6.29it/s, loss=0.401]\n"
     ]
    },
    {
     "name": "stdout",
     "output_type": "stream",
     "text": [
      "Epoch 4/5 - Training: hazard\n"
     ]
    },
    {
     "name": "stderr",
     "output_type": "stream",
     "text": [
      "Training Epoch 4: 100%|██████████| 255/255 [00:40<00:00,  6.30it/s, loss=0.0824]\n"
     ]
    },
    {
     "name": "stdout",
     "output_type": "stream",
     "text": [
      "Epoch 5/5 - Training: hazard\n"
     ]
    },
    {
     "name": "stderr",
     "output_type": "stream",
     "text": [
      "Training Epoch 5: 100%|██████████| 255/255 [00:40<00:00,  6.29it/s, loss=0.0689]\n"
     ]
    },
    {
     "name": "stdout",
     "output_type": "stream",
     "text": [
      "Evaluating model for task: hazard\n"
     ]
    },
    {
     "name": "stderr",
     "output_type": "stream",
     "text": [
      "Evaluating: 100%|██████████| 64/64 [00:03<00:00, 18.68it/s]\n"
     ]
    },
    {
     "name": "stdout",
     "output_type": "stream",
     "text": [
      "F1-Score for hazard: 0.5899028144423755\n",
      "Classification Report for hazard:\n",
      "\n",
      "                                                   precision    recall  f1-score   support\n",
      "\n",
      "                                        Aflatoxin       1.00      0.50      0.67         4\n",
      "                                  alcohol content       0.00      0.00      0.00         1\n",
      "                                        alkaloids       0.00      0.00      0.00         2\n",
      "                                        allergens       0.00      0.00      0.00         4\n",
      "                                           almond       0.71      0.71      0.71        14\n",
      "             altered organoleptic characteristics       0.00      0.00      0.00         2\n",
      "                                        amygdalin       0.00      0.00      0.00         2\n",
      "                           antibiotics, vet drugs       0.00      0.00      0.00         1\n",
      "                                    bacillus spp.       0.00      0.00      0.00         1\n",
      "                             bad smell / off odor       0.00      0.00      0.00         1\n",
      "                                    bone fragment       0.00      0.00      0.00         1\n",
      "                                       brazil nut       0.00      0.00      0.00         1\n",
      "                                bulging packaging       0.00      0.00      0.00         4\n",
      "                                           cashew       1.00      0.38      0.55         8\n",
      "                      celery and products thereof       0.00      0.00      0.00         3\n",
      "                                          cereals       0.00      0.00      0.00         1\n",
      "   cereals containing gluten and products thereof       0.42      0.63      0.50        43\n",
      "                                         chemical       0.00      0.00      0.00         2\n",
      "                 chemical compound (high content)       0.00      0.00      0.00         3\n",
      "                 chemical compound (unauthorised)       1.00      0.67      0.80         3\n",
      "                            clostridium botulinum       0.40      0.50      0.44         4\n",
      "                                          coconut       0.00      0.00      0.00         1\n",
      "                                        coliforms       0.00      0.00      0.00         1\n",
      "                          compositional deviation       0.00      0.00      0.00         1\n",
      "                                  cronobacter spp       1.00      0.50      0.67         2\n",
      "                 crustaceans and products thereof       0.00      0.00      0.00         3\n",
      "                                       cyclospora       1.00      1.00      1.00         1\n",
      "                                   dairy products       0.00      0.00      0.00         1\n",
      "                                damaged packaging       0.00      0.00      0.00         0\n",
      "                                          dioxins       1.00      1.00      1.00         1\n",
      "                      e 425 - konjac unauthorised       0.00      0.00      0.00         2\n",
      "                        eggs and products thereof       0.81      0.60      0.68        42\n",
      "                                    enteroviruses       1.00      1.00      1.00         1\n",
      "                                 escherichia coli       0.69      0.77      0.73        47\n",
      "                        fish and products thereof       0.67      0.25      0.36         8\n",
      "                                   foreign bodies       0.00      0.00      0.00         3\n",
      "                                   glass fragment       0.75      0.43      0.55        21\n",
      "                                         hazelnut       1.00      0.67      0.80         3\n",
      "                                     heavy metals       0.60      0.43      0.50         7\n",
      "                           high content of copper       0.00      0.00      0.00         1\n",
      "                          high content of cyanide       0.25      1.00      0.40         1\n",
      "                         high content of vitamins       1.00      1.00      1.00         1\n",
      "                              improper conditions       1.00      0.33      0.50         3\n",
      "                               improper packaging       0.00      0.00      0.00         2\n",
      "                               incorrect labeling       0.33      0.50      0.40         4\n",
      "                           incorrect use by dates       1.00      0.86      0.92         7\n",
      "                                          insects       1.00      0.50      0.67         2\n",
      "                                inspection issues       0.84      1.00      0.91        16\n",
      "             insufficient labelling/documentation       0.00      0.00      0.00         1\n",
      "                         labelling/misdescription       0.00      0.00      0.00        10\n",
      "                           listeria monocytogenes       0.77      0.88      0.82       139\n",
      "                                     listeria spp       0.00      0.00      0.00         2\n",
      "                                   metal fragment       0.40      0.75      0.52        36\n",
      "                    microbiological contamination       0.00      0.00      0.00         2\n",
      "                        milk and products thereof       0.62      0.74      0.67       108\n",
      "                                      misbranding       0.00      0.00      0.00         1\n",
      "                                   misdescription       0.00      0.00      0.00         3\n",
      "                                      mislabelled       0.00      0.00      0.00         1\n",
      "                    molluscs and products thereof       0.00      0.00      0.00         1\n",
      "                                           moulds       1.00      1.00      1.00         2\n",
      "                     mustard and products thereof       0.78      0.78      0.78         9\n",
      "                                         nitrogen       1.00      1.00      1.00         1\n",
      "                        non compliance with HACCP       0.00      0.00      0.00         1\n",
      "                                        norovirus       0.80      0.80      0.80         5\n",
      "                                             nuts       0.50      0.17      0.25         6\n",
      "                                       ochratoxin       1.00      1.00      1.00         1\n",
      "                                   organochlorine       0.00      0.00      0.00         1\n",
      "                                            other       0.28      0.48      0.35        23\n",
      "                         other misbranding issues       0.00      0.00      0.00         1\n",
      "                             other not classified       0.50      0.20      0.29         5\n",
      "          other not classified biological hazards       0.00      0.00      0.00         2\n",
      "            other not classified chemical hazards       0.00      0.00      0.00         6\n",
      "  other not classified hazards for foreign bodies       0.00      0.00      0.00         2\n",
      "                                 packaging defect       0.00      0.00      0.00         5\n",
      "                                             pahs       0.00      0.00      0.00         0\n",
      "       paralytic shellfish poisoning (psp) toxins       0.00      0.00      0.00         1\n",
      "                              pathogenic bacteria       0.00      0.00      0.00         2\n",
      "                                          patulin       1.00      0.50      0.67         2\n",
      "                     peanuts and products thereof       0.46      0.60      0.52        45\n",
      "                                        pecan nut       1.00      0.67      0.80         6\n",
      "                                   pieces of wood       0.00      0.00      0.00         2\n",
      "                                    pistachio nut       0.00      0.00      0.00         3\n",
      "                                 plastic fragment       0.39      0.62      0.48        39\n",
      "                 polycyclic aromatic hydrocarbons       0.00      0.00      0.00         1\n",
      "                              poor hygienic state       0.00      0.00      0.00         1\n",
      "                    poor or insufficient controls       0.00      0.00      0.00         4\n",
      "                                       processing       0.80      0.67      0.73         6\n",
      "                 product category/characteristics       0.00      0.00      0.00         1\n",
      "                                 rubber fragments       0.00      0.00      0.00         4\n",
      "                                       salmonella       0.84      0.81      0.83       121\n",
      "                sesame seeds and products thereof       1.00      0.30      0.46        10\n",
      "                    soybeans and products thereof       0.43      0.65      0.52        34\n",
      "                    specified risk material (srm)       0.00      0.00      0.00         4\n",
      "                                         spoilage       0.29      0.50      0.36         4\n",
      "                                   staphylococcus       1.00      0.67      0.80         3\n",
      "                              sulphates/sulphites       0.00      0.00      0.00         3\n",
      "                                  sulphur dioxide       1.00      0.20      0.33         5\n",
      "                    sulphur dioxide and sulphites       0.60      0.67      0.63        18\n",
      "                                        tampering       0.00      0.00      0.00         2\n",
      "                                taste disturbance       0.00      0.00      0.00         3\n",
      "too high content of fluorinated organic chemicals       0.00      0.00      0.00         2\n",
      "   too high content of tetrahydrocannabinol (THC)       1.00      1.00      1.00         2\n",
      "                                            toxin       1.00      0.38      0.55         8\n",
      "                      unauthorised colour sudan 4       0.00      0.00      0.00         0\n",
      "                              unauthorised import       0.50      1.00      0.67         1\n",
      "               unauthorised placing on the market       0.00      0.00      0.00         1\n",
      "            unauthorised substance ethylene oxide       1.00      1.00      1.00         9\n",
      "                              undeclared additive       0.50      0.50      0.50         2\n",
      "                           undeclared constituent       0.00      0.00      0.00         1\n",
      "                                            virus       0.00      0.00      0.00         1\n",
      "                                           walnut       0.67      0.40      0.50         5\n",
      "\n",
      "                                         accuracy                           0.62      1017\n",
      "                                        macro avg       0.36      0.31      0.31      1017\n",
      "                                     weighted avg       0.60      0.62      0.59      1017\n",
      "\n",
      "\n",
      "Starting training for task: product\n"
     ]
    },
    {
     "name": "stderr",
     "output_type": "stream",
     "text": [
      "Some weights of BertForSequenceClassification were not initialized from the model checkpoint at microsoft/BiomedNLP-PubMedBERT-base-uncased-abstract and are newly initialized: ['classifier.bias', 'classifier.weight']\n",
      "You should probably TRAIN this model on a down-stream task to be able to use it for predictions and inference.\n"
     ]
    },
    {
     "name": "stdout",
     "output_type": "stream",
     "text": [
      "Epoch 1/5 - Training: product\n"
     ]
    },
    {
     "name": "stderr",
     "output_type": "stream",
     "text": [
      "Training Epoch 1: 100%|██████████| 255/255 [00:40<00:00,  6.30it/s, loss=7.51]\n"
     ]
    },
    {
     "name": "stdout",
     "output_type": "stream",
     "text": [
      "Epoch 2/5 - Training: product\n"
     ]
    },
    {
     "name": "stderr",
     "output_type": "stream",
     "text": [
      "Training Epoch 2: 100%|██████████| 255/255 [00:40<00:00,  6.31it/s, loss=5.49]\n"
     ]
    },
    {
     "name": "stdout",
     "output_type": "stream",
     "text": [
      "Epoch 3/5 - Training: product\n"
     ]
    },
    {
     "name": "stderr",
     "output_type": "stream",
     "text": [
      "Training Epoch 3: 100%|██████████| 255/255 [00:40<00:00,  6.31it/s, loss=4.04]\n"
     ]
    },
    {
     "name": "stdout",
     "output_type": "stream",
     "text": [
      "Epoch 4/5 - Training: product\n"
     ]
    },
    {
     "name": "stderr",
     "output_type": "stream",
     "text": [
      "Training Epoch 4: 100%|██████████| 255/255 [00:40<00:00,  6.29it/s, loss=2.03]\n"
     ]
    },
    {
     "name": "stdout",
     "output_type": "stream",
     "text": [
      "Epoch 5/5 - Training: product\n"
     ]
    },
    {
     "name": "stderr",
     "output_type": "stream",
     "text": [
      "Training Epoch 5: 100%|██████████| 255/255 [00:40<00:00,  6.30it/s, loss=6.56]\n"
     ]
    },
    {
     "name": "stdout",
     "output_type": "stream",
     "text": [
      "Evaluating model for task: product\n"
     ]
    },
    {
     "name": "stderr",
     "output_type": "stream",
     "text": [
      "Evaluating: 100%|██████████| 64/64 [00:03<00:00, 18.65it/s]\n"
     ]
    },
    {
     "name": "stdout",
     "output_type": "stream",
     "text": [
      "F1-Score for product: 0.21723957019281764\n",
      "Classification Report for product:\n",
      "\n",
      "                                                   precision    recall  f1-score   support\n",
      "\n",
      "                           Catfishes (freshwater)       0.75      0.60      0.67         5\n",
      "                            Fishes not identified       0.31      0.83      0.45         6\n",
      "                         Not classified pork meat       0.00      0.00      0.00         3\n",
      "                       Pangas catfishes (generic)       0.00      0.00      0.00         1\n",
      "              Precooked cooked pork meat products       0.00      0.00      0.00         1\n",
      "                                    Veggie Burger       0.00      0.00      0.00         2\n",
      "                               after dinner mints       0.00      0.00      0.00         1\n",
      "                                  alfalfa sprouts       0.00      0.00      0.00         0\n",
      "                                            algae       0.00      0.00      0.00         3\n",
      "                            all purpose seasoning       0.00      0.00      0.00         1\n",
      "                                   almond kernels       0.00      0.00      0.00         1\n",
      "                                  almond products       0.00      0.00      0.00         3\n",
      "                                          almonds       0.00      0.00      0.00         3\n",
      "                                 anchovies in oil       0.00      0.00      0.00         1\n",
      "                                    anchovy paste       0.00      0.00      0.00         1\n",
      "                                       angus beef       0.00      0.00      0.00         2\n",
      "                               animal by-products       0.00      0.00      0.00         1\n",
      "                                       apple cake       0.00      0.00      0.00         1\n",
      "                                      apple juice       0.10      1.00      0.18         1\n",
      "                                  apricot kernels       0.25      0.50      0.33         2\n",
      "                                         apricots       0.00      0.00      0.00         1\n",
      "                    assorted bread roll selection       0.00      0.00      0.00         1\n",
      "                                        baby food       0.00      0.00      0.00         2\n",
      "                                     baby spinach       0.00      0.00      0.00         2\n",
      "                                           bagels       0.00      0.00      0.00         1\n",
      "                                  bakery products       0.00      0.00      0.00         1\n",
      "                                       baking mix       0.00      0.00      0.00         1\n",
      "                                           bamboo       0.00      0.00      0.00         1\n",
      "                                   barbecue sauce       0.00      0.00      0.00         2\n",
      "                                             bars       0.00      0.00      0.00         2\n",
      "                                basil pesto sauce       0.50      1.00      0.67         1\n",
      "                                       bean snack       0.00      0.00      0.00         1\n",
      "                                     bean sprouts       0.00      0.00      0.00         1\n",
      "                                             beef       0.00      0.00      0.00         7\n",
      "                                        beef meat       0.00      0.00      0.00         2\n",
      "                                    beef products       0.00      0.00      0.00         6\n",
      "                                      beef stewed       0.00      0.00      0.00         1\n",
      "                                      beef tallow       0.00      0.00      0.00         1\n",
      "                                      beef tongue       0.00      0.00      0.00         1\n",
      "                                             beer       0.33      0.75      0.46         4\n",
      "                                         beverage       0.00      0.00      0.00         1\n",
      "        beverage base of non-fruit origin, liquid       0.00      0.00      0.00         1\n",
      "                                         biscuits       0.23      0.50      0.32         6\n",
      "                           bitter apricot kernels       0.00      0.00      0.00         1\n",
      "                                     blackberries       0.00      0.00      0.00         1\n",
      "                   blackcurrant drink concentrate       0.00      0.00      0.00         1\n",
      "                                 blue poppy seeds       0.00      0.00      0.00         1\n",
      "                                      blueberries       0.00      0.00      0.00         0\n",
      "              boletus mushrooms, stems and pieces       0.00      0.00      0.00         1\n",
      "                            bottled mineral water       0.00      0.00      0.00         2\n",
      "                                    bottled water       0.00      0.00      0.00         0\n",
      "                                      brazil nuts       0.00      0.00      0.00         2\n",
      "                                            bread       0.33      0.38      0.35         8\n",
      "                      bread and products therefor       0.00      0.00      0.00         3\n",
      "                                breakfast cereals       0.00      0.00      0.00         1\n",
      "                     breakfast cereals for babies       0.00      0.00      0.00         1\n",
      "                                      brie cheese       0.00      0.00      0.00         1\n",
      "                                         broccoli       0.00      0.00      0.00         1\n",
      "                                             buns       0.00      0.00      0.00         2\n",
      "                                          burrata       0.00      0.00      0.00         1\n",
      "                           burrito (ready to eat)       0.00      0.00      0.00         1\n",
      "                                           butter       0.00      0.00      0.00         1\n",
      "                                            cakes       0.26      0.88      0.41        17\n",
      "                                          candies       0.50      0.11      0.18         9\n",
      "                                   canned chicken       0.00      0.00      0.00         1\n",
      "                                   canned mussels       0.00      0.00      0.00         1\n",
      "                                   canned spinach       0.00      0.00      0.00         1\n",
      "                                   cardamom seeds       0.00      0.00      0.00         1\n",
      "                                           cashew       0.00      0.00      0.00         1\n",
      "                                      cauliflower       0.00      0.00      0.00         2\n",
      "                                          cbd oil       0.00      0.00      0.00         1\n",
      "                                     cbd products       0.00      0.00      0.00         1\n",
      "                                           cereal       0.00      0.00      0.00         2\n",
      "                                   cheddar cheese       0.00      0.00      0.00         2\n",
      "                                           cheese       0.22      0.80      0.35        10\n",
      "                                   cheese burgers       0.00      0.00      0.00         1\n",
      "                                       cheese dip       0.00      0.00      0.00         1\n",
      "                                  cheese products       0.00      0.00      0.00         1\n",
      "                                         cherries       0.00      0.00      0.00         1\n",
      "                                       chia seeds       1.00      0.75      0.86         4\n",
      "                                          chicken       0.00      0.00      0.00         8\n",
      "                           chicken based products       0.22      0.83      0.34        23\n",
      "                                   chicken breast       0.00      0.00      0.00         1\n",
      "                                    chicken broth       0.00      0.00      0.00         1\n",
      "                                  chicken dippers       0.00      0.00      0.00         1\n",
      "                                chicken meat meal       0.00      0.00      0.00         1\n",
      "                            chicken meat products       0.00      0.00      0.00         1\n",
      "                              chicken noodle soup       0.00      0.00      0.00         1\n",
      "                             chicken preparations       0.00      0.00      0.00         6\n",
      "                        chicken products - frozen       0.00      0.00      0.00         2\n",
      "                                        chickpeas       0.00      0.00      0.00         1\n",
      "                                  chilled chicken       0.00      0.00      0.00         1\n",
      "                            chilled chicken parts       0.00      0.00      0.00         1\n",
      "                                   chilled salads       0.00      0.00      0.00         5\n",
      "                                     chilli paste       0.00      0.00      0.00         1\n",
      "                                     chilli sauce       0.00      0.00      0.00         1\n",
      "                                        chocolate       0.00      0.00      0.00         8\n",
      "                 chocolate and chocolate products       0.00      0.00      0.00         1\n",
      "                    chocolate and hazelnut spread       0.00      0.00      0.00         2\n",
      "                  chocolate and products therefor       0.00      0.00      0.00         1\n",
      "                                   chocolate bars       0.05      0.40      0.09         5\n",
      "                                   chocolate eggs       0.00      0.00      0.00         3\n",
      "                               chocolate products       0.00      0.00      0.00         9\n",
      "                                 chocolate spread       0.00      0.00      0.00         1\n",
      "                  chocolate spread with hazelnuts       0.00      0.00      0.00         1\n",
      "                                 chocolate wafers       0.00      0.00      0.00         1\n",
      "                                          chorizo       0.00      0.00      0.00         4\n",
      "                                   cinnamon rolls       0.00      0.00      0.00         1\n",
      "                                            clams       0.00      0.00      0.00         1\n",
      "                                    coconut juice       0.00      0.00      0.00         2\n",
      "                                     coconut milk       0.00      0.00      0.00         2\n",
      "                               coconut milk drink       0.00      0.00      0.00         1\n",
      "                                         coconuts       0.18      1.00      0.31         4\n",
      "                                     coffee beans       1.00      0.50      0.67         2\n",
      "                                     coffee drink       0.00      0.00      0.00         1\n",
      "                              concentrated apples       0.00      0.00      0.00         1\n",
      "                                    confectionery       0.00      0.00      0.00         1\n",
      "                                   cooked chicken       0.00      0.00      0.00         3\n",
      "                            cooked chicken skewer       0.00      0.00      0.00         1\n",
      "                                       cooked ham       0.00      0.00      0.00         1\n",
      "                                  cooked sausages       0.00      0.00      0.00         1\n",
      "                                          cookies       0.31      0.92      0.46        13\n",
      "                                        coriander       0.00      0.00      0.00         1\n",
      "                                             corn       0.38      0.60      0.46         5\n",
      "                                   cottage cheese       0.00      0.00      0.00         1\n",
      "                                        cous cous       0.00      0.00      0.00         1\n",
      "                                  cow milk cheese       0.00      0.00      0.00         1\n",
      "                                         crackers       0.00      0.00      0.00         2\n",
      "                                     cream cheese       0.00      0.00      0.00         2\n",
      "                              cream chocolate pie       0.00      0.00      0.00         1\n",
      "                                           crisps       0.00      0.00      0.00         1\n",
      "                                       croissants       0.00      0.00      0.00         1\n",
      "                 crustaceans and products thereof       0.00      0.00      0.00         1\n",
      "                                         cupcakes       0.00      0.00      0.00         2\n",
      "                                       cured loin       0.00      0.00      0.00         1\n",
      "                                            curry       0.25      1.00      0.40         1\n",
      "                                          custard       0.00      0.00      0.00         1\n",
      "                                  dark chocolates       0.33      0.71      0.45         7\n",
      "                                            dates       1.00      0.50      0.67         2\n",
      "                                         desserts       0.50      0.50      0.50         4\n",
      "                               dietary supplement       0.00      0.00      0.00         4\n",
      "dietetic foods, food supplements, fortified foods       0.00      0.00      0.00         2\n",
      "                                        dip-sauce       0.00      0.00      0.00         4\n",
      "                                    dipping sauce       0.00      0.00      0.00         1\n",
      "                                           donuts       0.00      0.00      0.00         2\n",
      "                                         dressing       0.00      0.00      0.00         1\n",
      "                                  dried anchovies       0.00      0.00      0.00         1\n",
      "                                     dried apples       0.00      0.00      0.00         1\n",
      "                                   dried apricots       0.57      1.00      0.73         4\n",
      "                                  dried beef meat       1.00      1.00      1.00         7\n",
      "                                    dried coconut       0.00      0.00      0.00         1\n",
      "                                dried cranberries       0.00      0.00      0.00         1\n",
      "                                       dried figs       1.00      1.00      1.00         2\n",
      "                                  dried fruit mix       0.00      0.00      0.00         1\n",
      "                                     dried fruits       0.00      0.00      0.00         1\n",
      "                      dried fruits with chocolate       0.00      0.00      0.00         2\n",
      "                                  dried mushrooms       0.00      0.00      0.00         2\n",
      "                                      dried plums       0.00      0.00      0.00         2\n",
      "                                    dried sausage       0.00      0.00      0.00         1\n",
      "                               dried strawberries       0.00      0.00      0.00         1\n",
      "                                      dry sausage       0.00      0.00      0.00         1\n",
      "                                             duck       0.00      0.00      0.00         2\n",
      "                                        dumplings       0.00      0.00      0.00         3\n",
      "                                      edam cheese       0.00      0.00      0.00         1\n",
      "                                             eggs       0.50      0.86      0.63         7\n",
      "                            eggs and egg products       0.00      0.00      0.00         1\n",
      "                          energy and protein bars       0.00      0.00      0.00         1\n",
      "                                   feed materials       0.00      0.00      0.00         3\n",
      "                                     fennel seeds       0.00      0.00      0.00         1\n",
      "                                      feta cheese       0.00      0.00      0.00         5\n",
      "                                    fish products       0.00      0.00      0.00         2\n",
      "         flavoured fresh and creamy cheese spread       0.00      0.00      0.00         1\n",
      "                             flavoured soft drink       0.00      0.00      0.00         1\n",
      "              flavoured whey protein preparations       0.00      0.00      0.00         2\n",
      "                                            flour       0.27      0.75      0.40         4\n",
      "                                        foie gras       0.00      0.00      0.00         1\n",
      "                                  food supplement       0.00      0.00      0.00         1\n",
      "                                       fresh beef       0.00      0.00      0.00         1\n",
      "                                  fresh beef meat       0.00      0.00      0.00         1\n",
      "                                  fresh mushrooms       0.44      1.00      0.62         4\n",
      "                                    fresh parsley       0.00      0.00      0.00         1\n",
      "                                       fresh pork       0.00      0.00      0.00         1\n",
      "               fresh processed beef meat products       0.00      0.00      0.00         2\n",
      "                                 fresh vegetables       0.00      0.00      0.00         2\n",
      "                                      frozen beef       0.00      0.00      0.00         1\n",
      "                              frozen beef patties       0.00      0.00      0.00         2\n",
      "                             frozen beef products       0.00      0.00      0.00         1\n",
      "                                  frozen broccoli       0.00      0.00      0.00         1\n",
      "                               frozen burger buns       0.00      0.00      0.00         1\n",
      "                                   frozen burgers       0.00      0.00      0.00         1\n",
      "                                   frozen chicken       0.00      0.00      0.00         1\n",
      "                              frozen fish fillets       0.00      0.00      0.00         1\n",
      "                               frozen green beans       0.00      0.00      0.00         1\n",
      "                                frozen hamburgers       0.00      0.00      0.00         1\n",
      "                               frozen hash browns       0.00      0.00      0.00         1\n",
      "                                   frozen lobster       0.00      0.00      0.00         1\n",
      "                                  frozen pancakes       0.00      0.00      0.00         1\n",
      "                                      frozen peas       0.00      0.00      0.00         1\n",
      "                                   frozen peppers       0.00      0.00      0.00         1\n",
      "                                       frozen pie       0.00      0.00      0.00         1\n",
      "                                     frozen pizza       0.00      0.00      0.00         3\n",
      "                         frozen pork preparations       0.00      0.00      0.00         1\n",
      "                                   frozen poultry       0.00      0.00      0.00         1\n",
      "                      frozen poultry preparations       0.00      0.00      0.00         1\n",
      "                          frozen poultry products       0.00      0.00      0.00         2\n",
      "                     frozen ready to cook chicken       0.00      0.00      0.00         1\n",
      "                                frozen vegetables       0.00      0.00      0.00         1\n",
      "                         frozen vegetarian cutlet       0.00      0.00      0.00         1\n",
      "                                frozen whole fish       0.00      0.00      0.00         1\n",
      "                                      fruit juice       0.00      0.00      0.00         3\n",
      "                                      fruit punch       0.00      0.00      0.00         1\n",
      "                            fruits and vegetables       0.00      0.00      0.00         1\n",
      "                                    garlic powder       0.00      0.00      0.00         1\n",
      "                                      goat cheese       0.00      0.00      0.00         1\n",
      "                                            gouda       0.00      0.00      0.00         1\n",
      "                                     gouda cheese       0.00      0.00      0.00         1\n",
      "                                          granola       0.00      0.00      0.00         2\n",
      "                                   grated coconut       0.00      0.00      0.00         2\n",
      "                                        gravy mix       0.00      0.00      0.00         1\n",
      "                             grissini breadsticks       0.00      0.00      0.00         1\n",
      "                                   ground almonds       0.00      0.00      0.00         1\n",
      "                                      ground beef       0.16      1.00      0.27         9\n",
      "                                 ground beef meat       0.00      0.00      0.00         1\n",
      "                              ground black pepper       0.00      0.00      0.00         1\n",
      "                                  halloumi cheese       0.00      0.00      0.00         4\n",
      "                                            halva       0.00      0.00      0.00         1\n",
      "                                              ham       0.50      0.62      0.56         8\n",
      "                                          herring       0.00      0.00      0.00         4\n",
      "                                            honey       0.50      1.00      0.67         1\n",
      "                              horseradish in jars       0.00      0.00      0.00         1\n",
      "                                         hot dogs       0.00      0.00      0.00         1\n",
      "                                        ice cream       0.67      0.94      0.78        50\n",
      "                                   infant formula       0.75      1.00      0.86         3\n",
      "                                   instant cereal       0.00      0.00      0.00         1\n",
      "                                   instant coffee       0.00      0.00      0.00         1\n",
      "                                              jam       0.00      0.00      0.00         5\n",
      "                                          jellies       0.29      1.00      0.44         4\n",
      "                                             kale       0.00      0.00      0.00         2\n",
      "                                          ketchup       0.00      0.00      0.00         1\n",
      "                                          lasagne       0.00      0.00      0.00         3\n",
      "                            lemonade (lemon soda)       0.00      0.00      0.00         1\n",
      "                                          lentils       0.00      0.00      0.00         1\n",
      "                                          lettuce       1.00      1.00      1.00         1\n",
      "                                 liquid egg white       0.00      0.00      0.00         1\n",
      "                           liquid food supplement       0.00      0.00      0.00         1\n",
      "                                           lokoum       0.00      0.00      0.00         1\n",
      "                                        lollipops       0.00      0.00      0.00         1\n",
      "                                  long grain rice       0.00      0.00      0.00         1\n",
      "                                    luncheon meat       0.00      0.00      0.00         1\n",
      "                                      lupin seeds       0.00      0.00      0.00         1\n",
      "                                   macadamia nuts       1.00      1.00      1.00         1\n",
      "                                         mackerel       0.00      0.00      0.00         2\n",
      "                                            maize       0.00      0.00      0.00         2\n",
      "                                        margarine       0.00      0.00      0.00         1\n",
      "                           marinated chicken meat       0.00      0.00      0.00         1\n",
      "                                      marshmalows       0.00      0.00      0.00         1\n",
      "                                 masala spice mix       0.00      0.00      0.00         1\n",
      "                        mashed chickpeas (hummus)       0.00      0.00      0.00         3\n",
      "                                       mayonnaise       0.00      0.00      0.00         1\n",
      "      meat and meat products (other than poultry)       0.00      0.00      0.00         2\n",
      "                                        meat loaf       0.00      0.00      0.00         1\n",
      "                                meat preparations       0.00      0.00      0.00         1\n",
      "                     meat, egg and dairy products       0.00      0.00      0.00         1\n",
      "              mechanically separated chicken meat       0.00      0.00      0.00         1\n",
      "                                             milk       0.30      0.86      0.44         7\n",
      "                   milk chocolate covered raisins       0.00      0.00      0.00         3\n",
      "                                  milk chocolates       0.00      0.00      0.00         3\n",
      "                                    milk products       0.00      0.00      0.00         2\n",
      "                                      minced beef       0.00      0.00      0.00         2\n",
      "                                   minced chicken       0.00      0.00      0.00         1\n",
      "                      mitragyna speciosa (kratom)       1.00      0.33      0.50         3\n",
      "                                      mix of nuts       0.00      0.00      0.00         1\n",
      "                                      mixed salad       0.00      0.00      0.00         1\n",
      "                                 mixed vegetables       0.00      0.00      0.00         2\n",
      "                                         moussaka       0.00      0.00      0.00         1\n",
      "                                mozzarella cheese       0.00      0.00      0.00         1\n",
      "                                           muesli       0.00      0.00      0.00         6\n",
      "                                          muffins       0.00      0.00      0.00         2\n",
      "                                        mushrooms       0.00      0.00      0.00         1\n",
      "                                          mustard       0.00      0.00      0.00         2\n",
      "                               non-alcoholic beer       0.00      0.00      0.00         1\n",
      "                          non-alcoholic beverages       0.00      0.00      0.00         1\n",
      "                                      noodle soup       0.00      0.00      0.00         1\n",
      "                                          noodles       0.50      0.33      0.40         3\n",
      "                                           nougat       0.00      0.00      0.00         1\n",
      "                                          nut mix       0.00      0.00      0.00         1\n",
      "                               nut-almond mixture       0.00      0.00      0.00         1\n",
      "                                  nutrition shake       0.00      0.00      0.00         1\n",
      "                                             nuts       0.00      0.00      0.00         2\n",
      "                                             oats       0.00      0.00      0.00         1\n",
      "                                        olive oil       1.00      1.00      1.00         1\n",
      "                                           olives       1.00      0.50      0.67         2\n",
      "                                           onions       0.27      1.00      0.43         3\n",
      "                                     orange juice       0.00      0.00      0.00         1\n",
      "                               orange sugar paste       0.00      0.00      0.00         1\n",
      "                                          oregano       0.00      0.00      0.00         1\n",
      "                           organic chilled hummus       0.00      0.00      0.00         1\n",
      "                             other dairy products       0.00      0.00      0.00         2\n",
      "         other fruit and vegetable juice products       0.00      0.00      0.00         0\n",
      "               other not classified meat products       0.30      0.75      0.43         4\n",
      "                              other types of meat       0.00      0.00      0.00         6\n",
      "                         other water-based drinks       0.00      0.00      0.00         3\n",
      "                                          oysters       1.00      1.00      1.00         5\n",
      "                                           paella       0.00      0.00      0.00         1\n",
      "                                         palm oil       1.00      1.00      1.00         1\n",
      "                                         pancakes       0.00      0.00      0.00         2\n",
      "                                           papaya       0.00      0.00      0.00         1\n",
      "                                          parsley       0.00      0.00      0.00         1\n",
      "                                            pasta       0.00      0.00      0.00         2\n",
      "                                 pasteurized milk       0.00      0.00      0.00         1\n",
      "                                           pastry       0.00      0.00      0.00         1\n",
      "                                  pastry products       0.00      0.00      0.00         5\n",
      "                                          peaches       0.00      0.00      0.00         0\n",
      "                                          peanuts       0.22      0.73      0.33        11\n",
      "                                       pear juice       0.00      0.00      0.00         1\n",
      "                                            pesto       0.00      0.00      0.00         1\n",
      "                                         pet feed       0.50      0.17      0.25         6\n",
      "                                 pickled beetroot       0.00      0.00      0.00         1\n",
      "                             pickled grape leaves       0.00      0.00      0.00         1\n",
      "                                  pickled peppers       0.00      0.00      0.00         1\n",
      "                                  pig meat - pork       0.00      0.00      0.00         2\n",
      "                                        pine nuts       0.00      0.00      0.00         1\n",
      "                                   pistachio nuts       1.00      0.88      0.93         8\n",
      "                                            pizza       0.20      1.00      0.33         1\n",
      "                                         plastics       0.00      0.00      0.00         1\n",
      "                  plum bread &amp; butter pudding       0.00      0.00      0.00         1\n",
      "                                            poppy       0.00      0.00      0.00         0\n",
      "                                         pork pie       0.00      0.00      0.00         1\n",
      "                                 pork preparation       0.00      0.00      0.00         2\n",
      "                                     pork sausage       0.60      1.00      0.75         3\n",
      "                                     potato chips       0.40      1.00      0.57         4\n",
      "                                potato croquettes       0.00      0.00      0.00         1\n",
      "                                     potato salad       0.00      0.00      0.00         1\n",
      "                                         potatoes       0.00      0.00      0.00         3\n",
      "                                          poultry       0.00      0.00      0.00         1\n",
      "                                     poultry meat       0.00      0.00      0.00         1\n",
      "                                   prawn crackers       0.00      0.00      0.00         1\n",
      "                                           prawns       0.50      1.00      0.67         1\n",
      "              precooked cooked beef meat products       0.00      0.00      0.00         5\n",
      "                                  prepacked salad       0.00      0.00      0.00         2\n",
      "                                    prepared dish       0.00      0.00      0.00         1\n",
      "                  prepared dish containing prawns       0.00      0.00      0.00         1\n",
      "                                  prepared salads       0.00      0.00      0.00         4\n",
      "                                         pretzels       0.00      0.00      0.00         1\n",
      "                                    protein balls       0.00      0.00      0.00         2\n",
      "                                      protein bar       0.00      0.00      0.00         2\n",
      "                                     protein bars       0.00      0.00      0.00         1\n",
      "                                    protein drink       0.00      0.00      0.00         1\n",
      "                                   protein powder       0.00      0.00      0.00         3\n",
      "                                          pudding       0.00      0.00      0.00         1\n",
      "                                      puffed rice       0.00      0.00      0.00         1\n",
      "                                             pâté       0.00      0.00      0.00         2\n",
      "                                quorn preparation       0.00      0.00      0.00         1\n",
      "                                          raisins       0.00      0.00      0.00         1\n",
      "                                      raspberries       0.00      0.00      0.00         3\n",
      "                                    raw beef meat       1.00      0.14      0.25         7\n",
      "                            raw cow's milk cheese       0.00      0.00      0.00         1\n",
      "                             raw goat milk cheese       0.00      0.00      0.00         1\n",
      "                                         raw milk       0.00      0.00      0.00         4\n",
      "                        raw milk cheese reblochon       0.00      0.00      0.00         1\n",
      "         ready cooked sliced chicken tikka breast       0.00      0.00      0.00         1\n",
      "                        ready to eat - cook meals       0.04      0.21      0.06        14\n",
      "                      ready-to-eat seafood sticks       0.00      0.00      0.00         1\n",
      "                                       red chilli       0.00      0.00      0.00         1\n",
      "                                     refreshments       0.00      0.00      0.00         1\n",
      "                                             rice       0.00      0.00      0.00         2\n",
      "                                       rice cakes       0.00      0.00      0.00         1\n",
      "                                    rice crackers       0.00      0.00      0.00         1\n",
      "                                        rice meal       0.00      0.00      0.00         1\n",
      "                                       rice snack       0.00      0.00      0.00         2\n",
      "                                   ricotta cheese       0.00      0.00      0.00         1\n",
      "                                   salad dressing       0.00      0.00      0.00         2\n",
      "                                           salads       0.38      0.67      0.48        12\n",
      "                                           salami       1.00      0.25      0.40         4\n",
      "                                           salmon       0.32      1.00      0.49         9\n",
      "                                             salt       0.00      0.00      0.00         2\n",
      "                                 sandwich filling       0.00      0.00      0.00         1\n",
      "                                       sandwiches       0.60      0.67      0.63         9\n",
      "                                            sauce       0.00      0.00      0.00         5\n",
      "                                           sauces       0.08      0.50      0.14         2\n",
      "                                          sausage       0.38      0.43      0.40         7\n",
      "                                 sausage products       0.00      0.00      0.00         1\n",
      "                                          seafood       0.00      0.00      0.00         1\n",
      "                                 seasoned chicken       0.00      0.00      0.00         1\n",
      "                                        seasoning       0.50      0.50      0.50         2\n",
      "                                  seasoning sauce       0.00      0.00      0.00         1\n",
      "                                       seasonings       0.00      0.00      0.00         1\n",
      "                             seaweed preparations       0.00      0.00      0.00         1\n",
      "                                        seed mixe       0.00      0.00      0.00         1\n",
      "                                     sesame paste       0.00      0.00      0.00         2\n",
      "                                  sesame seed oil       0.00      0.00      0.00         1\n",
      "                                     sesame seeds       0.25      1.00      0.40         1\n",
      "                                          shrimps       0.71      1.00      0.83         5\n",
      "                                       sliced ham       0.00      0.00      0.00         2\n",
      "                                   smoked sausage       0.00      0.00      0.00         4\n",
      "                                   snack crackers       0.00      0.00      0.00         1\n",
      "                                        snack mix       0.00      0.00      0.00         7\n",
      "                                 snacks (various)       0.00      0.00      0.00         3\n",
      "                                       soda drink       0.00      0.00      0.00         1\n",
      "                                      soft drinks       0.00      0.00      0.00         1\n",
      "                                             soup       0.26      0.83      0.40         6\n",
      "                                   soy bean paste       0.00      0.00      0.00         1\n",
      "                                 soy milk product       0.00      0.00      0.00         1\n",
      "                                        soy sauce       0.00      0.00      0.00         1\n",
      "                       soya and products therefor       0.00      0.00      0.00         1\n",
      "                                       soya drink       0.00      0.00      0.00         1\n",
      "                                        spice mix       0.00      0.00      0.00         1\n",
      "                                           spices       0.00      0.00      0.00         1\n",
      "                                   spinach leaves       0.00      0.00      0.00         1\n",
      "                                      sport drink       1.00      1.00      1.00         1\n",
      "                                     spring rolls       1.00      1.00      1.00         2\n",
      "                                     spring water       0.00      0.00      0.00         1\n",
      "                                          sprouts       0.00      0.00      0.00         1\n",
      "                                   stuffed pastry       0.00      0.00      0.00         1\n",
      "                                            sugar       0.00      0.00      0.00         1\n",
      "                                   sunflower seed       0.56      0.71      0.62         7\n",
      "                                           sweets       0.00      0.00      0.00         1\n",
      "                                      swiss rolls       0.00      0.00      0.00         1\n",
      "                                       taco sauce       0.00      0.00      0.00         1\n",
      "                                           tahini       0.67      0.86      0.75         7\n",
      "                            tahini (sesame paste)       0.00      0.00      0.00         1\n",
      "                                              tea       0.00      0.00      0.00         1\n",
      "                                         tea bags       0.00      0.00      0.00         1\n",
      "                                        tea drink       0.00      0.00      0.00         1\n",
      "                      thermal processed beef meat       0.00      0.00      0.00         3\n",
      "                      thermal processed pork meat       0.14      0.57      0.22         7\n",
      "                                             tofu       0.00      0.00      0.00         2\n",
      "                                   tortilla chips       0.00      0.00      0.00         3\n",
      "                            tortilla chips cheese       0.00      0.00      0.00         1\n",
      "                                             tuna       0.80      0.80      0.80         5\n",
      "                   turkey and turkey preparations       0.67      0.80      0.73         5\n",
      "                            turkey based products       0.00      0.00      0.00         3\n",
      "                                   tzatziki sauce       0.00      0.00      0.00         1\n",
      "                          various bakery products       0.00      0.00      0.00         2\n",
      "                                  various cheeses       0.00      0.00      0.00         1\n",
      "                    various chicken meat products       0.00      0.00      0.00         1\n",
      "                           various pasta products       0.00      0.00      0.00         1\n",
      "                                             veal       0.00      0.00      0.00         0\n",
      "                                   vegan sausages       0.00      0.00      0.00         1\n",
      "                         vegetable based products       0.00      0.00      0.00         1\n",
      "                                    vegetable mix       0.00      0.00      0.00         2\n",
      "                            vegetable preparation       0.00      0.00      0.00         1\n",
      "                     vegetable ready to eat meals       0.00      0.00      0.00         1\n",
      "                                vegetable samosas       0.00      0.00      0.00         1\n",
      "                                       vegetables       0.00      0.00      0.00         1\n",
      "                              vitamins supplement       0.00      0.00      0.00         1\n",
      "                                           wafers       0.00      0.00      0.00         1\n",
      "                                          waffles       0.00      0.00      0.00         2\n",
      "                                          walnuts       0.00      0.00      0.00         2\n",
      "                                      wheat snack       0.00      0.00      0.00         1\n",
      "                                     whey protein       0.00      0.00      0.00         1\n",
      "                                           whisky       0.00      0.00      0.00         1\n",
      "                              white lasagna sauce       0.00      0.00      0.00         1\n",
      "                                             wine       0.33      1.00      0.50         2\n",
      "                                            wraps       0.00      0.00      0.00         4\n",
      "                                          yoghurt       0.43      0.60      0.50         5\n",
      "\n",
      "                                         accuracy                           0.31      1017\n",
      "                                        macro avg       0.08      0.12      0.09      1017\n",
      "                                     weighted avg       0.20      0.31      0.22      1017\n",
      "\n",
      "\n",
      "Training and Evaluating for Text Tasks:\n",
      "\n",
      "Starting training for task: hazard-category\n"
     ]
    },
    {
     "name": "stderr",
     "output_type": "stream",
     "text": [
      "Some weights of BertForSequenceClassification were not initialized from the model checkpoint at microsoft/BiomedNLP-PubMedBERT-base-uncased-abstract and are newly initialized: ['classifier.bias', 'classifier.weight']\n",
      "You should probably TRAIN this model on a down-stream task to be able to use it for predictions and inference.\n"
     ]
    },
    {
     "name": "stdout",
     "output_type": "stream",
     "text": [
      "Epoch 1/5 - Training: hazard-category\n"
     ]
    },
    {
     "name": "stderr",
     "output_type": "stream",
     "text": [
      "Training Epoch 1: 100%|██████████| 255/255 [00:46<00:00,  5.52it/s, loss=0.129]\n"
     ]
    },
    {
     "name": "stdout",
     "output_type": "stream",
     "text": [
      "Epoch 2/5 - Training: hazard-category\n"
     ]
    },
    {
     "name": "stderr",
     "output_type": "stream",
     "text": [
      "Training Epoch 2: 100%|██████████| 255/255 [00:46<00:00,  5.53it/s, loss=0.0175]\n"
     ]
    },
    {
     "name": "stdout",
     "output_type": "stream",
     "text": [
      "Epoch 3/5 - Training: hazard-category\n"
     ]
    },
    {
     "name": "stderr",
     "output_type": "stream",
     "text": [
      "Training Epoch 3: 100%|██████████| 255/255 [00:46<00:00,  5.53it/s, loss=0.0559]\n"
     ]
    },
    {
     "name": "stdout",
     "output_type": "stream",
     "text": [
      "Epoch 4/5 - Training: hazard-category\n"
     ]
    },
    {
     "name": "stderr",
     "output_type": "stream",
     "text": [
      "Training Epoch 4: 100%|██████████| 255/255 [00:46<00:00,  5.52it/s, loss=0.0165]\n"
     ]
    },
    {
     "name": "stdout",
     "output_type": "stream",
     "text": [
      "Epoch 5/5 - Training: hazard-category\n"
     ]
    },
    {
     "name": "stderr",
     "output_type": "stream",
     "text": [
      "Training Epoch 5: 100%|██████████| 255/255 [00:46<00:00,  5.52it/s, loss=0.0209]\n"
     ]
    },
    {
     "name": "stdout",
     "output_type": "stream",
     "text": [
      "Evaluating model for task: hazard-category\n"
     ]
    },
    {
     "name": "stderr",
     "output_type": "stream",
     "text": [
      "Evaluating: 100%|██████████| 64/64 [00:04<00:00, 13.06it/s]\n"
     ]
    },
    {
     "name": "stdout",
     "output_type": "stream",
     "text": [
      "F1-Score for hazard-category: 0.945867013097105\n",
      "Classification Report for hazard-category:\n",
      "\n",
      "                                precision    recall  f1-score   support\n",
      "\n",
      "                     allergens       0.95      0.99      0.97       377\n",
      "                    biological       0.99      0.99      0.99       339\n",
      "                      chemical       0.88      0.97      0.92        68\n",
      "food additives and flavourings       0.00      0.00      0.00         5\n",
      "                foreign bodies       0.98      0.98      0.98       111\n",
      "                         fraud       0.87      0.69      0.77        68\n",
      "                     migration       0.00      0.00      0.00         1\n",
      "          organoleptic aspects       0.89      0.80      0.84        10\n",
      "                  other hazard       0.72      0.85      0.78        27\n",
      "              packaging defect       0.88      0.64      0.74        11\n",
      "\n",
      "                      accuracy                           0.95      1017\n",
      "                     macro avg       0.72      0.69      0.70      1017\n",
      "                  weighted avg       0.94      0.95      0.95      1017\n",
      "\n",
      "\n",
      "Starting training for task: product-category\n"
     ]
    },
    {
     "name": "stderr",
     "output_type": "stream",
     "text": [
      "Some weights of BertForSequenceClassification were not initialized from the model checkpoint at microsoft/BiomedNLP-PubMedBERT-base-uncased-abstract and are newly initialized: ['classifier.bias', 'classifier.weight']\n",
      "You should probably TRAIN this model on a down-stream task to be able to use it for predictions and inference.\n"
     ]
    },
    {
     "name": "stdout",
     "output_type": "stream",
     "text": [
      "Epoch 1/5 - Training: product-category\n"
     ]
    },
    {
     "name": "stderr",
     "output_type": "stream",
     "text": [
      "Training Epoch 1: 100%|██████████| 255/255 [00:46<00:00,  5.52it/s, loss=0.0924]\n"
     ]
    },
    {
     "name": "stdout",
     "output_type": "stream",
     "text": [
      "Epoch 2/5 - Training: product-category\n"
     ]
    },
    {
     "name": "stderr",
     "output_type": "stream",
     "text": [
      "Training Epoch 2: 100%|██████████| 255/255 [00:46<00:00,  5.52it/s, loss=0.449]\n"
     ]
    },
    {
     "name": "stdout",
     "output_type": "stream",
     "text": [
      "Epoch 3/5 - Training: product-category\n"
     ]
    },
    {
     "name": "stderr",
     "output_type": "stream",
     "text": [
      "Training Epoch 3: 100%|██████████| 255/255 [00:46<00:00,  5.51it/s, loss=0.448]\n"
     ]
    },
    {
     "name": "stdout",
     "output_type": "stream",
     "text": [
      "Epoch 4/5 - Training: product-category\n"
     ]
    },
    {
     "name": "stderr",
     "output_type": "stream",
     "text": [
      "Training Epoch 4: 100%|██████████| 255/255 [00:46<00:00,  5.53it/s, loss=2.07]\n"
     ]
    },
    {
     "name": "stdout",
     "output_type": "stream",
     "text": [
      "Epoch 5/5 - Training: product-category\n"
     ]
    },
    {
     "name": "stderr",
     "output_type": "stream",
     "text": [
      "Training Epoch 5: 100%|██████████| 255/255 [00:46<00:00,  5.52it/s, loss=0.0674]\n"
     ]
    },
    {
     "name": "stdout",
     "output_type": "stream",
     "text": [
      "Evaluating model for task: product-category\n"
     ]
    },
    {
     "name": "stderr",
     "output_type": "stream",
     "text": [
      "Evaluating: 100%|██████████| 64/64 [00:04<00:00, 12.95it/s]\n"
     ]
    },
    {
     "name": "stdout",
     "output_type": "stream",
     "text": [
      "F1-Score for product-category: 0.7582886155879994\n",
      "Classification Report for product-category:\n",
      "\n",
      "                                                   precision    recall  f1-score   support\n",
      "\n",
      "                              alcoholic beverages       0.75      0.86      0.80         7\n",
      "                      cereals and bakery products       0.70      0.77      0.74       123\n",
      "     cocoa and cocoa preparations, coffee and tea       0.65      0.86      0.74        49\n",
      "                                    confectionery       0.58      0.47      0.52        40\n",
      "dietetic foods, food supplements, fortified foods       0.89      0.71      0.79        24\n",
      "                                    fats and oils       1.00      0.50      0.67         4\n",
      "                                   feed materials       0.00      0.00      0.00         3\n",
      "                           food contact materials       0.00      0.00      0.00         1\n",
      "                            fruits and vegetables       0.74      0.84      0.79       112\n",
      "                                 herbs and spices       0.53      0.62      0.57        16\n",
      "                            honey and royal jelly       0.00      0.00      0.00         1\n",
      "                                ices and desserts       0.88      0.91      0.89        56\n",
      "                     meat, egg and dairy products       0.90      0.93      0.91       282\n",
      "                          non-alcoholic beverages       0.92      0.74      0.82        31\n",
      "                     nuts, nut products and seeds       0.80      0.70      0.75        63\n",
      "                       other food product / mixed       1.00      0.11      0.20         9\n",
      "                                         pet feed       1.00      0.83      0.91         6\n",
      "                       prepared dishes and snacks       0.43      0.37      0.40        90\n",
      "                                          seafood       0.89      0.86      0.87        56\n",
      "             soups, broths, sauces and condiments       0.63      0.60      0.62        43\n",
      "                                sugars and syrups       0.50      1.00      0.67         1\n",
      "\n",
      "                                         accuracy                           0.77      1017\n",
      "                                        macro avg       0.66      0.60      0.60      1017\n",
      "                                     weighted avg       0.76      0.77      0.76      1017\n",
      "\n",
      "\n",
      "Starting training for task: hazard\n"
     ]
    },
    {
     "name": "stderr",
     "output_type": "stream",
     "text": [
      "Some weights of BertForSequenceClassification were not initialized from the model checkpoint at microsoft/BiomedNLP-PubMedBERT-base-uncased-abstract and are newly initialized: ['classifier.bias', 'classifier.weight']\n",
      "You should probably TRAIN this model on a down-stream task to be able to use it for predictions and inference.\n"
     ]
    },
    {
     "name": "stdout",
     "output_type": "stream",
     "text": [
      "Epoch 1/5 - Training: hazard\n"
     ]
    },
    {
     "name": "stderr",
     "output_type": "stream",
     "text": [
      "Training Epoch 1: 100%|██████████| 255/255 [00:46<00:00,  5.52it/s, loss=0.713]\n"
     ]
    },
    {
     "name": "stdout",
     "output_type": "stream",
     "text": [
      "Epoch 2/5 - Training: hazard\n"
     ]
    },
    {
     "name": "stderr",
     "output_type": "stream",
     "text": [
      "Training Epoch 2: 100%|██████████| 255/255 [00:46<00:00,  5.52it/s, loss=0.06]\n"
     ]
    },
    {
     "name": "stdout",
     "output_type": "stream",
     "text": [
      "Epoch 3/5 - Training: hazard\n"
     ]
    },
    {
     "name": "stderr",
     "output_type": "stream",
     "text": [
      "Training Epoch 3: 100%|██████████| 255/255 [00:46<00:00,  5.52it/s, loss=0.017]\n"
     ]
    },
    {
     "name": "stdout",
     "output_type": "stream",
     "text": [
      "Epoch 4/5 - Training: hazard\n"
     ]
    },
    {
     "name": "stderr",
     "output_type": "stream",
     "text": [
      "Training Epoch 4: 100%|██████████| 255/255 [00:46<00:00,  5.52it/s, loss=0.0172]\n"
     ]
    },
    {
     "name": "stdout",
     "output_type": "stream",
     "text": [
      "Epoch 5/5 - Training: hazard\n"
     ]
    },
    {
     "name": "stderr",
     "output_type": "stream",
     "text": [
      "Training Epoch 5: 100%|██████████| 255/255 [00:46<00:00,  5.52it/s, loss=0.0144]\n"
     ]
    },
    {
     "name": "stdout",
     "output_type": "stream",
     "text": [
      "Evaluating model for task: hazard\n"
     ]
    },
    {
     "name": "stderr",
     "output_type": "stream",
     "text": [
      "Evaluating: 100%|██████████| 64/64 [00:04<00:00, 13.03it/s]\n"
     ]
    },
    {
     "name": "stdout",
     "output_type": "stream",
     "text": [
      "F1-Score for hazard: 0.81660664738006\n",
      "Classification Report for hazard:\n",
      "\n",
      "                                                   precision    recall  f1-score   support\n",
      "\n",
      "                                        Aflatoxin       1.00      1.00      1.00         4\n",
      "                                  alcohol content       0.00      0.00      0.00         1\n",
      "                                        alkaloids       0.00      0.00      0.00         2\n",
      "                                        allergens       0.00      0.00      0.00         4\n",
      "                                           almond       0.87      0.93      0.90        14\n",
      "             altered organoleptic characteristics       0.00      0.00      0.00         2\n",
      "                                        amygdalin       0.00      0.00      0.00         2\n",
      "                           antibiotics, vet drugs       0.00      0.00      0.00         1\n",
      "                                    bacillus spp.       1.00      1.00      1.00         1\n",
      "                             bad smell / off odor       0.00      0.00      0.00         1\n",
      "                                    bone fragment       1.00      1.00      1.00         1\n",
      "                                       brazil nut       0.00      0.00      0.00         1\n",
      "                                bulging packaging       0.33      0.25      0.29         4\n",
      "                                           cashew       1.00      0.75      0.86         8\n",
      "                      celery and products thereof       0.00      0.00      0.00         3\n",
      "                                          cereals       0.00      0.00      0.00         1\n",
      "   cereals containing gluten and products thereof       0.75      0.95      0.84        43\n",
      "                                         chemical       0.00      0.00      0.00         2\n",
      "                 chemical compound (high content)       1.00      0.33      0.50         3\n",
      "                 chemical compound (unauthorised)       1.00      0.67      0.80         3\n",
      "                            clostridium botulinum       0.50      1.00      0.67         4\n",
      "                                          coconut       0.00      0.00      0.00         1\n",
      "                                        coliforms       1.00      1.00      1.00         1\n",
      "                          compositional deviation       0.00      0.00      0.00         1\n",
      "                                  cronobacter spp       1.00      1.00      1.00         2\n",
      "                 crustaceans and products thereof       1.00      1.00      1.00         3\n",
      "                                       cyclospora       1.00      1.00      1.00         1\n",
      "                                   dairy products       0.00      0.00      0.00         1\n",
      "                                          dioxins       1.00      1.00      1.00         1\n",
      "                      e 425 - konjac unauthorised       1.00      0.50      0.67         2\n",
      "                        eggs and products thereof       0.90      0.83      0.86        42\n",
      "                                    enteroviruses       1.00      1.00      1.00         1\n",
      "                                 escherichia coli       1.00      0.98      0.99        47\n",
      "                        fish and products thereof       0.83      0.62      0.71         8\n",
      "                                   foreign bodies       0.33      0.33      0.33         3\n",
      "                                   glass fragment       0.95      0.95      0.95        21\n",
      "                                         hazelnut       1.00      1.00      1.00         3\n",
      "                                     heavy metals       0.54      1.00      0.70         7\n",
      "                           high content of copper       0.00      0.00      0.00         1\n",
      "                          high content of cyanide       0.25      1.00      0.40         1\n",
      "                         high content of vitamins       1.00      1.00      1.00         1\n",
      "                              improper conditions       0.00      0.00      0.00         3\n",
      "                               improper packaging       0.00      0.00      0.00         2\n",
      "                               incorrect labeling       0.09      0.25      0.13         4\n",
      "                           incorrect use by dates       0.64      1.00      0.78         7\n",
      "                                          insects       1.00      1.00      1.00         2\n",
      "                                inspection issues       0.79      0.94      0.86        16\n",
      "             insufficient labelling/documentation       0.00      0.00      0.00         1\n",
      "                         labelling/misdescription       0.83      0.50      0.62        10\n",
      "                           listeria monocytogenes       0.95      1.00      0.98       139\n",
      "                                     listeria spp       0.00      0.00      0.00         2\n",
      "                                   metal fragment       0.87      0.92      0.89        36\n",
      "                    microbiological contamination       0.25      0.50      0.33         2\n",
      "                        milk and products thereof       0.93      0.94      0.94       108\n",
      "                                      misbranding       0.00      0.00      0.00         1\n",
      "                                   misdescription       0.00      0.00      0.00         3\n",
      "                                      mislabelled       0.00      0.00      0.00         1\n",
      "                    molluscs and products thereof       0.00      0.00      0.00         1\n",
      "                                           moulds       1.00      1.00      1.00         2\n",
      "                     mustard and products thereof       0.75      1.00      0.86         9\n",
      "                                         nitrogen       1.00      1.00      1.00         1\n",
      "                        non compliance with HACCP       0.00      0.00      0.00         1\n",
      "                                        norovirus       1.00      1.00      1.00         5\n",
      "                                             nuts       0.25      0.50      0.33         6\n",
      "                                       ochratoxin       1.00      1.00      1.00         1\n",
      "                                   organochlorine       0.00      0.00      0.00         1\n",
      "                                            other       0.32      0.52      0.39        23\n",
      "                         other misbranding issues       0.00      0.00      0.00         1\n",
      "                             other not classified       0.22      0.40      0.29         5\n",
      "          other not classified biological hazards       1.00      0.50      0.67         2\n",
      "            other not classified chemical hazards       0.67      0.67      0.67         6\n",
      "  other not classified hazards for foreign bodies       0.00      0.00      0.00         2\n",
      "                                 packaging defect       0.33      0.20      0.25         5\n",
      "       paralytic shellfish poisoning (psp) toxins       0.00      0.00      0.00         1\n",
      "                              pathogenic bacteria       0.00      0.00      0.00         2\n",
      "                                          patulin       1.00      1.00      1.00         2\n",
      "                     peanuts and products thereof       0.94      1.00      0.97        45\n",
      "                                        pecan nut       1.00      0.83      0.91         6\n",
      "                                   pieces of wood       1.00      0.50      0.67         2\n",
      "                                    pistachio nut       0.00      0.00      0.00         3\n",
      "                                 plastic fragment       0.88      0.90      0.89        39\n",
      "                 polycyclic aromatic hydrocarbons       1.00      1.00      1.00         1\n",
      "                              poor hygienic state       0.00      0.00      0.00         1\n",
      "                    poor or insufficient controls       0.00      0.00      0.00         4\n",
      "                                       processing       0.67      1.00      0.80         6\n",
      "                 product category/characteristics       0.00      0.00      0.00         1\n",
      "                                 rubber fragments       1.00      0.75      0.86         4\n",
      "                                       salmonella       0.97      0.94      0.96       121\n",
      "                sesame seeds and products thereof       1.00      0.90      0.95        10\n",
      "                    soybeans and products thereof       0.77      0.79      0.78        34\n",
      "                    specified risk material (srm)       0.00      0.00      0.00         4\n",
      "                                         spoilage       1.00      0.75      0.86         4\n",
      "                                   staphylococcus       1.00      1.00      1.00         3\n",
      "                              sulphates/sulphites       0.00      0.00      0.00         3\n",
      "                                  sulphur dioxide       1.00      0.80      0.89         5\n",
      "                    sulphur dioxide and sulphites       0.71      0.94      0.81        18\n",
      "                                        tampering       0.00      0.00      0.00         2\n",
      "                                taste disturbance       0.00      0.00      0.00         3\n",
      "too high content of fluorinated organic chemicals       0.00      0.00      0.00         2\n",
      "   too high content of tetrahydrocannabinol (THC)       1.00      1.00      1.00         2\n",
      "                                            toxin       1.00      1.00      1.00         8\n",
      "                      unauthorised colour sudan 4       0.00      0.00      0.00         0\n",
      "                              unauthorised import       0.00      0.00      0.00         1\n",
      "               unauthorised placing on the market       0.00      0.00      0.00         1\n",
      "            unauthorised substance ethylene oxide       1.00      1.00      1.00         9\n",
      "                unauthorised substance sildenafil       0.00      0.00      0.00         0\n",
      "                              undeclared additive       0.50      0.50      0.50         2\n",
      "                           undeclared constituent       0.00      0.00      0.00         1\n",
      "                                            virus       1.00      1.00      1.00         1\n",
      "                                           walnut       0.83      1.00      0.91         5\n",
      "                                           yeasts       0.00      0.00      0.00         0\n",
      "\n",
      "                                         accuracy                           0.84      1017\n",
      "                                        macro avg       0.50      0.50      0.49      1017\n",
      "                                     weighted avg       0.81      0.84      0.82      1017\n",
      "\n",
      "\n",
      "Starting training for task: product\n"
     ]
    },
    {
     "name": "stderr",
     "output_type": "stream",
     "text": [
      "Some weights of BertForSequenceClassification were not initialized from the model checkpoint at microsoft/BiomedNLP-PubMedBERT-base-uncased-abstract and are newly initialized: ['classifier.bias', 'classifier.weight']\n",
      "You should probably TRAIN this model on a down-stream task to be able to use it for predictions and inference.\n"
     ]
    },
    {
     "name": "stdout",
     "output_type": "stream",
     "text": [
      "Epoch 1/5 - Training: product\n"
     ]
    },
    {
     "name": "stderr",
     "output_type": "stream",
     "text": [
      "Training Epoch 1: 100%|██████████| 255/255 [00:46<00:00,  5.51it/s, loss=6.03]\n"
     ]
    },
    {
     "name": "stdout",
     "output_type": "stream",
     "text": [
      "Epoch 2/5 - Training: product\n"
     ]
    },
    {
     "name": "stderr",
     "output_type": "stream",
     "text": [
      "Training Epoch 2: 100%|██████████| 255/255 [00:46<00:00,  5.51it/s, loss=3.35]\n"
     ]
    },
    {
     "name": "stdout",
     "output_type": "stream",
     "text": [
      "Epoch 3/5 - Training: product\n"
     ]
    },
    {
     "name": "stderr",
     "output_type": "stream",
     "text": [
      "Training Epoch 3: 100%|██████████| 255/255 [00:46<00:00,  5.50it/s, loss=6.91]\n"
     ]
    },
    {
     "name": "stdout",
     "output_type": "stream",
     "text": [
      "Epoch 4/5 - Training: product\n"
     ]
    },
    {
     "name": "stderr",
     "output_type": "stream",
     "text": [
      "Training Epoch 4: 100%|██████████| 255/255 [00:46<00:00,  5.51it/s, loss=4.87]\n"
     ]
    },
    {
     "name": "stdout",
     "output_type": "stream",
     "text": [
      "Epoch 5/5 - Training: product\n"
     ]
    },
    {
     "name": "stderr",
     "output_type": "stream",
     "text": [
      "Training Epoch 5: 100%|██████████| 255/255 [00:46<00:00,  5.51it/s, loss=4.55]\n"
     ]
    },
    {
     "name": "stdout",
     "output_type": "stream",
     "text": [
      "Evaluating model for task: product\n"
     ]
    },
    {
     "name": "stderr",
     "output_type": "stream",
     "text": [
      "Evaluating: 100%|██████████| 64/64 [00:04<00:00, 13.03it/s]"
     ]
    },
    {
     "name": "stdout",
     "output_type": "stream",
     "text": [
      "F1-Score for product: 0.23310343365556174\n",
      "Classification Report for product:\n",
      "\n",
      "                                                   precision    recall  f1-score   support\n",
      "\n",
      "                           Catfishes (freshwater)       1.00      0.20      0.33         5\n",
      "                            Fishes not identified       0.23      1.00      0.38         6\n",
      "                         Not classified pork meat       0.00      0.00      0.00         3\n",
      "                       Pangas catfishes (generic)       0.00      0.00      0.00         1\n",
      "              Precooked cooked pork meat products       0.00      0.00      0.00         1\n",
      "                                    Veggie Burger       0.00      0.00      0.00         2\n",
      "                               after dinner mints       0.00      0.00      0.00         1\n",
      "                                  alfalfa sprouts       0.00      0.00      0.00         0\n",
      "                                            algae       0.00      0.00      0.00         3\n",
      "                            all purpose seasoning       0.00      0.00      0.00         1\n",
      "                                   almond kernels       0.00      0.00      0.00         1\n",
      "                                  almond products       0.00      0.00      0.00         3\n",
      "                                          almonds       0.50      0.67      0.57         3\n",
      "                                 anchovies in oil       0.00      0.00      0.00         1\n",
      "                                    anchovy paste       0.00      0.00      0.00         1\n",
      "                                       angus beef       0.00      0.00      0.00         2\n",
      "                               animal by-products       0.00      0.00      0.00         1\n",
      "                                       apple cake       0.00      0.00      0.00         1\n",
      "                                      apple juice       0.50      1.00      0.67         1\n",
      "                                  apricot kernels       0.00      0.00      0.00         2\n",
      "                                         apricots       0.00      0.00      0.00         1\n",
      "                    assorted bread roll selection       0.00      0.00      0.00         1\n",
      "                                        baby food       0.00      0.00      0.00         2\n",
      "                                     baby spinach       0.67      1.00      0.80         2\n",
      "                                           bagels       0.00      0.00      0.00         1\n",
      "                                  bakery products       0.00      0.00      0.00         1\n",
      "                                       baking mix       0.00      0.00      0.00         1\n",
      "                                           bamboo       0.00      0.00      0.00         1\n",
      "                                   barbecue sauce       0.00      0.00      0.00         2\n",
      "                                             bars       0.00      0.00      0.00         2\n",
      "                                basil pesto sauce       0.00      0.00      0.00         1\n",
      "                                       bean snack       0.00      0.00      0.00         1\n",
      "                                     bean sprouts       0.00      0.00      0.00         1\n",
      "                                            beans       0.00      0.00      0.00         0\n",
      "                                             beef       0.00      0.00      0.00         7\n",
      "                                        beef meat       0.00      0.00      0.00         2\n",
      "                                    beef products       0.12      0.50      0.20         6\n",
      "                                      beef stewed       0.00      0.00      0.00         1\n",
      "                                      beef tallow       0.00      0.00      0.00         1\n",
      "                                      beef tongue       0.00      0.00      0.00         1\n",
      "                                             beer       0.15      0.75      0.25         4\n",
      "                                         beverage       0.00      0.00      0.00         1\n",
      "        beverage base of non-fruit origin, liquid       0.00      0.00      0.00         1\n",
      "                                         biscuits       0.14      0.50      0.22         6\n",
      "                           bitter apricot kernels       0.00      0.00      0.00         1\n",
      "                                     black pepper       0.00      0.00      0.00         0\n",
      "                                     blackberries       0.00      0.00      0.00         1\n",
      "                   blackcurrant drink concentrate       0.00      0.00      0.00         1\n",
      "                                 blue poppy seeds       0.00      0.00      0.00         1\n",
      "                                      blueberries       0.00      0.00      0.00         0\n",
      "              boletus mushrooms, stems and pieces       0.00      0.00      0.00         1\n",
      "                            bottled mineral water       0.00      0.00      0.00         2\n",
      "                                    bottled water       0.00      0.00      0.00         0\n",
      "                                      brazil nuts       0.00      0.00      0.00         2\n",
      "                                            bread       0.33      0.50      0.40         8\n",
      "                      bread and products therefor       0.00      0.00      0.00         3\n",
      "                                breakfast cereals       0.00      0.00      0.00         1\n",
      "                     breakfast cereals for babies       0.00      0.00      0.00         1\n",
      "                                      brie cheese       0.00      0.00      0.00         1\n",
      "                                         broccoli       0.00      0.00      0.00         1\n",
      "                                             buns       0.00      0.00      0.00         2\n",
      "                                          burrata       0.00      0.00      0.00         1\n",
      "                           burrito (ready to eat)       0.00      0.00      0.00         1\n",
      "                                           butter       0.00      0.00      0.00         1\n",
      "                                            cakes       0.14      0.82      0.24        17\n",
      "                                          candies       0.00      0.00      0.00         9\n",
      "                                   canned chicken       0.00      0.00      0.00         1\n",
      "                                   canned mussels       0.00      0.00      0.00         1\n",
      "                                   canned spinach       0.00      0.00      0.00         1\n",
      "                                   cardamom seeds       0.00      0.00      0.00         1\n",
      "                                           cashew       0.00      0.00      0.00         1\n",
      "                                      cauliflower       0.00      0.00      0.00         2\n",
      "                                          cbd oil       0.00      0.00      0.00         1\n",
      "                                     cbd products       0.50      1.00      0.67         1\n",
      "                                           cereal       0.00      0.00      0.00         2\n",
      "                                   cheddar cheese       0.00      0.00      0.00         2\n",
      "                                           cheese       0.23      1.00      0.38        10\n",
      "                                   cheese burgers       0.00      0.00      0.00         1\n",
      "                                       cheese dip       0.00      0.00      0.00         1\n",
      "                                  cheese products       0.00      0.00      0.00         1\n",
      "                                         cherries       0.00      0.00      0.00         1\n",
      "                                       chia seeds       1.00      0.25      0.40         4\n",
      "                                          chicken       0.00      0.00      0.00         8\n",
      "                           chicken based products       0.25      0.87      0.39        23\n",
      "                                   chicken breast       0.00      0.00      0.00         1\n",
      "                                    chicken broth       0.00      0.00      0.00         1\n",
      "                                  chicken dippers       0.00      0.00      0.00         1\n",
      "                                chicken meat meal       0.00      0.00      0.00         1\n",
      "                            chicken meat products       0.00      0.00      0.00         1\n",
      "                              chicken noodle soup       0.00      0.00      0.00         1\n",
      "                             chicken preparations       0.00      0.00      0.00         6\n",
      "                        chicken products - frozen       0.00      0.00      0.00         2\n",
      "                                        chickpeas       0.00      0.00      0.00         1\n",
      "                                  chilled chicken       0.00      0.00      0.00         1\n",
      "                            chilled chicken parts       0.00      0.00      0.00         1\n",
      "                                   chilled salads       0.00      0.00      0.00         5\n",
      "                                     chilli paste       0.00      0.00      0.00         1\n",
      "                                     chilli sauce       0.00      0.00      0.00         1\n",
      "                                        chocolate       0.00      0.00      0.00         8\n",
      "                 chocolate and chocolate products       0.00      0.00      0.00         1\n",
      "                    chocolate and hazelnut spread       0.00      0.00      0.00         2\n",
      "                  chocolate and products therefor       0.00      0.00      0.00         1\n",
      "                                   chocolate bars       0.22      0.80      0.35         5\n",
      "                                   chocolate eggs       0.00      0.00      0.00         3\n",
      "                               chocolate products       1.00      0.22      0.36         9\n",
      "                                 chocolate spread       0.00      0.00      0.00         1\n",
      "                  chocolate spread with hazelnuts       0.00      0.00      0.00         1\n",
      "                                 chocolate wafers       0.00      0.00      0.00         1\n",
      "                                          chorizo       0.00      0.00      0.00         4\n",
      "                                   cinnamon rolls       0.00      0.00      0.00         1\n",
      "                                            clams       0.00      0.00      0.00         1\n",
      "                                    coconut juice       0.00      0.00      0.00         2\n",
      "                                     coconut milk       0.00      0.00      0.00         2\n",
      "                               coconut milk drink       0.00      0.00      0.00         1\n",
      "                                         coconuts       0.29      1.00      0.44         4\n",
      "                                     coffee beans       0.00      0.00      0.00         2\n",
      "                                     coffee drink       0.00      0.00      0.00         1\n",
      "                              concentrated apples       0.00      0.00      0.00         1\n",
      "                                    confectionery       0.00      0.00      0.00         1\n",
      "                                   cooked chicken       0.00      0.00      0.00         3\n",
      "                            cooked chicken skewer       0.00      0.00      0.00         1\n",
      "                                       cooked ham       0.00      0.00      0.00         1\n",
      "                                  cooked sausages       0.00      0.00      0.00         1\n",
      "                                          cookies       0.41      0.92      0.57        13\n",
      "                                        coriander       0.00      0.00      0.00         1\n",
      "                                             corn       1.00      0.20      0.33         5\n",
      "                                   cottage cheese       0.00      0.00      0.00         1\n",
      "                                        cous cous       0.00      0.00      0.00         1\n",
      "                                  cow milk cheese       0.00      0.00      0.00         1\n",
      "                                         crackers       0.33      0.50      0.40         2\n",
      "                                     cream cheese       0.00      0.00      0.00         2\n",
      "                              cream chocolate pie       0.00      0.00      0.00         1\n",
      "                                           crisps       0.00      0.00      0.00         1\n",
      "                                       croissants       0.00      0.00      0.00         1\n",
      "                 crustaceans and products thereof       0.00      0.00      0.00         1\n",
      "                                         cupcakes       0.00      0.00      0.00         2\n",
      "                                       cured loin       0.00      0.00      0.00         1\n",
      "                                            curry       0.17      1.00      0.29         1\n",
      "                                          custard       0.00      0.00      0.00         1\n",
      "                                  dark chocolates       0.27      1.00      0.42         7\n",
      "                                            dates       0.50      0.50      0.50         2\n",
      "                                         desserts       1.00      0.25      0.40         4\n",
      "                               dietary supplement       0.38      0.75      0.50         4\n",
      "dietetic foods, food supplements, fortified foods       0.00      0.00      0.00         2\n",
      "                                        dip-sauce       0.00      0.00      0.00         4\n",
      "                                    dipping sauce       0.00      0.00      0.00         1\n",
      "                                           donuts       0.00      0.00      0.00         2\n",
      "                                         dressing       0.00      0.00      0.00         1\n",
      "                                  dried anchovies       0.00      0.00      0.00         1\n",
      "                                     dried apples       0.00      0.00      0.00         1\n",
      "                                   dried apricots       0.40      1.00      0.57         4\n",
      "                                  dried beef meat       0.88      1.00      0.93         7\n",
      "                                    dried coconut       0.00      0.00      0.00         1\n",
      "                                dried cranberries       0.00      0.00      0.00         1\n",
      "                                       dried figs       0.00      0.00      0.00         2\n",
      "                                  dried fruit mix       0.00      0.00      0.00         1\n",
      "                                     dried fruits       0.00      0.00      0.00         1\n",
      "                      dried fruits with chocolate       0.00      0.00      0.00         2\n",
      "                                  dried mushrooms       0.00      0.00      0.00         2\n",
      "                                      dried plums       0.00      0.00      0.00         2\n",
      "                                    dried sausage       0.00      0.00      0.00         1\n",
      "                               dried strawberries       0.00      0.00      0.00         1\n",
      "                                      dry sausage       0.00      0.00      0.00         1\n",
      "                                             duck       0.00      0.00      0.00         2\n",
      "                                        dumplings       0.00      0.00      0.00         3\n",
      "                                      edam cheese       0.00      0.00      0.00         1\n",
      "                                             eggs       0.70      1.00      0.82         7\n",
      "                            eggs and egg products       0.00      0.00      0.00         1\n",
      "                          energy and protein bars       0.00      0.00      0.00         1\n",
      "                                   feed materials       0.00      0.00      0.00         3\n",
      "                                     fennel seeds       1.00      1.00      1.00         1\n",
      "                                      feta cheese       0.00      0.00      0.00         5\n",
      "                                    fish products       0.00      0.00      0.00         2\n",
      "         flavoured fresh and creamy cheese spread       0.00      0.00      0.00         1\n",
      "                             flavoured soft drink       0.00      0.00      0.00         1\n",
      "              flavoured whey protein preparations       0.00      0.00      0.00         2\n",
      "                                            flour       0.18      0.75      0.29         4\n",
      "                                        foie gras       0.00      0.00      0.00         1\n",
      "                                  food supplement       0.00      0.00      0.00         1\n",
      "                                       fresh beef       0.00      0.00      0.00         1\n",
      "                                  fresh beef meat       0.00      0.00      0.00         1\n",
      "                                  fresh mushrooms       0.40      1.00      0.57         4\n",
      "                                    fresh parsley       0.00      0.00      0.00         1\n",
      "                                       fresh pork       0.00      0.00      0.00         1\n",
      "               fresh processed beef meat products       0.00      0.00      0.00         2\n",
      "                                 fresh vegetables       0.00      0.00      0.00         2\n",
      "                                      frozen beef       0.00      0.00      0.00         1\n",
      "                              frozen beef patties       0.00      0.00      0.00         2\n",
      "                             frozen beef products       0.00      0.00      0.00         1\n",
      "                                  frozen broccoli       0.00      0.00      0.00         1\n",
      "                               frozen burger buns       0.00      0.00      0.00         1\n",
      "                                   frozen burgers       0.00      0.00      0.00         1\n",
      "                                   frozen chicken       0.00      0.00      0.00         1\n",
      "                              frozen fish fillets       0.00      0.00      0.00         1\n",
      "                               frozen green beans       0.00      0.00      0.00         1\n",
      "                                frozen hamburgers       0.00      0.00      0.00         1\n",
      "                               frozen hash browns       0.00      0.00      0.00         1\n",
      "                                   frozen lobster       0.00      0.00      0.00         1\n",
      "                                  frozen pancakes       0.00      0.00      0.00         1\n",
      "                                      frozen peas       1.00      1.00      1.00         1\n",
      "                                   frozen peppers       0.00      0.00      0.00         1\n",
      "                                       frozen pie       0.00      0.00      0.00         1\n",
      "                                     frozen pizza       0.00      0.00      0.00         3\n",
      "                         frozen pork preparations       0.00      0.00      0.00         1\n",
      "                                   frozen poultry       0.00      0.00      0.00         1\n",
      "                      frozen poultry preparations       0.00      0.00      0.00         1\n",
      "                          frozen poultry products       0.00      0.00      0.00         2\n",
      "                     frozen ready to cook chicken       0.00      0.00      0.00         1\n",
      "                             frozen sausage rolls       0.00      0.00      0.00         0\n",
      "                                frozen vegetables       0.00      0.00      0.00         1\n",
      "                         frozen vegetarian cutlet       0.00      0.00      0.00         1\n",
      "                                frozen whole fish       0.00      0.00      0.00         1\n",
      "                                      fruit juice       0.00      0.00      0.00         3\n",
      "                                      fruit punch       0.00      0.00      0.00         1\n",
      "                            fruits and vegetables       0.00      0.00      0.00         1\n",
      "                                    garlic powder       0.00      0.00      0.00         1\n",
      "                                      goat cheese       0.00      0.00      0.00         1\n",
      "                          golden raisins/sultanas       0.00      0.00      0.00         0\n",
      "                                            gouda       0.00      0.00      0.00         1\n",
      "                                     gouda cheese       0.00      0.00      0.00         1\n",
      "                                          granola       0.67      1.00      0.80         2\n",
      "                                   grated coconut       0.00      0.00      0.00         2\n",
      "                                        gravy mix       0.00      0.00      0.00         1\n",
      "                             grissini breadsticks       0.00      0.00      0.00         1\n",
      "                                   ground almonds       0.00      0.00      0.00         1\n",
      "                                      ground beef       0.35      1.00      0.51         9\n",
      "                                 ground beef meat       0.00      0.00      0.00         1\n",
      "                              ground black pepper       0.00      0.00      0.00         1\n",
      "                                  halloumi cheese       0.00      0.00      0.00         4\n",
      "                                            halva       0.00      0.00      0.00         1\n",
      "                                              ham       0.62      0.62      0.62         8\n",
      "                                          herring       0.00      0.00      0.00         4\n",
      "                                            honey       0.00      0.00      0.00         1\n",
      "                              horseradish in jars       0.00      0.00      0.00         1\n",
      "                                         hot dogs       0.00      0.00      0.00         1\n",
      "                                        ice cream       0.83      0.90      0.87        50\n",
      "                                   infant formula       1.00      1.00      1.00         3\n",
      "                                   instant cereal       0.00      0.00      0.00         1\n",
      "                                   instant coffee       0.00      0.00      0.00         1\n",
      "                                  instant noodles       0.00      0.00      0.00         0\n",
      "                                              jam       0.00      0.00      0.00         5\n",
      "                                          jellies       0.57      1.00      0.73         4\n",
      "                                             kale       0.00      0.00      0.00         2\n",
      "                                          ketchup       0.00      0.00      0.00         1\n",
      "                                          lasagne       0.00      0.00      0.00         3\n",
      "                            lemonade (lemon soda)       0.00      0.00      0.00         1\n",
      "                                          lentils       0.00      0.00      0.00         1\n",
      "                                          lettuce       0.00      0.00      0.00         1\n",
      "                                 liquid egg white       0.00      0.00      0.00         1\n",
      "                           liquid food supplement       0.00      0.00      0.00         1\n",
      "                                           lokoum       0.00      0.00      0.00         1\n",
      "                                        lollipops       0.00      0.00      0.00         1\n",
      "                                  long grain rice       0.00      0.00      0.00         1\n",
      "                                    luncheon meat       0.00      0.00      0.00         1\n",
      "                                      lupin seeds       0.00      0.00      0.00         1\n",
      "                                   macadamia nuts       1.00      1.00      1.00         1\n",
      "                                         mackerel       0.00      0.00      0.00         2\n",
      "                                            maize       0.00      0.00      0.00         2\n",
      "                                            mango       0.00      0.00      0.00         0\n",
      "                                        margarine       0.00      0.00      0.00         1\n",
      "                           marinated chicken meat       0.00      0.00      0.00         1\n",
      "                                      marshmalows       0.00      0.00      0.00         1\n",
      "                                 masala spice mix       0.00      0.00      0.00         1\n",
      "                        mashed chickpeas (hummus)       0.00      0.00      0.00         3\n",
      "                                       mayonnaise       0.00      0.00      0.00         1\n",
      "      meat and meat products (other than poultry)       0.00      0.00      0.00         2\n",
      "                                        meat loaf       0.00      0.00      0.00         1\n",
      "                                meat preparations       0.00      0.00      0.00         1\n",
      "                     meat, egg and dairy products       0.00      0.00      0.00         1\n",
      "              mechanically separated chicken meat       0.00      0.00      0.00         1\n",
      "                                             milk       0.33      0.86      0.48         7\n",
      "                   milk chocolate covered raisins       0.00      0.00      0.00         3\n",
      "                                  milk chocolates       0.00      0.00      0.00         3\n",
      "                                    milk products       0.00      0.00      0.00         2\n",
      "                                      minced beef       0.00      0.00      0.00         2\n",
      "                                   minced chicken       0.00      0.00      0.00         1\n",
      "                      mitragyna speciosa (kratom)       0.00      0.00      0.00         3\n",
      "                                      mix of nuts       0.00      0.00      0.00         1\n",
      "                                      mixed salad       0.00      0.00      0.00         1\n",
      "                                 mixed vegetables       0.00      0.00      0.00         2\n",
      "                                         moussaka       0.00      0.00      0.00         1\n",
      "                                mozzarella cheese       0.00      0.00      0.00         1\n",
      "                                           muesli       0.00      0.00      0.00         6\n",
      "                                          muffins       1.00      1.00      1.00         2\n",
      "                                        mushrooms       0.00      0.00      0.00         1\n",
      "                                          mustard       0.00      0.00      0.00         2\n",
      "                               non-alcoholic beer       0.00      0.00      0.00         1\n",
      "                          non-alcoholic beverages       0.00      0.00      0.00         1\n",
      "                                      noodle soup       0.00      0.00      0.00         1\n",
      "                                          noodles       0.00      0.00      0.00         3\n",
      "                                           nougat       0.00      0.00      0.00         1\n",
      "                                          nut mix       0.00      0.00      0.00         1\n",
      "                               nut-almond mixture       0.00      0.00      0.00         1\n",
      "                                  nutrition shake       0.00      0.00      0.00         1\n",
      "                                             nuts       0.00      0.00      0.00         2\n",
      "                                             oats       1.00      1.00      1.00         1\n",
      "                                        olive oil       1.00      1.00      1.00         1\n",
      "                                           olives       0.00      0.00      0.00         2\n",
      "                                           onions       0.29      0.67      0.40         3\n",
      "                                     orange juice       0.00      0.00      0.00         1\n",
      "                               orange sugar paste       0.00      0.00      0.00         1\n",
      "                                          oregano       0.00      0.00      0.00         1\n",
      "                           organic chilled hummus       0.00      0.00      0.00         1\n",
      "                             other dairy products       0.00      0.00      0.00         2\n",
      "               other not classified meat products       0.14      0.25      0.18         4\n",
      "                              other types of meat       0.00      0.00      0.00         6\n",
      "                         other water-based drinks       0.00      0.00      0.00         3\n",
      "                                          oysters       0.83      1.00      0.91         5\n",
      "                                           paella       0.00      0.00      0.00         1\n",
      "                                         palm oil       0.50      1.00      0.67         1\n",
      "                                         pancakes       0.00      0.00      0.00         2\n",
      "                                           papaya       0.00      0.00      0.00         1\n",
      "                                          parsley       1.00      1.00      1.00         1\n",
      "                                            pasta       0.00      0.00      0.00         2\n",
      "                                 pasteurized milk       0.00      0.00      0.00         1\n",
      "                                           pastry       0.00      0.00      0.00         1\n",
      "                                  pastry products       0.00      0.00      0.00         5\n",
      "                                          peanuts       0.24      0.64      0.35        11\n",
      "                                       pear juice       0.00      0.00      0.00         1\n",
      "                                            pesto       0.00      0.00      0.00         1\n",
      "                                         pet feed       0.86      1.00      0.92         6\n",
      "                                 pickled beetroot       0.00      0.00      0.00         1\n",
      "                             pickled grape leaves       0.00      0.00      0.00         1\n",
      "                                  pickled peppers       0.00      0.00      0.00         1\n",
      "                                  pig meat - pork       0.00      0.00      0.00         2\n",
      "                                        pine nuts       0.00      0.00      0.00         1\n",
      "                                   pistachio nuts       1.00      0.88      0.93         8\n",
      "                                            pizza       0.20      1.00      0.33         1\n",
      "                                         plastics       0.00      0.00      0.00         1\n",
      "                  plum bread &amp; butter pudding       0.00      0.00      0.00         1\n",
      "                                            poppy       0.00      0.00      0.00         0\n",
      "                                         pork pie       0.00      0.00      0.00         1\n",
      "                                 pork preparation       0.00      0.00      0.00         2\n",
      "                                     pork sausage       0.30      1.00      0.46         3\n",
      "                                     potato chips       0.23      0.75      0.35         4\n",
      "                                potato croquettes       0.00      0.00      0.00         1\n",
      "                                     potato salad       0.00      0.00      0.00         1\n",
      "                                         potatoes       0.00      0.00      0.00         3\n",
      "                                          poultry       0.00      0.00      0.00         1\n",
      "                                     poultry meat       0.00      0.00      0.00         1\n",
      "                                   prawn crackers       0.00      0.00      0.00         1\n",
      "                                           prawns       0.00      0.00      0.00         1\n",
      "              precooked cooked beef meat products       0.00      0.00      0.00         5\n",
      "                                  prepacked salad       0.00      0.00      0.00         2\n",
      "                                    prepared dish       0.00      0.00      0.00         1\n",
      "                  prepared dish containing prawns       0.00      0.00      0.00         1\n",
      "                                  prepared salads       0.00      0.00      0.00         4\n",
      "                                         pretzels       0.00      0.00      0.00         1\n",
      "                                    protein balls       0.00      0.00      0.00         2\n",
      "                                      protein bar       0.00      0.00      0.00         2\n",
      "                                     protein bars       0.00      0.00      0.00         1\n",
      "                                    protein drink       0.00      0.00      0.00         1\n",
      "                                   protein powder       0.00      0.00      0.00         3\n",
      "                                          pudding       0.00      0.00      0.00         1\n",
      "                                      puffed rice       0.00      0.00      0.00         1\n",
      "                                             pâté       0.00      0.00      0.00         2\n",
      "                                quorn preparation       0.00      0.00      0.00         1\n",
      "                                          raisins       0.00      0.00      0.00         1\n",
      "                                      raspberries       1.00      1.00      1.00         3\n",
      "                                    raw beef meat       1.00      0.14      0.25         7\n",
      "                            raw cow's milk cheese       0.00      0.00      0.00         1\n",
      "                             raw goat milk cheese       0.00      0.00      0.00         1\n",
      "                                         raw milk       0.00      0.00      0.00         4\n",
      "                        raw milk cheese reblochon       0.00      0.00      0.00         1\n",
      "         ready cooked sliced chicken tikka breast       0.00      0.00      0.00         1\n",
      "                        ready to eat - cook meals       0.07      0.36      0.11        14\n",
      "                      ready-to-eat seafood sticks       0.00      0.00      0.00         1\n",
      "                                       red chilli       0.00      0.00      0.00         1\n",
      "                                     refreshments       0.00      0.00      0.00         1\n",
      "                                             rice       0.00      0.00      0.00         2\n",
      "                                       rice cakes       0.00      0.00      0.00         1\n",
      "                                    rice crackers       0.00      0.00      0.00         1\n",
      "                                        rice meal       0.00      0.00      0.00         1\n",
      "                                       rice snack       0.00      0.00      0.00         2\n",
      "                                   ricotta cheese       0.00      0.00      0.00         1\n",
      "                                   salad dressing       0.00      0.00      0.00         2\n",
      "                                           salads       0.22      0.67      0.33        12\n",
      "                                           salami       0.50      0.25      0.33         4\n",
      "                                           salmon       0.53      1.00      0.69         9\n",
      "                                             salt       0.00      0.00      0.00         2\n",
      "                                 sandwich filling       0.00      0.00      0.00         1\n",
      "                                       sandwiches       0.78      0.78      0.78         9\n",
      "                                            sauce       0.13      0.40      0.20         5\n",
      "                                           sauces       0.00      0.00      0.00         2\n",
      "                                          sausage       0.11      0.14      0.12         7\n",
      "                                 sausage products       0.00      0.00      0.00         1\n",
      "                                          seafood       0.00      0.00      0.00         1\n",
      "                                 seasoned chicken       0.00      0.00      0.00         1\n",
      "                                        seasoning       0.25      0.50      0.33         2\n",
      "                                  seasoning sauce       0.00      0.00      0.00         1\n",
      "                                       seasonings       0.00      0.00      0.00         1\n",
      "                             seaweed preparations       0.00      0.00      0.00         1\n",
      "                                        seed mixe       0.00      0.00      0.00         1\n",
      "                                     sesame paste       0.00      0.00      0.00         2\n",
      "                                  sesame seed oil       0.00      0.00      0.00         1\n",
      "                                     sesame seeds       0.50      1.00      0.67         1\n",
      "                                          shrimps       0.67      0.80      0.73         5\n",
      "                                       sliced ham       0.00      0.00      0.00         2\n",
      "                                   smoked sausage       0.00      0.00      0.00         4\n",
      "                                   snack crackers       0.00      0.00      0.00         1\n",
      "                                        snack mix       0.00      0.00      0.00         7\n",
      "                                 snacks (various)       0.00      0.00      0.00         3\n",
      "                                       soda drink       0.00      0.00      0.00         1\n",
      "                                      soft drinks       0.00      0.00      0.00         1\n",
      "                                             soup       0.46      1.00      0.63         6\n",
      "                                   soy bean paste       0.00      0.00      0.00         1\n",
      "                                 soy milk product       0.00      0.00      0.00         1\n",
      "                                        soy sauce       0.00      0.00      0.00         1\n",
      "                       soya and products therefor       0.00      0.00      0.00         1\n",
      "                                       soya drink       0.00      0.00      0.00         1\n",
      "                                        spice mix       0.00      0.00      0.00         1\n",
      "                                           spices       0.00      0.00      0.00         1\n",
      "                                   spinach leaves       0.00      0.00      0.00         1\n",
      "                                      sport drink       0.00      0.00      0.00         1\n",
      "                                     spring rolls       0.50      1.00      0.67         2\n",
      "                                     spring water       0.00      0.00      0.00         1\n",
      "                                          sprouts       0.00      0.00      0.00         1\n",
      "                                   stuffed pastry       0.00      0.00      0.00         1\n",
      "                                            sugar       0.00      0.00      0.00         1\n",
      "                                   sunflower seed       0.64      1.00      0.78         7\n",
      "                                           sweets       0.00      0.00      0.00         1\n",
      "                                      swiss rolls       0.00      0.00      0.00         1\n",
      "                                       taco sauce       0.00      0.00      0.00         1\n",
      "                                           tahini       0.71      0.71      0.71         7\n",
      "                            tahini (sesame paste)       0.00      0.00      0.00         1\n",
      "                                              tea       0.33      1.00      0.50         1\n",
      "                                         tea bags       0.00      0.00      0.00         1\n",
      "                                        tea drink       0.00      0.00      0.00         1\n",
      "                      thermal processed beef meat       0.00      0.00      0.00         3\n",
      "                      thermal processed pork meat       0.17      0.71      0.28         7\n",
      "                                             tofu       0.00      0.00      0.00         2\n",
      "                                   tortilla chips       0.00      0.00      0.00         3\n",
      "                            tortilla chips cheese       0.00      0.00      0.00         1\n",
      "                                             tuna       1.00      0.20      0.33         5\n",
      "                   turkey and turkey preparations       0.62      1.00      0.77         5\n",
      "                            turkey based products       0.00      0.00      0.00         3\n",
      "                                   tzatziki sauce       0.00      0.00      0.00         1\n",
      "                          various bakery products       0.00      0.00      0.00         2\n",
      "                                  various cheeses       0.00      0.00      0.00         1\n",
      "                    various chicken meat products       0.00      0.00      0.00         1\n",
      "                           various pasta products       0.00      0.00      0.00         1\n",
      "                                   vegan sausages       0.00      0.00      0.00         1\n",
      "                         vegetable based products       0.00      0.00      0.00         1\n",
      "                                    vegetable mix       0.00      0.00      0.00         2\n",
      "                            vegetable preparation       0.00      0.00      0.00         1\n",
      "                     vegetable ready to eat meals       0.00      0.00      0.00         1\n",
      "                                vegetable samosas       1.00      1.00      1.00         1\n",
      "                                       vegetables       0.00      0.00      0.00         1\n",
      "                              vitamins supplement       0.00      0.00      0.00         1\n",
      "                                           wafers       0.00      0.00      0.00         1\n",
      "                                          waffles       0.00      0.00      0.00         2\n",
      "                                          walnuts       0.00      0.00      0.00         2\n",
      "                               weight loss coffee       0.00      0.00      0.00         0\n",
      "                                      wheat snack       0.00      0.00      0.00         1\n",
      "                                     whey protein       0.00      0.00      0.00         1\n",
      "                                           whisky       0.00      0.00      0.00         1\n",
      "                              white lasagna sauce       0.00      0.00      0.00         1\n",
      "                                             wine       1.00      0.50      0.67         2\n",
      "                                            wraps       0.00      0.00      0.00         4\n",
      "                                          yoghurt       0.71      1.00      0.83         5\n",
      "\n",
      "                                         accuracy                           0.33      1017\n",
      "                                        macro avg       0.09      0.13      0.10      1017\n",
      "                                     weighted avg       0.22      0.33      0.23      1017\n",
      "\n"
     ]
    },
    {
     "name": "stderr",
     "output_type": "stream",
     "text": [
      "\n"
     ]
    }
   ],
   "source": [
    "# Train and evaluate for both title and text\n",
    "print(\"\\nTraining and Evaluating for Title Tasks:\")\n",
    "title_f1_scores = train_and_evaluate_nn(title_splits, targets_subtask1 + targets_subtask2, model_type='title')\n",
    "\n",
    "print(\"\\nTraining and Evaluating for Text Tasks:\")\n",
    "text_f1_scores = train_and_evaluate_nn(text_splits, targets_subtask1 + targets_subtask2, model_type='text')\n"
   ]
  },
  {
   "cell_type": "markdown",
   "metadata": {
    "id": "GCXJKnU1O3mx"
   },
   "source": [
    "# Create DataFrames for F1 Scores\n",
    "\n",
    "This cell creates two DataFrames, one for the title-focused F1 scores and another for the text-focused F1 scores. These DataFrames will be used for plotting the results.\n"
   ]
  },
  {
   "cell_type": "code",
   "execution_count": null,
   "metadata": {
    "colab": {
     "base_uri": "https://localhost:8080/"
    },
    "id": "I9aMV7x3O17b",
    "outputId": "53829f17-69e0-4cb0-972d-3381c926fe9d"
   },
   "outputs": [
    {
     "name": "stdout",
     "output_type": "stream",
     "text": [
      "\n",
      "Collected F1-Scores for Title-Focused Classification:\n",
      "               Task  F1-Score\n",
      "0   hazard-category  0.828806\n",
      "1  product-category  0.749440\n",
      "2            hazard  0.589903\n",
      "3           product  0.217240\n",
      "\n",
      "Collected F1-Scores for Text-Focused Classification::\n",
      "               Task  F1-Score\n",
      "0   hazard-category  0.945867\n",
      "1  product-category  0.758289\n",
      "2            hazard  0.816607\n",
      "3           product  0.233103\n"
     ]
    }
   ],
   "source": [
    "# Create DataFrames for F1 scores for title and text\n",
    "f1_scores_title_df = pd.DataFrame({\n",
    "    'Task': targets_subtask1 + targets_subtask2,\n",
    "    'F1-Score': title_f1_scores\n",
    "})\n",
    "\n",
    "f1_scores_text_df = pd.DataFrame({\n",
    "    'Task': targets_subtask1 + targets_subtask2,\n",
    "    'F1-Score': text_f1_scores\n",
    "})\n",
    "# Print the collected F1-scores for title\n",
    "print(\"\\nCollected F1-Scores for Title-Focused Classification:\")\n",
    "print(f1_scores_title_df)\n",
    "\n",
    "# Print the collected F1-scores for text\n",
    "print(\"\\nCollected F1-Scores for Text-Focused Classification::\")\n",
    "print(f1_scores_text_df)"
   ]
  },
  {
   "cell_type": "markdown",
   "metadata": {
    "id": "f1AkMuwMO6rz"
   },
   "source": [
    "# Plot F1 Scores for Title and Text Subtasks\n",
    "\n",
    "This cell visualizes the F1 scores for the title and text-based tasks by plotting them in a bar chart. It displays both sets of F1 scores in a combined chart for comparison.\n"
   ]
  },
  {
   "cell_type": "code",
   "execution_count": null,
   "metadata": {
    "colab": {
     "base_uri": "https://localhost:8080/",
     "height": 607
    },
    "id": "6YvqtXEhO5kz",
    "outputId": "76f1b1d2-be0c-4abf-d028-0ca863f889bf"
   },
   "outputs": [
    {
     "data": {
      "image/png": "[encoded data removed]",
      "text/plain": [
       "<Figure size 1000x600 with 1 Axes>"
      ]
     },
     "metadata": {},
     "output_type": "display_data"
    }
   ],
   "source": [
    "# Plotting the data\n",
    "plt.figure(figsize=(10, 6))\n",
    "\n",
    "index_title = range(len(f1_scores_title_df))  # Position for Title-Focused\n",
    "index_text = [i + len(f1_scores_title_df) for i in range(len(f1_scores_text_df))]  # Position for Text-Focused\n",
    "\n",
    "# Plotting all Title-Focused F1-scores\n",
    "plt.bar(index_title, f1_scores_title_df['F1-Score'], label='Title-Focused')\n",
    "\n",
    "# Plotting all Text-Focused F1-scores (shifted on the x-axis after the Title-Focused bars)\n",
    "plt.bar(index_text, f1_scores_text_df['F1-Score'], label='Text-Focused')\n",
    "\n",
    "# Adding labels and title\n",
    "plt.xlabel('Task')\n",
    "plt.ylabel('F1-Score')\n",
    "plt.title('F1-Scores for Title-Focused and Text-Focused Classification')\n",
    "\n",
    "# Adjusting x-ticks to show all tasks\n",
    "plt.xticks(range(len(f1_scores_title_df) + len(f1_scores_text_df)),\n",
    "           list(f1_scores_title_df['Task']) + list(f1_scores_text_df['Task']),\n",
    "           rotation=45)\n",
    "\n",
    "# Setting y-axis limit from 0 to 1\n",
    "plt.ylim(0, 1)\n",
    "\n",
    "# Adding legend\n",
    "plt.legend()\n",
    "\n",
    "# Displaying the plot\n",
    "plt.tight_layout()\n",
    "plt.show()\n"
   ]
  },
  {
   "cell_type": "markdown",
   "metadata": {},
   "source": [
    "## Justification for Using F1-Weighted for Model Comparison:"
   ]
  },
  {
   "cell_type": "markdown",
   "metadata": {},
   "source": [
    "**1. Balanced Measure of Precision and Recall:**  \n",
    "The F1-weighted score balances precision and recall, making it ideal for imbalanced datasets like those with overrepresented classes (e.g., allergens or ice cream). It offers a more reliable performance metric by considering both correct positive predictions and capturing actual positives.\n",
    "\n",
    "**2. Handling Class Imbalance:**  \n",
    "F1-weighted addresses class imbalances by giving more weight to frequent categories while ensuring underrepresented classes are considered, making it a better fit for datasets with skewed distributions.\n",
    "\n",
    "**3. Avoiding the \"Accuracy Paradox\":**  \n",
    "In imbalanced datasets, accuracy can be misleading. F1-weighted helps by evaluating both precision and recall, avoiding the \"accuracy paradox\" where a model may predict the majority class well but fail on important minority classes.\n",
    "\n",
    "**4. Handling Undefined F1-Score:**  \n",
    "When some classes are absent from predictions, F1-weighted with `zero_division=0` ensures meaningful results, allowing for fair model comparison even with missing or rare classes.\n"
   ]
  },
  {
   "cell_type": "markdown",
   "metadata": {},
   "source": [
    "## Analysis of F1-Scores\n"
   ]
  },
  {
   "cell_type": "markdown",
   "metadata": {
    "id": "xfDXhjd_aEp2"
   },
   "source": [
    "## Collected F1-Scores for Title-Focused Classification:\n",
    "\n",
    "| Task                        | F1-Score |\n",
    "|-----------------------------|----------|\n",
    "| hazard-category (Title)     | 0.8288   |\n",
    "| product-category (Title)    | 0.7494   |\n",
    "| hazard (Title)              | 0.5899   |\n",
    "| product (Title)             | 0.2172   |\n",
    "\n",
    "### Analysis:\n",
    "- **hazard-category (Title)**: F1-Score = 0.8288  \n",
    "  Strong performance in predicting hazard categories from the title. The model demonstrates a good ability to capture hazard-related information, suggesting effective extraction of relevant features from short titles.\n",
    "  \n",
    "- **product-category (Title)**: F1-Score = 0.7494  \n",
    "  Solid performance in predicting product categories, but the results indicate room for improvement in terms of distinguishing between different product types from brief titles. The model is relatively strong but may benefit from additional tuning.\n",
    "\n",
    "- **hazard (Title)**: F1-Score = 0.5899  \n",
    "  Reasonable performance in predicting hazards from the title, though the model could further improve in differentiating between specific hazard types. There is potential for enhanced granularity in classification.\n",
    "\n",
    "- **product (Title)**: F1-Score = 0.2172  \n",
    "  Poor performance in predicting product-related information from titles, which highlights a key challenge. The model may not be effectively capturing the context needed to identify products in short titles, suggesting the need for further refinement.\n",
    "\n",
    "---\n",
    "\n",
    "## Collected F1-Scores for Text-Focused Classification:\n",
    "\n",
    "| Task                        | F1-Score |\n",
    "|-----------------------------|----------|\n",
    "| hazard-category (Text)      | 0.9459   |\n",
    "| product-category (Text)     | 0.7583   |\n",
    "| hazard (Text)               | 0.8166   |\n",
    "| product (Text)              | 0.2331   |\n",
    "\n",
    "### Analysis:\n",
    "- **hazard-category (Text)**: F1-Score = 0.9459  \n",
    "  Excellent performance in predicting hazard categories from the text. This result shows that the model excels in leveraging longer descriptions, capturing hazard-related features with high accuracy.\n",
    "\n",
    "- **product-category (Text)**: F1-Score = 0.7583  \n",
    "  Strong performance in predicting product categories from the text, although slightly lower than the hazard-category classification. The model demonstrates competency in handling product-related information but could still benefit from some fine-tuning for greater precision.\n",
    "\n",
    "- **hazard (Text)**: F1-Score = 0.8166  \n",
    "  Solid performance in predicting hazards from the text. Though it falls just short of the hazard-category classification, it still shows strong ability to identify hazards from the detailed descriptions.\n",
    "\n",
    "- **product (Text)**: F1-Score = 0.2331  \n",
    "  Poor performance in predicting product-related information, similar to the title-focused classification. The model struggles with identifying products from the longer texts as well, indicating a persistent challenge in this area.\n",
    "\n",
    "---\n",
    "\n",
    "## Key Insights:\n",
    "- **Title vs Text Focus**:  \n",
    "  The model clearly performs better in **text-focused tasks** compared to **title-focused tasks**. The additional context provided by full descriptions enhances the accuracy of both hazard-category and product-category classifications, especially for hazard-related tasks.\n",
    "\n",
    "- **Strongest Task**:  \n",
    "  The highest F1-score of **0.9459** is achieved for **hazard-category classification** in the text-focused task. This highlights that the model is highly proficient in identifying hazard categories when provided with more context and information.\n",
    "\n",
    "- **Weakest Task**:  \n",
    "  In both the title-focused and text-focused classifications, the task of predicting **product** continues to show the weakest performance, with very low F1-scores. This suggests that the model faces considerable challenges in identifying product-related information, regardless of whether the input is a title or full text.\n",
    "\n",
    "- **Improvement Potential**:  \n",
    "  The F1-scores indicate that while hazard-related tasks (both hazard-category and hazard) are areas where the model performs well, there is significant room for improvement in **product-related classifications**. Strategies such as additional feature engineering, better data representation, or even model adjustments could help improve product-related classification tasks.\n",
    "\n",
    "---\n",
    "\n",
    "## Conclusion:\n",
    "The **submission will be based on a text-trained model**, as it consistently outperforms title-based classification. The model excels in hazard-category classification and shows strong performance with longer descriptions. \n"
   ]
  },
  {
   "cell_type": "markdown",
   "metadata": {},
   "source": []
  }
 ],
 "metadata": {
  "accelerator": "GPU",
  "colab": {
   "authorship_tag": "ABX9TyPHdFm0L1EPorSv89QZI/hD",
   "gpuType": "A100",
   "include_colab_link": true,
   "provenance": []
  },
  "kernelspec": {
   "display_name": "Python 3",
   "name": "python3"
  },
  "language_info": {
   "name": "python"
  },
  "widgets": {
   "application/vnd.jupyter.widget-state+json": {
    "02fca453a235406da964d27124ea642e": {
     "model_module": "@jupyter-widgets/controls",
     "model_module_version": "1.5.0",
     "model_name": "FloatProgressModel",
     "state": {
      "_dom_classes": [],
      "_model_module": "@jupyter-widgets/controls",
      "_model_module_version": "1.5.0",
      "_model_name": "FloatProgressModel",
      "_view_count": null,
      "_view_module": "@jupyter-widgets/controls",
      "_view_module_version": "1.5.0",
      "_view_name": "ProgressView",
      "bar_style": "success",
      "description": "",
      "description_tooltip": null,
      "layout": "IPY_MODEL_c0adca4d46be49d38c143e2082d38044",
      "max": 28,
      "min": 0,
      "orientation": "horizontal",
      "style": "IPY_MODEL_90ae90e1174f4f75b7782256acfcdba3",
      "value": 28
     }
    },
    "09edd70016cc46b7bfce31da7987da6f": {
     "model_module": "@jupyter-widgets/base",
     "model_module_version": "1.2.0",
     "model_name": "LayoutModel",
     "state": {
      "_model_module": "@jupyter-widgets/base",
      "_model_module_version": "1.2.0",
      "_model_name": "LayoutModel",
      "_view_count": null,
      "_view_module": "@jupyter-widgets/base",
      "_view_module_version": "1.2.0",
      "_view_name": "LayoutView",
      "align_content": null,
      "align_items": null,
      "align_self": null,
      "border": null,
      "bottom": null,
      "display": null,
      "flex": null,
      "flex_flow": null,
      "grid_area": null,
      "grid_auto_columns": null,
      "grid_auto_flow": null,
      "grid_auto_rows": null,
      "grid_column": null,
      "grid_gap": null,
      "grid_row": null,
      "grid_template_areas": null,
      "grid_template_columns": null,
      "grid_template_rows": null,
      "height": null,
      "justify_content": null,
      "justify_items": null,
      "left": null,
      "margin": null,
      "max_height": null,
      "max_width": null,
      "min_height": null,
      "min_width": null,
      "object_fit": null,
      "object_position": null,
      "order": null,
      "overflow": null,
      "overflow_x": null,
      "overflow_y": null,
      "padding": null,
      "right": null,
      "top": null,
      "visibility": null,
      "width": null
     }
    },
    "0d448277537d42a09da9030fcd5bef68": {
     "model_module": "@jupyter-widgets/base",
     "model_module_version": "1.2.0",
     "model_name": "LayoutModel",
     "state": {
      "_model_module": "@jupyter-widgets/base",
      "_model_module_version": "1.2.0",
      "_model_name": "LayoutModel",
      "_view_count": null,
      "_view_module": "@jupyter-widgets/base",
      "_view_module_version": "1.2.0",
      "_view_name": "LayoutView",
      "align_content": null,
      "align_items": null,
      "align_self": null,
      "border": null,
      "bottom": null,
      "display": null,
      "flex": null,
      "flex_flow": null,
      "grid_area": null,
      "grid_auto_columns": null,
      "grid_auto_flow": null,
      "grid_auto_rows": null,
      "grid_column": null,
      "grid_gap": null,
      "grid_row": null,
      "grid_template_areas": null,
      "grid_template_columns": null,
      "grid_template_rows": null,
      "height": null,
      "justify_content": null,
      "justify_items": null,
      "left": null,
      "margin": null,
      "max_height": null,
      "max_width": null,
      "min_height": null,
      "min_width": null,
      "object_fit": null,
      "object_position": null,
      "order": null,
      "overflow": null,
      "overflow_x": null,
      "overflow_y": null,
      "padding": null,
      "right": null,
      "top": null,
      "visibility": null,
      "width": null
     }
    },
    "0ef17d67624d47aaa11267e25e9d74cf": {
     "model_module": "@jupyter-widgets/base",
     "model_module_version": "1.2.0",
     "model_name": "LayoutModel",
     "state": {
      "_model_module": "@jupyter-widgets/base",
      "_model_module_version": "1.2.0",
      "_model_name": "LayoutModel",
      "_view_count": null,
      "_view_module": "@jupyter-widgets/base",
      "_view_module_version": "1.2.0",
      "_view_name": "LayoutView",
      "align_content": null,
      "align_items": null,
      "align_self": null,
      "border": null,
      "bottom": null,
      "display": null,
      "flex": null,
      "flex_flow": null,
      "grid_area": null,
      "grid_auto_columns": null,
      "grid_auto_flow": null,
      "grid_auto_rows": null,
      "grid_column": null,
      "grid_gap": null,
      "grid_row": null,
      "grid_template_areas": null,
      "grid_template_columns": null,
      "grid_template_rows": null,
      "height": null,
      "justify_content": null,
      "justify_items": null,
      "left": null,
      "margin": null,
      "max_height": null,
      "max_width": null,
      "min_height": null,
      "min_width": null,
      "object_fit": null,
      "object_position": null,
      "order": null,
      "overflow": null,
      "overflow_x": null,
      "overflow_y": null,
      "padding": null,
      "right": null,
      "top": null,
      "visibility": null,
      "width": null
     }
    },
    "1224b66105174e9b8d1d05ce0cdb23c2": {
     "model_module": "@jupyter-widgets/controls",
     "model_module_version": "1.5.0",
     "model_name": "HBoxModel",
     "state": {
      "_dom_classes": [],
      "_model_module": "@jupyter-widgets/controls",
      "_model_module_version": "1.5.0",
      "_model_name": "HBoxModel",
      "_view_count": null,
      "_view_module": "@jupyter-widgets/controls",
      "_view_module_version": "1.5.0",
      "_view_name": "HBoxView",
      "box_style": "",
      "children": [
       "IPY_MODEL_d0ce4c764d154260bc63f239ab6c293e",
       "IPY_MODEL_02fca453a235406da964d27124ea642e",
       "IPY_MODEL_7dd1fd405da7459b95470ce4024d3451"
      ],
      "layout": "IPY_MODEL_8611e3be7c024417b9c606f8a34391cd"
     }
    },
    "1706991083394bbcaeae77e16392eaf4": {
     "model_module": "@jupyter-widgets/base",
     "model_module_version": "1.2.0",
     "model_name": "LayoutModel",
     "state": {
      "_model_module": "@jupyter-widgets/base",
      "_model_module_version": "1.2.0",
      "_model_name": "LayoutModel",
      "_view_count": null,
      "_view_module": "@jupyter-widgets/base",
      "_view_module_version": "1.2.0",
      "_view_name": "LayoutView",
      "align_content": null,
      "align_items": null,
      "align_self": null,
      "border": null,
      "bottom": null,
      "display": null,
      "flex": null,
      "flex_flow": null,
      "grid_area": null,
      "grid_auto_columns": null,
      "grid_auto_flow": null,
      "grid_auto_rows": null,
      "grid_column": null,
      "grid_gap": null,
      "grid_row": null,
      "grid_template_areas": null,
      "grid_template_columns": null,
      "grid_template_rows": null,
      "height": null,
      "justify_content": null,
      "justify_items": null,
      "left": null,
      "margin": null,
      "max_height": null,
      "max_width": null,
      "min_height": null,
      "min_width": null,
      "object_fit": null,
      "object_position": null,
      "order": null,
      "overflow": null,
      "overflow_x": null,
      "overflow_y": null,
      "padding": null,
      "right": null,
      "top": null,
      "visibility": null,
      "width": null
     }
    },
    "1f7a8bd933ac40609f519ecd223b1bd1": {
     "model_module": "@jupyter-widgets/base",
     "model_module_version": "1.2.0",
     "model_name": "LayoutModel",
     "state": {
      "_model_module": "@jupyter-widgets/base",
      "_model_module_version": "1.2.0",
      "_model_name": "LayoutModel",
      "_view_count": null,
      "_view_module": "@jupyter-widgets/base",
      "_view_module_version": "1.2.0",
      "_view_name": "LayoutView",
      "align_content": null,
      "align_items": null,
      "align_self": null,
      "border": null,
      "bottom": null,
      "display": null,
      "flex": null,
      "flex_flow": null,
      "grid_area": null,
      "grid_auto_columns": null,
      "grid_auto_flow": null,
      "grid_auto_rows": null,
      "grid_column": null,
      "grid_gap": null,
      "grid_row": null,
      "grid_template_areas": null,
      "grid_template_columns": null,
      "grid_template_rows": null,
      "height": null,
      "justify_content": null,
      "justify_items": null,
      "left": null,
      "margin": null,
      "max_height": null,
      "max_width": null,
      "min_height": null,
      "min_width": null,
      "object_fit": null,
      "object_position": null,
      "order": null,
      "overflow": null,
      "overflow_x": null,
      "overflow_y": null,
      "padding": null,
      "right": null,
      "top": null,
      "visibility": null,
      "width": null
     }
    },
    "2556594bdd154d61b8face01917e1fdc": {
     "model_module": "@jupyter-widgets/controls",
     "model_module_version": "1.5.0",
     "model_name": "DescriptionStyleModel",
     "state": {
      "_model_module": "@jupyter-widgets/controls",
      "_model_module_version": "1.5.0",
      "_model_name": "DescriptionStyleModel",
      "_view_count": null,
      "_view_module": "@jupyter-widgets/base",
      "_view_module_version": "1.2.0",
      "_view_name": "StyleView",
      "description_width": ""
     }
    },
    "2b758b7bb6ab47418df6960fae9be25c": {
     "model_module": "@jupyter-widgets/controls",
     "model_module_version": "1.5.0",
     "model_name": "ProgressStyleModel",
     "state": {
      "_model_module": "@jupyter-widgets/controls",
      "_model_module_version": "1.5.0",
      "_model_name": "ProgressStyleModel",
      "_view_count": null,
      "_view_module": "@jupyter-widgets/base",
      "_view_module_version": "1.2.0",
      "_view_name": "StyleView",
      "bar_color": null,
      "description_width": ""
     }
    },
    "3631b77c77a54d1eaf0806649549e3e5": {
     "model_module": "@jupyter-widgets/controls",
     "model_module_version": "1.5.0",
     "model_name": "DescriptionStyleModel",
     "state": {
      "_model_module": "@jupyter-widgets/controls",
      "_model_module_version": "1.5.0",
      "_model_name": "DescriptionStyleModel",
      "_view_count": null,
      "_view_module": "@jupyter-widgets/base",
      "_view_module_version": "1.2.0",
      "_view_name": "StyleView",
      "description_width": ""
     }
    },
    "5173a40f0ed6431794107090316afb7f": {
     "model_module": "@jupyter-widgets/base",
     "model_module_version": "1.2.0",
     "model_name": "LayoutModel",
     "state": {
      "_model_module": "@jupyter-widgets/base",
      "_model_module_version": "1.2.0",
      "_model_name": "LayoutModel",
      "_view_count": null,
      "_view_module": "@jupyter-widgets/base",
      "_view_module_version": "1.2.0",
      "_view_name": "LayoutView",
      "align_content": null,
      "align_items": null,
      "align_self": null,
      "border": null,
      "bottom": null,
      "display": null,
      "flex": null,
      "flex_flow": null,
      "grid_area": null,
      "grid_auto_columns": null,
      "grid_auto_flow": null,
      "grid_auto_rows": null,
      "grid_column": null,
      "grid_gap": null,
      "grid_row": null,
      "grid_template_areas": null,
      "grid_template_columns": null,
      "grid_template_rows": null,
      "height": null,
      "justify_content": null,
      "justify_items": null,
      "left": null,
      "margin": null,
      "max_height": null,
      "max_width": null,
      "min_height": null,
      "min_width": null,
      "object_fit": null,
      "object_position": null,
      "order": null,
      "overflow": null,
      "overflow_x": null,
      "overflow_y": null,
      "padding": null,
      "right": null,
      "top": null,
      "visibility": null,
      "width": null
     }
    },
    "519965a98db247e98b4d8af0dd785855": {
     "model_module": "@jupyter-widgets/base",
     "model_module_version": "1.2.0",
     "model_name": "LayoutModel",
     "state": {
      "_model_module": "@jupyter-widgets/base",
      "_model_module_version": "1.2.0",
      "_model_name": "LayoutModel",
      "_view_count": null,
      "_view_module": "@jupyter-widgets/base",
      "_view_module_version": "1.2.0",
      "_view_name": "LayoutView",
      "align_content": null,
      "align_items": null,
      "align_self": null,
      "border": null,
      "bottom": null,
      "display": null,
      "flex": null,
      "flex_flow": null,
      "grid_area": null,
      "grid_auto_columns": null,
      "grid_auto_flow": null,
      "grid_auto_rows": null,
      "grid_column": null,
      "grid_gap": null,
      "grid_row": null,
      "grid_template_areas": null,
      "grid_template_columns": null,
      "grid_template_rows": null,
      "height": null,
      "justify_content": null,
      "justify_items": null,
      "left": null,
      "margin": null,
      "max_height": null,
      "max_width": null,
      "min_height": null,
      "min_width": null,
      "object_fit": null,
      "object_position": null,
      "order": null,
      "overflow": null,
      "overflow_x": null,
      "overflow_y": null,
      "padding": null,
      "right": null,
      "top": null,
      "visibility": null,
      "width": null
     }
    },
    "568457e6682440069237f3890865b982": {
     "model_module": "@jupyter-widgets/controls",
     "model_module_version": "1.5.0",
     "model_name": "FloatProgressModel",
     "state": {
      "_dom_classes": [],
      "_model_module": "@jupyter-widgets/controls",
      "_model_module_version": "1.5.0",
      "_model_name": "FloatProgressModel",
      "_view_count": null,
      "_view_module": "@jupyter-widgets/controls",
      "_view_module_version": "1.5.0",
      "_view_name": "ProgressView",
      "bar_style": "success",
      "description": "",
      "description_tooltip": null,
      "layout": "IPY_MODEL_eec51bfc0f4b46219522a308fb878dce",
      "max": 225062,
      "min": 0,
      "orientation": "horizontal",
      "style": "IPY_MODEL_6ff91497f5ca4f568196894c5d535faf",
      "value": 225062
     }
    },
    "5cd515344e5e48f882edbfd29f9b8994": {
     "model_module": "@jupyter-widgets/base",
     "model_module_version": "1.2.0",
     "model_name": "LayoutModel",
     "state": {
      "_model_module": "@jupyter-widgets/base",
      "_model_module_version": "1.2.0",
      "_model_name": "LayoutModel",
      "_view_count": null,
      "_view_module": "@jupyter-widgets/base",
      "_view_module_version": "1.2.0",
      "_view_name": "LayoutView",
      "align_content": null,
      "align_items": null,
      "align_self": null,
      "border": null,
      "bottom": null,
      "display": null,
      "flex": null,
      "flex_flow": null,
      "grid_area": null,
      "grid_auto_columns": null,
      "grid_auto_flow": null,
      "grid_auto_rows": null,
      "grid_column": null,
      "grid_gap": null,
      "grid_row": null,
      "grid_template_areas": null,
      "grid_template_columns": null,
      "grid_template_rows": null,
      "height": null,
      "justify_content": null,
      "justify_items": null,
      "left": null,
      "margin": null,
      "max_height": null,
      "max_width": null,
      "min_height": null,
      "min_width": null,
      "object_fit": null,
      "object_position": null,
      "order": null,
      "overflow": null,
      "overflow_x": null,
      "overflow_y": null,
      "padding": null,
      "right": null,
      "top": null,
      "visibility": null,
      "width": null
     }
    },
    "61c990cc1fbe45a9afd45ee9d6c4d4ff": {
     "model_module": "@jupyter-widgets/controls",
     "model_module_version": "1.5.0",
     "model_name": "DescriptionStyleModel",
     "state": {
      "_model_module": "@jupyter-widgets/controls",
      "_model_module_version": "1.5.0",
      "_model_name": "DescriptionStyleModel",
      "_view_count": null,
      "_view_module": "@jupyter-widgets/base",
      "_view_module_version": "1.2.0",
      "_view_name": "StyleView",
      "description_width": ""
     }
    },
    "61cc7825fa684035b1417878efa33102": {
     "model_module": "@jupyter-widgets/controls",
     "model_module_version": "1.5.0",
     "model_name": "HBoxModel",
     "state": {
      "_dom_classes": [],
      "_model_module": "@jupyter-widgets/controls",
      "_model_module_version": "1.5.0",
      "_model_name": "HBoxModel",
      "_view_count": null,
      "_view_module": "@jupyter-widgets/controls",
      "_view_module_version": "1.5.0",
      "_view_name": "HBoxView",
      "box_style": "",
      "children": [
       "IPY_MODEL_ecfaca1039394fbf9e1329f02bea99ce",
       "IPY_MODEL_990e71f2947643e590729942b947c3d6",
       "IPY_MODEL_f213f7883107475da17fe1caf77e9b3d"
      ],
      "layout": "IPY_MODEL_0ef17d67624d47aaa11267e25e9d74cf"
     }
    },
    "6691b9872cf6417dbc0c75116725825e": {
     "model_module": "@jupyter-widgets/controls",
     "model_module_version": "1.5.0",
     "model_name": "HTMLModel",
     "state": {
      "_dom_classes": [],
      "_model_module": "@jupyter-widgets/controls",
      "_model_module_version": "1.5.0",
      "_model_name": "HTMLModel",
      "_view_count": null,
      "_view_module": "@jupyter-widgets/controls",
      "_view_module_version": "1.5.0",
      "_view_name": "HTMLView",
      "description": "",
      "description_tooltip": null,
      "layout": "IPY_MODEL_0d448277537d42a09da9030fcd5bef68",
      "placeholder": "​",
      "style": "IPY_MODEL_cd877d1b0aa845e784f7a271541c1c84",
      "value": " 225k/225k [00:00&lt;00:00, 4.31MB/s]"
     }
    },
    "6ff91497f5ca4f568196894c5d535faf": {
     "model_module": "@jupyter-widgets/controls",
     "model_module_version": "1.5.0",
     "model_name": "ProgressStyleModel",
     "state": {
      "_model_module": "@jupyter-widgets/controls",
      "_model_module_version": "1.5.0",
      "_model_name": "ProgressStyleModel",
      "_view_count": null,
      "_view_module": "@jupyter-widgets/base",
      "_view_module_version": "1.2.0",
      "_view_name": "StyleView",
      "bar_color": null,
      "description_width": ""
     }
    },
    "736af8b6ae5e48c7abc919ccdb90b713": {
     "model_module": "@jupyter-widgets/controls",
     "model_module_version": "1.5.0",
     "model_name": "DescriptionStyleModel",
     "state": {
      "_model_module": "@jupyter-widgets/controls",
      "_model_module_version": "1.5.0",
      "_model_name": "DescriptionStyleModel",
      "_view_count": null,
      "_view_module": "@jupyter-widgets/base",
      "_view_module_version": "1.2.0",
      "_view_name": "StyleView",
      "description_width": ""
     }
    },
    "7dd1fd405da7459b95470ce4024d3451": {
     "model_module": "@jupyter-widgets/controls",
     "model_module_version": "1.5.0",
     "model_name": "HTMLModel",
     "state": {
      "_dom_classes": [],
      "_model_module": "@jupyter-widgets/controls",
      "_model_module_version": "1.5.0",
      "_model_name": "HTMLModel",
      "_view_count": null,
      "_view_module": "@jupyter-widgets/controls",
      "_view_module_version": "1.5.0",
      "_view_name": "HTMLView",
      "description": "",
      "description_tooltip": null,
      "layout": "IPY_MODEL_b1ca0360ce104497a616c9e589bbdaf1",
      "placeholder": "​",
      "style": "IPY_MODEL_b852aecacdee4413a18d0cfea6650d99",
      "value": " 28.0/28.0 [00:00&lt;00:00, 2.08kB/s]"
     }
    },
    "7e25a48cdb1d4cc19caf48c43fd2ca1d": {
     "model_module": "@jupyter-widgets/base",
     "model_module_version": "1.2.0",
     "model_name": "LayoutModel",
     "state": {
      "_model_module": "@jupyter-widgets/base",
      "_model_module_version": "1.2.0",
      "_model_name": "LayoutModel",
      "_view_count": null,
      "_view_module": "@jupyter-widgets/base",
      "_view_module_version": "1.2.0",
      "_view_name": "LayoutView",
      "align_content": null,
      "align_items": null,
      "align_self": null,
      "border": null,
      "bottom": null,
      "display": null,
      "flex": null,
      "flex_flow": null,
      "grid_area": null,
      "grid_auto_columns": null,
      "grid_auto_flow": null,
      "grid_auto_rows": null,
      "grid_column": null,
      "grid_gap": null,
      "grid_row": null,
      "grid_template_areas": null,
      "grid_template_columns": null,
      "grid_template_rows": null,
      "height": null,
      "justify_content": null,
      "justify_items": null,
      "left": null,
      "margin": null,
      "max_height": null,
      "max_width": null,
      "min_height": null,
      "min_width": null,
      "object_fit": null,
      "object_position": null,
      "order": null,
      "overflow": null,
      "overflow_x": null,
      "overflow_y": null,
      "padding": null,
      "right": null,
      "top": null,
      "visibility": null,
      "width": null
     }
    },
    "84af3868dd5f4d0ebb12cb9edf1f8628": {
     "model_module": "@jupyter-widgets/base",
     "model_module_version": "1.2.0",
     "model_name": "LayoutModel",
     "state": {
      "_model_module": "@jupyter-widgets/base",
      "_model_module_version": "1.2.0",
      "_model_name": "LayoutModel",
      "_view_count": null,
      "_view_module": "@jupyter-widgets/base",
      "_view_module_version": "1.2.0",
      "_view_name": "LayoutView",
      "align_content": null,
      "align_items": null,
      "align_self": null,
      "border": null,
      "bottom": null,
      "display": null,
      "flex": null,
      "flex_flow": null,
      "grid_area": null,
      "grid_auto_columns": null,
      "grid_auto_flow": null,
      "grid_auto_rows": null,
      "grid_column": null,
      "grid_gap": null,
      "grid_row": null,
      "grid_template_areas": null,
      "grid_template_columns": null,
      "grid_template_rows": null,
      "height": null,
      "justify_content": null,
      "justify_items": null,
      "left": null,
      "margin": null,
      "max_height": null,
      "max_width": null,
      "min_height": null,
      "min_width": null,
      "object_fit": null,
      "object_position": null,
      "order": null,
      "overflow": null,
      "overflow_x": null,
      "overflow_y": null,
      "padding": null,
      "right": null,
      "top": null,
      "visibility": null,
      "width": null
     }
    },
    "8611e3be7c024417b9c606f8a34391cd": {
     "model_module": "@jupyter-widgets/base",
     "model_module_version": "1.2.0",
     "model_name": "LayoutModel",
     "state": {
      "_model_module": "@jupyter-widgets/base",
      "_model_module_version": "1.2.0",
      "_model_name": "LayoutModel",
      "_view_count": null,
      "_view_module": "@jupyter-widgets/base",
      "_view_module_version": "1.2.0",
      "_view_name": "LayoutView",
      "align_content": null,
      "align_items": null,
      "align_self": null,
      "border": null,
      "bottom": null,
      "display": null,
      "flex": null,
      "flex_flow": null,
      "grid_area": null,
      "grid_auto_columns": null,
      "grid_auto_flow": null,
      "grid_auto_rows": null,
      "grid_column": null,
      "grid_gap": null,
      "grid_row": null,
      "grid_template_areas": null,
      "grid_template_columns": null,
      "grid_template_rows": null,
      "height": null,
      "justify_content": null,
      "justify_items": null,
      "left": null,
      "margin": null,
      "max_height": null,
      "max_width": null,
      "min_height": null,
      "min_width": null,
      "object_fit": null,
      "object_position": null,
      "order": null,
      "overflow": null,
      "overflow_x": null,
      "overflow_y": null,
      "padding": null,
      "right": null,
      "top": null,
      "visibility": null,
      "width": null
     }
    },
    "86bb3dbd85ff428ba8cfd2d164b9614c": {
     "model_module": "@jupyter-widgets/controls",
     "model_module_version": "1.5.0",
     "model_name": "FloatProgressModel",
     "state": {
      "_dom_classes": [],
      "_model_module": "@jupyter-widgets/controls",
      "_model_module_version": "1.5.0",
      "_model_name": "FloatProgressModel",
      "_view_count": null,
      "_view_module": "@jupyter-widgets/controls",
      "_view_module_version": "1.5.0",
      "_view_name": "ProgressView",
      "bar_style": "success",
      "description": "",
      "description_tooltip": null,
      "layout": "IPY_MODEL_09edd70016cc46b7bfce31da7987da6f",
      "max": 440474434,
      "min": 0,
      "orientation": "horizontal",
      "style": "IPY_MODEL_a39c96d6c0544cee8fa845ab1904bcc7",
      "value": 440474434
     }
    },
    "90ae90e1174f4f75b7782256acfcdba3": {
     "model_module": "@jupyter-widgets/controls",
     "model_module_version": "1.5.0",
     "model_name": "ProgressStyleModel",
     "state": {
      "_model_module": "@jupyter-widgets/controls",
      "_model_module_version": "1.5.0",
      "_model_name": "ProgressStyleModel",
      "_view_count": null,
      "_view_module": "@jupyter-widgets/base",
      "_view_module_version": "1.2.0",
      "_view_name": "StyleView",
      "bar_color": null,
      "description_width": ""
     }
    },
    "925c6a0535934b4eba855bd97d006861": {
     "model_module": "@jupyter-widgets/controls",
     "model_module_version": "1.5.0",
     "model_name": "HTMLModel",
     "state": {
      "_dom_classes": [],
      "_model_module": "@jupyter-widgets/controls",
      "_model_module_version": "1.5.0",
      "_model_name": "HTMLModel",
      "_view_count": null,
      "_view_module": "@jupyter-widgets/controls",
      "_view_module_version": "1.5.0",
      "_view_name": "HTMLView",
      "description": "",
      "description_tooltip": null,
      "layout": "IPY_MODEL_519965a98db247e98b4d8af0dd785855",
      "placeholder": "​",
      "style": "IPY_MODEL_3631b77c77a54d1eaf0806649549e3e5",
      "value": " 440M/440M [00:02&lt;00:00, 245MB/s]"
     }
    },
    "96e31337e8364e8ebec9eecfd6fc04c4": {
     "model_module": "@jupyter-widgets/controls",
     "model_module_version": "1.5.0",
     "model_name": "HBoxModel",
     "state": {
      "_dom_classes": [],
      "_model_module": "@jupyter-widgets/controls",
      "_model_module_version": "1.5.0",
      "_model_name": "HBoxModel",
      "_view_count": null,
      "_view_module": "@jupyter-widgets/controls",
      "_view_module_version": "1.5.0",
      "_view_name": "HBoxView",
      "box_style": "",
      "children": [
       "IPY_MODEL_fce812cf6b7b4f46999475bb64692f4b",
       "IPY_MODEL_568457e6682440069237f3890865b982",
       "IPY_MODEL_6691b9872cf6417dbc0c75116725825e"
      ],
      "layout": "IPY_MODEL_5cd515344e5e48f882edbfd29f9b8994"
     }
    },
    "990e71f2947643e590729942b947c3d6": {
     "model_module": "@jupyter-widgets/controls",
     "model_module_version": "1.5.0",
     "model_name": "FloatProgressModel",
     "state": {
      "_dom_classes": [],
      "_model_module": "@jupyter-widgets/controls",
      "_model_module_version": "1.5.0",
      "_model_name": "FloatProgressModel",
      "_view_count": null,
      "_view_module": "@jupyter-widgets/controls",
      "_view_module_version": "1.5.0",
      "_view_name": "ProgressView",
      "bar_style": "success",
      "description": "",
      "description_tooltip": null,
      "layout": "IPY_MODEL_84af3868dd5f4d0ebb12cb9edf1f8628",
      "max": 385,
      "min": 0,
      "orientation": "horizontal",
      "style": "IPY_MODEL_2b758b7bb6ab47418df6960fae9be25c",
      "value": 385
     }
    },
    "9a7532f6bbd84d42934e6b4cae7ad16f": {
     "model_module": "@jupyter-widgets/base",
     "model_module_version": "1.2.0",
     "model_name": "LayoutModel",
     "state": {
      "_model_module": "@jupyter-widgets/base",
      "_model_module_version": "1.2.0",
      "_model_name": "LayoutModel",
      "_view_count": null,
      "_view_module": "@jupyter-widgets/base",
      "_view_module_version": "1.2.0",
      "_view_name": "LayoutView",
      "align_content": null,
      "align_items": null,
      "align_self": null,
      "border": null,
      "bottom": null,
      "display": null,
      "flex": null,
      "flex_flow": null,
      "grid_area": null,
      "grid_auto_columns": null,
      "grid_auto_flow": null,
      "grid_auto_rows": null,
      "grid_column": null,
      "grid_gap": null,
      "grid_row": null,
      "grid_template_areas": null,
      "grid_template_columns": null,
      "grid_template_rows": null,
      "height": null,
      "justify_content": null,
      "justify_items": null,
      "left": null,
      "margin": null,
      "max_height": null,
      "max_width": null,
      "min_height": null,
      "min_width": null,
      "object_fit": null,
      "object_position": null,
      "order": null,
      "overflow": null,
      "overflow_x": null,
      "overflow_y": null,
      "padding": null,
      "right": null,
      "top": null,
      "visibility": null,
      "width": null
     }
    },
    "a39c96d6c0544cee8fa845ab1904bcc7": {
     "model_module": "@jupyter-widgets/controls",
     "model_module_version": "1.5.0",
     "model_name": "ProgressStyleModel",
     "state": {
      "_model_module": "@jupyter-widgets/controls",
      "_model_module_version": "1.5.0",
      "_model_name": "ProgressStyleModel",
      "_view_count": null,
      "_view_module": "@jupyter-widgets/base",
      "_view_module_version": "1.2.0",
      "_view_name": "StyleView",
      "bar_color": null,
      "description_width": ""
     }
    },
    "b1ca0360ce104497a616c9e589bbdaf1": {
     "model_module": "@jupyter-widgets/base",
     "model_module_version": "1.2.0",
     "model_name": "LayoutModel",
     "state": {
      "_model_module": "@jupyter-widgets/base",
      "_model_module_version": "1.2.0",
      "_model_name": "LayoutModel",
      "_view_count": null,
      "_view_module": "@jupyter-widgets/base",
      "_view_module_version": "1.2.0",
      "_view_name": "LayoutView",
      "align_content": null,
      "align_items": null,
      "align_self": null,
      "border": null,
      "bottom": null,
      "display": null,
      "flex": null,
      "flex_flow": null,
      "grid_area": null,
      "grid_auto_columns": null,
      "grid_auto_flow": null,
      "grid_auto_rows": null,
      "grid_column": null,
      "grid_gap": null,
      "grid_row": null,
      "grid_template_areas": null,
      "grid_template_columns": null,
      "grid_template_rows": null,
      "height": null,
      "justify_content": null,
      "justify_items": null,
      "left": null,
      "margin": null,
      "max_height": null,
      "max_width": null,
      "min_height": null,
      "min_width": null,
      "object_fit": null,
      "object_position": null,
      "order": null,
      "overflow": null,
      "overflow_x": null,
      "overflow_y": null,
      "padding": null,
      "right": null,
      "top": null,
      "visibility": null,
      "width": null
     }
    },
    "b852aecacdee4413a18d0cfea6650d99": {
     "model_module": "@jupyter-widgets/controls",
     "model_module_version": "1.5.0",
     "model_name": "DescriptionStyleModel",
     "state": {
      "_model_module": "@jupyter-widgets/controls",
      "_model_module_version": "1.5.0",
      "_model_name": "DescriptionStyleModel",
      "_view_count": null,
      "_view_module": "@jupyter-widgets/base",
      "_view_module_version": "1.2.0",
      "_view_name": "StyleView",
      "description_width": ""
     }
    },
    "c0adca4d46be49d38c143e2082d38044": {
     "model_module": "@jupyter-widgets/base",
     "model_module_version": "1.2.0",
     "model_name": "LayoutModel",
     "state": {
      "_model_module": "@jupyter-widgets/base",
      "_model_module_version": "1.2.0",
      "_model_name": "LayoutModel",
      "_view_count": null,
      "_view_module": "@jupyter-widgets/base",
      "_view_module_version": "1.2.0",
      "_view_name": "LayoutView",
      "align_content": null,
      "align_items": null,
      "align_self": null,
      "border": null,
      "bottom": null,
      "display": null,
      "flex": null,
      "flex_flow": null,
      "grid_area": null,
      "grid_auto_columns": null,
      "grid_auto_flow": null,
      "grid_auto_rows": null,
      "grid_column": null,
      "grid_gap": null,
      "grid_row": null,
      "grid_template_areas": null,
      "grid_template_columns": null,
      "grid_template_rows": null,
      "height": null,
      "justify_content": null,
      "justify_items": null,
      "left": null,
      "margin": null,
      "max_height": null,
      "max_width": null,
      "min_height": null,
      "min_width": null,
      "object_fit": null,
      "object_position": null,
      "order": null,
      "overflow": null,
      "overflow_x": null,
      "overflow_y": null,
      "padding": null,
      "right": null,
      "top": null,
      "visibility": null,
      "width": null
     }
    },
    "c9afeba2b4f5406e9243eb98132f1600": {
     "model_module": "@jupyter-widgets/controls",
     "model_module_version": "1.5.0",
     "model_name": "HTMLModel",
     "state": {
      "_dom_classes": [],
      "_model_module": "@jupyter-widgets/controls",
      "_model_module_version": "1.5.0",
      "_model_name": "HTMLModel",
      "_view_count": null,
      "_view_module": "@jupyter-widgets/controls",
      "_view_module_version": "1.5.0",
      "_view_name": "HTMLView",
      "description": "",
      "description_tooltip": null,
      "layout": "IPY_MODEL_7e25a48cdb1d4cc19caf48c43fd2ca1d",
      "placeholder": "​",
      "style": "IPY_MODEL_e62984ffe2c24ca8be6b79507265de26",
      "value": "pytorch_model.bin: 100%"
     }
    },
    "cd877d1b0aa845e784f7a271541c1c84": {
     "model_module": "@jupyter-widgets/controls",
     "model_module_version": "1.5.0",
     "model_name": "DescriptionStyleModel",
     "state": {
      "_model_module": "@jupyter-widgets/controls",
      "_model_module_version": "1.5.0",
      "_model_name": "DescriptionStyleModel",
      "_view_count": null,
      "_view_module": "@jupyter-widgets/base",
      "_view_module_version": "1.2.0",
      "_view_name": "StyleView",
      "description_width": ""
     }
    },
    "d0ce4c764d154260bc63f239ab6c293e": {
     "model_module": "@jupyter-widgets/controls",
     "model_module_version": "1.5.0",
     "model_name": "HTMLModel",
     "state": {
      "_dom_classes": [],
      "_model_module": "@jupyter-widgets/controls",
      "_model_module_version": "1.5.0",
      "_model_name": "HTMLModel",
      "_view_count": null,
      "_view_module": "@jupyter-widgets/controls",
      "_view_module_version": "1.5.0",
      "_view_name": "HTMLView",
      "description": "",
      "description_tooltip": null,
      "layout": "IPY_MODEL_1f7a8bd933ac40609f519ecd223b1bd1",
      "placeholder": "​",
      "style": "IPY_MODEL_2556594bdd154d61b8face01917e1fdc",
      "value": "tokenizer_config.json: 100%"
     }
    },
    "d1627a59e5664e23be227c55f8486d0c": {
     "model_module": "@jupyter-widgets/controls",
     "model_module_version": "1.5.0",
     "model_name": "HBoxModel",
     "state": {
      "_dom_classes": [],
      "_model_module": "@jupyter-widgets/controls",
      "_model_module_version": "1.5.0",
      "_model_name": "HBoxModel",
      "_view_count": null,
      "_view_module": "@jupyter-widgets/controls",
      "_view_module_version": "1.5.0",
      "_view_name": "HBoxView",
      "box_style": "",
      "children": [
       "IPY_MODEL_c9afeba2b4f5406e9243eb98132f1600",
       "IPY_MODEL_86bb3dbd85ff428ba8cfd2d164b9614c",
       "IPY_MODEL_925c6a0535934b4eba855bd97d006861"
      ],
      "layout": "IPY_MODEL_9a7532f6bbd84d42934e6b4cae7ad16f"
     }
    },
    "d22aca2ade3a44119ba92c0970d7b861": {
     "model_module": "@jupyter-widgets/controls",
     "model_module_version": "1.5.0",
     "model_name": "DescriptionStyleModel",
     "state": {
      "_model_module": "@jupyter-widgets/controls",
      "_model_module_version": "1.5.0",
      "_model_name": "DescriptionStyleModel",
      "_view_count": null,
      "_view_module": "@jupyter-widgets/base",
      "_view_module_version": "1.2.0",
      "_view_name": "StyleView",
      "description_width": ""
     }
    },
    "e62984ffe2c24ca8be6b79507265de26": {
     "model_module": "@jupyter-widgets/controls",
     "model_module_version": "1.5.0",
     "model_name": "DescriptionStyleModel",
     "state": {
      "_model_module": "@jupyter-widgets/controls",
      "_model_module_version": "1.5.0",
      "_model_name": "DescriptionStyleModel",
      "_view_count": null,
      "_view_module": "@jupyter-widgets/base",
      "_view_module_version": "1.2.0",
      "_view_name": "StyleView",
      "description_width": ""
     }
    },
    "e9c8627bc1894de5a1685421e0280101": {
     "model_module": "@jupyter-widgets/base",
     "model_module_version": "1.2.0",
     "model_name": "LayoutModel",
     "state": {
      "_model_module": "@jupyter-widgets/base",
      "_model_module_version": "1.2.0",
      "_model_name": "LayoutModel",
      "_view_count": null,
      "_view_module": "@jupyter-widgets/base",
      "_view_module_version": "1.2.0",
      "_view_name": "LayoutView",
      "align_content": null,
      "align_items": null,
      "align_self": null,
      "border": null,
      "bottom": null,
      "display": null,
      "flex": null,
      "flex_flow": null,
      "grid_area": null,
      "grid_auto_columns": null,
      "grid_auto_flow": null,
      "grid_auto_rows": null,
      "grid_column": null,
      "grid_gap": null,
      "grid_row": null,
      "grid_template_areas": null,
      "grid_template_columns": null,
      "grid_template_rows": null,
      "height": null,
      "justify_content": null,
      "justify_items": null,
      "left": null,
      "margin": null,
      "max_height": null,
      "max_width": null,
      "min_height": null,
      "min_width": null,
      "object_fit": null,
      "object_position": null,
      "order": null,
      "overflow": null,
      "overflow_x": null,
      "overflow_y": null,
      "padding": null,
      "right": null,
      "top": null,
      "visibility": null,
      "width": null
     }
    },
    "ecfaca1039394fbf9e1329f02bea99ce": {
     "model_module": "@jupyter-widgets/controls",
     "model_module_version": "1.5.0",
     "model_name": "HTMLModel",
     "state": {
      "_dom_classes": [],
      "_model_module": "@jupyter-widgets/controls",
      "_model_module_version": "1.5.0",
      "_model_name": "HTMLModel",
      "_view_count": null,
      "_view_module": "@jupyter-widgets/controls",
      "_view_module_version": "1.5.0",
      "_view_name": "HTMLView",
      "description": "",
      "description_tooltip": null,
      "layout": "IPY_MODEL_1706991083394bbcaeae77e16392eaf4",
      "placeholder": "​",
      "style": "IPY_MODEL_61c990cc1fbe45a9afd45ee9d6c4d4ff",
      "value": "config.json: 100%"
     }
    },
    "eec51bfc0f4b46219522a308fb878dce": {
     "model_module": "@jupyter-widgets/base",
     "model_module_version": "1.2.0",
     "model_name": "LayoutModel",
     "state": {
      "_model_module": "@jupyter-widgets/base",
      "_model_module_version": "1.2.0",
      "_model_name": "LayoutModel",
      "_view_count": null,
      "_view_module": "@jupyter-widgets/base",
      "_view_module_version": "1.2.0",
      "_view_name": "LayoutView",
      "align_content": null,
      "align_items": null,
      "align_self": null,
      "border": null,
      "bottom": null,
      "display": null,
      "flex": null,
      "flex_flow": null,
      "grid_area": null,
      "grid_auto_columns": null,
      "grid_auto_flow": null,
      "grid_auto_rows": null,
      "grid_column": null,
      "grid_gap": null,
      "grid_row": null,
      "grid_template_areas": null,
      "grid_template_columns": null,
      "grid_template_rows": null,
      "height": null,
      "justify_content": null,
      "justify_items": null,
      "left": null,
      "margin": null,
      "max_height": null,
      "max_width": null,
      "min_height": null,
      "min_width": null,
      "object_fit": null,
      "object_position": null,
      "order": null,
      "overflow": null,
      "overflow_x": null,
      "overflow_y": null,
      "padding": null,
      "right": null,
      "top": null,
      "visibility": null,
      "width": null
     }
    },
    "f213f7883107475da17fe1caf77e9b3d": {
     "model_module": "@jupyter-widgets/controls",
     "model_module_version": "1.5.0",
     "model_name": "HTMLModel",
     "state": {
      "_dom_classes": [],
      "_model_module": "@jupyter-widgets/controls",
      "_model_module_version": "1.5.0",
      "_model_name": "HTMLModel",
      "_view_count": null,
      "_view_module": "@jupyter-widgets/controls",
      "_view_module_version": "1.5.0",
      "_view_name": "HTMLView",
      "description": "",
      "description_tooltip": null,
      "layout": "IPY_MODEL_5173a40f0ed6431794107090316afb7f",
      "placeholder": "​",
      "style": "IPY_MODEL_d22aca2ade3a44119ba92c0970d7b861",
      "value": " 385/385 [00:00&lt;00:00, 33.1kB/s]"
     }
    },
    "fce812cf6b7b4f46999475bb64692f4b": {
     "model_module": "@jupyter-widgets/controls",
     "model_module_version": "1.5.0",
     "model_name": "HTMLModel",
     "state": {
      "_dom_classes": [],
      "_model_module": "@jupyter-widgets/controls",
      "_model_module_version": "1.5.0",
      "_model_name": "HTMLModel",
      "_view_count": null,
      "_view_module": "@jupyter-widgets/controls",
      "_view_module_version": "1.5.0",
      "_view_name": "HTMLView",
      "description": "",
      "description_tooltip": null,
      "layout": "IPY_MODEL_e9c8627bc1894de5a1685421e0280101",
      "placeholder": "​",
      "style": "IPY_MODEL_736af8b6ae5e48c7abc919ccdb90b713",
      "value": "vocab.txt: 100%"
     }
    }
   }
  }
 },
 "nbformat": 4,
 "nbformat_minor": 0
}
