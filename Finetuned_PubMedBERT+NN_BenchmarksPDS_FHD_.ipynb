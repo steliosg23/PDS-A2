{
  "cells": [
    {
      "cell_type": "markdown",
      "metadata": {
        "id": "view-in-github",
        "colab_type": "text"
      },
      "source": [
        "<a href=\"https://colab.research.google.com/github/steliosg23/PDS-A2/blob/main/Finetuned_PubMedBERT%2BNN_BenchmarksPDS_FHD_.ipynb\" target=\"_parent\"><img src=\"https://colab.research.google.com/assets/colab-badge.svg\" alt=\"Open In Colab\"/></a>"
      ]
    },
    {
      "cell_type": "markdown",
      "metadata": {
        "id": "p6e4pRWUUGFk"
      },
      "source": [
        "## Assignement 2\n",
        "### Food Hazard Detection"
      ]
    },
    {
      "cell_type": "markdown",
      "metadata": {
        "id": "9of3N4dpUGF-"
      },
      "source": [
        "# Benchmarks - Advanced Model: PubMedBERT\n",
        "\n",
        "In this task, we aim to classify food safety-related incidents based on two distinct types of input data: short texts (title) and long texts (text).\n",
        "\n",
        "Using Advanced Model: PubMedBERT  \n",
        "\n",
        "\n",
        "For each of these input types, we perform the following two subtasks:\n",
        "\n",
        "**Subtasks (Performed Separately for  title and text):**\n",
        "\n",
        "**Subtask 1:**\n",
        "\n",
        "- Classify hazard-category (general hazard type).\n",
        "\n",
        "- Classify product-category (general product type).\n",
        "\n",
        "**Subtask 2:**\n",
        "\n",
        "- Classify hazard (specific hazard).\n",
        "- Classify product (specific product).\n",
        "\n",
        "We use all features (year, month, day, country, and the text feature) as input.\n",
        "\n",
        "Thus, we treat title and text as two distinct data sources, with each undergoing its own preprocessing, model training, and evaluation for all four targets."
      ]
    },
    {
      "cell_type": "code",
      "source": [
        "from google.colab import drive\n",
        "import pandas as pd\n",
        "\n",
        "# Mount Google Drive\n",
        "drive.mount('/content/drive')\n",
        "\n",
        "# Define the path to the file on Google Drive\n",
        "train_path = '/content/drive/MyDrive/Data/incidents_train.csv'\n",
        "\n",
        "# Load the dataset\n",
        "df = pd.read_csv(train_path)\n",
        "df = df.drop(columns=['Unnamed: 0'])\n"
      ],
      "metadata": {
        "colab": {
          "base_uri": "https://localhost:8080/"
        },
        "id": "k4g33xroGg4P",
        "outputId": "d493ae12-1ec9-4706-d72b-3a12e27e8481"
      },
      "execution_count": null,
      "outputs": [
        {
          "output_type": "stream",
          "name": "stdout",
          "text": [
            "Drive already mounted at /content/drive; to attempt to forcibly remount, call drive.mount(\"/content/drive\", force_remount=True).\n"
          ]
        }
      ]
    },
    {
      "cell_type": "code",
      "source": [
        "import pandas as pd\n",
        "import re\n",
        "from sklearn.model_selection import train_test_split\n",
        "from sklearn.metrics import f1_score, classification_report\n",
        "import torch\n",
        "from transformers import AutoTokenizer, AutoModelForSequenceClassification\n",
        "from torch.utils.data import DataLoader, Dataset\n",
        "import torch.nn as nn\n",
        "import torch.optim as optim\n",
        "from sklearn.preprocessing import LabelEncoder\n",
        "from tqdm import tqdm  # Import tqdm for progress bars\n",
        "import matplotlib.pyplot as plt  # Import matplotlib for plotting\n",
        "\n",
        "# Hyperparameters configuration\n",
        "config = {\n",
        "    'max_len': 128,\n",
        "    'batch_size': 16,\n",
        "    'learning_rate': 2e-5,\n",
        "    'epochs': 5,\n",
        "    'model_name': \"microsoft/BiomedNLP-PubMedBERT-base-uncased-abstract\"\n",
        "}\n",
        "\n",
        "# Set device for training\n",
        "device = torch.device('cuda' if torch.cuda.is_available() else 'cpu')\n",
        "print(f\"Using device: {device}\")\n",
        "\n",
        "# Custom Dataset for Text Data\n",
        "class TextDataset(Dataset):\n",
        "    def __init__(self, texts, labels, tokenizer, max_len):\n",
        "        self.texts = texts\n",
        "        self.labels = labels\n",
        "        self.tokenizer = tokenizer\n",
        "        self.max_len = max_len\n",
        "\n",
        "    def __len__(self):\n",
        "        return len(self.texts)\n",
        "\n",
        "    def __getitem__(self, item):\n",
        "        text = str(self.texts[item])\n",
        "        label = self.labels[item]\n",
        "        encoding = self.tokenizer.encode_plus(\n",
        "            text,\n",
        "            add_special_tokens=True,\n",
        "            max_length=self.max_len,\n",
        "            padding='max_length',\n",
        "            truncation=True,\n",
        "            return_tensors='pt'\n",
        "        )\n",
        "        return {\n",
        "            'input_ids': encoding['input_ids'].flatten(),\n",
        "            'attention_mask': encoding['attention_mask'].flatten(),\n",
        "            'label': torch.tensor(label, dtype=torch.long)\n",
        "        }\n",
        "\n",
        "# Function to clean text (title or text) and remove stopwords\n",
        "def clean_text(text):\n",
        "    text = re.sub(r'[^a-zA-Z0-9\\s]', '', text)\n",
        "    text = text.lower()\n",
        "    text = ' '.join(text.split())\n",
        "    return text\n",
        "\n",
        "# Load tokenizer for Microsoft PubMedBERT model\n",
        "tokenizer = AutoTokenizer.from_pretrained(config['model_name'])\n",
        "\n",
        "# Assuming df is your DataFrame\n",
        "df['title'] = df['title'].apply(clean_text)\n",
        "df['text'] = df['text'].apply(clean_text)\n",
        "\n",
        "# Define relevant features and targets\n",
        "features = ['year', 'month', 'day', 'country']\n",
        "targets_subtask1 = ['hazard-category','product-category']\n",
        "targets_subtask2 = ['hazard','product']\n",
        "\n",
        "# Encode target labels to numeric values\n",
        "label_encoders = {}\n",
        "for target in targets_subtask1 + targets_subtask2:\n",
        "    le = LabelEncoder()\n",
        "    df[target] = le.fit_transform(df[target])\n",
        "    label_encoders[target] = le\n",
        "\n",
        "# Prepare data for both title and text\n",
        "def prepare_data(text_column):\n",
        "    X = df[features + [text_column]]\n",
        "    y_subtask1 = df[targets_subtask1]\n",
        "    y_subtask2 = df[targets_subtask2]\n",
        "\n",
        "    data_splits = {}\n",
        "    for target in targets_subtask1 + targets_subtask2:\n",
        "        X_train, X_test, y_train, y_test = train_test_split(\n",
        "            X, df[target], test_size=0.2, random_state=42\n",
        "        )\n",
        "\n",
        "        # Reset indices to ensure matching\n",
        "        X_train = X_train.reset_index(drop=True)\n",
        "        y_train = y_train.reset_index(drop=True)\n",
        "        X_test = X_test.reset_index(drop=True)\n",
        "        y_test = y_test.reset_index(drop=True)\n",
        "\n",
        "        data_splits[target] = (X_train, X_test, y_train, y_test)\n",
        "\n",
        "    return data_splits\n",
        "\n",
        "# Prepare data for title and text\n",
        "title_splits = prepare_data('title')\n",
        "text_splits = prepare_data('text')\n",
        "\n",
        "# Custom BERT model with additional layers\n",
        "class CustomBertModel(nn.Module):\n",
        "    def __init__(self, model_name, num_labels):\n",
        "        super(CustomBertModel, self).__init__()\n",
        "        # Load pre-trained BERT model\n",
        "        self.bert = AutoModelForSequenceClassification.from_pretrained(model_name, num_labels=num_labels).bert\n",
        "        # Add extra layers after BERT for enhancement\n",
        "        self.fc1 = nn.Linear(self.bert.config.hidden_size, 512)  # First fully connected layer\n",
        "        self.fc2 = nn.Linear(512, 256)  # Second fully connected layer\n",
        "        self.fc3 = nn.Linear(256, num_labels)  # Final layer for classification\n",
        "        self.dropout = nn.Dropout(0.3)  # Dropout layer to reduce overfitting\n",
        "\n",
        "    def forward(self, input_ids, attention_mask):\n",
        "        # BERT outputs\n",
        "        outputs = self.bert(input_ids, attention_mask=attention_mask)\n",
        "        pooled_output = outputs.pooler_output  # Get the pooled output (embedding of [CLS] token)\n",
        "\n",
        "        # Pass through extra layers\n",
        "        x = self.dropout(self.fc1(pooled_output))\n",
        "        x = self.dropout(self.fc2(x))\n",
        "        x = self.fc3(x)\n",
        "\n",
        "        return x\n",
        "\n",
        "# Function to train and evaluate neural network models\n",
        "def train_and_evaluate_nn(data_splits, targets, model_type='title'):\n",
        "    f1_scores = []  # List to store F1 scores for each task\n",
        "\n",
        "    for target in targets:\n",
        "        print(f\"\\nStarting training for task: {target}\")  # Print task message\n",
        "\n",
        "        X_train, X_test, y_train, y_test = data_splits[target]\n",
        "\n",
        "        # Prepare text data using the tokenizer\n",
        "        if model_type == 'title':\n",
        "            texts_train = X_train['title'].values\n",
        "            texts_test = X_test['title'].values\n",
        "        else:\n",
        "            texts_train = X_train['text'].values\n",
        "            texts_test = X_test['text'].values\n",
        "\n",
        "        # Create DataLoader for training and testing\n",
        "        train_dataset = TextDataset(texts_train, y_train, tokenizer, config['max_len'])\n",
        "        test_dataset = TextDataset(texts_test, y_test, tokenizer, config['max_len'])\n",
        "\n",
        "        train_loader = DataLoader(train_dataset, batch_size=config['batch_size'], shuffle=True)\n",
        "        test_loader = DataLoader(test_dataset, batch_size=config['batch_size'], shuffle=False)\n",
        "\n",
        "        # Model setup\n",
        "        num_labels = len(label_encoders[target].classes_)\n",
        "        model = CustomBertModel(model_name=config['model_name'], num_labels=num_labels).to(device)\n",
        "\n",
        "        optimizer = optim.Adam(model.parameters(), lr=config['learning_rate'])\n",
        "        criterion = nn.CrossEntropyLoss()\n",
        "\n",
        "        # Training process\n",
        "        model.train()\n",
        "        for epoch in range(config['epochs']):\n",
        "            print(f\"Epoch {epoch+1}/{config['epochs']} - Training: {target}\")\n",
        "            progress_bar = tqdm(train_loader, desc=f\"Training Epoch {epoch+1}\", total=len(train_loader), leave=True)\n",
        "            for batch in progress_bar:\n",
        "                optimizer.zero_grad()\n",
        "                input_ids = batch['input_ids'].squeeze(1).to(device)\n",
        "                attention_mask = batch['attention_mask'].squeeze(1).to(device)\n",
        "                labels = batch['label'].to(device)\n",
        "\n",
        "                outputs = model(input_ids, attention_mask=attention_mask)\n",
        "                loss = criterion(outputs, labels)\n",
        "                loss.backward()\n",
        "                optimizer.step()\n",
        "                progress_bar.set_postfix(loss=loss.item())\n",
        "\n",
        "        # Evaluation process\n",
        "        print(f\"Evaluating model for task: {target}\")\n",
        "        model.eval()\n",
        "        y_preds = []\n",
        "        y_true = []\n",
        "        with torch.no_grad():\n",
        "            for batch in tqdm(test_loader, desc=\"Evaluating\", total=len(test_loader), leave=True):\n",
        "                input_ids = batch['input_ids'].squeeze(1).to(device)\n",
        "                attention_mask = batch['attention_mask'].squeeze(1).to(device)\n",
        "                labels = batch['label'].to(device)\n",
        "                outputs = model(input_ids, attention_mask=attention_mask)\n",
        "                _, preds = torch.max(outputs, dim=1)\n",
        "                y_preds.extend(preds.cpu().numpy())\n",
        "                y_true.extend(labels.cpu().numpy())\n",
        "\n",
        "        # Decode labels back to original categories using the label encoder\n",
        "        decoded_preds = label_encoders[target].inverse_transform(y_preds)\n",
        "        decoded_true = label_encoders[target].inverse_transform(y_true)\n",
        "\n",
        "        # Calculate F1 score for the task\n",
        "        f1 = f1_score(decoded_true, decoded_preds, average='weighted')\n",
        "        f1_scores.append(f1)\n",
        "        print(f\"F1-Score for {target}: {f1}\")\n",
        "\n",
        "        # Print classification report\n",
        "        print(f\"Classification Report for {target}:\\n\")\n",
        "        print(classification_report(decoded_true, decoded_preds, zero_division=0))\n",
        "\n",
        "    return f1_scores  # Return the list of F1 scores for plotting\n",
        "\n",
        "# Train and evaluate for both title and text\n",
        "print(\"\\nTraining and Evaluating for Title Tasks:\")\n",
        "title_f1_scores = train_and_evaluate_nn(title_splits, targets_subtask1 + targets_subtask2, model_type='title')\n",
        "\n",
        "print(\"\\nTraining and Evaluating for Text Tasks:\")\n",
        "text_f1_scores = train_and_evaluate_nn(text_splits, targets_subtask1 + targets_subtask2, model_type='text')\n",
        "\n",
        "# Create DataFrames for F1 scores for title and text\n",
        "f1_scores_title_df = pd.DataFrame({\n",
        "    'Task': targets_subtask1 + targets_subtask2,\n",
        "    'F1-Score': title_f1_scores\n",
        "})\n",
        "\n",
        "f1_scores_text_df = pd.DataFrame({\n",
        "    'Task': targets_subtask1 + targets_subtask2,\n",
        "    'F1-Score': text_f1_scores\n",
        "})\n",
        "\n",
        "# Plotting the data\n",
        "plt.figure(figsize=(10, 6))\n",
        "\n",
        "index_title = range(len(f1_scores_title_df))  # Position for Title-Focused\n",
        "index_text = [i + len(f1_scores_title_df) for i in range(len(f1_scores_text_df))]  # Position for Text-Focused\n",
        "\n",
        "# Plotting all Title-Focused F1-scores\n",
        "plt.bar(index_title, f1_scores_title_df['F1-Score'], label='Title-Focused')\n",
        "\n",
        "# Plotting all Text-Focused F1-scores (shifted on the x-axis after the Title-Focused bars)\n",
        "plt.bar(index_text, f1_scores_text_df['F1-Score'], label='Text-Focused')\n",
        "\n",
        "# Adding labels and title\n",
        "plt.xlabel('Task')\n",
        "plt.ylabel('F1-Score')\n",
        "plt.title('F1-Scores for Title-Focused and Text-Focused Classification')\n",
        "\n",
        "# Adjusting x-ticks to show all tasks\n",
        "plt.xticks(range(len(f1_scores_title_df) + len(f1_scores_text_df)),\n",
        "           list(f1_scores_title_df['Task']) + list(f1_scores_text_df['Task']),\n",
        "           rotation=45)\n",
        "\n",
        "# Adding legend\n",
        "plt.legend()\n",
        "\n",
        "# Displaying the plot\n",
        "plt.tight_layout()\n",
        "plt.show()\n"
      ],
      "metadata": {
        "colab": {
          "base_uri": "https://localhost:8080/",
          "height": 1000
        },
        "id": "9CWe2Kra5WAe",
        "outputId": "b0a1311a-4647-4918-b2c6-f3c072ef6a94"
      },
      "execution_count": null,
      "outputs": [
        {
          "metadata": {
            "tags": null
          },
          "name": "stdout",
          "output_type": "stream",
          "text": [
            "Using device: cuda\n"
          ]
        },
        {
          "metadata": {
            "tags": null
          },
          "name": "stderr",
          "output_type": "stream",
          "text": [
            "/usr/local/lib/python3.10/dist-packages/huggingface_hub/utils/_auth.py:94: UserWarning: \n",
            "The secret `HF_TOKEN` does not exist in your Colab secrets.\n",
            "To authenticate with the Hugging Face Hub, create a token in your settings tab (https://huggingface.co/settings/tokens), set it as secret in your Google Colab and restart your session.\n",
            "You will be able to reuse this secret in all of your notebooks.\n",
            "Please note that authentication is recommended but still optional to access public models or datasets.\n",
            "  warnings.warn(\n"
          ]
        },
        {
          "metadata": {
            "tags": null
          },
          "name": "stdout",
          "output_type": "stream",
          "text": [
            "\n",
            "Training and Evaluating for Title Tasks:\n",
            "\n",
            "Starting training for task: hazard-category\n"
          ]
        },
        {
          "metadata": {
            "tags": null
          },
          "name": "stderr",
          "output_type": "stream",
          "text": [
            "Some weights of BertForSequenceClassification were not initialized from the model checkpoint at microsoft/BiomedNLP-PubMedBERT-base-uncased-abstract and are newly initialized: ['classifier.bias', 'classifier.weight']\n",
            "You should probably TRAIN this model on a down-stream task to be able to use it for predictions and inference.\n"
          ]
        },
        {
          "metadata": {
            "tags": null
          },
          "name": "stdout",
          "output_type": "stream",
          "text": [
            "Epoch 1/5 - Training: hazard-category\n"
          ]
        },
        {
          "metadata": {
            "tags": null
          },
          "name": "stderr",
          "output_type": "stream",
          "text": [
            "Training Epoch 1: 100%|██████████| 255/255 [00:23<00:00, 11.07it/s, loss=0.606]\n"
          ]
        },
        {
          "metadata": {
            "tags": null
          },
          "name": "stdout",
          "output_type": "stream",
          "text": [
            "Epoch 2/5 - Training: hazard-category\n"
          ]
        },
        {
          "metadata": {
            "tags": null
          },
          "name": "stderr",
          "output_type": "stream",
          "text": [
            "Training Epoch 2: 100%|██████████| 255/255 [00:22<00:00, 11.50it/s, loss=0.961]\n"
          ]
        },
        {
          "metadata": {
            "tags": null
          },
          "name": "stdout",
          "output_type": "stream",
          "text": [
            "Epoch 3/5 - Training: hazard-category\n"
          ]
        },
        {
          "metadata": {
            "tags": null
          },
          "name": "stderr",
          "output_type": "stream",
          "text": [
            "Training Epoch 3: 100%|██████████| 255/255 [00:22<00:00, 11.55it/s, loss=0.0675]\n"
          ]
        },
        {
          "metadata": {
            "tags": null
          },
          "name": "stdout",
          "output_type": "stream",
          "text": [
            "Epoch 4/5 - Training: hazard-category\n"
          ]
        },
        {
          "metadata": {
            "tags": null
          },
          "name": "stderr",
          "output_type": "stream",
          "text": [
            "Training Epoch 4: 100%|██████████| 255/255 [00:22<00:00, 11.55it/s, loss=0.172]\n"
          ]
        },
        {
          "metadata": {
            "tags": null
          },
          "name": "stdout",
          "output_type": "stream",
          "text": [
            "Epoch 5/5 - Training: hazard-category\n"
          ]
        },
        {
          "metadata": {
            "tags": null
          },
          "name": "stderr",
          "output_type": "stream",
          "text": [
            "Training Epoch 5: 100%|██████████| 255/255 [00:22<00:00, 11.52it/s, loss=0.0163]\n"
          ]
        },
        {
          "metadata": {
            "tags": null
          },
          "name": "stdout",
          "output_type": "stream",
          "text": [
            "Evaluating model for task: hazard-category\n"
          ]
        },
        {
          "metadata": {
            "tags": null
          },
          "name": "stderr",
          "output_type": "stream",
          "text": [
            "Evaluating: 100%|██████████| 64/64 [00:01<00:00, 33.77it/s]\n"
          ]
        },
        {
          "metadata": {
            "tags": null
          },
          "name": "stdout",
          "output_type": "stream",
          "text": [
            "F1-Score for hazard-category: 0.8343720161321142\n",
            "Classification Report for hazard-category:\n",
            "\n",
            "                                precision    recall  f1-score   support\n",
            "\n",
            "                     allergens       0.87      0.92      0.89       377\n",
            "                    biological       0.92      0.91      0.91       339\n",
            "                      chemical       0.73      0.66      0.69        68\n",
            "food additives and flavourings       1.00      0.40      0.57         5\n",
            "                foreign bodies       0.70      0.86      0.77       111\n",
            "                         fraud       0.86      0.56      0.68        68\n",
            "                     migration       0.00      0.00      0.00         1\n",
            "          organoleptic aspects       0.33      0.30      0.32        10\n",
            "                  other hazard       0.54      0.52      0.53        27\n",
            "              packaging defect       0.60      0.27      0.38        11\n",
            "\n",
            "                      accuracy                           0.84      1017\n",
            "                     macro avg       0.65      0.54      0.57      1017\n",
            "                  weighted avg       0.84      0.84      0.83      1017\n",
            "\n",
            "\n",
            "Starting training for task: product-category\n"
          ]
        },
        {
          "metadata": {
            "tags": null
          },
          "name": "stderr",
          "output_type": "stream",
          "text": [
            "Some weights of BertForSequenceClassification were not initialized from the model checkpoint at microsoft/BiomedNLP-PubMedBERT-base-uncased-abstract and are newly initialized: ['classifier.bias', 'classifier.weight']\n",
            "You should probably TRAIN this model on a down-stream task to be able to use it for predictions and inference.\n"
          ]
        },
        {
          "metadata": {
            "tags": null
          },
          "name": "stdout",
          "output_type": "stream",
          "text": [
            "Epoch 1/5 - Training: product-category\n"
          ]
        },
        {
          "metadata": {
            "tags": null
          },
          "name": "stderr",
          "output_type": "stream",
          "text": [
            "Training Epoch 1: 100%|██████████| 255/255 [00:22<00:00, 11.53it/s, loss=0.0945]\n"
          ]
        },
        {
          "metadata": {
            "tags": null
          },
          "name": "stdout",
          "output_type": "stream",
          "text": [
            "Epoch 2/5 - Training: product-category\n"
          ]
        },
        {
          "metadata": {
            "tags": null
          },
          "name": "stderr",
          "output_type": "stream",
          "text": [
            "Training Epoch 2: 100%|██████████| 255/255 [00:22<00:00, 11.51it/s, loss=0.0809]\n"
          ]
        },
        {
          "metadata": {
            "tags": null
          },
          "name": "stdout",
          "output_type": "stream",
          "text": [
            "Epoch 3/5 - Training: product-category\n"
          ]
        },
        {
          "metadata": {
            "tags": null
          },
          "name": "stderr",
          "output_type": "stream",
          "text": [
            "Training Epoch 3: 100%|██████████| 255/255 [00:22<00:00, 11.54it/s, loss=0.328]\n"
          ]
        },
        {
          "metadata": {
            "tags": null
          },
          "name": "stdout",
          "output_type": "stream",
          "text": [
            "Epoch 4/5 - Training: product-category\n"
          ]
        },
        {
          "metadata": {
            "tags": null
          },
          "name": "stderr",
          "output_type": "stream",
          "text": [
            "Training Epoch 4: 100%|██████████| 255/255 [00:22<00:00, 11.52it/s, loss=1.35]\n"
          ]
        },
        {
          "metadata": {
            "tags": null
          },
          "name": "stdout",
          "output_type": "stream",
          "text": [
            "Epoch 5/5 - Training: product-category\n"
          ]
        },
        {
          "metadata": {
            "tags": null
          },
          "name": "stderr",
          "output_type": "stream",
          "text": [
            "Training Epoch 5: 100%|██████████| 255/255 [00:22<00:00, 11.50it/s, loss=5.94]\n"
          ]
        },
        {
          "metadata": {
            "tags": null
          },
          "name": "stdout",
          "output_type": "stream",
          "text": [
            "Evaluating model for task: product-category\n"
          ]
        },
        {
          "metadata": {
            "tags": null
          },
          "name": "stderr",
          "output_type": "stream",
          "text": [
            "Evaluating: 100%|██████████| 64/64 [00:01<00:00, 33.61it/s]\n"
          ]
        },
        {
          "metadata": {
            "tags": null
          },
          "name": "stdout",
          "output_type": "stream",
          "text": [
            "F1-Score for product-category: 0.7430015662205394\n",
            "Classification Report for product-category:\n",
            "\n",
            "                                                   precision    recall  f1-score   support\n",
            "\n",
            "                              alcoholic beverages       0.60      0.43      0.50         7\n",
            "                      cereals and bakery products       0.71      0.80      0.75       123\n",
            "     cocoa and cocoa preparations, coffee and tea       0.73      0.82      0.77        49\n",
            "                                    confectionery       0.64      0.40      0.49        40\n",
            "dietetic foods, food supplements, fortified foods       0.67      0.58      0.62        24\n",
            "                                    fats and oils       0.75      0.75      0.75         4\n",
            "                                   feed materials       0.00      0.00      0.00         3\n",
            "                           food contact materials       0.00      0.00      0.00         1\n",
            "                            fruits and vegetables       0.83      0.72      0.77       112\n",
            "                                 herbs and spices       0.40      0.62      0.49        16\n",
            "                            honey and royal jelly       0.00      0.00      0.00         1\n",
            "                                ices and desserts       0.89      0.88      0.88        56\n",
            "                     meat, egg and dairy products       0.89      0.90      0.89       282\n",
            "                          non-alcoholic beverages       0.85      0.71      0.77        31\n",
            "                     nuts, nut products and seeds       0.77      0.78      0.77        63\n",
            "                       other food product / mixed       0.00      0.00      0.00         9\n",
            "                                         pet feed       1.00      0.33      0.50         6\n",
            "                       prepared dishes and snacks       0.37      0.51      0.43        90\n",
            "                                          seafood       0.96      0.82      0.88        56\n",
            "             soups, broths, sauces and condiments       0.60      0.56      0.58        43\n",
            "                                sugars and syrups       0.00      0.00      0.00         1\n",
            "\n",
            "                                         accuracy                           0.74      1017\n",
            "                                        macro avg       0.55      0.51      0.52      1017\n",
            "                                     weighted avg       0.75      0.74      0.74      1017\n",
            "\n",
            "\n",
            "Starting training for task: hazard\n"
          ]
        },
        {
          "metadata": {
            "tags": null
          },
          "name": "stderr",
          "output_type": "stream",
          "text": [
            "Some weights of BertForSequenceClassification were not initialized from the model checkpoint at microsoft/BiomedNLP-PubMedBERT-base-uncased-abstract and are newly initialized: ['classifier.bias', 'classifier.weight']\n",
            "You should probably TRAIN this model on a down-stream task to be able to use it for predictions and inference.\n"
          ]
        },
        {
          "metadata": {
            "tags": null
          },
          "name": "stdout",
          "output_type": "stream",
          "text": [
            "Epoch 1/5 - Training: hazard\n"
          ]
        },
        {
          "metadata": {
            "tags": null
          },
          "name": "stderr",
          "output_type": "stream",
          "text": [
            "Training Epoch 1: 100%|██████████| 255/255 [00:22<00:00, 11.52it/s, loss=4.36]\n"
          ]
        },
        {
          "metadata": {
            "tags": null
          },
          "name": "stdout",
          "output_type": "stream",
          "text": [
            "Epoch 2/5 - Training: hazard\n"
          ]
        },
        {
          "metadata": {
            "tags": null
          },
          "name": "stderr",
          "output_type": "stream",
          "text": [
            "Training Epoch 2: 100%|██████████| 255/255 [00:22<00:00, 11.52it/s, loss=1.84]\n"
          ]
        },
        {
          "metadata": {
            "tags": null
          },
          "name": "stdout",
          "output_type": "stream",
          "text": [
            "Epoch 3/5 - Training: hazard\n"
          ]
        },
        {
          "metadata": {
            "tags": null
          },
          "name": "stderr",
          "output_type": "stream",
          "text": [
            "Training Epoch 3: 100%|██████████| 255/255 [00:22<00:00, 11.53it/s, loss=2.21]\n"
          ]
        },
        {
          "metadata": {
            "tags": null
          },
          "name": "stdout",
          "output_type": "stream",
          "text": [
            "Epoch 4/5 - Training: hazard\n"
          ]
        },
        {
          "output_type": "stream",
          "name": "stderr",
          "text": [
            "Training Epoch 4: 100%|██████████| 255/255 [00:22<00:00, 11.50it/s, loss=3.89]\n"
          ]
        },
        {
          "output_type": "stream",
          "name": "stdout",
          "text": [
            "Epoch 5/5 - Training: hazard\n"
          ]
        },
        {
          "output_type": "stream",
          "name": "stderr",
          "text": [
            "Training Epoch 5: 100%|██████████| 255/255 [00:22<00:00, 11.47it/s, loss=3.24]\n"
          ]
        },
        {
          "output_type": "stream",
          "name": "stdout",
          "text": [
            "Evaluating model for task: hazard\n"
          ]
        },
        {
          "output_type": "stream",
          "name": "stderr",
          "text": [
            "Evaluating: 100%|██████████| 64/64 [00:01<00:00, 33.54it/s]\n"
          ]
        },
        {
          "output_type": "stream",
          "name": "stdout",
          "text": [
            "F1-Score for hazard: 0.5285384219306958\n",
            "Classification Report for hazard:\n",
            "\n",
            "                                                   precision    recall  f1-score   support\n",
            "\n",
            "                                        Aflatoxin       0.00      0.00      0.00         4\n",
            "                                  alcohol content       0.00      0.00      0.00         1\n",
            "                                        alkaloids       0.00      0.00      0.00         2\n",
            "                                        allergens       0.00      0.00      0.00         4\n",
            "                                           almond       0.45      0.71      0.56        14\n",
            "             altered organoleptic characteristics       0.00      0.00      0.00         2\n",
            "                                        amygdalin       0.00      0.00      0.00         2\n",
            "                           antibiotics, vet drugs       0.00      0.00      0.00         1\n",
            "                                    bacillus spp.       0.00      0.00      0.00         1\n",
            "                             bad smell / off odor       0.00      0.00      0.00         1\n",
            "                                    bone fragment       0.00      0.00      0.00         1\n",
            "                                       brazil nut       0.00      0.00      0.00         1\n",
            "                                bulging packaging       0.00      0.00      0.00         4\n",
            "                                           cashew       0.00      0.00      0.00         8\n",
            "                      celery and products thereof       0.00      0.00      0.00         3\n",
            "                                          cereals       0.00      0.00      0.00         1\n",
            "   cereals containing gluten and products thereof       0.46      0.65      0.54        43\n",
            "                                         chemical       0.00      0.00      0.00         2\n",
            "                 chemical compound (high content)       0.00      0.00      0.00         3\n",
            "                 chemical compound (unauthorised)       0.00      0.00      0.00         3\n",
            "                            clostridium botulinum       0.15      1.00      0.27         4\n",
            "                                          coconut       0.00      0.00      0.00         1\n",
            "                                        coliforms       0.00      0.00      0.00         1\n",
            "                          compositional deviation       0.00      0.00      0.00         1\n",
            "                                  cronobacter spp       0.00      0.00      0.00         2\n",
            "                 crustaceans and products thereof       0.00      0.00      0.00         3\n",
            "                                       cyclospora       0.00      0.00      0.00         1\n",
            "                                   dairy products       0.00      0.00      0.00         1\n",
            "                                          dioxins       0.00      0.00      0.00         1\n",
            "                      e 425 - konjac unauthorised       0.00      0.00      0.00         2\n",
            "                        eggs and products thereof       0.62      0.62      0.62        42\n",
            "                                    enteroviruses       1.00      1.00      1.00         1\n",
            "                                 escherichia coli       0.71      0.77      0.73        47\n",
            "                        fish and products thereof       0.50      0.25      0.33         8\n",
            "                                   foreign bodies       0.00      0.00      0.00         3\n",
            "                                   glass fragment       0.31      0.62      0.41        21\n",
            "                                         hazelnut       1.00      0.33      0.50         3\n",
            "                                     heavy metals       0.50      0.14      0.22         7\n",
            "                           high content of copper       0.00      0.00      0.00         1\n",
            "                          high content of cyanide       0.25      1.00      0.40         1\n",
            "                         high content of vitamins       1.00      1.00      1.00         1\n",
            "                              improper conditions       0.00      0.00      0.00         3\n",
            "                               improper packaging       0.00      0.00      0.00         2\n",
            "                               incorrect labeling       0.00      0.00      0.00         4\n",
            "                           incorrect use by dates       1.00      0.71      0.83         7\n",
            "                                          insects       0.50      0.50      0.50         2\n",
            "                                inspection issues       0.67      1.00      0.80        16\n",
            "             insufficient labelling/documentation       0.00      0.00      0.00         1\n",
            "                         labelling/misdescription       0.00      0.00      0.00        10\n",
            "                           listeria monocytogenes       0.66      0.90      0.76       139\n",
            "                                     listeria spp       0.00      0.00      0.00         2\n",
            "                                   metal fragment       0.76      0.53      0.62        36\n",
            "                    microbiological contamination       0.00      0.00      0.00         2\n",
            "                        milk and products thereof       0.60      0.78      0.67       108\n",
            "                                      misbranding       0.00      0.00      0.00         1\n",
            "                                   misdescription       0.00      0.00      0.00         3\n",
            "                                      mislabelled       0.00      0.00      0.00         1\n",
            "                    molluscs and products thereof       0.00      0.00      0.00         1\n",
            "                                           moulds       1.00      1.00      1.00         2\n",
            "                     mustard and products thereof       0.78      0.78      0.78         9\n",
            "                                         nitrogen       0.00      0.00      0.00         1\n",
            "                        non compliance with HACCP       0.00      0.00      0.00         1\n",
            "                                        norovirus       0.67      0.80      0.73         5\n",
            "                                             nuts       0.00      0.00      0.00         6\n",
            "                                       ochratoxin       1.00      1.00      1.00         1\n",
            "                                   organochlorine       0.00      0.00      0.00         1\n",
            "                                            other       0.28      0.43      0.34        23\n",
            "                         other misbranding issues       0.00      0.00      0.00         1\n",
            "                             other not classified       0.00      0.00      0.00         5\n",
            "          other not classified biological hazards       0.00      0.00      0.00         2\n",
            "            other not classified chemical hazards       0.00      0.00      0.00         6\n",
            "  other not classified hazards for foreign bodies       0.00      0.00      0.00         2\n",
            "                                 packaging defect       0.00      0.00      0.00         5\n",
            "       paralytic shellfish poisoning (psp) toxins       0.00      0.00      0.00         1\n",
            "                              pathogenic bacteria       0.00      0.00      0.00         2\n",
            "                                          patulin       0.00      0.00      0.00         2\n",
            "                     peanuts and products thereof       0.57      0.58      0.57        45\n",
            "                                        pecan nut       1.00      0.33      0.50         6\n",
            "                                   pieces of wood       0.00      0.00      0.00         2\n",
            "                                    pistachio nut       0.00      0.00      0.00         3\n",
            "                                 plastic fragment       0.34      0.72      0.46        39\n",
            "                 polycyclic aromatic hydrocarbons       0.00      0.00      0.00         1\n",
            "                              poor hygienic state       0.00      0.00      0.00         1\n",
            "                    poor or insufficient controls       0.00      0.00      0.00         4\n",
            "                                       processing       0.20      0.67      0.31         6\n",
            "                 product category/characteristics       0.00      0.00      0.00         1\n",
            "                                 rubber fragments       0.00      0.00      0.00         4\n",
            "                                       salmonella       0.86      0.72      0.78       121\n",
            "                sesame seeds and products thereof       0.75      0.30      0.43        10\n",
            "                    soybeans and products thereof       0.52      0.35      0.42        34\n",
            "                    specified risk material (srm)       0.00      0.00      0.00         4\n",
            "                                         spoilage       0.00      0.00      0.00         4\n",
            "                                   staphylococcus       0.00      0.00      0.00         3\n",
            "                              sulphates/sulphites       0.00      0.00      0.00         3\n",
            "                                  sulphur dioxide       0.00      0.00      0.00         5\n",
            "                    sulphur dioxide and sulphites       0.61      0.61      0.61        18\n",
            "                                        tampering       0.00      0.00      0.00         2\n",
            "                                taste disturbance       0.00      0.00      0.00         3\n",
            "too high content of fluorinated organic chemicals       0.00      0.00      0.00         2\n",
            "   too high content of tetrahydrocannabinol (THC)       1.00      1.00      1.00         2\n",
            "                                            toxin       1.00      0.12      0.22         8\n",
            "                              unauthorised import       0.00      0.00      0.00         1\n",
            "               unauthorised placing on the market       0.00      0.00      0.00         1\n",
            "            unauthorised substance ethylene oxide       0.64      1.00      0.78         9\n",
            "                              undeclared additive       0.00      0.00      0.00         2\n",
            "                           undeclared constituent       0.00      0.00      0.00         1\n",
            "                                            virus       0.00      0.00      0.00         1\n",
            "                                           walnut       0.67      0.40      0.50         5\n",
            "\n",
            "                                         accuracy                           0.58      1017\n",
            "                                        macro avg       0.21      0.22      0.20      1017\n",
            "                                     weighted avg       0.52      0.58      0.53      1017\n",
            "\n",
            "\n",
            "Starting training for task: product\n"
          ]
        },
        {
          "output_type": "stream",
          "name": "stderr",
          "text": [
            "Some weights of BertForSequenceClassification were not initialized from the model checkpoint at microsoft/BiomedNLP-PubMedBERT-base-uncased-abstract and are newly initialized: ['classifier.bias', 'classifier.weight']\n",
            "You should probably TRAIN this model on a down-stream task to be able to use it for predictions and inference.\n"
          ]
        },
        {
          "output_type": "stream",
          "name": "stdout",
          "text": [
            "Epoch 1/5 - Training: product\n"
          ]
        },
        {
          "output_type": "stream",
          "name": "stderr",
          "text": [
            "Training Epoch 1: 100%|██████████| 255/255 [00:22<00:00, 11.50it/s, loss=5.65]\n"
          ]
        },
        {
          "output_type": "stream",
          "name": "stdout",
          "text": [
            "Epoch 2/5 - Training: product\n"
          ]
        },
        {
          "output_type": "stream",
          "name": "stderr",
          "text": [
            "Training Epoch 2: 100%|██████████| 255/255 [00:22<00:00, 11.50it/s, loss=8.54]\n"
          ]
        },
        {
          "output_type": "stream",
          "name": "stdout",
          "text": [
            "Epoch 3/5 - Training: product\n"
          ]
        },
        {
          "output_type": "stream",
          "name": "stderr",
          "text": [
            "Training Epoch 3: 100%|██████████| 255/255 [00:22<00:00, 11.48it/s, loss=6.89]\n"
          ]
        },
        {
          "output_type": "stream",
          "name": "stdout",
          "text": [
            "Epoch 4/5 - Training: product\n"
          ]
        },
        {
          "output_type": "stream",
          "name": "stderr",
          "text": [
            "Training Epoch 4: 100%|██████████| 255/255 [00:22<00:00, 11.49it/s, loss=5.91]\n"
          ]
        },
        {
          "output_type": "stream",
          "name": "stdout",
          "text": [
            "Epoch 5/5 - Training: product\n"
          ]
        },
        {
          "output_type": "stream",
          "name": "stderr",
          "text": [
            "Training Epoch 5: 100%|██████████| 255/255 [00:22<00:00, 11.49it/s, loss=6.83]\n"
          ]
        },
        {
          "output_type": "stream",
          "name": "stdout",
          "text": [
            "Evaluating model for task: product\n"
          ]
        },
        {
          "output_type": "stream",
          "name": "stderr",
          "text": [
            "Evaluating: 100%|██████████| 64/64 [00:01<00:00, 33.54it/s]\n"
          ]
        },
        {
          "output_type": "stream",
          "name": "stdout",
          "text": [
            "F1-Score for product: 0.11146473437036768\n",
            "Classification Report for product:\n",
            "\n",
            "                                                   precision    recall  f1-score   support\n",
            "\n",
            "                           Catfishes (freshwater)       0.00      0.00      0.00         5\n",
            "                            Fishes not identified       0.09      0.83      0.17         6\n",
            "                         Not classified pork meat       0.00      0.00      0.00         3\n",
            "                       Pangas catfishes (generic)       0.00      0.00      0.00         1\n",
            "              Precooked cooked pork meat products       0.00      0.00      0.00         1\n",
            "                                    Veggie Burger       0.00      0.00      0.00         2\n",
            "                               after dinner mints       0.00      0.00      0.00         1\n",
            "                                            algae       0.00      0.00      0.00         3\n",
            "                            all purpose seasoning       0.00      0.00      0.00         1\n",
            "                                   almond kernels       0.00      0.00      0.00         1\n",
            "                                  almond products       0.00      0.00      0.00         3\n",
            "                                          almonds       0.00      0.00      0.00         3\n",
            "                                 anchovies in oil       0.00      0.00      0.00         1\n",
            "                                    anchovy paste       0.00      0.00      0.00         1\n",
            "                                       angus beef       0.00      0.00      0.00         2\n",
            "                               animal by-products       0.00      0.00      0.00         1\n",
            "                                       apple cake       0.00      0.00      0.00         1\n",
            "                                      apple juice       0.33      1.00      0.50         1\n",
            "                                  apricot kernels       0.00      0.00      0.00         2\n",
            "                                         apricots       0.00      0.00      0.00         1\n",
            "                    assorted bread roll selection       0.00      0.00      0.00         1\n",
            "                                        baby food       0.00      0.00      0.00         2\n",
            "                                     baby spinach       0.00      0.00      0.00         2\n",
            "                                           bagels       0.00      0.00      0.00         1\n",
            "                                  bakery products       0.00      0.00      0.00         1\n",
            "                                       baking mix       0.00      0.00      0.00         1\n",
            "                                           bamboo       0.00      0.00      0.00         1\n",
            "                                   barbecue sauce       0.00      0.00      0.00         2\n",
            "                                             bars       0.00      0.00      0.00         2\n",
            "                                basil pesto sauce       0.00      0.00      0.00         1\n",
            "                                       bean snack       0.00      0.00      0.00         1\n",
            "                                     bean sprouts       0.00      0.00      0.00         1\n",
            "                                             beef       0.00      0.00      0.00         7\n",
            "                                        beef meat       0.00      0.00      0.00         2\n",
            "                                    beef products       0.00      0.00      0.00         6\n",
            "                                      beef stewed       0.00      0.00      0.00         1\n",
            "                                      beef tallow       0.00      0.00      0.00         1\n",
            "                                      beef tongue       0.00      0.00      0.00         1\n",
            "                                             beer       0.00      0.00      0.00         4\n",
            "                                         beverage       0.00      0.00      0.00         1\n",
            "        beverage base of non-fruit origin, liquid       0.00      0.00      0.00         1\n",
            "                                         biscuits       0.60      0.50      0.55         6\n",
            "                           bitter apricot kernels       0.00      0.00      0.00         1\n",
            "                                     blackberries       0.00      0.00      0.00         1\n",
            "                   blackcurrant drink concentrate       0.00      0.00      0.00         1\n",
            "                                 blue poppy seeds       0.00      0.00      0.00         1\n",
            "              boletus mushrooms, stems and pieces       0.00      0.00      0.00         1\n",
            "                            bottled mineral water       0.00      0.00      0.00         2\n",
            "                                    bottled water       0.00      0.00      0.00         0\n",
            "                                      brazil nuts       0.00      0.00      0.00         2\n",
            "                                            bread       0.20      0.12      0.15         8\n",
            "                      bread and products therefor       0.00      0.00      0.00         3\n",
            "                                breakfast cereals       0.00      0.00      0.00         1\n",
            "                     breakfast cereals for babies       0.00      0.00      0.00         1\n",
            "                                      brie cheese       0.00      0.00      0.00         1\n",
            "                                         broccoli       0.00      0.00      0.00         1\n",
            "                                             buns       0.00      0.00      0.00         2\n",
            "                                          burrata       0.00      0.00      0.00         1\n",
            "                           burrito (ready to eat)       0.00      0.00      0.00         1\n",
            "                                           butter       0.00      0.00      0.00         1\n",
            "                                            cakes       0.13      0.82      0.23        17\n",
            "                                          candies       0.00      0.00      0.00         9\n",
            "                                   canned chicken       0.00      0.00      0.00         1\n",
            "                                   canned mussels       0.00      0.00      0.00         1\n",
            "                                   canned spinach       0.00      0.00      0.00         1\n",
            "                                   cardamom seeds       0.00      0.00      0.00         1\n",
            "                                           cashew       0.00      0.00      0.00         1\n",
            "                                      cauliflower       0.00      0.00      0.00         2\n",
            "                                          cbd oil       0.00      0.00      0.00         1\n",
            "                                     cbd products       0.00      0.00      0.00         1\n",
            "                                           cereal       0.00      0.00      0.00         2\n",
            "                                   cheddar cheese       0.00      0.00      0.00         2\n",
            "                                           cheese       0.12      0.90      0.22        10\n",
            "                                  cheese - melted       0.00      0.00      0.00         0\n",
            "                                   cheese burgers       0.00      0.00      0.00         1\n",
            "                                       cheese dip       0.00      0.00      0.00         1\n",
            "                                  cheese products       0.00      0.00      0.00         1\n",
            "                                         cherries       0.00      0.00      0.00         1\n",
            "                                       chia seeds       0.00      0.00      0.00         4\n",
            "                                          chicken       0.00      0.00      0.00         8\n",
            "                           chicken based products       0.23      0.83      0.36        23\n",
            "                                   chicken breast       0.00      0.00      0.00         1\n",
            "                                    chicken broth       0.00      0.00      0.00         1\n",
            "                                  chicken dippers       0.00      0.00      0.00         1\n",
            "                                chicken meat meal       0.00      0.00      0.00         1\n",
            "                            chicken meat products       0.00      0.00      0.00         1\n",
            "                              chicken noodle soup       0.00      0.00      0.00         1\n",
            "                             chicken preparations       0.00      0.00      0.00         6\n",
            "                        chicken products - frozen       0.00      0.00      0.00         2\n",
            "                                        chickpeas       0.00      0.00      0.00         1\n",
            "                                  chilled chicken       0.00      0.00      0.00         1\n",
            "                            chilled chicken parts       0.00      0.00      0.00         1\n",
            "                                   chilled salads       0.00      0.00      0.00         5\n",
            "                                     chilli paste       0.00      0.00      0.00         1\n",
            "                                     chilli sauce       0.00      0.00      0.00         1\n",
            "                                        chocolate       0.00      0.00      0.00         8\n",
            "                 chocolate and chocolate products       0.00      0.00      0.00         1\n",
            "                    chocolate and hazelnut spread       0.00      0.00      0.00         2\n",
            "                  chocolate and products therefor       0.00      0.00      0.00         1\n",
            "                                   chocolate bars       0.00      0.00      0.00         5\n",
            "                                   chocolate eggs       0.00      0.00      0.00         3\n",
            "                    chocolate flavoured meringues       0.00      0.00      0.00         0\n",
            "                               chocolate products       0.00      0.00      0.00         9\n",
            "                                 chocolate spread       0.00      0.00      0.00         1\n",
            "                  chocolate spread with hazelnuts       0.00      0.00      0.00         1\n",
            "                                 chocolate wafers       0.00      0.00      0.00         1\n",
            "                                          chorizo       0.00      0.00      0.00         4\n",
            "                                   cinnamon rolls       0.00      0.00      0.00         1\n",
            "                                            clams       0.00      0.00      0.00         1\n",
            "                           cocktail sausage rolls       0.00      0.00      0.00         0\n",
            "                                    coconut juice       0.00      0.00      0.00         2\n",
            "                                     coconut milk       0.00      0.00      0.00         2\n",
            "                               coconut milk drink       0.00      0.00      0.00         1\n",
            "                                         coconuts       0.00      0.00      0.00         4\n",
            "                                     coffee beans       0.00      0.00      0.00         2\n",
            "                                     coffee drink       0.00      0.00      0.00         1\n",
            "                              concentrated apples       0.00      0.00      0.00         1\n",
            "                                    confectionery       0.00      0.00      0.00         1\n",
            "                                   cooked chicken       0.00      0.00      0.00         3\n",
            "                            cooked chicken skewer       0.00      0.00      0.00         1\n",
            "                                       cooked ham       0.00      0.00      0.00         1\n",
            "                                  cooked sausages       0.00      0.00      0.00         1\n",
            "                                          cookies       0.21      0.92      0.34        13\n",
            "                                        coriander       0.00      0.00      0.00         1\n",
            "                                             corn       0.00      0.00      0.00         5\n",
            "                                   cottage cheese       0.00      0.00      0.00         1\n",
            "                                        cous cous       0.00      0.00      0.00         1\n",
            "                                  cow milk cheese       0.00      0.00      0.00         1\n",
            "                                         crackers       0.00      0.00      0.00         2\n",
            "                                     cream cheese       0.00      0.00      0.00         2\n",
            "                              cream chocolate pie       0.00      0.00      0.00         1\n",
            "                                           crisps       0.00      0.00      0.00         1\n",
            "                                       croissants       0.00      0.00      0.00         1\n",
            "                 crustaceans and products thereof       0.00      0.00      0.00         1\n",
            "                                         cupcakes       0.00      0.00      0.00         2\n",
            "                                       cured loin       0.00      0.00      0.00         1\n",
            "                                            curry       0.00      0.00      0.00         1\n",
            "                                          custard       0.00      0.00      0.00         1\n",
            "                                  dark chocolates       0.00      0.00      0.00         7\n",
            "                                            dates       0.00      0.00      0.00         2\n",
            "                                         desserts       0.00      0.00      0.00         4\n",
            "                               dietary supplement       0.00      0.00      0.00         4\n",
            "dietetic foods, food supplements, fortified foods       0.00      0.00      0.00         2\n",
            "                                        dip-sauce       0.00      0.00      0.00         4\n",
            "                                    dipping sauce       0.00      0.00      0.00         1\n",
            "                                           donuts       0.00      0.00      0.00         2\n",
            "                                         dressing       0.00      0.00      0.00         1\n",
            "                                  dried anchovies       0.00      0.00      0.00         1\n",
            "                                     dried apples       0.00      0.00      0.00         1\n",
            "                                   dried apricots       0.00      0.00      0.00         4\n",
            "                                  dried beef meat       0.00      0.00      0.00         7\n",
            "                                    dried coconut       0.00      0.00      0.00         1\n",
            "                                dried cranberries       0.00      0.00      0.00         1\n",
            "                                       dried figs       0.00      0.00      0.00         2\n",
            "                                  dried fruit mix       0.00      0.00      0.00         1\n",
            "                                     dried fruits       0.00      0.00      0.00         1\n",
            "                      dried fruits with chocolate       0.00      0.00      0.00         2\n",
            "                                     dried lilies       0.00      0.00      0.00         0\n",
            "                                  dried mushrooms       0.00      0.00      0.00         2\n",
            "                                      dried plums       0.00      0.00      0.00         2\n",
            "                                    dried sausage       0.00      0.00      0.00         1\n",
            "                               dried strawberries       0.00      0.00      0.00         1\n",
            "                                      dry sausage       0.00      0.00      0.00         1\n",
            "                                             duck       0.00      0.00      0.00         2\n",
            "                                        dumplings       0.00      0.00      0.00         3\n",
            "                                      edam cheese       0.00      0.00      0.00         1\n",
            "                                             eggs       0.67      0.29      0.40         7\n",
            "                            eggs and egg products       0.00      0.00      0.00         1\n",
            "                          energy and protein bars       0.00      0.00      0.00         1\n",
            "                                   feed materials       0.00      0.00      0.00         3\n",
            "                                     fennel seeds       0.00      0.00      0.00         1\n",
            "                                      feta cheese       0.00      0.00      0.00         5\n",
            "                                    fish products       0.00      0.00      0.00         2\n",
            "         flavoured fresh and creamy cheese spread       0.00      0.00      0.00         1\n",
            "                             flavoured soft drink       0.00      0.00      0.00         1\n",
            "              flavoured whey protein preparations       0.00      0.00      0.00         2\n",
            "                                         flavours       0.00      0.00      0.00         0\n",
            "                                            flour       0.00      0.00      0.00         4\n",
            "                                        foie gras       0.00      0.00      0.00         1\n",
            "                                  food supplement       0.00      0.00      0.00         1\n",
            "                                       fresh beef       0.00      0.00      0.00         1\n",
            "                                  fresh beef meat       0.00      0.00      0.00         1\n",
            "                                  fresh mushrooms       0.24      1.00      0.38         4\n",
            "                                    fresh parsley       0.00      0.00      0.00         1\n",
            "                                       fresh pork       0.00      0.00      0.00         1\n",
            "               fresh processed beef meat products       0.00      0.00      0.00         2\n",
            "                                 fresh vegetables       0.00      0.00      0.00         2\n",
            "                                      frozen beef       0.00      0.00      0.00         1\n",
            "                              frozen beef patties       0.00      0.00      0.00         2\n",
            "                             frozen beef products       0.00      0.00      0.00         1\n",
            "                                  frozen broccoli       0.00      0.00      0.00         1\n",
            "                               frozen burger buns       0.00      0.00      0.00         1\n",
            "                                   frozen burgers       0.00      0.00      0.00         1\n",
            "                                   frozen chicken       0.00      0.00      0.00         1\n",
            "                              frozen fish fillets       0.00      0.00      0.00         1\n",
            "                               frozen green beans       0.00      0.00      0.00         1\n",
            "                                frozen hamburgers       0.00      0.00      0.00         1\n",
            "                               frozen hash browns       0.00      0.00      0.00         1\n",
            "                                   frozen lobster       0.00      0.00      0.00         1\n",
            "                                  frozen pancakes       0.00      0.00      0.00         1\n",
            "                                      frozen peas       0.00      0.00      0.00         1\n",
            "                                   frozen peppers       0.00      0.00      0.00         1\n",
            "                                       frozen pie       0.00      0.00      0.00         1\n",
            "                                     frozen pizza       0.00      0.00      0.00         3\n",
            "                         frozen pork preparations       0.00      0.00      0.00         1\n",
            "                                   frozen poultry       0.00      0.00      0.00         1\n",
            "                      frozen poultry preparations       0.00      0.00      0.00         1\n",
            "                          frozen poultry products       0.00      0.00      0.00         2\n",
            "                     frozen ready to cook chicken       0.00      0.00      0.00         1\n",
            "                                frozen vegetables       0.00      0.00      0.00         1\n",
            "                         frozen vegetarian cutlet       0.00      0.00      0.00         1\n",
            "                                frozen whole fish       0.00      0.00      0.00         1\n",
            "                                      fruit juice       0.00      0.00      0.00         3\n",
            "                                      fruit punch       0.00      0.00      0.00         1\n",
            "                            fruits and vegetables       0.00      0.00      0.00         1\n",
            "                                    garlic powder       0.00      0.00      0.00         1\n",
            "                                      goat cheese       0.00      0.00      0.00         1\n",
            "                                            gouda       0.00      0.00      0.00         1\n",
            "                                     gouda cheese       0.00      0.00      0.00         1\n",
            "                                          granola       0.00      0.00      0.00         2\n",
            "                                   grated coconut       0.00      0.00      0.00         2\n",
            "                                        gravy mix       0.00      0.00      0.00         1\n",
            "                             grissini breadsticks       0.00      0.00      0.00         1\n",
            "                                   ground almonds       0.00      0.00      0.00         1\n",
            "                                      ground beef       0.10      1.00      0.19         9\n",
            "                                 ground beef meat       0.00      0.00      0.00         1\n",
            "                              ground black pepper       0.00      0.00      0.00         1\n",
            "                                  halloumi cheese       0.00      0.00      0.00         4\n",
            "                                            halva       0.00      0.00      0.00         1\n",
            "                                              ham       0.00      0.00      0.00         8\n",
            "                                          herring       0.00      0.00      0.00         4\n",
            "                                            honey       0.00      0.00      0.00         1\n",
            "                              horseradish in jars       0.00      0.00      0.00         1\n",
            "                                         hot dogs       0.00      0.00      0.00         1\n",
            "                                        ice cream       0.82      0.90      0.86        50\n",
            "                                   infant formula       0.00      0.00      0.00         3\n",
            "                                   instant cereal       0.00      0.00      0.00         1\n",
            "                                   instant coffee       0.00      0.00      0.00         1\n",
            "                                              jam       0.00      0.00      0.00         5\n",
            "                                          jellies       0.50      0.25      0.33         4\n",
            "                                             kale       0.00      0.00      0.00         2\n",
            "                                          ketchup       0.00      0.00      0.00         1\n",
            "                                          lasagne       0.00      0.00      0.00         3\n",
            "                            lemonade (lemon soda)       0.00      0.00      0.00         1\n",
            "                                          lentils       0.00      0.00      0.00         1\n",
            "                                          lettuce       0.00      0.00      0.00         1\n",
            "                                 liquid egg white       0.00      0.00      0.00         1\n",
            "                           liquid food supplement       0.00      0.00      0.00         1\n",
            "                                           lokoum       0.00      0.00      0.00         1\n",
            "                                        lollipops       0.00      0.00      0.00         1\n",
            "                                  long grain rice       0.00      0.00      0.00         1\n",
            "                                    luncheon meat       0.00      0.00      0.00         1\n",
            "                                      lupin seeds       0.00      0.00      0.00         1\n",
            "                                   macadamia nuts       0.00      0.00      0.00         1\n",
            "                                         mackerel       0.00      0.00      0.00         2\n",
            "                                            maize       0.00      0.00      0.00         2\n",
            "                                        margarine       0.00      0.00      0.00         1\n",
            "                           marinated chicken meat       0.00      0.00      0.00         1\n",
            "                                      marshmalows       0.00      0.00      0.00         1\n",
            "                                 masala spice mix       0.00      0.00      0.00         1\n",
            "                        mashed chickpeas (hummus)       0.00      0.00      0.00         3\n",
            "                                       mayonnaise       0.00      0.00      0.00         1\n",
            "      meat and meat products (other than poultry)       0.00      0.00      0.00         2\n",
            "                                        meat loaf       0.00      0.00      0.00         1\n",
            "                                meat preparations       0.00      0.00      0.00         1\n",
            "                     meat, egg and dairy products       0.00      0.00      0.00         1\n",
            "              mechanically separated chicken meat       0.00      0.00      0.00         1\n",
            "                                             milk       0.15      0.86      0.26         7\n",
            "                   milk chocolate covered raisins       0.00      0.00      0.00         3\n",
            "                                  milk chocolates       0.00      0.00      0.00         3\n",
            "                                    milk products       0.00      0.00      0.00         2\n",
            "                                      minced beef       0.00      0.00      0.00         2\n",
            "                                   minced chicken       0.00      0.00      0.00         1\n",
            "                      mitragyna speciosa (kratom)       0.00      0.00      0.00         3\n",
            "                                      mix of nuts       0.00      0.00      0.00         1\n",
            "                                      mixed salad       0.00      0.00      0.00         1\n",
            "                                 mixed vegetables       0.00      0.00      0.00         2\n",
            "                                         moussaka       0.00      0.00      0.00         1\n",
            "                                mozzarella cheese       0.00      0.00      0.00         1\n",
            "                                           muesli       0.00      0.00      0.00         6\n",
            "                                          muffins       0.00      0.00      0.00         2\n",
            "                                        mushrooms       0.00      0.00      0.00         1\n",
            "                                          mustard       0.00      0.00      0.00         2\n",
            "                               non-alcoholic beer       0.00      0.00      0.00         1\n",
            "                          non-alcoholic beverages       0.00      0.00      0.00         1\n",
            "                                      noodle soup       0.00      0.00      0.00         1\n",
            "                                          noodles       0.00      0.00      0.00         3\n",
            "                                           nougat       0.00      0.00      0.00         1\n",
            "                                          nut mix       0.00      0.00      0.00         1\n",
            "                               nut-almond mixture       0.00      0.00      0.00         1\n",
            "                                  nutrition shake       0.00      0.00      0.00         1\n",
            "                                             nuts       0.00      0.00      0.00         2\n",
            "                                             oats       0.00      0.00      0.00         1\n",
            "                                        olive oil       0.00      0.00      0.00         1\n",
            "                                           olives       0.00      0.00      0.00         2\n",
            "                                           onions       0.07      1.00      0.14         3\n",
            "                                     orange juice       0.00      0.00      0.00         1\n",
            "                               orange sugar paste       0.00      0.00      0.00         1\n",
            "                                          oregano       0.00      0.00      0.00         1\n",
            "                           organic chilled hummus       0.00      0.00      0.00         1\n",
            "                             other dairy products       0.00      0.00      0.00         2\n",
            "               other not classified meat products       1.00      0.50      0.67         4\n",
            "                              other types of meat       0.00      0.00      0.00         6\n",
            "                         other water-based drinks       0.00      0.00      0.00         3\n",
            "                                          oysters       0.00      0.00      0.00         5\n",
            "                                           paella       0.00      0.00      0.00         1\n",
            "                                         palm oil       0.00      0.00      0.00         1\n",
            "                                         pancakes       0.00      0.00      0.00         2\n",
            "                                           papaya       0.00      0.00      0.00         1\n",
            "                                          parsley       0.00      0.00      0.00         1\n",
            "                                            pasta       0.00      0.00      0.00         2\n",
            "                                 pasteurized milk       0.00      0.00      0.00         1\n",
            "                                           pastry       0.00      0.00      0.00         1\n",
            "                                  pastry products       0.00      0.00      0.00         5\n",
            "                                          peanuts       0.19      0.64      0.30        11\n",
            "                                       pear juice       0.00      0.00      0.00         1\n",
            "                                            pesto       0.00      0.00      0.00         1\n",
            "                                         pet feed       0.00      0.00      0.00         6\n",
            "                                 pickled beetroot       0.00      0.00      0.00         1\n",
            "                             pickled grape leaves       0.00      0.00      0.00         1\n",
            "                                  pickled peppers       0.00      0.00      0.00         1\n",
            "                                  pig meat - pork       0.00      0.00      0.00         2\n",
            "                                        pine nuts       0.00      0.00      0.00         1\n",
            "                                   pistachio nuts       0.00      0.00      0.00         8\n",
            "                                            pizza       0.00      0.00      0.00         1\n",
            "                                         plastics       0.00      0.00      0.00         1\n",
            "                  plum bread &amp; butter pudding       0.00      0.00      0.00         1\n",
            "                                         pork pie       0.00      0.00      0.00         1\n",
            "                                 pork preparation       0.00      0.00      0.00         2\n",
            "                                     pork sausage       0.00      0.00      0.00         3\n",
            "                                     potato chips       0.17      1.00      0.30         4\n",
            "                                potato croquettes       0.00      0.00      0.00         1\n",
            "                                     potato salad       0.00      0.00      0.00         1\n",
            "                                         potatoes       0.00      0.00      0.00         3\n",
            "                                          poultry       0.00      0.00      0.00         1\n",
            "                                     poultry meat       0.00      0.00      0.00         1\n",
            "                                   prawn crackers       0.00      0.00      0.00         1\n",
            "                                           prawns       0.00      0.00      0.00         1\n",
            "              precooked cooked beef meat products       0.00      0.00      0.00         5\n",
            "                                  prepacked salad       0.00      0.00      0.00         2\n",
            "                                    prepared dish       0.00      0.00      0.00         1\n",
            "                  prepared dish containing prawns       0.00      0.00      0.00         1\n",
            "                                  prepared salads       0.00      0.00      0.00         4\n",
            "                                         pretzels       0.00      0.00      0.00         1\n",
            "                                    protein balls       0.00      0.00      0.00         2\n",
            "                                      protein bar       0.00      0.00      0.00         2\n",
            "                                     protein bars       0.00      0.00      0.00         1\n",
            "                                    protein drink       0.00      0.00      0.00         1\n",
            "                                   protein powder       0.00      0.00      0.00         3\n",
            "                                          pudding       0.00      0.00      0.00         1\n",
            "                                      puffed rice       0.00      0.00      0.00         1\n",
            "                                             pâté       0.00      0.00      0.00         2\n",
            "                                quorn preparation       0.00      0.00      0.00         1\n",
            "                                          raisins       0.00      0.00      0.00         1\n",
            "                                      raspberries       0.00      0.00      0.00         3\n",
            "                                    raw beef meat       0.00      0.00      0.00         7\n",
            "                            raw cow's milk cheese       0.00      0.00      0.00         1\n",
            "                             raw goat milk cheese       0.00      0.00      0.00         1\n",
            "                                         raw milk       0.00      0.00      0.00         4\n",
            "                        raw milk cheese reblochon       0.00      0.00      0.00         1\n",
            "         ready cooked sliced chicken tikka breast       0.00      0.00      0.00         1\n",
            "                        ready to eat - cook meals       0.03      0.14      0.04        14\n",
            "                      ready-to-eat seafood sticks       0.00      0.00      0.00         1\n",
            "                                       red chilli       0.00      0.00      0.00         1\n",
            "                                     refreshments       0.00      0.00      0.00         1\n",
            "                                             rice       0.00      0.00      0.00         2\n",
            "                                       rice cakes       0.00      0.00      0.00         1\n",
            "                                    rice crackers       0.00      0.00      0.00         1\n",
            "                                        rice meal       0.00      0.00      0.00         1\n",
            "                                       rice snack       0.00      0.00      0.00         2\n",
            "                                   ricotta cheese       0.00      0.00      0.00         1\n",
            "                                   salad dressing       0.00      0.00      0.00         2\n",
            "                                           salads       0.31      0.83      0.45        12\n",
            "                                           salami       0.00      0.00      0.00         4\n",
            "                                           salmon       0.50      0.89      0.64         9\n",
            "                                             salt       0.00      0.00      0.00         2\n",
            "                                 sandwich filling       0.00      0.00      0.00         1\n",
            "                                       sandwiches       0.15      0.56      0.23         9\n",
            "                                            sauce       0.00      0.00      0.00         5\n",
            "                                           sauces       0.00      0.00      0.00         2\n",
            "                                          sausage       0.00      0.00      0.00         7\n",
            "                                 sausage products       0.00      0.00      0.00         1\n",
            "                                           scones       0.00      0.00      0.00         0\n",
            "                                          seafood       0.00      0.00      0.00         1\n",
            "                                 seasoned chicken       0.00      0.00      0.00         1\n",
            "                                        seasoning       0.00      0.00      0.00         2\n",
            "                                  seasoning sauce       0.00      0.00      0.00         1\n",
            "                                       seasonings       0.00      0.00      0.00         1\n",
            "                             seaweed preparations       0.00      0.00      0.00         1\n",
            "                                        seed mixe       0.00      0.00      0.00         1\n",
            "                                     sesame paste       0.00      0.00      0.00         2\n",
            "                                  sesame seed oil       0.00      0.00      0.00         1\n",
            "                                     sesame seeds       0.00      0.00      0.00         1\n",
            "                                          shrimps       0.00      0.00      0.00         5\n",
            "                                       sliced ham       0.00      0.00      0.00         2\n",
            "                                   smoked sausage       0.00      0.00      0.00         4\n",
            "                                   snack crackers       0.00      0.00      0.00         1\n",
            "                                        snack mix       0.00      0.00      0.00         7\n",
            "                                 snacks (various)       0.00      0.00      0.00         3\n",
            "                                       soda drink       0.00      0.00      0.00         1\n",
            "                                      soft drinks       0.00      0.00      0.00         1\n",
            "                                             soup       0.50      0.67      0.57         6\n",
            "                                   soy bean paste       0.00      0.00      0.00         1\n",
            "                                 soy milk product       0.00      0.00      0.00         1\n",
            "                                        soy sauce       0.00      0.00      0.00         1\n",
            "                       soya and products therefor       0.00      0.00      0.00         1\n",
            "                                       soya drink       0.00      0.00      0.00         1\n",
            "                                        spice mix       0.00      0.00      0.00         1\n",
            "                                           spices       0.00      0.00      0.00         1\n",
            "                                   spinach leaves       0.00      0.00      0.00         1\n",
            "                                      sport drink       0.00      0.00      0.00         1\n",
            "                                     spring rolls       0.00      0.00      0.00         2\n",
            "                                     spring water       0.00      0.00      0.00         1\n",
            "                                          sprouts       0.00      0.00      0.00         1\n",
            "                                   stuffed pastry       0.00      0.00      0.00         1\n",
            "                                            sugar       0.00      0.00      0.00         1\n",
            "                                   sunflower seed       0.67      0.29      0.40         7\n",
            "                                           sweets       0.00      0.00      0.00         1\n",
            "                                      swiss rolls       0.00      0.00      0.00         1\n",
            "                                       taco sauce       0.00      0.00      0.00         1\n",
            "                                           tahini       0.71      0.71      0.71         7\n",
            "                            tahini (sesame paste)       0.00      0.00      0.00         1\n",
            "                                              tea       0.00      0.00      0.00         1\n",
            "                                         tea bags       0.00      0.00      0.00         1\n",
            "                                        tea drink       0.00      0.00      0.00         1\n",
            "                      thermal processed beef meat       0.00      0.00      0.00         3\n",
            "                      thermal processed pork meat       0.07      0.57      0.12         7\n",
            "                                             tofu       0.00      0.00      0.00         2\n",
            "                                   tortilla chips       0.00      0.00      0.00         3\n",
            "                            tortilla chips cheese       0.00      0.00      0.00         1\n",
            "                                             tuna       0.00      0.00      0.00         5\n",
            "                   turkey and turkey preparations       0.00      0.00      0.00         5\n",
            "                            turkey based products       0.00      0.00      0.00         3\n",
            "                                          turnips       0.00      0.00      0.00         0\n",
            "                                   tzatziki sauce       0.00      0.00      0.00         1\n",
            "           unsalted organic crunchy peanut butter       0.00      0.00      0.00         0\n",
            "                          various bakery products       0.00      0.00      0.00         2\n",
            "                                  various cheeses       0.00      0.00      0.00         1\n",
            "                    various chicken meat products       0.00      0.00      0.00         1\n",
            "                           various pasta products       0.00      0.00      0.00         1\n",
            "                                   vegan sausages       0.00      0.00      0.00         1\n",
            "                         vegetable based products       0.00      0.00      0.00         1\n",
            "                                    vegetable mix       0.00      0.00      0.00         2\n",
            "                            vegetable preparation       0.00      0.00      0.00         1\n",
            "                     vegetable ready to eat meals       0.00      0.00      0.00         1\n",
            "                                vegetable samosas       0.00      0.00      0.00         1\n",
            "                                       vegetables       0.00      0.00      0.00         1\n",
            "                              vitamins supplement       0.00      0.00      0.00         1\n",
            "                                           wafers       0.00      0.00      0.00         1\n",
            "                                          waffles       0.00      0.00      0.00         2\n",
            "                                          walnuts       0.00      0.00      0.00         2\n",
            "                                      wheat snack       0.00      0.00      0.00         1\n",
            "                                     whey protein       0.00      0.00      0.00         1\n",
            "                                           whisky       0.00      0.00      0.00         1\n",
            "                              white lasagna sauce       0.00      0.00      0.00         1\n",
            "                                             wine       0.00      0.00      0.00         2\n",
            "                                            wraps       0.00      0.00      0.00         4\n",
            "                                          yoghurt       0.60      0.60      0.60         5\n",
            "\n",
            "                                         accuracy                           0.19      1017\n",
            "                                        macro avg       0.02      0.04      0.02      1017\n",
            "                                     weighted avg       0.10      0.19      0.11      1017\n",
            "\n",
            "\n",
            "Training and Evaluating for Text Tasks:\n",
            "\n",
            "Starting training for task: hazard-category\n"
          ]
        },
        {
          "output_type": "stream",
          "name": "stderr",
          "text": [
            "Some weights of BertForSequenceClassification were not initialized from the model checkpoint at microsoft/BiomedNLP-PubMedBERT-base-uncased-abstract and are newly initialized: ['classifier.bias', 'classifier.weight']\n",
            "You should probably TRAIN this model on a down-stream task to be able to use it for predictions and inference.\n"
          ]
        },
        {
          "output_type": "stream",
          "name": "stdout",
          "text": [
            "Epoch 1/5 - Training: hazard-category\n"
          ]
        },
        {
          "output_type": "stream",
          "name": "stderr",
          "text": [
            "Training Epoch 1: 100%|██████████| 255/255 [00:28<00:00,  8.89it/s, loss=0.515]\n"
          ]
        },
        {
          "output_type": "stream",
          "name": "stdout",
          "text": [
            "Epoch 2/5 - Training: hazard-category\n"
          ]
        },
        {
          "output_type": "stream",
          "name": "stderr",
          "text": [
            "Training Epoch 2: 100%|██████████| 255/255 [00:28<00:00,  8.91it/s, loss=0.0118]\n"
          ]
        },
        {
          "output_type": "stream",
          "name": "stdout",
          "text": [
            "Epoch 3/5 - Training: hazard-category\n"
          ]
        },
        {
          "output_type": "stream",
          "name": "stderr",
          "text": [
            "Training Epoch 3: 100%|██████████| 255/255 [00:28<00:00,  8.91it/s, loss=0.0149]\n"
          ]
        },
        {
          "output_type": "stream",
          "name": "stdout",
          "text": [
            "Epoch 4/5 - Training: hazard-category\n"
          ]
        },
        {
          "output_type": "stream",
          "name": "stderr",
          "text": [
            "Training Epoch 4: 100%|██████████| 255/255 [00:28<00:00,  8.89it/s, loss=0.0275]\n"
          ]
        },
        {
          "output_type": "stream",
          "name": "stdout",
          "text": [
            "Epoch 5/5 - Training: hazard-category\n"
          ]
        },
        {
          "output_type": "stream",
          "name": "stderr",
          "text": [
            "Training Epoch 5: 100%|██████████| 255/255 [00:28<00:00,  8.89it/s, loss=0.00476]\n"
          ]
        },
        {
          "output_type": "stream",
          "name": "stdout",
          "text": [
            "Evaluating model for task: hazard-category\n"
          ]
        },
        {
          "output_type": "stream",
          "name": "stderr",
          "text": [
            "Evaluating: 100%|██████████| 64/64 [00:03<00:00, 18.00it/s]\n"
          ]
        },
        {
          "output_type": "stream",
          "name": "stdout",
          "text": [
            "F1-Score for hazard-category: 0.9293190683407044\n",
            "Classification Report for hazard-category:\n",
            "\n",
            "                                precision    recall  f1-score   support\n",
            "\n",
            "                     allergens       0.94      0.98      0.96       377\n",
            "                    biological       0.99      0.98      0.98       339\n",
            "                      chemical       0.88      0.93      0.90        68\n",
            "food additives and flavourings       0.00      0.00      0.00         5\n",
            "                foreign bodies       0.95      0.95      0.95       111\n",
            "                         fraud       0.84      0.68      0.75        68\n",
            "                     migration       0.00      0.00      0.00         1\n",
            "          organoleptic aspects       0.75      0.90      0.82        10\n",
            "                  other hazard       0.62      0.74      0.68        27\n",
            "              packaging defect       1.00      0.55      0.71        11\n",
            "\n",
            "                      accuracy                           0.93      1017\n",
            "                     macro avg       0.70      0.67      0.67      1017\n",
            "                  weighted avg       0.93      0.93      0.93      1017\n",
            "\n",
            "\n",
            "Starting training for task: product-category\n"
          ]
        },
        {
          "output_type": "stream",
          "name": "stderr",
          "text": [
            "Some weights of BertForSequenceClassification were not initialized from the model checkpoint at microsoft/BiomedNLP-PubMedBERT-base-uncased-abstract and are newly initialized: ['classifier.bias', 'classifier.weight']\n",
            "You should probably TRAIN this model on a down-stream task to be able to use it for predictions and inference.\n"
          ]
        },
        {
          "output_type": "stream",
          "name": "stdout",
          "text": [
            "Epoch 1/5 - Training: product-category\n"
          ]
        },
        {
          "output_type": "stream",
          "name": "stderr",
          "text": [
            "Training Epoch 1: 100%|██████████| 255/255 [00:28<00:00,  8.89it/s, loss=0.413]\n"
          ]
        },
        {
          "output_type": "stream",
          "name": "stdout",
          "text": [
            "Epoch 2/5 - Training: product-category\n"
          ]
        },
        {
          "output_type": "stream",
          "name": "stderr",
          "text": [
            "Training Epoch 2: 100%|██████████| 255/255 [00:28<00:00,  8.86it/s, loss=2.53]\n"
          ]
        },
        {
          "output_type": "stream",
          "name": "stdout",
          "text": [
            "Epoch 3/5 - Training: product-category\n"
          ]
        },
        {
          "output_type": "stream",
          "name": "stderr",
          "text": [
            "Training Epoch 3: 100%|██████████| 255/255 [00:28<00:00,  8.89it/s, loss=0.0937]\n"
          ]
        },
        {
          "output_type": "stream",
          "name": "stdout",
          "text": [
            "Epoch 4/5 - Training: product-category\n"
          ]
        },
        {
          "output_type": "stream",
          "name": "stderr",
          "text": [
            "Training Epoch 4: 100%|██████████| 255/255 [00:28<00:00,  8.87it/s, loss=0.543]\n"
          ]
        },
        {
          "output_type": "stream",
          "name": "stdout",
          "text": [
            "Epoch 5/5 - Training: product-category\n"
          ]
        },
        {
          "output_type": "stream",
          "name": "stderr",
          "text": [
            "Training Epoch 5: 100%|██████████| 255/255 [00:28<00:00,  8.86it/s, loss=0.789]\n"
          ]
        },
        {
          "output_type": "stream",
          "name": "stdout",
          "text": [
            "Evaluating model for task: product-category\n"
          ]
        },
        {
          "output_type": "stream",
          "name": "stderr",
          "text": [
            "Evaluating: 100%|██████████| 64/64 [00:03<00:00, 17.96it/s]\n"
          ]
        },
        {
          "output_type": "stream",
          "name": "stdout",
          "text": [
            "F1-Score for product-category: 0.7270662985154848\n",
            "Classification Report for product-category:\n",
            "\n",
            "                                                   precision    recall  f1-score   support\n",
            "\n",
            "                              alcoholic beverages       0.80      0.57      0.67         7\n",
            "                      cereals and bakery products       0.67      0.76      0.71       123\n",
            "     cocoa and cocoa preparations, coffee and tea       0.71      0.73      0.72        49\n",
            "                                    confectionery       0.51      0.57      0.54        40\n",
            "dietetic foods, food supplements, fortified foods       0.58      0.79      0.67        24\n",
            "                                    fats and oils       1.00      0.50      0.67         4\n",
            "                                   feed materials       0.00      0.00      0.00         3\n",
            "                           food contact materials       0.00      0.00      0.00         1\n",
            "                            fruits and vegetables       0.76      0.72      0.74       112\n",
            "                                 herbs and spices       0.30      0.56      0.39        16\n",
            "                            honey and royal jelly       0.00      0.00      0.00         1\n",
            "                                ices and desserts       0.82      0.88      0.84        56\n",
            "                     meat, egg and dairy products       0.91      0.90      0.90       282\n",
            "                          non-alcoholic beverages       0.89      0.77      0.83        31\n",
            "                     nuts, nut products and seeds       0.62      0.71      0.66        63\n",
            "                       other food product / mixed       0.00      0.00      0.00         9\n",
            "                                         pet feed       0.80      0.67      0.73         6\n",
            "                       prepared dishes and snacks       0.50      0.34      0.41        90\n",
            "                                          seafood       0.81      0.86      0.83        56\n",
            "             soups, broths, sauces and condiments       0.62      0.58      0.60        43\n",
            "                                sugars and syrups       0.00      0.00      0.00         1\n",
            "\n",
            "                                         accuracy                           0.73      1017\n",
            "                                        macro avg       0.54      0.52      0.52      1017\n",
            "                                     weighted avg       0.73      0.73      0.73      1017\n",
            "\n",
            "\n",
            "Starting training for task: hazard\n"
          ]
        },
        {
          "output_type": "stream",
          "name": "stderr",
          "text": [
            "Some weights of BertForSequenceClassification were not initialized from the model checkpoint at microsoft/BiomedNLP-PubMedBERT-base-uncased-abstract and are newly initialized: ['classifier.bias', 'classifier.weight']\n",
            "You should probably TRAIN this model on a down-stream task to be able to use it for predictions and inference.\n"
          ]
        },
        {
          "output_type": "stream",
          "name": "stdout",
          "text": [
            "Epoch 1/5 - Training: hazard\n"
          ]
        },
        {
          "output_type": "stream",
          "name": "stderr",
          "text": [
            "Training Epoch 1: 100%|██████████| 255/255 [00:28<00:00,  8.87it/s, loss=1.77]\n"
          ]
        },
        {
          "output_type": "stream",
          "name": "stdout",
          "text": [
            "Epoch 2/5 - Training: hazard\n"
          ]
        },
        {
          "output_type": "stream",
          "name": "stderr",
          "text": [
            "Training Epoch 2: 100%|██████████| 255/255 [00:28<00:00,  8.87it/s, loss=0.0346]\n"
          ]
        },
        {
          "output_type": "stream",
          "name": "stdout",
          "text": [
            "Epoch 3/5 - Training: hazard\n"
          ]
        },
        {
          "output_type": "stream",
          "name": "stderr",
          "text": [
            "Training Epoch 3: 100%|██████████| 255/255 [00:28<00:00,  8.85it/s, loss=0.0309]\n"
          ]
        },
        {
          "output_type": "stream",
          "name": "stdout",
          "text": [
            "Epoch 4/5 - Training: hazard\n"
          ]
        },
        {
          "output_type": "stream",
          "name": "stderr",
          "text": [
            "Training Epoch 4: 100%|██████████| 255/255 [00:28<00:00,  8.87it/s, loss=0.0161]\n"
          ]
        },
        {
          "output_type": "stream",
          "name": "stdout",
          "text": [
            "Epoch 5/5 - Training: hazard\n"
          ]
        },
        {
          "output_type": "stream",
          "name": "stderr",
          "text": [
            "Training Epoch 5: 100%|██████████| 255/255 [00:28<00:00,  8.83it/s, loss=0.0425]\n"
          ]
        },
        {
          "output_type": "stream",
          "name": "stdout",
          "text": [
            "Evaluating model for task: hazard\n"
          ]
        },
        {
          "output_type": "stream",
          "name": "stderr",
          "text": [
            "Evaluating: 100%|██████████| 64/64 [00:03<00:00, 17.94it/s]\n"
          ]
        },
        {
          "output_type": "stream",
          "name": "stdout",
          "text": [
            "F1-Score for hazard: 0.7387397942226005\n",
            "Classification Report for hazard:\n",
            "\n",
            "                                                   precision    recall  f1-score   support\n",
            "\n",
            "                                        Aflatoxin       1.00      1.00      1.00         4\n",
            "                                  alcohol content       0.00      0.00      0.00         1\n",
            "                                        alkaloids       0.00      0.00      0.00         2\n",
            "                                        allergens       0.00      0.00      0.00         4\n",
            "                                           almond       0.67      1.00      0.80        14\n",
            "             altered organoleptic characteristics       0.00      0.00      0.00         2\n",
            "                                        amygdalin       0.00      0.00      0.00         2\n",
            "                           antibiotics, vet drugs       0.00      0.00      0.00         1\n",
            "                                    bacillus spp.       1.00      1.00      1.00         1\n",
            "                             bad smell / off odor       0.00      0.00      0.00         1\n",
            "                                    bone fragment       0.50      1.00      0.67         1\n",
            "                                       brazil nut       0.00      0.00      0.00         1\n",
            "                                bulging packaging       0.00      0.00      0.00         4\n",
            "                                           cashew       1.00      0.12      0.22         8\n",
            "                      celery and products thereof       0.00      0.00      0.00         3\n",
            "                                          cereals       0.00      0.00      0.00         1\n",
            "   cereals containing gluten and products thereof       0.74      0.91      0.81        43\n",
            "                                         chemical       0.00      0.00      0.00         2\n",
            "                 chemical compound (high content)       0.00      0.00      0.00         3\n",
            "                 chemical compound (unauthorised)       0.00      0.00      0.00         3\n",
            "                            clostridium botulinum       0.44      1.00      0.62         4\n",
            "                                          coconut       0.00      0.00      0.00         1\n",
            "                                        coliforms       0.00      0.00      0.00         1\n",
            "                          compositional deviation       0.00      0.00      0.00         1\n",
            "                                  cronobacter spp       0.00      0.00      0.00         2\n",
            "                 crustaceans and products thereof       0.00      0.00      0.00         3\n",
            "                                       cyclospora       0.25      1.00      0.40         1\n",
            "                                   dairy products       0.00      0.00      0.00         1\n",
            "                                          dioxins       0.33      1.00      0.50         1\n",
            "                      e 425 - konjac unauthorised       1.00      1.00      1.00         2\n",
            "                        eggs and products thereof       0.89      0.76      0.82        42\n",
            "                                    enteroviruses       1.00      1.00      1.00         1\n",
            "                                 escherichia coli       1.00      0.96      0.98        47\n",
            "                        fish and products thereof       0.55      0.75      0.63         8\n",
            "                                   foreign bodies       0.00      0.00      0.00         3\n",
            "                                   glass fragment       0.95      0.86      0.90        21\n",
            "                                         hazelnut       0.67      0.67      0.67         3\n",
            "                                     heavy metals       0.35      1.00      0.52         7\n",
            "                           high content of copper       0.00      0.00      0.00         1\n",
            "                          high content of cyanide       0.00      0.00      0.00         1\n",
            "                         high content of vitamins       0.00      0.00      0.00         1\n",
            "                              improper conditions       0.00      0.00      0.00         3\n",
            "                               improper packaging       0.00      0.00      0.00         2\n",
            "                               incorrect labeling       0.08      0.25      0.12         4\n",
            "                           incorrect use by dates       0.00      0.00      0.00         7\n",
            "                                          insects       1.00      1.00      1.00         2\n",
            "                                inspection issues       0.82      0.88      0.85        16\n",
            "             insufficient labelling/documentation       0.00      0.00      0.00         1\n",
            "                         labelling/misdescription       0.00      0.00      0.00        10\n",
            "                           listeria monocytogenes       0.94      1.00      0.97       139\n",
            "                                     listeria spp       0.00      0.00      0.00         2\n",
            "                                   metal fragment       0.71      0.83      0.77        36\n",
            "                    microbiological contamination       0.33      0.50      0.40         2\n",
            "                        milk and products thereof       0.88      0.92      0.90       108\n",
            "                                      misbranding       0.00      0.00      0.00         1\n",
            "                                   misdescription       0.00      0.00      0.00         3\n",
            "                                      mislabelled       0.00      0.00      0.00         1\n",
            "                    molluscs and products thereof       0.00      0.00      0.00         1\n",
            "                                           moulds       0.33      1.00      0.50         2\n",
            "                     mustard and products thereof       0.75      1.00      0.86         9\n",
            "                                         nitrogen       0.00      0.00      0.00         1\n",
            "                        non compliance with HACCP       0.00      0.00      0.00         1\n",
            "                                        norovirus       1.00      1.00      1.00         5\n",
            "                                             nuts       0.25      0.17      0.20         6\n",
            "                                       ochratoxin       0.00      0.00      0.00         1\n",
            "                                   organochlorine       0.00      0.00      0.00         1\n",
            "                                            other       0.29      0.35      0.31        23\n",
            "                         other misbranding issues       0.00      0.00      0.00         1\n",
            "                             other not classified       0.25      0.40      0.31         5\n",
            "          other not classified biological hazards       0.00      0.00      0.00         2\n",
            "            other not classified chemical hazards       0.50      0.67      0.57         6\n",
            "  other not classified hazards for foreign bodies       0.00      0.00      0.00         2\n",
            "                                 packaging defect       0.00      0.00      0.00         5\n",
            "                                             pahs       0.00      0.00      0.00         0\n",
            "       paralytic shellfish poisoning (psp) toxins       0.00      0.00      0.00         1\n",
            "                              pathogenic bacteria       0.00      0.00      0.00         2\n",
            "                                          patulin       0.00      0.00      0.00         2\n",
            "                     peanuts and products thereof       0.95      0.91      0.93        45\n",
            "                                        pecan nut       0.75      0.50      0.60         6\n",
            "                                   pieces of wood       0.00      0.00      0.00         2\n",
            "                                    pistachio nut       0.00      0.00      0.00         3\n",
            "                                 plastic fragment       0.76      0.90      0.82        39\n",
            "                 polycyclic aromatic hydrocarbons       0.00      0.00      0.00         1\n",
            "                              poor hygienic state       0.00      0.00      0.00         1\n",
            "                    poor or insufficient controls       0.00      0.00      0.00         4\n",
            "                                       processing       0.33      0.83      0.48         6\n",
            "                 product category/characteristics       0.00      0.00      0.00         1\n",
            "                                 rubber fragments       1.00      0.75      0.86         4\n",
            "                                       salmonella       0.96      0.94      0.95       121\n",
            "                sesame seeds and products thereof       0.90      0.90      0.90        10\n",
            "                    soybeans and products thereof       0.64      0.85      0.73        34\n",
            "                    specified risk material (srm)       0.00      0.00      0.00         4\n",
            "                                         spoilage       0.43      0.75      0.55         4\n",
            "                                   staphylococcus       1.00      1.00      1.00         3\n",
            "                              sulphates/sulphites       0.00      0.00      0.00         3\n",
            "                                  sulphur dioxide       1.00      0.60      0.75         5\n",
            "                    sulphur dioxide and sulphites       0.71      0.94      0.81        18\n",
            "                                        tampering       0.00      0.00      0.00         2\n",
            "                                taste disturbance       0.00      0.00      0.00         3\n",
            "too high content of fluorinated organic chemicals       0.00      0.00      0.00         2\n",
            "   too high content of tetrahydrocannabinol (THC)       0.40      1.00      0.57         2\n",
            "                                            toxin       1.00      1.00      1.00         8\n",
            "                              unauthorised import       0.00      0.00      0.00         1\n",
            "               unauthorised placing on the market       0.00      0.00      0.00         1\n",
            "            unauthorised substance ethylene oxide       1.00      1.00      1.00         9\n",
            "                              undeclared additive       1.00      0.50      0.67         2\n",
            "                           undeclared constituent       0.00      0.00      0.00         1\n",
            "                                            virus       0.00      0.00      0.00         1\n",
            "                                           walnut       0.25      1.00      0.40         5\n",
            "\n",
            "                                         accuracy                           0.77      1017\n",
            "                                        macro avg       0.31      0.36      0.31      1017\n",
            "                                     weighted avg       0.73      0.77      0.74      1017\n",
            "\n",
            "\n",
            "Starting training for task: product\n"
          ]
        },
        {
          "output_type": "stream",
          "name": "stderr",
          "text": [
            "Some weights of BertForSequenceClassification were not initialized from the model checkpoint at microsoft/BiomedNLP-PubMedBERT-base-uncased-abstract and are newly initialized: ['classifier.bias', 'classifier.weight']\n",
            "You should probably TRAIN this model on a down-stream task to be able to use it for predictions and inference.\n"
          ]
        },
        {
          "output_type": "stream",
          "name": "stdout",
          "text": [
            "Epoch 1/5 - Training: product\n"
          ]
        },
        {
          "output_type": "stream",
          "name": "stderr",
          "text": [
            "Training Epoch 1: 100%|██████████| 255/255 [00:28<00:00,  8.86it/s, loss=5.69]\n"
          ]
        },
        {
          "output_type": "stream",
          "name": "stdout",
          "text": [
            "Epoch 2/5 - Training: product\n"
          ]
        },
        {
          "output_type": "stream",
          "name": "stderr",
          "text": [
            "Training Epoch 2: 100%|██████████| 255/255 [00:28<00:00,  8.83it/s, loss=7.63]\n"
          ]
        },
        {
          "output_type": "stream",
          "name": "stdout",
          "text": [
            "Epoch 3/5 - Training: product\n"
          ]
        },
        {
          "output_type": "stream",
          "name": "stderr",
          "text": [
            "Training Epoch 3: 100%|██████████| 255/255 [00:28<00:00,  8.86it/s, loss=4.16]\n"
          ]
        },
        {
          "output_type": "stream",
          "name": "stdout",
          "text": [
            "Epoch 4/5 - Training: product\n"
          ]
        },
        {
          "output_type": "stream",
          "name": "stderr",
          "text": [
            "Training Epoch 4: 100%|██████████| 255/255 [00:28<00:00,  8.86it/s, loss=6.68]\n"
          ]
        },
        {
          "output_type": "stream",
          "name": "stdout",
          "text": [
            "Epoch 5/5 - Training: product\n"
          ]
        },
        {
          "output_type": "stream",
          "name": "stderr",
          "text": [
            "Training Epoch 5: 100%|██████████| 255/255 [00:28<00:00,  8.83it/s, loss=7.65]\n"
          ]
        },
        {
          "output_type": "stream",
          "name": "stdout",
          "text": [
            "Evaluating model for task: product\n"
          ]
        },
        {
          "output_type": "stream",
          "name": "stderr",
          "text": [
            "Evaluating: 100%|██████████| 64/64 [00:03<00:00, 17.83it/s]\n"
          ]
        },
        {
          "output_type": "stream",
          "name": "stdout",
          "text": [
            "F1-Score for product: 0.07272391709324218\n",
            "Classification Report for product:\n",
            "\n",
            "                                                   precision    recall  f1-score   support\n",
            "\n",
            "                           Catfishes (freshwater)       0.00      0.00      0.00         5\n",
            "                            Fishes not identified       0.25      0.17      0.20         6\n",
            "                         Not classified pork meat       0.00      0.00      0.00         3\n",
            "                       Pangas catfishes (generic)       0.00      0.00      0.00         1\n",
            "              Precooked cooked pork meat products       0.00      0.00      0.00         1\n",
            "                                    Veggie Burger       0.00      0.00      0.00         2\n",
            "                               after dinner mints       0.00      0.00      0.00         1\n",
            "                                            algae       0.00      0.00      0.00         3\n",
            "                            all purpose seasoning       0.00      0.00      0.00         1\n",
            "                                   almond kernels       0.00      0.00      0.00         1\n",
            "                                  almond products       0.00      0.00      0.00         3\n",
            "                                          almonds       0.00      0.00      0.00         3\n",
            "                                 anchovies in oil       0.00      0.00      0.00         1\n",
            "                                    anchovy paste       0.00      0.00      0.00         1\n",
            "                                       angus beef       0.00      0.00      0.00         2\n",
            "                               animal by-products       0.00      0.00      0.00         1\n",
            "                                       apple cake       0.00      0.00      0.00         1\n",
            "                                      apple juice       0.00      0.00      0.00         1\n",
            "                                  apricot kernels       0.00      0.00      0.00         2\n",
            "                                         apricots       0.00      0.00      0.00         1\n",
            "                    assorted bread roll selection       0.00      0.00      0.00         1\n",
            "                                        baby food       0.00      0.00      0.00         2\n",
            "                                     baby spinach       0.00      0.00      0.00         2\n",
            "                                           bagels       0.00      0.00      0.00         1\n",
            "                                  bakery products       0.00      0.00      0.00         1\n",
            "                                       baking mix       0.00      0.00      0.00         1\n",
            "                                           bamboo       0.00      0.00      0.00         1\n",
            "                                   barbecue sauce       0.00      0.00      0.00         2\n",
            "                                             bars       0.00      0.00      0.00         2\n",
            "                                basil pesto sauce       0.00      0.00      0.00         1\n",
            "                                       bean snack       0.00      0.00      0.00         1\n",
            "                                     bean sprouts       0.00      0.00      0.00         1\n",
            "                                             beef       0.00      0.00      0.00         7\n",
            "                                        beef meat       0.00      0.00      0.00         2\n",
            "                                    beef products       0.00      0.00      0.00         6\n",
            "                                      beef stewed       0.00      0.00      0.00         1\n",
            "                                      beef tallow       0.00      0.00      0.00         1\n",
            "                                      beef tongue       0.00      0.00      0.00         1\n",
            "                                             beer       0.00      0.00      0.00         4\n",
            "                                         beverage       0.00      0.00      0.00         1\n",
            "        beverage base of non-fruit origin, liquid       0.00      0.00      0.00         1\n",
            "                                         biscuits       0.00      0.00      0.00         6\n",
            "                           bitter apricot kernels       0.00      0.00      0.00         1\n",
            "                                     blackberries       0.00      0.00      0.00         1\n",
            "                   blackcurrant drink concentrate       0.00      0.00      0.00         1\n",
            "                                 blue poppy seeds       0.00      0.00      0.00         1\n",
            "              boletus mushrooms, stems and pieces       0.00      0.00      0.00         1\n",
            "                            bottled mineral water       0.00      0.00      0.00         2\n",
            "                                      brazil nuts       0.00      0.00      0.00         2\n",
            "                                            bread       0.00      0.00      0.00         8\n",
            "                      bread and products therefor       0.00      0.00      0.00         3\n",
            "                                breakfast cereals       0.00      0.00      0.00         1\n",
            "                     breakfast cereals for babies       0.00      0.00      0.00         1\n",
            "                                      brie cheese       0.00      0.00      0.00         1\n",
            "                                         broccoli       0.00      0.00      0.00         1\n",
            "                                             buns       0.00      0.00      0.00         2\n",
            "                                          burrata       0.00      0.00      0.00         1\n",
            "                           burrito (ready to eat)       0.00      0.00      0.00         1\n",
            "                                           butter       0.00      0.00      0.00         1\n",
            "                                            cakes       0.05      0.94      0.09        17\n",
            "                                          candies       0.00      0.00      0.00         9\n",
            "                                   canned chicken       0.00      0.00      0.00         1\n",
            "                                   canned mussels       0.00      0.00      0.00         1\n",
            "                                   canned spinach       0.00      0.00      0.00         1\n",
            "                                   cardamom seeds       0.00      0.00      0.00         1\n",
            "                                           cashew       0.00      0.00      0.00         1\n",
            "                                      cauliflower       0.00      0.00      0.00         2\n",
            "                                          cbd oil       0.00      0.00      0.00         1\n",
            "                                     cbd products       0.00      0.00      0.00         1\n",
            "                                           cereal       0.00      0.00      0.00         2\n",
            "                                   cheddar cheese       0.00      0.00      0.00         2\n",
            "                                           cheese       0.13      1.00      0.23        10\n",
            "                                   cheese burgers       0.00      0.00      0.00         1\n",
            "                                       cheese dip       0.00      0.00      0.00         1\n",
            "                                  cheese products       0.00      0.00      0.00         1\n",
            "                                         cherries       0.00      0.00      0.00         1\n",
            "                                       chia seeds       0.00      0.00      0.00         4\n",
            "                                          chicken       0.00      0.00      0.00         8\n",
            "                           chicken based products       0.17      1.00      0.29        23\n",
            "                                   chicken breast       0.00      0.00      0.00         1\n",
            "                                    chicken broth       0.00      0.00      0.00         1\n",
            "                                  chicken dippers       0.00      0.00      0.00         1\n",
            "                                chicken meat meal       0.00      0.00      0.00         1\n",
            "                            chicken meat products       0.00      0.00      0.00         1\n",
            "                              chicken noodle soup       0.00      0.00      0.00         1\n",
            "                             chicken preparations       0.00      0.00      0.00         6\n",
            "                        chicken products - frozen       0.00      0.00      0.00         2\n",
            "                                        chickpeas       0.00      0.00      0.00         1\n",
            "                                  chilled chicken       0.00      0.00      0.00         1\n",
            "                            chilled chicken parts       0.00      0.00      0.00         1\n",
            "                                   chilled salads       0.00      0.00      0.00         5\n",
            "                                       chilli oil       0.00      0.00      0.00         0\n",
            "                                     chilli paste       0.00      0.00      0.00         1\n",
            "                                     chilli sauce       0.00      0.00      0.00         1\n",
            "                                        chocolate       0.00      0.00      0.00         8\n",
            "                 chocolate and chocolate products       0.00      0.00      0.00         1\n",
            "                    chocolate and hazelnut spread       0.00      0.00      0.00         2\n",
            "                  chocolate and products therefor       0.00      0.00      0.00         1\n",
            "                                   chocolate bars       0.00      0.00      0.00         5\n",
            "                                   chocolate eggs       0.00      0.00      0.00         3\n",
            "                               chocolate products       0.00      0.00      0.00         9\n",
            "                                 chocolate spread       0.00      0.00      0.00         1\n",
            "                  chocolate spread with hazelnuts       0.00      0.00      0.00         1\n",
            "                                 chocolate wafers       0.00      0.00      0.00         1\n",
            "                                          chorizo       0.00      0.00      0.00         4\n",
            "                                   cinnamon rolls       0.00      0.00      0.00         1\n",
            "                                            clams       0.00      0.00      0.00         1\n",
            "                                    coconut juice       0.00      0.00      0.00         2\n",
            "                                     coconut milk       0.00      0.00      0.00         2\n",
            "                               coconut milk drink       0.00      0.00      0.00         1\n",
            "                                         coconuts       0.00      0.00      0.00         4\n",
            "                                     coffee beans       0.00      0.00      0.00         2\n",
            "                                     coffee drink       0.00      0.00      0.00         1\n",
            "                              concentrated apples       0.00      0.00      0.00         1\n",
            "                                    confectionery       0.00      0.00      0.00         1\n",
            "                                   cooked chicken       0.00      0.00      0.00         3\n",
            "                            cooked chicken skewer       0.00      0.00      0.00         1\n",
            "                                       cooked ham       0.00      0.00      0.00         1\n",
            "                                  cooked sausages       0.00      0.00      0.00         1\n",
            "                                          cookies       0.41      1.00      0.58        13\n",
            "                                        coriander       0.00      0.00      0.00         1\n",
            "                                             corn       0.00      0.00      0.00         5\n",
            "                                   cottage cheese       0.00      0.00      0.00         1\n",
            "                                        cous cous       0.00      0.00      0.00         1\n",
            "                                  cow milk cheese       0.00      0.00      0.00         1\n",
            "                                         crackers       0.00      0.00      0.00         2\n",
            "                                     cream cheese       0.00      0.00      0.00         2\n",
            "                              cream chocolate pie       0.00      0.00      0.00         1\n",
            "                                           crisps       0.00      0.00      0.00         1\n",
            "                                       croissants       0.00      0.00      0.00         1\n",
            "                 crustaceans and products thereof       0.00      0.00      0.00         1\n",
            "                                         cupcakes       0.00      0.00      0.00         2\n",
            "                                       cured loin       0.00      0.00      0.00         1\n",
            "                                            curry       0.00      0.00      0.00         1\n",
            "                                          custard       0.00      0.00      0.00         1\n",
            "                                  dark chocolates       0.00      0.00      0.00         7\n",
            "                                            dates       0.00      0.00      0.00         2\n",
            "                                         desserts       0.00      0.00      0.00         4\n",
            "                               dietary supplement       0.00      0.00      0.00         4\n",
            "dietetic foods, food supplements, fortified foods       0.00      0.00      0.00         2\n",
            "                                        dip-sauce       0.00      0.00      0.00         4\n",
            "                                    dipping sauce       0.00      0.00      0.00         1\n",
            "                                           donuts       0.00      0.00      0.00         2\n",
            "                                         dressing       0.00      0.00      0.00         1\n",
            "                                  dried anchovies       0.00      0.00      0.00         1\n",
            "                                     dried apples       0.00      0.00      0.00         1\n",
            "                                   dried apricots       0.00      0.00      0.00         4\n",
            "                                  dried beef meat       0.00      0.00      0.00         7\n",
            "                                    dried coconut       0.00      0.00      0.00         1\n",
            "                                dried cranberries       0.00      0.00      0.00         1\n",
            "                                       dried figs       0.00      0.00      0.00         2\n",
            "                                  dried fruit mix       0.00      0.00      0.00         1\n",
            "                                     dried fruits       0.00      0.00      0.00         1\n",
            "                      dried fruits with chocolate       0.00      0.00      0.00         2\n",
            "                                  dried mushrooms       0.00      0.00      0.00         2\n",
            "                                      dried plums       0.00      0.00      0.00         2\n",
            "                                    dried sausage       0.00      0.00      0.00         1\n",
            "                               dried strawberries       0.00      0.00      0.00         1\n",
            "                                      dry sausage       0.00      0.00      0.00         1\n",
            "                                             duck       0.00      0.00      0.00         2\n",
            "                                        dumplings       0.00      0.00      0.00         3\n",
            "                                      edam cheese       0.00      0.00      0.00         1\n",
            "                                             eggs       0.00      0.00      0.00         7\n",
            "                            eggs and egg products       0.00      0.00      0.00         1\n",
            "                          energy and protein bars       0.00      0.00      0.00         1\n",
            "                                   feed materials       0.00      0.00      0.00         3\n",
            "                                     fennel seeds       0.00      0.00      0.00         1\n",
            "                                      feta cheese       0.00      0.00      0.00         5\n",
            "                                    fish products       0.00      0.00      0.00         2\n",
            "         flavoured fresh and creamy cheese spread       0.00      0.00      0.00         1\n",
            "                             flavoured soft drink       0.00      0.00      0.00         1\n",
            "              flavoured whey protein preparations       0.00      0.00      0.00         2\n",
            "                                            flour       0.00      0.00      0.00         4\n",
            "                                        foie gras       0.00      0.00      0.00         1\n",
            "                                  food supplement       0.00      0.00      0.00         1\n",
            "                                       fresh beef       0.00      0.00      0.00         1\n",
            "                                  fresh beef meat       0.00      0.00      0.00         1\n",
            "                                  fresh mushrooms       0.00      0.00      0.00         4\n",
            "                                    fresh parsley       0.00      0.00      0.00         1\n",
            "                                       fresh pork       0.00      0.00      0.00         1\n",
            "               fresh processed beef meat products       0.00      0.00      0.00         2\n",
            "                                 fresh vegetables       0.00      0.00      0.00         2\n",
            "                                      frozen beef       0.00      0.00      0.00         1\n",
            "                              frozen beef patties       0.00      0.00      0.00         2\n",
            "                             frozen beef products       0.00      0.00      0.00         1\n",
            "                                  frozen broccoli       0.00      0.00      0.00         1\n",
            "                               frozen burger buns       0.00      0.00      0.00         1\n",
            "                                   frozen burgers       0.00      0.00      0.00         1\n",
            "                                   frozen chicken       0.00      0.00      0.00         1\n",
            "                              frozen fish fillets       0.00      0.00      0.00         1\n",
            "                               frozen green beans       0.00      0.00      0.00         1\n",
            "                                frozen hamburgers       0.00      0.00      0.00         1\n",
            "                               frozen hash browns       0.00      0.00      0.00         1\n",
            "                                   frozen lobster       0.00      0.00      0.00         1\n",
            "                                  frozen pancakes       0.00      0.00      0.00         1\n",
            "                                      frozen peas       0.00      0.00      0.00         1\n",
            "                                   frozen peppers       0.00      0.00      0.00         1\n",
            "                                       frozen pie       0.00      0.00      0.00         1\n",
            "                                     frozen pizza       0.00      0.00      0.00         3\n",
            "                         frozen pork preparations       0.00      0.00      0.00         1\n",
            "                                   frozen poultry       0.00      0.00      0.00         1\n",
            "                      frozen poultry preparations       0.00      0.00      0.00         1\n",
            "                          frozen poultry products       0.00      0.00      0.00         2\n",
            "                     frozen ready to cook chicken       0.00      0.00      0.00         1\n",
            "                                frozen vegetables       0.00      0.00      0.00         1\n",
            "                         frozen vegetarian cutlet       0.00      0.00      0.00         1\n",
            "                                frozen whole fish       0.00      0.00      0.00         1\n",
            "                                      fruit juice       0.00      0.00      0.00         3\n",
            "                                      fruit punch       0.00      0.00      0.00         1\n",
            "                            fruits and vegetables       0.00      0.00      0.00         1\n",
            "                                    garlic powder       0.00      0.00      0.00         1\n",
            "                                      goat cheese       0.00      0.00      0.00         1\n",
            "                                            gouda       0.00      0.00      0.00         1\n",
            "                                     gouda cheese       0.00      0.00      0.00         1\n",
            "                                          granola       0.00      0.00      0.00         2\n",
            "                                   grated coconut       0.00      0.00      0.00         2\n",
            "                                        gravy mix       0.00      0.00      0.00         1\n",
            "                             grissini breadsticks       0.00      0.00      0.00         1\n",
            "                                   ground almonds       0.00      0.00      0.00         1\n",
            "                                      ground beef       0.10      1.00      0.17         9\n",
            "                                 ground beef meat       0.00      0.00      0.00         1\n",
            "                              ground black pepper       0.00      0.00      0.00         1\n",
            "                                  halloumi cheese       0.00      0.00      0.00         4\n",
            "                                            halva       0.00      0.00      0.00         1\n",
            "                                              ham       1.00      0.12      0.22         8\n",
            "                                          herring       0.00      0.00      0.00         4\n",
            "                                            honey       0.00      0.00      0.00         1\n",
            "                              horseradish in jars       0.00      0.00      0.00         1\n",
            "                                         hot dogs       0.00      0.00      0.00         1\n",
            "                                        ice cream       0.31      0.92      0.47        50\n",
            "                                   infant formula       0.00      0.00      0.00         3\n",
            "                                   instant cereal       0.00      0.00      0.00         1\n",
            "                                   instant coffee       0.00      0.00      0.00         1\n",
            "                                              jam       0.00      0.00      0.00         5\n",
            "                                          jellies       0.00      0.00      0.00         4\n",
            "                                             kale       0.00      0.00      0.00         2\n",
            "                                          ketchup       0.00      0.00      0.00         1\n",
            "                                          lasagne       0.00      0.00      0.00         3\n",
            "                            lemonade (lemon soda)       0.00      0.00      0.00         1\n",
            "                                          lentils       0.00      0.00      0.00         1\n",
            "                                          lettuce       0.00      0.00      0.00         1\n",
            "                                 liquid egg white       0.00      0.00      0.00         1\n",
            "                           liquid food supplement       0.00      0.00      0.00         1\n",
            "                                           lokoum       0.00      0.00      0.00         1\n",
            "                                        lollipops       0.00      0.00      0.00         1\n",
            "                                  long grain rice       0.00      0.00      0.00         1\n",
            "                                    luncheon meat       0.00      0.00      0.00         1\n",
            "                                      lupin seeds       0.00      0.00      0.00         1\n",
            "                                   macadamia nuts       0.00      0.00      0.00         1\n",
            "                                         mackerel       0.00      0.00      0.00         2\n",
            "                                            maize       0.00      0.00      0.00         2\n",
            "                                        margarine       0.00      0.00      0.00         1\n",
            "                           marinated chicken meat       0.00      0.00      0.00         1\n",
            "                                      marshmalows       0.00      0.00      0.00         1\n",
            "                                 masala spice mix       0.00      0.00      0.00         1\n",
            "                        mashed chickpeas (hummus)       0.00      0.00      0.00         3\n",
            "                                       mayonnaise       0.00      0.00      0.00         1\n",
            "      meat and meat products (other than poultry)       0.00      0.00      0.00         2\n",
            "                                        meat loaf       0.00      0.00      0.00         1\n",
            "                                meat preparations       0.00      0.00      0.00         1\n",
            "                     meat, egg and dairy products       0.00      0.00      0.00         1\n",
            "              mechanically separated chicken meat       0.00      0.00      0.00         1\n",
            "                                             milk       0.22      0.29      0.25         7\n",
            "                   milk chocolate covered raisins       0.00      0.00      0.00         3\n",
            "                                  milk chocolates       0.00      0.00      0.00         3\n",
            "                                    milk products       0.00      0.00      0.00         2\n",
            "                                      minced beef       0.00      0.00      0.00         2\n",
            "                                   minced chicken       0.00      0.00      0.00         1\n",
            "                      mitragyna speciosa (kratom)       0.00      0.00      0.00         3\n",
            "                                      mix of nuts       0.00      0.00      0.00         1\n",
            "                                      mixed salad       0.00      0.00      0.00         1\n",
            "                                 mixed vegetables       0.00      0.00      0.00         2\n",
            "                                         moussaka       0.00      0.00      0.00         1\n",
            "                                mozzarella cheese       0.00      0.00      0.00         1\n",
            "                                           muesli       0.00      0.00      0.00         6\n",
            "                                          muffins       0.00      0.00      0.00         2\n",
            "                                        mushrooms       0.00      0.00      0.00         1\n",
            "                                          mustard       0.00      0.00      0.00         2\n",
            "                               non-alcoholic beer       0.00      0.00      0.00         1\n",
            "                          non-alcoholic beverages       0.00      0.00      0.00         1\n",
            "                                      noodle soup       0.00      0.00      0.00         1\n",
            "                                          noodles       0.00      0.00      0.00         3\n",
            "                                           nougat       0.00      0.00      0.00         1\n",
            "                                          nut mix       0.00      0.00      0.00         1\n",
            "                               nut-almond mixture       0.00      0.00      0.00         1\n",
            "                                  nutrition shake       0.00      0.00      0.00         1\n",
            "                                             nuts       0.00      0.00      0.00         2\n",
            "                                             oats       0.00      0.00      0.00         1\n",
            "                                        olive oil       0.00      0.00      0.00         1\n",
            "                                           olives       0.00      0.00      0.00         2\n",
            "                                           onions       0.18      0.67      0.29         3\n",
            "                                     orange juice       0.00      0.00      0.00         1\n",
            "                               orange sugar paste       0.00      0.00      0.00         1\n",
            "                                          oregano       0.00      0.00      0.00         1\n",
            "                           organic chilled hummus       0.00      0.00      0.00         1\n",
            "                             other dairy products       0.00      0.00      0.00         2\n",
            "               other not classified meat products       0.00      0.00      0.00         4\n",
            "                              other types of meat       0.00      0.00      0.00         6\n",
            "                         other water-based drinks       0.00      0.00      0.00         3\n",
            "                                          oysters       0.25      0.60      0.35         5\n",
            "                                           paella       0.00      0.00      0.00         1\n",
            "                                         palm oil       0.00      0.00      0.00         1\n",
            "                                         pancakes       0.00      0.00      0.00         2\n",
            "                                           papaya       0.00      0.00      0.00         1\n",
            "                                          parsley       0.00      0.00      0.00         1\n",
            "                                            pasta       0.00      0.00      0.00         2\n",
            "                                 pasteurized milk       0.00      0.00      0.00         1\n",
            "                                           pastry       0.00      0.00      0.00         1\n",
            "                                  pastry products       0.00      0.00      0.00         5\n",
            "                                          peaches       0.00      0.00      0.00         0\n",
            "                                          peanuts       0.50      0.09      0.15        11\n",
            "                                       pear juice       0.00      0.00      0.00         1\n",
            "                                            pesto       0.00      0.00      0.00         1\n",
            "                        pesto sauce (pesto verde)       0.00      0.00      0.00         0\n",
            "                                         pet feed       0.00      0.00      0.00         6\n",
            "                                 pickled beetroot       0.00      0.00      0.00         1\n",
            "                             pickled grape leaves       0.00      0.00      0.00         1\n",
            "                                  pickled peppers       0.00      0.00      0.00         1\n",
            "                                  pig meat - pork       0.00      0.00      0.00         2\n",
            "                                        pine nuts       0.00      0.00      0.00         1\n",
            "                                   pistachio nuts       0.00      0.00      0.00         8\n",
            "                                            pizza       0.00      0.00      0.00         1\n",
            "                                         plastics       0.00      0.00      0.00         1\n",
            "                  plum bread &amp; butter pudding       0.00      0.00      0.00         1\n",
            "                                         pork pie       0.00      0.00      0.00         1\n",
            "                                 pork preparation       0.00      0.00      0.00         2\n",
            "                                     pork sausage       0.00      0.00      0.00         3\n",
            "                                     potato chips       0.00      0.00      0.00         4\n",
            "                                potato croquettes       0.00      0.00      0.00         1\n",
            "                                     potato salad       0.00      0.00      0.00         1\n",
            "                                         potatoes       0.00      0.00      0.00         3\n",
            "                                          poultry       0.00      0.00      0.00         1\n",
            "                                     poultry meat       0.00      0.00      0.00         1\n",
            "                                   prawn crackers       0.00      0.00      0.00         1\n",
            "                                           prawns       0.00      0.00      0.00         1\n",
            "              precooked cooked beef meat products       0.00      0.00      0.00         5\n",
            "                                  prepacked salad       0.00      0.00      0.00         2\n",
            "                                    prepared dish       0.00      0.00      0.00         1\n",
            "                  prepared dish containing prawns       0.00      0.00      0.00         1\n",
            "                                  prepared salads       0.00      0.00      0.00         4\n",
            "                                         pretzels       0.00      0.00      0.00         1\n",
            "                                    protein balls       0.00      0.00      0.00         2\n",
            "                                      protein bar       0.00      0.00      0.00         2\n",
            "                                     protein bars       0.00      0.00      0.00         1\n",
            "                                    protein drink       0.00      0.00      0.00         1\n",
            "                                   protein powder       0.00      0.00      0.00         3\n",
            "                                          pudding       0.00      0.00      0.00         1\n",
            "                                      puffed rice       0.00      0.00      0.00         1\n",
            "                                             pâté       0.00      0.00      0.00         2\n",
            "                                quorn preparation       0.00      0.00      0.00         1\n",
            "                                          raisins       0.00      0.00      0.00         1\n",
            "                                      raspberries       0.00      0.00      0.00         3\n",
            "                                    raw beef meat       0.00      0.00      0.00         7\n",
            "                            raw cow's milk cheese       0.00      0.00      0.00         1\n",
            "                             raw goat milk cheese       0.00      0.00      0.00         1\n",
            "                                         raw milk       0.00      0.00      0.00         4\n",
            "                        raw milk cheese reblochon       0.00      0.00      0.00         1\n",
            "         ready cooked sliced chicken tikka breast       0.00      0.00      0.00         1\n",
            "                        ready to eat - cook meals       0.04      0.07      0.05        14\n",
            "                      ready-to-eat seafood sticks       0.00      0.00      0.00         1\n",
            "                                       red chilli       0.00      0.00      0.00         1\n",
            "                                     refreshments       0.00      0.00      0.00         1\n",
            "                                             rice       0.00      0.00      0.00         2\n",
            "                                       rice cakes       0.00      0.00      0.00         1\n",
            "                                    rice crackers       0.00      0.00      0.00         1\n",
            "                                        rice meal       0.00      0.00      0.00         1\n",
            "                                       rice snack       0.00      0.00      0.00         2\n",
            "                                   ricotta cheese       0.00      0.00      0.00         1\n",
            "                                   salad dressing       0.00      0.00      0.00         2\n",
            "                                           salads       0.21      0.58      0.31        12\n",
            "                                           salami       0.00      0.00      0.00         4\n",
            "                                           salmon       0.58      0.78      0.67         9\n",
            "                                             salt       0.00      0.00      0.00         2\n",
            "                                 sandwich filling       0.00      0.00      0.00         1\n",
            "                                       sandwiches       0.75      0.67      0.71         9\n",
            "                                            sauce       0.00      0.00      0.00         5\n",
            "                                           sauces       0.00      0.00      0.00         2\n",
            "                                          sausage       0.00      0.00      0.00         7\n",
            "                                 sausage products       0.00      0.00      0.00         1\n",
            "                                          seafood       0.00      0.00      0.00         1\n",
            "                                 seasoned chicken       0.00      0.00      0.00         1\n",
            "                                        seasoning       0.00      0.00      0.00         2\n",
            "                                  seasoning sauce       0.00      0.00      0.00         1\n",
            "                                       seasonings       0.00      0.00      0.00         1\n",
            "                             seaweed preparations       0.00      0.00      0.00         1\n",
            "                                        seed mixe       0.00      0.00      0.00         1\n",
            "                                     sesame paste       0.00      0.00      0.00         2\n",
            "                                  sesame seed oil       0.00      0.00      0.00         1\n",
            "                                     sesame seeds       0.00      0.00      0.00         1\n",
            "                                          shrimps       0.00      0.00      0.00         5\n",
            "                                       sliced ham       0.00      0.00      0.00         2\n",
            "                                   smoked sausage       0.00      0.00      0.00         4\n",
            "                                   snack crackers       0.00      0.00      0.00         1\n",
            "                                        snack mix       0.00      0.00      0.00         7\n",
            "                                 snacks (various)       0.00      0.00      0.00         3\n",
            "                                       soda drink       0.00      0.00      0.00         1\n",
            "                                      soft drinks       0.00      0.00      0.00         1\n",
            "                                             soup       0.31      0.83      0.45         6\n",
            "                                   soy bean paste       0.00      0.00      0.00         1\n",
            "                                 soy milk product       0.00      0.00      0.00         1\n",
            "                                        soy sauce       0.00      0.00      0.00         1\n",
            "                       soya and products therefor       0.00      0.00      0.00         1\n",
            "                                       soya drink       0.00      0.00      0.00         1\n",
            "                                        spice mix       0.00      0.00      0.00         1\n",
            "                                           spices       0.00      0.00      0.00         1\n",
            "                                   spinach leaves       0.00      0.00      0.00         1\n",
            "                                      sport drink       0.00      0.00      0.00         1\n",
            "                                     spring rolls       0.00      0.00      0.00         2\n",
            "                                     spring water       0.00      0.00      0.00         1\n",
            "                                          sprouts       0.00      0.00      0.00         1\n",
            "                                   stuffed pastry       0.00      0.00      0.00         1\n",
            "                                            sugar       0.00      0.00      0.00         1\n",
            "                                   sunflower seed       0.00      0.00      0.00         7\n",
            "                                           sweets       0.00      0.00      0.00         1\n",
            "                                      swiss rolls       0.00      0.00      0.00         1\n",
            "                                       taco sauce       0.00      0.00      0.00         1\n",
            "                                           tahini       0.00      0.00      0.00         7\n",
            "                            tahini (sesame paste)       0.00      0.00      0.00         1\n",
            "                                              tea       0.00      0.00      0.00         1\n",
            "                                         tea bags       0.00      0.00      0.00         1\n",
            "                                        tea drink       0.00      0.00      0.00         1\n",
            "                      thermal processed beef meat       0.00      0.00      0.00         3\n",
            "                      thermal processed pork meat       0.10      0.57      0.17         7\n",
            "                                             tofu       0.00      0.00      0.00         2\n",
            "                                   tortilla chips       0.00      0.00      0.00         3\n",
            "                            tortilla chips cheese       0.00      0.00      0.00         1\n",
            "                                             tuna       0.00      0.00      0.00         5\n",
            "                   turkey and turkey preparations       0.00      0.00      0.00         5\n",
            "                            turkey based products       0.00      0.00      0.00         3\n",
            "                                   tzatziki sauce       0.00      0.00      0.00         1\n",
            "                          various bakery products       0.00      0.00      0.00         2\n",
            "                                  various cheeses       0.00      0.00      0.00         1\n",
            "                    various chicken meat products       0.00      0.00      0.00         1\n",
            "                           various pasta products       0.00      0.00      0.00         1\n",
            "                                   vegan sausages       0.00      0.00      0.00         1\n",
            "                         vegetable based products       0.00      0.00      0.00         1\n",
            "                                    vegetable mix       0.00      0.00      0.00         2\n",
            "                            vegetable preparation       0.00      0.00      0.00         1\n",
            "                     vegetable ready to eat meals       0.00      0.00      0.00         1\n",
            "                                vegetable samosas       0.00      0.00      0.00         1\n",
            "                                       vegetables       0.00      0.00      0.00         1\n",
            "                                         vitamins       0.00      0.00      0.00         0\n",
            "                              vitamins supplement       0.00      0.00      0.00         1\n",
            "                                           wafers       0.00      0.00      0.00         1\n",
            "                                          waffles       0.00      0.00      0.00         2\n",
            "                                          walnuts       0.00      0.00      0.00         2\n",
            "                                      wheat snack       0.00      0.00      0.00         1\n",
            "                                     whey protein       0.00      0.00      0.00         1\n",
            "                                           whisky       0.00      0.00      0.00         1\n",
            "                              white lasagna sauce       0.00      0.00      0.00         1\n",
            "                                             wine       0.00      0.00      0.00         2\n",
            "                                            wraps       0.00      0.00      0.00         4\n",
            "                                          yoghurt       0.25      0.20      0.22         5\n",
            "\n",
            "                                         accuracy                           0.16      1017\n",
            "                                        macro avg       0.01      0.03      0.01      1017\n",
            "                                     weighted avg       0.06      0.16      0.07      1017\n",
            "\n"
          ]
        },
        {
          "output_type": "display_data",
          "data": {
            "text/plain": [
              "<Figure size 1000x600 with 1 Axes>"
            ],
            "image/png": "[encoded data removed]"
          },
          "metadata": {}
        }
      ]
    },
    {
      "cell_type": "code",
      "source": [
        "print(f1_scores_title_df)\n",
        "print(f1_scores_text_df)"
      ],
      "metadata": {
        "colab": {
          "base_uri": "https://localhost:8080/"
        },
        "id": "ZMHRjdCPavHp",
        "outputId": "1244c729-cbcd-45b2-8df2-d09e77c2361f"
      },
      "execution_count": 3,
      "outputs": [
        {
          "output_type": "stream",
          "name": "stdout",
          "text": [
            "               Task  F1-Score\n",
            "0   hazard-category  0.834372\n",
            "1  product-category  0.743002\n",
            "2            hazard  0.528538\n",
            "3           product  0.111465\n",
            "               Task  F1-Score\n",
            "0   hazard-category  0.929319\n",
            "1  product-category  0.727066\n",
            "2            hazard  0.738740\n",
            "3           product  0.072724\n"
          ]
        }
      ]
    },
    {
      "cell_type": "code",
      "source": [],
      "metadata": {
        "id": "fYMgnEdMayD_"
      },
      "execution_count": null,
      "outputs": []
    }
  ],
  "metadata": {
    "kernelspec": {
      "display_name": "Python 3",
      "name": "python3"
    },
    "language_info": {
      "codemirror_mode": {
        "name": "ipython",
        "version": 3
      },
      "file_extension": ".py",
      "mimetype": "text/x-python",
      "name": "python",
      "nbconvert_exporter": "python",
      "pygments_lexer": "ipython3",
      "version": "3.12.2"
    },
    "colab": {
      "provenance": [],
      "gpuType": "A100",
      "include_colab_link": true
    },
    "accelerator": "GPU"
  },
  "nbformat": 4,
  "nbformat_minor": 0
}